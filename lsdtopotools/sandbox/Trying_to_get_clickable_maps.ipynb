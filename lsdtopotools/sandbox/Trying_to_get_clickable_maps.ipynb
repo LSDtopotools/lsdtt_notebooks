{
 "cells": [
  {
   "cell_type": "code",
   "execution_count": null,
   "id": "c664bf02",
   "metadata": {},
   "outputs": [],
   "source": [
    "!pip install lsdviztools --upgrade"
   ]
  },
  {
   "cell_type": "code",
   "execution_count": null,
   "id": "26db333c",
   "metadata": {},
   "outputs": [],
   "source": [
    "import lsdviztools.lsdmapwrappers as lsdmw\n",
    "\n",
    "## Get the basins\n",
    "lsdtt_parameters = {\"write_hillshade\" : \"true\"}\n",
    "r_prefix = \"OCR\"\n",
    "w_prefix = \"OCR\"\n",
    "lsdtt_drive = lsdmw.lsdtt_driver(command_line_tool = \"lsdtt-basic-metrics\",\n",
    "                                 read_prefix = r_prefix,\n",
    "                                 write_prefix= w_prefix,\n",
    "                                 read_path = \"./\",\n",
    "                                 write_path = \"./\",\n",
    "                                 parameter_dictionary=lsdtt_parameters)\n",
    "lsdtt_drive.print_parameters()\n",
    "lsdtt_drive.run_lsdtt_command_line_tool()"
   ]
  },
  {
   "cell_type": "code",
   "execution_count": null,
   "id": "149a9dc0",
   "metadata": {},
   "outputs": [],
   "source": [
    "DataDirectory = \"./\"\n",
    "r_prefix = \"OCR\"\n",
    "Base_file = r_prefix\n",
    "\n",
    "this_img = lsdmw.SimpleHillshade(DataDirectory,Base_file,cmap=\"gist_earth\", save_fig=True,\n",
    "                                 size_format=\"geomorphology\",dpi=500,\n",
    "                                 out_fname_prefix = \"hillshade_plot\")\n",
    "\n",
    "print(this_img)\n",
    "from IPython.display import display, Image\n",
    "display(Image(filename=this_img, width=800))"
   ]
  },
  {
   "cell_type": "code",
   "execution_count": null,
   "id": "b660e4e8",
   "metadata": {},
   "outputs": [],
   "source": [
    "%matplotlib inline\n",
    "import matplotlib.pyplot as plt\n",
    "\n",
    "# Define a callback function to handle mouse click events\n",
    "def onclick(event):\n",
    "    x, y = event.xdata, event.ydata\n",
    "    if x is not None and y is not None:\n",
    "        print(f'Clicked at x = {x:.2f}, y = {y:.2f}')\n",
    "\n",
    "# Create a Matplotlib figure and axis\n",
    "fig, ax = plt.subplots()\n",
    "\n",
    "# Plot some data (replace this with your data)\n",
    "x_data = [1, 2, 3, 4, 5]\n",
    "y_data = [10, 8, 6, 4, 2]\n",
    "ax.plot(x_data, y_data)\n",
    "\n",
    "# Connect the click event to the callback function\n",
    "cid = fig.canvas.mpl_connect('button_press_event', onclick)\n",
    "\n",
    "# Show the plot\n",
    "plt.show()"
   ]
  },
  {
   "cell_type": "code",
   "execution_count": null,
   "id": "c72987c8",
   "metadata": {},
   "outputs": [],
   "source": [
    "import rasterio\n",
    "import matplotlib.pyplot as plt"
   ]
  },
  {
   "cell_type": "code",
   "execution_count": null,
   "id": "79eb3ccd",
   "metadata": {},
   "outputs": [],
   "source": []
  },
  {
   "cell_type": "code",
   "execution_count": null,
   "id": "e49718e9",
   "metadata": {},
   "outputs": [],
   "source": [
    "%matplotlib inline\n",
    "# Replace 'your_map.tif' with the path to your raster file\n",
    "with rasterio.open('OCR.bil') as src:\n",
    "    # Read the image to visualize it\n",
    "    img = src.read()\n",
    "\n",
    "    # Plot the image\n",
    "    plt.figure()\n",
    "    plt.show()\n",
    "\n",
    "    # Create a function to handle mouse click events\n",
    "    def onclick(event):\n",
    "        x, y = event.xdata, event.ydata\n",
    "\n",
    "        # Convert pixel coordinates to map coordinates\n",
    "        lon, lat = src.xy(y, x)\n",
    "\n",
    "        print(f\"Mouse clicked at (X, Y): ({x}, {y})\")\n",
    "        print(f\"Corresponding Map Coordinates (Lat, Lon): ({lat}, {lon})\")\n",
    "\n",
    "    # Connect the onclick function to the figure\n",
    "    fig = plt.gcf()\n",
    "    fig.canvas.mpl_connect('button_press_event', onclick)\n",
    "\n",
    "    # Show the image with the ability to click on it\n",
    "    plt.show()"
   ]
  },
  {
   "cell_type": "code",
   "execution_count": null,
   "id": "843de1b3",
   "metadata": {},
   "outputs": [],
   "source": [
    "%matplotlib inline\n",
    "# Replace 'your_map.tif' with the path to your raster file\n",
    "with rasterio.open('OCR.bil') as src:\n",
    "    # Read the image to visualize it\n",
    "    img = src.read()\n",
    "\n",
    "# Plot the image\n",
    "plt.figure()\n",
    "show(img)\n",
    "plt.show()"
   ]
  },
  {
   "cell_type": "code",
   "execution_count": null,
   "id": "66e35507",
   "metadata": {},
   "outputs": [],
   "source": [
    "import rasterio\n",
    "from rasterio.plot import plotting_extent\n",
    "import numpy as np\n",
    "\n",
    "fig, ax = plt.subplots(1, figsize=(6, 6))\n",
    "\n",
    "with rasterio.open('OCR_hs.bil') as raster:\n",
    "    extent = plotting_extent(raster)\n",
    "    data = raster.read(1)\n",
    "    plt.imshow(data, extent=extent,cmap=\"gist_gray\",alpha=1, vmin = 0)\n",
    "    print(extent)\n",
    "    \n",
    "    print(np.amax(data))\n",
    "    print(np.amin(data))\n",
    "\n",
    "plt.show()"
   ]
  },
  {
   "cell_type": "code",
   "execution_count": null,
   "id": "5ff1e233",
   "metadata": {},
   "outputs": [],
   "source": [
    "%matplotlib notebook\n",
    "import rasterio\n",
    "from rasterio.plot import plotting_extent\n",
    "import numpy as np\n",
    "\n",
    "# Create an empty list to store the clicked coordinates\n",
    "clicked_coordinates = []\n",
    "\n",
    "UTM_zone = []\n",
    "UTM_NS = []\n",
    "\n",
    "with rasterio.open('OCR_hs.bil') as raster:\n",
    "    extent = plotting_extent(raster)\n",
    "    data = raster.read(1)\n",
    "    plt.imshow(data, extent=extent,cmap=\"gist_gray\",alpha=1, vmin = 0)\n",
    "    #print(extent)\n",
    "    \n",
    "    utm_zone = raster.crs.to_epsg()  \n",
    "    print(utm_zone)\n",
    "    \n",
    "    UTM_zone = utm_zone[:-2]\n",
    "    \n",
    "\n",
    "    # Create a function to handle mouse click events\n",
    "    def onclick(event):\n",
    "        x, y = event.xdata, event.ydata\n",
    "\n",
    "        # Convert pixel coordinates to map coordinates\n",
    "        lon, lat = raster.xy(y, x)\n",
    "        \n",
    "        # Append the coordinates to the list\n",
    "        clicked_coordinates.append((lat, lon))\n",
    "\n",
    "        print(f\"Mouse clicked at (X, Y): ({x}, {y})\")\n",
    "        print(f\"Corresponding Map Coordinates (Lat, Lon): ({lat}, {lon})\")\n",
    "\n",
    "    # Connect the onclick function to the figure\n",
    "    fig = plt.gcf()\n",
    "    fig.canvas.mpl_connect('button_press_event', onclick)\n",
    "\n",
    "    # Show the image with the ability to click on it\n",
    "    plt.show()"
   ]
  },
  {
   "cell_type": "code",
   "execution_count": null,
   "id": "e9ff4b35",
   "metadata": {},
   "outputs": [],
   "source": [
    "# After clicking on the map, the 'clicked_coordinates' list will contain the clicked coordinates.\n",
    "print(\"Clicked Coordinates:\")\n",
    "for coord in clicked_coordinates:\n",
    "    print(coord)"
   ]
  },
  {
   "cell_type": "code",
   "execution_count": null,
   "id": "e5598c8d",
   "metadata": {},
   "outputs": [],
   "source": [
    "UTM_zone"
   ]
  },
  {
   "cell_type": "code",
   "execution_count": null,
   "id": "20e137b1",
   "metadata": {},
   "outputs": [],
   "source": []
  }
 ],
 "metadata": {
  "kernelspec": {
   "display_name": "Python 3 (ipykernel)",
   "language": "python",
   "name": "python3"
  },
  "language_info": {
   "codemirror_mode": {
    "name": "ipython",
    "version": 3
   },
   "file_extension": ".py",
   "mimetype": "text/x-python",
   "name": "python",
   "nbconvert_exporter": "python",
   "pygments_lexer": "ipython3",
   "version": "3.9.13"
  }
 },
 "nbformat": 4,
 "nbformat_minor": 5
}
