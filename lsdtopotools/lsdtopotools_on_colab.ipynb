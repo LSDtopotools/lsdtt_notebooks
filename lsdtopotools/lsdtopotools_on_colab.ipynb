{
  "nbformat": 4,
  "nbformat_minor": 0,
  "metadata": {
    "colab": {
      "name": "A_fast_lsdtt_full_example.ipynb",
      "provenance": [],
      "authorship_tag": "ABX9TyN3IfjqgndoKAeg7+SO1M/5",
      "include_colab_link": true
    },
    "kernelspec": {
      "name": "python3",
      "display_name": "Python 3"
    }
  },
  "cells": [
    {
      "cell_type": "markdown",
      "metadata": {
        "id": "view-in-github",
        "colab_type": "text"
      },
      "source": [
        "<a href=\"https://colab.research.google.com/github/LSDtopotools/lsdtt_notebooks/blob/master/lsdtopotools/lsdtopotools_on_colab.ipynb\" target=\"_parent\"><img src=\"https://colab.research.google.com/assets/colab-badge.svg\" alt=\"Open In Colab\"/></a>"
      ]
    },
    {
      "cell_type": "markdown",
      "metadata": {
        "id": "i9aMBF6L0Qcq"
      },
      "source": [
        "# The full lsdtt stack on colab"
      ]
    },
    {
      "cell_type": "markdown",
      "metadata": {
        "id": "_1-a4ySnyFx8"
      },
      "source": [
        "If you execute the cells in this notebook, you will have a working copy of *lsdtopotools* (https://lsdtopotools.github.io/LSDTT_documentation/) which includes our visualisation tools and our command line tools. \n",
        "\n",
        "This document was last updated by Simon M. Mudd on 10/09/2021\n",
        "\n",
        "If you use this software for your research, please cite doi:10.5281/zenodo.4577879 (https://zenodo.org/record/4577879#.YFNm8q_7Q2w)\n",
        "\n",
        "More example notebooks can be found here: https://github.com/LSDtopotools/lsdtt_notebooks and here: https://github.com/simon-m-mudd/smm_teaching_notebooks but for those notebooks to work in colab you will need to run the below installation cells beforehand. "
      ]
    },
    {
      "cell_type": "markdown",
      "metadata": {
        "id": "9ndQL2_n0YU9"
      },
      "source": [
        "## First install the python tools"
      ]
    },
    {
      "cell_type": "markdown",
      "metadata": {
        "id": "oj8MfqZf0es9"
      },
      "source": [
        "We first install lsdviztools. This step takes about 45 seconds. "
      ]
    },
    {
      "cell_type": "code",
      "metadata": {
        "id": "Iwgail32dLMZ"
      },
      "source": [
        "!pip install lsdviztools &> /dev/null"
      ],
      "execution_count": null,
      "outputs": []
    },
    {
      "cell_type": "markdown",
      "metadata": {
        "id": "qywPCGLN71t2"
      },
      "source": [
        "## Now for the lsdtt command line tools"
      ]
    },
    {
      "cell_type": "markdown",
      "metadata": {
        "id": "AbJKrFWE7_BD"
      },
      "source": [
        "First we download miniconda, which takes about 30 seconds. We need this to install other parts of the software"
      ]
    },
    {
      "cell_type": "code",
      "metadata": {
        "id": "3E93NmEKc3dB"
      },
      "source": [
        "%%bash\n",
        "MINICONDA_INSTALLER_SCRIPT=Miniconda3-py37_4.8.2-Linux-x86_64.sh\n",
        "MINICONDA_PREFIX=/usr/local\n",
        "wget https://repo.anaconda.com/miniconda/$MINICONDA_INSTALLER_SCRIPT &> /dev/null\n",
        "chmod +x $MINICONDA_INSTALLER_SCRIPT\n",
        "./$MINICONDA_INSTALLER_SCRIPT -b -f -p $MINICONDA_PREFIX &> /dev/null"
      ],
      "execution_count": null,
      "outputs": []
    },
    {
      "cell_type": "markdown",
      "metadata": {
        "id": "71JXFWiA8z7j"
      },
      "source": [
        "The next step is to set the conda channels, install mamba (because it installs *lsdtopotools* much faster than conda) and then finally lsdtopotools. This takes ~3.5 minutes. "
      ]
    },
    {
      "cell_type": "code",
      "metadata": {
        "id": "gYN-31TXdtTy"
      },
      "source": [
        "!conda config --add channels conda-forge &> /dev/null\n",
        "!conda config --set channel_priority strict &> /dev/null\n",
        "!conda install -c conda-forge -y mamba &> /dev/null\n",
        "!mamba install -c conda-forge -y lsdtopotools &> /dev/null"
      ],
      "execution_count": null,
      "outputs": []
    },
    {
      "cell_type": "markdown",
      "metadata": {
        "id": "h4HfwnSp9mZt"
      },
      "source": [
        "## Test to see if it worked"
      ]
    },
    {
      "cell_type": "markdown",
      "metadata": {
        "id": "KviGFUDxeOPT"
      },
      "source": [
        "Now we perform some tests to see if it all worked. First we try to import some packages for visualisation. "
      ]
    },
    {
      "cell_type": "code",
      "metadata": {
        "id": "lXxdYzwl9pmW"
      },
      "source": [
        "import lsdviztools.lsdbasemaptools as bmt\n",
        "from lsdviztools.lsdplottingtools import lsdmap_gdalio as gio\n",
        "import lsdviztools.lsdmapwrappers as lsdmw"
      ],
      "execution_count": null,
      "outputs": []
    },
    {
      "cell_type": "markdown",
      "metadata": {
        "id": "n9NYw4nteXME"
      },
      "source": [
        "Now we download some data that we will look at using *lsdviztools*. "
      ]
    },
    {
      "cell_type": "code",
      "metadata": {
        "id": "oAigKMh_9stt"
      },
      "source": [
        "Dataset_prefix = \"SB\"\n",
        "SB_DEM = bmt.ot_scraper(source = \"SRTM30\",longitude_W = -120.464655, longitude_E = -120.254214, latitude_S = 34.440538, latitude_N = 34.610770,prefix = Dataset_prefix)\n",
        "SB_DEM.print_parameters()\n",
        "SB_DEM.download_pythonic()\n",
        "DataDirectory = \"./\"\n",
        "Fname = Dataset_prefix+\"_SRTMGL1.tif\"\n",
        "gio.convert4lsdtt(DataDirectory,Fname)"
      ],
      "execution_count": null,
      "outputs": []
    },
    {
      "cell_type": "code",
      "metadata": {
        "id": "KfqJANdH-sNI"
      },
      "source": [
        "lsdtt_parameters = {\"write_hillshade\" : \"true\",  \n",
        "                    \"surface_fitting_radius\" : \"60\",\n",
        "                    \"print_slope\" : \"true\"}\n",
        "r_prefix = Dataset_prefix+\"_SRTMGL1_UTM\"\n",
        "w_prefix = Dataset_prefix+\"_SRTMGL1_UTM\"\n",
        "lsdtt_drive = lsdmw.lsdtt_driver(read_prefix = r_prefix,\n",
        "                                 write_prefix= w_prefix,\n",
        "                                 read_path = \"./\",\n",
        "                                 write_path = \"./\",\n",
        "                                 parameter_dictionary=lsdtt_parameters)\n",
        "lsdtt_drive.print_parameters()\n",
        "lsdtt_drive.run_lsdtt_command_line_tool()"
      ],
      "execution_count": null,
      "outputs": []
    },
    {
      "cell_type": "code",
      "metadata": {
        "id": "fe_XQbC3-EM0"
      },
      "source": [
        "%matplotlib inline\n",
        "Base_file = Dataset_prefix+\"_SRTMGL1_UTM\"\n",
        "this_img = lsdmw.SimpleHillshade(DataDirectory,Base_file,cmap=\"gist_earth\", save_fig=False, size_format=\"geomorphology\")"
      ],
      "execution_count": null,
      "outputs": []
    },
    {
      "cell_type": "markdown",
      "metadata": {
        "id": "vv4qiRz9gWgP"
      },
      "source": [
        "## If you want to install lsdtopytools"
      ]
    },
    {
      "cell_type": "markdown",
      "metadata": {
        "id": "KFsY-MoAgX3v"
      },
      "source": [
        "*lsdtopytools* is another part of the *lsdtopotools* stack. You need to install it with mamba. This takes about 45 seconds. "
      ]
    },
    {
      "cell_type": "code",
      "metadata": {
        "id": "WsvQ7o7I-oG6"
      },
      "source": [
        "!mamba install -c conda-forge -y lsdtopytools &> /dev/null"
      ],
      "execution_count": null,
      "outputs": []
    }
  ]
}