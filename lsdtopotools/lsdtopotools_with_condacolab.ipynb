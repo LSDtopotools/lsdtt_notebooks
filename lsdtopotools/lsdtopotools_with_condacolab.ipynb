{
 "cells": [
  {
   "cell_type": "markdown",
   "metadata": {
    "colab_type": "text",
    "id": "view-in-github"
   },
   "source": [
    "<a href=\"https://colab.research.google.com/github/LSDtopotools/lsdtt_notebooks/blob/master/lsdtopotools/lsdtopotools_with_condacolab.ipynb\" target=\"_parent\"><img src=\"https://colab.research.google.com/assets/colab-badge.svg\" alt=\"Open In Colab\"/></a>"
   ]
  },
  {
   "cell_type": "markdown",
   "metadata": {
    "id": "yW8i9dkcKGuO"
   },
   "source": [
    "# Installing LSDTopoTools using condacolab"
   ]
  },
  {
   "cell_type": "markdown",
   "metadata": {
    "id": "n2HeS1x6m6v2"
   },
   "source": [
    "This is a starter notebook for installing LSDTopoTools using condacolab. It is a bit faster than other conda installations. "
   ]
  },
  {
   "cell_type": "markdown",
   "metadata": {
    "id": "M3Bfn0YanjIq"
   },
   "source": [
    "First install condacolab. You need to execute this before you do anything else. This step takes about 40 seconds. "
   ]
  },
  {
   "cell_type": "code",
   "execution_count": null,
   "metadata": {
    "id": "QdIvUR9cKKje"
   },
   "outputs": [],
   "source": [
    "!pip install -q condacolab\n",
    "import condacolab\n",
    "condacolab.install()"
   ]
  },
  {
   "cell_type": "markdown",
   "metadata": {
    "id": "Cv0Cbja1oF3p"
   },
   "source": [
    "Now use mamba to install `lsdtopotools`. This will install the command line tools. This step takes a bit over a minute. "
   ]
  },
  {
   "cell_type": "code",
   "execution_count": null,
   "metadata": {
    "id": "XvtS3ptLKLTz"
   },
   "outputs": [],
   "source": [
    "!mamba install lsdtopotools &> /dev/null"
   ]
  },
  {
   "cell_type": "code",
   "execution_count": null,
   "metadata": {
    "id": "hsdE__h9KgE_"
   },
   "outputs": [],
   "source": [
    "!lsdtt-basic-metrics"
   ]
  },
  {
   "cell_type": "markdown",
   "metadata": {
    "id": "9pQpx4cCK_II"
   },
   "source": [
    "Now we install stuff we need for using geospatial python. This takes a bit under 3 minutes.  "
   ]
  },
  {
   "cell_type": "code",
   "execution_count": null,
   "metadata": {
    "id": "ebh0Rubmoerz"
   },
   "outputs": [],
   "source": [
    "!mamba install gdal shapely rasterio geopandas fiona pyproj &> /dev/null"
   ]
  },
  {
   "cell_type": "markdown",
   "metadata": {
    "id": "tXMvZ9Njspl4"
   },
   "source": [
    "Finally install lsdviztools. Occasionally you need to run this line twice. I have no idea why that is. "
   ]
  },
  {
   "cell_type": "code",
   "execution_count": null,
   "metadata": {
    "id": "I7OPw4oOogZn"
   },
   "outputs": [],
   "source": [
    "!pip install lsdviztools"
   ]
  },
  {
   "cell_type": "markdown",
   "metadata": {
    "id": "SerUtctju6sY"
   },
   "source": [
    "## Check to see if everything is working"
   ]
  },
  {
   "cell_type": "code",
   "execution_count": null,
   "metadata": {
    "id": "JbfmQ9uQqCW0"
   },
   "outputs": [],
   "source": [
    "import lsdviztools.lsdbasemaptools as bmt\n",
    "from lsdviztools.lsdplottingtools import lsdmap_gdalio as gio\n",
    "import lsdviztools.lsdmapwrappers as lsdmw"
   ]
  },
  {
   "cell_type": "code",
   "execution_count": null,
   "metadata": {
    "id": "x1yLYQWiuKLh"
   },
   "outputs": [],
   "source": [
    "your_OT_api_key = \"Enter your opentopography API key here\""
   ]
  },
  {
   "cell_type": "code",
   "execution_count": null,
   "metadata": {
    "id": "g1A7BLJOqoVy"
   },
   "outputs": [],
   "source": [
    "Dataset_prefix = \"SB\"\n",
    "SB_DEM = bmt.ot_scraper(source = \"SRTMGL1\",longitude_W = -120.464655, longitude_E = -120.254214, \n",
    "                        latitude_S = 34.440538, latitude_N = 34.610770,\n",
    "                        prefix = Dataset_prefix, api_key = your_OT_api_key)\n",
    "SB_DEM.print_parameters()\n",
    "SB_DEM.download_pythonic()\n",
    "DataDirectory = \"./\"\n",
    "Fname = Dataset_prefix+\"_SRTMGL1.tif\"\n",
    "gio.convert4lsdtt(DataDirectory,Fname)"
   ]
  },
  {
   "cell_type": "code",
   "execution_count": null,
   "metadata": {
    "id": "Km3cCtieqrxh"
   },
   "outputs": [],
   "source": [
    "lsdtt_parameters = {\"write_hillshade\" : \"true\",  \n",
    "                    \"surface_fitting_radius\" : \"60\",\n",
    "                    \"print_slope\" : \"true\"}\n",
    "r_prefix = Dataset_prefix+\"_SRTMGL1_UTM\"\n",
    "w_prefix = Dataset_prefix+\"_SRTMGL1_UTM\"\n",
    "lsdtt_drive = lsdmw.lsdtt_driver(read_prefix = r_prefix,\n",
    "                                 write_prefix= w_prefix,\n",
    "                                 read_path = \"./\",\n",
    "                                 write_path = \"./\",\n",
    "                                 parameter_dictionary=lsdtt_parameters)\n",
    "lsdtt_drive.print_parameters()\n",
    "lsdtt_drive.run_lsdtt_command_line_tool()\n"
   ]
  },
  {
   "cell_type": "code",
   "execution_count": null,
   "metadata": {
    "id": "c7DOk3I3r5Tx"
   },
   "outputs": [],
   "source": [
    "%matplotlib inline\n",
    "Base_file = Dataset_prefix+\"_SRTMGL1_UTM\"\n",
    "this_img = lsdmw.SimpleHillshade(DataDirectory,Base_file,cmap=\"gist_earth\", save_fig=False, size_format=\"geomorphology\")"
   ]
  },
  {
   "cell_type": "code",
   "execution_count": null,
   "metadata": {
    "id": "SiRdLtSxr8Hq"
   },
   "outputs": [],
   "source": []
  }
 ],
 "metadata": {
  "colab": {
   "authorship_tag": "ABX9TyP31sy/1e9Bw24cHfsLMS4/",
   "include_colab_link": true,
   "name": "lsdtopotools_with_condacolab.ipynb",
   "provenance": []
  },
  "kernelspec": {
   "display_name": "Python 3 (ipykernel)",
   "language": "python",
   "name": "python3"
  },
  "language_info": {
   "codemirror_mode": {
    "name": "ipython",
    "version": 3
   },
   "file_extension": ".py",
   "mimetype": "text/x-python",
   "name": "python",
   "nbconvert_exporter": "python",
   "pygments_lexer": "ipython3",
   "version": "3.8.10"
  }
 },
 "nbformat": 4,
 "nbformat_minor": 1
}
