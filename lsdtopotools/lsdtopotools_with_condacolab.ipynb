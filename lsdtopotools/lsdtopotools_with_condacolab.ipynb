{
  "nbformat": 4,
  "nbformat_minor": 0,
  "metadata": {
    "colab": {
      "name": "lsdtopotools_with_condacolab.ipynb",
      "provenance": [],
      "authorship_tag": "ABX9TyP31sy/1e9Bw24cHfsLMS4/",
      "include_colab_link": true
    },
    "kernelspec": {
      "name": "python3",
      "display_name": "Python 3"
    },
    "language_info": {
      "name": "python"
    }
  },
  "cells": [
    {
      "cell_type": "markdown",
      "metadata": {
        "id": "view-in-github",
        "colab_type": "text"
      },
      "source": [
        "<a href=\"https://colab.research.google.com/github/LSDtopotools/lsdtt_notebooks/blob/master/lsdtopotools/lsdtopotools_with_condacolab.ipynb\" target=\"_parent\"><img src=\"https://colab.research.google.com/assets/colab-badge.svg\" alt=\"Open In Colab\"/></a>"
      ]
    },
    {
      "cell_type": "markdown",
      "source": [
        "# Installing LSDTopoTools using condacolab"
      ],
      "metadata": {
        "id": "yW8i9dkcKGuO"
      }
    },
    {
      "cell_type": "markdown",
      "source": [
        "This is a starter notebook for installing LSDTopoTools using condacolab. It is a bit faster than other conda installations. "
      ],
      "metadata": {
        "id": "n2HeS1x6m6v2"
      }
    },
    {
      "cell_type": "markdown",
      "source": [
        "First install condacolab. You need to execute this before you do anything else. This step takes about 40 seconds. "
      ],
      "metadata": {
        "id": "M3Bfn0YanjIq"
      }
    },
    {
      "cell_type": "code",
      "source": [
        "!pip install -q condacolab\n",
        "import condacolab\n",
        "condacolab.install()"
      ],
      "metadata": {
        "id": "QdIvUR9cKKje"
      },
      "execution_count": null,
      "outputs": []
    },
    {
      "cell_type": "markdown",
      "source": [
        "Now use mamba to install `lsdtopotools`. This will install the command line tools. This step takes a bit over a minute. "
      ],
      "metadata": {
        "id": "Cv0Cbja1oF3p"
      }
    },
    {
      "cell_type": "code",
      "source": [
        "!mamba install lsdtopotools &> /dev/null"
      ],
      "metadata": {
        "id": "XvtS3ptLKLTz"
      },
      "execution_count": null,
      "outputs": []
    },
    {
      "cell_type": "code",
      "source": [
        "!lsdtt-basic-metrics"
      ],
      "metadata": {
        "id": "hsdE__h9KgE_"
      },
      "execution_count": null,
      "outputs": []
    },
    {
      "cell_type": "markdown",
      "source": [
        "Now we install stuff we need for using geospatial python. This takes a bit under 3 minutes.  "
      ],
      "metadata": {
        "id": "9pQpx4cCK_II"
      }
    },
    {
      "cell_type": "code",
      "source": [
        "!mamba install gdal shapely rasterio geopandas fiona pyproj &> /dev/null"
      ],
      "metadata": {
        "id": "ebh0Rubmoerz"
      },
      "execution_count": null,
      "outputs": []
    },
    {
      "cell_type": "markdown",
      "source": [
        "Finally install lsdviztools. Occasionally you need to run this line twice. I have no idea why that is. "
      ],
      "metadata": {
        "id": "tXMvZ9Njspl4"
      }
    },
    {
      "cell_type": "code",
      "source": [
        "!pip install lsdviztools"
      ],
      "metadata": {
        "id": "I7OPw4oOogZn"
      },
      "execution_count": null,
      "outputs": []
    },
    {
      "cell_type": "markdown",
      "source": [
        "## Check to see if everything is working"
      ],
      "metadata": {
        "id": "SerUtctju6sY"
      }
    },
    {
      "cell_type": "code",
      "source": [
        "import lsdviztools.lsdbasemaptools as bmt\n",
        "from lsdviztools.lsdplottingtools import lsdmap_gdalio as gio\n",
        "import lsdviztools.lsdmapwrappers as lsdmw"
      ],
      "metadata": {
        "id": "JbfmQ9uQqCW0"
      },
      "execution_count": null,
      "outputs": []
    },
    {
      "cell_type": "code",
      "source": [
        "your_OT_api_key = \"Enter your opentopography API key here\""
      ],
      "metadata": {
        "id": "x1yLYQWiuKLh"
      },
      "execution_count": null,
      "outputs": []
    },
    {
      "cell_type": "code",
      "source": [
        "Dataset_prefix = \"SB\"\n",
        "SB_DEM = bmt.ot_scraper(source = \"SRTMGL1\",longitude_W = -120.464655, longitude_E = -120.254214, \n",
        "                        latitude_S = 34.440538, latitude_N = 34.610770,\n",
        "                        prefix = Dataset_prefix, api_key = your_OT_api_key)\n",
        "SB_DEM.print_parameters()\n",
        "SB_DEM.download_pythonic()\n",
        "DataDirectory = \"./\"\n",
        "Fname = Dataset_prefix+\"_SRTMGL1.tif\"\n",
        "gio.convert4lsdtt(DataDirectory,Fname)"
      ],
      "metadata": {
        "id": "g1A7BLJOqoVy"
      },
      "execution_count": null,
      "outputs": []
    },
    {
      "cell_type": "code",
      "source": [
        "lsdtt_parameters = {\"write_hillshade\" : \"true\",  \n",
        "                    \"surface_fitting_radius\" : \"60\",\n",
        "                    \"print_slope\" : \"true\"}\n",
        "r_prefix = Dataset_prefix+\"_SRTMGL1_UTM\"\n",
        "w_prefix = Dataset_prefix+\"_SRTMGL1_UTM\"\n",
        "lsdtt_drive = lsdmw.lsdtt_driver(read_prefix = r_prefix,\n",
        "                                 write_prefix= w_prefix,\n",
        "                                 read_path = \"./\",\n",
        "                                 write_path = \"./\",\n",
        "                                 parameter_dictionary=lsdtt_parameters)\n",
        "lsdtt_drive.print_parameters()\n",
        "lsdtt_drive.run_lsdtt_command_line_tool()\n"
      ],
      "metadata": {
        "id": "Km3cCtieqrxh"
      },
      "execution_count": null,
      "outputs": []
    },
    {
      "cell_type": "code",
      "source": [
        "%matplotlib inline\n",
        "Base_file = Dataset_prefix+\"_SRTMGL1_UTM\"\n",
        "this_img = lsdmw.SimpleHillshade(DataDirectory,Base_file,cmap=\"gist_earth\", save_fig=False, size_format=\"geomorphology\")"
      ],
      "metadata": {
        "id": "c7DOk3I3r5Tx"
      },
      "execution_count": null,
      "outputs": []
    },
    {
      "cell_type": "code",
      "source": [
        ""
      ],
      "metadata": {
        "id": "SiRdLtSxr8Hq"
      },
      "execution_count": null,
      "outputs": []
    }
  ]
}