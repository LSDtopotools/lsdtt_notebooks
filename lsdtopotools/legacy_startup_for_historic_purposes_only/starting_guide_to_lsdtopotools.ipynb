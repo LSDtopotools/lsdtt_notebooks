{
 "cells": [
  {
   "cell_type": "markdown",
   "metadata": {
    "colab_type": "text",
    "id": "view-in-github"
   },
   "source": [
    "<a href=\"https://colab.research.google.com/github/LSDtopotools/lsdtt_notebooks/blob/master/lsdtopotools/starting_guide_to_lsdtopotools.ipynb\" target=\"_parent\"><img src=\"https://colab.research.google.com/assets/colab-badge.svg\" alt=\"Open In Colab\"/></a>"
   ]
  },
  {
   "cell_type": "markdown",
   "metadata": {
    "id": "i9aMBF6L0Qcq"
   },
   "source": [
    "# Starter's guide to lsdtopotools without condacolab (LEGACY ONLY. NEW USERS SHOULD USE CONDACOLAB)"
   ]
  },
  {
   "cell_type": "markdown",
   "metadata": {
    "id": "_1-a4ySnyFx8"
   },
   "source": [
    "This is a starter's guide to *lsdtopotools* (https://lsdtopotools.github.io/LSDTT_documentation/) which includes our visualisation tools and our command line tools. \n",
    "\n",
    "This document was last updated by Simon M. Mudd on 16/09/2022\n",
    "\n",
    "**This version does not use condacolab. `condacolab` is now the preferred installation method.**\n",
    "\n",
    "**Please see the notebook `lsdtopotools_with_condacolab` or any of the other notebooks in this directory.**\n",
    "\n",
    "This notebook gives a very basic tour of the *lsdtopotools* command line tools. \n",
    "\n",
    "**You need to first install lsdtopotools, which is done using something called conda. I'm afraid it takes a few minutes to install when you start this notebook.**\n",
    "\n",
    "If you use this software for your research, please cite https://doi.org/10.5281/zenodo.3245040"
   ]
  },
  {
   "cell_type": "markdown",
   "metadata": {
    "id": "9ndQL2_n0YU9"
   },
   "source": [
    "## First install the python tools"
   ]
  },
  {
   "cell_type": "markdown",
   "metadata": {
    "id": "oj8MfqZf0es9"
   },
   "source": [
    "We first install lsdviztools. This step takes about 45 seconds. "
   ]
  },
  {
   "cell_type": "code",
   "execution_count": null,
   "metadata": {
    "id": "Iwgail32dLMZ"
   },
   "outputs": [],
   "source": [
    "!pip install lsdviztools &> /dev/null"
   ]
  },
  {
   "cell_type": "markdown",
   "metadata": {
    "id": "qywPCGLN71t2"
   },
   "source": [
    "## Now install lsdtt command line tools (will take ~4 minutes total)"
   ]
  },
  {
   "cell_type": "markdown",
   "metadata": {
    "id": "AbJKrFWE7_BD"
   },
   "source": [
    "First we download miniconda, which takes about 30 seconds. We need this to install other parts of the software"
   ]
  },
  {
   "cell_type": "code",
   "execution_count": null,
   "metadata": {
    "id": "3E93NmEKc3dB"
   },
   "outputs": [],
   "source": [
    "%%bash\n",
    "MINICONDA_INSTALLER_SCRIPT=Miniconda3-py37_4.8.2-Linux-x86_64.sh\n",
    "MINICONDA_PREFIX=/usr/local\n",
    "wget https://repo.anaconda.com/miniconda/$MINICONDA_INSTALLER_SCRIPT &> /dev/null\n",
    "chmod +x $MINICONDA_INSTALLER_SCRIPT\n",
    "./$MINICONDA_INSTALLER_SCRIPT -b -f -p $MINICONDA_PREFIX &> /dev/null"
   ]
  },
  {
   "cell_type": "markdown",
   "metadata": {
    "id": "71JXFWiA8z7j"
   },
   "source": [
    "The next step is to set the conda channels, install mamba (because it installs *lsdtopotools* much faster than conda) and then finally lsdtopotools. This takes ~3.5 minutes. "
   ]
  },
  {
   "cell_type": "code",
   "execution_count": null,
   "metadata": {
    "id": "gYN-31TXdtTy"
   },
   "outputs": [],
   "source": [
    "!conda config --add channels conda-forge &> /dev/null\n",
    "!conda config --set channel_priority strict &> /dev/null\n",
    "!conda install -c conda-forge -y mamba &> /dev/null\n",
    "!mamba install -c conda-forge -y lsdtopotools &> /dev/null"
   ]
  },
  {
   "cell_type": "markdown",
   "metadata": {
    "id": "h4HfwnSp9mZt"
   },
   "source": [
    "## Test to see if it worked"
   ]
  },
  {
   "cell_type": "markdown",
   "metadata": {
    "id": "KviGFUDxeOPT"
   },
   "source": [
    "Now we perform some tests to see if it all worked. First we try to import some packages for visualisation. "
   ]
  },
  {
   "cell_type": "code",
   "execution_count": null,
   "metadata": {
    "id": "lXxdYzwl9pmW"
   },
   "outputs": [],
   "source": [
    "import lsdviztools.lsdbasemaptools as bmt\n",
    "from lsdviztools.lsdplottingtools import lsdmap_gdalio as gio\n",
    "import lsdviztools.lsdmapwrappers as lsdmw"
   ]
  },
  {
   "cell_type": "markdown",
   "metadata": {
    "id": "n9NYw4nteXME"
   },
   "source": [
    "Now we download some data that we will look at using *lsdviztools*. "
   ]
  },
  {
   "cell_type": "code",
   "execution_count": null,
   "metadata": {
    "colab": {
     "base_uri": "https://localhost:8080/",
     "height": 611
    },
    "id": "oAigKMh_9stt",
    "outputId": "e51bdeed-374e-4489-c222-ab65a1b4c8d6"
   },
   "outputs": [],
   "source": [
    "Dataset_prefix = \"SB\"\n",
    "\n",
    "# YOU NEED TO PUT YOUR API KEY IN A FILE\n",
    "your_OT_api_key_file = \"my_OT_api_key.txt\"\n",
    "\n",
    "with open(your_OT_api_key_file, 'r') as file:\n",
    "    print(\"I am reading you OT API key from the file \"+your_OT_api_key_file)\n",
    "    api_key = file.read().rstrip()\n",
    "    print(\"Your api key starts with: \"+api_key[0:4])\n",
    "\n",
    "\n",
    "SB_DEM = bmt.ot_scraper(source = \"SRTM30\",longitude_W = -120.464655, longitude_E = -120.254214, \n",
    "                        latitude_S = 34.440538, latitude_N = 34.610770,\n",
    "                        prefix = Dataset_prefix,\n",
    "                        api_key_file = your_OT_api_key_file)\n",
    "SB_DEM.print_parameters()\n",
    "SB_DEM.download_pythonic()\n",
    "DataDirectory = \"./\"\n",
    "Fname = Dataset_prefix+\"_SRTMGL1.tif\"\n",
    "gio.convert4lsdtt(DataDirectory,Fname)"
   ]
  },
  {
   "cell_type": "code",
   "execution_count": null,
   "metadata": {
    "colab": {
     "base_uri": "https://localhost:8080/"
    },
    "id": "KfqJANdH-sNI",
    "outputId": "39c37969-eb16-4489-e3a3-ec8155b1b168"
   },
   "outputs": [],
   "source": [
    "lsdtt_parameters = {\"write_hillshade\" : \"true\",  \n",
    "                    \"surface_fitting_radius\" : \"60\",\n",
    "                    \"print_slope\" : \"true\"}\n",
    "r_prefix = Dataset_prefix+\"_SRTMGL1_UTM\"\n",
    "w_prefix = Dataset_prefix+\"_SRTMGL1_UTM\"\n",
    "lsdtt_drive = lsdmw.lsdtt_driver(read_prefix = r_prefix,\n",
    "                                 write_prefix= w_prefix,\n",
    "                                 read_path = \"./\",\n",
    "                                 write_path = \"./\",\n",
    "                                 parameter_dictionary=lsdtt_parameters)\n",
    "lsdtt_drive.print_parameters()\n",
    "lsdtt_drive.run_lsdtt_command_line_tool()"
   ]
  },
  {
   "cell_type": "code",
   "execution_count": null,
   "metadata": {
    "colab": {
     "base_uri": "https://localhost:8080/",
     "height": 1000
    },
    "id": "fe_XQbC3-EM0",
    "outputId": "b1ae560b-dd97-4453-d836-16870be5122b"
   },
   "outputs": [],
   "source": [
    "%matplotlib inline\n",
    "Base_file = Dataset_prefix+\"_SRTMGL1_UTM\"\n",
    "this_img = lsdmw.SimpleHillshade(DataDirectory,Base_file,cmap=\"gist_earth\", save_fig=False, size_format=\"geomorphology\")"
   ]
  },
  {
   "cell_type": "markdown",
   "metadata": {
    "id": "hbhFvsBoNSnG"
   },
   "source": [
    "If you got an image after the last command, it means that `lsdtopotools` and `lsdviztools` are both working. Congratulations! You are now ready for a basic introduction."
   ]
  },
  {
   "cell_type": "markdown",
   "metadata": {
    "id": "vv4qiRz9gWgP"
   },
   "source": [
    "## Now for a basic introduction"
   ]
  },
  {
   "cell_type": "markdown",
   "metadata": {
    "id": "KFsY-MoAgX3v"
   },
   "source": [
    "Okay, *lsdtopotools* is not actually in python. We have a very simple python interface for it, however, which calls the underlying *lsdtopotools* commands. \n",
    "\n",
    "So if it is not python, what is it? Well, *lsdtopotools* is a series of **command line tools**. There are (presently) 6 of them: \n",
    "\n",
    "*   `lsdtt-basic-metrics`\n",
    "*   `lsdtt-chi-mapping`\n",
    "*   `lsdtt-channel-extraction`\n",
    "*   `lsdtt-cosmo-tool`\n",
    "*   `lsdtt-valley-metrics`\n",
    "*   `lsdtt-hillslope-channel-coupling`\n"
   ]
  },
  {
   "cell_type": "markdown",
   "metadata": {
    "id": "_sfU56JFOygl"
   },
   "source": [
    "### Wait, what is a command line tool?\n"
   ]
  },
  {
   "cell_type": "markdown",
   "metadata": {
    "id": "e5YAzHK2O4i-"
   },
   "source": [
    "You can call a command line tool with the `!` character in a notebook. Here is a very simple command line call, which shows us what files we have sitting here. "
   ]
  },
  {
   "cell_type": "code",
   "execution_count": null,
   "metadata": {
    "colab": {
     "base_uri": "https://localhost:8080/"
    },
    "id": "wcVK4ZaePLJ-",
    "outputId": "0749e1ee-1dd3-4251-b5e6-35bf5feb95ec"
   },
   "outputs": [],
   "source": [
    "!ls"
   ]
  },
  {
   "cell_type": "markdown",
   "metadata": {
    "id": "cvQQqfAsPRbd"
   },
   "source": [
    "Now let's call one of the *lsdtopotools* command line tools. "
   ]
  },
  {
   "cell_type": "code",
   "execution_count": null,
   "metadata": {
    "colab": {
     "base_uri": "https://localhost:8080/"
    },
    "id": "fvkkzOrmPN-i",
    "outputId": "89916302-2c1f-4425-ac0e-45eaa75a7cc6"
   },
   "outputs": [],
   "source": [
    "!lsdtt-basic-metrics"
   ]
  },
  {
   "cell_type": "markdown",
   "metadata": {
    "id": "pF3kzHXOPZv5"
   },
   "source": [
    "The above text means that the system sees `lsdtt-basic-metrics` but it hasn't run any analysis because you need to give it something called a `driver` file. This is basically a list of commands. So what commands can you give it? You can call for help, which spits out a comma separated value file (a bit like a simple excel file) that we can look (I will use `pandas` for this because it is the best way to look at csv files). "
   ]
  },
  {
   "cell_type": "code",
   "execution_count": null,
   "metadata": {
    "colab": {
     "base_uri": "https://localhost:8080/"
    },
    "id": "WsvQ7o7I-oG6",
    "outputId": "1a4374fd-9c72-4d2e-914e-8a7f0a9bf421"
   },
   "outputs": [],
   "source": [
    "!lsdtt-basic-metrics -h"
   ]
  },
  {
   "cell_type": "code",
   "execution_count": null,
   "metadata": {
    "colab": {
     "base_uri": "https://localhost:8080/",
     "height": 243
    },
    "id": "R-8FhcIjP8TV",
    "outputId": "088801a6-5e46-463e-db83-c52c90d05da2"
   },
   "outputs": [],
   "source": [
    "import pandas as pd\n",
    "pd.__version__\n",
    "lsdttbm_help = pd.read_csv('lsdtt-basic-metrics-README.csv',error_bad_lines=False)\n",
    "lsdttbm_help.head(5)"
   ]
  },
  {
   "cell_type": "markdown",
   "metadata": {
    "id": "S_ld4lRGSZLV"
   },
   "source": [
    "What you see above is just the first few lines of all the stuff you can tell `lsdtt-basic-metrics` to do. The switches to turn on different topographic analyses are the ones where the `type` is a boolean. "
   ]
  },
  {
   "cell_type": "code",
   "execution_count": null,
   "metadata": {
    "colab": {
     "base_uri": "https://localhost:8080/",
     "height": 363
    },
    "id": "Q0dvx5N8QAvs",
    "outputId": "c2033c74-1a86-45ae-d065-d397ae32b235"
   },
   "outputs": [],
   "source": [
    "lsdttbm_switches = lsdttbm_help[lsdttbm_help['type'] == \"bool\"]\n",
    "lsdttbm_switches.head(10)"
   ]
  },
  {
   "cell_type": "markdown",
   "metadata": {
    "id": "bw4DqAo6TT2P"
   },
   "source": [
    "Yes, there are many, many of these in `lsdtt-basic-metrics`. The other tools don't have as many options. Okay, how do I use these? \n",
    "\n",
    "If you were a linux native you would write a file to tell `lsdtopotools` what to do. But in the python environment we feed the instructions as a dictionary, like the following:"
   ]
  },
  {
   "cell_type": "code",
   "execution_count": null,
   "metadata": {
    "id": "3-H0-KGmTJjh"
   },
   "outputs": [],
   "source": [
    "lsdtt_parameters = {\"write_hillshade\" : \"true\",  \n",
    "                    \"surface_fitting_radius\" : \"60\",\n",
    "                    \"print_slope\" : \"true\"}"
   ]
  },
  {
   "cell_type": "markdown",
   "metadata": {
    "id": "3RXouDnNT6Us"
   },
   "source": [
    "**Important** you need to always have quotation marks (even if the value you use is a number).\n",
    "\n",
    "To make the dictionary you have the name of the parameter (in quotation marks), then a colon, then the value of the parameter (in quotation marks). These are all contained in curly brackets and separated by commas.\n",
    "\n",
    "This above dictionary is the set of commands used to make the hillshade in the first test. This command also makes a slope map. The dictionary itself doesn't do anything, you need to call the driver "
   ]
  },
  {
   "cell_type": "code",
   "execution_count": null,
   "metadata": {
    "id": "_vpJeWExTvuz"
   },
   "outputs": [],
   "source": []
  }
 ],
 "metadata": {
  "colab": {
   "authorship_tag": "ABX9TyNmAiE2V6hjlDl1B6s7QKim",
   "include_colab_link": true,
   "name": "starting_guide_to_lsdtopotools.ipynb",
   "provenance": []
  },
  "kernelspec": {
   "display_name": "Python 3 (ipykernel)",
   "language": "python",
   "name": "python3"
  },
  "language_info": {
   "codemirror_mode": {
    "name": "ipython",
    "version": 3
   },
   "file_extension": ".py",
   "mimetype": "text/x-python",
   "name": "python",
   "nbconvert_exporter": "python",
   "pygments_lexer": "ipython3",
   "version": "3.8.13"
  }
 },
 "nbformat": 4,
 "nbformat_minor": 1
}
