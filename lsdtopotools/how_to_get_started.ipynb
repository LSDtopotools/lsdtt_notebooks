{
 "cells": [
  {
   "cell_type": "markdown",
   "id": "d5d59654",
   "metadata": {},
   "source": [
    "# How to get started using `lsdtopotools`"
   ]
  },
  {
   "cell_type": "markdown",
   "id": "24353c03",
   "metadata": {},
   "source": [
    "Last updated by Simon M Mudd 09/05/2024"
   ]
  },
  {
   "cell_type": "markdown",
   "id": "49f31c50",
   "metadata": {},
   "source": [
    "Welcome to `lsdtt_notebooks` and `lsdtopotools`!\n",
    "\n",
    "In this repository you will find a number of notebooks that have example analyses using `lsdtopotools`. \n",
    "\n",
    "`lsdtopotools` consists of a handful of programs that do topographic analysis. You can install these using `conda`. \n",
    "\n",
    "The programs are run from the command line, and they read a text file (we call this a \"driver file\") that has instructions. \n",
    "\n",
    "However, there are many people who would rather do things in the python environment, so we provide some python wrappers to this command line. \n",
    "\n",
    "We also provide python visualisation tools so you can look at the data. \n",
    "\n",
    "`lsdviztools` is the python package that wraps both `lsdtopotools` and provides visualisation support. \n",
    "\n",
    "`lsdviztools` is designed to create publication or presentation-ready images. It is not a flexible plotting package. For data exploreation you can use things like `pandas`, `shapely` and `rasterio` since all `lsdtopotools` outputs are either GIS compatible or in `csv` format. "
   ]
  },
  {
   "cell_type": "markdown",
   "id": "7ac3a818",
   "metadata": {},
   "source": [
    "## How do I install this software?"
   ]
  },
  {
   "cell_type": "markdown",
   "id": "6e6ce13d",
   "metadata": {},
   "source": [
    "You have three choices to work with the software:\n",
    "1. Install in google colab. Instructions are below. All you need for this is a google account and a web browser.\n",
    "2. Install using our docker container. You need docker desktop for this. \n",
    "3. Install your own software stack. You will need either `mamba` or `conda` to do this. If you don't know what those are then you should use the other options. `lsdtopotools` is on `conda-forge`. You need to use `pip` to install `lsdviztools` but you will need the geospatial stack installed as well (`gdal`, `rasterio`, `fiona`, `pyproj`, `utm`, `cartopy`, and `geopandas` are all required). "
   ]
  },
  {
   "cell_type": "markdown",
   "id": "c7f18458",
   "metadata": {},
   "source": [
    "### Google colab"
   ]
  },
  {
   "cell_type": "markdown",
   "id": "ea523c73",
   "metadata": {},
   "source": [
    "Any google colab session can be turned into an `lsdtopotools` session with the following few cells. It takes about 2 minutes to get it working:"
   ]
  },
  {
   "cell_type": "markdown",
   "id": "Ck6Y73gLvbS8",
   "metadata": {
    "id": "Ck6Y73gLvbS8"
   },
   "source": [
    "First we install `lsdviztools`. This will take around a minute. It is important you do this before the `condacolab` step. "
   ]
  },
  {
   "cell_type": "code",
   "execution_count": null,
   "id": "Pj2pwsxkvbS8",
   "metadata": {
    "id": "Pj2pwsxkvbS8"
   },
   "outputs": [],
   "source": [
    "!pip install lsdviztools &> /dev/null"
   ]
  },
  {
   "cell_type": "markdown",
   "id": "Fq9UDKZrvbS8",
   "metadata": {
    "id": "Fq9UDKZrvbS8"
   },
   "source": [
    "Now we need to install lsdtopotools. We do this using something called `mamba`. To get `mamba` we install something called `condacolab`. "
   ]
  },
  {
   "cell_type": "code",
   "execution_count": null,
   "id": "ea215034",
   "metadata": {
    "id": "ea215034"
   },
   "outputs": [],
   "source": [
    "!pip install -q condacolab\n",
    "import condacolab\n",
    "condacolab.install()"
   ]
  },
  {
   "cell_type": "markdown",
   "id": "9b8c3e17",
   "metadata": {
    "id": "9b8c3e17"
   },
   "source": [
    "Now use mamba to install `lsdtopotools`. \n",
    "This step takes a bit over a minute. "
   ]
  },
  {
   "cell_type": "code",
   "execution_count": null,
   "id": "0568f44f",
   "metadata": {
    "id": "0568f44f"
   },
   "outputs": [],
   "source": [
    "!mamba install -y lsdtopotools &> /dev/null"
   ]
  },
  {
   "cell_type": "markdown",
   "id": "kNDf3rzQvJca",
   "metadata": {
    "id": "kNDf3rzQvJca"
   },
   "source": [
    "The next line tests to see if it worked. If you get some output asking for a parameter file then `lsdtopotools` is installed. This notebook was tested on version 0.8."
   ]
  },
  {
   "cell_type": "code",
   "execution_count": null,
   "id": "ee7ab7dc",
   "metadata": {
    "id": "ee7ab7dc"
   },
   "outputs": [],
   "source": [
    "!lsdtt-basic-metrics -v"
   ]
  },
  {
   "cell_type": "markdown",
   "id": "53010774",
   "metadata": {},
   "source": [
    "### Docker container"
   ]
  },
  {
   "cell_type": "markdown",
   "id": "c5c8424c",
   "metadata": {},
   "source": [
    "See the instructions here: https://hub.docker.com/r/lsdtopotools/lsdtt_pytools_docker \n",
    "\n",
    "Once you run this container you will have the full software stack for running `lsdtopotools`."
   ]
  },
  {
   "cell_type": "markdown",
   "id": "842b38e9",
   "metadata": {},
   "source": [
    "### Local install"
   ]
  },
  {
   "cell_type": "markdown",
   "id": "5e2e95eb",
   "metadata": {},
   "source": [
    "In a conda environment, you can install `lsdtopotools` from `conda-forge`. \n",
    "\n",
    "If you want to see what else is required have a look at the dockerfile: https://github.com/LSDtopotools/lsdtt_pytools_docker/blob/master/Dockerfile\n",
    "\n",
    "You can mimic the buid that is there. \n",
    "\n",
    "**Warning** it takes over an hour to build an environment with the full geospatial stack. Why not spend 2 minutes downloading this docker container instead?"
   ]
  },
  {
   "cell_type": "markdown",
   "id": "1abbfd2d",
   "metadata": {},
   "source": [
    "## What is in these notebooks?"
   ]
  },
  {
   "cell_type": "markdown",
   "id": "d37136d2",
   "metadata": {},
   "source": [
    "We have a number of examples in the subdirectories for you to explore. Most have a link to google colab so you can just start running analyses in a browser without installing anything. \n",
    "\n",
    "The filenames should be self explanitory. "
   ]
  },
  {
   "cell_type": "markdown",
   "id": "e2660086",
   "metadata": {},
   "source": [
    "## Where is the full documentation for `lsdtopotools`"
   ]
  },
  {
   "cell_type": "markdown",
   "id": "7da003df",
   "metadata": {},
   "source": [
    "Well, I'm afraid that the formal documentation is lagging behind development. \n",
    "\n",
    "But you can generate a help file for any of the command line tools using the `-h` flag. \n",
    "\n",
    "In python, this can be called with the `!` symbol, which accesses the command line. Like this:"
   ]
  },
  {
   "cell_type": "code",
   "execution_count": 7,
   "id": "23968b37",
   "metadata": {},
   "outputs": [
    {
     "name": "stdout",
     "output_type": "stream",
     "text": [
      "=========================================================\n",
      "|| Welcome to the chi mapping tool!                    ||\n",
      "|| This program has a number of options to make chi    ||\n",
      "|| plots and to map out slopes in chi space.           ||\n",
      "|| This program was developed by Simon M. Mudd         ||\n",
      "|| Fiona J. Clubb,    Boris Gailleton                  ||\n",
      "|| David T Milodowski, and Declan Valters              ||\n",
      "||  at the University of Edinburgh                     ||\n",
      "|| and Martin D Hurst at the University of Glasgow.    ||\n",
      "=========================================================\n",
      "|| Citation for this code is:                          ||\n",
      "|| http://doi.org/10.5281/zenodo.4577879\n",
      "|| If you use the k_sn routines please cite:           ||\n",
      "|| https://www.doi.org/10.1002/2013JF002981            ||\n",
      "|| If you use the concavity routines please cite:      ||\n",
      "|| https://www.doi.org/10.5194/esurf-6-505-2018        ||\n",
      "|| If you use the knickpoint routines please cite:     ||\n",
      "|| https://www.doi.org/10.5194/esurf-7-211-2019        ||\n",
      "=========================================================\n",
      "|| Documentation can be found at:                      ||\n",
      "|| https://lsdtopotools.github.io/LSDTT_documentation/ ||\n",
      "=========================================================\n",
      "|| This is LSDTopoTools2 version                       ||\n",
      "|| 0.7\n",
      "|| If the version number has a d at the end it is a    ||\n",
      "||  development version.                               ||\n",
      "=========================================================\n",
      "=========================================================\n",
      "|| You have called an LSDTopoTools program.            ||\n",
      "|| Prepare to explore topographic data!                ||\n",
      "|| You can find some examples of usage here:           ||\n",
      "|| https://github.com/LSDtopotools/lsdtt_notebooks     ||\n",
      "=========================================================\n",
      "I have one argument. I don't know if this is a directory path\n",
      "or a driver filename. I am going to assume it is a directory path\n",
      "if it containes the character . or /\n",
      "I am going to print a help file. There will be a .csv and a .html version. \n",
      "These files have README in the filename.\n",
      "Parsing the file\n",
      "Hello, I am going to parse your LSDTopoTools parameter file for you. \n",
      "The parameter filename is: ./cry_for_help.txt\n",
      "\n",
      "\n",
      "\n",
      "----------------------\n",
      "Parsing the file I/O\n",
      "I did not find a read path so I am assuming the file is in this current directory.\n",
      "The full read fname is:\n",
      " ./cry_for_help\n",
      "The full write fname is:\n",
      " ./cry_for_help\n",
      "===============================\n",
      "WARNING!!! This program requires georeferencing so only ENVI bil format\n",
      "Topographic data will be allowed!!\n",
      "This is not the same as ESRI bil. In gdal use -of ENVI to ouput to ENVI bil\n",
      "===============================\n",
      "\n",
      "\n",
      "=====================================\n",
      "I am going to check your parameters and fix ones likeley to lead to segmentation faults.\n",
      "I am going to print the help and exit.\n",
      "You can find the help in the file:\n",
      "./lsdtt-chi-mapping-README.csv\n",
      "Printing the help files to: \n",
      "./lsdtt-chi-mapping-README.csv\n",
      "./lsdtt-chi-mapping-README.html\n"
     ]
    }
   ],
   "source": [
    "!lsdtt-chi-mapping -h"
   ]
  },
  {
   "cell_type": "markdown",
   "id": "bf42152a",
   "metadata": {},
   "source": [
    "That produces both an html list of parameters, and also a `csv` file. \n",
    "\n",
    "In general the main options for analysis are denoted by boolean operators, so you can load the csv file as a pandas dataframe, isolate the `bool` parameters and look at what options you have:"
   ]
  },
  {
   "cell_type": "code",
   "execution_count": 8,
   "id": "41cfa77f",
   "metadata": {},
   "outputs": [
    {
     "data": {
      "text/html": [
       "<div>\n",
       "<style scoped>\n",
       "    .dataframe tbody tr th:only-of-type {\n",
       "        vertical-align: middle;\n",
       "    }\n",
       "\n",
       "    .dataframe tbody tr th {\n",
       "        vertical-align: top;\n",
       "    }\n",
       "\n",
       "    .dataframe thead th {\n",
       "        text-align: right;\n",
       "    }\n",
       "</style>\n",
       "<table border=\"1\" class=\"dataframe\">\n",
       "  <thead>\n",
       "    <tr style=\"text-align: right;\">\n",
       "      <th></th>\n",
       "      <th>name</th>\n",
       "      <th>type</th>\n",
       "      <th>default</th>\n",
       "      <th>description</th>\n",
       "      <th>guidance</th>\n",
       "    </tr>\n",
       "  </thead>\n",
       "  <tbody>\n",
       "    <tr>\n",
       "      <th>0</th>\n",
       "      <td>version</td>\n",
       "      <td>0.7</td>\n",
       "      <td>citation</td>\n",
       "      <td>http://doi.org/10.5281/zenodo.4577879</td>\n",
       "      <td>please also look at statements printed by cod...</td>\n",
       "    </tr>\n",
       "    <tr>\n",
       "      <th>1</th>\n",
       "      <td>A_0</td>\n",
       "      <td>float</td>\n",
       "      <td>1.0</td>\n",
       "      <td>The A_0 parameter for chi computation. See htt...</td>\n",
       "      <td>Usually set to 1 so that the slope in chi-elev...</td>\n",
       "    </tr>\n",
       "    <tr>\n",
       "      <th>2</th>\n",
       "      <td>BaselevelJunctions_file</td>\n",
       "      <td>string</td>\n",
       "      <td>NaN</td>\n",
       "      <td>The name of a csv file with basin outlets for ...</td>\n",
       "      <td>An old method. You should use get_basins_from_...</td>\n",
       "    </tr>\n",
       "    <tr>\n",
       "      <th>3</th>\n",
       "      <td>CHeads_file</td>\n",
       "      <td>string</td>\n",
       "      <td>NaN</td>\n",
       "      <td>The name of a channel heads file.</td>\n",
       "      <td>You can output this csv file with the channel ...</td>\n",
       "    </tr>\n",
       "    <tr>\n",
       "      <th>4</th>\n",
       "      <td>MCMC_chain_links</td>\n",
       "      <td>float</td>\n",
       "      <td>5000</td>\n",
       "      <td>For concavity analysis. Legacy method. No long...</td>\n",
       "      <td>Old method. Don't use. For concavity analysis ...</td>\n",
       "    </tr>\n",
       "  </tbody>\n",
       "</table>\n",
       "</div>"
      ],
      "text/plain": [
       "                      name    type   default  \\\n",
       "0                  version     0.7  citation   \n",
       "1                      A_0   float       1.0   \n",
       "2  BaselevelJunctions_file  string       NaN   \n",
       "3              CHeads_file  string       NaN   \n",
       "4         MCMC_chain_links   float      5000   \n",
       "\n",
       "                                         description  \\\n",
       "0              http://doi.org/10.5281/zenodo.4577879   \n",
       "1  The A_0 parameter for chi computation. See htt...   \n",
       "2  The name of a csv file with basin outlets for ...   \n",
       "3                  The name of a channel heads file.   \n",
       "4  For concavity analysis. Legacy method. No long...   \n",
       "\n",
       "                                            guidance  \n",
       "0   please also look at statements printed by cod...  \n",
       "1  Usually set to 1 so that the slope in chi-elev...  \n",
       "2  An old method. You should use get_basins_from_...  \n",
       "3  You can output this csv file with the channel ...  \n",
       "4  Old method. Don't use. For concavity analysis ...  "
      ]
     },
     "execution_count": 8,
     "metadata": {},
     "output_type": "execute_result"
    }
   ],
   "source": [
    "import pandas as pd\n",
    "cm_df = pd.read_csv(\"lsdtt-chi-mapping-README.csv\")\n",
    "vhead()"
   ]
  },
  {
   "cell_type": "markdown",
   "id": "c3f5e85f",
   "metadata": {},
   "source": [
    "Now lets isolate the boolean operators to see what sorts of analyses we can run:"
   ]
  },
  {
   "cell_type": "code",
   "execution_count": 11,
   "id": "47395886",
   "metadata": {},
   "outputs": [
    {
     "data": {
      "text/html": [
       "<div>\n",
       "<style scoped>\n",
       "    .dataframe tbody tr th:only-of-type {\n",
       "        vertical-align: middle;\n",
       "    }\n",
       "\n",
       "    .dataframe tbody tr th {\n",
       "        vertical-align: top;\n",
       "    }\n",
       "\n",
       "    .dataframe thead th {\n",
       "        text-align: right;\n",
       "    }\n",
       "</style>\n",
       "<table border=\"1\" class=\"dataframe\">\n",
       "  <thead>\n",
       "    <tr style=\"text-align: right;\">\n",
       "      <th></th>\n",
       "      <th>name</th>\n",
       "      <th>type</th>\n",
       "      <th>default</th>\n",
       "      <th>description</th>\n",
       "      <th>guidance</th>\n",
       "    </tr>\n",
       "  </thead>\n",
       "  <tbody>\n",
       "    <tr>\n",
       "      <th>5</th>\n",
       "      <td>MCMC_movern_analysis</td>\n",
       "      <td>bool</td>\n",
       "      <td>false</td>\n",
       "      <td>For concavity analysis. A method we no longer ...</td>\n",
       "      <td>Old method. Don't use. For concavity analysis ...</td>\n",
       "    </tr>\n",
       "    <tr>\n",
       "      <th>18</th>\n",
       "      <td>bootstrap_SA_data</td>\n",
       "      <td>bool</td>\n",
       "      <td>false</td>\n",
       "      <td>For S--A analysis this subsamples many times t...</td>\n",
       "      <td>Turn this on if you want uncertainty for S--A ...</td>\n",
       "    </tr>\n",
       "    <tr>\n",
       "      <th>21</th>\n",
       "      <td>burn_raster_to_csv</td>\n",
       "      <td>bool</td>\n",
       "      <td>false</td>\n",
       "      <td>Takes a raster with burn_raster_prefix and the...</td>\n",
       "      <td>Useful for adding raster data to csv file. Oft...</td>\n",
       "    </tr>\n",
       "    <tr>\n",
       "      <th>22</th>\n",
       "      <td>calculate_MLE_collinearity</td>\n",
       "      <td>bool</td>\n",
       "      <td>false</td>\n",
       "      <td>For concavity analysis. Calculates MLE for eac...</td>\n",
       "      <td>Used in concavity analysis.</td>\n",
       "    </tr>\n",
       "    <tr>\n",
       "      <th>23</th>\n",
       "      <td>calculate_MLE_collinearity_with_points</td>\n",
       "      <td>bool</td>\n",
       "      <td>false</td>\n",
       "      <td>For concavity analysis. You can now just use e...</td>\n",
       "      <td>Used in concavity analysis. See Mudd et al 201...</td>\n",
       "    </tr>\n",
       "    <tr>\n",
       "      <th>24</th>\n",
       "      <td>calculate_MLE_collinearity_with_points_MC</td>\n",
       "      <td>bool</td>\n",
       "      <td>false</td>\n",
       "      <td>For concavity analysis. This uses random selec...</td>\n",
       "      <td>Used in concavity analysis. See Mudd et al 201...</td>\n",
       "    </tr>\n",
       "    <tr>\n",
       "      <th>25</th>\n",
       "      <td>carve_before_fill</td>\n",
       "      <td>bool</td>\n",
       "      <td>false</td>\n",
       "      <td>This implements a breaching algorithm before f...</td>\n",
       "      <td>Good for landscapes with DEM obstructions (lik...</td>\n",
       "    </tr>\n",
       "    <tr>\n",
       "      <th>26</th>\n",
       "      <td>check_chi_maps</td>\n",
       "      <td>bool</td>\n",
       "      <td>false</td>\n",
       "      <td>A debugging tool.</td>\n",
       "      <td>You don't need this unless you are Simon and y...</td>\n",
       "    </tr>\n",
       "    <tr>\n",
       "      <th>28</th>\n",
       "      <td>convert_csv_to_geojson</td>\n",
       "      <td>bool</td>\n",
       "      <td>false</td>\n",
       "      <td>Converts csv files to geojson files</td>\n",
       "      <td>Makes csv output easier to read with a GIS. Wa...</td>\n",
       "    </tr>\n",
       "    <tr>\n",
       "      <th>29</th>\n",
       "      <td>create_network</td>\n",
       "      <td>bool</td>\n",
       "      <td>false</td>\n",
       "      <td>This will sample the channel network to get n...</td>\n",
       "      <td>Set parameter link_length to define target spa...</td>\n",
       "    </tr>\n",
       "    <tr>\n",
       "      <th>31</th>\n",
       "      <td>disorder_use_uncert</td>\n",
       "      <td>bool</td>\n",
       "      <td>false</td>\n",
       "      <td>For concavity analysis. The most useful test a...</td>\n",
       "      <td>For concavity analysis see Mudd et al 2018 ESURF</td>\n",
       "    </tr>\n",
       "    <tr>\n",
       "      <th>32</th>\n",
       "      <td>estimate_best_fit_movern</td>\n",
       "      <td>bool</td>\n",
       "      <td>false</td>\n",
       "      <td>This is the key switch for concavity analysis ...</td>\n",
       "      <td>See Mudd et al 2018 ESURF https://doi.org/10.5...</td>\n",
       "    </tr>\n",
       "    <tr>\n",
       "      <th>33</th>\n",
       "      <td>estimate_best_fit_movern_no_bootstrap</td>\n",
       "      <td>bool</td>\n",
       "      <td>false</td>\n",
       "      <td>This is the key switch for concavity analysis ...</td>\n",
       "      <td>See Mudd et al 2018 ESURF https://doi.org/10.5...</td>\n",
       "    </tr>\n",
       "    <tr>\n",
       "      <th>34</th>\n",
       "      <td>extend_channel_to_node_before_receiver_junction</td>\n",
       "      <td>bool</td>\n",
       "      <td>true</td>\n",
       "      <td>For various basin extractions the basin snaps ...</td>\n",
       "      <td>If false it will pick the donor junction of th...</td>\n",
       "    </tr>\n",
       "    <tr>\n",
       "      <th>35</th>\n",
       "      <td>find_complete_basins_in_window</td>\n",
       "      <td>bool</td>\n",
       "      <td>true</td>\n",
       "      <td>Deletes basins that have pixels at the edge.</td>\n",
       "      <td>S-A analysis and chi analysis wont work if you...</td>\n",
       "    </tr>\n",
       "    <tr>\n",
       "      <th>36</th>\n",
       "      <td>find_largest_complete_basins</td>\n",
       "      <td>bool</td>\n",
       "      <td>false</td>\n",
       "      <td>Deletes basins that have pixels at the edge an...</td>\n",
       "      <td>This gets superseded by newer basin extraction.</td>\n",
       "    </tr>\n",
       "    <tr>\n",
       "      <th>38</th>\n",
       "      <td>force_all_basins</td>\n",
       "      <td>bool</td>\n",
       "      <td>false</td>\n",
       "      <td>This overrides deletion of nested basins.</td>\n",
       "      <td>Breaks lots of analyses so frequently is ignored.</td>\n",
       "    </tr>\n",
       "    <tr>\n",
       "      <th>41</th>\n",
       "      <td>get_basins_from_outlets</td>\n",
       "      <td>bool</td>\n",
       "      <td>false</td>\n",
       "      <td>Switches on the outlet based basin finding.</td>\n",
       "      <td>See BaselevelJunctions_file for format of outl...</td>\n",
       "    </tr>\n",
       "    <tr>\n",
       "      <th>43</th>\n",
       "      <td>ksn_knickpoint_analysis</td>\n",
       "      <td>bool</td>\n",
       "      <td>false</td>\n",
       "      <td>Run the knickpoint analysis</td>\n",
       "      <td>See Gailleton et al 2019 ESURF for details</td>\n",
       "    </tr>\n",
       "    <tr>\n",
       "      <th>49</th>\n",
       "      <td>mask_chi_coordinate_raster_with_basins</td>\n",
       "      <td>bool</td>\n",
       "      <td>false</td>\n",
       "      <td>This only prints this chi coordinate raster un...</td>\n",
       "      <td>For visualisation. It looks cool when you drap...</td>\n",
       "    </tr>\n",
       "  </tbody>\n",
       "</table>\n",
       "</div>"
      ],
      "text/plain": [
       "                                               name  type default  \\\n",
       "5                              MCMC_movern_analysis  bool   false   \n",
       "18                                bootstrap_SA_data  bool   false   \n",
       "21                               burn_raster_to_csv  bool   false   \n",
       "22                       calculate_MLE_collinearity  bool   false   \n",
       "23           calculate_MLE_collinearity_with_points  bool   false   \n",
       "24        calculate_MLE_collinearity_with_points_MC  bool   false   \n",
       "25                                carve_before_fill  bool   false   \n",
       "26                                   check_chi_maps  bool   false   \n",
       "28                           convert_csv_to_geojson  bool   false   \n",
       "29                                   create_network  bool   false   \n",
       "31                              disorder_use_uncert  bool   false   \n",
       "32                         estimate_best_fit_movern  bool   false   \n",
       "33            estimate_best_fit_movern_no_bootstrap  bool   false   \n",
       "34  extend_channel_to_node_before_receiver_junction  bool    true   \n",
       "35                   find_complete_basins_in_window  bool    true   \n",
       "36                     find_largest_complete_basins  bool   false   \n",
       "38                                 force_all_basins  bool   false   \n",
       "41                          get_basins_from_outlets  bool   false   \n",
       "43                          ksn_knickpoint_analysis  bool   false   \n",
       "49           mask_chi_coordinate_raster_with_basins  bool   false   \n",
       "\n",
       "                                          description  \\\n",
       "5   For concavity analysis. A method we no longer ...   \n",
       "18  For S--A analysis this subsamples many times t...   \n",
       "21  Takes a raster with burn_raster_prefix and the...   \n",
       "22  For concavity analysis. Calculates MLE for eac...   \n",
       "23  For concavity analysis. You can now just use e...   \n",
       "24  For concavity analysis. This uses random selec...   \n",
       "25  This implements a breaching algorithm before f...   \n",
       "26                                  A debugging tool.   \n",
       "28                Converts csv files to geojson files   \n",
       "29   This will sample the channel network to get n...   \n",
       "31  For concavity analysis. The most useful test a...   \n",
       "32  This is the key switch for concavity analysis ...   \n",
       "33  This is the key switch for concavity analysis ...   \n",
       "34  For various basin extractions the basin snaps ...   \n",
       "35       Deletes basins that have pixels at the edge.   \n",
       "36  Deletes basins that have pixels at the edge an...   \n",
       "38          This overrides deletion of nested basins.   \n",
       "41        Switches on the outlet based basin finding.   \n",
       "43                        Run the knickpoint analysis   \n",
       "49  This only prints this chi coordinate raster un...   \n",
       "\n",
       "                                             guidance  \n",
       "5   Old method. Don't use. For concavity analysis ...  \n",
       "18  Turn this on if you want uncertainty for S--A ...  \n",
       "21  Useful for adding raster data to csv file. Oft...  \n",
       "22                        Used in concavity analysis.  \n",
       "23  Used in concavity analysis. See Mudd et al 201...  \n",
       "24  Used in concavity analysis. See Mudd et al 201...  \n",
       "25  Good for landscapes with DEM obstructions (lik...  \n",
       "26  You don't need this unless you are Simon and y...  \n",
       "28  Makes csv output easier to read with a GIS. Wa...  \n",
       "29  Set parameter link_length to define target spa...  \n",
       "31   For concavity analysis see Mudd et al 2018 ESURF  \n",
       "32  See Mudd et al 2018 ESURF https://doi.org/10.5...  \n",
       "33  See Mudd et al 2018 ESURF https://doi.org/10.5...  \n",
       "34  If false it will pick the donor junction of th...  \n",
       "35  S-A analysis and chi analysis wont work if you...  \n",
       "36    This gets superseded by newer basin extraction.  \n",
       "38  Breaks lots of analyses so frequently is ignored.  \n",
       "41  See BaselevelJunctions_file for format of outl...  \n",
       "43         See Gailleton et al 2019 ESURF for details  \n",
       "49  For visualisation. It looks cool when you drap...  "
      ]
     },
     "execution_count": 11,
     "metadata": {},
     "output_type": "execute_result"
    }
   ],
   "source": [
    "bool_df = cm_df.loc[cm_df.type == \"bool\"]\n",
    "bool_df.head(20)"
   ]
  },
  {
   "cell_type": "code",
   "execution_count": null,
   "id": "ac284af8",
   "metadata": {},
   "outputs": [],
   "source": []
  }
 ],
 "metadata": {
  "kernelspec": {
   "display_name": "Python 3 (ipykernel)",
   "language": "python",
   "name": "python3"
  },
  "language_info": {
   "codemirror_mode": {
    "name": "ipython",
    "version": 3
   },
   "file_extension": ".py",
   "mimetype": "text/x-python",
   "name": "python",
   "nbconvert_exporter": "python",
   "pygments_lexer": "ipython3",
   "version": "3.9.16"
  }
 },
 "nbformat": 4,
 "nbformat_minor": 5
}
