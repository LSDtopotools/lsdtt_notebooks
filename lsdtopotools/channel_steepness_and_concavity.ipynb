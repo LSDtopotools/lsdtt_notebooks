{
  "nbformat": 4,
  "nbformat_minor": 0,
  "metadata": {
    "colab": {
      "name": "channel_steepness_and_concavity.ipynb",
      "provenance": [],
      "collapsed_sections": [],
      "authorship_tag": "ABX9TyMP94T9V6KoEP52yyIRqgvq",
      "include_colab_link": true
    },
    "kernelspec": {
      "name": "python3",
      "display_name": "Python 3"
    },
    "language_info": {
      "name": "python"
    }
  },
  "cells": [
    {
      "cell_type": "markdown",
      "metadata": {
        "id": "view-in-github",
        "colab_type": "text"
      },
      "source": [
        "<a href=\"https://colab.research.google.com/github/LSDtopotools/lsdtt_notebooks/blob/master/lsdtopotools/channel_steepness_and_concavity.ipynb\" target=\"_parent\"><img src=\"https://colab.research.google.com/assets/colab-badge.svg\" alt=\"Open In Colab\"/></a>"
      ]
    },
    {
      "cell_type": "markdown",
      "source": [
        "# Analysing channel steepness and the concavity index with lsdtt-chi-mapping"
      ],
      "metadata": {
        "id": "9nsIBxZD16L3"
      }
    },
    {
      "cell_type": "markdown",
      "source": [
        "`lsdtt-chi-mapping` is one of the command line tools included in *LSDTopoTools*. This part of *LSDTopoTools* contains many routines for looking at channel steepness indices as well as concavity indices. \n",
        "\n",
        "If you want more background you can read these two papers:\n",
        "\n",
        "* Mudd, S.M., Attal, M., Milodowski, D.T., Grieve, S.W.D., Valters, D.A., 2014. A statistical framework to quantify spatial variation in channel gradients using the integral method of channel profile analysis. Journal of Geophysical Research: Earth Surface 119, 138–152. https://doi.org/10.1002/2013JF002981\n",
        "\n",
        "* Mudd, S.M., Clubb, F.J., Gailleton, B., Hurst, M.D., 2018. How concave are river channels? Earth Surface Dynamics 6, 505–523. https://doi.org/10.5194/esurf-6-505-2018\n"
      ],
      "metadata": {
        "id": "3NRy5488MJUc"
      }
    },
    {
      "cell_type": "markdown",
      "source": [
        "## Stuff we need to do if you are in colab (not required in the lsdtopotools pytools container)"
      ],
      "metadata": {
        "id": "QKy7_wKyMn9K"
      }
    },
    {
      "cell_type": "markdown",
      "source": [
        "First we install `lsdviztools`. \n",
        "\n",
        "Note that if we install `condacolab` first the `lsdviztools` installation fails. "
      ],
      "metadata": {
        "id": "UVnt20YbQgIN"
      }
    },
    {
      "cell_type": "code",
      "source": [
        "!pip install lsdviztools"
      ],
      "metadata": {
        "id": "Se7ToFPsPBp6"
      },
      "execution_count": null,
      "outputs": []
    },
    {
      "cell_type": "markdown",
      "source": [
        "Now we need to install lsdtopotools. We do this using something called `condacolab`. "
      ],
      "metadata": {
        "id": "LNOjp2ocMzFE"
      }
    },
    {
      "cell_type": "code",
      "source": [
        "!pip install -q condacolab\n",
        "import condacolab\n",
        "condacolab.install()"
      ],
      "metadata": {
        "id": "QdIvUR9cKKje"
      },
      "execution_count": null,
      "outputs": []
    },
    {
      "cell_type": "markdown",
      "source": [
        "Now install `lsdtopotools`. The `&> /dev/null` bit just stops a bunch of rubbish being printed to the screen."
      ],
      "metadata": {
        "id": "OXv9Ha5WN_n5"
      }
    },
    {
      "cell_type": "code",
      "source": [
        "!mamba install lsdtopotools &> /dev/null"
      ],
      "metadata": {
        "id": "XvtS3ptLKLTz"
      },
      "execution_count": null,
      "outputs": []
    },
    {
      "cell_type": "markdown",
      "source": [
        "## Download some data"
      ],
      "metadata": {
        "id": "2fm6F358Q8U7"
      }
    },
    {
      "cell_type": "markdown",
      "source": [
        "We need to get some data to download. \n",
        "\n",
        "For this example we will work nean Xi'an, China (西安) that we studied in this paper:\n",
        "\n",
        "* Wang, Y.Z., Mudd, S.M., 2021. Evidence for and against landscape transience in the Northern Qinling Mountains, China. Geomorphology 391, 107890. https://doi.org/10.1016/j.geomorph.2021.107890\n",
        "\n",
        "We are going to download data using the opentopography scraper that is included with `lsdviztools`. You will need to get an opentopography.org account and copy in your API key. \n",
        "\n",
        "You can sign up to an opentopography.org account here: https://portal.opentopography.org/myopentopo "
      ],
      "metadata": {
        "id": "uMTDXJCUOSAG"
      }
    },
    {
      "cell_type": "code",
      "source": [
        "import lsdviztools.lsdbasemaptools as bmt\n",
        "from lsdviztools.lsdplottingtools import lsdmap_gdalio as gio\n",
        "\n",
        "# MAKE SURE YOU ENTER YOUR API KEY\n",
        "your_OT_api_key = \"YOUR API KEY HERE\"\n",
        "\n",
        "Dataset_prefix = \"Xian\"\n",
        "source_name = \"COP30\"\n",
        "\n",
        "Xian_DEM = bmt.ot_scraper(source = source_name,\n",
        "                        lower_left_coordinates = [33.672715066202954, 107.54480443333152], \n",
        "                        upper_right_coordinates = [34.16323953210814, 109.4363649228437],\n",
        "                        prefix = Dataset_prefix, \n",
        "                        api_key = your_OT_api_key)\n",
        "Xian_DEM.print_parameters()\n",
        "Xian_DEM.download_pythonic()\n",
        "DataDirectory = \"./\"\n",
        "Fname = Dataset_prefix+\"_\"+source_name+\".tif\"\n",
        "gio.convert4lsdtt(DataDirectory,Fname)"
      ],
      "metadata": {
        "id": "m1yFGUrRInsF"
      },
      "execution_count": null,
      "outputs": []
    },
    {
      "cell_type": "markdown",
      "source": [
        "## A simple hillshade image"
      ],
      "metadata": {
        "id": "-JBxt-UzUyG6"
      }
    },
    {
      "cell_type": "markdown",
      "source": [
        "We can run `lsdtt-chi-mapping` with a little interface in `lsdviztools` called the `lsdtt_driver`. Here we are only going to write a hillshade raster.  "
      ],
      "metadata": {
        "id": "GUpjSjbIVFx9"
      }
    },
    {
      "cell_type": "code",
      "source": [
        "import lsdviztools.lsdmapwrappers as lsdmw"
      ],
      "metadata": {
        "id": "dc6526yjU9PO"
      },
      "execution_count": null,
      "outputs": []
    },
    {
      "cell_type": "code",
      "source": [
        "lsdtt_parameters = {\"write_hillshade\" : \"true\"}\n",
        "r_prefix = Dataset_prefix+\"_\"+source_name +\"_UTM\"\n",
        "w_prefix = Dataset_prefix+\"_\"+source_name +\"_UTM\"\n",
        "lsdtt_drive = lsdmw.lsdtt_driver(command_line_tool = \"lsdtt-chi-mapping\", \n",
        "                                 read_prefix = r_prefix,\n",
        "                                 write_prefix= w_prefix,\n",
        "                                 read_path = \"./\",\n",
        "                                 write_path = \"./\",\n",
        "                                 parameter_dictionary=lsdtt_parameters)\n",
        "lsdtt_drive.print_parameters()\n",
        "lsdtt_drive.run_lsdtt_command_line_tool()"
      ],
      "metadata": {
        "id": "w1XfYaIwUQi_"
      },
      "execution_count": null,
      "outputs": []
    },
    {
      "cell_type": "markdown",
      "source": [
        "We can plot the image using a `lsdviztools` function. I am printing this to a file and then using the image display option since it allows us to make the figure a bit bigger and in addition you can keep the png image for other uses later. "
      ],
      "metadata": {
        "id": "HpvY7gvMWUwX"
      }
    },
    {
      "cell_type": "markdown",
      "source": [
        "You can save the figure as well. This allows you to show it in this notebook in a larger format:"
      ],
      "metadata": {
        "id": "7MxzlYJuW1pJ"
      }
    },
    {
      "cell_type": "code",
      "source": [
        "# Use the capture comment to get rid of all the text\n",
        "# But it will also not display an inline image\n",
        "# So you need to call the image from the next line of code\n",
        "%%capture             \n",
        "Base_file = r_prefix\n",
        "this_img = lsdmw.SimpleHillshade(DataDirectory,Base_file,cmap=\"gist_earth\", \n",
        "                                 save_fig=True, size_format=\"geomorphology\",dpi=600)"
      ],
      "metadata": {
        "id": "X90Qe6pi5QUf"
      },
      "execution_count": null,
      "outputs": []
    },
    {
      "cell_type": "code",
      "source": [
        "print(this_img)\n",
        "from IPython.display import display, Image\n",
        "display(Image(filename=this_img, width=800))"
      ],
      "metadata": {
        "id": "94PC5hmM6BWG"
      },
      "execution_count": null,
      "outputs": []
    },
    {
      "cell_type": "markdown",
      "source": [
        "# Selecting basins"
      ],
      "metadata": {
        "id": "2fgfcu2XJ5xK"
      }
    },
    {
      "cell_type": "markdown",
      "source": [
        "*LSDTopoTools* automates selection of basins. The default way it does this is to grab basins within a window of contributing sizes. Here is an example:"
      ],
      "metadata": {
        "id": "KZoX_vt3iSXb"
      }
    },
    {
      "cell_type": "code",
      "source": [
        "lsdtt_parameters = {\"print_basin_raster\" : \"true\",\n",
        "                    \"minimum_basin_size_pixels\" : \"10000\",\n",
        "                    \"maximum_basin_size_pixels\" : \"5000000\"}\n",
        "r_prefix = Dataset_prefix+\"_\"+source_name +\"_UTM\"\n",
        "w_prefix = Dataset_prefix+\"_\"+source_name +\"_UTM\"\n",
        "lsdtt_drive = lsdmw.lsdtt_driver(command_line_tool = \"lsdtt-chi-mapping\", \n",
        "                                 read_prefix = r_prefix,\n",
        "                                 write_prefix= w_prefix,\n",
        "                                 read_path = \"./\",\n",
        "                                 write_path = \"./\",\n",
        "                                 parameter_dictionary=lsdtt_parameters)\n",
        "lsdtt_drive.print_parameters()\n",
        "lsdtt_drive.run_lsdtt_command_line_tool()"
      ],
      "metadata": {
        "id": "MsxXOdRvigFL"
      },
      "execution_count": null,
      "outputs": []
    },
    {
      "cell_type": "code",
      "source": [
        "%%capture             \n",
        "Base_file = r_prefix\n",
        "basins_img = lsdmw.PrintBasins_Complex(DataDirectory,Base_file,cmap=\"gist_earth\", \n",
        "                             size_format=\"geomorphology\",dpi=600, save_fig = True)"
      ],
      "metadata": {
        "id": "MyJormwbJG3C"
      },
      "execution_count": null,
      "outputs": []
    },
    {
      "cell_type": "code",
      "source": [
        "print(basins_img)\n",
        "from IPython.display import display, Image\n",
        "display(Image(filename=basins_img, width=800))"
      ],
      "metadata": {
        "id": "Y_0pbMhsjc9E"
      },
      "execution_count": null,
      "outputs": []
    },
    {
      "cell_type": "code",
      "source": [
        "This is a bit messy. "
      ],
      "metadata": {
        "id": "XzZYKh26kRnC"
      },
      "execution_count": null,
      "outputs": []
    },
    {
      "cell_type": "code",
      "source": [
        ""
      ],
      "metadata": {
        "id": "AjjbN07skRkz"
      },
      "execution_count": null,
      "outputs": []
    },
    {
      "cell_type": "code",
      "source": [
        ""
      ],
      "metadata": {
        "id": "MM3id10yj3ko"
      },
      "execution_count": null,
      "outputs": []
    }
  ]
}