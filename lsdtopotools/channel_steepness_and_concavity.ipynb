{
 "cells": [
  {
   "cell_type": "markdown",
   "metadata": {
    "colab_type": "text",
    "id": "view-in-github"
   },
   "source": [
    "<a href=\"https://colab.research.google.com/github/LSDtopotools/lsdtt_notebooks/blob/master/lsdtopotools/channel_steepness_and_concavity.ipynb\" target=\"_parent\"><img src=\"https://colab.research.google.com/assets/colab-badge.svg\" alt=\"Open In Colab\"/></a>"
   ]
  },
  {
   "cell_type": "markdown",
   "metadata": {
    "id": "9nsIBxZD16L3"
   },
   "source": [
    "# Analysing channel steepness and the concavity index with lsdtt-chi-mapping"
   ]
  },
  {
   "cell_type": "markdown",
   "metadata": {
    "id": "3NRy5488MJUc"
   },
   "source": [
    "`lsdtt-chi-mapping` is one of the command line tools included in *LSDTopoTools*. This part of *LSDTopoTools* contains many routines for looking at channel steepness indices as well as concavity indices. \n",
    "\n",
    "If you want more background you can read these two papers:\n",
    "\n",
    "* Mudd, S.M., Attal, M., Milodowski, D.T., Grieve, S.W.D., Valters, D.A., 2014. A statistical framework to quantify spatial variation in channel gradients using the integral method of channel profile analysis. Journal of Geophysical Research: Earth Surface 119, 138–152. https://doi.org/10.1002/2013JF002981\n",
    "\n",
    "* Mudd, S.M., Clubb, F.J., Gailleton, B., Hurst, M.D., 2018. How concave are river channels? Earth Surface Dynamics 6, 505–523. https://doi.org/10.5194/esurf-6-505-2018\n"
   ]
  },
  {
   "cell_type": "markdown",
   "metadata": {
    "id": "QKy7_wKyMn9K"
   },
   "source": [
    "## Stuff we need to do if you are in colab (not required in the lsdtopotools pytools container)"
   ]
  },
  {
   "cell_type": "markdown",
   "metadata": {
    "id": "UVnt20YbQgIN"
   },
   "source": [
    "First we install `lsdviztools`. \n",
    "\n",
    "Note that if we install `condacolab` first the `lsdviztools` installation fails. "
   ]
  },
  {
   "cell_type": "code",
   "execution_count": null,
   "metadata": {
    "id": "Se7ToFPsPBp6"
   },
   "outputs": [],
   "source": [
    "!pip install lsdviztools"
   ]
  },
  {
   "cell_type": "markdown",
   "metadata": {
    "id": "LNOjp2ocMzFE"
   },
   "source": [
    "Now we need to install lsdtopotools. We do this using something called `condacolab`. "
   ]
  },
  {
   "cell_type": "code",
   "execution_count": null,
   "metadata": {
    "id": "QdIvUR9cKKje"
   },
   "outputs": [],
   "source": [
    "!pip install -q condacolab\n",
    "import condacolab\n",
    "condacolab.install()"
   ]
  },
  {
   "cell_type": "markdown",
   "metadata": {
    "id": "OXv9Ha5WN_n5"
   },
   "source": [
    "Now install `lsdtopotools`. The `&> /dev/null` bit just stops a bunch of rubbish being printed to the screen."
   ]
  },
  {
   "cell_type": "code",
   "execution_count": null,
   "metadata": {
    "id": "XvtS3ptLKLTz"
   },
   "outputs": [],
   "source": [
    "!mamba install lsdtopotools &> /dev/null"
   ]
  },
  {
   "cell_type": "markdown",
   "metadata": {
    "id": "2fm6F358Q8U7"
   },
   "source": [
    "## Download some data"
   ]
  },
  {
   "cell_type": "markdown",
   "metadata": {
    "id": "uMTDXJCUOSAG"
   },
   "source": [
    "We need to get some data to download. \n",
    "\n",
    "For this example we will work nean Xi'an, China (西安) that we studied in this paper:\n",
    "\n",
    "* Wang, Y.Z., Mudd, S.M., 2021. Evidence for and against landscape transience in the Northern Qinling Mountains, China. Geomorphology 391, 107890. https://doi.org/10.1016/j.geomorph.2021.107890\n",
    "\n",
    "We are going to download data using the opentopography scraper that is included with `lsdviztools`. You will need to get an opentopography.org account and copy in your API key. \n",
    "\n",
    "You can sign up to an opentopography.org account here: https://portal.opentopography.org/myopentopo "
   ]
  },
  {
   "cell_type": "code",
   "execution_count": null,
   "metadata": {
    "id": "m1yFGUrRInsF"
   },
   "outputs": [],
   "source": [
    "import lsdviztools.lsdbasemaptools as bmt\n",
    "from lsdviztools.lsdplottingtools import lsdmap_gdalio as gio\n",
    "\n",
    "# YOU NEED TO PUT YOUR API KEY IN A FILE\n",
    "your_OT_api_key_file = \"my_OT_api_key.txt\"\n",
    "\n",
    "with open(your_OT_api_key_file, 'r') as file:\n",
    "    print(\"I am reading you OT API key from the file \"+your_OT_api_key_file)\n",
    "    api_key = file.read().rstrip()\n",
    "    print(\"Your api key starts with: \"+api_key[0:4])\n",
    "\n",
    "Dataset_prefix = \"Xian\"\n",
    "source_name = \"COP30\"\n",
    "\n",
    "Xian_DEM = bmt.ot_scraper(source = source_name,\n",
    "                        lower_left_coordinates = [33.672715066202954, 107.54480443333152], \n",
    "                        upper_right_coordinates = [34.16323953210814, 109.4363649228437],\n",
    "                        prefix = Dataset_prefix, \n",
    "                        api_key_file = your_OT_api_key_file)\n",
    "Xian_DEM.print_parameters()\n",
    "Xian_DEM.download_pythonic()\n",
    "DataDirectory = \"./\"\n",
    "Fname = Dataset_prefix+\"_\"+source_name+\".tif\"\n",
    "gio.convert4lsdtt(DataDirectory,Fname)"
   ]
  },
  {
   "cell_type": "markdown",
   "metadata": {
    "id": "5hE38ttpC8en"
   },
   "source": [
    "We can check to see if the file has downloaded"
   ]
  },
  {
   "cell_type": "code",
   "execution_count": null,
   "metadata": {
    "id": "FQrzKwtmC_nj"
   },
   "outputs": [],
   "source": [
    "!ls"
   ]
  },
  {
   "cell_type": "markdown",
   "metadata": {
    "id": "-JBxt-UzUyG6"
   },
   "source": [
    "## A simple hillshade image"
   ]
  },
  {
   "cell_type": "markdown",
   "metadata": {
    "id": "GUpjSjbIVFx9"
   },
   "source": [
    "We can run `lsdtt-chi-mapping` with a little interface in `lsdviztools` called the `lsdtt_driver`. Here we are only going to write a hillshade raster.  "
   ]
  },
  {
   "cell_type": "code",
   "execution_count": null,
   "metadata": {
    "id": "dc6526yjU9PO"
   },
   "outputs": [],
   "source": [
    "import lsdviztools.lsdmapwrappers as lsdmw"
   ]
  },
  {
   "cell_type": "code",
   "execution_count": null,
   "metadata": {
    "id": "w1XfYaIwUQi_"
   },
   "outputs": [],
   "source": [
    "lsdtt_parameters = {\"write_hillshade\" : \"true\"}\n",
    "r_prefix = Dataset_prefix+\"_\"+source_name +\"_UTM\"\n",
    "w_prefix = Dataset_prefix+\"_\"+source_name +\"_UTM\"\n",
    "lsdtt_drive = lsdmw.lsdtt_driver(command_line_tool = \"lsdtt-chi-mapping\", \n",
    "                                 read_prefix = r_prefix,\n",
    "                                 write_prefix= w_prefix,\n",
    "                                 read_path = \"./\",\n",
    "                                 write_path = \"./\",\n",
    "                                 parameter_dictionary=lsdtt_parameters)\n",
    "lsdtt_drive.print_parameters()\n",
    "lsdtt_drive.run_lsdtt_command_line_tool()"
   ]
  },
  {
   "cell_type": "markdown",
   "metadata": {
    "id": "HpvY7gvMWUwX"
   },
   "source": [
    "We can plot the image using a `lsdviztools` function. I am printing this to a file and then using the image display option since it allows us to make the figure a bit bigger and in addition you can keep the png image for other uses later. "
   ]
  },
  {
   "cell_type": "markdown",
   "metadata": {
    "id": "7MxzlYJuW1pJ"
   },
   "source": [
    "You can save the figure as well. This allows you to show it in this notebook in a larger format:"
   ]
  },
  {
   "cell_type": "code",
   "execution_count": null,
   "metadata": {
    "id": "X90Qe6pi5QUf"
   },
   "outputs": [],
   "source": [
    "%%capture   \n",
    "# Use the capture comment to get rid of all the text\n",
    "# But it will also not display an inline image\n",
    "# So you need to call the image from the next line of code\n",
    "# WARNING %%capture must be the first line in a code block (you can't even have comments above)\n",
    "Base_file = r_prefix\n",
    "this_img = lsdmw.SimpleHillshade(DataDirectory,Base_file,cmap=\"gist_earth\", \n",
    "                                 save_fig=True, size_format=\"geomorphology\",dpi=600)"
   ]
  },
  {
   "cell_type": "code",
   "execution_count": null,
   "metadata": {
    "id": "94PC5hmM6BWG"
   },
   "outputs": [],
   "source": [
    "print(this_img)\n",
    "from IPython.display import display, Image\n",
    "display(Image(filename=this_img, width=800))"
   ]
  },
  {
   "cell_type": "markdown",
   "metadata": {
    "id": "2fgfcu2XJ5xK"
   },
   "source": [
    "# Selecting basins"
   ]
  },
  {
   "cell_type": "markdown",
   "metadata": {
    "id": "dB33lc2pIeTJ"
   },
   "source": [
    "## Automated basin selection"
   ]
  },
  {
   "cell_type": "markdown",
   "metadata": {
    "id": "KZoX_vt3iSXb"
   },
   "source": [
    "*LSDTopoTools* automates selection of basins. The default way it does this is to grab basins within a window of contributing sizes. Here is an example:"
   ]
  },
  {
   "cell_type": "code",
   "execution_count": null,
   "metadata": {
    "id": "MsxXOdRvigFL"
   },
   "outputs": [],
   "source": [
    "lsdtt_parameters = {\"print_basin_raster\" : \"true\",\n",
    "                    \"minimum_basin_size_pixels\" : \"10000\",\n",
    "                    \"maximum_basin_size_pixels\" : \"5000000\"}\n",
    "r_prefix = Dataset_prefix+\"_\"+source_name +\"_UTM\"\n",
    "w_prefix = Dataset_prefix+\"_\"+source_name +\"_UTM\"\n",
    "lsdtt_drive = lsdmw.lsdtt_driver(command_line_tool = \"lsdtt-chi-mapping\", \n",
    "                                 read_prefix = r_prefix,\n",
    "                                 write_prefix= w_prefix,\n",
    "                                 read_path = \"./\",\n",
    "                                 write_path = \"./\",\n",
    "                                 parameter_dictionary=lsdtt_parameters)\n",
    "lsdtt_drive.print_parameters()\n",
    "lsdtt_drive.run_lsdtt_command_line_tool()"
   ]
  },
  {
   "cell_type": "code",
   "execution_count": null,
   "metadata": {
    "id": "MyJormwbJG3C"
   },
   "outputs": [],
   "source": [
    "%%capture             \n",
    "Base_file = r_prefix\n",
    "basins_img = lsdmw.PrintBasins_Complex(DataDirectory,Base_file,cmap=\"gist_earth\", \n",
    "                             size_format=\"geomorphology\",dpi=600, save_fig = True)"
   ]
  },
  {
   "cell_type": "code",
   "execution_count": null,
   "metadata": {
    "id": "Y_0pbMhsjc9E"
   },
   "outputs": [],
   "source": [
    "print(basins_img)\n",
    "from IPython.display import display, Image\n",
    "display(Image(filename=basins_img, width=800))"
   ]
  },
  {
   "cell_type": "markdown",
   "metadata": {
    "id": "C0ceRwdiAdbA"
   },
   "source": [
    "In this case algorithmic identification is a bit messy for various reasons. This place has a big floodplain near XI'an, that we want to avoid. We also want to avoid all the little basins draining to the south. "
   ]
  },
  {
   "cell_type": "markdown",
   "metadata": {
    "id": "9-LHmB-9InHK"
   },
   "source": [
    "## Choosing basin outlets"
   ]
  },
  {
   "cell_type": "markdown",
   "metadata": {
    "id": "tx740YUWIpwV"
   },
   "source": [
    "One way to get all the basins we want it to make a file with the latitude and longitude of the outlets. We can go into google maps and right click on locations, and then copy these into a latitude and longitude list."
   ]
  },
  {
   "cell_type": "code",
   "execution_count": null,
   "metadata": {
    "id": "XzZYKh26kRnC"
   },
   "outputs": [],
   "source": [
    "# Import pandas library\n",
    "import pandas as pd\n",
    "\n",
    "data = [ [34.05564682001868, 108.20774244976475],\n",
    "         [34.023214359957834, 108.5345857094824],\n",
    "         [34.17775506582951, 107.66257870033067],\n",
    "         [34.05259180332853, 108.33601473723209],\n",
    "         [33.996904264107016, 108.75290368815703],\n",
    "         [34.0171585070696, 108.96363877748513]]\n",
    "\n",
    "# Create the pandas DataFrame\n",
    "df = pd.DataFrame(data, columns = ['latitude', 'longitude'])\n",
    "\n",
    "df.to_csv(\"basin_outlets.csv\",index=False)\n",
    "df.head()"
   ]
  },
  {
   "cell_type": "markdown",
   "metadata": {
    "id": "KTI3reY9IP-v"
   },
   "source": [
    "We can use the linux `cat` command to make sure the file is what we expect."
   ]
  },
  {
   "cell_type": "code",
   "execution_count": null,
   "metadata": {
    "id": "AjjbN07skRkz"
   },
   "outputs": [],
   "source": [
    "!cat basin_outlets.csv"
   ]
  },
  {
   "cell_type": "markdown",
   "metadata": {
    "id": "bjYDV2-mIYlC"
   },
   "source": [
    "## Get the basins"
   ]
  },
  {
   "cell_type": "code",
   "execution_count": null,
   "metadata": {
    "id": "MM3id10yj3ko"
   },
   "outputs": [],
   "source": [
    "lsdtt_parameters = {\"print_basin_raster\" : \"true\",\n",
    "                    \"get_basins_from_outlets\" : \"true\",\n",
    "                    \"basin_outlet_csv\" : \"basin_outlets.csv\"}\n",
    "r_prefix = Dataset_prefix+\"_\"+source_name +\"_UTM\"\n",
    "w_prefix = Dataset_prefix+\"_\"+source_name +\"_UTM\"\n",
    "lsdtt_drive = lsdmw.lsdtt_driver(command_line_tool = \"lsdtt-chi-mapping\", \n",
    "                                 read_prefix = r_prefix,\n",
    "                                 write_prefix= w_prefix,\n",
    "                                 read_path = \"./\",\n",
    "                                 write_path = \"./\",\n",
    "                                 parameter_dictionary=lsdtt_parameters)\n",
    "lsdtt_drive.print_parameters()\n",
    "lsdtt_drive.run_lsdtt_command_line_tool()\n"
   ]
  },
  {
   "cell_type": "code",
   "execution_count": null,
   "metadata": {
    "id": "RNnvGD3jJGNc"
   },
   "outputs": [],
   "source": [
    "%%capture             \n",
    "Base_file = r_prefix\n",
    "basins_img = lsdmw.PrintBasins_Complex(DataDirectory,Base_file,cmap=\"gist_earth\", \n",
    "                             size_format=\"geomorphology\",dpi=600, save_fig = True)"
   ]
  },
  {
   "cell_type": "code",
   "execution_count": null,
   "metadata": {
    "id": "MVjjP6WCJKmb"
   },
   "outputs": [],
   "source": [
    "print(basins_img)\n",
    "from IPython.display import display, Image\n",
    "display(Image(filename=basins_img, width=800))"
   ]
  },
  {
   "cell_type": "code",
   "execution_count": null,
   "metadata": {
    "id": "qFzMCUrmJObH"
   },
   "outputs": [],
   "source": []
  },
  {
   "cell_type": "markdown",
   "metadata": {
    "id": "xDBqkZUyN-Ng"
   },
   "source": [
    "# Looking at concavity"
   ]
  },
  {
   "cell_type": "markdown",
   "metadata": {
    "id": "np6TLzDNOAVS"
   },
   "source": [
    "Let's now run an analysis to test the concavity index. This will take a little while (>20 minutes). You should go and get a coffee or read a book now. "
   ]
  },
  {
   "cell_type": "code",
   "execution_count": null,
   "metadata": {
    "id": "iuib7GJ9N_jh"
   },
   "outputs": [],
   "source": [
    "lsdtt_parameters = {\"estimate_best_fit_movern_no_bootstrap\" : \"true\",\n",
    "                    \"get_basins_from_outlets\" : \"true\",\n",
    "                    \"basin_outlet_csv\" : \"basin_outlets.csv\"}\n",
    "r_prefix = Dataset_prefix+\"_\"+source_name +\"_UTM\"\n",
    "w_prefix = Dataset_prefix+\"_\"+source_name +\"_UTM\"\n",
    "lsdtt_drive = lsdmw.lsdtt_driver(command_line_tool = \"lsdtt-chi-mapping\", \n",
    "                                 read_prefix = r_prefix,\n",
    "                                 write_prefix= w_prefix,\n",
    "                                 read_path = \"./\",\n",
    "                                 write_path = \"./\",\n",
    "                                 parameter_dictionary=lsdtt_parameters)\n",
    "lsdtt_drive.print_parameters()\n",
    "lsdtt_drive.run_lsdtt_command_line_tool()"
   ]
  },
  {
   "cell_type": "code",
   "execution_count": null,
   "metadata": {
    "id": "GubGH_UkOPRO"
   },
   "outputs": [],
   "source": [
    "!ls"
   ]
  },
  {
   "cell_type": "code",
   "execution_count": null,
   "metadata": {
    "id": "qhdOGviJZFRG"
   },
   "outputs": [],
   "source": []
  }
 ],
 "metadata": {
  "colab": {
   "authorship_tag": "ABX9TyNkUfTq2O3fJteXC1t7bLDQ",
   "collapsed_sections": [],
   "include_colab_link": true,
   "name": "channel_steepness_and_concavity.ipynb",
   "provenance": [],
   "toc_visible": true
  },
  "kernelspec": {
   "display_name": "Python 3 (ipykernel)",
   "language": "python",
   "name": "python3"
  },
  "language_info": {
   "codemirror_mode": {
    "name": "ipython",
    "version": 3
   },
   "file_extension": ".py",
   "mimetype": "text/x-python",
   "name": "python",
   "nbconvert_exporter": "python",
   "pygments_lexer": "ipython3",
   "version": "3.8.10"
  }
 },
 "nbformat": 4,
 "nbformat_minor": 1
}
