{
  "cells": [
    {
      "cell_type": "markdown",
      "metadata": {
        "id": "view-in-github",
        "colab_type": "text"
      },
      "source": [
        "<a href=\"https://colab.research.google.com/github/LSDtopotools/lsdtt_notebooks/blob/master/lsdtopotools/channel_extraction_and_drainage_area_examples/getting_drainage_area_from_specific_points.ipynb\" target=\"_parent\"><img src=\"https://colab.research.google.com/assets/colab-badge.svg\" alt=\"Open In Colab\"/></a>"
      ]
    },
    {
      "cell_type": "markdown",
      "id": "4eee91c8",
      "metadata": {
        "id": "4eee91c8"
      },
      "source": [
        "# Getting Drainage Area from specific points"
      ]
    },
    {
      "cell_type": "markdown",
      "id": "86eeda37",
      "metadata": {
        "id": "86eeda37"
      },
      "source": [
        "Last updated by Simon M Mudd 11/04/2024"
      ]
    },
    {
      "cell_type": "markdown",
      "id": "06f6a4db",
      "metadata": {
        "id": "06f6a4db"
      },
      "source": [
        "In this notebook we will use an example where you have collected some channel characteristics in the field and we want to know the drainage area of the points. This will include the simplest possible example where all we have is the location of the points."
      ]
    },
    {
      "cell_type": "markdown",
      "id": "3144101b",
      "metadata": {
        "id": "3144101b"
      },
      "source": [
        "## Stuff we need to do if you are in colab (not required in the lsdtopotools pytools container)"
      ]
    },
    {
      "cell_type": "markdown",
      "id": "bec1cffe",
      "metadata": {
        "id": "bec1cffe"
      },
      "source": [
        "**If you are in the `docker_lsdtt_pytools` docker container, you do not need to do any of this.\n",
        "The following is for executing this code in the google colab environment only.**\n",
        "\n",
        "If you are in the docker container you can skip to the **Download some data** section."
      ]
    },
    {
      "cell_type": "markdown",
      "id": "c792bdbc",
      "metadata": {
        "id": "c792bdbc"
      },
      "source": [
        "First we install `lsdtopotools`. The first line downloads the package and the second installs it. The `/dev/null` stuff is just to stop the notebook printing a bunch of text to screen.  "
      ]
    },
    {
      "cell_type": "code",
      "execution_count": null,
      "id": "1f77c3f4",
      "metadata": {
        "id": "1f77c3f4"
      },
      "outputs": [],
      "source": [
        "!wget https://pkgs.geos.ed.ac.uk/geos-jammy/pool/world/l/lsdtopotools2/lsdtopotools2_0.9-1geos~22.04.1_amd64.deb  &> /dev/null\n",
        "!apt install ./lsdtopotools2_0.9-1geos~22.04.1_amd64.deb  &> /dev/null"
      ]
    },
    {
      "cell_type": "markdown",
      "id": "1e7d1f30",
      "metadata": {
        "id": "1e7d1f30"
      },
      "source": [
        "The next line tests to see if it worked. If you get some output asking for a parameter file then `lsdtopotools` is installed. This notebook was tested on version 0.9."
      ]
    },
    {
      "cell_type": "code",
      "execution_count": null,
      "id": "6cbffa04",
      "metadata": {
        "id": "6cbffa04"
      },
      "outputs": [],
      "source": [
        "!lsdtt-basic-metrics -v"
      ]
    },
    {
      "cell_type": "markdown",
      "id": "53098178",
      "metadata": {
        "id": "53098178"
      },
      "source": [
        "Now we install `lsdviztools`:"
      ]
    },
    {
      "cell_type": "code",
      "execution_count": null,
      "id": "2da26de1",
      "metadata": {
        "id": "2da26de1"
      },
      "outputs": [],
      "source": [
        "!pip install lsdviztools  &> /dev/null"
      ]
    },
    {
      "cell_type": "markdown",
      "id": "2146b6d9",
      "metadata": {
        "id": "2146b6d9"
      },
      "source": [
        "## First get data"
      ]
    },
    {
      "cell_type": "markdown",
      "id": "bec63078",
      "metadata": {
        "id": "bec63078"
      },
      "source": [
        "Before we do anything, we need to import a few packages:"
      ]
    },
    {
      "cell_type": "code",
      "execution_count": null,
      "id": "bb29297c",
      "metadata": {
        "id": "bb29297c"
      },
      "outputs": [],
      "source": [
        "import lsdviztools.lsdbasemaptools as bmt\n",
        "from lsdviztools.lsdplottingtools import lsdmap_gdalio as gio\n",
        "import lsdviztools.lsdmapwrappers as lsdmw"
      ]
    },
    {
      "cell_type": "markdown",
      "id": "035e7024",
      "metadata": {
        "id": "035e7024"
      },
      "source": [
        "Now we need to get some data to download. We are going to download data using the opentopography scraper that is included with `lsdviztools`.\n",
        "\n",
        "**You will need to get an opentopography.org account and copy in your API key.**\n",
        "\n",
        "The API key can be placed in a text file called \"my_OT_api_key.txt\"\n",
        "\n",
        "You can sign up to an opentopography.org account here: https://portal.opentopography.org/myopentopo"
      ]
    },
    {
      "cell_type": "markdown",
      "id": "167b7c80",
      "metadata": {
        "id": "167b7c80"
      },
      "source": [
        "Before I actually do anything I am going to set up some filenames:"
      ]
    },
    {
      "cell_type": "code",
      "execution_count": null,
      "id": "0c320b58",
      "metadata": {
        "id": "0c320b58"
      },
      "outputs": [],
      "source": [
        "Dataset_prefix = \"RioAguas\"\n",
        "source_name = \"COP30\"\n",
        "\n",
        "r_prefix = Dataset_prefix+\"_\"+source_name +\"_UTM\"\n",
        "w_prefix = Dataset_prefix+\"_\"+source_name +\"_UTM\"\n",
        "\n",
        "DataDirectory = \"./\"\n",
        "Base_file = r_prefix"
      ]
    },
    {
      "cell_type": "markdown",
      "id": "f1fac842",
      "metadata": {
        "id": "f1fac842"
      },
      "source": [
        "Now lets grab the data. If you want to do this yourself for a new area just choose your own lower lect and upper right coordinates of your site.\n",
        "\n",
        "**IMPORTANT: in a later stage you will extract a basin, and it is essential you capture the entire basin. If part of the basin is cut off from the edge of the DEM the extraction will not work!**"
      ]
    },
    {
      "cell_type": "code",
      "execution_count": null,
      "id": "b05cfd96",
      "metadata": {
        "id": "b05cfd96"
      },
      "outputs": [],
      "source": [
        "# YOU NEED TO PUT YOUR API KEY IN A FILE\n",
        "your_OT_api_key_file = \"my_OT_api_key.txt\"\n",
        "\n",
        "with open(your_OT_api_key_file, 'r') as file:\n",
        "    print(\"I am reading you OT API key from the file \"+your_OT_api_key_file)\n",
        "    api_key = file.read().rstrip()\n",
        "    print(\"Your api key starts with: \"+api_key[0:4])\n",
        "\n",
        "SB_DEM = bmt.ot_scraper(source = source_name,\n",
        "                        lower_left_coordinates = [36.851228654362174, -2.6381856533639376],\n",
        "                        upper_right_coordinates = [37.23786389643628, -2.1355154090152344],\n",
        "                        prefix = Dataset_prefix,\n",
        "                        api_key_file = your_OT_api_key_file)\n",
        "SB_DEM.print_parameters()\n",
        "SB_DEM.download_pythonic()\n",
        "DataDirectory = \"./\"\n",
        "Fname = Dataset_prefix+\"_\"+source_name+\".tif\"\n",
        "gio.convert4lsdtt(DataDirectory,Fname)"
      ]
    },
    {
      "cell_type": "markdown",
      "id": "32535c8d",
      "metadata": {
        "id": "32535c8d"
      },
      "source": [
        "## Look at the hillshade"
      ]
    },
    {
      "cell_type": "markdown",
      "id": "82861e28",
      "metadata": {
        "id": "82861e28"
      },
      "source": [
        "Right, lets see what this place looks like:"
      ]
    },
    {
      "cell_type": "code",
      "execution_count": null,
      "id": "52c6d4f1",
      "metadata": {
        "id": "52c6d4f1"
      },
      "outputs": [],
      "source": [
        "lsdtt_parameters = {\"write_hillshade\" : \"true\"}\n",
        "lsdtt_drive = lsdmw.lsdtt_driver(read_prefix = r_prefix,\n",
        "                                 write_prefix= w_prefix,\n",
        "                                 read_path = \"./\",\n",
        "                                 write_path = \"./\",\n",
        "                                 parameter_dictionary=lsdtt_parameters)\n",
        "lsdtt_drive.print_parameters()\n",
        "lsdtt_drive.run_lsdtt_command_line_tool()"
      ]
    },
    {
      "cell_type": "code",
      "execution_count": null,
      "id": "fc9cbed6",
      "metadata": {
        "id": "fc9cbed6"
      },
      "outputs": [],
      "source": [
        "%matplotlib inline\n",
        "Base_file = r_prefix\n",
        "DataDirectory = \"./\"\n",
        "this_img = lsdmw.SimpleHillshade(DataDirectory,Base_file,cmap=\"gist_earth\", save_fig=False, size_format=\"geomorphology\",dpi=500)"
      ]
    },
    {
      "cell_type": "markdown",
      "id": "e48a872a",
      "metadata": {
        "id": "e48a872a"
      },
      "source": [
        "## Now get a single basin"
      ]
    },
    {
      "cell_type": "markdown",
      "id": "a1f50f3c",
      "metadata": {
        "id": "a1f50f3c"
      },
      "source": [
        "I add a basin outlet into a pandas dataframe and then copy this to a file.\n",
        "The points below are obtained just by clicking in google maps and copying the resulting lat-long into the below code."
      ]
    },
    {
      "cell_type": "code",
      "execution_count": null,
      "id": "cceedb5a",
      "metadata": {
        "id": "cceedb5a"
      },
      "outputs": [],
      "source": [
        "# Import pandas library\n",
        "import pandas as pd\n",
        "\n",
        "data = [ [36.98193337752194, -2.467746239830938]]\n",
        "\n",
        "# Create the pandas DataFrame\n",
        "df = pd.DataFrame(data, columns = ['latitude', 'longitude'])\n",
        "\n",
        "df.to_csv(\"basin_outlets.csv\",index=False)\n",
        "df.head()"
      ]
    },
    {
      "cell_type": "markdown",
      "id": "3359bbb3",
      "metadata": {
        "id": "3359bbb3"
      },
      "source": [
        "We can use the linux `cat` command to make sure the file is what we expect."
      ]
    },
    {
      "cell_type": "code",
      "execution_count": null,
      "id": "5ca33f67",
      "metadata": {
        "id": "5ca33f67"
      },
      "outputs": [],
      "source": [
        "!cat basin_outlets.csv"
      ]
    },
    {
      "cell_type": "markdown",
      "id": "7775d95e",
      "metadata": {
        "id": "7775d95e"
      },
      "source": [
        "Now lets use *lsdtopotools* to get the basins. We first need to import the `lsdmapwrappers` module, and then run the code."
      ]
    },
    {
      "cell_type": "code",
      "execution_count": null,
      "id": "72cac9aa",
      "metadata": {
        "id": "72cac9aa"
      },
      "outputs": [],
      "source": [
        "import lsdviztools.lsdmapwrappers as lsdmw\n",
        "\n",
        "## Get the basins\n",
        "lsdtt_parameters = {\"print_basin_raster\" : \"true\",\n",
        "                    \"write_hillshade\" : \"true\",\n",
        "                    \"get_basins_from_outlets\" : \"true\",\n",
        "                    \"basin_outlet_csv\" : \"basin_outlets.csv\"}\n",
        "lsdtt_drive = lsdmw.lsdtt_driver(command_line_tool = \"lsdtt-chi-mapping\",\n",
        "                                 read_prefix = r_prefix,\n",
        "                                 write_prefix= w_prefix,\n",
        "                                 read_path = \"./\",\n",
        "                                 write_path = \"./\",\n",
        "                                 parameter_dictionary=lsdtt_parameters)\n",
        "lsdtt_drive.print_parameters()\n",
        "lsdtt_drive.run_lsdtt_command_line_tool()"
      ]
    },
    {
      "cell_type": "markdown",
      "id": "BSI6wubWo_N8",
      "metadata": {
        "id": "BSI6wubWo_N8"
      },
      "source": [
        "Now we can print the map with an lsdviztools call."
      ]
    },
    {
      "cell_type": "code",
      "execution_count": null,
      "id": "b977fa23",
      "metadata": {
        "id": "b977fa23",
        "scrolled": true
      },
      "outputs": [],
      "source": [
        "# uncomment this for debugging\n",
        "#import lsdviztools.lsdmapwrappers as lsdmw\n",
        "DataDirectory = \"./\"\n",
        "Base_file = r_prefix\n",
        "\n",
        "#%%capture\n",
        "basins_img = lsdmw.PrintBasins_Complex(DataDirectory,Base_file,cmap=\"gist_earth\",\n",
        "                             size_format=\"geomorphology\",dpi=600, save_fig = True)"
      ]
    },
    {
      "cell_type": "code",
      "execution_count": null,
      "id": "62c2ede4",
      "metadata": {
        "id": "62c2ede4"
      },
      "outputs": [],
      "source": [
        "print(basins_img)\n",
        "from IPython.display import display, Image\n",
        "display(Image(filename=basins_img, width=800))"
      ]
    },
    {
      "cell_type": "markdown",
      "id": "42b10437",
      "metadata": {
        "id": "42b10437"
      },
      "source": [
        "We can get all the channels out of this basin with a call to `lsdtt-chi-mapping` (alhtough you can allso do this with `lsdtt-basic-metrics`.\n",
        "To get channels with various data elements such as the area, flow distance, elevation, and chi coordinate (if you don't know what that is, don't worry about it now), you use the keyword: `\"print_chi_data_maps\" : \"true\"`.\n",
        "\n",
        "We can also control the extent of the drainage network. Drainage extraction works by computing the flow direction of every pixel by seeing which of its eight neighbours is lowest. It then can count all the pixels contributing to a given pixel. Channels begin where they exceed a threshold number of contributing pixels.\n",
        "\n",
        "The default number of contributing pixels to being a channel is 1000, but you can use less with the keyword: `\"threshold_contributing_pixels\" : \"500\"` (you can of course change the number to whatever you want).\n",
        "\n",
        "We also want some additional information: the channel gradients and how they vary with drainage area. To get this we add `\"print_slope_area_data\" : \"true\"`. In addition we need to determine over which interval slopes are calculated. We calculate them over a fixed vertical interval: `\"SA_vertical_interval\" : \"10\"` so a new slope measurement is recorded whever the channel has fallen by 10m."
      ]
    },
    {
      "cell_type": "code",
      "execution_count": null,
      "id": "531106ec",
      "metadata": {
        "id": "531106ec",
        "scrolled": false
      },
      "outputs": [],
      "source": [
        "## Get the basins and the channel profile\n",
        "lsdtt_parameters = {\"print_chi_data_maps\" : \"true\",\n",
        "                    \"get_basins_from_outlets\" : \"true\",\n",
        "                    \"basin_outlet_csv\" : \"basin_outlets.csv\",\n",
        "                    \"threshold_contributing_pixels\" : \"500\",\n",
        "                    \"SA_vertical_interval\" : \"10\",\n",
        "                    \"print_slope_area_data\" : \"true\"}\n",
        "r_prefix = Dataset_prefix+\"_\"+source_name +\"_UTM\"\n",
        "w_prefix = Dataset_prefix+\"_\"+source_name +\"_UTM\"\n",
        "lsdtt_drive = lsdmw.lsdtt_driver(command_line_tool = \"lsdtt-chi-mapping\",\n",
        "                                 read_prefix = r_prefix,\n",
        "                                 write_prefix= w_prefix,\n",
        "                                 read_path = \"./\",\n",
        "                                 write_path = \"./\",\n",
        "                                 parameter_dictionary=lsdtt_parameters)\n",
        "lsdtt_drive.print_parameters()\n",
        "lsdtt_drive.run_lsdtt_command_line_tool()"
      ]
    },
    {
      "cell_type": "markdown",
      "id": "87f6d13a",
      "metadata": {
        "id": "87f6d13a"
      },
      "source": [
        "Lets see where the channels are:"
      ]
    },
    {
      "cell_type": "code",
      "execution_count": null,
      "id": "4118b1cc",
      "metadata": {
        "id": "4118b1cc",
        "scrolled": true
      },
      "outputs": [],
      "source": [
        "%matplotlib inline\n",
        "this_chan_img = lsdmw.PrintChannelsAndBasins(DataDirectory,Base_file,\n",
        "                                       add_basin_labels = True, cmap = \"jet\",\n",
        "                                       size_format = \"ESURF\", fig_format = \"png\",\n",
        "                                       dpi = 300, save_fig = True)"
      ]
    },
    {
      "cell_type": "code",
      "execution_count": null,
      "id": "ec3a37a5",
      "metadata": {
        "id": "ec3a37a5",
        "scrolled": true
      },
      "outputs": [],
      "source": [
        "%matplotlib inline\n",
        "print(this_chan_img)\n",
        "from IPython.display import display, Image\n",
        "display(Image(filename=this_chan_img, width=800))"
      ]
    },
    {
      "cell_type": "markdown",
      "id": "df58cff4",
      "metadata": {
        "id": "df58cff4"
      },
      "source": [
        "## Looking at gradients"
      ]
    },
    {
      "cell_type": "markdown",
      "id": "d3da6d66",
      "metadata": {
        "id": "d3da6d66"
      },
      "source": [
        "The channel gradients are in `RioAguas_COP30_UTM_SAvertical.csv`, we can see it if we look for the files:"
      ]
    },
    {
      "cell_type": "code",
      "execution_count": null,
      "id": "b8f4fd88",
      "metadata": {
        "id": "b8f4fd88",
        "scrolled": false
      },
      "outputs": [],
      "source": [
        "!ls *.csv"
      ]
    },
    {
      "cell_type": "markdown",
      "id": "abf3a6b6",
      "metadata": {
        "id": "abf3a6b6"
      },
      "source": [
        "This is what the data looks like:"
      ]
    },
    {
      "cell_type": "code",
      "execution_count": null,
      "id": "557c7953",
      "metadata": {
        "id": "557c7953"
      },
      "outputs": [],
      "source": [
        "# Import pandas library\n",
        "import pandas as pd\n",
        "\n",
        "df = pd.read_csv(\"RioAguas_COP30_UTM_SAvertical.csv\")\n",
        "df.head()"
      ]
    },
    {
      "cell_type": "markdown",
      "id": "aa271c39",
      "metadata": {
        "id": "aa271c39"
      },
      "source": [
        "## Import some points (that you record with a GPS) and combine with other data"
      ]
    },
    {
      "cell_type": "markdown",
      "id": "yCOmerUe2LOr",
      "metadata": {
        "id": "yCOmerUe2LOr"
      },
      "source": [
        "Now we will import a dataset of points and combine it with other data"
      ]
    },
    {
      "cell_type": "code",
      "execution_count": null,
      "id": "7oV41PzS17OD",
      "metadata": {
        "id": "7oV41PzS17OD"
      },
      "outputs": [],
      "source": [
        "import geopandas as gpd\n",
        "import numpy as np\n",
        "import pandas as pd\n",
        "\n",
        "from scipy.spatial import cKDTree\n",
        "from shapely.geometry import Point"
      ]
    },
    {
      "cell_type": "markdown",
      "id": "iBzjaPCw2SwD",
      "metadata": {
        "id": "iBzjaPCw2SwD"
      },
      "source": [
        "We have two datasets. One is the channel data and the other is the site locations. This second dataset could be any set of points.\n",
        "\n",
        "We will, in the next step, merge these datasets based on the nearest neighbour to one of the set of points (i.e., mapping channel data to the nearest site).\n",
        "\n",
        "For this to work, the two datasets must be in the same coordinate reference system. For this example it is not really a problem because both datasets have coordinates in a global reference frame with the code EPSG:4326. In the example below, we use .crs to define the coordinate reference system.\n",
        "\n",
        "However, sometimes you might have a data set with another coordinate system (for example British National Grid, which is EPSG:27700, or UTM, which is EPSG:326XX where XX is the UTM zone) so you would need to change the corresponding EPSG code. You can look up the EPSG code for a coordinate system with a google search."
      ]
    },
    {
      "cell_type": "code",
      "execution_count": null,
      "id": "155f309c",
      "metadata": {
        "id": "155f309c"
      },
      "outputs": [],
      "source": [
        "!ls *.csv"
      ]
    },
    {
      "cell_type": "markdown",
      "id": "d319ff99",
      "metadata": {
        "id": "d319ff99"
      },
      "source": [
        "We have a few csv datasets here. The ones you can cuse for this purpose are `RioAguas_COP30_UTM_SAvertical.csv` (which has slopes) and `RioAguas_COP30_UTM_chi_data_map.csv` (which does not have slopes). In the example below I use the one with slopes.\n",
        "\n",
        "Note that this is on a 30m DEM, so if you have collected data in the field of channel gradients with a laser or stadia rod+hand level, the field collected gradients will likeley be more accurate."
      ]
    },
    {
      "cell_type": "code",
      "execution_count": null,
      "id": "XB737H552PAz",
      "metadata": {
        "id": "XB737H552PAz"
      },
      "outputs": [],
      "source": [
        "# Load the channel data\n",
        "dfA = pd.read_csv(\"RioAguas_COP30_UTM_SAvertical.csv\")\n",
        "# Convert to a geopandas dataframe\n",
        "gdfA = gpd.GeoDataFrame(\n",
        "    dfA, geometry=gpd.points_from_xy(dfA.longitude, dfA.latitude))\n",
        "# We have to tell the geopandas data what geographic system we are in by using something called an EPSG code.\n",
        "# All major geographic projection and transformation system have this code.\n",
        "gdfA.crs = \"EPSG:4326\"\n",
        "\n",
        "\n",
        "# Load the width data\n",
        "dfB = pd.read_csv(\"Sample_Location_Coordinates_River_Grain_Size_Group.csv\")\n",
        "gdfB = gpd.GeoDataFrame(\n",
        "    dfB, geometry=gpd.points_from_xy(dfB.easting, dfB.northing))\n",
        "# We have to tell the geopandas data what geographic system we are in by using something called an EPSG code.\n",
        "# All major geographic projection and transformation system have this code.\n",
        "gdfB.crs = \"EPSG:32630\"\n",
        "\n",
        "# IMPORTANT: we convert one of the datasets to the coordinate reference system of the other\n",
        "gdfC = gdfB.to_crs(4326)"
      ]
    },
    {
      "cell_type": "markdown",
      "id": "bkZBjRNC3z_N",
      "metadata": {
        "id": "bkZBjRNC3z_N"
      },
      "source": [
        "I now need to add a function for combining datasets. **You don't need to change anything in this function.** The first dataframe keeps its data elements and adds properties from the nearest neighbour that are closest to the points in the first dataframe."
      ]
    },
    {
      "cell_type": "code",
      "execution_count": null,
      "id": "eHz9vpmn37Xe",
      "metadata": {
        "id": "eHz9vpmn37Xe"
      },
      "outputs": [],
      "source": [
        "def ckdnearest(gdA, gdB):\n",
        "\n",
        "    nA = np.array(list(gdA.geometry.apply(lambda x: (x.x, x.y))))\n",
        "    nB = np.array(list(gdB.geometry.apply(lambda x: (x.x, x.y))))\n",
        "    btree = cKDTree(nB)\n",
        "    dist, idx = btree.query(nA, k=1)\n",
        "    gdB_nearest = gdB.iloc[idx].drop(columns=\"geometry\").reset_index(drop=True)\n",
        "    gdf = pd.concat(\n",
        "        [\n",
        "            gdA.reset_index(drop=True),\n",
        "            gdB_nearest,\n",
        "            pd.Series(dist, name='dist')\n",
        "        ],\n",
        "        axis=1)\n",
        "\n",
        "    return gdf"
      ]
    },
    {
      "cell_type": "markdown",
      "id": "mik7_Rzu3-nG",
      "metadata": {
        "id": "mik7_Rzu3-nG"
      },
      "source": [
        "Now we merge the two files."
      ]
    },
    {
      "cell_type": "code",
      "execution_count": null,
      "id": "MFsNj1tK39Tv",
      "metadata": {
        "id": "MFsNj1tK39Tv"
      },
      "outputs": [],
      "source": [
        "new_gdp = ckdnearest(gdfC, gdfA)\n",
        "new_gdp.head(10)"
      ]
    },
    {
      "cell_type": "markdown",
      "id": "NOOIFQwQ4J3v",
      "metadata": {
        "id": "NOOIFQwQ4J3v"
      },
      "source": [
        "Super! Now we can print this new dataset to a file using the .to_csv function:"
      ]
    },
    {
      "cell_type": "code",
      "execution_count": null,
      "id": "-UZICSmx4CIW",
      "metadata": {
        "id": "-UZICSmx4CIW"
      },
      "outputs": [],
      "source": [
        "new_gdp.to_csv(\"updated_spain_site_infomation.csv\")"
      ]
    },
    {
      "cell_type": "markdown",
      "source": [
        "We can now look at where the points are:"
      ],
      "metadata": {
        "id": "qat3hHUg8qqp"
      },
      "id": "qat3hHUg8qqp"
    },
    {
      "cell_type": "code",
      "source": [
        "import lsdviztools.lsdmapwrappers as lsdmw\n",
        "DataDirectory = \"./\"\n",
        "Dataset_prefix = \"RioAguas\"\n",
        "source_name = \"COP30\"\n",
        "r_prefix = Dataset_prefix+\"_\"+source_name +\"_UTM\"\n",
        "Base_file = r_prefix\n",
        "\n",
        "#%%capture\n",
        "basin_outline_img = lsdmw.PrintPointsOverHillshade(DataDirectory,Base_file, cmap = \"jet\", points_fname = \"updated_spain_site_infomation.csv\",\n",
        "                             column_for_plotting = \"elevation\",\n",
        "                             scale_points = False, column_for_scaling = \"elevation(m)\",\n",
        "                             scaled_data_in_log = True, max_point_size = 4, min_point_size = 1,\n",
        "                             size_format = \"ESURF\",\n",
        "                             fig_format = \"png\", dpi = 500, out_fname_prefix = \"grain_size_locations\", save_fig = True)"
      ],
      "metadata": {
        "id": "jWke44AH9O0g"
      },
      "id": "jWke44AH9O0g",
      "execution_count": null,
      "outputs": []
    },
    {
      "cell_type": "code",
      "source": [
        "%matplotlib inline\n",
        "print(this_chan_img)\n",
        "from IPython.display import display, Image\n",
        "display(Image(filename=\"grain_size_locations_channels_with_basins.png\", width=800))"
      ],
      "metadata": {
        "id": "7oT-y5Go-BAr"
      },
      "id": "7oT-y5Go-BAr",
      "execution_count": null,
      "outputs": []
    },
    {
      "cell_type": "markdown",
      "source": [],
      "metadata": {
        "id": "8D7pZ6El8pwz"
      },
      "id": "8D7pZ6El8pwz"
    }
  ],
  "metadata": {
    "colab": {
      "provenance": [],
      "include_colab_link": true
    },
    "kernelspec": {
      "display_name": "Python 3 (ipykernel)",
      "language": "python",
      "name": "python3"
    },
    "language_info": {
      "codemirror_mode": {
        "name": "ipython",
        "version": 3
      },
      "file_extension": ".py",
      "mimetype": "text/x-python",
      "name": "python",
      "nbconvert_exporter": "python",
      "pygments_lexer": "ipython3",
      "version": "3.9.16"
    }
  },
  "nbformat": 4,
  "nbformat_minor": 5
}