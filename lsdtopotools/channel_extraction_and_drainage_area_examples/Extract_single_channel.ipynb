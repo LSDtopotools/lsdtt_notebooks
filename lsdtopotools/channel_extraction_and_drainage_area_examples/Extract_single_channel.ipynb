{
 "cells": [
  {
   "cell_type": "markdown",
   "metadata": {},
   "source": [
    "# Extracting a single channel"
   ]
  },
  {
   "cell_type": "markdown",
   "metadata": {},
   "source": [
    "Written by Simon M. Mudd at the University of Edinburgh. Updated 02/09/2021"
   ]
  },
  {
   "cell_type": "markdown",
   "metadata": {},
   "source": [
    "Import the various 'lsdviztools' and 'lsdttparamselector' modules."
   ]
  },
  {
   "cell_type": "code",
   "execution_count": 1,
   "metadata": {},
   "outputs": [],
   "source": [
    "import lsdviztools.lsdbasemaptools as bmt\n",
    "from lsdviztools.lsdplottingtools import lsdmap_gdalio as gio\n",
    "import lsdviztools.lsdmapwrappers as lsdmw"
   ]
  },
  {
   "cell_type": "markdown",
   "metadata": {},
   "source": [
    "## Get the DEM"
   ]
  },
  {
   "cell_type": "markdown",
   "metadata": {},
   "source": [
    "Grab the DEM from opentopography.org"
   ]
  },
  {
   "cell_type": "code",
   "execution_count": 2,
   "metadata": {},
   "outputs": [
    {
     "name": "stdout",
     "output_type": "stream",
     "text": [
      "The source is: SRTMGL1\n",
      "The west longitude is: -120.464655\n",
      "The east longitude is: -120.254214\n",
      "The south latitude is: 34.61077\n",
      "The north latitude is: 34.440538\n",
      "The path is: ./\n",
      "The prefix is: CP\n",
      "The resolution is: 30\n"
     ]
    }
   ],
   "source": [
    "SB_DEM = bmt.ot_scraper(source = \"SRTM30\",longitude_W = -120.464655, longitude_E = -120.254214, latitude_S = 34.440538, latitude_N = 34.610770,prefix = \"CP\")\n",
    "SB_DEM.print_parameters()"
   ]
  },
  {
   "cell_type": "code",
   "execution_count": 3,
   "metadata": {},
   "outputs": [
    {
     "name": "stdout",
     "output_type": "stream",
     "text": [
      "I am going to download the following for you:\n",
      "https://portal.opentopography.org/API/globaldem?demtype=SRTMGL1&south=34.440538&north=34.61077&west=-120.464655&east=-120.254214&outputFormat=GTiff\n",
      "This might take a little while, depending on the size of the file. \n",
      "The filename will be:\n",
      "./CP_SRTMGL1.tif\n",
      "The path and file without path are:\n",
      "./  CP_SRTMGL1.tif\n",
      "Finished downloading\n"
     ]
    }
   ],
   "source": [
    "fullfname,DataDirectory,RasterFile = SB_DEM.download_pythonic()"
   ]
  },
  {
   "cell_type": "code",
   "execution_count": 4,
   "metadata": {},
   "outputs": [
    {
     "name": "stdout",
     "output_type": "stream",
     "text": [
      "./CP_SRTMGL1.tif ./ CP_SRTMGL1.tif\n"
     ]
    }
   ],
   "source": [
    "print(fullfname,DataDirectory,RasterFile)"
   ]
  },
  {
   "cell_type": "code",
   "execution_count": 5,
   "metadata": {},
   "outputs": [],
   "source": [
    "fullfname = \"./CP_SRTM30.tif\"\n",
    "DataDirectory= \"./\"\n",
    "RasterFile = \"CP_SRTM30.tif\""
   ]
  },
  {
   "cell_type": "markdown",
   "metadata": {},
   "source": [
    "Convert to UTM coordinates and ENVI bil format for *LSDTopoTools*"
   ]
  },
  {
   "cell_type": "code",
   "execution_count": 6,
   "metadata": {},
   "outputs": [
    {
     "name": "stdout",
     "output_type": "stream",
     "text": [
      "The projections is:\n",
      "GEOGCS[\"WGS 84\",DATUM[\"WGS_1984\",SPHEROID[\"WGS 84\",6378137,298.257223563,AUTHORITY[\"EPSG\",\"7030\"]],AUTHORITY[\"EPSG\",\"6326\"]],PRIMEM[\"Greenwich\",0],UNIT[\"degree\",0.0174532925199433,AUTHORITY[\"EPSG\",\"9122\"]],AXIS[\"Latitude\",NORTH],AXIS[\"Longitude\",EAST],AUTHORITY[\"EPSG\",\"4326\"]]\n",
      "And some extra projection information strings:\n",
      "None\n",
      "WGS 84\n",
      "The centre of the raster is at:\n",
      "(-120.37972222221434, 34.50555555555218)\n",
      "dem_data.width is: 758\n",
      "The latitude and longitude is\n",
      "34.50555555555218 -120.37972222221434\n",
      "res tuple is:\n",
      "(30, 30)\n",
      "The destination CRS is: EPSG:32610\n",
      "{'driver': 'GTiff', 'dtype': 'int16', 'nodata': -32768.0, 'width': 661, 'height': 647, 'count': 1, 'crs': CRS.from_epsg(32610), 'transform': Affine(30.0, 0.0, 732452.2754693646,\n",
      "       0.0, -30.0, 3833330.7356094)}\n",
      "Removing pixels with an elevation less than 0.01\n",
      "CP_SRTM30_UTM.bil\n"
     ]
    }
   ],
   "source": [
    "raster_bil_name = gio.convert4lsdtt(DataDirectory, RasterFile,minimum_elevation=0.01)\n",
    "print(raster_bil_name)"
   ]
  },
  {
   "cell_type": "markdown",
   "metadata": {},
   "source": [
    "# Get the point from which to extract the channel"
   ]
  },
  {
   "cell_type": "code",
   "execution_count": 7,
   "metadata": {},
   "outputs": [],
   "source": [
    "import pandas as pd"
   ]
  },
  {
   "cell_type": "code",
   "execution_count": 8,
   "metadata": {},
   "outputs": [],
   "source": [
    "d = {'id': [0], 'latitude': [34.550732], 'longitude': [-120.287266]}\n",
    "df = pd.DataFrame(data=d)"
   ]
  },
  {
   "cell_type": "markdown",
   "metadata": {},
   "source": [
    "Print this to a csv file"
   ]
  },
  {
   "cell_type": "code",
   "execution_count": 9,
   "metadata": {},
   "outputs": [],
   "source": [
    "df.to_csv(\"channel_source.csv\",index=False)"
   ]
  },
  {
   "cell_type": "markdown",
   "metadata": {},
   "source": [
    "# Set up parameters for an *lsdtopotools* run"
   ]
  },
  {
   "cell_type": "code",
   "execution_count": 10,
   "metadata": {},
   "outputs": [],
   "source": [
    "lsdtt_parameters = {\"write_hillshade\" : \"true\", \n",
    "                    \"extract_single_channel\" : \"true\", \n",
    "                    \"channel_source_fname\" : \"channel_source.csv\", \n",
    "                    \"print_dinf_drainage_area_raster\" : \"true\",\n",
    "                    \"convert_csv_to_geojson\" : \"true\"}"
   ]
  },
  {
   "cell_type": "markdown",
   "metadata": {},
   "source": [
    "Create a driver object"
   ]
  },
  {
   "cell_type": "code",
   "execution_count": 11,
   "metadata": {},
   "outputs": [
    {
     "name": "stdout",
     "output_type": "stream",
     "text": [
      "The lsdtopotools command line tools available are: \n",
      "['lsdtt-basic-metrics', 'lsdtt-channel-extraction', 'lsdtt-chi-mapping', 'lsdtt-cosmo-tool', 'lsdtt-hillslope-channel-coupling']\n",
      "Please note only lsdtt-basic-metrics has been fully tested\n",
      "The command line tool is: lsdtt-basic-metrics\n",
      "The driver name is: Test_01\n",
      "The read path is: ./\n",
      "The write path is: ./\n",
      "The read prefix is: CP_SRTM30_UTM\n",
      "The write prefix is: CP_SRTM30_UTM\n",
      "The parameter dictionary is:\n",
      "{'write_hillshade': 'true', 'extract_single_channel': 'true', 'channel_source_fname': 'channel_source.csv', 'print_dinf_drainage_area_raster': 'true', 'convert_csv_to_geojson': 'true'}\n"
     ]
    }
   ],
   "source": [
    "lsdtt_drive = lsdmw.lsdtt_driver(read_prefix = \"CP_SRTM30_UTM\",\n",
    "                                 write_prefix= \"CP_SRTM30_UTM\",\n",
    "                                 parameter_dictionary=lsdtt_parameters)\n",
    "lsdtt_drive.print_parameters()"
   ]
  },
  {
   "cell_type": "markdown",
   "metadata": {},
   "source": [
    "Run *lsdtopotools*"
   ]
  },
  {
   "cell_type": "code",
   "execution_count": 12,
   "metadata": {},
   "outputs": [
    {
     "name": "stdout",
     "output_type": "stream",
     "text": [
      "Done writing the driver file\n",
      "I've finised writing the driver file. Let me run LSDTT for you.\n",
      "=========================================================\n",
      "|| Welcome to the LSDTopoTools basic metrics tool!     ||\n",
      "|| This program has a number of options for calculating||\n",
      "|| simple landscape metrics.                           ||\n",
      "|| This program was developed by Simon M. Mudd         ||\n",
      "||  at the University of Edinburgh                     ||\n",
      "=========================================================\n",
      "|| If you use these routines please cite:              ||\n",
      "|| https://www.doi.org/10.5281/zenodo.2560223          ||\n",
      "|| If you use the roughness routine please cite:       ||\n",
      "|| https://www.doi.org/10.5194/esurf-3-483-2015        ||\n",
      "=========================================================\n",
      "|| Documentation can be found at:                      ||\n",
      "|| https://lsdtopotools.github.io/LSDTT_documentation/ ||\n",
      "=========================================================\n",
      "=========================================================\n",
      "|| You have called an LSDTopoTools program.            ||\n",
      "|| Prepare to explore topographic data!                ||\n",
      "|| You can read the documentation at:                  ||\n",
      "=========================================================\n",
      "I have one argument. I don't know if this is a directory path\n",
      "or a driver filename. I am going to assume it is a directory path\n",
      "if it containes the character . or /\n",
      "Parsing the file\n",
      "Hello, I am going to parse your LSDTopoTools parameter file for you. \n",
      "The parameter filename is: ./Test_01.driver\n",
      "parameter is: NULL and value is: NULL\n",
      "parameter is: NULL and value is: \n",
      "parameter is: NULL and value is: NULL\n",
      "parameter is: read path and value is: ./\n",
      "parameter is: write path and value is: ./\n",
      "parameter is: read fname and value is: CP_SRTM30_UTM\n",
      "parameter is: write fname and value is: CP_SRTM30_UTM\n",
      "parameter is: NULL and value is: \n",
      "parameter is: NULL and value is: \n",
      "parameter is: NULL and value is: NULL\n",
      "parameter is: write_hillshade and value is: true\n",
      "parameter is: extract_single_channel and value is: true\n",
      "parameter is: channel_source_fname and value is: channel_source.csv\n",
      "parameter is: print_dinf_drainage_area_raster and value is: true\n",
      "parameter is: convert_csv_to_geojson and value is: true\n",
      "parameter is: NULL and value is: NULL\n",
      "\n",
      "\n",
      "\n",
      "----------------------\n",
      "Parsing the file I/O\n",
      "I didn't find CHeads_file in the parameter map\n",
      "Boundary conditions not assigned! Defaulting to no flux.\n",
      "Boundary[0]: n\n",
      "Boundary[1]: n\n",
      "Boundary[2]: n\n",
      "Boundary[3]: n\n",
      "LSDParameterParser Raster file extension not assigned! Defaulting to bil format.\n",
      "You entered: !\n",
      "The full read fname is:\n",
      " ./CP_SRTM30_UTM\n",
      "The full write fname is:\n",
      " ./CP_SRTM30_UTM\n",
      "The read and write extensions are: bil bil\n",
      "===============================\n",
      "WARNING!!! This program requires georeferencing so only bil format\n",
      "Topographic data will be allowed!!\n",
      "===============================\n",
      "Key is: A_0\n",
      "Key is: REI_critical_slope\n",
      "Key is: REI_window_radius\n",
      "Key is: SA_vertical_interval\n",
      "Key is: downslope_tagging_distance\n",
      "Key is: m_over_n\n",
      "Key is: maximum_elevation\n",
      "Key is: min_slope_for_fill\n",
      "Key is: minimum_bank_elevation_window_radius\n",
      "Key is: minimum_elevation\n",
      "Key is: punch_threshold\n",
      "Key is: relief_window\n",
      "Key is: river_depth\n",
      "Key is: roughness_radius\n",
      "Key is: single_channel_dig\n",
      "Key is: single_channel_drop\n",
      "Key is: surface_fitting_radius\n",
      "Key is: swath_bin_spacing\n",
      "Key is: swath_point_spacing\n",
      "Key is: swath_width\n",
      "Key is: test_bearing\n",
      "Key is: upslope_tagging_distance\n",
      "Key is: maximum_basin_size_pixels\n",
      "Key is: minimum_basin_size_pixels\n",
      "Key is: n_row_or_col_for_strips\n",
      "Key is: relief_window_kernel_type\n",
      "Key is: search_radius_nodes\n",
      "Key is: test_scale\n",
      "Key is: threshold_contributing_pixels\n",
      "Key is: threshold_stream_order_for_snapping\n",
      "Key is: trimming_buffer_pixels\n",
      "Key is: belowthresholdisnodata\n",
      "Key is: buffer_single_channel\n",
      "Key is: burn_raster_to_csv\n",
      "Key is: calculate_basin_statistics\n",
      "Key is: calculate_swath_along_channel\n",
      "Key is: calculate_swath_along_line\n",
      "Key is: calculate_swath_profile\n",
      "Key is: calculate_window_size\n",
      "Key is: carve_before_fill\n",
      "Key is: channel_and_valley_width_extraction\n",
      "Key is: convert_csv_to_geojson\n",
      "Key is: divide_finder\n",
      "Key is: extend_channel_to_node_before_receiver_junction\n",
      "Key is: extract_ridges\n",
      "Key is: extract_single_channel\n",
      "Key is: find_basins\n",
      "Key is: fixed_channel_dig_and_slope\n",
      "Key is: force_single_channel_slope\n",
      "Key is: get_basins_from_outlets\n",
      "Key is: horizontal_strips\n",
      "Key is: impose_single_channel\n",
      "Key is: isolate_pixels_draining_to_fixed_channel\n",
      "Key is: only_check_parameters\n",
      "Key is: only_take_largest_basin\n",
      "Key is: print_FreemanMD_drainage_area_raster\n",
      "Key is: print_MD_drainage_area_raster\n",
      "Key is: print_QuinnMD_drainage_area_raster\n",
      "Key is: print_REI_raster\n",
      "Key is: print_aspect\n",
      "Key is: print_basin_raster\n",
      "Key is: print_channels_to_csv\n",
      "Key is: print_chi_data_maps\n",
      "Key is: print_curvature\n",
      "Key is: print_d8_drainage_area_raster\n",
      "Key is: print_dinf_drainage_area_raster\n",
      "Key is: print_directional_gradients\n",
      "Key is: print_distance_from_outlet\n",
      "Key is: print_fill_raster\n",
      "Key is: print_junction_angles_to_csv\n",
      "Key is: print_junction_index_raster\n",
      "Key is: print_junctions_to_csv\n",
      "Key is: print_nearest_to_nodata_rasters\n",
      "Key is: print_planform_curvature\n",
      "Key is: print_point_classification\n",
      "Key is: print_profile_curvature\n",
      "Key is: print_raster_without_seas\n",
      "Key is: print_relief_raster\n",
      "Key is: print_roughness_rasters\n",
      "Key is: print_slope\n",
      "Key is: print_smoothed_elevation\n",
      "Key is: print_stream_order_raster\n",
      "Key is: print_swath_rasters\n",
      "Key is: print_tangential_curvature\n",
      "Key is: print_trimmed_raster\n",
      "Key is: print_wiener_filtered_raster\n",
      "Key is: punch_nodata\n",
      "Key is: raster_is_filled\n",
      "Key is: remove_nodes_influenced_by_edge\n",
      "Key is: remove_seas\n",
      "Key is: tag_downslope_nodes\n",
      "Key is: tag_nodes\n",
      "Key is: use_XY_for_buffer\n",
      "Key is: use_dinf_for_single_channel\n",
      "Key is: use_extended_channel_data\n",
      "Key is: use_xy_for_node_index\n",
      "Key is: write_hillshade\n",
      "Key is: BaselevelJunctions_file\n",
      "Key is: CHeads_file\n",
      "Key is: basin_outlet_csv\n",
      "Key is: burn_data_csv_column_header\n",
      "Key is: burn_raster_prefix\n",
      "Key is: channel_or_valley_raster_prefix\n",
      "Key is: channel_or_valley_skeleton_prefix\n",
      "Key is: channel_source_fname\n",
      "Key is: csv_to_burn_name\n",
      "Key is: fixed_channel_csv_name\n",
      "Key is: punch_raster_prefix\n",
      "Key is: single_channel_elev_string\n",
      "Key is: single_channel_fd_string\n",
      "Key is: swath_points_csv\n",
      "Key is: tagged_raster_input_name\n",
      "Key is: test_single_channel_name\n",
      "PRINT THE PARAMETERS...\n",
      "Read filename is: ./CP_SRTM30_UTM\n",
      "Write filename is: ./CP_SRTM30_UTM\n",
      "Data Type = 4\n",
      "I am removing high and low values to get rid of things that should be nodata.\n",
      "Got the dem: ./CP_SRTM30_UTM\n",
      "Let me print the hillshade for you. \n",
      "Hillshading with altitude: 45, azimuth: 315 and z-factor: 1\n",
      "The filename is ./CP_SRTM30_UTM_hs.bil\n",
      "I won't be doing any polyfitting so you have saved yourself some time!\n",
      "I will need to compute flow information, because you are getting drainage area or channel networks.\n",
      "Let me fill that raster for you, the min slope is: 0.0001\n",
      "\t Flow routing. Note this is memory intensive. If your DEM is very large you may get a segmentation fault here...\n",
      "Finished flow routing.\n",
      "I am writing dinf drainage area to raster.\n",
      "The filename is ./CP_SRTM30_UTM_dinf_area.bil\n",
      "I need to calculate the flow distance now.\n",
      "I am reading points from the file: channel_source.csv\n",
      "I am creating a csv object from a raster info object and a csv name.\n",
      "I have opened the csv file.\n",
      "This header is: id\n",
      "This header is: latitude\n",
      "The latitude index is: 1\n",
      "This header is: longitude\n",
      "The longitude index is: 2\n",
      "Looking for the single source. \n",
      "Easting is is: 748920 and northing is: 3.82657e+06\n",
      "Your node list has 683nodes\n",
      "Done with channel extraction\n",
      "I'm all finished! Have a nice day.\n"
     ]
    }
   ],
   "source": [
    "lsdtt_drive.run_lsdtt_command_line_tool()"
   ]
  },
  {
   "cell_type": "markdown",
   "metadata": {},
   "source": [
    "## Look at the point data"
   ]
  },
  {
   "cell_type": "code",
   "execution_count": 13,
   "metadata": {},
   "outputs": [],
   "source": [
    "from lsdviztools.lsdplottingtools import lsdmap_pointtools as lsdpt"
   ]
  },
  {
   "cell_type": "code",
   "execution_count": 14,
   "metadata": {},
   "outputs": [
    {
     "name": "stdout",
     "output_type": "stream",
     "text": [
      "I did not find a valid separator. I am assuming the path is ./\n",
      "The object file prefix is: single_channel_nodes\n",
      "Loading your file from csv\n",
      "done\n"
     ]
    }
   ],
   "source": [
    "point_data_name = \"single_channel_nodes.csv\"\n",
    "pointdata = lsdpt.LSDMap_PointData(point_data_name)"
   ]
  },
  {
   "cell_type": "markdown",
   "metadata": {},
   "source": [
    "Lets get some information from this file"
   ]
  },
  {
   "cell_type": "code",
   "execution_count": 15,
   "metadata": {},
   "outputs": [
    {
     "data": {
      "text/plain": [
       "['id',\n",
       " 'row',\n",
       " 'column',\n",
       " 'latitude',\n",
       " 'longitude',\n",
       " 'x',\n",
       " 'y',\n",
       " 'flow distance(m)',\n",
       " 'drainage area (m^2)',\n",
       " 'elevation(m)']"
      ]
     },
     "execution_count": 15,
     "metadata": {},
     "output_type": "execute_result"
    }
   ],
   "source": [
    "pointdata.GetParameterNames()"
   ]
  },
  {
   "cell_type": "markdown",
   "metadata": {},
   "source": [
    "Get the flow distance and elevation "
   ]
  },
  {
   "cell_type": "code",
   "execution_count": 16,
   "metadata": {},
   "outputs": [],
   "source": [
    "fd = pointdata.QueryData(\"flow distance(m)\")\n",
    "z =  pointdata.QueryData(\"elevation(m)\")\n",
    "da = pointdata.QueryData(\"drainage area (m^2)\")"
   ]
  },
  {
   "cell_type": "markdown",
   "metadata": {},
   "source": [
    "Scale a logarithmic version of drainage area for point scaling"
   ]
  },
  {
   "cell_type": "code",
   "execution_count": 17,
   "metadata": {},
   "outputs": [],
   "source": [
    "import numpy as np"
   ]
  },
  {
   "cell_type": "code",
   "execution_count": 18,
   "metadata": {},
   "outputs": [],
   "source": [
    "da = np.asarray(da)\n",
    "logda = np.log(da)"
   ]
  },
  {
   "cell_type": "code",
   "execution_count": 19,
   "metadata": {},
   "outputs": [],
   "source": [
    "damin = np.min(logda)\n",
    "damax = np.max(logda)\n",
    "logda = np.subtract(logda,damin)\n",
    "logda = np.divide(logda,(damax-damin))\n",
    "logda = np.multiply(logda,50)\n",
    "logda = np.add(logda,2)"
   ]
  },
  {
   "cell_type": "code",
   "execution_count": 20,
   "metadata": {},
   "outputs": [],
   "source": [
    "import matplotlib.pyplot as plt"
   ]
  },
  {
   "cell_type": "code",
   "execution_count": 21,
   "metadata": {},
   "outputs": [
    {
     "data": {
      "image/png": "[encoded data removed]",
      "text/plain": [
       "<Figure size 432x288 with 1 Axes>"
      ]
     },
     "metadata": {
      "needs_background": "light"
     },
     "output_type": "display_data"
    }
   ],
   "source": [
    "%matplotlib inline\n",
    "\n",
    "fig, ax = plt.subplots()\n",
    "ax.scatter(fd, z, c=da, s=logda, alpha=0.5)\n",
    "\n",
    "ax.set_xlabel(r'Flow distance (m)', fontsize=15)\n",
    "ax.set_ylabel(r'Elevation (m)', fontsize=15)\n",
    "ax.set_title('Points sized by drainage area')\n",
    "\n",
    "ax.grid(True)\n",
    "fig.tight_layout()\n",
    "\n",
    "plt.show()"
   ]
  },
  {
   "cell_type": "markdown",
   "metadata": {},
   "source": [
    "Now remove points below 150 m elevation"
   ]
  },
  {
   "cell_type": "code",
   "execution_count": 22,
   "metadata": {},
   "outputs": [
    {
     "name": "stdout",
     "output_type": "stream",
     "text": [
      "I am selecting your data for specific elevation(m)\n"
     ]
    }
   ],
   "source": [
    "pointdata2 = pointdata\n",
    "pointdata2.selectValue(\"elevation(m)\",value = 149.999, operator=\">\")"
   ]
  },
  {
   "cell_type": "code",
   "execution_count": 23,
   "metadata": {},
   "outputs": [],
   "source": [
    "fd = pointdata2.QueryData(\"flow distance(m)\")\n",
    "z =  pointdata2.QueryData(\"elevation(m)\")\n",
    "da = pointdata2.QueryData(\"drainage area (m^2)\")"
   ]
  },
  {
   "cell_type": "code",
   "execution_count": 24,
   "metadata": {},
   "outputs": [],
   "source": [
    "da = np.asarray(da)\n",
    "logda = np.log(da)\n",
    "damin = np.min(logda)\n",
    "damax = np.max(logda)\n",
    "logda = np.subtract(logda,damin)\n",
    "logda = np.divide(logda,(damax-damin))\n",
    "logda = np.multiply(logda,50)\n",
    "logda = np.add(logda,2)"
   ]
  },
  {
   "cell_type": "code",
   "execution_count": 25,
   "metadata": {},
   "outputs": [
    {
     "data": {
      "image/png": "[encoded data removed]",
      "text/plain": [
       "<Figure size 432x288 with 1 Axes>"
      ]
     },
     "metadata": {
      "needs_background": "light"
     },
     "output_type": "display_data"
    }
   ],
   "source": [
    "fig, ax = plt.subplots()\n",
    "ax.scatter(fd, z, c=da, s=logda, alpha=0.5)\n",
    "\n",
    "ax.set_xlabel(r'Flow distance (m)', fontsize=15)\n",
    "ax.set_ylabel(r'Elevation (m)', fontsize=15)\n",
    "ax.set_title('Points sized by drainage area')\n",
    "\n",
    "ax.grid(True)\n",
    "fig.tight_layout()\n",
    "\n",
    "plt.show()"
   ]
  },
  {
   "cell_type": "code",
   "execution_count": null,
   "metadata": {},
   "outputs": [],
   "source": []
  }
 ],
 "metadata": {
  "kernelspec": {
   "display_name": "Python 3 (ipykernel)",
   "language": "python",
   "name": "python3"
  },
  "language_info": {
   "codemirror_mode": {
    "name": "ipython",
    "version": 3
   },
   "file_extension": ".py",
   "mimetype": "text/x-python",
   "name": "python",
   "nbconvert_exporter": "python",
   "pygments_lexer": "ipython3",
   "version": "3.8.10"
  }
 },
 "nbformat": 4,
 "nbformat_minor": 4
}
