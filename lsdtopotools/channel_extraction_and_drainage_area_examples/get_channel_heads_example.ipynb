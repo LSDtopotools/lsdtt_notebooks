{
  "cells": [
    {
      "cell_type": "markdown",
      "metadata": {
        "colab_type": "text",
        "id": "view-in-github"
      },
      "source": [
        "<a href=\"https://colab.research.google.com/github/LSDtopotools/lsdtt_notebooks/blob/master/lsdtopotools/channel_extraction_and_drainage_area_examples/get_channel_heads_example.ipynb\" target=\"_parent\"><img src=\"https://colab.research.google.com/assets/colab-badge.svg\" alt=\"Open In Colab\"/></a>"
      ]
    },
    {
      "cell_type": "markdown",
      "id": "442a02e1",
      "metadata": {
        "id": "442a02e1"
      },
      "source": [
        "# Channel head extraction example"
      ]
    },
    {
      "cell_type": "markdown",
      "id": "a3be74de",
      "metadata": {
        "id": "a3be74de"
      },
      "source": [
        "Notebook last updated by Simon M Mudd 09/05/2023"
      ]
    },
    {
      "cell_type": "markdown",
      "id": "f60e022f",
      "metadata": {
        "id": "f60e022f"
      },
      "source": [
        "In this notebook we will extract channel heads using methods described in:\n",
        "\n",
        "* Clubb, F.J., Mudd, S.M., Milodowski, D.T., Hurst, M.D., Slater, L.J., 2014. Objective extraction of channel heads from high-resolution topographic data. Water Resources Research 50, 4283–4304. https://doi.org/10.1002/2013WR015167\n",
        "* Grieve, S.W.D., Mudd, S.M., Hurst, M.D., Milodowski, D.T., 2016. A nondimensional framework for exploring the relief structure of landscapes. Earth Surface Dynamics 4, 309–325. https://doi.org/10.5194/esurf-4-309-2016\n",
        "\n",
        "These methods are used with high resolution data. \n",
        "\n",
        "The Grieve et al 2016 paper found that channel head extraction is unliklely to succeed if the grid spacing is greater than 10 metres. "
      ]
    },
    {
      "cell_type": "markdown",
      "id": "cb597615",
      "metadata": {
        "id": "cb597615"
      },
      "source": [
        "## Stuff we need to do if you are in colab (not required in the lsdtopotools pytools container)"
      ]
    },
    {
      "cell_type": "markdown",
      "id": "f421233b",
      "metadata": {
        "id": "f421233b"
      },
      "source": [
        "**If you are in the `docker_lsdtt_pytools` docker container, you do not need to do any of this. \n",
        "The following is for executing this code in the google colab environment only.**\n",
        "\n",
        "If you are in the docker container you can skip to the **Download some data** section. "
      ]
    },
    {
      "cell_type": "markdown",
      "id": "add641e5",
      "metadata": {},
      "source": [
        "First we install `lsdtopotools`. The first line downloads the package and the second installs it. The `/dev/null` stuff is just to stop the notebook printing a bunch of text to screen.  "
      ]
    },
    {
      "cell_type": "code",
      "execution_count": null,
      "id": "5f6ddb24",
      "metadata": {},
      "outputs": [],
      "source": [
        "!wget https://pkgs.geos.ed.ac.uk/geos-jammy/pool/world/l/lsdtopotools2/lsdtopotools2_0.9-1geos~22.04.1_amd64.deb  &> /dev/null\n",
        "!apt install ./lsdtopotools2_0.9-1geos~22.04.1_amd64.deb  &> /dev/null"
      ]
    },
    {
      "cell_type": "markdown",
      "id": "0a882fa0",
      "metadata": {},
      "source": [
        "The next line tests to see if it worked. If you get some output asking for a parameter file then `lsdtopotools` is installed. This notebook was tested on version 0.9."
      ]
    },
    {
      "cell_type": "code",
      "execution_count": null,
      "id": "4ed60e76",
      "metadata": {},
      "outputs": [],
      "source": [
        "!lsdtt-basic-metrics -v"
      ]
    },
    {
      "cell_type": "markdown",
      "id": "f6805463",
      "metadata": {},
      "source": [
        "Now we install `lsdviztools`:"
      ]
    },
    {
      "cell_type": "code",
      "execution_count": null,
      "id": "03ce62a7",
      "metadata": {},
      "outputs": [],
      "source": [
        "!pip install lsdviztools  &> /dev/null"
      ]
    },
    {
      "cell_type": "markdown",
      "id": "8664a9f5",
      "metadata": {
        "id": "8664a9f5"
      },
      "source": [
        "## Add some necessary packages"
      ]
    },
    {
      "cell_type": "markdown",
      "id": "5b2def68",
      "metadata": {
        "id": "5b2def68"
      },
      "source": [
        "First check the version of lsdviztools. **For this notebook we need lsdviztools >=0.4.9**"
      ]
    },
    {
      "cell_type": "code",
      "execution_count": null,
      "id": "cf4a5224",
      "metadata": {
        "id": "cf4a5224"
      },
      "outputs": [],
      "source": [
        "import lsdviztools\n",
        "lsdviztools.__version__"
      ]
    },
    {
      "cell_type": "code",
      "execution_count": null,
      "id": "8fd137cd",
      "metadata": {
        "id": "8fd137cd"
      },
      "outputs": [],
      "source": [
        "import lsdviztools.lsdmapwrappers as lsdmw\n",
        "import lsdviztools.lsdbasemaptools as bmt\n",
        "from lsdviztools.lsdplottingtools import lsdmap_gdalio as gio"
      ]
    },
    {
      "cell_type": "markdown",
      "id": "5cdc7643",
      "metadata": {
        "id": "5cdc7643"
      },
      "source": [
        "### Get the example data"
      ]
    },
    {
      "cell_type": "markdown",
      "id": "0d7cf8d1",
      "metadata": {
        "id": "0d7cf8d1"
      },
      "source": [
        "The example data is an 18 Mb topographic dataset which you need to download:"
      ]
    },
    {
      "cell_type": "code",
      "execution_count": null,
      "id": "24407b7a",
      "metadata": {
        "id": "24407b7a"
      },
      "outputs": [],
      "source": [
        "# Get the data from github\n",
        "import urllib\n",
        "urllib.request.urlretrieve(\"https://raw.githubusercontent.com/LSDtopotools/ExampleTopoDatasets/master/ChannelExtractionData/IndianCreek_1m/indian_creek.hdr\", \"indian_creek.hdr\")\n",
        "urllib.request.urlretrieve(\"https://raw.githubusercontent.com/LSDtopotools/ExampleTopoDatasets/master/ChannelExtractionData/IndianCreek_1m/indian_creek.bil\", \"indian_creek.bil\")"
      ]
    },
    {
      "cell_type": "markdown",
      "id": "bQyNMxOjAvD1",
      "metadata": {
        "id": "bQyNMxOjAvD1"
      },
      "source": [
        "Lets make sure that file (`indian_creek.bil` and its header) have been downloaded:"
      ]
    },
    {
      "cell_type": "code",
      "execution_count": null,
      "id": "AdzpxDbjA1Gz",
      "metadata": {
        "id": "AdzpxDbjA1Gz"
      },
      "outputs": [],
      "source": [
        "!ls indian_creek*"
      ]
    },
    {
      "cell_type": "markdown",
      "id": "b572e682",
      "metadata": {
        "id": "b572e682"
      },
      "source": [
        "## Look at the topography"
      ]
    },
    {
      "cell_type": "markdown",
      "id": "1b11b05a",
      "metadata": {
        "id": "1b11b05a"
      },
      "source": [
        "Lets start by looking at the topography. The ```\"remove_seas\" : \"true\"``` deals with awkward nodata around the edge of the DEM:"
      ]
    },
    {
      "cell_type": "code",
      "execution_count": null,
      "id": "f1cbec81",
      "metadata": {
        "id": "f1cbec81"
      },
      "outputs": [],
      "source": [
        "lsdtt_parameters = {\"remove_seas\" : \"true\",\n",
        "                    \"write_hillshade\" : \"true\"}\n",
        "r_prefix = \"indian_creek\"\n",
        "w_prefix = \"indian_creek\"\n",
        "lsdtt_drive = lsdmw.lsdtt_driver(command_line_tool = \"lsdtt-basic-metrics\", \n",
        "                                 read_prefix = r_prefix,\n",
        "                                 write_prefix= w_prefix,\n",
        "                                 read_path = \"./\",\n",
        "                                 write_path = \"./\",\n",
        "                                 parameter_dictionary=lsdtt_parameters)\n",
        "lsdtt_drive.print_parameters()\n",
        "lsdtt_drive.run_lsdtt_command_line_tool()"
      ]
    },
    {
      "cell_type": "code",
      "execution_count": null,
      "id": "58d6fce2",
      "metadata": {
        "id": "58d6fce2"
      },
      "outputs": [],
      "source": [
        "### Plot the hillshade\n",
        "%matplotlib inline\n",
        "Base_file = \"indian_creek\"\n",
        "DataDirectory = \"./\"\n",
        "this_img = lsdmw.SimpleHillshade(DataDirectory,Base_file,cmap=\"gist_earth\", save_fig=False, size_format=\"geomorphology\")"
      ]
    },
    {
      "cell_type": "markdown",
      "id": "f8428f38",
      "metadata": {
        "id": "f8428f38"
      },
      "source": [
        "We can get the channel sources using using `lsdtt-channel-extraction`. We will use the `print_wiener_channels` option. You also need to get the sources with the option `print_sources_to_csv`. This will take around a minute. "
      ]
    },
    {
      "cell_type": "code",
      "execution_count": null,
      "id": "94d266bf",
      "metadata": {
        "id": "94d266bf"
      },
      "outputs": [],
      "source": [
        "lsdtt_parameters = {\"print_wiener_channels\" : \"true\",\n",
        "                    \"print_sources_to_csv\" : \"true\"}\n",
        "r_prefix = \"indian_creek\"\n",
        "w_prefix = \"indian_creek\"\n",
        "lsdtt_drive = lsdmw.lsdtt_driver(command_line_tool = \"lsdtt-channel-extraction\", \n",
        "                                 read_prefix = r_prefix,\n",
        "                                 write_prefix= w_prefix,\n",
        "                                 read_path = \"./\",\n",
        "                                 write_path = \"./\",\n",
        "                                 parameter_dictionary=lsdtt_parameters)\n",
        "lsdtt_drive.print_parameters()\n",
        "lsdtt_drive.run_lsdtt_command_line_tool()"
      ]
    },
    {
      "cell_type": "markdown",
      "id": "6dfdbe6f",
      "metadata": {
        "id": "6dfdbe6f"
      },
      "source": [
        "Right, now that that has finished, lets see what files we got:"
      ]
    },
    {
      "cell_type": "code",
      "execution_count": null,
      "id": "08f52d88",
      "metadata": {
        "id": "08f52d88"
      },
      "outputs": [],
      "source": [
        "!ls indian_creek*"
      ]
    },
    {
      "cell_type": "markdown",
      "id": "3c37b5b8",
      "metadata": {
        "id": "3c37b5b8"
      },
      "source": [
        "There are actually 2 files with sources here, one is `indian_creek_ATsources.csv` and the other is `indian_creek_Wsources.csv`. `AT` stands for *area threshold* (and is produced by default) and `W` is for wiener. "
      ]
    },
    {
      "cell_type": "markdown",
      "id": "adbf3ad9",
      "metadata": {
        "id": "adbf3ad9"
      },
      "source": [
        "## Look at the Sources using folium"
      ]
    },
    {
      "cell_type": "markdown",
      "id": "de6631c7",
      "metadata": {
        "id": "de6631c7"
      },
      "source": [
        "We can plot these sources on a folium map to compare them.\n",
        "Before we do that though, we need to load the two datasets with pandas"
      ]
    },
    {
      "cell_type": "code",
      "execution_count": null,
      "id": "72a0f50e",
      "metadata": {
        "id": "72a0f50e"
      },
      "outputs": [],
      "source": [
        "import pandas as pd\n",
        "\n",
        "sources_AT_df = pd.read_csv(\"indian_creek_ATsources.csv\")\n",
        "sources_W_df = pd.read_csv(\"indian_creek_Wsources.csv\")"
      ]
    },
    {
      "cell_type": "code",
      "execution_count": null,
      "id": "cbaa9853",
      "metadata": {
        "id": "cbaa9853"
      },
      "outputs": [],
      "source": [
        "# This is for the area threshold points\n",
        "\n",
        "import folium\n",
        "\n",
        "#create a map\n",
        "this_map = folium.Map(prefer_canvas=True, tiles='Stamen Terrain')\n",
        "\n",
        "def plotDot(point):\n",
        "    '''input: series that contains a numeric named latitude and a numeric named longitude\n",
        "    this function creates a CircleMarker and adds it to your this_map'''\n",
        "    folium.CircleMarker(location=[point.latitude, point.longitude],\n",
        "                        radius=2,\n",
        "                        weight=5).add_to(this_map)\n",
        "\n",
        "#use df.apply(,axis=1) to \"iterate\" through every row in your dataframe\n",
        "sources_AT_df.apply(plotDot, axis = 1)\n",
        "\n",
        "\n",
        "#Set the zoom to the maximum possible\n",
        "this_map.fit_bounds(this_map.get_bounds())\n",
        "\n",
        "#Save the map to an HTML file\n",
        "this_map.save('simple_dot_plot.html')\n",
        "\n",
        "this_map"
      ]
    },
    {
      "cell_type": "code",
      "execution_count": null,
      "id": "38b08d2e",
      "metadata": {
        "id": "38b08d2e",
        "scrolled": true
      },
      "outputs": [],
      "source": [
        "# This is for the wiener points\n",
        "\n",
        "import folium\n",
        "\n",
        "#create a map\n",
        "this_map = folium.Map(prefer_canvas=True, tiles='Stamen Terrain')\n",
        "\n",
        "def plotDot(point):\n",
        "    '''input: series that contains a numeric named latitude and a numeric named longitude\n",
        "    this function creates a CircleMarker and adds it to your this_map'''\n",
        "    folium.CircleMarker(location=[point.latitude, point.longitude],\n",
        "                        radius=2,\n",
        "                        weight=5).add_to(this_map)\n",
        "\n",
        "#use df.apply(,axis=1) to \"iterate\" through every row in your dataframe\n",
        "sources_W_df.apply(plotDot, axis = 1)\n",
        "\n",
        "\n",
        "#Set the zoom to the maximum possible\n",
        "this_map.fit_bounds(this_map.get_bounds())\n",
        "\n",
        "#Save the map to an HTML file\n",
        "this_map.save('simple_dot_plot.html')\n",
        "\n",
        "this_map"
      ]
    },
    {
      "cell_type": "markdown",
      "id": "9884158a",
      "metadata": {
        "id": "9884158a"
      },
      "source": [
        "You will notice that the Wiener sources appear at much more realistic locations on this map. If you want to use channel sources and are particular about the headwaters, you probably want to use this method (see https://agupubs.onlinelibrary.wiley.com/doi/full/10.1002/2013WR015167 and https://esurf.copernicus.org/articles/4/627/2016/).\n",
        "\n",
        "When looking for valleys and floodplains, however, you can set a minimum stream order so that the smallest channels are not captured. Even if the area threshold channel sources are not particularly accurate, the higher order streams will still be in reasonable locations. "
      ]
    },
    {
      "cell_type": "markdown",
      "id": "d0ce9e0f",
      "metadata": {
        "id": "d0ce9e0f"
      },
      "source": [
        "## Plot the points using `lsdviztools`"
      ]
    },
    {
      "cell_type": "markdown",
      "id": "b6591349",
      "metadata": {
        "id": "b6591349"
      },
      "source": [
        "We can also plot these points using one of the `lsdviztools` plotting routines:"
      ]
    },
    {
      "cell_type": "code",
      "execution_count": null,
      "id": "b21db757",
      "metadata": {
        "id": "b21db757"
      },
      "outputs": [],
      "source": [
        "sources_W_df.head()"
      ]
    },
    {
      "cell_type": "code",
      "execution_count": null,
      "id": "22911944",
      "metadata": {
        "id": "22911944"
      },
      "outputs": [],
      "source": [
        "### Plot the hillshade\n",
        "import lsdviztools.lsdmapwrappers as lsdmw\n",
        "%matplotlib inline\n",
        "Base_file = \"indian_creek\"\n",
        "DataDirectory = \"./\"\n",
        "this_img = lsdmw.PrintPointsOverHillshade(DataDirectory,Base_file, column_for_plotting = \"drainage_area\", \n",
        "                                          scaled_data_in_log = True,\n",
        "                                          points_fname = \"indian_creek_Wsources.csv\", \n",
        "                                          scale_points = False, manual_size =10,\n",
        "                                          cmap=\"cubehelix\", save_fig=False, size_format=\"geomorphology\")"
      ]
    },
    {
      "cell_type": "markdown",
      "id": "83568b6b",
      "metadata": {
        "id": "83568b6b"
      },
      "source": [
        "## Extract a channel network on the basis of these source points"
      ]
    },
    {
      "cell_type": "code",
      "execution_count": null,
      "id": "9fba9e33",
      "metadata": {
        "id": "9fba9e33"
      },
      "outputs": [],
      "source": [
        "lsdtt_parameters = {\"remove_seas\" : \"true\",\n",
        "                    \"print_channels_to_csv\" : \"true\",\n",
        "                    \"CHeads_file\" : \"indian_creek_Wsources.csv\",\n",
        "                    \"use_extended_channel_data\" : \"true\"}\n",
        "r_prefix = \"indian_creek\"\n",
        "w_prefix = \"indian_creek\"\n",
        "lsdtt_drive = lsdmw.lsdtt_driver(command_line_tool = \"lsdtt-channel-extraction\", \n",
        "                                 read_prefix = r_prefix,\n",
        "                                 write_prefix= w_prefix,\n",
        "                                 read_path = \"./\",\n",
        "                                 write_path = \"./\",\n",
        "                                 parameter_dictionary=lsdtt_parameters)\n",
        "lsdtt_drive.print_parameters()\n",
        "lsdtt_drive.run_lsdtt_command_line_tool()"
      ]
    },
    {
      "cell_type": "markdown",
      "id": "a402142f",
      "metadata": {
        "id": "a402142f"
      },
      "source": [
        "Lets see what csv file this produced:\n",
        "In this code an area threshold channel network is created by default (`indian_creek_AT_CN.csv`) but in addition there is a channel network from the channel head file (`indian_creek_FromCHF_CN.csv`)"
      ]
    },
    {
      "cell_type": "code",
      "execution_count": null,
      "id": "8b15af53",
      "metadata": {
        "id": "8b15af53",
        "scrolled": true
      },
      "outputs": [],
      "source": [
        "!ls *.csv"
      ]
    },
    {
      "cell_type": "markdown",
      "id": "95bbc640",
      "metadata": {
        "id": "95bbc640"
      },
      "source": [
        "Right, lets load that channel file into a pandas dataframe so we can see what it looks like:"
      ]
    },
    {
      "cell_type": "code",
      "execution_count": null,
      "id": "51d89ef2",
      "metadata": {
        "id": "51d89ef2",
        "scrolled": true
      },
      "outputs": [],
      "source": [
        "import pandas as pd\n",
        "df = pd.read_csv(\"indian_creek_FromCHF_CN.csv\")\n",
        "df.head()"
      ]
    },
    {
      "cell_type": "markdown",
      "id": "1126754c",
      "metadata": {
        "id": "1126754c"
      },
      "source": [
        "We need to list the column headers to make sure we have the exact column names:"
      ]
    },
    {
      "cell_type": "code",
      "execution_count": null,
      "id": "7be2410a",
      "metadata": {
        "id": "7be2410a"
      },
      "outputs": [],
      "source": [
        "list(df)"
      ]
    },
    {
      "cell_type": "markdown",
      "id": "11cab9f7",
      "metadata": {
        "id": "11cab9f7"
      },
      "source": [
        "Okay, now we can do some fancy formatting and plot the channel network, with the points sized by the stream order. "
      ]
    },
    {
      "cell_type": "code",
      "execution_count": null,
      "id": "6c6b1fa2",
      "metadata": {
        "id": "6c6b1fa2"
      },
      "outputs": [],
      "source": [
        "### Plot points the hillshade\n",
        "import lsdviztools.lsdmapwrappers as lsdmw\n",
        "%matplotlib inline\n",
        "Base_file = \"indian_creek\"\n",
        "DataDirectory = \"./\"\n",
        "this_img = lsdmw.PrintPointsOverHillshade(DataDirectory,Base_file, column_for_plotting = \"elevation(m)\", \n",
        "                                          points_fname = \"indian_creek_FromCHF_CN.csv\", \n",
        "                                          scale_points = True, column_for_scaling = \"Stream Order\",\n",
        "                                          scaled_data_in_log = False, max_point_size = 20, min_point_size = 2,\n",
        "                                          cmap=\"Blues\", save_fig=False, size_format=\"geomorphology\")"
      ]
    },
    {
      "cell_type": "code",
      "execution_count": null,
      "id": "c832d032",
      "metadata": {
        "id": "c832d032"
      },
      "outputs": [],
      "source": []
    }
  ],
  "metadata": {
    "colab": {
      "include_colab_link": true,
      "provenance": []
    },
    "kernelspec": {
      "display_name": "Python 3 (ipykernel)",
      "language": "python",
      "name": "python3"
    },
    "language_info": {
      "codemirror_mode": {
        "name": "ipython",
        "version": 3
      },
      "file_extension": ".py",
      "mimetype": "text/x-python",
      "name": "python",
      "nbconvert_exporter": "python",
      "pygments_lexer": "ipython3",
      "version": "3.9.16"
    }
  },
  "nbformat": 4,
  "nbformat_minor": 5
}
