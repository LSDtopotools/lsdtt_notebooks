{
  "nbformat": 4,
  "nbformat_minor": 0,
  "metadata": {
    "colab": {
      "provenance": [],
      "authorship_tag": "ABX9TyNBiZLgpAkat09KJEl6kMb3",
      "include_colab_link": true
    },
    "kernelspec": {
      "name": "python3",
      "display_name": "Python 3"
    },
    "language_info": {
      "name": "python"
    }
  },
  "cells": [
    {
      "cell_type": "markdown",
      "metadata": {
        "id": "view-in-github",
        "colab_type": "text"
      },
      "source": [
        "<a href=\"https://colab.research.google.com/github/LSDtopotools/lsdtt_notebooks/blob/master/lsdtopotools/basic_examples/template_for_channel_network_and_basemap.ipynb\" target=\"_parent\"><img src=\"https://colab.research.google.com/assets/colab-badge.svg\" alt=\"Open In Colab\"/></a>"
      ]
    },
    {
      "cell_type": "markdown",
      "metadata": {
        "id": "71f62d57"
      },
      "source": [
        "# Template for making a nice image of a channel network"
      ]
    },
    {
      "cell_type": "markdown",
      "metadata": {
        "id": "ed93a83c"
      },
      "source": [
        "Last updated by Simon M Mudd on 21/11/2024"
      ]
    },
    {
      "cell_type": "markdown",
      "metadata": {
        "id": "f7c15ada"
      },
      "source": [
        "This is a template notebook for picking a place and making a nice image of the channel network, alongside some site information.\n",
        "\n",
        "If you use this software for your research, please cite https://doi.org/10.5281/zenodo.3245040"
      ]
    },
    {
      "cell_type": "markdown",
      "metadata": {
        "id": "4b27be8f"
      },
      "source": [
        "## If you are on colab"
      ]
    },
    {
      "cell_type": "markdown",
      "metadata": {
        "id": "994da2f2"
      },
      "source": [
        "**If you are in the `docker_lsdtt_pytools` docker container, you do not need to do any of this.\n",
        "The following is for executing this code in the google colab environment only.**\n",
        "\n",
        "If you are in the docker container you can skip to the **First get data** section."
      ]
    },
    {
      "cell_type": "markdown",
      "metadata": {
        "id": "JAhUldxXyFM6"
      },
      "source": [
        "First we install `lsdtopotools`. The first line downloads the package and the second installs it. The `/dev/null` stuff is just to stop the notebook printing a bunch of text to screen.  "
      ]
    },
    {
      "cell_type": "code",
      "execution_count": 1,
      "metadata": {
        "id": "NDe5LOHlyFM7"
      },
      "outputs": [],
      "source": [
        "!wget https://pkgs.geos.ed.ac.uk/geos-jammy/pool/world/l/lsdtopotools2/lsdtopotools2_0.9-1geos~22.04.1_amd64.deb  &> /dev/null\n",
        "!apt install ./lsdtopotools2_0.9-1geos~22.04.1_amd64.deb  &> /dev/null"
      ]
    },
    {
      "cell_type": "markdown",
      "metadata": {
        "id": "BN9dEBeXyFM8"
      },
      "source": [
        "The next line tests to see if it worked. If you get some output asking for a parameter file then `lsdtopotools` is installed. This notebook was tested on version 0.9."
      ]
    },
    {
      "cell_type": "code",
      "execution_count": 2,
      "metadata": {
        "id": "EilA7hWDyFM9",
        "colab": {
          "base_uri": "https://localhost:8080/"
        },
        "outputId": "71ccb0a5-b48b-41a2-a45f-e5abdc92c033"
      },
      "outputs": [
        {
          "output_type": "stream",
          "name": "stdout",
          "text": [
            "=========================================================\n",
            "|| Welcome to the LSDTopoTools basic metrics tool!     ||\n",
            "|| This program has a number of options for calculating||\n",
            "|| simple landscape metrics.                           ||\n",
            "|| This program was developed by Simon M. Mudd         ||\n",
            "||  at the University of Edinburgh                     ||\n",
            "=========================================================\n",
            "|| If you use these routines please cite:              ||\n",
            "|| http://doi.org/10.5281/zenodo.4577879               ||\n",
            "|| If you use the roughness routine please cite:       ||\n",
            "|| https://www.doi.org/10.5194/esurf-3-483-2015        ||\n",
            "=========================================================\n",
            "|| Documentation can be found at:                      ||\n",
            "|| https://lsdtopotools.github.io/LSDTT_documentation/ ||\n",
            "=========================================================\n",
            "|| This is LSDTopoTools2 version                       ||\n",
            "|| 0.9\n",
            "|| If the version number has a d at the end it is a    ||\n",
            "||  development version.                               ||\n",
            "=========================================================\n",
            "=========================================================\n",
            "|| You have called an LSDTopoTools program.            ||\n",
            "|| Prepare to explore topographic data!                ||\n",
            "|| You can find some examples of usage here:           ||\n",
            "|| https://github.com/LSDtopotools/lsdtt_notebooks     ||\n",
            "=========================================================\n",
            "I have one argument. I don't know if this is a directory path\n",
            "or a driver filename. I am going to assume it is a directory path\n",
            "if it containes the character . or /\n",
            "\n",
            "\n",
            "\n",
            "==============================================\n",
            "This is lsdtt-basic-metrics version number 0.9\n",
            "If the version contains a 'd' then you are using a development version.\n",
            "=========================================================\n"
          ]
        }
      ],
      "source": [
        "!lsdtt-basic-metrics -v"
      ]
    },
    {
      "cell_type": "markdown",
      "metadata": {
        "id": "REiOaqneyFM-"
      },
      "source": [
        "Now we install `lsdviztools`:"
      ]
    },
    {
      "cell_type": "code",
      "execution_count": 3,
      "metadata": {
        "id": "zEIGTxdEyFM_"
      },
      "outputs": [],
      "source": [
        "!pip install lsdviztools  &> /dev/null"
      ]
    },
    {
      "cell_type": "markdown",
      "source": [
        "This template needs `lsdviztools` version 0.4.14 or higher, so test:"
      ],
      "metadata": {
        "id": "2Yy-zk0UL34N"
      }
    },
    {
      "cell_type": "code",
      "source": [
        "import lsdviztools\n",
        "lsdviztools.__version__"
      ],
      "metadata": {
        "colab": {
          "base_uri": "https://localhost:8080/",
          "height": 36
        },
        "id": "0vsy83FhMADG",
        "outputId": "0426a71c-63d8-486c-cc7d-ffa7bcdc2871"
      },
      "execution_count": 4,
      "outputs": [
        {
          "output_type": "execute_result",
          "data": {
            "text/plain": [
              "'0.4.14'"
            ],
            "application/vnd.google.colaboratory.intrinsic+json": {
              "type": "string"
            }
          },
          "metadata": {},
          "execution_count": 4
        }
      ]
    },
    {
      "cell_type": "markdown",
      "metadata": {
        "id": "5TYTr1c4bOUx"
      },
      "source": [
        "## Now get some data"
      ]
    },
    {
      "cell_type": "markdown",
      "metadata": {
        "id": "324a327a"
      },
      "source": [
        "We need to get some data to download.\n",
        "\n",
        "For this example we will work on the toe of the boot in Calabria, Italy.\n",
        "\n",
        "We are going to download data using the opentopography scraper that is included with `lsdviztools`. You will need to get an opentopography.org account and copy in your API key.\n",
        "\n",
        "You can sign up to an opentopography.org account here: https://portal.opentopography.org/myopentopo"
      ]
    },
    {
      "cell_type": "code",
      "execution_count": 5,
      "metadata": {
        "id": "5d62c76c",
        "colab": {
          "base_uri": "https://localhost:8080/",
          "height": 820
        },
        "outputId": "8e566487-31c0-4fd8-b242-d7dbd6adb8e1"
      },
      "outputs": [
        {
          "output_type": "stream",
          "name": "stdout",
          "text": [
            "I am reading you OT API key from the file my_OT_api_key.txt\n",
            "Your api key starts with: 9515\n",
            "I am taking your coordinates from the lower left list\n",
            "I am taking your coordinates from the upper right list\n",
            "I am reading you OT API key from the file my_OT_api_key.txt\n",
            "The grid spacing for your DEM will be:30\n",
            "The source is: COP30\n",
            "The west longitude is: 69.65505930582663\n",
            "The east longitude is: 71.75292435647813\n",
            "The south latitude is: 42.593615267006946\n",
            "The north latitude is: 40.95399473322263\n",
            "The path is: ./\n",
            "The prefix is: RC\n",
            "The grid spacing is: 30\n",
            "I am going to download a file from opentopography (I've removed the API key):\n",
            "https://portal.opentopography.org/API/globaldem?demtype=COP30&south=40.95399473322263&north=42.593615267006946&west=69.65505930582663&east=71.75292435647813&outputFormat=GTiff\n",
            "This might take a little while, depending on the size of the file. \n",
            "The filename will be:\n",
            "./RC_COP30.tif\n",
            "The path and file without path are:\n",
            "./  RC_COP30.tif\n",
            "Finished downloading\n",
            "You are converting a DEM, you need to give it a grid spacing, if not the default is 30m\n",
            "You are converting a DEM, you need to give it a grid spacing, if not the default is 30m\n",
            "The projections is:\n",
            "GEOGCS[\"WGS 84\",DATUM[\"WGS_1984\",SPHEROID[\"WGS 84\",6378137,298.257223563,AUTHORITY[\"EPSG\",\"7030\"]],AUTHORITY[\"EPSG\",\"6326\"]],PRIMEM[\"Greenwich\",0,AUTHORITY[\"EPSG\",\"8901\"]],UNIT[\"degree\",0.0174532925199433,AUTHORITY[\"EPSG\",\"9122\"]],AXIS[\"Latitude\",NORTH],AXIS[\"Longitude\",EAST],AUTHORITY[\"EPSG\",\"4326\"]]\n",
            "And some extra projection information strings:\n",
            "None\n",
            "WGS 84\n",
            "The initial epsg code is: epsg:4326\n",
            "The centre of the raster is at:\n",
            "(70.47472221111111, 41.544722233333324)\n",
            "dem_data.width is: 7552\n",
            "The latitude and longitude is\n",
            "41.544722233333324 70.47472221111111\n",
            "latitude: 41.544722233333324\n",
            "longitude: 70.47472221111111\n",
            "Getting the UTM zone.\n",
            "res tuple is:\n",
            "(30, 30)\n",
            "The destination CRS is: EPSG:32642\n",
            "{'driver': 'GTiff', 'dtype': 'float32', 'nodata': None, 'width': 5932, 'height': 6184, 'count': 1, 'crs': CRS.from_wkt('PROJCS[\"WGS 84 / UTM zone 42N\",GEOGCS[\"WGS 84\",DATUM[\"WGS_1984\",SPHEROID[\"WGS 84\",6378137,298.257223563,AUTHORITY[\"EPSG\",\"7030\"]],AUTHORITY[\"EPSG\",\"6326\"]],PRIMEM[\"Greenwich\",0,AUTHORITY[\"EPSG\",\"8901\"]],UNIT[\"degree\",0.0174532925199433,AUTHORITY[\"EPSG\",\"9122\"]],AUTHORITY[\"EPSG\",\"4326\"]],PROJECTION[\"Transverse_Mercator\"],PARAMETER[\"latitude_of_origin\",0],PARAMETER[\"central_meridian\",69],PARAMETER[\"scale_factor\",0.9996],PARAMETER[\"false_easting\",500000],PARAMETER[\"false_northing\",0],UNIT[\"metre\",1,AUTHORITY[\"EPSG\",\"9001\"]],AXIS[\"Easting\",EAST],AXIS[\"Northing\",NORTH],AUTHORITY[\"EPSG\",\"32642\"]]'), 'transform': Affine(30.0, 0.0, 553727.0504429999,\n",
            "       0.0, -30.0, 4719376.159576524)}\n",
            "Removing pixels with an elevation less than 0.01\n"
          ]
        },
        {
          "output_type": "execute_result",
          "data": {
            "text/plain": [
              "'RC_COP30_UTM.bil'"
            ],
            "application/vnd.google.colaboratory.intrinsic+json": {
              "type": "string"
            }
          },
          "metadata": {},
          "execution_count": 5
        }
      ],
      "source": [
        "import lsdviztools.lsdbasemaptools as bmt\n",
        "from lsdviztools.lsdplottingtools import lsdmap_gdalio as gio\n",
        "\n",
        "# YOU NEED TO PUT YOUR API KEY IN A FILE\n",
        "your_OT_api_key_file = \"my_OT_api_key.txt\"\n",
        "\n",
        "with open(your_OT_api_key_file, 'r') as file:\n",
        "    print(\"I am reading you OT API key from the file \"+your_OT_api_key_file)\n",
        "    api_key = file.read().rstrip()\n",
        "    print(\"Your api key starts with: \"+api_key[0:4])\n",
        "\n",
        "Dataset_prefix = \"RC\"\n",
        "source_name = \"COP30\"\n",
        "\n",
        "my_DEM = bmt.ot_scraper(source = source_name,\n",
        "                        lower_left_coordinates = [40.95399473322263, 69.65505930582663],\n",
        "                        upper_right_coordinates = [42.593615267006946, 71.75292435647813],\n",
        "                        prefix = Dataset_prefix,\n",
        "                        api_key_file = your_OT_api_key_file)\n",
        "my_DEM.print_parameters()\n",
        "my_DEM.download_pythonic()\n",
        "DataDirectory = \"./\"\n",
        "Fname = Dataset_prefix+\"_\"+source_name+\".tif\"\n",
        "gio.convert4lsdtt(DataDirectory,Fname)"
      ]
    },
    {
      "cell_type": "markdown",
      "source": [
        "## Now process the data"
      ],
      "metadata": {
        "id": "zc32Wdb2yeNy"
      }
    },
    {
      "cell_type": "markdown",
      "metadata": {
        "id": "7775d95e"
      },
      "source": [
        "Now lets use *lsdtopotools* to extact channels and drainage areas. We first need to import the `lsdmapwrappers` module, and then run the code."
      ]
    },
    {
      "cell_type": "code",
      "execution_count": 6,
      "metadata": {
        "id": "72cac9aa",
        "colab": {
          "base_uri": "https://localhost:8080/"
        },
        "outputId": "939924ec-fdde-4180-b08c-700d785e81d9"
      },
      "outputs": [
        {
          "output_type": "stream",
          "name": "stdout",
          "text": [
            "The lsdtopotools command line tools available are: \n",
            "['lsdtt-basic-metrics', 'lsdtt-channel-extraction', 'lsdtt-chi-mapping', 'lsdtt-cosmo-tool', 'lsdtt-hillslope-channel-coupling', 'lsdtt-valley-metrics']\n",
            "Testing has been done against lsdtopotools v0.7\n",
            "The command line tool is: lsdtt-basic-metrics\n",
            "The driver name is: Test_01\n",
            "The read path is: ./\n",
            "The write path is: ./\n",
            "The read prefix is: RC_COP30_UTM\n",
            "The write prefix is: RC_COP30_UTM\n",
            "The parameter dictionary is:\n",
            "{'write_hillshade': 'true', 'print_channels_to_csv': 'true', 'carve_before_fill': 'true', 'print_d8_drainage_area_raster': 'true'}\n",
            "Done writing the driver file\n",
            "I've finised writing the driver file. Let me run LSDTT for you.\n"
          ]
        }
      ],
      "source": [
        "import lsdviztools.lsdmapwrappers as lsdmw\n",
        "\n",
        "## Get the basins\n",
        "lsdtt_parameters = {\"write_hillshade\" : \"true\",\n",
        "                    \"print_channels_to_csv\" : \"true\",\n",
        "                    \"carve_before_fill\" : \"true\",\n",
        "                    \"print_d8_drainage_area_raster\" : \"true\"}\n",
        "r_prefix = Dataset_prefix+\"_\"+source_name +\"_UTM\"\n",
        "w_prefix = Dataset_prefix+\"_\"+source_name +\"_UTM\"\n",
        "lsdtt_drive = lsdmw.lsdtt_driver(command_line_tool = \"lsdtt-basic-metrics\",\n",
        "                                 read_prefix = r_prefix,\n",
        "                                 write_prefix= w_prefix,\n",
        "                                 read_path = \"./\",\n",
        "                                 write_path = \"./\",\n",
        "                                 parameter_dictionary=lsdtt_parameters)\n",
        "lsdtt_drive.print_parameters()\n",
        "lsdtt_drive.run_lsdtt_command_line_tool()"
      ]
    },
    {
      "cell_type": "markdown",
      "source": [
        "Now we would like to \"burn\" the drainage area data onto the channel file.\n",
        "\n",
        "**Important: this routine does not check for completeness of the basins, so drainage area will be incorrect for basins draining from the edge**"
      ],
      "metadata": {
        "id": "W_ZLfwpKLdSq"
      }
    },
    {
      "cell_type": "code",
      "source": [
        "import lsdviztools.lsdmapwrappers as lsdmw\n",
        "\n",
        "burn_raster_prefix = Dataset_prefix+\"_\"+source_name +\"_UTM_d8_area\"\n",
        "csv_name = Dataset_prefix+\"_\"+source_name +\"_UTM_CN.csv\"\n",
        "\n",
        "## Get the basins\n",
        "lsdtt_parameters = {\"burn_raster_to_csv\" : \"true\",\n",
        "                    \"burn_raster_prefix\" : burn_raster_prefix,\n",
        "                    \"burn_data_csv_column_header\" : \"drainage_area\",\n",
        "                    \"csv_to_burn_name\" : csv_name}\n",
        "r_prefix = Dataset_prefix+\"_\"+source_name +\"_UTM\"\n",
        "w_prefix = Dataset_prefix+\"_\"+source_name +\"_UTM\"\n",
        "lsdtt_drive = lsdmw.lsdtt_driver(command_line_tool = \"lsdtt-basic-metrics\",\n",
        "                                 read_prefix = r_prefix,\n",
        "                                 write_prefix= w_prefix,\n",
        "                                 read_path = \"./\",\n",
        "                                 write_path = \"./\",\n",
        "                                 parameter_dictionary=lsdtt_parameters)\n",
        "lsdtt_drive.print_parameters()\n",
        "lsdtt_drive.run_lsdtt_command_line_tool()"
      ],
      "metadata": {
        "colab": {
          "base_uri": "https://localhost:8080/"
        },
        "id": "kPsw9_ZANGfo",
        "outputId": "07c4e76e-c9f6-465b-fd8a-e433a821ce61"
      },
      "execution_count": 7,
      "outputs": [
        {
          "output_type": "stream",
          "name": "stdout",
          "text": [
            "The lsdtopotools command line tools available are: \n",
            "['lsdtt-basic-metrics', 'lsdtt-channel-extraction', 'lsdtt-chi-mapping', 'lsdtt-cosmo-tool', 'lsdtt-hillslope-channel-coupling', 'lsdtt-valley-metrics']\n",
            "Testing has been done against lsdtopotools v0.7\n",
            "The command line tool is: lsdtt-basic-metrics\n",
            "The driver name is: Test_01\n",
            "The read path is: ./\n",
            "The write path is: ./\n",
            "The read prefix is: RC_COP30_UTM\n",
            "The write prefix is: RC_COP30_UTM\n",
            "The parameter dictionary is:\n",
            "{'burn_raster_to_csv': 'true', 'burn_raster_prefix': 'RC_COP30_UTM_d8_area', 'burn_data_csv_column_header': 'drainage_area', 'csv_to_burn_name': 'RC_COP30_UTM_CN.csv'}\n",
            "Done writing the driver file\n",
            "I've finised writing the driver file. Let me run LSDTT for you.\n"
          ]
        }
      ]
    },
    {
      "cell_type": "markdown",
      "source": [
        "## Have a look at the channel data"
      ],
      "metadata": {
        "id": "IPZ9tNFhM2fI"
      }
    },
    {
      "cell_type": "code",
      "source": [
        "import pandas as pd\n",
        "\n",
        "burned_csv_name = Dataset_prefix+\"_\"+source_name +\"_UTM_burned.csv\"\n",
        "df = pd.read_csv(burned_csv_name)\n",
        "df.head()"
      ],
      "metadata": {
        "id": "UUra5rHlL0Vq",
        "outputId": "a858373b-83e0-4430-d171-024b1cd552ea",
        "colab": {
          "base_uri": "https://localhost:8080/",
          "height": 206
        }
      },
      "execution_count": 12,
      "outputs": [
        {
          "output_type": "execute_result",
          "data": {
            "text/plain": [
              "    latitude  longitude  JunctionIndex    NI  StreamOrder  drainage_area  \\\n",
              "0  42.593753  71.620026              0  1905            1       954900.0   \n",
              "1  42.593571  71.568466              1  4075            1       906300.0   \n",
              "2  42.593563  71.568832              1  4076            1       927000.0   \n",
              "3  42.593554  71.569199              2  4077            1      1055700.0   \n",
              "4  42.592945  71.596230              3  4151            1      1534500.0   \n",
              "\n",
              "   receiver_JI  receiver_NI  \n",
              "0            0         1905  \n",
              "1            2         4076  \n",
              "2            2         4077  \n",
              "3            2         4077  \n",
              "4            4         4152  "
            ],
            "text/html": [
              "\n",
              "  <div id=\"df-4b5344b2-e115-4de5-bff7-995083e857ab\" class=\"colab-df-container\">\n",
              "    <div>\n",
              "<style scoped>\n",
              "    .dataframe tbody tr th:only-of-type {\n",
              "        vertical-align: middle;\n",
              "    }\n",
              "\n",
              "    .dataframe tbody tr th {\n",
              "        vertical-align: top;\n",
              "    }\n",
              "\n",
              "    .dataframe thead th {\n",
              "        text-align: right;\n",
              "    }\n",
              "</style>\n",
              "<table border=\"1\" class=\"dataframe\">\n",
              "  <thead>\n",
              "    <tr style=\"text-align: right;\">\n",
              "      <th></th>\n",
              "      <th>latitude</th>\n",
              "      <th>longitude</th>\n",
              "      <th>JunctionIndex</th>\n",
              "      <th>NI</th>\n",
              "      <th>StreamOrder</th>\n",
              "      <th>drainage_area</th>\n",
              "      <th>receiver_JI</th>\n",
              "      <th>receiver_NI</th>\n",
              "    </tr>\n",
              "  </thead>\n",
              "  <tbody>\n",
              "    <tr>\n",
              "      <th>0</th>\n",
              "      <td>42.593753</td>\n",
              "      <td>71.620026</td>\n",
              "      <td>0</td>\n",
              "      <td>1905</td>\n",
              "      <td>1</td>\n",
              "      <td>954900.0</td>\n",
              "      <td>0</td>\n",
              "      <td>1905</td>\n",
              "    </tr>\n",
              "    <tr>\n",
              "      <th>1</th>\n",
              "      <td>42.593571</td>\n",
              "      <td>71.568466</td>\n",
              "      <td>1</td>\n",
              "      <td>4075</td>\n",
              "      <td>1</td>\n",
              "      <td>906300.0</td>\n",
              "      <td>2</td>\n",
              "      <td>4076</td>\n",
              "    </tr>\n",
              "    <tr>\n",
              "      <th>2</th>\n",
              "      <td>42.593563</td>\n",
              "      <td>71.568832</td>\n",
              "      <td>1</td>\n",
              "      <td>4076</td>\n",
              "      <td>1</td>\n",
              "      <td>927000.0</td>\n",
              "      <td>2</td>\n",
              "      <td>4077</td>\n",
              "    </tr>\n",
              "    <tr>\n",
              "      <th>3</th>\n",
              "      <td>42.593554</td>\n",
              "      <td>71.569199</td>\n",
              "      <td>2</td>\n",
              "      <td>4077</td>\n",
              "      <td>1</td>\n",
              "      <td>1055700.0</td>\n",
              "      <td>2</td>\n",
              "      <td>4077</td>\n",
              "    </tr>\n",
              "    <tr>\n",
              "      <th>4</th>\n",
              "      <td>42.592945</td>\n",
              "      <td>71.596230</td>\n",
              "      <td>3</td>\n",
              "      <td>4151</td>\n",
              "      <td>1</td>\n",
              "      <td>1534500.0</td>\n",
              "      <td>4</td>\n",
              "      <td>4152</td>\n",
              "    </tr>\n",
              "  </tbody>\n",
              "</table>\n",
              "</div>\n",
              "    <div class=\"colab-df-buttons\">\n",
              "\n",
              "  <div class=\"colab-df-container\">\n",
              "    <button class=\"colab-df-convert\" onclick=\"convertToInteractive('df-4b5344b2-e115-4de5-bff7-995083e857ab')\"\n",
              "            title=\"Convert this dataframe to an interactive table.\"\n",
              "            style=\"display:none;\">\n",
              "\n",
              "  <svg xmlns=\"http://www.w3.org/2000/svg\" height=\"24px\" viewBox=\"0 -960 960 960\">\n",
              "    <path d=\"M120-120v-720h720v720H120Zm60-500h600v-160H180v160Zm220 220h160v-160H400v160Zm0 220h160v-160H400v160ZM180-400h160v-160H180v160Zm440 0h160v-160H620v160ZM180-180h160v-160H180v160Zm440 0h160v-160H620v160Z\"/>\n",
              "  </svg>\n",
              "    </button>\n",
              "\n",
              "  <style>\n",
              "    .colab-df-container {\n",
              "      display:flex;\n",
              "      gap: 12px;\n",
              "    }\n",
              "\n",
              "    .colab-df-convert {\n",
              "      background-color: #E8F0FE;\n",
              "      border: none;\n",
              "      border-radius: 50%;\n",
              "      cursor: pointer;\n",
              "      display: none;\n",
              "      fill: #1967D2;\n",
              "      height: 32px;\n",
              "      padding: 0 0 0 0;\n",
              "      width: 32px;\n",
              "    }\n",
              "\n",
              "    .colab-df-convert:hover {\n",
              "      background-color: #E2EBFA;\n",
              "      box-shadow: 0px 1px 2px rgba(60, 64, 67, 0.3), 0px 1px 3px 1px rgba(60, 64, 67, 0.15);\n",
              "      fill: #174EA6;\n",
              "    }\n",
              "\n",
              "    .colab-df-buttons div {\n",
              "      margin-bottom: 4px;\n",
              "    }\n",
              "\n",
              "    [theme=dark] .colab-df-convert {\n",
              "      background-color: #3B4455;\n",
              "      fill: #D2E3FC;\n",
              "    }\n",
              "\n",
              "    [theme=dark] .colab-df-convert:hover {\n",
              "      background-color: #434B5C;\n",
              "      box-shadow: 0px 1px 3px 1px rgba(0, 0, 0, 0.15);\n",
              "      filter: drop-shadow(0px 1px 2px rgba(0, 0, 0, 0.3));\n",
              "      fill: #FFFFFF;\n",
              "    }\n",
              "  </style>\n",
              "\n",
              "    <script>\n",
              "      const buttonEl =\n",
              "        document.querySelector('#df-4b5344b2-e115-4de5-bff7-995083e857ab button.colab-df-convert');\n",
              "      buttonEl.style.display =\n",
              "        google.colab.kernel.accessAllowed ? 'block' : 'none';\n",
              "\n",
              "      async function convertToInteractive(key) {\n",
              "        const element = document.querySelector('#df-4b5344b2-e115-4de5-bff7-995083e857ab');\n",
              "        const dataTable =\n",
              "          await google.colab.kernel.invokeFunction('convertToInteractive',\n",
              "                                                    [key], {});\n",
              "        if (!dataTable) return;\n",
              "\n",
              "        const docLinkHtml = 'Like what you see? Visit the ' +\n",
              "          '<a target=\"_blank\" href=https://colab.research.google.com/notebooks/data_table.ipynb>data table notebook</a>'\n",
              "          + ' to learn more about interactive tables.';\n",
              "        element.innerHTML = '';\n",
              "        dataTable['output_type'] = 'display_data';\n",
              "        await google.colab.output.renderOutput(dataTable, element);\n",
              "        const docLink = document.createElement('div');\n",
              "        docLink.innerHTML = docLinkHtml;\n",
              "        element.appendChild(docLink);\n",
              "      }\n",
              "    </script>\n",
              "  </div>\n",
              "\n",
              "\n",
              "<div id=\"df-1472caba-19df-43cd-acc3-26babbcc7e98\">\n",
              "  <button class=\"colab-df-quickchart\" onclick=\"quickchart('df-1472caba-19df-43cd-acc3-26babbcc7e98')\"\n",
              "            title=\"Suggest charts\"\n",
              "            style=\"display:none;\">\n",
              "\n",
              "<svg xmlns=\"http://www.w3.org/2000/svg\" height=\"24px\"viewBox=\"0 0 24 24\"\n",
              "     width=\"24px\">\n",
              "    <g>\n",
              "        <path d=\"M19 3H5c-1.1 0-2 .9-2 2v14c0 1.1.9 2 2 2h14c1.1 0 2-.9 2-2V5c0-1.1-.9-2-2-2zM9 17H7v-7h2v7zm4 0h-2V7h2v10zm4 0h-2v-4h2v4z\"/>\n",
              "    </g>\n",
              "</svg>\n",
              "  </button>\n",
              "\n",
              "<style>\n",
              "  .colab-df-quickchart {\n",
              "      --bg-color: #E8F0FE;\n",
              "      --fill-color: #1967D2;\n",
              "      --hover-bg-color: #E2EBFA;\n",
              "      --hover-fill-color: #174EA6;\n",
              "      --disabled-fill-color: #AAA;\n",
              "      --disabled-bg-color: #DDD;\n",
              "  }\n",
              "\n",
              "  [theme=dark] .colab-df-quickchart {\n",
              "      --bg-color: #3B4455;\n",
              "      --fill-color: #D2E3FC;\n",
              "      --hover-bg-color: #434B5C;\n",
              "      --hover-fill-color: #FFFFFF;\n",
              "      --disabled-bg-color: #3B4455;\n",
              "      --disabled-fill-color: #666;\n",
              "  }\n",
              "\n",
              "  .colab-df-quickchart {\n",
              "    background-color: var(--bg-color);\n",
              "    border: none;\n",
              "    border-radius: 50%;\n",
              "    cursor: pointer;\n",
              "    display: none;\n",
              "    fill: var(--fill-color);\n",
              "    height: 32px;\n",
              "    padding: 0;\n",
              "    width: 32px;\n",
              "  }\n",
              "\n",
              "  .colab-df-quickchart:hover {\n",
              "    background-color: var(--hover-bg-color);\n",
              "    box-shadow: 0 1px 2px rgba(60, 64, 67, 0.3), 0 1px 3px 1px rgba(60, 64, 67, 0.15);\n",
              "    fill: var(--button-hover-fill-color);\n",
              "  }\n",
              "\n",
              "  .colab-df-quickchart-complete:disabled,\n",
              "  .colab-df-quickchart-complete:disabled:hover {\n",
              "    background-color: var(--disabled-bg-color);\n",
              "    fill: var(--disabled-fill-color);\n",
              "    box-shadow: none;\n",
              "  }\n",
              "\n",
              "  .colab-df-spinner {\n",
              "    border: 2px solid var(--fill-color);\n",
              "    border-color: transparent;\n",
              "    border-bottom-color: var(--fill-color);\n",
              "    animation:\n",
              "      spin 1s steps(1) infinite;\n",
              "  }\n",
              "\n",
              "  @keyframes spin {\n",
              "    0% {\n",
              "      border-color: transparent;\n",
              "      border-bottom-color: var(--fill-color);\n",
              "      border-left-color: var(--fill-color);\n",
              "    }\n",
              "    20% {\n",
              "      border-color: transparent;\n",
              "      border-left-color: var(--fill-color);\n",
              "      border-top-color: var(--fill-color);\n",
              "    }\n",
              "    30% {\n",
              "      border-color: transparent;\n",
              "      border-left-color: var(--fill-color);\n",
              "      border-top-color: var(--fill-color);\n",
              "      border-right-color: var(--fill-color);\n",
              "    }\n",
              "    40% {\n",
              "      border-color: transparent;\n",
              "      border-right-color: var(--fill-color);\n",
              "      border-top-color: var(--fill-color);\n",
              "    }\n",
              "    60% {\n",
              "      border-color: transparent;\n",
              "      border-right-color: var(--fill-color);\n",
              "    }\n",
              "    80% {\n",
              "      border-color: transparent;\n",
              "      border-right-color: var(--fill-color);\n",
              "      border-bottom-color: var(--fill-color);\n",
              "    }\n",
              "    90% {\n",
              "      border-color: transparent;\n",
              "      border-bottom-color: var(--fill-color);\n",
              "    }\n",
              "  }\n",
              "</style>\n",
              "\n",
              "  <script>\n",
              "    async function quickchart(key) {\n",
              "      const quickchartButtonEl =\n",
              "        document.querySelector('#' + key + ' button');\n",
              "      quickchartButtonEl.disabled = true;  // To prevent multiple clicks.\n",
              "      quickchartButtonEl.classList.add('colab-df-spinner');\n",
              "      try {\n",
              "        const charts = await google.colab.kernel.invokeFunction(\n",
              "            'suggestCharts', [key], {});\n",
              "      } catch (error) {\n",
              "        console.error('Error during call to suggestCharts:', error);\n",
              "      }\n",
              "      quickchartButtonEl.classList.remove('colab-df-spinner');\n",
              "      quickchartButtonEl.classList.add('colab-df-quickchart-complete');\n",
              "    }\n",
              "    (() => {\n",
              "      let quickchartButtonEl =\n",
              "        document.querySelector('#df-1472caba-19df-43cd-acc3-26babbcc7e98 button');\n",
              "      quickchartButtonEl.style.display =\n",
              "        google.colab.kernel.accessAllowed ? 'block' : 'none';\n",
              "    })();\n",
              "  </script>\n",
              "</div>\n",
              "\n",
              "    </div>\n",
              "  </div>\n"
            ],
            "application/vnd.google.colaboratory.intrinsic+json": {
              "type": "dataframe",
              "variable_name": "df"
            }
          },
          "metadata": {},
          "execution_count": 12
        }
      ]
    },
    {
      "cell_type": "code",
      "source": [
        "import lsdviztools.lsdbasemaptools as bmt"
      ],
      "metadata": {
        "id": "d19h8BSiL8X0"
      },
      "execution_count": 13,
      "outputs": []
    },
    {
      "cell_type": "code",
      "source": [
        "DataDir = \"./\"\n",
        "RasterF = Dataset_prefix+\"_\"+source_name +\"_UTM.bil\"\n",
        "\n",
        "bmt.GenerateBasemapImageOrthographic(DataDir, RasterF, out_fname_prefix = \"supadupa\",FigWidthInches=2,FigFormat=\"jpeg\")\n"
      ],
      "metadata": {
        "id": "EPY0aablMh8U",
        "outputId": "70a476dd-049c-4dc0-f78b-4b04f978da11",
        "colab": {
          "base_uri": "https://localhost:8080/"
        }
      },
      "execution_count": 15,
      "outputs": [
        {
          "output_type": "stream",
          "name": "stdout",
          "text": [
            "Trying to create a shapefile.\n",
            "The Data directory is: ./ and the raster is: RC_COP30_UTM.bil\n",
            "Yoyoyoyo the EPSG is :EPSG:32642\n",
            "EPSG:32642\n",
            "The raster has coordinate of: EPSG:32642\n",
            "This ESPG is: 32642\n",
            "I need to do something completely stupid since OGR made a terrible decision.\n"
          ]
        },
        {
          "output_type": "stream",
          "name": "stderr",
          "text": [
            "/usr/local/lib/python3.10/dist-packages/cartopy/io/__init__.py:241: DownloadWarning: Downloading: https://naturalearth.s3.amazonaws.com/110m_physical/ne_110m_land.zip\n",
            "  warnings.warn(f'Downloading: {url}', DownloadWarning)\n",
            "/usr/local/lib/python3.10/dist-packages/cartopy/io/__init__.py:241: DownloadWarning: Downloading: https://naturalearth.s3.amazonaws.com/110m_physical/ne_110m_ocean.zip\n",
            "  warnings.warn(f'Downloading: {url}', DownloadWarning)\n",
            "/usr/local/lib/python3.10/dist-packages/cartopy/io/__init__.py:241: DownloadWarning: Downloading: https://naturalearth.s3.amazonaws.com/110m_physical/ne_110m_coastline.zip\n",
            "  warnings.warn(f'Downloading: {url}', DownloadWarning)\n"
          ]
        }
      ]
    },
    {
      "cell_type": "code",
      "source": [
        "bmt.GenerateBasemapImageHillshade(DataDir, RasterF, \"my_OT_api_key.txt\",out_fname_prefix = \"groupadupa\", FigWidthInches=2,FigFormat=\"jpeg\")"
      ],
      "metadata": {
        "id": "x6rYk8yiMvr9",
        "outputId": "d884b09a-7439-4817-fab2-13a643a69df7",
        "colab": {
          "base_uri": "https://localhost:8080/"
        }
      },
      "execution_count": 16,
      "outputs": [
        {
          "output_type": "stream",
          "name": "stdout",
          "text": [
            "Trying to create a shapefile.\n",
            "The Data directory is: ./ and the raster is: RC_COP30_UTM.bil\n",
            "Yoyoyoyo the EPSG is :EPSG:32642\n",
            "EPSG:32642\n",
            "The raster has coordinate of: EPSG:32642\n",
            "This ESPG is: 32642\n",
            "I need to do something completely stupid since OGR made a terrible decision.\n",
            "The long dimension is: 185520.0\n",
            "The aspect ratio is: 0.9592496765847348\n",
            "Extents are: \n",
            "[54.351754726743465, 87.1104215506813, 26.061180373845193, 57.48492093005464]\n",
            "I am taking your coordinates from the lower left list\n",
            "I am taking your coordinates from the upper right list\n",
            "I am reading you OT API key from the file my_OT_api_key.txt\n",
            "Your source has 500 m grid spacing\n",
            "The grid spacing for your DEM will be:500\n",
            "I am going to download a file from opentopography (I've removed the API key):\n",
            "https://portal.opentopography.org/API/globaldem?demtype=SRTM15Plus&south=26.061180373845193&north=57.48492093005464&west=54.351754726743465&east=87.1104215506813&outputFormat=GTiff\n",
            "This might take a little while, depending on the size of the file. \n",
            "The filename will be:\n",
            "./basemap_SRTM15Plus.tif\n",
            "The path and file without path are:\n",
            "./  basemap_SRTM15Plus.tif\n",
            "Finished downloading\n",
            "Making the shapefile.\n",
            "Trying to create a shapefile.\n",
            "The Data directory is: ./ and the raster is: RC_COP30_UTM.bil\n",
            "Yoyoyoyo the EPSG is :EPSG:32642\n",
            "EPSG:32642\n",
            "The raster has coordinate of: EPSG:32642\n",
            "This ESPG is: 32642\n",
            "Generating a shapefile with extent\n",
            "[553727.050443, 731687.050443, 4533856.15957652, 4719376.15957652]\n",
            "I need to do something completely stupid since OGR made a terrible decision.\n",
            "The polygon is:\n",
            "POLYGON ((69.6383908735585 40.9540839813515 0,69.6551880796275 42.6249556413258 0,71.8237854038662 42.5920173225484 0,71.7514980231526 40.9230105398539 0,69.6383908735585 40.9540839813515 0))\n",
            "The output shapefile is: ./RC_COP30_UTM_footprint.shp\n"
          ]
        },
        {
          "output_type": "stream",
          "name": "stderr",
          "text": [
            "/usr/local/lib/python3.10/dist-packages/cartopy/io/__init__.py:241: DownloadWarning: Downloading: https://naturalearth.s3.amazonaws.com/50m_physical/ne_50m_coastline.zip\n",
            "  warnings.warn(f'Downloading: {url}', DownloadWarning)\n"
          ]
        }
      ]
    },
    {
      "cell_type": "code",
      "source": [],
      "metadata": {
        "id": "ofGZ7I0iibyx"
      },
      "execution_count": null,
      "outputs": []
    }
  ]
}