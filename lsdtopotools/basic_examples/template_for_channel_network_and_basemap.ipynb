{
  "nbformat": 4,
  "nbformat_minor": 0,
  "metadata": {
    "colab": {
      "provenance": [],
      "authorship_tag": "ABX9TyMQKgBXdQkNQM28oBAEz9fU",
      "include_colab_link": true
    },
    "kernelspec": {
      "name": "python3",
      "display_name": "Python 3"
    },
    "language_info": {
      "name": "python"
    }
  },
  "cells": [
    {
      "cell_type": "markdown",
      "metadata": {
        "id": "view-in-github",
        "colab_type": "text"
      },
      "source": [
        "<a href=\"https://colab.research.google.com/github/LSDtopotools/lsdtt_notebooks/blob/master/lsdtopotools/basic_examples/template_for_channel_network_and_basemap.ipynb\" target=\"_parent\"><img src=\"https://colab.research.google.com/assets/colab-badge.svg\" alt=\"Open In Colab\"/></a>"
      ]
    },
    {
      "cell_type": "markdown",
      "metadata": {
        "id": "71f62d57"
      },
      "source": [
        "# Template for making a nice image of a channel network"
      ]
    },
    {
      "cell_type": "markdown",
      "metadata": {
        "id": "ed93a83c"
      },
      "source": [
        "Last updated by Simon M Mudd on 21/11/2024"
      ]
    },
    {
      "cell_type": "markdown",
      "metadata": {
        "id": "f7c15ada"
      },
      "source": [
        "This is a template notebook for picking a place and making a nice image of the channel network, alongside some site information.\n",
        "\n",
        "If you use this software for your research, please cite https://doi.org/10.5281/zenodo.3245040"
      ]
    },
    {
      "cell_type": "markdown",
      "metadata": {
        "id": "4b27be8f"
      },
      "source": [
        "## If you are on colab"
      ]
    },
    {
      "cell_type": "markdown",
      "metadata": {
        "id": "994da2f2"
      },
      "source": [
        "**If you are in the `docker_lsdtt_pytools` docker container, you do not need to do any of this.\n",
        "The following is for executing this code in the google colab environment only.**\n",
        "\n",
        "If you are in the docker container you can skip to the **First get data** section."
      ]
    },
    {
      "cell_type": "markdown",
      "metadata": {
        "id": "JAhUldxXyFM6"
      },
      "source": [
        "First we install `lsdtopotools`. The first line downloads the package and the second installs it. The `/dev/null` stuff is just to stop the notebook printing a bunch of text to screen.  "
      ]
    },
    {
      "cell_type": "code",
      "execution_count": 1,
      "metadata": {
        "id": "NDe5LOHlyFM7"
      },
      "outputs": [],
      "source": [
        "!wget https://pkgs.geos.ed.ac.uk/geos-jammy/pool/world/l/lsdtopotools2/lsdtopotools2_0.9-1geos~22.04.1_amd64.deb  &> /dev/null\n",
        "!apt install ./lsdtopotools2_0.9-1geos~22.04.1_amd64.deb  &> /dev/null"
      ]
    },
    {
      "cell_type": "markdown",
      "metadata": {
        "id": "BN9dEBeXyFM8"
      },
      "source": [
        "The next line tests to see if it worked. If you get some output asking for a parameter file then `lsdtopotools` is installed. This notebook was tested on version 0.9."
      ]
    },
    {
      "cell_type": "code",
      "execution_count": 2,
      "metadata": {
        "id": "EilA7hWDyFM9",
        "colab": {
          "base_uri": "https://localhost:8080/"
        },
        "outputId": "04c0d01c-1ada-48c3-a98f-21610ebb3eed"
      },
      "outputs": [
        {
          "output_type": "stream",
          "name": "stdout",
          "text": [
            "=========================================================\n",
            "|| Welcome to the LSDTopoTools basic metrics tool!     ||\n",
            "|| This program has a number of options for calculating||\n",
            "|| simple landscape metrics.                           ||\n",
            "|| This program was developed by Simon M. Mudd         ||\n",
            "||  at the University of Edinburgh                     ||\n",
            "=========================================================\n",
            "|| If you use these routines please cite:              ||\n",
            "|| http://doi.org/10.5281/zenodo.4577879               ||\n",
            "|| If you use the roughness routine please cite:       ||\n",
            "|| https://www.doi.org/10.5194/esurf-3-483-2015        ||\n",
            "=========================================================\n",
            "|| Documentation can be found at:                      ||\n",
            "|| https://lsdtopotools.github.io/LSDTT_documentation/ ||\n",
            "=========================================================\n",
            "|| This is LSDTopoTools2 version                       ||\n",
            "|| 0.9\n",
            "|| If the version number has a d at the end it is a    ||\n",
            "||  development version.                               ||\n",
            "=========================================================\n",
            "=========================================================\n",
            "|| You have called an LSDTopoTools program.            ||\n",
            "|| Prepare to explore topographic data!                ||\n",
            "|| You can find some examples of usage here:           ||\n",
            "|| https://github.com/LSDtopotools/lsdtt_notebooks     ||\n",
            "=========================================================\n",
            "I have one argument. I don't know if this is a directory path\n",
            "or a driver filename. I am going to assume it is a directory path\n",
            "if it containes the character . or /\n",
            "\n",
            "\n",
            "\n",
            "==============================================\n",
            "This is lsdtt-basic-metrics version number 0.9\n",
            "If the version contains a 'd' then you are using a development version.\n",
            "=========================================================\n"
          ]
        }
      ],
      "source": [
        "!lsdtt-basic-metrics -v"
      ]
    },
    {
      "cell_type": "markdown",
      "metadata": {
        "id": "REiOaqneyFM-"
      },
      "source": [
        "Now we install `lsdviztools`:"
      ]
    },
    {
      "cell_type": "code",
      "execution_count": 3,
      "metadata": {
        "id": "zEIGTxdEyFM_"
      },
      "outputs": [],
      "source": [
        "!pip install lsdviztools  &> /dev/null"
      ]
    },
    {
      "cell_type": "markdown",
      "source": [
        "This template needs `lsdviztools` version 0.4.14 or higher, so test:"
      ],
      "metadata": {
        "id": "2Yy-zk0UL34N"
      }
    },
    {
      "cell_type": "code",
      "source": [
        "import lsdviztools\n",
        "lsdviztools.__version__"
      ],
      "metadata": {
        "colab": {
          "base_uri": "https://localhost:8080/",
          "height": 36
        },
        "id": "0vsy83FhMADG",
        "outputId": "17cf763f-ee85-49c8-8683-bf75757ae178"
      },
      "execution_count": 6,
      "outputs": [
        {
          "output_type": "execute_result",
          "data": {
            "text/plain": [
              "'0.4.14'"
            ],
            "application/vnd.google.colaboratory.intrinsic+json": {
              "type": "string"
            }
          },
          "metadata": {},
          "execution_count": 6
        }
      ]
    },
    {
      "cell_type": "markdown",
      "metadata": {
        "id": "5TYTr1c4bOUx"
      },
      "source": [
        "## Now get some data"
      ]
    },
    {
      "cell_type": "markdown",
      "metadata": {
        "id": "324a327a"
      },
      "source": [
        "We need to get some data to download.\n",
        "\n",
        "For this example we will work on the toe of the boot in Calabria, Italy.\n",
        "\n",
        "We are going to download data using the opentopography scraper that is included with `lsdviztools`. You will need to get an opentopography.org account and copy in your API key.\n",
        "\n",
        "You can sign up to an opentopography.org account here: https://portal.opentopography.org/myopentopo"
      ]
    },
    {
      "cell_type": "code",
      "execution_count": 8,
      "metadata": {
        "id": "5d62c76c",
        "colab": {
          "base_uri": "https://localhost:8080/",
          "height": 820
        },
        "outputId": "f9db6310-a8da-41b7-dca6-2af49e008343"
      },
      "outputs": [
        {
          "output_type": "stream",
          "name": "stdout",
          "text": [
            "I am reading you OT API key from the file my_OT_api_key.txt\n",
            "Your api key starts with: 9515\n",
            "I am taking your coordinates from the lower left list\n",
            "I am taking your coordinates from the upper right list\n",
            "I am reading you OT API key from the file my_OT_api_key.txt\n",
            "The grid spacing for your DEM will be:30\n",
            "The source is: COP30\n",
            "The west longitude is: 69.65505930582663\n",
            "The east longitude is: 71.75292435647813\n",
            "The south latitude is: 42.593615267006946\n",
            "The north latitude is: 40.95399473322263\n",
            "The path is: ./\n",
            "The prefix is: RC\n",
            "The grid spacing is: 30\n",
            "I am going to download a file from opentopography (I've removed the API key):\n",
            "https://portal.opentopography.org/API/globaldem?demtype=COP30&south=40.95399473322263&north=42.593615267006946&west=69.65505930582663&east=71.75292435647813&outputFormat=GTiff\n",
            "This might take a little while, depending on the size of the file. \n",
            "The filename will be:\n",
            "./RC_COP30.tif\n",
            "The path and file without path are:\n",
            "./  RC_COP30.tif\n",
            "Finished downloading\n",
            "You are converting a DEM, you need to give it a grid spacing, if not the default is 30m\n",
            "You are converting a DEM, you need to give it a grid spacing, if not the default is 30m\n",
            "The projections is:\n",
            "GEOGCS[\"WGS 84\",DATUM[\"WGS_1984\",SPHEROID[\"WGS 84\",6378137,298.257223563,AUTHORITY[\"EPSG\",\"7030\"]],AUTHORITY[\"EPSG\",\"6326\"]],PRIMEM[\"Greenwich\",0,AUTHORITY[\"EPSG\",\"8901\"]],UNIT[\"degree\",0.0174532925199433,AUTHORITY[\"EPSG\",\"9122\"]],AXIS[\"Latitude\",NORTH],AXIS[\"Longitude\",EAST],AUTHORITY[\"EPSG\",\"4326\"]]\n",
            "And some extra projection information strings:\n",
            "None\n",
            "WGS 84\n",
            "The initial epsg code is: epsg:4326\n",
            "The centre of the raster is at:\n",
            "(70.47472221111111, 41.544722233333324)\n",
            "dem_data.width is: 7552\n",
            "The latitude and longitude is\n",
            "41.544722233333324 70.47472221111111\n",
            "latitude: 41.544722233333324\n",
            "longitude: 70.47472221111111\n",
            "Getting the UTM zone.\n",
            "res tuple is:\n",
            "(30, 30)\n",
            "The destination CRS is: EPSG:32642\n",
            "{'driver': 'GTiff', 'dtype': 'float32', 'nodata': None, 'width': 5932, 'height': 6184, 'count': 1, 'crs': CRS.from_wkt('PROJCS[\"WGS 84 / UTM zone 42N\",GEOGCS[\"WGS 84\",DATUM[\"WGS_1984\",SPHEROID[\"WGS 84\",6378137,298.257223563,AUTHORITY[\"EPSG\",\"7030\"]],AUTHORITY[\"EPSG\",\"6326\"]],PRIMEM[\"Greenwich\",0,AUTHORITY[\"EPSG\",\"8901\"]],UNIT[\"degree\",0.0174532925199433,AUTHORITY[\"EPSG\",\"9122\"]],AUTHORITY[\"EPSG\",\"4326\"]],PROJECTION[\"Transverse_Mercator\"],PARAMETER[\"latitude_of_origin\",0],PARAMETER[\"central_meridian\",69],PARAMETER[\"scale_factor\",0.9996],PARAMETER[\"false_easting\",500000],PARAMETER[\"false_northing\",0],UNIT[\"metre\",1,AUTHORITY[\"EPSG\",\"9001\"]],AXIS[\"Easting\",EAST],AXIS[\"Northing\",NORTH],AUTHORITY[\"EPSG\",\"32642\"]]'), 'transform': Affine(30.0, 0.0, 553727.0504429999,\n",
            "       0.0, -30.0, 4719376.159576524)}\n",
            "Removing pixels with an elevation less than 0.01\n"
          ]
        },
        {
          "output_type": "execute_result",
          "data": {
            "text/plain": [
              "'RC_COP30_UTM.bil'"
            ],
            "application/vnd.google.colaboratory.intrinsic+json": {
              "type": "string"
            }
          },
          "metadata": {},
          "execution_count": 8
        }
      ],
      "source": [
        "import lsdviztools.lsdbasemaptools as bmt\n",
        "from lsdviztools.lsdplottingtools import lsdmap_gdalio as gio\n",
        "\n",
        "# YOU NEED TO PUT YOUR API KEY IN A FILE\n",
        "your_OT_api_key_file = \"my_OT_api_key.txt\"\n",
        "\n",
        "with open(your_OT_api_key_file, 'r') as file:\n",
        "    print(\"I am reading you OT API key from the file \"+your_OT_api_key_file)\n",
        "    api_key = file.read().rstrip()\n",
        "    print(\"Your api key starts with: \"+api_key[0:4])\n",
        "\n",
        "Dataset_prefix = \"RC\"\n",
        "source_name = \"COP30\"\n",
        "\n",
        "my_DEM = bmt.ot_scraper(source = source_name,\n",
        "                        lower_left_coordinates = [40.95399473322263, 69.65505930582663],\n",
        "                        upper_right_coordinates = [42.593615267006946, 71.75292435647813],\n",
        "                        prefix = Dataset_prefix,\n",
        "                        api_key_file = your_OT_api_key_file)\n",
        "my_DEM.print_parameters()\n",
        "my_DEM.download_pythonic()\n",
        "DataDirectory = \"./\"\n",
        "Fname = Dataset_prefix+\"_\"+source_name+\".tif\"\n",
        "gio.convert4lsdtt(DataDirectory,Fname)"
      ]
    },
    {
      "cell_type": "markdown",
      "source": [
        "## Now process the data"
      ],
      "metadata": {
        "id": "zc32Wdb2yeNy"
      }
    },
    {
      "cell_type": "code",
      "source": [],
      "metadata": {
        "id": "OiYqJh7Fyw6R"
      },
      "execution_count": null,
      "outputs": []
    },
    {
      "cell_type": "markdown",
      "metadata": {
        "id": "7775d95e"
      },
      "source": [
        "Now lets use *lsdtopotools* to get the basins. We first need to import the `lsdmapwrappers` module, and then run the code."
      ]
    },
    {
      "cell_type": "code",
      "execution_count": 9,
      "metadata": {
        "id": "72cac9aa",
        "colab": {
          "base_uri": "https://localhost:8080/"
        },
        "outputId": "a960b123-ecb6-49f8-c474-32629f6391a7"
      },
      "outputs": [
        {
          "output_type": "stream",
          "name": "stdout",
          "text": [
            "The lsdtopotools command line tools available are: \n",
            "['lsdtt-basic-metrics', 'lsdtt-channel-extraction', 'lsdtt-chi-mapping', 'lsdtt-cosmo-tool', 'lsdtt-hillslope-channel-coupling', 'lsdtt-valley-metrics']\n",
            "Testing has been done against lsdtopotools v0.7\n",
            "The command line tool is: lsdtt-chi-mapping\n",
            "The driver name is: Test_01\n",
            "The read path is: ./\n",
            "The write path is: ./\n",
            "The read prefix is: RC_COP30_UTM\n",
            "The write prefix is: RC_COP30_UTM\n",
            "The parameter dictionary is:\n",
            "{'write_hillshade': 'true', 'print_channels_to_csv': 'true', 'carve_before_fill': 'true', 'print_d8_drainage_area_raster': 'true'}\n",
            "Done writing the driver file\n",
            "I've finised writing the driver file. Let me run LSDTT for you.\n"
          ]
        }
      ],
      "source": [
        "import lsdviztools.lsdmapwrappers as lsdmw\n",
        "\n",
        "## Get the basins\n",
        "lsdtt_parameters = {\"write_hillshade\" : \"true\",\n",
        "                    \"print_channels_to_csv\" : \"true\",\n",
        "                    \"carve_before_fill\" : \"true\",\n",
        "                    \"print_d8_drainage_area_raster\" : \"true\"}\n",
        "r_prefix = Dataset_prefix+\"_\"+source_name +\"_UTM\"\n",
        "w_prefix = Dataset_prefix+\"_\"+source_name +\"_UTM\"\n",
        "lsdtt_drive = lsdmw.lsdtt_driver(command_line_tool = \"lsdtt-basic-metrics\",\n",
        "                                 read_prefix = r_prefix,\n",
        "                                 write_prefix= w_prefix,\n",
        "                                 read_path = \"./\",\n",
        "                                 write_path = \"./\",\n",
        "                                 parameter_dictionary=lsdtt_parameters)\n",
        "lsdtt_drive.print_parameters()\n",
        "lsdtt_drive.run_lsdtt_command_line_tool()"
      ]
    },
    {
      "cell_type": "code",
      "source": [
        "import lsdviztools.lsdmapwrappers as lsdmw\n",
        "\n",
        "burn_raster_prefix = Dataset_prefix+\"_\"+source_name +\"_UTM_d8_area\"\n",
        "csv_name = Dataset_prefix+\"_\"+source_name +\"_UTM_CN.csv\"\n",
        "\n",
        "## Get the basins\n",
        "lsdtt_parameters = {\"burn_raster_to_csv\" : \"true\",\n",
        "                    \"burn_raster_prefix\" : burn_raster_prefix,\n",
        "                    \"burn_data_csv_column_header\" : \"drainage_area\",\n",
        "                    \"csv_to_burn_name\" : csv_name}\n",
        "r_prefix = Dataset_prefix+\"_\"+source_name +\"_UTM\"\n",
        "w_prefix = Dataset_prefix+\"_\"+source_name +\"_UTM\"\n",
        "lsdtt_drive = lsdmw.lsdtt_driver(command_line_tool = \"lsdtt-basic-metrics\",\n",
        "                                 read_prefix = r_prefix,\n",
        "                                 write_prefix= w_prefix,\n",
        "                                 read_path = \"./\",\n",
        "                                 write_path = \"./\",\n",
        "                                 parameter_dictionary=lsdtt_parameters)\n",
        "lsdtt_drive.print_parameters()\n",
        "lsdtt_drive.run_lsdtt_command_line_tool()"
      ],
      "metadata": {
        "colab": {
          "base_uri": "https://localhost:8080/"
        },
        "id": "kPsw9_ZANGfo",
        "outputId": "6371a46a-4c14-4d62-cf35-01580b8c3065"
      },
      "execution_count": 10,
      "outputs": [
        {
          "output_type": "stream",
          "name": "stdout",
          "text": [
            "total 791868\n",
            "-rw-r--r-- 1 root root   4487644 Nov 21  2023 lsdtopotools2_0.9-1geos~22.04.1_amd64.deb\n",
            "-rw-r--r-- 1 root root         4 Nov 22 18:43 lsdtt-basic-metrics-version.txt\n",
            "-rw-r--r-- 1 root root        39 Nov 22 18:43 lsdtt_version.txt\n",
            "-rw-r--r-- 1 root root        34 Nov 22 18:46 my_OT_api_key.txt\n",
            "-rw-r--r-- 1 root root 182289712 Nov 22 18:46 RC_COP30.tif\n",
            "-rw-r--r-- 1 root root 146733952 Nov 22 18:46 RC_COP30_UTM.bil\n",
            "-rw-r--r-- 1 root root       536 Nov 22 18:46 RC_COP30_UTM.bil.aux.xml\n",
            "-rw-r--r-- 1 root root  37064834 Nov 22 18:47 RC_COP30_UTM_CN.csv\n",
            "-rw-r--r-- 1 root root 146733952 Nov 22 18:47 RC_COP30_UTM_d8_area.bil\n",
            "-rw-r--r-- 1 root root       714 Nov 22 18:47 RC_COP30_UTM_d8_area.hdr\n",
            "-rw-r--r-- 1 root root       761 Nov 22 18:46 RC_COP30_UTM.hdr\n",
            "-rw-r--r-- 1 root root 146733952 Nov 22 18:47 RC_COP30_UTM_hs.bil\n",
            "-rw-r--r-- 1 root root       709 Nov 22 18:47 RC_COP30_UTM_hs.hdr\n",
            "-rw-r--r-- 1 root root 146771416 Nov 22 18:46 RC_COP30_UTM.tif\n",
            "drwxr-xr-x 1 root root      4096 Nov 21 14:25 sample_data\n",
            "-rw-r--r-- 1 root root       317 Nov 22 18:46 Test_01.driver\n"
          ]
        }
      ]
    },
    {
      "cell_type": "markdown",
      "source": [
        "We can burn the area data to the csv in a separate step"
      ],
      "metadata": {
        "id": "IPZ9tNFhM2fI"
      }
    }
  ]
}