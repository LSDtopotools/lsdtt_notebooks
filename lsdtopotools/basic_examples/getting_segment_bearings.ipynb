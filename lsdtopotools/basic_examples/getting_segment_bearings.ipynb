{
  "nbformat": 4,
  "nbformat_minor": 0,
  "metadata": {
    "colab": {
      "provenance": [],
      "authorship_tag": "ABX9TyOJzOPWS1QL3vU71nIq8mXo",
      "include_colab_link": true
    },
    "kernelspec": {
      "name": "python3",
      "display_name": "Python 3"
    },
    "language_info": {
      "name": "python"
    }
  },
  "cells": [
    {
      "cell_type": "markdown",
      "metadata": {
        "id": "view-in-github",
        "colab_type": "text"
      },
      "source": [
        "<a href=\"https://colab.research.google.com/github/LSDtopotools/lsdtt_notebooks/blob/master/lsdtopotools/basic_examples/getting_segment_bearings.ipynb\" target=\"_parent\"><img src=\"https://colab.research.google.com/assets/colab-badge.svg\" alt=\"Open In Colab\"/></a>"
      ]
    },
    {
      "cell_type": "markdown",
      "source": [
        "# Getting bearings and angles of channel segment"
      ],
      "metadata": {
        "id": "S9jcwa2iQaxc"
      }
    },
    {
      "cell_type": "markdown",
      "source": [
        "Last update by Simon M Mudd on 26/06/2023"
      ],
      "metadata": {
        "id": "uz2zP-qlQ0UM"
      }
    },
    {
      "cell_type": "markdown",
      "source": [
        "This notebook shows how to extract the bearings and gradients of all channel segments. A segment is defined as a section of the river network between junctions."
      ],
      "metadata": {
        "id": "nc2XemErQlLd"
      }
    },
    {
      "cell_type": "markdown",
      "source": [
        "## First install packages in colab"
      ],
      "metadata": {
        "id": "s-fHzeASuK5C"
      }
    },
    {
      "cell_type": "markdown",
      "metadata": {
        "id": "994da2f2"
      },
      "source": [
        "**If you are in the `docker_lsdtt_pytools` docker container, you do not need to do any of this.\n",
        "The following is for executing this code in the google colab environment only.**\n",
        "\n",
        "If you are in the docker container you can skip to the **First get data** section."
      ]
    },
    {
      "cell_type": "markdown",
      "metadata": {
        "id": "Ck6Y73gLvbS8"
      },
      "source": [
        "First we install `lsdviztools`. This will take around a minute. It is important you do this before the `condacolab` step."
      ]
    },
    {
      "cell_type": "code",
      "execution_count": null,
      "metadata": {
        "id": "Pj2pwsxkvbS8"
      },
      "outputs": [],
      "source": [
        "!pip install lsdviztools &> /dev/null"
      ]
    },
    {
      "cell_type": "markdown",
      "metadata": {
        "id": "Fq9UDKZrvbS8"
      },
      "source": [
        "Now we need to install lsdtopotools. We do this using something called `mamba`. To get `mamba` we install something called `condacolab`.\n",
        "\n",
        "Note that `condacolab` restarts the kernal. Google colab will give you a \"this session crashed\" message but that is actually just `condacolab` restarting the session."
      ]
    },
    {
      "cell_type": "code",
      "execution_count": null,
      "metadata": {
        "id": "PxwxU5uG6gGJ"
      },
      "outputs": [],
      "source": [
        "!pip install -q condacolab\n",
        "import condacolab\n",
        "condacolab.install()"
      ]
    },
    {
      "cell_type": "markdown",
      "metadata": {
        "id": "fPqX-p0m6gGL"
      },
      "source": [
        "Now use mamba to install `lsdtopotools`.\n",
        "This step takes a bit over a minute."
      ]
    },
    {
      "cell_type": "code",
      "execution_count": null,
      "metadata": {
        "id": "Y-qjL08e6gGL"
      },
      "outputs": [],
      "source": [
        "!mamba install -y lsdtopotools &> /dev/null"
      ]
    },
    {
      "cell_type": "markdown",
      "source": [
        "This notebooks was made with `lsdtopotools` version 0.9. You can check the version with the following line:"
      ],
      "metadata": {
        "id": "hQLzaBKKRN1N"
      }
    },
    {
      "cell_type": "code",
      "source": [
        "!lsdtt-basic-metrics -v"
      ],
      "metadata": {
        "id": "UyPpXfvQRVxv"
      },
      "execution_count": null,
      "outputs": []
    },
    {
      "cell_type": "markdown",
      "metadata": {
        "id": "2146b6d9"
      },
      "source": [
        "## First get data"
      ]
    },
    {
      "cell_type": "markdown",
      "metadata": {
        "id": "324a327a"
      },
      "source": [
        "We need to get some data to download.\n",
        "\n",
        "For this example we will work in the Appalacian mountains in West Virginia, since this place has some quite interesting strucutral controls on channels.\n",
        "\n",
        "We are going to download data using the opentopography scraper that is included with `lsdviztools`. You will need to get an opentopography.org account and copy in your API key.\n",
        "\n",
        "You can sign up to an opentopography.org account here: https://portal.opentopography.org/myopentopo"
      ]
    },
    {
      "cell_type": "code",
      "execution_count": null,
      "metadata": {
        "id": "5d62c76c"
      },
      "outputs": [],
      "source": [
        "import lsdviztools.lsdbasemaptools as bmt\n",
        "from lsdviztools.lsdplottingtools import lsdmap_gdalio as gio\n",
        "\n",
        "# YOU NEED TO PUT YOUR API KEY IN A FILE\n",
        "your_OT_api_key_file = \"my_OT_api_key.txt\"\n",
        "\n",
        "with open(your_OT_api_key_file, 'r') as file:\n",
        "    print(\"I am reading you OT API key from the file \"+your_OT_api_key_file)\n",
        "    api_key = file.read().rstrip()\n",
        "    print(\"Your api key starts with: \"+api_key[0:4])\n",
        "\n",
        "Dataset_prefix = \"WV\"\n",
        "source_name = \"COP30\"\n",
        "\n",
        "Xian_DEM = bmt.ot_scraper(source = source_name,\n",
        "                        lower_left_coordinates = [38.099764296412914, -80.76323669516319],\n",
        "                        upper_right_coordinates = [39.24905595105265, -79.01641058948063],\n",
        "                        prefix = Dataset_prefix,\n",
        "                        api_key_file = your_OT_api_key_file)\n",
        "Xian_DEM.print_parameters()\n",
        "Xian_DEM.download_pythonic()\n",
        "DataDirectory = \"./\"\n",
        "Fname = Dataset_prefix+\"_\"+source_name+\".tif\"\n",
        "gio.convert4lsdtt(DataDirectory,Fname)"
      ]
    },
    {
      "cell_type": "markdown",
      "source": [
        "## Look at the data"
      ],
      "metadata": {
        "id": "eIUFozFTTP44"
      }
    },
    {
      "cell_type": "markdown",
      "source": [
        "Now we can just look at that data. First run a hillshade."
      ],
      "metadata": {
        "id": "4_SvFYGa4hWj"
      }
    },
    {
      "cell_type": "code",
      "execution_count": null,
      "metadata": {
        "id": "72cac9aa"
      },
      "outputs": [],
      "source": [
        "import lsdviztools.lsdmapwrappers as lsdmw\n",
        "\n",
        "## Get the basins\n",
        "lsdtt_parameters = {\"write_hillshade\" : \"true\"}\n",
        "Dataset_prefix = \"WV\"\n",
        "source_name = \"COP30\"\n",
        "r_prefix = Dataset_prefix+\"_\"+source_name+\"_UTM\"\n",
        "w_prefix = Dataset_prefix+\"_\"+source_name+\"_UTM\"\n",
        "\n",
        "lsdtt_drive = lsdmw.lsdtt_driver(command_line_tool = \"lsdtt-basic-metrics\",\n",
        "                                 read_prefix = r_prefix,\n",
        "                                 write_prefix= w_prefix,\n",
        "                                 read_path = \"./\",\n",
        "                                 write_path = \"./\",\n",
        "                                 parameter_dictionary=lsdtt_parameters)\n",
        "lsdtt_drive.print_parameters()\n",
        "lsdtt_drive.run_lsdtt_command_line_tool()"
      ]
    },
    {
      "cell_type": "markdown",
      "source": [
        "Now plot the data with the next two code blocks."
      ],
      "metadata": {
        "id": "6mjK0ycm4mK7"
      }
    },
    {
      "cell_type": "code",
      "source": [
        "%%capture\n",
        "# Use the capture comment to get rid of all the text\n",
        "# But it will also not display an inline image\n",
        "# So you need to call the image from the next line of code\n",
        "DataDirectory = \"./\"\n",
        "Base_file = r_prefix\n",
        "this_img = lsdmw.SimpleHillshade(DataDirectory,Base_file,cmap=\"gist_earth\",\n",
        "                                 save_fig=True, size_format=\"geomorphology\",dpi=600)"
      ],
      "metadata": {
        "id": "gPGnyKGy1Wvy"
      },
      "execution_count": null,
      "outputs": []
    },
    {
      "cell_type": "code",
      "source": [
        "print(this_img)\n",
        "from IPython.display import display, Image\n",
        "display(Image(filename=this_img, width=800))"
      ],
      "metadata": {
        "id": "_afDIJeX1pCb"
      },
      "execution_count": null,
      "outputs": []
    },
    {
      "cell_type": "markdown",
      "source": [
        "## Now get the segment information"
      ],
      "metadata": {
        "id": "-_DsiENnVA5i"
      }
    },
    {
      "cell_type": "markdown",
      "source": [
        "To get the segment information, we use the switch `print_segment_bearings_and_gradients_to_csv`. This involves extracting a flow network. In order to not overwhelm the computer, we will set a rather large threshold for channel initiation. We set this with the `threshold_contributing_pixels` keyword. We also set a `SA_vertical_interval`. This is inherited from slope-area analysis: it calculates the gradient of the channel after a channel has fallen a vertical interval determined by this parameter (here 10m).  \n",
        "\n",
        "I also `convert_csv_to_geojson` since this will make it a bit easier to look at the data."
      ],
      "metadata": {
        "id": "M8apiTRqVEAa"
      }
    },
    {
      "cell_type": "code",
      "source": [
        "import lsdviztools.lsdmapwrappers as lsdmw\n",
        "\n",
        "## Get the basins\n",
        "lsdtt_parameters = {\"print_segment_bearings_and_gradients_to_csv\" : \"true\",\n",
        "                    \"SA_vertical_interval\" : \"10\",\n",
        "                    \"print_channels_to_csv\" : \"true\",\n",
        "                    \"threshold_contributing_pixels\" : \"5000\",\n",
        "                    \"convert_csv_to_geojson\" : \"true\"}\n",
        "\n",
        "#}\n",
        "Dataset_prefix = \"WV\"\n",
        "source_name = \"COP30\"\n",
        "r_prefix = Dataset_prefix+\"_\"+source_name+\"_UTM\"\n",
        "w_prefix = Dataset_prefix+\"_\"+source_name+\"_UTM\"\n",
        "\n",
        "lsdtt_drive = lsdmw.lsdtt_driver(command_line_tool = \"lsdtt-basic-metrics\",\n",
        "                                 read_prefix = r_prefix,\n",
        "                                 write_prefix= w_prefix,\n",
        "                                 read_path = \"./\",\n",
        "                                 write_path = \"./\",\n",
        "                                 parameter_dictionary=lsdtt_parameters)\n",
        "lsdtt_drive.print_parameters()\n",
        "lsdtt_drive.run_lsdtt_command_line_tool()"
      ],
      "metadata": {
        "id": "arY06BO3VDtC"
      },
      "execution_count": null,
      "outputs": []
    },
    {
      "cell_type": "markdown",
      "source": [
        "This will create a `csv` file that has `segment_bearings` in the filename. We can have a look at this file:"
      ],
      "metadata": {
        "id": "1yCixLeCXI9O"
      }
    },
    {
      "cell_type": "code",
      "source": [
        "!ls *segment_bearings*"
      ],
      "metadata": {
        "id": "VSNtsUj7YWB_"
      },
      "execution_count": null,
      "outputs": []
    },
    {
      "cell_type": "code",
      "source": [
        "import pandas as pd\n",
        "df = pd.read_csv(\"WV_COP30_UTM_segment_bearings.csv\")\n",
        "df.head()"
      ],
      "metadata": {
        "id": "JXdzGZjfXwSl"
      },
      "execution_count": null,
      "outputs": []
    },
    {
      "cell_type": "markdown",
      "source": [
        "We can also look at the channel network"
      ],
      "metadata": {
        "id": "XfQo7coWjWuE"
      }
    },
    {
      "cell_type": "code",
      "source": [
        "import pandas as pd\n",
        "df = pd.read_csv(\"WV_COP30_UTM_CN.csv\")\n",
        "df.head()"
      ],
      "metadata": {
        "id": "X78d9YUMjWFG"
      },
      "execution_count": null,
      "outputs": []
    },
    {
      "cell_type": "markdown",
      "source": [
        "## Plot the bearings"
      ],
      "metadata": {
        "id": "kQflW_CNgxhR"
      }
    },
    {
      "cell_type": "markdown",
      "source": [
        "First lets see where the channel network is:"
      ],
      "metadata": {
        "id": "TGd9kAaDjI30"
      }
    },
    {
      "cell_type": "code",
      "source": [
        "import lsdviztools.lsdmapwrappers as lsdmw\n",
        "DataDirectory = \"./\"\n",
        "Dataset_prefix = \"WV\"\n",
        "source_name = \"COP30\"\n",
        "r_prefix = Dataset_prefix+\"_\"+source_name +\"_UTM\"\n",
        "Base_file = r_prefix\n",
        "\n",
        "#%%capture\n",
        "channel_network_img = lsdmw.PrintPointsOverHillshade(DataDirectory,Base_file, cmap = \"jet\", points_fname = \"WV_COP30_UTM_CN.csv\",\n",
        "                             column_for_plotting = \"Stream Order\",\n",
        "                             scale_points = True, column_for_scaling = \"Stream Order\",\n",
        "                             scaled_data_in_log = True, max_point_size = 4, min_point_size = 1,\n",
        "                             size_format = \"ESURF\",\n",
        "                             fig_format = \"png\", dpi = 500, out_fname_prefix = \"\", save_fig = True)"
      ],
      "metadata": {
        "id": "V_Ycu1tQg3oq"
      },
      "execution_count": null,
      "outputs": []
    },
    {
      "cell_type": "markdown",
      "source": [
        "Now lets try to plot:"
      ],
      "metadata": {
        "id": "bH_A9PhghRNh"
      }
    },
    {
      "cell_type": "code",
      "source": [
        "print(channel_network_img)\n",
        "from IPython.display import display, Image\n",
        "display(Image(filename=channel_network_img, width=800))"
      ],
      "metadata": {
        "id": "p97reKXohTO5"
      },
      "execution_count": null,
      "outputs": []
    },
    {
      "cell_type": "markdown",
      "source": [
        "And now the channel bearings:"
      ],
      "metadata": {
        "id": "k-0aSzPXj5Ct"
      }
    },
    {
      "cell_type": "code",
      "source": [
        "import lsdviztools.lsdmapwrappers as lsdmw\n",
        "DataDirectory = \"./\"\n",
        "Dataset_prefix = \"WV\"\n",
        "source_name = \"COP30\"\n",
        "r_prefix = Dataset_prefix+\"_\"+source_name +\"_UTM\"\n",
        "Base_file = r_prefix\n",
        "\n",
        "#%%capture\n",
        "channel_bearing_img = lsdmw.PrintPointsOverHillshade(DataDirectory,Base_file, cmap = \"jet\", points_fname = \"WV_COP30_UTM_segment_bearings.csv\",\n",
        "                             column_for_plotting = \"segment_bearing_whole_segment\",\n",
        "                             scale_points = True, column_for_scaling = \"Stream Order\",\n",
        "                             scaled_data_in_log = True, max_point_size = 4, min_point_size = 1,\n",
        "                             size_format = \"ESURF\",\n",
        "                             fig_format = \"png\", dpi = 500, out_fname_prefix = \"\", save_fig = True)"
      ],
      "metadata": {
        "id": "tg4psb9Rj4gE"
      },
      "execution_count": null,
      "outputs": []
    },
    {
      "cell_type": "code",
      "source": [
        "print(channel_bearing_img)\n",
        "from IPython.display import display, Image\n",
        "display(Image(filename=channel_bearing_img, width=800))"
      ],
      "metadata": {
        "id": "k0HClNzvkL7W"
      },
      "execution_count": null,
      "outputs": []
    }
  ]
}