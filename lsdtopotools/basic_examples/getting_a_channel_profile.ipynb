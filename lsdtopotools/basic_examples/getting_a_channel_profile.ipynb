{
  "cells": [
    {
      "cell_type": "markdown",
      "metadata": {
        "id": "view-in-github",
        "colab_type": "text"
      },
      "source": [
        "<a href=\"https://colab.research.google.com/github/LSDtopotools/lsdtt_notebooks/blob/master/lsdtopotools/basic_examples/getting_a_channel_profile.ipynb\" target=\"_parent\"><img src=\"https://colab.research.google.com/assets/colab-badge.svg\" alt=\"Open In Colab\"/></a>"
      ]
    },
    {
      "cell_type": "markdown",
      "id": "d333d55e",
      "metadata": {
        "id": "d333d55e"
      },
      "source": [
        "# Getting a channel profile"
      ]
    },
    {
      "cell_type": "markdown",
      "id": "ed93a83c",
      "metadata": {
        "id": "ed93a83c"
      },
      "source": [
        "Last updated by Simon M Mudd on 10/03/2023"
      ]
    },
    {
      "cell_type": "markdown",
      "id": "faf26884",
      "metadata": {
        "id": "faf26884"
      },
      "source": [
        "You just want to get a channel profile! \n",
        "\n",
        "This takes you through downloading the data and selecting a channel. \n",
        "\n",
        "You can either select a basin or a starting point. This shows you both ways to do it. "
      ]
    },
    {
      "cell_type": "markdown",
      "id": "4b27be8f",
      "metadata": {
        "id": "4b27be8f"
      },
      "source": [
        "## If you are on colab"
      ]
    },
    {
      "cell_type": "markdown",
      "id": "994da2f2",
      "metadata": {
        "id": "994da2f2"
      },
      "source": [
        "**If you are in the `docker_lsdtt_pytools` docker container, you do not need to do any of this. \n",
        "The following is for executing this code in the google colab environment only.**\n",
        "\n",
        "If you are in the docker container you can skip to the **First get data** section. "
      ]
    },
    {
      "cell_type": "markdown",
      "id": "UVnt20YbQgIN",
      "metadata": {
        "id": "UVnt20YbQgIN"
      },
      "source": [
        "First we install `lsdviztools`. \n",
        "\n",
        "This will take around a minute."
      ]
    },
    {
      "cell_type": "code",
      "execution_count": null,
      "id": "Se7ToFPsPBp6",
      "metadata": {
        "id": "Se7ToFPsPBp6"
      },
      "outputs": [],
      "source": [
        "!pip install lsdviztools &> /dev/null"
      ]
    },
    {
      "cell_type": "markdown",
      "id": "LNOjp2ocMzFE",
      "metadata": {
        "id": "LNOjp2ocMzFE"
      },
      "source": [
        "Now we need to install lsdtopotools. We do this using something called `condacolab`. "
      ]
    },
    {
      "cell_type": "markdown",
      "metadata": {
        "id": "XMDWsrwEAIZA"
      },
      "source": [
        "Now we need to install lsdtopotools. We do this using something called `mamba`. Note that this version of `mamba` works for python 3.9 (which is what google colab currently uses).\n",
        "\n",
        "This step will take around 20 seconds. "
      ],
      "id": "XMDWsrwEAIZA"
    },
    {
      "cell_type": "code",
      "source": [
        "%%bash\n",
        "MINICONDA_INSTALLER_SCRIPT=Mambaforge-Linux-x86_64.sh\n",
        "MINICONDA_PREFIX=/usr/local\n",
        "wget https://github.com/conda-forge/miniforge/releases/latest/download/Mambaforge-Linux-x86_64.sh &> /dev/null\n",
        "chmod +x $MINICONDA_INSTALLER_SCRIPT\n",
        "./$MINICONDA_INSTALLER_SCRIPT -b -f -p $MINICONDA_PREFIX &> /dev/null"
      ],
      "metadata": {
        "id": "xhUkM9Q-9Cje"
      },
      "execution_count": null,
      "outputs": [],
      "id": "xhUkM9Q-9Cje"
    },
    {
      "cell_type": "markdown",
      "source": [
        "Alternatively we can do this with condacolab, but this broke in March 2023 so will take some time to be fixed"
      ],
      "metadata": {
        "id": "DXqY5s5T9bqL"
      },
      "id": "DXqY5s5T9bqL"
    },
    {
      "cell_type": "code",
      "execution_count": null,
      "metadata": {
        "id": "izA8EszZAIZC"
      },
      "outputs": [],
      "source": [
        "#!pip install -q condacolab\n",
        "#import condacolab\n",
        "#condacolab.install()"
      ],
      "id": "izA8EszZAIZC"
    },
    {
      "cell_type": "markdown",
      "metadata": {
        "id": "1WM3ybLhAIZC"
      },
      "source": [
        "Now use mamba to install `lsdtopotools`. \n",
        "This step takes a bit over a minute. "
      ],
      "id": "1WM3ybLhAIZC"
    },
    {
      "cell_type": "code",
      "execution_count": null,
      "metadata": {
        "id": "NYbpr-jBAIZD"
      },
      "outputs": [],
      "source": [
        "!mamba install -y lsdtopotools &> /dev/null"
      ],
      "id": "NYbpr-jBAIZD"
    },
    {
      "cell_type": "markdown",
      "source": [
        "We now just check to see if `lsdtt` is installed."
      ],
      "metadata": {
        "id": "xPYRNsGIAxlO"
      },
      "id": "xPYRNsGIAxlO"
    },
    {
      "cell_type": "code",
      "execution_count": null,
      "id": "ee7ab7dc",
      "metadata": {
        "id": "ee7ab7dc"
      },
      "outputs": [],
      "source": [
        "!lsdtt-basic-metrics"
      ]
    },
    {
      "cell_type": "markdown",
      "id": "2146b6d9",
      "metadata": {
        "id": "2146b6d9"
      },
      "source": [
        "## First get data"
      ]
    },
    {
      "cell_type": "markdown",
      "id": "324a327a",
      "metadata": {
        "id": "324a327a"
      },
      "source": [
        "We need to get some data to download. \n",
        "\n",
        "We are going to get some data from the centre of Lesotho, in some small catchements draining to the Orange River. \n",
        "\n",
        "We are going to download data using the opentopography scraper that is included with `lsdviztools`. You will need to get an opentopography.org account and copy in your API key. \n",
        "\n",
        "You can sign up to an opentopography.org account here: https://portal.opentopography.org/myopentopo "
      ]
    },
    {
      "cell_type": "code",
      "execution_count": null,
      "id": "5d62c76c",
      "metadata": {
        "id": "5d62c76c",
        "scrolled": true
      },
      "outputs": [],
      "source": [
        "import lsdviztools.lsdbasemaptools as bmt\n",
        "from lsdviztools.lsdplottingtools import lsdmap_gdalio as gio\n",
        "\n",
        "# YOU NEED TO PUT YOUR API KEY IN A FILE\n",
        "your_OT_api_key_file = \"my_OT_api_key.txt\"\n",
        "\n",
        "with open(your_OT_api_key_file, 'r') as file:\n",
        "    print(\"I am reading you OT API key from the file \"+your_OT_api_key_file)\n",
        "    api_key = file.read().rstrip()\n",
        "    print(\"Your api key starts with: \"+api_key[0:4])\n",
        "\n",
        "Dataset_prefix = \"Lesotho\"\n",
        "source_name = \"COP30\"\n",
        "\n",
        "Xian_DEM = bmt.ot_scraper(source = source_name,\n",
        "                        lower_left_coordinates = [-29.986795303183285, 28.210294055430822], \n",
        "                        upper_right_coordinates = [-29.546820300795922, 28.636351905601636],\n",
        "                        prefix = Dataset_prefix, \n",
        "                        api_key_file = your_OT_api_key_file)\n",
        "Xian_DEM.print_parameters()\n",
        "Xian_DEM.download_pythonic()\n",
        "DataDirectory = \"./\"\n",
        "Fname = Dataset_prefix+\"_\"+source_name+\".tif\"\n",
        "gio.convert4lsdtt(DataDirectory,Fname)"
      ]
    },
    {
      "cell_type": "markdown",
      "id": "b4989ccf",
      "metadata": {
        "id": "b4989ccf"
      },
      "source": [
        "Let's check to see what the filenames we generated are:"
      ]
    },
    {
      "cell_type": "code",
      "execution_count": null,
      "id": "454a1496",
      "metadata": {
        "id": "454a1496"
      },
      "outputs": [],
      "source": [
        "!ls Lesotho*"
      ]
    },
    {
      "cell_type": "markdown",
      "id": "d68add0c",
      "metadata": {
        "id": "d68add0c"
      },
      "source": [
        "We have a little script to plot the basemap. The `-bmrem` flag controls how wide the map is compared to the DEM time."
      ]
    },
    {
      "cell_type": "code",
      "execution_count": null,
      "id": "9cfd1455",
      "metadata": {
        "id": "9cfd1455"
      },
      "outputs": [],
      "source": [
        "!lsdtt_plotbasicrasters -dir ./ -fname Lesotho_COP30_UTM -BM true -bmrem 20"
      ]
    },
    {
      "cell_type": "markdown",
      "id": "1ee47a41",
      "metadata": {
        "id": "1ee47a41"
      },
      "source": [
        "The data goes into a directory called `basemap_plots`. We can see the image by using the `display` function."
      ]
    },
    {
      "cell_type": "code",
      "execution_count": null,
      "id": "c894bf22",
      "metadata": {
        "id": "c894bf22"
      },
      "outputs": [],
      "source": [
        "!ls basemap_plots"
      ]
    },
    {
      "cell_type": "code",
      "execution_count": null,
      "id": "c5343878",
      "metadata": {
        "id": "c5343878"
      },
      "outputs": [],
      "source": [
        "from IPython.display import display, Image\n",
        "display(Image(filename=\"./basemap_plots/Lesotho_COP30_UTM_basemap.png\", width=800))"
      ]
    },
    {
      "cell_type": "markdown",
      "id": "32535c8d",
      "metadata": {
        "id": "32535c8d"
      },
      "source": [
        "## Look at the hillshade"
      ]
    },
    {
      "cell_type": "markdown",
      "id": "82861e28",
      "metadata": {
        "id": "82861e28"
      },
      "source": [
        "Right, lets see what this place looks like:"
      ]
    },
    {
      "cell_type": "code",
      "execution_count": null,
      "id": "a4429922",
      "metadata": {
        "id": "a4429922"
      },
      "outputs": [],
      "source": [
        "import lsdviztools.lsdmapwrappers as lsdmw"
      ]
    },
    {
      "cell_type": "code",
      "execution_count": null,
      "id": "52c6d4f1",
      "metadata": {
        "id": "52c6d4f1"
      },
      "outputs": [],
      "source": [
        "lsdtt_parameters = {\"write_hillshade\" : \"true\"}\n",
        "\n",
        "Dataset_prefix = \"Lesotho\"\n",
        "source_name = \"COP30\"\n",
        "\n",
        "r_prefix = Dataset_prefix+\"_\"+source_name +\"_UTM\"\n",
        "w_prefix = Dataset_prefix+\"_\"+source_name +\"_UTM\"\n",
        "lsdtt_drive = lsdmw.lsdtt_driver(read_prefix = r_prefix,\n",
        "                                 write_prefix= w_prefix,\n",
        "                                 read_path = \"./\",\n",
        "                                 write_path = \"./\",\n",
        "                                 parameter_dictionary=lsdtt_parameters)\n",
        "lsdtt_drive.print_parameters()\n",
        "lsdtt_drive.run_lsdtt_command_line_tool()"
      ]
    },
    {
      "cell_type": "code",
      "execution_count": null,
      "id": "cbdbb352",
      "metadata": {
        "id": "cbdbb352"
      },
      "outputs": [],
      "source": [
        "%matplotlib inline\n",
        "Base_file = r_prefix\n",
        "DataDirectory = \"./\"\n",
        "this_img = lsdmw.SimpleHillshade(DataDirectory,Base_file,cmap=\"gist_earth\", save_fig=False, size_format=\"geomorphology\",dpi=500)"
      ]
    },
    {
      "cell_type": "markdown",
      "id": "0507f7af",
      "metadata": {
        "id": "0507f7af"
      },
      "source": [
        "## Get a channel by basin"
      ]
    },
    {
      "cell_type": "markdown",
      "id": "60097467",
      "metadata": {
        "id": "60097467"
      },
      "source": [
        "Lets get a channel by basin. I will make a pandas dataframe with the outlet location (I get this from google maps, just right click where you want it and copy the lat-long) and then create a csv file. "
      ]
    },
    {
      "cell_type": "code",
      "execution_count": null,
      "id": "1ab993ad",
      "metadata": {
        "scrolled": true,
        "id": "1ab993ad"
      },
      "outputs": [],
      "source": [
        "# Import pandas library\n",
        "import pandas as pd\n",
        "\n",
        "data = [ [-29.777917730941095, 28.291853180393723]]\n",
        "\n",
        "# Create the pandas DataFrame\n",
        "df = pd.DataFrame(data, columns = ['latitude', 'longitude'])\n",
        "\n",
        "df.to_csv(\"basin_outlets.csv\",index=False)\n",
        "df.head()"
      ]
    },
    {
      "cell_type": "markdown",
      "id": "b7b610c3",
      "metadata": {
        "id": "b7b610c3"
      },
      "source": [
        "From this outlet we will extract the basin and also get a channel profile. \n",
        "There are various options but the one that includes channel profile alongside drainage area and the chi coordinate (see https://onlinelibrary.wiley.com/doi/abs/10.1002/esp.3302) is `print_chi_data_maps`:\n",
        "\n",
        "**WARNING** This will not accept basins that touch the edge of the DEM. So you need to put your point a bit upstream of a tributary junction if it joins with a bigger basin that drains to the edge. "
      ]
    },
    {
      "cell_type": "code",
      "execution_count": null,
      "id": "93241ad1",
      "metadata": {
        "id": "93241ad1"
      },
      "outputs": [],
      "source": [
        "## Get the basins and the channel profile\n",
        "lsdtt_parameters = {\"print_basin_raster\" : \"true\",\n",
        "                    \"print_chi_data_maps\" : \"true\",\n",
        "                    \"get_basins_from_outlets\" : \"true\",\n",
        "                    \"basin_outlet_csv\" : \"basin_outlets.csv\"}\n",
        "r_prefix = Dataset_prefix+\"_\"+source_name +\"_UTM\"\n",
        "w_prefix = Dataset_prefix+\"_\"+source_name +\"_UTM\"\n",
        "lsdtt_drive = lsdmw.lsdtt_driver(command_line_tool = \"lsdtt-chi-mapping\", \n",
        "                                 read_prefix = r_prefix,\n",
        "                                 write_prefix= w_prefix,\n",
        "                                 read_path = \"./\",\n",
        "                                 write_path = \"./\",\n",
        "                                 parameter_dictionary=lsdtt_parameters)\n",
        "lsdtt_drive.print_parameters()\n",
        "lsdtt_drive.run_lsdtt_command_line_tool()"
      ]
    },
    {
      "cell_type": "markdown",
      "id": "4b4a7f54",
      "metadata": {
        "id": "4b4a7f54"
      },
      "source": [
        "Okay, lets have a look at the basin we got:"
      ]
    },
    {
      "cell_type": "code",
      "execution_count": null,
      "id": "50733c9a",
      "metadata": {
        "id": "50733c9a"
      },
      "outputs": [],
      "source": [
        "%%capture             \n",
        "Base_file = r_prefix\n",
        "basins_img = lsdmw.PrintBasins_Complex(DataDirectory,Base_file,cmap=\"gist_earth\", \n",
        "                             size_format=\"geomorphology\",dpi=600, save_fig = True)"
      ]
    },
    {
      "cell_type": "code",
      "execution_count": null,
      "id": "c0c3ac3c",
      "metadata": {
        "id": "c0c3ac3c"
      },
      "outputs": [],
      "source": [
        "print(basins_img)\n",
        "from IPython.display import display, Image\n",
        "display(Image(filename=basins_img, width=800))"
      ]
    },
    {
      "cell_type": "markdown",
      "id": "44cfc376",
      "metadata": {
        "id": "44cfc376"
      },
      "source": [
        "Okay, now the channel profile is in a csv file:"
      ]
    },
    {
      "cell_type": "code",
      "execution_count": null,
      "id": "9b5c7006",
      "metadata": {
        "id": "9b5c7006"
      },
      "outputs": [],
      "source": [
        "!ls Lesotho*csv"
      ]
    },
    {
      "cell_type": "markdown",
      "id": "3b2ae066",
      "metadata": {
        "id": "3b2ae066"
      },
      "source": [
        "## Plot channels"
      ]
    },
    {
      "cell_type": "markdown",
      "id": "6bbc9ce6",
      "metadata": {
        "id": "6bbc9ce6"
      },
      "source": [
        "We can plot the channels using the command line script from `lsdviztools`:"
      ]
    },
    {
      "cell_type": "code",
      "execution_count": null,
      "id": "2c3dd816",
      "metadata": {
        "scrolled": false,
        "id": "2c3dd816"
      },
      "outputs": [],
      "source": [
        "!lsdtt_plotbasicrasters -dir ./ -fname Lesotho_COP30_UTM -PCh true"
      ]
    },
    {
      "cell_type": "markdown",
      "id": "3ce83517",
      "metadata": {
        "id": "3ce83517"
      },
      "source": [
        "This puts the plot in a subdirectory called `raster_plots`:"
      ]
    },
    {
      "cell_type": "code",
      "execution_count": null,
      "id": "1f171453",
      "metadata": {
        "id": "1f171453"
      },
      "outputs": [],
      "source": [
        "!ls raster_plots"
      ]
    },
    {
      "cell_type": "code",
      "execution_count": null,
      "id": "fd866071",
      "metadata": {
        "id": "fd866071"
      },
      "outputs": [],
      "source": [
        "from IPython.display import display, Image\n",
        "display(Image(filename=\"raster_plots/Lesotho_COP30_UTM_ChElevation_chi_channels_and_basins.png\", width=800))"
      ]
    },
    {
      "cell_type": "markdown",
      "id": "069fd058",
      "metadata": {
        "id": "069fd058"
      },
      "source": [
        "We can also do that natively here:"
      ]
    },
    {
      "cell_type": "code",
      "execution_count": null,
      "id": "84496931",
      "metadata": {
        "id": "84496931"
      },
      "outputs": [],
      "source": [
        "%matplotlib inline\n",
        "this_curv_img = lsdmw.PrintChannelsAndBasins(DataDirectory,Base_file,\n",
        "                                       add_basin_labels = True, cmap = \"jet\", \n",
        "                                       size_format = \"ESURF\", fig_format = \"png\", \n",
        "                                       dpi = 300, save_fig = False)"
      ]
    },
    {
      "cell_type": "markdown",
      "id": "c3766ea5",
      "metadata": {
        "id": "c3766ea5"
      },
      "source": [
        "Or we could load the data as a pandas dataframe and plot the profile:"
      ]
    },
    {
      "cell_type": "code",
      "execution_count": null,
      "id": "392811bd",
      "metadata": {
        "id": "392811bd"
      },
      "outputs": [],
      "source": [
        "df = pd.read_csv(\"Lesotho_COP30_UTM_chi_data_map.csv\")\n",
        "df.head()"
      ]
    },
    {
      "cell_type": "code",
      "execution_count": null,
      "id": "b4c0e719",
      "metadata": {
        "id": "b4c0e719"
      },
      "outputs": [],
      "source": [
        "import matplotlib.pyplot as plt\n",
        "plt.scatter(df.flow_distance,df.elevation)"
      ]
    },
    {
      "cell_type": "code",
      "execution_count": null,
      "id": "95e7e0a6",
      "metadata": {
        "id": "95e7e0a6"
      },
      "outputs": [],
      "source": [
        "plt.scatter(df.chi,df.elevation)"
      ]
    },
    {
      "cell_type": "markdown",
      "id": "da1f231f",
      "metadata": {
        "id": "da1f231f"
      },
      "source": [
        "## What if I don't want a basin but instead want to select a source?"
      ]
    },
    {
      "cell_type": "markdown",
      "id": "8dc3f5f7",
      "metadata": {
        "id": "8dc3f5f7"
      },
      "source": [
        "In some cases your channel is cut off by the edge of the DEM but you still want a profile. The basin selection tools look to calculate drainage area and this will be incorrect in an incomplete basin. But you can select a channel by source, allowing you to just get elevation downstream. We need to tell `lsdtopotools` where the source point is, and we do that with a csv file:"
      ]
    },
    {
      "cell_type": "code",
      "execution_count": null,
      "id": "bfcdcddd",
      "metadata": {
        "id": "bfcdcddd"
      },
      "outputs": [],
      "source": [
        "# Import pandas library\n",
        "import pandas as pd\n",
        "\n",
        "data = [ [-29.574418486660242, 28.262105221820292]]\n",
        "\n",
        "# Create the pandas DataFrame\n",
        "df = pd.DataFrame(data, columns = ['latitude', 'longitude'])\n",
        "\n",
        "df.to_csv(\"channel_source.csv\",index=False)\n",
        "df.head()"
      ]
    },
    {
      "cell_type": "code",
      "execution_count": null,
      "id": "ea90f2e8",
      "metadata": {
        "id": "ea90f2e8"
      },
      "outputs": [],
      "source": [
        "lsdtt_parameters = {\"extract_single_channel\" : \"true\", \n",
        "                    \"channel_source_fname\" : \"channel_source.csv\"}\n",
        "\n",
        "Dataset_prefix = \"Lesotho\"\n",
        "source_name = \"COP30\"\n",
        "\n",
        "r_prefix = Dataset_prefix+\"_\"+source_name +\"_UTM\"\n",
        "w_prefix = Dataset_prefix+\"_\"+source_name +\"_UTM\"\n",
        "lsdtt_drive = lsdmw.lsdtt_driver(read_prefix = r_prefix,\n",
        "                                 write_prefix= w_prefix,\n",
        "                                 read_path = \"./\",\n",
        "                                 write_path = \"./\",\n",
        "                                 parameter_dictionary=lsdtt_parameters)\n",
        "lsdtt_drive.print_parameters()\n",
        "lsdtt_drive.run_lsdtt_command_line_tool()"
      ]
    },
    {
      "cell_type": "markdown",
      "id": "5ebc807c",
      "metadata": {
        "id": "5ebc807c"
      },
      "source": [
        "The file from this goes into something called `single_channel_nodes.csv`. We can load it into a pandas dataframe and have a look at it."
      ]
    },
    {
      "cell_type": "code",
      "execution_count": null,
      "id": "4814be7f",
      "metadata": {
        "id": "4814be7f"
      },
      "outputs": [],
      "source": [
        "df = pd.read_csv(\"single_channel_nodes.csv\")\n",
        "df.head()"
      ]
    },
    {
      "cell_type": "markdown",
      "id": "4243ba59",
      "metadata": {
        "id": "4243ba59"
      },
      "source": [
        "To plot columns from a data frame you need to know the column headers. Sometimes these have white space. So if you use the `list` function you can get the exact headers in order to plot the data. "
      ]
    },
    {
      "cell_type": "code",
      "execution_count": null,
      "id": "1395185f",
      "metadata": {
        "id": "1395185f"
      },
      "outputs": [],
      "source": [
        "list(df)"
      ]
    },
    {
      "cell_type": "code",
      "execution_count": null,
      "id": "654ca4f5",
      "metadata": {
        "id": "654ca4f5"
      },
      "outputs": [],
      "source": [
        "import matplotlib.pyplot as plt\n",
        "#plt.scatter(df[\"flow distance(m)\"],df[\"elevation(m)\"])\n",
        "plt.scatter(df[\" flow distance(m)\"],df[\" elevation(m)\"])"
      ]
    }
  ],
  "metadata": {
    "kernelspec": {
      "display_name": "Python 3 (ipykernel)",
      "language": "python",
      "name": "python3"
    },
    "language_info": {
      "codemirror_mode": {
        "name": "ipython",
        "version": 3
      },
      "file_extension": ".py",
      "mimetype": "text/x-python",
      "name": "python",
      "nbconvert_exporter": "python",
      "pygments_lexer": "ipython3",
      "version": "3.8.13"
    },
    "colab": {
      "provenance": [],
      "include_colab_link": true
    }
  },
  "nbformat": 4,
  "nbformat_minor": 5
}