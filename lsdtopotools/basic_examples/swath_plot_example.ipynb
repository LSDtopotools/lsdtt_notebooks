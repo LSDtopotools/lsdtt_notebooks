{
  "cells": [
    {
      "cell_type": "markdown",
      "metadata": {
        "colab_type": "text",
        "id": "view-in-github"
      },
      "source": [
        "<a href=\"https://colab.research.google.com/github/LSDtopotools/lsdtt_notebooks/blob/master/lsdtopotools/basic_examples/swath_plot_example.ipynb\" target=\"_parent\"><img src=\"https://colab.research.google.com/assets/colab-badge.svg\" alt=\"Open In Colab\"/></a>"
      ]
    },
    {
      "cell_type": "markdown",
      "id": "e91ac80b",
      "metadata": {
        "id": "e91ac80b"
      },
      "source": [
        "# Plotting a swath profile"
      ]
    },
    {
      "cell_type": "markdown",
      "id": "82ea8c92",
      "metadata": {
        "id": "82ea8c92"
      },
      "source": [
        "Last updated by Simon M Mudd 08/05/2023"
      ]
    },
    {
      "cell_type": "markdown",
      "id": "69431171",
      "metadata": {
        "id": "69431171"
      },
      "source": [
        "`lsdtt-basic-metrics` has a swath plotting routine, we will use that here to plot a swath profile. "
      ]
    },
    {
      "cell_type": "markdown",
      "id": "485c4100",
      "metadata": {
        "id": "485c4100"
      },
      "source": [
        "## Stuff we need to do if you are in colab (not required in the lsdtopotools pytools container)"
      ]
    },
    {
      "cell_type": "markdown",
      "id": "994da2f2",
      "metadata": {
        "id": "994da2f2"
      },
      "source": [
        "**If you are in the `docker_lsdtt_pytools` docker container, you do not need to do any of this. \n",
        "The following is for executing this code in the google colab environment only.**\n",
        "\n",
        "If you are in the docker container you can skip to the **First get data** section. "
      ]
    },
    {
      "cell_type": "markdown",
      "id": "3fdff0dc",
      "metadata": {},
      "source": [
        "First we install `lsdtopotools`. The first line downloads the package and the second installs it. The `/dev/null` stuff is just to stop the notebook printing a bunch of text to screen.  "
      ]
    },
    {
      "cell_type": "code",
      "execution_count": null,
      "id": "614a7b3d",
      "metadata": {},
      "outputs": [],
      "source": [
        "!wget https://pkgs.geos.ed.ac.uk/geos-jammy/pool/world/l/lsdtopotools2/lsdtopotools2_0.9-1geos~22.04.1_amd64.deb  &> /dev/null\n",
        "!apt install ./lsdtopotools2_0.9-1geos~22.04.1_amd64.deb  &> /dev/null"
      ]
    },
    {
      "cell_type": "markdown",
      "id": "fc470e00",
      "metadata": {},
      "source": [
        "The next line tests to see if it worked. If you get some output asking for a parameter file then `lsdtopotools` is installed. This notebook was tested on version 0.9."
      ]
    },
    {
      "cell_type": "code",
      "execution_count": null,
      "id": "4649f359",
      "metadata": {},
      "outputs": [],
      "source": [
        "!lsdtt-basic-metrics -v"
      ]
    },
    {
      "cell_type": "markdown",
      "id": "5b55e375",
      "metadata": {},
      "source": [
        "Now we install `lsdviztools`:"
      ]
    },
    {
      "cell_type": "code",
      "execution_count": null,
      "id": "e3c1a06a",
      "metadata": {},
      "outputs": [],
      "source": [
        "!pip install lsdviztools  &> /dev/null"
      ]
    },
    {
      "cell_type": "markdown",
      "id": "2146b6d9",
      "metadata": {
        "id": "2146b6d9"
      },
      "source": [
        "## First get data"
      ]
    },
    {
      "cell_type": "markdown",
      "id": "324a327a",
      "metadata": {
        "id": "324a327a"
      },
      "source": [
        "We need to get some data to download. \n",
        "\n",
        "We are going to get some data from the centre of Lesotho, in some small catchements draining to the Orange River. \n",
        "\n",
        "We are going to download data using the opentopography scraper that is included with `lsdviztools`. You will need to get an opentopography.org account and copy in your API key. \n",
        "\n",
        "You can sign up to an opentopography.org account here: https://portal.opentopography.org/myopentopo "
      ]
    },
    {
      "cell_type": "code",
      "execution_count": null,
      "id": "5d62c76c",
      "metadata": {
        "id": "5d62c76c",
        "scrolled": true
      },
      "outputs": [],
      "source": [
        "import lsdviztools.lsdbasemaptools as bmt\n",
        "from lsdviztools.lsdplottingtools import lsdmap_gdalio as gio\n",
        "\n",
        "# YOU NEED TO PUT YOUR API KEY IN A FILE\n",
        "your_OT_api_key_file = \"my_OT_api_key.txt\"\n",
        "\n",
        "with open(your_OT_api_key_file, 'r') as file:\n",
        "    print(\"I am reading you OT API key from the file \"+your_OT_api_key_file)\n",
        "    api_key = file.read().rstrip()\n",
        "    print(\"Your api key starts with: \"+api_key[0:4])\n",
        "\n",
        "Dataset_prefix = \"Lesotho\"\n",
        "source_name = \"COP30\"\n",
        "\n",
        "Xian_DEM = bmt.ot_scraper(source = source_name,\n",
        "                        lower_left_coordinates = [-29.986795303183285, 28.210294055430822], \n",
        "                        upper_right_coordinates = [-29.546820300795922, 28.636351905601636],\n",
        "                        prefix = Dataset_prefix, \n",
        "                        api_key_file = your_OT_api_key_file)\n",
        "Xian_DEM.print_parameters()\n",
        "Xian_DEM.download_pythonic()"
      ]
    },
    {
      "cell_type": "code",
      "execution_count": null,
      "id": "4eb91608",
      "metadata": {
        "id": "4eb91608"
      },
      "outputs": [],
      "source": [
        "DataDirectory = \"./\"\n",
        "Fname = Dataset_prefix+\"_\"+source_name+\".tif\"\n",
        "gio.convert4lsdtt(DataDirectory,Fname)"
      ]
    },
    {
      "cell_type": "markdown",
      "id": "b4989ccf",
      "metadata": {
        "id": "b4989ccf"
      },
      "source": [
        "Let's check to see what the filenames we generated are:"
      ]
    },
    {
      "cell_type": "code",
      "execution_count": null,
      "id": "454a1496",
      "metadata": {
        "id": "454a1496"
      },
      "outputs": [],
      "source": [
        "!ls Lesotho* -l"
      ]
    },
    {
      "cell_type": "markdown",
      "id": "d68add0c",
      "metadata": {
        "id": "d68add0c"
      },
      "source": [
        "We have a little script to plot the basemap. The `-bmrem` flag controls how wide the map is compared to the DEM time."
      ]
    },
    {
      "cell_type": "code",
      "execution_count": null,
      "id": "9cfd1455",
      "metadata": {
        "id": "9cfd1455"
      },
      "outputs": [],
      "source": [
        "!lsdtt_plotbasicrasters -dir ./ -fname Lesotho_COP30_UTM -BM true -bmrem 20"
      ]
    },
    {
      "cell_type": "markdown",
      "id": "1ee47a41",
      "metadata": {
        "id": "1ee47a41"
      },
      "source": [
        "The data goes into a directory called `basemap_plots`. We can see the image by using the `display` function."
      ]
    },
    {
      "cell_type": "code",
      "execution_count": null,
      "id": "c894bf22",
      "metadata": {
        "id": "c894bf22"
      },
      "outputs": [],
      "source": [
        "!ls basemap_plots"
      ]
    },
    {
      "cell_type": "code",
      "execution_count": null,
      "id": "c5343878",
      "metadata": {
        "id": "c5343878"
      },
      "outputs": [],
      "source": [
        "from IPython.display import display, Image\n",
        "display(Image(filename=\"./basemap_plots/Lesotho_COP30_UTM_basemap.png\", width=800))"
      ]
    },
    {
      "cell_type": "markdown",
      "id": "07c5c5ac",
      "metadata": {
        "id": "07c5c5ac"
      },
      "source": [
        "## Now extract swath between two points"
      ]
    },
    {
      "cell_type": "markdown",
      "id": "8495a979",
      "metadata": {
        "id": "8495a979"
      },
      "source": [
        "We can extract a swath between two points. We will need to make the start and end point in a pandas dataframe, and save to `csv`. I get the start and end points by right clicking in google maps and copying the lat-long. \n",
        "\n",
        "**IMPORTANT** If you want to extract a channel you need the upstream point first."
      ]
    },
    {
      "cell_type": "code",
      "execution_count": null,
      "id": "8397ef3d",
      "metadata": {
        "id": "8397ef3d"
      },
      "outputs": [],
      "source": [
        "# Import pandas library\n",
        "import pandas as pd\n",
        "\n",
        "data = [ [-29.621021116107862, 28.57147034542054],\n",
        "         [-29.783077317434813, 28.281779758189604]\n",
        "       ]\n",
        "\n",
        "# Create the pandas DataFrame\n",
        "df = pd.DataFrame(data, columns = ['latitude', 'longitude'])\n",
        "\n",
        "df.to_csv(\"swath1.csv\",index=False)\n",
        "df.head()"
      ]
    },
    {
      "cell_type": "markdown",
      "id": "a90dfaac",
      "metadata": {
        "id": "a90dfaac"
      },
      "source": [
        "## Now run the swath tool. "
      ]
    },
    {
      "cell_type": "code",
      "execution_count": null,
      "id": "2f21a561",
      "metadata": {
        "id": "2f21a561"
      },
      "outputs": [],
      "source": [
        "## Get the basins and the channel profile\n",
        "import lsdviztools.lsdmapwrappers as lsdmw\n",
        "\n",
        "Dataset_prefix = \"Lesotho\"\n",
        "source_name = \"COP30\"\n",
        "\n",
        "lsdtt_parameters = {\"write_hillshade\" : \"true\",\n",
        "                    \"calculate_swath_profile\" : \"true\",\n",
        "                    \"calculate_swath_along_line\" : \"true\",\n",
        "                    \"swath_points_csv\" : \"swath1.csv\"}\n",
        "r_prefix = Dataset_prefix+\"_\"+source_name +\"_UTM\"\n",
        "w_prefix = Dataset_prefix+\"_\"+source_name +\"_UTM\"\n",
        "lsdtt_drive = lsdmw.lsdtt_driver(command_line_tool = \"lsdtt-basic-metrics\", \n",
        "                                 read_prefix = r_prefix,\n",
        "                                 write_prefix= w_prefix,\n",
        "                                 read_path = \"./\",\n",
        "                                 write_path = \"./\",\n",
        "                                 parameter_dictionary=lsdtt_parameters)\n",
        "lsdtt_drive.print_parameters()\n",
        "lsdtt_drive.run_lsdtt_command_line_tool()"
      ]
    },
    {
      "cell_type": "markdown",
      "id": "34bc7ea8",
      "metadata": {
        "id": "34bc7ea8"
      },
      "source": [
        "We can print the footprint of the swath using `lsdviztools`:"
      ]
    },
    {
      "cell_type": "code",
      "execution_count": null,
      "id": "b21f4aae",
      "metadata": {
        "id": "b21f4aae"
      },
      "outputs": [],
      "source": [
        "!ls Lesotho*"
      ]
    },
    {
      "cell_type": "code",
      "execution_count": null,
      "id": "a340cb70",
      "metadata": {
        "id": "a340cb70"
      },
      "outputs": [],
      "source": [
        "### Plot the swath \n",
        "Base_file = \"Lesotho_COP30_UTM\"\n",
        "Drape_prefix = Base_file+\"_swathval\"\n",
        "DataDirectory = \"./\"\n",
        "this_area_img = lsdmw.SimpleDrape(DataDirectory,Base_file,Drape_prefix, cmap=\"jet\", \n",
        "                                       cbar_label = \"Swath distance (m)\",\n",
        "                                       cbar_loc = \"bottom\",\n",
        "                                       save_fig=True, size_format=\"ESURF\",dpi=600)\n"
      ]
    },
    {
      "cell_type": "markdown",
      "id": "39ff1d66",
      "metadata": {
        "id": "39ff1d66"
      },
      "source": [
        "Hey? Where is my image??? Because we used `save_fig=True`, the image is not displayed but rather printed to file. So we can look at it with a call to `display`:\n"
      ]
    },
    {
      "cell_type": "code",
      "execution_count": null,
      "id": "711410a3",
      "metadata": {
        "id": "711410a3"
      },
      "outputs": [],
      "source": [
        "print(this_area_img)\n",
        "from IPython.display import display, Image\n",
        "display(Image(filename=this_area_img, width=600))"
      ]
    },
    {
      "cell_type": "markdown",
      "id": "071112a9",
      "metadata": {
        "id": "071112a9"
      },
      "source": [
        "We can plot this swath with `lsdviztools`, with either the command line script:"
      ]
    },
    {
      "cell_type": "code",
      "execution_count": null,
      "id": "2629bb48",
      "metadata": {
        "id": "2629bb48"
      },
      "outputs": [],
      "source": [
        "!ls *.csv"
      ]
    },
    {
      "cell_type": "code",
      "execution_count": null,
      "id": "13ac9055",
      "metadata": {
        "id": "13ac9055"
      },
      "outputs": [],
      "source": [
        "!lsdtt_plotbasicrasters -dir ./ -fname Lesotho_COP30_UTM -PS True -swath_prefix Lesotho_COP30_UTM_swath"
      ]
    },
    {
      "cell_type": "code",
      "execution_count": null,
      "id": "e6365d18",
      "metadata": {
        "id": "e6365d18"
      },
      "outputs": [],
      "source": [
        "!ls *.png"
      ]
    },
    {
      "cell_type": "code",
      "execution_count": null,
      "id": "87d78d0e",
      "metadata": {
        "id": "87d78d0e"
      },
      "outputs": [],
      "source": [
        "from IPython.display import display, Image\n",
        "display(Image(filename=\"test_swath.png\", width=800))"
      ]
    },
    {
      "cell_type": "markdown",
      "id": "6aeaaacd",
      "metadata": {
        "id": "6aeaaacd"
      },
      "source": [
        "Or you can access this directly from `lsdviztools`"
      ]
    },
    {
      "cell_type": "code",
      "execution_count": null,
      "id": "c326ae33",
      "metadata": {
        "id": "c326ae33"
      },
      "outputs": [],
      "source": [
        "import lsdviztools.lsdplottingtools.lsdmap_swathplotting as lsdsp"
      ]
    },
    {
      "cell_type": "code",
      "execution_count": null,
      "id": "08ea466c",
      "metadata": {
        "id": "08ea466c"
      },
      "outputs": [],
      "source": [
        "import lsdviztools.lsdmapwrappers as lsdmw\n",
        "DataDirectory=\"./\"\n",
        "imname = lsdmw.SimpleSwath(DataDirectory,\"Lesotho_COP30_UTM_swath.csv\", fig_format = \"png\", dpi = 500, aspect_ratio = 2)"
      ]
    },
    {
      "cell_type": "code",
      "execution_count": null,
      "id": "84095df5",
      "metadata": {
        "id": "84095df5"
      },
      "outputs": [],
      "source": [
        "from IPython.display import display, Image\n",
        "display(Image(filename=imname, width=800))"
      ]
    },
    {
      "cell_type": "markdown",
      "id": "dbc0c539",
      "metadata": {
        "id": "dbc0c539"
      },
      "source": [
        "## Get swath along channel"
      ]
    },
    {
      "cell_type": "markdown",
      "id": "96877d9c",
      "metadata": {
        "id": "96877d9c"
      },
      "source": [
        "A straight line swath is a little silly. Also, the swath was kind of narrow. We can get the swath along the channel as well as have a wider swath by changing a few parameters. In this case we swich to `calculate_swath_along_channel` and set the swath width to 3 km with ```\"swath_width\" : \"3000\"```"
      ]
    },
    {
      "cell_type": "code",
      "execution_count": null,
      "id": "c9d1a7fa",
      "metadata": {
        "id": "c9d1a7fa",
        "scrolled": true
      },
      "outputs": [],
      "source": [
        "## Get the basins and the channel profile\n",
        "import lsdviztools.lsdmapwrappers as lsdmw\n",
        "\n",
        "Dataset_prefix = \"Lesotho\"\n",
        "source_name = \"COP30\"\n",
        "\n",
        "lsdtt_parameters = {\"print_hillshade\" : \"true\",\n",
        "                    \"calculate_swath_profile\" : \"true\",\n",
        "                    \"calculate_swath_along_channel\" : \"true\",\n",
        "                    \"swath_points_csv\" : \"swath1.csv\",\n",
        "                    \"swath_width\" : \"3000\"}\n",
        "r_prefix = Dataset_prefix+\"_\"+source_name +\"_UTM\"\n",
        "w_prefix = Dataset_prefix+\"_\"+source_name +\"_UTM\"\n",
        "lsdtt_drive = lsdmw.lsdtt_driver(command_line_tool = \"lsdtt-basic-metrics\", \n",
        "                                 read_prefix = r_prefix,\n",
        "                                 write_prefix= w_prefix,\n",
        "                                 read_path = \"./\",\n",
        "                                 write_path = \"./\",\n",
        "                                 parameter_dictionary=lsdtt_parameters)\n",
        "lsdtt_drive.print_parameters()\n",
        "lsdtt_drive.run_lsdtt_command_line_tool()"
      ]
    },
    {
      "cell_type": "markdown",
      "id": "fc5c5cb6",
      "metadata": {
        "id": "fc5c5cb6"
      },
      "source": [
        "Okay, lets have a look at the result. "
      ]
    },
    {
      "cell_type": "code",
      "execution_count": null,
      "id": "167916d9",
      "metadata": {
        "id": "167916d9"
      },
      "outputs": [],
      "source": [
        "### Plot the swath\n",
        "Base_file = \"Lesotho_COP30_UTM\"\n",
        "Drape_prefix = Base_file+\"_swathval\"\n",
        "DataDirectory = \"./\"\n",
        "this_area_img = lsdmw.SimpleDrape(DataDirectory,Base_file,Drape_prefix, cmap=\"jet\", \n",
        "                                       cbar_label = \"Swath distance (m)\",\n",
        "                                       cbar_loc = \"bottom\",\n",
        "                                       save_fig=True, size_format=\"ESURF\",dpi=600)"
      ]
    },
    {
      "cell_type": "code",
      "execution_count": null,
      "id": "87ba8c75",
      "metadata": {
        "id": "87ba8c75"
      },
      "outputs": [],
      "source": [
        "print(this_area_img)\n",
        "from IPython.display import display, Image\n",
        "display(Image(filename=this_area_img, width=600))"
      ]
    },
    {
      "cell_type": "markdown",
      "id": "3dcf449d",
      "metadata": {
        "id": "3dcf449d"
      },
      "source": [
        "Okay, that looks a bit better. Lets plot it. "
      ]
    },
    {
      "cell_type": "code",
      "execution_count": null,
      "id": "72e30262",
      "metadata": {
        "id": "72e30262"
      },
      "outputs": [],
      "source": [
        "lsdsp.PlotSwath(\"Lesotho_COP30_UTM_swath.csv\", FigFileName = 'channel_swath.png', \n",
        "                fig_format = \"png\", dpi = 500, aspect_ratio = 2)"
      ]
    },
    {
      "cell_type": "code",
      "execution_count": null,
      "id": "63b6095b",
      "metadata": {
        "id": "63b6095b"
      },
      "outputs": [],
      "source": [
        "from IPython.display import display, Image\n",
        "display(Image(filename=\"channel_swath.png\", width=600))"
      ]
    },
    {
      "cell_type": "markdown",
      "id": "995b7838",
      "metadata": {
        "id": "995b7838"
      },
      "source": [
        "You will see in this case that the bottom of the swath elevation is the channel profile. "
      ]
    },
    {
      "cell_type": "code",
      "execution_count": null,
      "id": "53ece471",
      "metadata": {
        "id": "53ece471"
      },
      "outputs": [],
      "source": []
    }
  ],
  "metadata": {
    "colab": {
      "include_colab_link": true,
      "provenance": []
    },
    "kernelspec": {
      "display_name": "Python 3 (ipykernel)",
      "language": "python",
      "name": "python3"
    },
    "language_info": {
      "codemirror_mode": {
        "name": "ipython",
        "version": 3
      },
      "file_extension": ".py",
      "mimetype": "text/x-python",
      "name": "python",
      "nbconvert_exporter": "python",
      "pygments_lexer": "ipython3",
      "version": "3.9.16"
    }
  },
  "nbformat": 4,
  "nbformat_minor": 5
}
