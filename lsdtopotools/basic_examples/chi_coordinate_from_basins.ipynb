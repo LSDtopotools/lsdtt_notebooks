{
  "cells": [
    {
      "cell_type": "markdown",
      "metadata": {
        "colab_type": "text",
        "id": "view-in-github"
      },
      "source": [
        "<a href=\"https://colab.research.google.com/github/LSDtopotools/lsdtt_notebooks/blob/master/lsdtopotools/basic_examples/chi_coordinate_from_basins.ipynb\" target=\"_parent\"><img src=\"https://colab.research.google.com/assets/colab-badge.svg\" alt=\"Open In Colab\"/></a>"
      ]
    },
    {
      "cell_type": "markdown",
      "metadata": {
        "id": "71f62d57"
      },
      "source": [
        "# Getting the chi coordinate from basins "
      ]
    },
    {
      "cell_type": "markdown",
      "metadata": {
        "id": "ed93a83c"
      },
      "source": [
        "Last updated by Simon M Mudd on 15/12/2023"
      ]
    },
    {
      "cell_type": "markdown",
      "metadata": {
        "id": "f7c15ada"
      },
      "source": [
        "In this example I will download some data,select basins, and then extract the chi coordinate. \n",
        "\n",
        "In general I have a second window open to google maps. \n",
        "If you right click anywhere in google maps the latitude and longitude is copied to the clipboard, so you can then add these to the location data in the cells below. \n",
        "\n",
        "At the bottom of this notebook I also add an example of copying latitude and longitude entirely within a python notebook using folium and jinja.\n",
        "\n",
        "If you use this software for your research, please cite https://doi.org/10.5281/zenodo.3245040"
      ]
    },
    {
      "cell_type": "markdown",
      "metadata": {
        "id": "4b27be8f"
      },
      "source": [
        "## If you are on colab"
      ]
    },
    {
      "cell_type": "markdown",
      "metadata": {
        "id": "994da2f2"
      },
      "source": [
        "**If you are in the `docker_lsdtt_pytools` docker container, you do not need to do any of this. \n",
        "The following is for executing this code in the google colab environment only.**\n",
        "\n",
        "If you are in the docker container you can skip to the **First get data** section. "
      ]
    },
    {
      "cell_type": "markdown",
      "metadata": {},
      "source": [
        "First we install `lsdtopotools`. The first line downloads the package and the second installs it. The `/dev/null` stuff is just to stop the notebook printing a bunch of text to screen.  "
      ]
    },
    {
      "cell_type": "code",
      "execution_count": null,
      "metadata": {},
      "outputs": [],
      "source": [
        "!wget https://pkgs.geos.ed.ac.uk/geos-jammy/pool/world/l/lsdtopotools2/lsdtopotools2_0.9-1geos~22.04.1_amd64.deb  &> /dev/null\n",
        "!apt install ./lsdtopotools2_0.9-1geos~22.04.1_amd64.deb  &> /dev/null"
      ]
    },
    {
      "cell_type": "markdown",
      "metadata": {},
      "source": [
        "The next line tests to see if it worked. If you get some output asking for a parameter file then `lsdtopotools` is installed. This notebook was tested on version 0.9."
      ]
    },
    {
      "cell_type": "code",
      "execution_count": null,
      "metadata": {},
      "outputs": [],
      "source": [
        "!lsdtt-basic-metrics -v"
      ]
    },
    {
      "cell_type": "markdown",
      "metadata": {},
      "source": [
        "Now we install `lsdviztools`:"
      ]
    },
    {
      "cell_type": "code",
      "execution_count": null,
      "metadata": {},
      "outputs": [],
      "source": [
        "!pip install lsdviztools  &> /dev/null"
      ]
    },
    {
      "cell_type": "markdown",
      "metadata": {
        "id": "5TYTr1c4bOUx"
      },
      "source": [
        "## Now get some data"
      ]
    },
    {
      "cell_type": "markdown",
      "metadata": {
        "id": "324a327a"
      },
      "source": [
        "We need to get some data to download. \n",
        "\n",
        "For this example we will work on the toe of the boot in Calabria, Italy. \n",
        "\n",
        "We are going to download data using the opentopography scraper that is included with `lsdviztools`. You will need to get an opentopography.org account and copy in your API key. \n",
        "\n",
        "You can sign up to an opentopography.org account here: https://portal.opentopography.org/myopentopo "
      ]
    },
    {
      "cell_type": "code",
      "execution_count": null,
      "metadata": {
        "id": "5d62c76c"
      },
      "outputs": [],
      "source": [
        "import lsdviztools.lsdbasemaptools as bmt\n",
        "from lsdviztools.lsdplottingtools import lsdmap_gdalio as gio\n",
        "\n",
        "# YOU NEED TO PUT YOUR API KEY IN A FILE\n",
        "your_OT_api_key_file = \"my_OT_api_key.txt\"\n",
        "\n",
        "with open(your_OT_api_key_file, 'r') as file:\n",
        "    print(\"I am reading you OT API key from the file \"+your_OT_api_key_file)\n",
        "    api_key = file.read().rstrip()\n",
        "    print(\"Your api key starts with: \"+api_key[0:4])\n",
        "\n",
        "Dataset_prefix = \"RC\"\n",
        "source_name = \"COP30\"\n",
        "\n",
        "Xian_DEM = bmt.ot_scraper(source = source_name,\n",
        "                        lower_left_coordinates = [37.88764759059215, 15.607351331344198], \n",
        "                        upper_right_coordinates = [38.29042048254062, 16.32690928209444],\n",
        "                        prefix = Dataset_prefix, \n",
        "                        api_key_file = your_OT_api_key_file)\n",
        "Xian_DEM.print_parameters()\n",
        "Xian_DEM.download_pythonic()\n",
        "DataDirectory = \"./\"\n",
        "Fname = Dataset_prefix+\"_\"+source_name+\".tif\"\n",
        "gio.convert4lsdtt(DataDirectory,Fname)"
      ]
    },
    {
      "cell_type": "markdown",
      "metadata": {
        "id": "e48a872a"
      },
      "source": [
        "## Now get the basins"
      ]
    },
    {
      "cell_type": "markdown",
      "metadata": {
        "id": "a1f50f3c"
      },
      "source": [
        "I add basins outlets into a pandas dataframe and then copy this to a file. \n",
        "The points below are obtained just by clicking in google maps and copying the resulting lat-long into the below code. "
      ]
    },
    {
      "cell_type": "code",
      "execution_count": null,
      "metadata": {
        "id": "cceedb5a"
      },
      "outputs": [],
      "source": [
        "# Import pandas library\n",
        "import pandas as pd\n",
        "\n",
        "data = [ [37.94456243878353, 15.890659281175742],\n",
        "         [37.93291942111813, 15.792125654538383],\n",
        "         [38.06143176957989, 16.060604039819015],\n",
        "         [38.094672987877786, 15.677112531901733],\n",
        "         [38.20455853467961, 15.67642588617276],\n",
        "         [38.12546843046537, 16.1230887795859]]\n",
        "\n",
        "# Create the pandas DataFrame\n",
        "df = pd.DataFrame(data, columns = ['latitude', 'longitude'])\n",
        "\n",
        "df.to_csv(\"basin_outlets.csv\",index=False)\n",
        "df.head()"
      ]
    },
    {
      "cell_type": "markdown",
      "metadata": {
        "id": "3359bbb3"
      },
      "source": [
        "We can use the linux `cat` command to make sure the file is what we expect."
      ]
    },
    {
      "cell_type": "code",
      "execution_count": null,
      "metadata": {
        "id": "5ca33f67"
      },
      "outputs": [],
      "source": [
        "!cat basin_outlets.csv"
      ]
    },
    {
      "cell_type": "markdown",
      "metadata": {
        "id": "7775d95e"
      },
      "source": [
        "Now lets use *lsdtopotools* to get the basins. We first need to import the `lsdmapwrappers` module, and then run the code."
      ]
    },
    {
      "cell_type": "code",
      "execution_count": null,
      "metadata": {
        "id": "72cac9aa"
      },
      "outputs": [],
      "source": [
        "import lsdviztools.lsdmapwrappers as lsdmw\n",
        "\n",
        "## Get the basins\n",
        "lsdtt_parameters = {\"print_basin_raster\" : \"true\",\n",
        "                    \"write_hillshade\" : \"true\",\n",
        "                    \"get_basins_from_outlets\" : \"true\",\n",
        "                    \"basin_outlet_csv\" : \"basin_outlets.csv\",\n",
        "                    \"print_chi_data_maps\" : \"true\"}\n",
        "r_prefix = Dataset_prefix+\"_\"+source_name +\"_UTM\"\n",
        "w_prefix = Dataset_prefix+\"_\"+source_name +\"_UTM\"\n",
        "lsdtt_drive = lsdmw.lsdtt_driver(command_line_tool = \"lsdtt-chi-mapping\", \n",
        "                                 read_prefix = r_prefix,\n",
        "                                 write_prefix= w_prefix,\n",
        "                                 read_path = \"./\",\n",
        "                                 write_path = \"./\",\n",
        "                                 parameter_dictionary=lsdtt_parameters)\n",
        "lsdtt_drive.print_parameters()\n",
        "lsdtt_drive.run_lsdtt_command_line_tool()"
      ]
    },
    {
      "cell_type": "markdown",
      "metadata": {
        "id": "BSI6wubWo_N8"
      },
      "source": [
        "Now we can print the map with an lsdviztools call."
      ]
    },
    {
      "cell_type": "code",
      "execution_count": null,
      "metadata": {
        "id": "b977fa23",
        "scrolled": true
      },
      "outputs": [],
      "source": [
        "# uncomment this for debugging\n",
        "#import lsdviztools.lsdmapwrappers as lsdmw\n",
        "DataDirectory = \"./\"\n",
        "Dataset_prefix = \"RC\"\n",
        "source_name = \"COP30\"\n",
        "r_prefix = Dataset_prefix+\"_\"+source_name +\"_UTM\"\n",
        "Base_file = r_prefix\n",
        "\n",
        "#%%capture\n",
        "basins_img = lsdmw.PrintBasins_Complex(DataDirectory,Base_file,cmap=\"gist_earth\", \n",
        "                             size_format=\"geomorphology\",dpi=600, save_fig = True)"
      ]
    },
    {
      "cell_type": "code",
      "execution_count": null,
      "metadata": {
        "id": "62c2ede4"
      },
      "outputs": [],
      "source": [
        "print(basins_img)\n",
        "from IPython.display import display, Image\n",
        "display(Image(filename=basins_img, width=800))"
      ]
    },
    {
      "cell_type": "markdown",
      "metadata": {
        "id": "0O_ydqP8csSU"
      },
      "source": [
        "## Looking at the chi data"
      ]
    },
    {
      "cell_type": "markdown",
      "metadata": {
        "id": "na6rmvqYcumi"
      },
      "source": [
        "With the call to `get_chi_data_maps` we have extracted some chi profiles. It is in a `csv` file with the string `chi_data_map` in the filename:"
      ]
    },
    {
      "cell_type": "code",
      "execution_count": null,
      "metadata": {
        "id": "KCNDsksYdnNm"
      },
      "outputs": [],
      "source": [
        "!ls *chi_data_map*"
      ]
    },
    {
      "cell_type": "markdown",
      "metadata": {
        "id": "SO1KArEedqeo"
      },
      "source": [
        "Okay, lets see what is in this file, we load it in pandas and look at the columns:"
      ]
    },
    {
      "cell_type": "code",
      "execution_count": null,
      "metadata": {
        "id": "7AN6dld-do-J"
      },
      "outputs": [],
      "source": [
        "df = pd.read_csv(\"RC_COP30_UTM_chi_data_map.csv\")\n",
        "df.head()"
      ]
    },
    {
      "cell_type": "markdown",
      "metadata": {
        "id": "ID20muj8eGYL"
      },
      "source": [
        "### Chi data maps files"
      ]
    },
    {
      "cell_type": "markdown",
      "metadata": {
        "id": "Chvk_FJJeO3Y"
      },
      "source": [
        "The chi data maps file has 8 columns:\n",
        "\n",
        "* latitude, longitude: this should be obvious\n",
        "* chi: the chi coordinate (in metres). This is drainage area integrated over flow distance (you can also calculate discharge over distance if you have a precipitation raster)\n",
        "* elevation: elevation in metres or whatever vertical units your DEM is in\n",
        "* flow_distance: this is the distance in metres from an outlet node\n",
        "* drainage_area: the drainage3 area in m$^2$\n",
        "* source_key: an integer value that denotes the headwater source of each pixel. Longer channels overwrite shorter channels. The lowest source in a basin is the longest channel. \n",
        "* basin_key: An integer that denotes the basin number. "
      ]
    },
    {
      "cell_type": "markdown",
      "metadata": {
        "id": "MEQ8OUk3gjFe"
      },
      "source": [
        "Lets make a simple plot of all the data using `folium`:"
      ]
    },
    {
      "cell_type": "code",
      "execution_count": null,
      "metadata": {
        "id": "DKw0__38eBTs"
      },
      "outputs": [],
      "source": [
        "# This is for the area threshold points\n",
        "import folium\n",
        "\n",
        "def plotDot(point):\n",
        "    '''input: series that contains a numeric named latitude and a numeric named longitude\n",
        "    this function creates a CircleMarker and adds it to your this_map'''\n",
        "    folium.CircleMarker(location=[point.latitude, point.longitude],\n",
        "                        radius=2,\n",
        "                        weight=5).add_to(this_map)"
      ]
    },
    {
      "cell_type": "code",
      "execution_count": null,
      "metadata": {
        "id": "AQauKjfvhoFf"
      },
      "outputs": [],
      "source": [
        "#create a map\n",
        "this_map = folium.Map(prefer_canvas=True, tiles='Stamen Terrain')\n",
        "\n",
        "#use df.apply(,axis=1) to \"iterate\" through every row in your dataframe\n",
        "df.apply(plotDot, axis = 1)\n",
        "\n",
        "#Set the zoom to the maximum possible\n",
        "this_map.fit_bounds(this_map.get_bounds())\n",
        "\n",
        "#Save the map to an HTML file\n",
        "this_map.save('simple_dot_plot.html')\n",
        "\n",
        "this_map"
      ]
    },
    {
      "cell_type": "markdown",
      "metadata": {
        "id": "-vwBLlTUg0J1"
      },
      "source": [
        "Okay, now lets isolate a single basin:"
      ]
    },
    {
      "cell_type": "code",
      "execution_count": null,
      "metadata": {
        "id": "5HwzcolMgm3n"
      },
      "outputs": [],
      "source": [
        "df_b2 = df[(df['basin_key'] == 2)]\n",
        "\n",
        "#create a map\n",
        "this_map = folium.Map(prefer_canvas=True, tiles='Stamen Terrain')\n",
        "\n",
        "#use df.apply(,axis=1) to \"iterate\" through every row in your dataframe\n",
        "df_b2.apply(plotDot, axis = 1)\n",
        "\n",
        "#Set the zoom to the maximum possible\n",
        "this_map.fit_bounds(this_map.get_bounds())\n",
        "\n",
        "this_map"
      ]
    },
    {
      "cell_type": "markdown",
      "metadata": {
        "id": "6-OAgL-OiV7x"
      },
      "source": [
        "### Plotting chi profiles"
      ]
    },
    {
      "cell_type": "markdown",
      "metadata": {
        "id": "0obcR7LviYh5"
      },
      "source": [
        "`lsdviztools` has some routines for plotting chi profiles, but you can just plot them with some scatter plots. Lets plot the chi profiles of a few basins:"
      ]
    },
    {
      "cell_type": "code",
      "execution_count": null,
      "metadata": {
        "id": "k_ZM3VzJhyoZ"
      },
      "outputs": [],
      "source": [
        "%matplotlib inline\n",
        "import matplotlib.pyplot as plt\n",
        "basin = 4\n",
        "df_single_basin = df[(df['basin_key'] == basin)]\n",
        "\n",
        "fig = plt.figure()\n",
        "ax = fig.add_subplot(1, 1,1)\n",
        "\n",
        "plt.scatter(df_single_basin.chi,df_single_basin.elevation,c=df_single_basin.flow_distance)\n",
        "plt.xlabel(r\"$\\chi$ (m)\")\n",
        "plt.ylabel(\"elevation (m)\")\n",
        "ax.text(0.1,0.9,\"Basin \"+str(basin),transform=ax.transAxes)\n",
        "fig.show()"
      ]
    },
    {
      "cell_type": "markdown",
      "metadata": {
        "id": "ZdVxeZ9Njq6y"
      },
      "source": [
        "**Important note**\n",
        "\n",
        "When chi is calculated using these routines, it is calculated from the entire DEM, and chi is based on the distance from all base level nodes, rather than the basin outlets. So in this case the base level nodes are all at the coast, which serevs as a common base level. "
      ]
    },
    {
      "cell_type": "code",
      "execution_count": null,
      "metadata": {
        "id": "08NUDNafi1K0"
      },
      "outputs": [],
      "source": []
    }
  ],
  "metadata": {
    "colab": {
      "authorship_tag": "ABX9TyOrp8LvCz5al5Tm2u311KpO",
      "include_colab_link": true,
      "provenance": []
    },
    "kernelspec": {
      "display_name": "Python 3",
      "name": "python3"
    },
    "language_info": {
      "name": "python"
    }
  },
  "nbformat": 4,
  "nbformat_minor": 0
}
