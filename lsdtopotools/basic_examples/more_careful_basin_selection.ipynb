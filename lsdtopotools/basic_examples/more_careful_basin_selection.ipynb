{
  "nbformat": 4,
  "nbformat_minor": 0,
  "metadata": {
    "colab": {
      "provenance": [],
      "authorship_tag": "ABX9TyP7spadqC2+ZzgrDgQr+VCu",
      "include_colab_link": true
    },
    "kernelspec": {
      "name": "python3",
      "display_name": "Python 3"
    },
    "language_info": {
      "name": "python"
    }
  },
  "cells": [
    {
      "cell_type": "markdown",
      "metadata": {
        "id": "view-in-github",
        "colab_type": "text"
      },
      "source": [
        "<a href=\"https://colab.research.google.com/github/LSDtopotools/lsdtt_notebooks/blob/master/lsdtopotools/basic_examples/more_careful_basin_selection.ipynb\" target=\"_parent\"><img src=\"https://colab.research.google.com/assets/colab-badge.svg\" alt=\"Open In Colab\"/></a>"
      ]
    },
    {
      "cell_type": "markdown",
      "source": [
        "# Looking more carefully at basin selection"
      ],
      "metadata": {
        "id": "t4TrTFzEpn3s"
      }
    },
    {
      "cell_type": "markdown",
      "source": [
        "The assumption for these notebooks is that you are working in a notable container.\n",
        "\n",
        "So these steps are turned into comments using a `#` symbol before each line.\n",
        "\n",
        "If you want to work on google colab you will need to delete the `#` symbols"
      ],
      "metadata": {
        "id": "zOXdP-wIDGcc"
      }
    },
    {
      "cell_type": "code",
      "source": [
        "!wget https://pkgs.geos.ed.ac.uk/geos-jammy/pool/world/l/lsdtopotools2/lsdtopotools2_0.9-1geos~22.04.1_amd64.deb  &> /dev/null\n",
        "!apt install ./lsdtopotools2_0.9-1geos~22.04.1_amd64.deb  &> /dev/null"
      ],
      "metadata": {
        "id": "VbYEjLvZR4VY"
      },
      "execution_count": null,
      "outputs": []
    },
    {
      "cell_type": "code",
      "execution_count": null,
      "metadata": {
        "id": "Pj2pwsxkvbS8"
      },
      "outputs": [],
      "source": [
        "!pip install lsdviztools &> /dev/null"
      ]
    },
    {
      "cell_type": "markdown",
      "source": [
        "## Part 1: Get data"
      ],
      "metadata": {
        "id": "qMerIR8pCxuS"
      }
    },
    {
      "cell_type": "markdown",
      "source": [
        "**First step, copy your Opentopography API key into a text file called \"my_OT_api_key.txt\" and make sure it is in the same file system as this notebook.**\n",
        "\n",
        "If you don't know how to do that got to the `basic_topography` section and read lesson 1."
      ],
      "metadata": {
        "id": "XGJBcVEhD8sh"
      }
    },
    {
      "cell_type": "markdown",
      "source": [
        "### Edit code block below for your site!\n",
        "\n",
        "* change latitude and longitude of your `lower_left` and `upper_right` corners.\n",
        "* Make sure your api filename is correct.\n",
        "\n"
      ],
      "metadata": {
        "id": "2K6UbFIaVJAc"
      }
    },
    {
      "cell_type": "code",
      "source": [
        "from lsdviztools.lsdplottingtools import lsdmap_gdalio as gio\n",
        "import lsdviztools.lsdbasemaptools as bmt\n",
        "\n",
        "lower_left = [35.39069375614902, -121.13859639445643]\n",
        "upper_right = [35.71181685305922, -120.88777897358574]\n",
        "\n",
        "# YOU NEED TO PUT YOUR API KEY IN A FILE\n",
        "your_OT_api_key_file = \"my_OT_api_key.txt\"\n",
        "\n",
        "with open(your_OT_api_key_file, 'r') as file:\n",
        "    print(\"I am reading you OT API key from the file \"+your_OT_api_key_file)\n",
        "    api_key = file.read().rstrip()\n",
        "    print(\"Your api key starts with: \"+api_key[0:4])\n",
        "\n",
        "Dataset_prefix = \"DEM\"\n",
        "source_name = \"COP30\"\n",
        "\n",
        "\n",
        "My_DEM = bmt.ot_scraper(source = source_name,\n",
        "                        lower_left_coordinates = lower_left,\n",
        "                        upper_right_coordinates = upper_right,\n",
        "                        prefix = Dataset_prefix,\n",
        "                        api_key_file = your_OT_api_key_file)\n",
        "My_DEM.print_parameters()\n",
        "My_DEM.download_pythonic()\n",
        "\n",
        "DataDirectory = \"./\"\n",
        "Fname = Dataset_prefix+\"_\"+source_name+\".tif\"\n",
        "gio.convert4lsdtt(DataDirectory,Fname)"
      ],
      "metadata": {
        "id": "HGOdFkadDaxO"
      },
      "execution_count": null,
      "outputs": []
    },
    {
      "cell_type": "markdown",
      "source": [
        "**Important**: you should always cite your data source. For this data, you should cite:\n",
        "\n",
        "*European Space Agency, Sinergise (2021). Copernicus Global Digital Elevation Model. Distributed by OpenTopography. https://doi.org/10.5069/G9028PQB. Accessed: 2023-09-26*"
      ],
      "metadata": {
        "id": "Db7dEWjiXEzu"
      }
    },
    {
      "cell_type": "markdown",
      "source": [
        "## Part 2: Get a hillshade: **you have to do this for the rest of the plotting to work**"
      ],
      "metadata": {
        "id": "LWj3VLXvE3gI"
      }
    },
    {
      "cell_type": "markdown",
      "source": [
        "We are going to get a hillshade since this is used in all of the plotting routines in `lsdviztools`.\n",
        "\n",
        "*You only need to execute this code, you don't need to change anything!*"
      ],
      "metadata": {
        "id": "7Lo0wNVZE9bD"
      }
    },
    {
      "cell_type": "code",
      "source": [
        "import lsdviztools.lsdmapwrappers as lsdmw\n",
        "\n",
        "## Get the basins\n",
        "lsdtt_parameters = {\"write_hillshade\" : \"true\"}\n",
        "r_prefix = Dataset_prefix+\"_\"+source_name +\"_UTM\"\n",
        "w_prefix = Dataset_prefix+\"_\"+source_name +\"_UTM\"\n",
        "lsdtt_drive = lsdmw.lsdtt_driver(command_line_tool = \"lsdtt-basic-metrics\",\n",
        "                                 read_prefix = r_prefix,\n",
        "                                 write_prefix= w_prefix,\n",
        "                                 read_path = \"./\",\n",
        "                                 write_path = \"./\",\n",
        "                                 parameter_dictionary=lsdtt_parameters)\n",
        "lsdtt_drive.print_parameters()\n",
        "lsdtt_drive.run_lsdtt_command_line_tool()"
      ],
      "metadata": {
        "id": "O0V8ZCrTE8yD"
      },
      "execution_count": null,
      "outputs": []
    },
    {
      "cell_type": "markdown",
      "source": [
        "This prints the image. It will also save a png file."
      ],
      "metadata": {
        "id": "F9FL__oRFvcy"
      }
    },
    {
      "cell_type": "code",
      "source": [
        "DataDirectory = \"./\"\n",
        "r_prefix = Dataset_prefix+\"_\"+source_name +\"_UTM\"\n",
        "Base_file = r_prefix\n",
        "\n",
        "this_img = lsdmw.SimpleHillshade(DataDirectory,Base_file,cmap=\"gist_earth\", save_fig=True,\n",
        "                                 size_format=\"geomorphology\",dpi=400,\n",
        "                                 out_fname_prefix = \"hillshade_plot\")\n",
        "\n",
        "print(this_img)\n",
        "from IPython.display import display, Image\n",
        "display(Image(filename=this_img, width=800))"
      ],
      "metadata": {
        "id": "HY1yx8-UFoWq"
      },
      "execution_count": null,
      "outputs": []
    },
    {
      "cell_type": "markdown",
      "source": [
        "**Next step: make sure the filename of your API key matches the one below.** Filenames are case sensitive. So if your file is \"my_OT_API_key.txt\" this will not work in the code block below (because api needs to be lower case).\n",
        "\n",
        "**Then update the latitude and longitude of the lower left and upper right corner of your study area. You can get a latitude and longitude by right clicking on google maps.**"
      ],
      "metadata": {
        "id": "7LAJCUSAEVro"
      }
    },
    {
      "cell_type": "markdown",
      "source": [
        "## Part 3: Extracting the network: effect of the `threshold_contributing_pixels` parameter"
      ],
      "metadata": {
        "id": "3-PK1hBBEpMp"
      }
    },
    {
      "cell_type": "markdown",
      "source": [],
      "metadata": {
        "id": "ngwQbvtzGdFT"
      }
    },
    {
      "cell_type": "markdown",
      "source": [],
      "metadata": {
        "id": "Iki-T_vtGdCC"
      }
    },
    {
      "cell_type": "markdown",
      "source": [],
      "metadata": {
        "id": "4Pff7FmEEuUZ"
      }
    },
    {
      "cell_type": "code",
      "source": [
        "import lsdviztools.lsdmapwrappers as lsdmw\n",
        "\n",
        "## Get the basins\n",
        "lsdtt_parameters = {\"threshold_contributing_pixels\" : \"2000\",\n",
        "                    \"print_channels_to_csv\" : \"true\"}\n",
        "r_prefix = Dataset_prefix+\"_\"+source_name +\"_UTM\"\n",
        "w_prefix = Dataset_prefix+\"_\"+source_name +\"big_contrib_UTM\"\n",
        "lsdtt_drive = lsdmw.lsdtt_driver(command_line_tool = \"lsdtt-basic-metrics\",\n",
        "                                 read_prefix = r_prefix,\n",
        "                                 write_prefix= w_prefix,\n",
        "                                 read_path = \"./\",\n",
        "                                 write_path = \"./\",\n",
        "                                 parameter_dictionary=lsdtt_parameters)\n",
        "lsdtt_drive.print_parameters()\n",
        "lsdtt_drive.run_lsdtt_command_line_tool()"
      ],
      "metadata": {
        "id": "Th98fXnKEtk5"
      },
      "execution_count": null,
      "outputs": []
    },
    {
      "cell_type": "code",
      "source": [
        "### Plot points the hillshade\n",
        "import lsdviztools.lsdmapwrappers as lsdmw\n",
        "%matplotlib inline\n",
        "Base_file = \"DEM_COP30_UTM\"\n",
        "DataDirectory = \"./\"\n",
        "this_img = lsdmw.PrintPointsOverHillshade(DataDirectory,Base_file, column_for_plotting = \"elevation(m)\",\n",
        "                                          points_fname = \"DEM_COP30big_contrib_UTM_CN.csv\",\n",
        "                                          scale_points = True, column_for_scaling = \"Stream Order\",\n",
        "                                          scaled_data_in_log = False, max_point_size = 20, min_point_size = 2,\n",
        "                                          cmap=\"Blues\", save_fig=True, size_format=\"geomorphology\")\n",
        "\n",
        "print(this_img)\n",
        "from IPython.display import display, Image\n",
        "display(Image(filename=this_img, width=800))"
      ],
      "metadata": {
        "id": "kyUD8Mc6Gvy-"
      },
      "execution_count": null,
      "outputs": []
    },
    {
      "cell_type": "code",
      "source": [
        "import lsdviztools.lsdmapwrappers as lsdmw\n",
        "\n",
        "## Get the basins\n",
        "lsdtt_parameters = {\"threshold_contributing_pixels\" : \"250\",\n",
        "                    \"print_channels_to_csv\" : \"true\"}\n",
        "r_prefix = Dataset_prefix+\"_\"+source_name +\"_UTM\"\n",
        "w_prefix = Dataset_prefix+\"_\"+source_name +\"small_contrib_UTM\"\n",
        "lsdtt_drive = lsdmw.lsdtt_driver(command_line_tool = \"lsdtt-basic-metrics\",\n",
        "                                 read_prefix = r_prefix,\n",
        "                                 write_prefix= w_prefix,\n",
        "                                 read_path = \"./\",\n",
        "                                 write_path = \"./\",\n",
        "                                 parameter_dictionary=lsdtt_parameters)\n",
        "lsdtt_drive.print_parameters()\n",
        "lsdtt_drive.run_lsdtt_command_line_tool()"
      ],
      "metadata": {
        "id": "R_yorEdEH9w-"
      },
      "execution_count": null,
      "outputs": []
    },
    {
      "cell_type": "code",
      "source": [
        "### Plot points the hillshade\n",
        "import lsdviztools.lsdmapwrappers as lsdmw\n",
        "%matplotlib inline\n",
        "Base_file = \"DEM_COP30_UTM\"\n",
        "DataDirectory = \"./\"\n",
        "this_img = lsdmw.PrintPointsOverHillshade(DataDirectory,Base_file, column_for_plotting = \"elevation(m)\",\n",
        "                                          points_fname = \"DEM_COP30small_contrib_UTM_CN.csv\",\n",
        "                                          scale_points = True, column_for_scaling = \"Stream Order\",\n",
        "                                          scaled_data_in_log = False, max_point_size = 20, min_point_size = 2,\n",
        "                                          cmap=\"Blues\", save_fig=True, size_format=\"geomorphology\")\n",
        "\n",
        "print(this_img)\n",
        "from IPython.display import display, Image\n",
        "display(Image(filename=this_img, width=800))"
      ],
      "metadata": {
        "id": "QwjJByUpIFW2"
      },
      "execution_count": null,
      "outputs": []
    },
    {
      "cell_type": "markdown",
      "source": [
        "## Picking basins"
      ],
      "metadata": {
        "id": "ihFHBgt6Mzxc"
      }
    },
    {
      "cell_type": "markdown",
      "source": [
        "Now lets pick some basins.\n",
        "\n",
        "I am going to pick some\n",
        "\n",
        "\n",
        "1.   Near the coast\n",
        "2.   Near tributaries\n",
        "\n"
      ],
      "metadata": {
        "id": "UeZom5RdM4-u"
      }
    },
    {
      "cell_type": "code",
      "source": [
        "# Import pandas library\n",
        "import pandas as pd\n",
        "\n",
        "data = [ [35.56123802423716, -121.09011375090577],\n",
        "         [35.511569303371715, -121.02036041819895],\n",
        "         [35.47757996179068, -121.00916111270496],\n",
        "         [35.48588949854096, -120.99648569972402],\n",
        "         [35.510766774527205, -120.96950347155934],\n",
        "         [35.609461609083375, -121.0777103322082]]\n",
        "\n",
        "# Create the pandas DataFrame\n",
        "df = pd.DataFrame(data, columns = ['latitude', 'longitude'])\n",
        "\n",
        "df.to_csv(\"basin_outlets.csv\",index=False)\n",
        "df.head()"
      ],
      "metadata": {
        "id": "yfjAX9e-M31-"
      },
      "execution_count": null,
      "outputs": []
    },
    {
      "cell_type": "markdown",
      "source": [
        "I'm going to add a column just to make sure the points have a size"
      ],
      "metadata": {
        "id": "v8TrUh4TRJ48"
      }
    },
    {
      "cell_type": "code",
      "source": [
        "df['C'] = 20\n",
        "df.head(5)"
      ],
      "metadata": {
        "id": "8S1TA7DuRSCV"
      },
      "execution_count": null,
      "outputs": []
    },
    {
      "cell_type": "code",
      "source": [
        "### Plot points the hillshade\n",
        "import lsdviztools.lsdmapwrappers as lsdmw\n",
        "%matplotlib inline\n",
        "Base_file = \"DEM_COP30_UTM\"\n",
        "DataDirectory = \"./\"\n",
        "this_img = lsdmw.PrintPointsOverHillshade(DataDirectory,Base_file, column_for_plotting = \"elevation(m)\",\n",
        "                                          points_fname = \"basin_outlets.csv\",\n",
        "                                          manual_size = 30,\n",
        "                                          cmap=\"Blues\", save_fig=True, size_format=\"geomorphology\")\n",
        "\n",
        "print(this_img)\n",
        "from IPython.display import display, Image\n",
        "display(Image(filename=this_img, width=800))"
      ],
      "metadata": {
        "id": "FuFihxGhQcY9"
      },
      "execution_count": null,
      "outputs": []
    },
    {
      "cell_type": "markdown",
      "source": [
        "# See where the basins come out with different contributing pixels"
      ],
      "metadata": {
        "id": "FG_hmASJSQnI"
      }
    },
    {
      "cell_type": "code",
      "source": [
        "import lsdviztools.lsdmapwrappers as lsdmw\n",
        "\n",
        "## Get the basins\n",
        "lsdtt_parameters = {\"print_basin_raster\" : \"true\",\n",
        "                    \"get_basins_from_outlets\" : \"true\",\n",
        "                    \"basin_outlet_csv\" : \"basin_outlets.csv\",\n",
        "                    \"print_chi_data_maps\" : \"true\",\n",
        "                    \"threshold_contributing_pixels\" : \"50\",\n",
        "                    \"write_hillshade\" : \"true\",\n",
        "                    \"extend_channel_to_node_before_receiver_junction\" : \"true\",\n",
        "                    \"search_radius_nodes\" : \"5\"}\n",
        "r_prefix = Dataset_prefix+\"_\"+source_name +\"_UTM\"\n",
        "w_prefix = Dataset_prefix+\"_\"+source_name +\"small_contrib_UTM\"\n",
        "lsdtt_drive = lsdmw.lsdtt_driver(command_line_tool = \"lsdtt-chi-mapping\",\n",
        "                                 read_prefix = r_prefix,\n",
        "                                 write_prefix= w_prefix,\n",
        "                                 read_path = \"./\",\n",
        "                                 write_path = \"./\",\n",
        "                                 parameter_dictionary=lsdtt_parameters)\n",
        "lsdtt_drive.print_parameters()\n",
        "lsdtt_drive.run_lsdtt_command_line_tool()"
      ],
      "metadata": {
        "id": "tSuKNiIaQnDM"
      },
      "execution_count": null,
      "outputs": []
    },
    {
      "cell_type": "code",
      "source": [
        "#import lsdviztools.lsdmapwrappers as lsdmw\n",
        "r_prefix = Dataset_prefix+\"_\"+source_name +\"small_contrib_UTM\"\n",
        "Base_file = r_prefix\n",
        "\n",
        "#%%capture\n",
        "basins_img = lsdmw.PrintBasins_Complex(DataDirectory,Base_file,cmap=\"gist_earth\",\n",
        "                             size_format=\"geomorphology\",dpi=400, save_fig = True,\n",
        "                             out_fname_prefix = \"basins_plot\")\n",
        "\n",
        "print(basins_img)\n",
        "from IPython.display import display, Image\n",
        "display(Image(filename=basins_img, width=800))"
      ],
      "metadata": {
        "id": "9-3CReBaSjrg"
      },
      "execution_count": null,
      "outputs": []
    },
    {
      "cell_type": "code",
      "source": [
        "import lsdviztools.lsdmapwrappers as lsdmw\n",
        "\n",
        "## Get the basins\n",
        "lsdtt_parameters = {\"print_basin_raster\" : \"true\",\n",
        "                    \"find_basins\" : \"true\",\n",
        "                    \"print_chi_data_maps\" : \"true\",\n",
        "                    \"threshold_contributing_pixels\" : \"750\",\n",
        "                    \"write_hillshade\" : \"true\",\n",
        "                    \"minimum_basin_size_pixels\" : \"100000\",\n",
        "                    \"extend_channel_to_node_before_receiver_junction\" : \"true\"}\n",
        "r_prefix = Dataset_prefix+\"_\"+source_name +\"_UTM\"\n",
        "w_prefix = Dataset_prefix+\"_\"+source_name +\"UTM_algorithm_basins\"\n",
        "lsdtt_drive = lsdmw.lsdtt_driver(command_line_tool = \"lsdtt-basic-metrics\",\n",
        "                                 read_prefix = r_prefix,\n",
        "                                 write_prefix= w_prefix,\n",
        "                                 read_path = \"./\",\n",
        "                                 write_path = \"./\",\n",
        "                                 parameter_dictionary=lsdtt_parameters)\n",
        "lsdtt_drive.print_parameters()\n",
        "lsdtt_drive.run_lsdtt_command_line_tool()"
      ],
      "metadata": {
        "id": "aO_baX0AYCbg"
      },
      "execution_count": null,
      "outputs": []
    },
    {
      "cell_type": "code",
      "source": [
        "#import lsdviztools.lsdmapwrappers as lsdmw\n",
        "r_prefix = Dataset_prefix+\"_\"+source_name +\"UTM_algorithm_basins\"\n",
        "Base_file = r_prefix\n",
        "\n",
        "#%%capture\n",
        "basins_img = lsdmw.PrintBasins_Complex(DataDirectory,Base_file,cmap=\"gist_earth\",\n",
        "                             size_format=\"geomorphology\",dpi=400, save_fig = True,\n",
        "                             out_fname_prefix = \"basins_plot\")\n",
        "\n",
        "print(basins_img)\n",
        "from IPython.display import display, Image\n",
        "display(Image(filename=basins_img, width=800))"
      ],
      "metadata": {
        "id": "Vulbla9DnHqt"
      },
      "execution_count": null,
      "outputs": []
    },
    {
      "cell_type": "code",
      "source": [],
      "metadata": {
        "id": "UHMJSTBTnLFs"
      },
      "execution_count": null,
      "outputs": []
    }
  ]
}