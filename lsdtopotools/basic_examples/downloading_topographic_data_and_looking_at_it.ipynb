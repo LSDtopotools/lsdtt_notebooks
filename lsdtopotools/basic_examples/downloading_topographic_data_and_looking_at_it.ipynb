{
  "cells": [
    {
      "cell_type": "markdown",
      "metadata": {
        "id": "view-in-github",
        "colab_type": "text"
      },
      "source": [
        "<a href=\"https://colab.research.google.com/github/LSDtopotools/lsdtt_notebooks/blob/master/lsdtopotools/basic_examples/downloading_topographic_data_and_looking_at_it.ipynb\" target=\"_parent\"><img src=\"https://colab.research.google.com/assets/colab-badge.svg\" alt=\"Open In Colab\"/></a>"
      ]
    },
    {
      "cell_type": "markdown",
      "id": "ac62f3a9",
      "metadata": {
        "id": "ac62f3a9"
      },
      "source": [
        "# Downloading topographic data and looking at it"
      ]
    },
    {
      "cell_type": "markdown",
      "id": "af2c8d31",
      "metadata": {
        "id": "af2c8d31"
      },
      "source": [
        "Last updated by Simon M Mudd on 13/12/2022"
      ]
    },
    {
      "cell_type": "markdown",
      "id": "55d84795",
      "metadata": {
        "id": "55d84795"
      },
      "source": [
        "In this short tutorial you will learn how to download topographic data and look at the hillshade. \n",
        "I give a few different examples of how to run the hillshade operation. \n",
        "\n",
        "If you use this software for your research, please cite https://doi.org/10.5281/zenodo.3245040"
      ]
    },
    {
      "cell_type": "markdown",
      "id": "d46cc4f4",
      "metadata": {
        "id": "d46cc4f4"
      },
      "source": [
        "## Stuff we need to do if you are in colab (not required in the lsdtopotools pytools container)"
      ]
    },
    {
      "cell_type": "markdown",
      "id": "22c9a4a0",
      "metadata": {
        "id": "22c9a4a0"
      },
      "source": [
        "**If you are in the `docker_lsdtt_pytools` docker container, you do not need to do any of this. \n",
        "The following is for executing this code in the google colab environment only.**\n",
        "\n",
        "If you are in the docker container you can skip to the **Download some data** section. "
      ]
    },
    {
      "cell_type": "markdown",
      "id": "f49057a1",
      "metadata": {
        "id": "f49057a1"
      },
      "source": [
        "First we install `lsdviztools`. \n",
        "\n",
        "Note that if we install `condacolab` first the `lsdviztools` installation fails. "
      ]
    },
    {
      "cell_type": "code",
      "execution_count": null,
      "id": "bd90a3b5",
      "metadata": {
        "id": "bd90a3b5"
      },
      "outputs": [],
      "source": [
        "!pip install lsdviztools"
      ]
    },
    {
      "cell_type": "markdown",
      "id": "8a39ec2d",
      "metadata": {
        "id": "8a39ec2d"
      },
      "source": [
        "Now we need to install lsdtopotools. We do this using something called `condacolab`. "
      ]
    },
    {
      "cell_type": "code",
      "execution_count": null,
      "id": "6a545534",
      "metadata": {
        "id": "6a545534"
      },
      "outputs": [],
      "source": [
        "!pip install -q condacolab\n",
        "import condacolab\n",
        "condacolab.install()"
      ]
    },
    {
      "cell_type": "markdown",
      "id": "b94e3ca6",
      "metadata": {
        "id": "b94e3ca6"
      },
      "source": [
        "Now install `lsdtopotools`. The `&> /dev/null` bit just stops a bunch of rubbish being printed to the screen."
      ]
    },
    {
      "cell_type": "code",
      "execution_count": null,
      "id": "2a37fa0f",
      "metadata": {
        "id": "2a37fa0f"
      },
      "outputs": [],
      "source": [
        "!mamba install lsdtopotools &> /dev/null"
      ]
    },
    {
      "cell_type": "markdown",
      "id": "03bec632",
      "metadata": {
        "id": "03bec632"
      },
      "source": [
        "## Getting data from OpenTopography.org"
      ]
    },
    {
      "cell_type": "markdown",
      "id": "910f56f9",
      "metadata": {
        "id": "910f56f9"
      },
      "source": [
        "OpenTopograhy (https://www.opentopography.org/) is a great place to download topographic data. \n",
        "\n",
        "It has vast quantities of lidar data that you can download from the site. In addition there is an API for downloading global datasets (at a range of resolutions). \n",
        "\n",
        "`lsdviztools` has a script that can download this global data and convert it to the file format and coordinate reference system (CRS) you need for analysis in `lsdtopotools`. \n",
        "\n",
        "To do this you need to have a user account at OpenTopography. You can sign up to an opentopography.org account here: https://portal.opentopography.org/myopentopo \n",
        "\n",
        "Once you have done that, you should get your API key and paste it into a text file somewhere safe (if any digital security experts want to explain how to better do this I am all ears). You will need to point to that file when calling the `lsdviztools` opentopography scraper. \n",
        "\n",
        "If you are working in *colab* then you should upload the file into your working directory. "
      ]
    },
    {
      "cell_type": "code",
      "execution_count": null,
      "id": "c4b47b2b",
      "metadata": {
        "id": "c4b47b2b"
      },
      "outputs": [],
      "source": [
        "import lsdviztools.lsdbasemaptools as bmt\n",
        "from lsdviztools.lsdplottingtools import lsdmap_gdalio as gio\n",
        "\n",
        "# YOU NEED TO PUT YOUR API KEY IN A FILE\n",
        "your_OT_api_key_file = \"my_OT_api_key.txt\"\n",
        "\n",
        "with open(your_OT_api_key_file, 'r') as file:\n",
        "    print(\"I am reading you OT API key from the file \"+your_OT_api_key_file)\n",
        "    api_key = file.read().rstrip()\n",
        "    print(\"Your api key starts with: \"+api_key[0:4])\n",
        "\n",
        "Dataset_prefix = \"Diablo\"\n",
        "source_name = \"COP30\"\n",
        "\n",
        "SB_DEM = bmt.ot_scraper(source = source_name,\n",
        "                        lower_left_coordinates = [35.1920215020742,-120.90387764783046], \n",
        "                        upper_right_coordinates = [35.296562615076155, -120.73735491824398],\n",
        "                        prefix = Dataset_prefix, \n",
        "                        api_key_file = your_OT_api_key_file)\n",
        "SB_DEM.print_parameters()\n",
        "SB_DEM.download_pythonic()\n",
        "DataDirectory = \"./\"\n",
        "Fname = Dataset_prefix+\"_\"+source_name+\".tif\"\n",
        "gio.convert4lsdtt(DataDirectory,Fname)"
      ]
    },
    {
      "cell_type": "markdown",
      "id": "a5305d0c",
      "metadata": {
        "id": "a5305d0c"
      },
      "source": [
        "## A simple hillshade image"
      ]
    },
    {
      "cell_type": "markdown",
      "id": "ffb3c582",
      "metadata": {
        "id": "ffb3c582"
      },
      "source": [
        "`lsdtopotools` has various command line functions that run analyses. The one with all the basic topographic analyses is called `lsdtt-basic-metrics`.\n",
        "\n",
        "We can run `lsdtt-basic-metrics` with a little interface in `lsdviztools` called the `lsdtt_driver`. Here we are only going to write a hillshade raster.  "
      ]
    },
    {
      "cell_type": "code",
      "execution_count": null,
      "id": "a9ae69dd",
      "metadata": {
        "id": "a9ae69dd"
      },
      "outputs": [],
      "source": [
        "import lsdviztools.lsdmapwrappers as lsdmw"
      ]
    },
    {
      "cell_type": "code",
      "execution_count": null,
      "id": "e4e680d1",
      "metadata": {
        "id": "e4e680d1"
      },
      "outputs": [],
      "source": [
        "lsdtt_parameters = {\"write_hillshade\" : \"true\"}\n",
        "r_prefix = Dataset_prefix+\"_\"+source_name +\"_UTM\"\n",
        "w_prefix = Dataset_prefix+\"_\"+source_name +\"_UTM\"\n",
        "lsdtt_drive = lsdmw.lsdtt_driver(read_prefix = r_prefix,\n",
        "                                 write_prefix= w_prefix,\n",
        "                                 read_path = \"./\",\n",
        "                                 write_path = \"./\",\n",
        "                                 parameter_dictionary=lsdtt_parameters)\n",
        "lsdtt_drive.print_parameters()\n",
        "lsdtt_drive.run_lsdtt_command_line_tool()"
      ]
    },
    {
      "cell_type": "markdown",
      "id": "668f75a3",
      "metadata": {
        "id": "668f75a3"
      },
      "source": [
        "We can plot the image using a `lsdviztools` function. "
      ]
    },
    {
      "cell_type": "code",
      "execution_count": null,
      "id": "95e03ad7",
      "metadata": {
        "id": "95e03ad7"
      },
      "outputs": [],
      "source": [
        "%matplotlib inline\n",
        "Base_file = r_prefix\n",
        "this_img = lsdmw.SimpleHillshade(DataDirectory,Base_file,cmap=\"gist_earth\", save_fig=False, size_format=\"geomorphology\",dpi=500)"
      ]
    },
    {
      "cell_type": "markdown",
      "id": "0ec18d6b",
      "metadata": {
        "id": "0ec18d6b"
      },
      "source": [
        "You can save the figure as well. This allows you to show it in this notebook in a larger format:"
      ]
    },
    {
      "cell_type": "code",
      "execution_count": null,
      "id": "24802789",
      "metadata": {
        "id": "24802789"
      },
      "outputs": [],
      "source": [
        "%%capture \n",
        "# Use the capture comment to get rid of all the text\n",
        "# But it will also not display an inline image\n",
        "# So you need to call the image from the next line of code           \n",
        "Base_file = r_prefix\n",
        "this_img = lsdmw.SimpleHillshade(DataDirectory,Base_file,cmap=\"gist_earth\", \n",
        "                                 save_fig=True, size_format=\"geomorphology\",dpi=600)"
      ]
    },
    {
      "cell_type": "code",
      "execution_count": null,
      "id": "227a42f9",
      "metadata": {
        "id": "227a42f9"
      },
      "outputs": [],
      "source": [
        "print(this_img)\n",
        "from IPython.display import display, Image\n",
        "display(Image(filename=this_img, width=800))"
      ]
    }
  ],
  "metadata": {
    "kernelspec": {
      "display_name": "Python 3 (ipykernel)",
      "language": "python",
      "name": "python3"
    },
    "language_info": {
      "codemirror_mode": {
        "name": "ipython",
        "version": 3
      },
      "file_extension": ".py",
      "mimetype": "text/x-python",
      "name": "python",
      "nbconvert_exporter": "python",
      "pygments_lexer": "ipython3",
      "version": "3.8.13"
    },
    "colab": {
      "provenance": [],
      "include_colab_link": true
    }
  },
  "nbformat": 4,
  "nbformat_minor": 5
}