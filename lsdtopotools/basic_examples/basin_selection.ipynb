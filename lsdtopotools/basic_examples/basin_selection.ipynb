{
  "cells": [
    {
      "cell_type": "markdown",
      "metadata": {
        "id": "view-in-github",
        "colab_type": "text"
      },
      "source": [
        "<a href=\"https://colab.research.google.com/github/LSDtopotools/lsdtt_notebooks/blob/master/lsdtopotools/basic_examples/basin_selection.ipynb\" target=\"_parent\"><img src=\"https://colab.research.google.com/assets/colab-badge.svg\" alt=\"Open In Colab\"/></a>"
      ]
    },
    {
      "cell_type": "markdown",
      "id": "71f62d57",
      "metadata": {
        "id": "71f62d57"
      },
      "source": [
        "# Basin selection "
      ]
    },
    {
      "cell_type": "markdown",
      "id": "ed93a83c",
      "metadata": {
        "id": "ed93a83c"
      },
      "source": [
        "Last updated by Simon M Mudd on 10/03/2023"
      ]
    },
    {
      "cell_type": "markdown",
      "id": "f7c15ada",
      "metadata": {
        "id": "f7c15ada"
      },
      "source": [
        "In this example I will download some data and then select basins.\n",
        "In general I have a second window open to google maps. \n",
        "If you right click anywhere in google maps the latitude and longitude is copied to the clipboard, so you can then add these to the location data in the cells below. \n",
        "\n",
        "At the bottom of this notebook I also add an example of copying latitude and longitude entirely within a python notebook using folium and jinja.\n",
        "\n",
        "If you use this software for your research, please cite https://doi.org/10.5281/zenodo.3245040"
      ]
    },
    {
      "cell_type": "markdown",
      "id": "4b27be8f",
      "metadata": {
        "id": "4b27be8f"
      },
      "source": [
        "## If you are on colab"
      ]
    },
    {
      "cell_type": "markdown",
      "id": "994da2f2",
      "metadata": {
        "id": "994da2f2"
      },
      "source": [
        "**If you are in the `docker_lsdtt_pytools` docker container, you do not need to do any of this. \n",
        "The following is for executing this code in the google colab environment only.**\n",
        "\n",
        "If you are in the docker container you can skip to the **First get data** section. "
      ]
    },
    {
      "cell_type": "markdown",
      "id": "UVnt20YbQgIN",
      "metadata": {
        "id": "UVnt20YbQgIN"
      },
      "source": [
        "First we install `lsdviztools`. \n",
        "This will take around a minute."
      ]
    },
    {
      "cell_type": "code",
      "execution_count": null,
      "id": "Se7ToFPsPBp6",
      "metadata": {
        "id": "Se7ToFPsPBp6"
      },
      "outputs": [],
      "source": [
        "!pip install lsdviztools descartes &> /dev/null"
      ]
    },
    {
      "cell_type": "markdown",
      "id": "LNOjp2ocMzFE",
      "metadata": {
        "id": "LNOjp2ocMzFE"
      },
      "source": [
        "Now we need to install lsdtopotools. We do this using something called `mamba`. Note that this version of `mamba` works for python 3.9 (which is what google colab currently uses).\n",
        "\n",
        "This step will take around 20 seconds. "
      ]
    },
    {
      "cell_type": "code",
      "source": [
        "%%bash\n",
        "MINICONDA_INSTALLER_SCRIPT=Mambaforge-Linux-x86_64.sh\n",
        "MINICONDA_PREFIX=/usr/local\n",
        "wget https://github.com/conda-forge/miniforge/releases/latest/download/Mambaforge-Linux-x86_64.sh &> /dev/null\n",
        "chmod +x $MINICONDA_INSTALLER_SCRIPT\n",
        "./$MINICONDA_INSTALLER_SCRIPT -b -f -p $MINICONDA_PREFIX &> /dev/null"
      ],
      "metadata": {
        "id": "xhUkM9Q-9Cje"
      },
      "id": "xhUkM9Q-9Cje",
      "execution_count": null,
      "outputs": []
    },
    {
      "cell_type": "markdown",
      "source": [
        "Alternatively we can do this with condacolab, but this broke in March 2023 so will take some time to be fixed"
      ],
      "metadata": {
        "id": "DXqY5s5T9bqL"
      },
      "id": "DXqY5s5T9bqL"
    },
    {
      "cell_type": "code",
      "execution_count": null,
      "id": "ea215034",
      "metadata": {
        "id": "ea215034"
      },
      "outputs": [],
      "source": [
        "#!pip install -q condacolab\n",
        "#import condacolab\n",
        "#condacolab.install()"
      ]
    },
    {
      "cell_type": "markdown",
      "id": "9b8c3e17",
      "metadata": {
        "id": "9b8c3e17"
      },
      "source": [
        "Now use mamba to install `lsdtopotools`. \n",
        "This step takes a bit over a minute. "
      ]
    },
    {
      "cell_type": "code",
      "execution_count": null,
      "id": "0568f44f",
      "metadata": {
        "id": "0568f44f"
      },
      "outputs": [],
      "source": [
        "!mamba install -y lsdtopotools &> /dev/null"
      ]
    },
    {
      "cell_type": "code",
      "execution_count": null,
      "id": "ee7ab7dc",
      "metadata": {
        "id": "ee7ab7dc"
      },
      "outputs": [],
      "source": [
        "!lsdtt-basic-metrics"
      ]
    },
    {
      "cell_type": "markdown",
      "id": "2146b6d9",
      "metadata": {
        "id": "2146b6d9"
      },
      "source": [
        "## First get data"
      ]
    },
    {
      "cell_type": "markdown",
      "id": "324a327a",
      "metadata": {
        "id": "324a327a"
      },
      "source": [
        "We need to get some data to download. \n",
        "\n",
        "For this example we will work nean Xi'an, China (西安) that we studied in this paper:\n",
        "\n",
        "* Wang, Y.Z., Mudd, S.M., 2021. Evidence for and against landscape transience in the Northern Qinling Mountains, China. Geomorphology 391, 107890. https://doi.org/10.1016/j.geomorph.2021.107890\n",
        "\n",
        "We are going to download data using the opentopography scraper that is included with `lsdviztools`. You will need to get an opentopography.org account and copy in your API key. \n",
        "\n",
        "You can sign up to an opentopography.org account here: https://portal.opentopography.org/myopentopo "
      ]
    },
    {
      "cell_type": "code",
      "execution_count": null,
      "id": "5d62c76c",
      "metadata": {
        "id": "5d62c76c"
      },
      "outputs": [],
      "source": [
        "import lsdviztools.lsdbasemaptools as bmt\n",
        "from lsdviztools.lsdplottingtools import lsdmap_gdalio as gio\n",
        "\n",
        "# YOU NEED TO PUT YOUR API KEY IN A FILE\n",
        "your_OT_api_key_file = \"my_OT_api_key.txt\"\n",
        "\n",
        "with open(your_OT_api_key_file, 'r') as file:\n",
        "    print(\"I am reading you OT API key from the file \"+your_OT_api_key_file)\n",
        "    api_key = file.read().rstrip()\n",
        "    print(\"Your api key starts with: \"+api_key[0:4])\n",
        "\n",
        "Dataset_prefix = \"Xian\"\n",
        "source_name = \"COP30\"\n",
        "\n",
        "Xian_DEM = bmt.ot_scraper(source = source_name,\n",
        "                        lower_left_coordinates = [33.672715066202954, 107.54480443333152], \n",
        "                        upper_right_coordinates = [34.16323953210814, 109.4363649228437],\n",
        "                        prefix = Dataset_prefix, \n",
        "                        api_key_file = your_OT_api_key_file)\n",
        "Xian_DEM.print_parameters()\n",
        "Xian_DEM.download_pythonic()\n",
        "DataDirectory = \"./\"\n",
        "Fname = Dataset_prefix+\"_\"+source_name+\".tif\"\n",
        "gio.convert4lsdtt(DataDirectory,Fname)"
      ]
    },
    {
      "cell_type": "markdown",
      "id": "e48a872a",
      "metadata": {
        "id": "e48a872a"
      },
      "source": [
        "## Now get the basins"
      ]
    },
    {
      "cell_type": "markdown",
      "id": "a1f50f3c",
      "metadata": {
        "id": "a1f50f3c"
      },
      "source": [
        "I add basins outlets into a pandas dataframe and then copy this to a file. \n",
        "The points below are obtained just by clicking in google maps and copying the resulting lat-long into the below code. "
      ]
    },
    {
      "cell_type": "code",
      "execution_count": null,
      "id": "cceedb5a",
      "metadata": {
        "id": "cceedb5a"
      },
      "outputs": [],
      "source": [
        "# Import pandas library\n",
        "import pandas as pd\n",
        "\n",
        "data = [ [34.05564682001868, 108.20774244976475],\n",
        "         [34.023214359957834, 108.5345857094824],\n",
        "         [34.17775506582951, 107.66257870033067],\n",
        "         [34.05259180332853, 108.33601473723209],\n",
        "         [33.996904264107016, 108.75290368815703],\n",
        "         [34.0171585070696, 108.96363877748513]]\n",
        "\n",
        "# Create the pandas DataFrame\n",
        "df = pd.DataFrame(data, columns = ['latitude', 'longitude'])\n",
        "\n",
        "df.to_csv(\"basin_outlets.csv\",index=False)\n",
        "df.head()"
      ]
    },
    {
      "cell_type": "markdown",
      "id": "3359bbb3",
      "metadata": {
        "id": "3359bbb3"
      },
      "source": [
        "We can use the linux `cat` command to make sure the file is what we expect."
      ]
    },
    {
      "cell_type": "code",
      "execution_count": null,
      "id": "5ca33f67",
      "metadata": {
        "id": "5ca33f67"
      },
      "outputs": [],
      "source": [
        "!cat basin_outlets.csv"
      ]
    },
    {
      "cell_type": "markdown",
      "id": "7775d95e",
      "metadata": {
        "id": "7775d95e"
      },
      "source": [
        "Now lets use *lsdtopotools* to get the basins. We first need to import the `lsdmapwrappers` module, and then run the code."
      ]
    },
    {
      "cell_type": "code",
      "execution_count": null,
      "id": "72cac9aa",
      "metadata": {
        "id": "72cac9aa"
      },
      "outputs": [],
      "source": [
        "import lsdviztools.lsdmapwrappers as lsdmw\n",
        "\n",
        "## Get the basins\n",
        "lsdtt_parameters = {\"print_basin_raster\" : \"true\",\n",
        "                    \"write_hillshade\" : \"true\",\n",
        "                    \"get_basins_from_outlets\" : \"true\",\n",
        "                    \"basin_outlet_csv\" : \"basin_outlets.csv\"}\n",
        "r_prefix = Dataset_prefix+\"_\"+source_name +\"_UTM\"\n",
        "w_prefix = Dataset_prefix+\"_\"+source_name +\"_UTM\"\n",
        "lsdtt_drive = lsdmw.lsdtt_driver(command_line_tool = \"lsdtt-chi-mapping\", \n",
        "                                 read_prefix = r_prefix,\n",
        "                                 write_prefix= w_prefix,\n",
        "                                 read_path = \"./\",\n",
        "                                 write_path = \"./\",\n",
        "                                 parameter_dictionary=lsdtt_parameters)\n",
        "lsdtt_drive.print_parameters()\n",
        "lsdtt_drive.run_lsdtt_command_line_tool()"
      ]
    },
    {
      "cell_type": "markdown",
      "id": "BSI6wubWo_N8",
      "metadata": {
        "id": "BSI6wubWo_N8"
      },
      "source": [
        "Now we can print the map with an lsdviztools call."
      ]
    },
    {
      "cell_type": "code",
      "execution_count": null,
      "id": "b977fa23",
      "metadata": {
        "id": "b977fa23"
      },
      "outputs": [],
      "source": [
        "%%capture             \n",
        "Base_file = r_prefix\n",
        "basins_img = lsdmw.PrintBasins_Complex(DataDirectory,Base_file,cmap=\"gist_earth\", \n",
        "                             size_format=\"geomorphology\",dpi=600, save_fig = True)"
      ]
    },
    {
      "cell_type": "code",
      "execution_count": null,
      "id": "62c2ede4",
      "metadata": {
        "id": "62c2ede4"
      },
      "outputs": [],
      "source": [
        "print(basins_img)\n",
        "from IPython.display import display, Image\n",
        "display(Image(filename=basins_img, width=800))"
      ]
    },
    {
      "cell_type": "markdown",
      "id": "c241b976",
      "metadata": {
        "id": "c241b976"
      },
      "source": [
        "## An example of copying lat-long using folium and jinja2"
      ]
    },
    {
      "cell_type": "code",
      "execution_count": null,
      "id": "b913e6b6",
      "metadata": {
        "id": "b913e6b6"
      },
      "outputs": [],
      "source": [
        "import folium\n",
        "import jinja2\n",
        "from jinja2 import Template\n",
        "from folium.map import Marker\n",
        "\n",
        "tmpldata = \"\"\"<!-- monkey patched Marker template -->\n",
        "{% macro script(this, kwargs) %}\n",
        "    var {{ this.get_name() }} = L.marker(\n",
        "        {{ this.location|tojson }},\n",
        "        {{ this.options|tojson }}\n",
        "    ).addTo({{ this._parent.get_name() }}).on('click', onClick);\n",
        "{% endmacro %}\n",
        "\"\"\"\n",
        "\n",
        "Marker._mytemplate = Template(tmpldata)\n",
        "def myMarkerInit(self, *args, **kwargs):\n",
        "    self.__init_orig__(*args, **kwargs)\n",
        "    self._template = self._mytemplate\n",
        "Marker.__init_orig__ = Marker.__init__\n",
        "Marker.__init__ = myMarkerInit\n",
        "\n",
        "location_center = [45.5236, -122.6750]\n",
        "locations = [[45.5012, -122.6655],[45.5132, -122.6708],[45.5275, -122.6692],[45.5318, -122.6745]]\n",
        "\n",
        "m = folium.Map(location_center, zoom_start=13)\n",
        "\n",
        "for location in locations: #range(locations.shape[0]):\n",
        "    folium.Marker(\n",
        "        location=location,\n",
        "        popup = f'<p id=\"latlon\">{location[0]}, {location[1]}</p>',\n",
        "        draggable=True\n",
        "    ).add_to(m)\n",
        "\n",
        "el = folium.MacroElement().add_to(m)\n",
        "el._template = jinja2.Template(\"\"\"\n",
        "    {% macro script(this, kwargs) %}\n",
        "    function copy(text) {\n",
        "        var input = document.createElement('textarea');\n",
        "        input.innerHTML = text;\n",
        "        document.body.appendChild(input);\n",
        "        input.select();\n",
        "        var result = document.execCommand('copy');\n",
        "        document.body.removeChild(input);\n",
        "        return result;\n",
        "    };\n",
        "    \n",
        "    function onClick(e) {\n",
        "       var lat = e.latlng.lat; \n",
        "       var lng = e.latlng.lng;\n",
        "       var newContent = '<p id=\"latlon\">' + lat + ', ' + lng + '</p>';\n",
        "       e.target.setPopupContent(newContent);\n",
        "       copy(lat + ', ' + lng);\n",
        "    };\n",
        "    {% endmacro %}\n",
        "\"\"\")\n",
        "\n",
        "display(m)"
      ]
    },
    {
      "cell_type": "code",
      "execution_count": null,
      "id": "685b8505",
      "metadata": {
        "id": "685b8505"
      },
      "outputs": [],
      "source": [
        "45.52006510830038, -122.62201309204103"
      ]
    },
    {
      "cell_type": "markdown",
      "id": "oMUsa6sMpIjz",
      "metadata": {
        "id": "oMUsa6sMpIjz"
      },
      "source": [
        "This technique allows you to do everything in python but is a bit clunky, I very much reccomend just opening up a different browser window and using right-click to copy lat-long coordinates on google maps.  "
      ]
    }
  ],
  "metadata": {
    "colab": {
      "provenance": [],
      "include_colab_link": true
    },
    "kernelspec": {
      "display_name": "Python 3 (ipykernel)",
      "language": "python",
      "name": "python3"
    },
    "language_info": {
      "codemirror_mode": {
        "name": "ipython",
        "version": 3
      },
      "file_extension": ".py",
      "mimetype": "text/x-python",
      "name": "python",
      "nbconvert_exporter": "python",
      "pygments_lexer": "ipython3",
      "version": "3.8.13"
    }
  },
  "nbformat": 4,
  "nbformat_minor": 5
}