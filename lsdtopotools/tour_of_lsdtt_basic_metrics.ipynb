{
 "cells": [
  {
   "cell_type": "markdown",
   "metadata": {
    "colab_type": "text",
    "id": "view-in-github"
   },
   "source": [
    "<a href=\"https://colab.research.google.com/github/LSDtopotools/lsdtt_notebooks/blob/master/lsdtopotools/tour_of_lsdtt_basic_metrics.ipynb\" target=\"_parent\"><img src=\"https://colab.research.google.com/assets/colab-badge.svg\" alt=\"Open In Colab\"/></a>"
   ]
  },
  {
   "cell_type": "markdown",
   "metadata": {
    "id": "Mf32ItskIkPs"
   },
   "source": [
    "# A tour of lsdtt-basic-metrics\n"
   ]
  },
  {
   "cell_type": "markdown",
   "metadata": {
    "id": "3NRy5488MJUc"
   },
   "source": [
    "`lsdtt-basic-metrics` is one of the command line tools included in *LSDTopoTools*. It has the greatest number of analysis options and scrolling through it all can be a bit daunting. This is a tour through some of its functionality. "
   ]
  },
  {
   "cell_type": "markdown",
   "metadata": {
    "id": "QKy7_wKyMn9K"
   },
   "source": [
    "## Stuff we need to do if you are in colab (not required in the lsdtopotools pytools container)"
   ]
  },
  {
   "cell_type": "markdown",
   "metadata": {
    "id": "UVnt20YbQgIN"
   },
   "source": [
    "First we install `lsdviztools`. \n",
    "\n",
    "Note that if we install `condacolab` first the `lsdviztools` installation fails. "
   ]
  },
  {
   "cell_type": "code",
   "execution_count": null,
   "metadata": {
    "id": "Se7ToFPsPBp6"
   },
   "outputs": [],
   "source": [
    "!pip install lsdviztools"
   ]
  },
  {
   "cell_type": "markdown",
   "metadata": {
    "id": "LNOjp2ocMzFE"
   },
   "source": [
    "Now we need to install lsdtopotools. We do this using something called `condacolab`. "
   ]
  },
  {
   "cell_type": "code",
   "execution_count": null,
   "metadata": {
    "id": "QdIvUR9cKKje"
   },
   "outputs": [],
   "source": [
    "!pip install -q condacolab\n",
    "import condacolab\n",
    "condacolab.install()"
   ]
  },
  {
   "cell_type": "markdown",
   "metadata": {
    "id": "OXv9Ha5WN_n5"
   },
   "source": [
    "Now install `lsdtopotools`. The `&> /dev/null` bit just stops a bunch of rubbish being printed to the screen."
   ]
  },
  {
   "cell_type": "code",
   "execution_count": null,
   "metadata": {
    "id": "XvtS3ptLKLTz"
   },
   "outputs": [],
   "source": [
    "!mamba install lsdtopotools &> /dev/null"
   ]
  },
  {
   "cell_type": "markdown",
   "metadata": {
    "id": "2fm6F358Q8U7"
   },
   "source": [
    "## Download some data"
   ]
  },
  {
   "cell_type": "markdown",
   "metadata": {
    "id": "uMTDXJCUOSAG"
   },
   "source": [
    "We need to get some data to download. We are going to download data using the opentopography scraper that is included with `lsdviztools`. You will need to get an opentopography.org account and copy in your API key.\n",
    "\n",
    "You can sign up to an opentopography.org account here: https://portal.opentopography.org/myopentopo "
   ]
  },
  {
   "cell_type": "code",
   "execution_count": null,
   "metadata": {
    "id": "m1yFGUrRInsF"
   },
   "outputs": [],
   "source": [
    "import lsdviztools.lsdbasemaptools as bmt\n",
    "from lsdviztools.lsdplottingtools import lsdmap_gdalio as gio\n",
    "\n",
    "# MAKE SURE YOU PUT IN YOUR OPENTOPOGRAPHY API KEY\n",
    "your_OT_api_key = \"YOUR API KEY HERE\"\n",
    "\n",
    "Dataset_prefix = \"Diablo\"\n",
    "source_name = \"COP30\"\n",
    "\n",
    "SB_DEM = bmt.ot_scraper(source = source_name,\n",
    "                        lower_left_coordinates = [35.1920215020742,-120.90387764783046], \n",
    "                        upper_right_coordinates = [35.296562615076155, -120.73735491824398],\n",
    "                        prefix = Dataset_prefix, \n",
    "                        api_key = your_OT_api_key)\n",
    "SB_DEM.print_parameters()\n",
    "SB_DEM.download_pythonic()\n",
    "DataDirectory = \"./\"\n",
    "Fname = Dataset_prefix+\"_\"+source_name+\".tif\"\n",
    "gio.convert4lsdtt(DataDirectory,Fname)"
   ]
  },
  {
   "cell_type": "markdown",
   "metadata": {
    "id": "-JBxt-UzUyG6"
   },
   "source": [
    "## A simple hillshade image"
   ]
  },
  {
   "cell_type": "markdown",
   "metadata": {
    "id": "GUpjSjbIVFx9"
   },
   "source": [
    "We can run `lsdtt-basic-metrics` with a little interface in `lsdviztools` called the `lsdtt_driver`. Here we are only going to write a hillshade raster.  "
   ]
  },
  {
   "cell_type": "code",
   "execution_count": null,
   "metadata": {
    "id": "dc6526yjU9PO"
   },
   "outputs": [],
   "source": [
    "import lsdviztools.lsdmapwrappers as lsdmw"
   ]
  },
  {
   "cell_type": "code",
   "execution_count": null,
   "metadata": {
    "id": "w1XfYaIwUQi_"
   },
   "outputs": [],
   "source": [
    "lsdtt_parameters = {\"write_hillshade\" : \"true\"}\n",
    "r_prefix = Dataset_prefix+\"_\"+source_name +\"_UTM\"\n",
    "w_prefix = Dataset_prefix+\"_\"+source_name +\"_UTM\"\n",
    "lsdtt_drive = lsdmw.lsdtt_driver(read_prefix = r_prefix,\n",
    "                                 write_prefix= w_prefix,\n",
    "                                 read_path = \"./\",\n",
    "                                 write_path = \"./\",\n",
    "                                 parameter_dictionary=lsdtt_parameters)\n",
    "lsdtt_drive.print_parameters()\n",
    "lsdtt_drive.run_lsdtt_command_line_tool()"
   ]
  },
  {
   "cell_type": "markdown",
   "metadata": {
    "id": "HpvY7gvMWUwX"
   },
   "source": [
    "We can plot the image using a `lsdviztools` function. "
   ]
  },
  {
   "cell_type": "code",
   "execution_count": null,
   "metadata": {
    "id": "ckKh7zYaUcu0"
   },
   "outputs": [],
   "source": [
    "%matplotlib inline\n",
    "Base_file = r_prefix\n",
    "this_img = lsdmw.SimpleHillshade(DataDirectory,Base_file,cmap=\"gist_earth\", save_fig=False, size_format=\"geomorphology\",dpi=500)"
   ]
  },
  {
   "cell_type": "markdown",
   "metadata": {
    "id": "7MxzlYJuW1pJ"
   },
   "source": [
    "You can save the figure as well. This allows you to show it in this notebook in a larger format:"
   ]
  },
  {
   "cell_type": "code",
   "execution_count": null,
   "metadata": {
    "id": "X90Qe6pi5QUf"
   },
   "outputs": [],
   "source": [
    "# Use the capture comment to get rid of all the text\n",
    "# But it will also not display an inline image\n",
    "# So you need to call the image from the next line of code\n",
    "%%capture             \n",
    "Base_file = r_prefix\n",
    "this_img = lsdmw.SimpleHillshade(DataDirectory,Base_file,cmap=\"gist_earth\", \n",
    "                                 save_fig=True, size_format=\"geomorphology\",dpi=600)"
   ]
  },
  {
   "cell_type": "code",
   "execution_count": null,
   "metadata": {
    "id": "94PC5hmM6BWG"
   },
   "outputs": [],
   "source": [
    "print(this_img)\n",
    "from IPython.display import display, Image\n",
    "display(Image(filename=this_img, width=800))"
   ]
  },
  {
   "cell_type": "markdown",
   "metadata": {
    "id": "ke1LZ-ul7M5V"
   },
   "source": [
    "Note that this `.png` file is now stored in your google drive and you can download these images if you want to use them in talks or papers or for any other purpose. "
   ]
  },
  {
   "cell_type": "code",
   "execution_count": null,
   "metadata": {
    "id": "qmPUoozA7VTi"
   },
   "outputs": [],
   "source": [
    "!ls *.png"
   ]
  },
  {
   "cell_type": "markdown",
   "metadata": {
    "id": "KXT0PJV_XXi3"
   },
   "source": [
    "## Now some simple surface metrics"
   ]
  },
  {
   "cell_type": "markdown",
   "metadata": {
    "id": "FJujO6sLKd58"
   },
   "source": [
    "One common topographic analysis is to extract gradients and curvatures from topographic data. Here is how to do this using `lsdtt-basic-metrics`:"
   ]
  },
  {
   "cell_type": "code",
   "execution_count": null,
   "metadata": {
    "id": "g-QtpAv6VxwB"
   },
   "outputs": [],
   "source": [
    "# IMPORTANT all the parameter values must be passed as strings. \n",
    "# So even if the parameter is a number it always needs to be in quotations\n",
    "lsdtt_parameters = {\"write_hillshade\" : \"true\",\n",
    "                    \"surface_fitting_radius\" : \"60\",\n",
    "                    \"print_slope\" : \"true\",\n",
    "                    \"print_curvature\" : \"true\",\n",
    "                    \"print_profile_curvature\" : \"true\"}\n",
    "r_prefix = Dataset_prefix+\"_\"+source_name +\"_UTM\"\n",
    "w_prefix = Dataset_prefix+\"_\"+source_name +\"_UTM\"\n",
    "lsdtt_drive = lsdmw.lsdtt_driver(read_prefix = r_prefix,\n",
    "                                 write_prefix= w_prefix,\n",
    "                                 read_path = \"./\",\n",
    "                                 write_path = \"./\",\n",
    "                                 parameter_dictionary=lsdtt_parameters)\n",
    "lsdtt_drive.print_parameters()\n",
    "lsdtt_drive.run_lsdtt_command_line_tool()"
   ]
  },
  {
   "cell_type": "markdown",
   "metadata": {
    "id": "J7xDvC4FLU2C"
   },
   "source": [
    "We can check to see what raster we got by listing everything with the `.bil` extension. We can see a \n",
    "\n",
    "* curvature raster (filename has `CURV`)\n",
    "* slope raster (filename has `SLOPE`)\n",
    "* profile curvature raster (filename has `PROFCURV`)\n",
    "\n",
    "*LSDTopoTools* uses a polynomial fitting window to calculate these metrics, the size of which you can set with `surface_fitting_radius`\n",
    "\n",
    "Other options are\n",
    "\n",
    "`print_smoothed_elevation`, `print_aspect`, `print_planform_curvature`, `print_tangential_curvature`, `print_tangential_curvature`, `print_directional_gradients`."
   ]
  },
  {
   "cell_type": "code",
   "execution_count": null,
   "metadata": {
    "id": "BSmHbQz7XWGE"
   },
   "outputs": [],
   "source": [
    "!ls *.bil"
   ]
  },
  {
   "cell_type": "markdown",
   "metadata": {
    "id": "4s5QNS87NeOA"
   },
   "source": [
    "### Plot the surface metrics"
   ]
  },
  {
   "cell_type": "code",
   "execution_count": null,
   "metadata": {
    "id": "4JFMyKvfLTR5"
   },
   "outputs": [],
   "source": [
    "### Plot the topographic gradient\n",
    "%%capture             \n",
    "Base_file = r_prefix\n",
    "Drape_prefix = r_prefix+\"_SLOPE\"\n",
    "this_slope_img = lsdmw.SimpleDrape(DataDirectory,Base_file,Drape_prefix, cmap=\"inferno\", \n",
    "                                       cbar_label = \"Gradient (m/m)\",\n",
    "                                       save_fig=True, size_format=\"geomorphology\",dpi=600)"
   ]
  },
  {
   "cell_type": "code",
   "execution_count": null,
   "metadata": {
    "id": "Cl0lWYQcNCbb"
   },
   "outputs": [],
   "source": [
    "print(this_slope_img)\n",
    "from IPython.display import display, Image\n",
    "display(Image(filename=this_slope_img, width=800))"
   ]
  },
  {
   "cell_type": "code",
   "execution_count": null,
   "metadata": {
    "id": "Xgb43UdkNku9"
   },
   "outputs": [],
   "source": [
    "### Plot the topographic gradient\n",
    "%%capture             \n",
    "Base_file = r_prefix\n",
    "Drape_prefix = r_prefix+\"_CURV\"\n",
    "this_curv_img = lsdmw.SimpleDrape(DataDirectory,Base_file,Drape_prefix, cmap=\"RdBu\", \n",
    "                                       cbar_label = \"Curvature (1/m)\",\n",
    "                                       cbar_loc = \"top\",\n",
    "                                       save_fig=True, size_format=\"ESURF\",dpi=600)"
   ]
  },
  {
   "cell_type": "code",
   "execution_count": null,
   "metadata": {
    "id": "Eq0Ccl2bNku-"
   },
   "outputs": [],
   "source": [
    "print(this_curv_img)\n",
    "from IPython.display import display, Image\n",
    "display(Image(filename=this_curv_img, width=800))"
   ]
  },
  {
   "cell_type": "markdown",
   "metadata": {
    "id": "3P4y8Mc7VGjs"
   },
   "source": [
    "## Getting drainage area"
   ]
  },
  {
   "cell_type": "markdown",
   "metadata": {
    "id": "Pb6eXPKDXIJB"
   },
   "source": [
    "There are several options for getting drainage area. Here we will show the D-infinity algorithm introducted by Tarboton 1991. The raster has the string `dinf_area` in the filename. \n",
    "Other options are:\n",
    "`print_d8_drainage_area_raster`, `print_QuinnMD_drainage_area_raster`, `print_FreemanMD_drainage_area_raster`, `print_MD_drainage_area_raster`\n"
   ]
  },
  {
   "cell_type": "code",
   "execution_count": null,
   "metadata": {
    "id": "ORPlzPBBXHz6"
   },
   "outputs": [],
   "source": [
    "lsdtt_parameters = {\"print_dinf_drainage_area_raster\" : \"true\"}\n",
    "r_prefix = Dataset_prefix+\"_\"+source_name +\"_UTM\"\n",
    "w_prefix = Dataset_prefix+\"_\"+source_name +\"_UTM\"\n",
    "lsdtt_drive = lsdmw.lsdtt_driver(read_prefix = r_prefix,\n",
    "                                 write_prefix= w_prefix,\n",
    "                                 read_path = \"./\",\n",
    "                                 write_path = \"./\",\n",
    "                                 parameter_dictionary=lsdtt_parameters)\n",
    "lsdtt_drive.print_parameters()\n",
    "lsdtt_drive.run_lsdtt_command_line_tool()"
   ]
  },
  {
   "cell_type": "code",
   "execution_count": null,
   "metadata": {
    "id": "LWahqIMiODKs"
   },
   "outputs": [],
   "source": [
    "!ls *.bil"
   ]
  },
  {
   "cell_type": "markdown",
   "metadata": {
    "id": "L3dzbK9tYHgS"
   },
   "source": [
    "So, to see drainage area you would really want a logarithmic colour bar. `lsdviztools` doesn't do that at the moment. So I will show you how to plot a raster using `rasterio` and `imshow`"
   ]
  },
  {
   "cell_type": "code",
   "execution_count": null,
   "metadata": {
    "id": "RBvhnfJaXhEr"
   },
   "outputs": [],
   "source": [
    "import rasterio\n",
    "from matplotlib import pyplot\n",
    "from matplotlib.colors import LogNorm\n",
    "\n",
    "fig, ax = pyplot.subplots()\n",
    "src = rasterio.open('Diablo_COP30_UTM_dinf_area.bil')\n",
    "cs = ax.imshow(src.read(1), cmap='pink', norm=LogNorm(vmin=100, vmax=100000000))\n",
    "\n",
    "cbar = fig.colorbar(cs)\n",
    "\n",
    "cbar.ax.minorticks_off()"
   ]
  },
  {
   "cell_type": "markdown",
   "metadata": {
    "id": "WMegCb7vgY5P"
   },
   "source": [
    "The issue with this method is that the axes are in units of pixels rather than the spatial dimension. Future version of `lsdviztools` will give ytou the ability to plot in logarithmic space. "
   ]
  },
  {
   "cell_type": "code",
   "execution_count": null,
   "metadata": {
    "id": "ttRo1U-hYlG8"
   },
   "outputs": [],
   "source": []
  }
 ],
 "metadata": {
  "colab": {
   "authorship_tag": "ABX9TyO68ru4fgewM3GXDo3llbA4",
   "include_colab_link": true,
   "name": "tour_of_lsdtt-basic-metrics.ipynb",
   "provenance": [],
   "toc_visible": true
  },
  "kernelspec": {
   "display_name": "Python 3 (ipykernel)",
   "language": "python",
   "name": "python3"
  },
  "language_info": {
   "codemirror_mode": {
    "name": "ipython",
    "version": 3
   },
   "file_extension": ".py",
   "mimetype": "text/x-python",
   "name": "python",
   "nbconvert_exporter": "python",
   "pygments_lexer": "ipython3",
   "version": "3.8.10"
  }
 },
 "nbformat": 4,
 "nbformat_minor": 1
}
