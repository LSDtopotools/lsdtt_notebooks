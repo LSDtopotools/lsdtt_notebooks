{
  "nbformat": 4,
  "nbformat_minor": 0,
  "metadata": {
    "colab": {
      "name": "tour_of_lsdtt-basic-metrics.ipynb",
      "provenance": [],
      "toc_visible": true,
      "authorship_tag": "ABX9TyO68ru4fgewM3GXDo3llbA4",
      "include_colab_link": true
    },
    "kernelspec": {
      "name": "python3",
      "display_name": "Python 3"
    },
    "language_info": {
      "name": "python"
    }
  },
  "cells": [
    {
      "cell_type": "markdown",
      "metadata": {
        "id": "view-in-github",
        "colab_type": "text"
      },
      "source": [
        "<a href=\"https://colab.research.google.com/github/LSDtopotools/lsdtt_notebooks/blob/master/lsdtopotools/tour_of_lsdtt_basic_metrics.ipynb\" target=\"_parent\"><img src=\"https://colab.research.google.com/assets/colab-badge.svg\" alt=\"Open In Colab\"/></a>"
      ]
    },
    {
      "cell_type": "markdown",
      "source": [
        "# A tour of lsdtt-basic-metrics\n"
      ],
      "metadata": {
        "id": "Mf32ItskIkPs"
      }
    },
    {
      "cell_type": "markdown",
      "source": [
        "`lsdtt-basic-metrics` is one of the command line tools included in *LSDTopoTools*. It has the greatest number of analysis options and scrolling through it all can be a bit daunting. This is a tour through some of its functionality. "
      ],
      "metadata": {
        "id": "3NRy5488MJUc"
      }
    },
    {
      "cell_type": "markdown",
      "source": [
        "## Stuff we need to do if you are in colab (not required in the lsdtopotools pytools container)"
      ],
      "metadata": {
        "id": "QKy7_wKyMn9K"
      }
    },
    {
      "cell_type": "markdown",
      "source": [
        "First we install `lsdviztools`. \n",
        "\n",
        "Note that if we install `condacolab` first the `lsdviztools` installation fails. "
      ],
      "metadata": {
        "id": "UVnt20YbQgIN"
      }
    },
    {
      "cell_type": "code",
      "source": [
        "!pip install lsdviztools"
      ],
      "metadata": {
        "id": "Se7ToFPsPBp6"
      },
      "execution_count": null,
      "outputs": []
    },
    {
      "cell_type": "markdown",
      "source": [
        "Now we need to install lsdtopotools. We do this using something called `condacolab`. "
      ],
      "metadata": {
        "id": "LNOjp2ocMzFE"
      }
    },
    {
      "cell_type": "code",
      "source": [
        "!pip install -q condacolab\n",
        "import condacolab\n",
        "condacolab.install()"
      ],
      "metadata": {
        "id": "QdIvUR9cKKje"
      },
      "execution_count": null,
      "outputs": []
    },
    {
      "cell_type": "markdown",
      "source": [
        "Now install `lsdtopotools`. The `&> /dev/null` bit just stops a bunch of rubbish being printed to the screen."
      ],
      "metadata": {
        "id": "OXv9Ha5WN_n5"
      }
    },
    {
      "cell_type": "code",
      "source": [
        "!mamba install lsdtopotools &> /dev/null"
      ],
      "metadata": {
        "id": "XvtS3ptLKLTz"
      },
      "execution_count": null,
      "outputs": []
    },
    {
      "cell_type": "markdown",
      "source": [
        "## Download some data"
      ],
      "metadata": {
        "id": "2fm6F358Q8U7"
      }
    },
    {
      "cell_type": "markdown",
      "source": [
        "We need to get some data to download. We are going to download data using the opentopography scraper that is included with `lsdviztools`. You will need to get an opentopography.org account and copy in your API key.\n",
        "\n",
        "You can sign up to an opentopography.org account here: https://portal.opentopography.org/myopentopo "
      ],
      "metadata": {
        "id": "uMTDXJCUOSAG"
      }
    },
    {
      "cell_type": "code",
      "source": [
        "import lsdviztools.lsdbasemaptools as bmt\n",
        "from lsdviztools.lsdplottingtools import lsdmap_gdalio as gio\n",
        "\n",
        "# MAKE SURE YOU PUT IN YOUR OPENTOPOGRAPHY API KEY\n",
        "your_OT_api_key = \"YOUR API KEY HERE\"\n",
        "\n",
        "Dataset_prefix = \"Diablo\"\n",
        "source_name = \"COP30\"\n",
        "\n",
        "SB_DEM = bmt.ot_scraper(source = source_name,\n",
        "                        lower_left_coordinates = [35.1920215020742,-120.90387764783046], \n",
        "                        upper_right_coordinates = [35.296562615076155, -120.73735491824398],\n",
        "                        prefix = Dataset_prefix, \n",
        "                        api_key = your_OT_api_key)\n",
        "SB_DEM.print_parameters()\n",
        "SB_DEM.download_pythonic()\n",
        "DataDirectory = \"./\"\n",
        "Fname = Dataset_prefix+\"_\"+source_name+\".tif\"\n",
        "gio.convert4lsdtt(DataDirectory,Fname)"
      ],
      "metadata": {
        "id": "m1yFGUrRInsF"
      },
      "execution_count": null,
      "outputs": []
    },
    {
      "cell_type": "markdown",
      "source": [
        "## A simple hillshade image"
      ],
      "metadata": {
        "id": "-JBxt-UzUyG6"
      }
    },
    {
      "cell_type": "markdown",
      "source": [
        "We can run `lsdtt-basic-metrics` with a little interface in `lsdviztools` called the `lsdtt_driver`. Here we are only going to write a hillshade raster.  "
      ],
      "metadata": {
        "id": "GUpjSjbIVFx9"
      }
    },
    {
      "cell_type": "code",
      "source": [
        "import lsdviztools.lsdmapwrappers as lsdmw"
      ],
      "metadata": {
        "id": "dc6526yjU9PO"
      },
      "execution_count": null,
      "outputs": []
    },
    {
      "cell_type": "code",
      "source": [
        "lsdtt_parameters = {\"write_hillshade\" : \"true\"}\n",
        "r_prefix = Dataset_prefix+\"_\"+source_name +\"_UTM\"\n",
        "w_prefix = Dataset_prefix+\"_\"+source_name +\"_UTM\"\n",
        "lsdtt_drive = lsdmw.lsdtt_driver(read_prefix = r_prefix,\n",
        "                                 write_prefix= w_prefix,\n",
        "                                 read_path = \"./\",\n",
        "                                 write_path = \"./\",\n",
        "                                 parameter_dictionary=lsdtt_parameters)\n",
        "lsdtt_drive.print_parameters()\n",
        "lsdtt_drive.run_lsdtt_command_line_tool()"
      ],
      "metadata": {
        "id": "w1XfYaIwUQi_"
      },
      "execution_count": null,
      "outputs": []
    },
    {
      "cell_type": "markdown",
      "source": [
        "We can plot the image using a `lsdviztools` function. "
      ],
      "metadata": {
        "id": "HpvY7gvMWUwX"
      }
    },
    {
      "cell_type": "code",
      "source": [
        "%matplotlib inline\n",
        "Base_file = r_prefix\n",
        "this_img = lsdmw.SimpleHillshade(DataDirectory,Base_file,cmap=\"gist_earth\", save_fig=False, size_format=\"geomorphology\",dpi=500)"
      ],
      "metadata": {
        "id": "ckKh7zYaUcu0"
      },
      "execution_count": null,
      "outputs": []
    },
    {
      "cell_type": "markdown",
      "source": [
        "You can save the figure as well. This allows you to show it in this notebook in a larger format:"
      ],
      "metadata": {
        "id": "7MxzlYJuW1pJ"
      }
    },
    {
      "cell_type": "code",
      "source": [
        "# Use the capture comment to get rid of all the text\n",
        "# But it will also not display an inline image\n",
        "# So you need to call the image from the next line of code\n",
        "%%capture             \n",
        "Base_file = r_prefix\n",
        "this_img = lsdmw.SimpleHillshade(DataDirectory,Base_file,cmap=\"gist_earth\", \n",
        "                                 save_fig=True, size_format=\"geomorphology\",dpi=600)"
      ],
      "metadata": {
        "id": "X90Qe6pi5QUf"
      },
      "execution_count": null,
      "outputs": []
    },
    {
      "cell_type": "code",
      "source": [
        "print(this_img)\n",
        "from IPython.display import display, Image\n",
        "display(Image(filename=this_img, width=800))"
      ],
      "metadata": {
        "id": "94PC5hmM6BWG"
      },
      "execution_count": null,
      "outputs": []
    },
    {
      "cell_type": "markdown",
      "source": [
        "Note that this `.png` file is now stored in your google drive and you can download these images if you want to use them in talks or papers or for any other purpose. "
      ],
      "metadata": {
        "id": "ke1LZ-ul7M5V"
      }
    },
    {
      "cell_type": "code",
      "source": [
        "!ls *.png"
      ],
      "metadata": {
        "id": "qmPUoozA7VTi"
      },
      "execution_count": null,
      "outputs": []
    },
    {
      "cell_type": "markdown",
      "source": [
        "## Now some simple surface metrics"
      ],
      "metadata": {
        "id": "KXT0PJV_XXi3"
      }
    },
    {
      "cell_type": "markdown",
      "source": [
        "One common topographic analysis is to extract gradients and curvatures from topographic data. Here is how to do this using `lsdtt-basic-metrics`:"
      ],
      "metadata": {
        "id": "FJujO6sLKd58"
      }
    },
    {
      "cell_type": "code",
      "source": [
        "# IMPORTANT all the parameter values must be passed as strings. \n",
        "# So even if the parameter is a number it always needs to be in quotations\n",
        "lsdtt_parameters = {\"write_hillshade\" : \"true\",\n",
        "                    \"surface_fitting_radius\" : \"60\",\n",
        "                    \"print_slope\" : \"true\",\n",
        "                    \"print_curvature\" : \"true\",\n",
        "                    \"print_profile_curvature\" : \"true\"}\n",
        "r_prefix = Dataset_prefix+\"_\"+source_name +\"_UTM\"\n",
        "w_prefix = Dataset_prefix+\"_\"+source_name +\"_UTM\"\n",
        "lsdtt_drive = lsdmw.lsdtt_driver(read_prefix = r_prefix,\n",
        "                                 write_prefix= w_prefix,\n",
        "                                 read_path = \"./\",\n",
        "                                 write_path = \"./\",\n",
        "                                 parameter_dictionary=lsdtt_parameters)\n",
        "lsdtt_drive.print_parameters()\n",
        "lsdtt_drive.run_lsdtt_command_line_tool()"
      ],
      "metadata": {
        "id": "g-QtpAv6VxwB"
      },
      "execution_count": null,
      "outputs": []
    },
    {
      "cell_type": "markdown",
      "source": [
        "We can check to see what raster we got by listing everything with the `.bil` extension. We can see a \n",
        "\n",
        "* curvature raster (filename has `CURV`)\n",
        "* slope raster (filename has `SLOPE`)\n",
        "* profile curvature raster (filename has `PROFCURV`)\n",
        "\n",
        "*LSDTopoTools* uses a polynomial fitting window to calculate these metrics, the size of which you can set with `surface_fitting_radius`\n",
        "\n",
        "Other options are\n",
        "\n",
        "`print_smoothed_elevation`, `print_aspect`, `print_planform_curvature`, `print_tangential_curvature`, `print_tangential_curvature`, `print_directional_gradients`."
      ],
      "metadata": {
        "id": "J7xDvC4FLU2C"
      }
    },
    {
      "cell_type": "code",
      "source": [
        "!ls *.bil"
      ],
      "metadata": {
        "id": "BSmHbQz7XWGE"
      },
      "execution_count": null,
      "outputs": []
    },
    {
      "cell_type": "markdown",
      "source": [
        "### Plot the surface metrics"
      ],
      "metadata": {
        "id": "4s5QNS87NeOA"
      }
    },
    {
      "cell_type": "code",
      "source": [
        "### Plot the topographic gradient\n",
        "%%capture             \n",
        "Base_file = r_prefix\n",
        "Drape_prefix = r_prefix+\"_SLOPE\"\n",
        "this_slope_img = lsdmw.SimpleDrape(DataDirectory,Base_file,Drape_prefix, cmap=\"inferno\", \n",
        "                                       cbar_label = \"Gradient (m/m)\",\n",
        "                                       save_fig=True, size_format=\"geomorphology\",dpi=600)"
      ],
      "metadata": {
        "id": "4JFMyKvfLTR5"
      },
      "execution_count": null,
      "outputs": []
    },
    {
      "cell_type": "code",
      "source": [
        "print(this_slope_img)\n",
        "from IPython.display import display, Image\n",
        "display(Image(filename=this_slope_img, width=800))"
      ],
      "metadata": {
        "id": "Cl0lWYQcNCbb"
      },
      "execution_count": null,
      "outputs": []
    },
    {
      "cell_type": "code",
      "source": [
        "### Plot the topographic gradient\n",
        "%%capture             \n",
        "Base_file = r_prefix\n",
        "Drape_prefix = r_prefix+\"_CURV\"\n",
        "this_curv_img = lsdmw.SimpleDrape(DataDirectory,Base_file,Drape_prefix, cmap=\"RdBu\", \n",
        "                                       cbar_label = \"Curvature (1/m)\",\n",
        "                                       cbar_loc = \"top\",\n",
        "                                       save_fig=True, size_format=\"ESURF\",dpi=600)"
      ],
      "metadata": {
        "id": "Xgb43UdkNku9"
      },
      "execution_count": null,
      "outputs": []
    },
    {
      "cell_type": "code",
      "source": [
        "print(this_curv_img)\n",
        "from IPython.display import display, Image\n",
        "display(Image(filename=this_curv_img, width=800))"
      ],
      "metadata": {
        "id": "Eq0Ccl2bNku-"
      },
      "execution_count": null,
      "outputs": []
    },
    {
      "cell_type": "markdown",
      "source": [
        "## Getting drainage area"
      ],
      "metadata": {
        "id": "3P4y8Mc7VGjs"
      }
    },
    {
      "cell_type": "markdown",
      "source": [
        "There are several options for getting drainage area. Here we will show the D-infinity algorithm introducted by Tarboton 1991. The raster has the string `dinf_area` in the filename. \n",
        "Other options are:\n",
        "`print_d8_drainage_area_raster`, `print_QuinnMD_drainage_area_raster`, `print_FreemanMD_drainage_area_raster`, `print_MD_drainage_area_raster`\n"
      ],
      "metadata": {
        "id": "Pb6eXPKDXIJB"
      }
    },
    {
      "cell_type": "code",
      "source": [
        "lsdtt_parameters = {\"print_dinf_drainage_area_raster\" : \"true\"}\n",
        "r_prefix = Dataset_prefix+\"_\"+source_name +\"_UTM\"\n",
        "w_prefix = Dataset_prefix+\"_\"+source_name +\"_UTM\"\n",
        "lsdtt_drive = lsdmw.lsdtt_driver(read_prefix = r_prefix,\n",
        "                                 write_prefix= w_prefix,\n",
        "                                 read_path = \"./\",\n",
        "                                 write_path = \"./\",\n",
        "                                 parameter_dictionary=lsdtt_parameters)\n",
        "lsdtt_drive.print_parameters()\n",
        "lsdtt_drive.run_lsdtt_command_line_tool()"
      ],
      "metadata": {
        "id": "ORPlzPBBXHz6"
      },
      "execution_count": null,
      "outputs": []
    },
    {
      "cell_type": "code",
      "source": [
        "!ls *.bil"
      ],
      "metadata": {
        "id": "LWahqIMiODKs"
      },
      "execution_count": null,
      "outputs": []
    },
    {
      "cell_type": "markdown",
      "source": [
        "So, to see drainage area you would really want a logarithmic colour bar. `lsdviztools` doesn't do that at the moment. So I will show you how to plot a raster using `rasterio` and `imshow`"
      ],
      "metadata": {
        "id": "L3dzbK9tYHgS"
      }
    },
    {
      "cell_type": "code",
      "source": [
        "import rasterio\n",
        "from matplotlib import pyplot\n",
        "from matplotlib.colors import LogNorm\n",
        "\n",
        "fig, ax = pyplot.subplots()\n",
        "src = rasterio.open('Diablo_COP30_UTM_dinf_area.bil')\n",
        "cs = ax.imshow(src.read(1), cmap='pink', norm=LogNorm(vmin=100, vmax=100000000))\n",
        "\n",
        "cbar = fig.colorbar(cs)\n",
        "\n",
        "cbar.ax.minorticks_off()"
      ],
      "metadata": {
        "id": "RBvhnfJaXhEr"
      },
      "execution_count": null,
      "outputs": []
    },
    {
      "cell_type": "markdown",
      "source": [
        "The issue with this method is that the axes are in units of pixels rather than the spatial dimension. Future version of `lsdviztools` will give ytou the ability to plot in logarithmic space. "
      ],
      "metadata": {
        "id": "WMegCb7vgY5P"
      }
    },
    {
      "cell_type": "code",
      "source": [
        ""
      ],
      "metadata": {
        "id": "ttRo1U-hYlG8"
      },
      "execution_count": null,
      "outputs": []
    }
  ]
}