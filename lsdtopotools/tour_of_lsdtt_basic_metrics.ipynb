{
  "nbformat": 4,
  "nbformat_minor": 0,
  "metadata": {
    "colab": {
      "name": "tour_of_lsdtt-basic-metrics.ipynb",
      "provenance": [],
      "toc_visible": true,
      "authorship_tag": "ABX9TyPYB7qvf1hfja6mCQdfCWW6",
      "include_colab_link": true
    },
    "kernelspec": {
      "name": "python3",
      "display_name": "Python 3"
    },
    "language_info": {
      "name": "python"
    }
  },
  "cells": [
    {
      "cell_type": "markdown",
      "metadata": {
        "id": "view-in-github",
        "colab_type": "text"
      },
      "source": [
        "<a href=\"https://colab.research.google.com/github/LSDtopotools/lsdtt_notebooks/blob/master/lsdtopotools/tour_of_lsdtt_basic_metrics.ipynb\" target=\"_parent\"><img src=\"https://colab.research.google.com/assets/colab-badge.svg\" alt=\"Open In Colab\"/></a>"
      ]
    },
    {
      "cell_type": "markdown",
      "source": [
        "# A tour of lsdtt-basic-metrics\n"
      ],
      "metadata": {
        "id": "Mf32ItskIkPs"
      }
    },
    {
      "cell_type": "markdown",
      "source": [
        "`lsdtt-basic-metrics` is one of the command line tools included in *LSDTopoTools*. It has the greatest number of analysis options and scrolling through it all can be a bit daunting. This is a tour through some of its functionality. "
      ],
      "metadata": {
        "id": "3NRy5488MJUc"
      }
    },
    {
      "cell_type": "markdown",
      "source": [
        "## Stuff we need to do if you are in colab (not required in the lsdtopotools pytools container)"
      ],
      "metadata": {
        "id": "QKy7_wKyMn9K"
      }
    },
    {
      "cell_type": "markdown",
      "source": [
        "First we install `lsdviztools`. \n",
        "\n",
        "Note that if we install `condacolab` first the `lsdviztools` installation fails. "
      ],
      "metadata": {
        "id": "UVnt20YbQgIN"
      }
    },
    {
      "cell_type": "code",
      "source": [
        "!pip install lsdviztools"
      ],
      "metadata": {
        "id": "Se7ToFPsPBp6"
      },
      "execution_count": null,
      "outputs": []
    },
    {
      "cell_type": "markdown",
      "source": [
        "Now we need to install lsdtopotools. We do this using something called `condacolab`. "
      ],
      "metadata": {
        "id": "LNOjp2ocMzFE"
      }
    },
    {
      "cell_type": "code",
      "source": [
        "!pip install -q condacolab\n",
        "import condacolab\n",
        "condacolab.install()"
      ],
      "metadata": {
        "id": "QdIvUR9cKKje"
      },
      "execution_count": null,
      "outputs": []
    },
    {
      "cell_type": "markdown",
      "source": [
        "Now install `lsdtopotools`. The `&> /dev/null` bit just stops a bunch of rubbish being printed to the screen."
      ],
      "metadata": {
        "id": "OXv9Ha5WN_n5"
      }
    },
    {
      "cell_type": "code",
      "source": [
        "!mamba install lsdtopotools &> /dev/null"
      ],
      "metadata": {
        "id": "XvtS3ptLKLTz"
      },
      "execution_count": null,
      "outputs": []
    },
    {
      "cell_type": "markdown",
      "source": [
        "## Download some data"
      ],
      "metadata": {
        "id": "2fm6F358Q8U7"
      }
    },
    {
      "cell_type": "markdown",
      "source": [
        "We need to get some data to download. We are going to download data using the opentopography scraper that is included with `lsdviztools`. You will need to get an opentopography account and copy in your API key. "
      ],
      "metadata": {
        "id": "uMTDXJCUOSAG"
      }
    },
    {
      "cell_type": "code",
      "source": [
        "import lsdviztools.lsdbasemaptools as bmt\n",
        "from lsdviztools.lsdplottingtools import lsdmap_gdalio as gio\n",
        "\n",
        "your_OT_api_key = \"YOUR KEY HERE\"\n",
        "\n",
        "Dataset_prefix = \"Diablo\"\n",
        "source_name = \"COP30\"\n",
        "\n",
        "SB_DEM = bmt.ot_scraper(source = source_name,\n",
        "                        lower_left_coordinates = [35.1920215020742,-120.90387764783046], \n",
        "                        upper_right_coordinates = [35.296562615076155, -120.73735491824398],\n",
        "                        prefix = Dataset_prefix, \n",
        "                        api_key = your_OT_api_key)\n",
        "SB_DEM.print_parameters()\n",
        "SB_DEM.download_pythonic()\n",
        "DataDirectory = \"./\"\n",
        "Fname = Dataset_prefix+\"_\"+source_name+\".tif\"\n",
        "gio.convert4lsdtt(DataDirectory,Fname)"
      ],
      "metadata": {
        "id": "m1yFGUrRInsF"
      },
      "execution_count": null,
      "outputs": []
    },
    {
      "cell_type": "markdown",
      "source": [
        "## A simple hillshade image"
      ],
      "metadata": {
        "id": "-JBxt-UzUyG6"
      }
    },
    {
      "cell_type": "markdown",
      "source": [
        "We can run `lsdtt-basic-metrics` with a little interface in `lsdviztools` called the `lsdtt_driver`. Here we are only going to write a hillshade raster.  "
      ],
      "metadata": {
        "id": "GUpjSjbIVFx9"
      }
    },
    {
      "cell_type": "code",
      "source": [
        "import lsdviztools.lsdmapwrappers as lsdmw"
      ],
      "metadata": {
        "id": "dc6526yjU9PO"
      },
      "execution_count": null,
      "outputs": []
    },
    {
      "cell_type": "code",
      "source": [
        "lsdtt_parameters = {\"write_hillshade\" : \"true\"}\n",
        "r_prefix = Dataset_prefix+\"_\"+source_name +\"_UTM\"\n",
        "w_prefix = Dataset_prefix+\"_\"+source_name +\"_UTM\"\n",
        "lsdtt_drive = lsdmw.lsdtt_driver(read_prefix = r_prefix,\n",
        "                                 write_prefix= w_prefix,\n",
        "                                 read_path = \"./\",\n",
        "                                 write_path = \"./\",\n",
        "                                 parameter_dictionary=lsdtt_parameters)\n",
        "lsdtt_drive.print_parameters()\n",
        "lsdtt_drive.run_lsdtt_command_line_tool()"
      ],
      "metadata": {
        "id": "w1XfYaIwUQi_"
      },
      "execution_count": null,
      "outputs": []
    },
    {
      "cell_type": "markdown",
      "source": [
        "We can plot the image using a `lsdviztools` function. "
      ],
      "metadata": {
        "id": "HpvY7gvMWUwX"
      }
    },
    {
      "cell_type": "code",
      "source": [
        "%matplotlib inline\n",
        "Base_file = r_prefix\n",
        "this_img = lsdmw.SimpleHillshade(DataDirectory,Base_file,cmap=\"gist_earth\", save_fig=False, size_format=\"geomorphology\",dpi=500)"
      ],
      "metadata": {
        "id": "ckKh7zYaUcu0"
      },
      "execution_count": null,
      "outputs": []
    },
    {
      "cell_type": "markdown",
      "source": [
        ""
      ],
      "metadata": {
        "id": "7MxzlYJuW1pJ"
      }
    },
    {
      "cell_type": "markdown",
      "source": [
        "## Now some simple surface metrics"
      ],
      "metadata": {
        "id": "KXT0PJV_XXi3"
      }
    },
    {
      "cell_type": "code",
      "source": [
        ""
      ],
      "metadata": {
        "id": "g-QtpAv6VxwB"
      },
      "execution_count": null,
      "outputs": []
    },
    {
      "cell_type": "code",
      "source": [
        ""
      ],
      "metadata": {
        "id": "BSmHbQz7XWGE"
      },
      "execution_count": null,
      "outputs": []
    }
  ]
}