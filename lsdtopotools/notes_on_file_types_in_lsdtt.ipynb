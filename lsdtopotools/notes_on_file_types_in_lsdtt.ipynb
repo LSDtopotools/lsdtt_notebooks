{
 "cells": [
  {
   "cell_type": "markdown",
   "metadata": {
    "id": "zc5-hGFak_wO"
   },
   "source": [
    "# Notes on file types in lsdtopotools"
   ]
  },
  {
   "cell_type": "markdown",
   "metadata": {
    "id": "SaQM2PYFlKfe"
   },
   "source": [
    "Last updated by Simon M Mudd 12/05/2023"
   ]
  },
  {
   "cell_type": "markdown",
   "metadata": {
    "id": "IlkY0qnxlOJv"
   },
   "source": [
    "This notebook provides some information about file types in lsdtopotools. "
   ]
  },
  {
   "cell_type": "markdown",
   "metadata": {
    "id": "4b27be8f"
   },
   "source": [
    "## If you are on colab"
   ]
  },
  {
   "cell_type": "markdown",
   "metadata": {
    "id": "994da2f2"
   },
   "source": [
    "**If you are in the `docker_lsdtt_pytools` docker container, you do not need to do any of this. \n",
    "The following is for executing this code in the google colab environment only.**\n",
    "\n",
    "If you are in the docker container you can skip to the **First get data** section. "
   ]
  },
  {
   "cell_type": "markdown",
   "metadata": {
    "id": "Ck6Y73gLvbS8"
   },
   "source": [
    "First we install `lsdviztools`. This will take around a minute. It is important you do this before the `condacolab` step. "
   ]
  },
  {
   "cell_type": "code",
   "execution_count": null,
   "metadata": {
    "executionInfo": {
     "elapsed": 30354,
     "status": "ok",
     "timestamp": 1683900200536,
     "user": {
      "displayName": "Simon Marius Mudd",
      "userId": "06792381340283058954"
     },
     "user_tz": -60
    },
    "id": "Pj2pwsxkvbS8"
   },
   "outputs": [],
   "source": [
    "!pip install lsdviztools &> /dev/null"
   ]
  },
  {
   "cell_type": "markdown",
   "metadata": {
    "id": "Fq9UDKZrvbS8"
   },
   "source": [
    "Now we need to install lsdtopotools. We do this using something called `mamba`. To get `mamba` we install something called `condacolab`. "
   ]
  },
  {
   "cell_type": "code",
   "execution_count": null,
   "metadata": {
    "colab": {
     "base_uri": "https://localhost:8080/"
    },
    "executionInfo": {
     "elapsed": 13839,
     "status": "ok",
     "timestamp": 1683900904094,
     "user": {
      "displayName": "Simon Marius Mudd",
      "userId": "06792381340283058954"
     },
     "user_tz": -60
    },
    "id": "PxwxU5uG6gGJ",
    "outputId": "88be72a4-591b-4615-a37a-ce469fc1aff0"
   },
   "outputs": [],
   "source": [
    "!pip install -q condacolab\n",
    "import condacolab\n",
    "condacolab.install()"
   ]
  },
  {
   "cell_type": "markdown",
   "metadata": {
    "id": "fPqX-p0m6gGL"
   },
   "source": [
    "Now use mamba to install `lsdtopotools`. "
   ]
  },
  {
   "cell_type": "code",
   "execution_count": null,
   "metadata": {
    "id": "Y-qjL08e6gGL"
   },
   "outputs": [],
   "source": [
    "!mamba install -y lsdtopotools &> /dev/null"
   ]
  },
  {
   "cell_type": "markdown",
   "metadata": {},
   "source": [
    "## One extra bit for colab"
   ]
  },
  {
   "cell_type": "markdown",
   "metadata": {},
   "source": [
    "When you install `lsdviztools` on colab you will get the python `gdal` (for doing geospatial stuff) version but not the command line tools. You also need to install the command line tools for this excercise. \n",
    "\n",
    "In the `lsdtopotools` docker image this is already installed. \n",
    "\n",
    "It is faster to install `lsdtopotools` and `gdal` in one mamba call but I wanted to highlight use of gdal for this notebook. "
   ]
  },
  {
   "cell_type": "code",
   "execution_count": null,
   "metadata": {},
   "outputs": [],
   "source": [
    "!mamba install -y gdal &> /dev/null"
   ]
  },
  {
   "cell_type": "markdown",
   "metadata": {
    "id": "LsSh4OfJlome"
   },
   "source": [
    "## Topographic data"
   ]
  },
  {
   "cell_type": "markdown",
   "metadata": {
    "id": "VuTmLe-fRu78"
   },
   "source": [
    "`lsdtopotools`, for various historic reasons, reads and writes rasters in the ENVI bil format. These files have the data in binary format plus an ascii header file that any human can read. \n",
    "\n",
    "When you download topogrpahic data, however, it might come in all kinds of formats. How do we deal with different formats? "
   ]
  },
  {
   "cell_type": "markdown",
   "metadata": {
    "id": "TbMuc23ERmJk"
   },
   "source": [
    "### Dealing with zipped and tarred files from opentopography"
   ]
  },
  {
   "cell_type": "markdown",
   "metadata": {
    "id": "Q2tfktOElq1e"
   },
   "source": [
    "Below is an example that you might come across. \n",
    "\n",
    "*OpenTopography* is an outstanding community website that hosts topographic data, in in this example you should go to their portal for gloabl data: https://portal.opentopography.org/dataCatalog?group=global and then select a small region to download. The filenames here will reflect downloading of a Copernicus 30 DEM. \n",
    "\n",
    "1. Download a small area from OpenTopography. \n",
    "2. Copy the file (`rasters_COP30.tar.gz`) to this workspace (if you are in Goolge Colab you can drag and drop the file). \n",
    "3. We can see if the file is in the workspace by calling the linux command `ls` using the `!` character, which tells this python notebook to send a command to the underlying Linux operating system:"
   ]
  },
  {
   "cell_type": "code",
   "execution_count": null,
   "metadata": {
    "colab": {
     "base_uri": "https://localhost:8080/"
    },
    "executionInfo": {
     "elapsed": 195,
     "status": "ok",
     "timestamp": 1683899914478,
     "user": {
      "displayName": "Simon Marius Mudd",
      "userId": "06792381340283058954"
     },
     "user_tz": -60
    },
    "id": "X3226fCf8T-f",
    "outputId": "7777d49e-9775-4d07-b3f7-0c782e11dfe4"
   },
   "outputs": [],
   "source": [
    "!ls"
   ]
  },
  {
   "cell_type": "markdown",
   "metadata": {
    "id": "m778KvmvQwpc"
   },
   "source": [
    "If the file `rasters_COP30.tar.gz` is not there double check you have downloaded it and copied it to this workspace. \n",
    "\n",
    "Okay, this file is actually a \"tarred\" and \"gzipped\" file. There is a hand linux tool to unzip and untar it all in one go: `!tar xzf you_filename.tar.gz`. \n",
    "\n",
    "If you are used to Windows unzip functions you will be happy to learn that this is much, much faster. "
   ]
  },
  {
   "cell_type": "code",
   "execution_count": null,
   "metadata": {
    "executionInfo": {
     "elapsed": 304,
     "status": "ok",
     "timestamp": 1683899933423,
     "user": {
      "displayName": "Simon Marius Mudd",
      "userId": "06792381340283058954"
     },
     "user_tz": -60
    },
    "id": "qEdhqlN3QZU9"
   },
   "outputs": [],
   "source": [
    "!tar xzf rasters_COP30.tar.gz"
   ]
  },
  {
   "cell_type": "markdown",
   "metadata": {
    "id": "I3WqWQ6PRL50"
   },
   "source": [
    "Now lets see what you got! There should now be a file called `output_COP30.tif`. "
   ]
  },
  {
   "cell_type": "code",
   "execution_count": null,
   "metadata": {
    "colab": {
     "base_uri": "https://localhost:8080/"
    },
    "executionInfo": {
     "elapsed": 221,
     "status": "ok",
     "timestamp": 1683899937642,
     "user": {
      "displayName": "Simon Marius Mudd",
      "userId": "06792381340283058954"
     },
     "user_tz": -60
    },
    "id": "w0s4FlPUQd7i",
    "outputId": "bbca1026-4a80-4bc5-e426-d75625011472"
   },
   "outputs": [],
   "source": [
    "!ls"
   ]
  },
  {
   "cell_type": "markdown",
   "metadata": {
    "id": "lyAgK4ouRdtI"
   },
   "source": [
    "Okay, so you should now recognise the `tif` file format, which is very common in geospatial data. \n",
    "\n"
   ]
  },
  {
   "cell_type": "markdown",
   "metadata": {
    "id": "UuX7t_njRz0u"
   },
   "source": [
    "### Converting and projecting raster data"
   ]
  },
  {
   "cell_type": "markdown",
   "metadata": {
    "id": "Yidw1fq7SCQV"
   },
   "source": [
    "You have a `.tif` DEM. Now what? `lsdtopotools` wants ENVI bil format. It also wants rasters in the UTM coordinate system. It turns out we can modify both of these things at once with the handy package `gdal`.\n",
    "\n",
    "Note that there are pythonic ways to do this, but if you get the `gdal` command line tools, you can do it all in fewer steps. \n",
    "\n",
    "We can used something called `gdalinfo` to look at the file:"
   ]
  },
  {
   "cell_type": "code",
   "execution_count": null,
   "metadata": {
    "colab": {
     "base_uri": "https://localhost:8080/"
    },
    "executionInfo": {
     "elapsed": 206,
     "status": "ok",
     "timestamp": 1683901115501,
     "user": {
      "displayName": "Simon Marius Mudd",
      "userId": "06792381340283058954"
     },
     "user_tz": -60
    },
    "id": "B1G2KNDgQfDq",
    "outputId": "4e8e0d22-c160-48b5-f8cb-14dc5b7d945e"
   },
   "outputs": [],
   "source": [
    "!gdalinfo output_COP30.tif"
   ]
  },
  {
   "cell_type": "markdown",
   "metadata": {},
   "source": [
    "Okay, this has a bunch of information, but one is the latitude and longitude of the Origin, which looks like `Origin = (longitude,latitude)`. \n",
    "\n",
    "In my specific download the origin looks like this:\n",
    "`Origin = (-118.708888888888907,36.655972222222218)`\n",
    "\n",
    "This is a **geographic** coordinate system (a system designed for a sphere), but we want lengths and areas in topographic analysis so we need to switch to a **projected** coordinate system (where we project the sphere onto a flot surface). \n",
    "\n",
    "`lsdtopotools` **always** uses the UTM coordinate system, which is made up of zones. So we need to find out what zone we are in. We can use the python package UTM for this. \n",
    "\n",
    "However, we need to **reverse the order of the coordinates from the origin, because in the origin they are in longitude, latitude, and UTM takes them in latitude,longitude**"
   ]
  },
  {
   "cell_type": "code",
   "execution_count": null,
   "metadata": {
    "colab": {
     "base_uri": "https://localhost:8080/"
    },
    "executionInfo": {
     "elapsed": 234,
     "status": "ok",
     "timestamp": 1683901235732,
     "user": {
      "displayName": "Simon Marius Mudd",
      "userId": "06792381340283058954"
     },
     "user_tz": -60
    },
    "id": "GqoOW6GBRT2A",
    "outputId": "2d71c8ba-d787-47c0-e65e-9ba6a122460a"
   },
   "outputs": [],
   "source": [
    "# Plug in your origin here\n",
    "import utm\n",
    "result = utm.from_latlon(36.655972222222218,-118.708888888888907,)\n",
    "UTM_zone = result[2]\n",
    "print(UTM_zone)"
   ]
  },
  {
   "cell_type": "markdown",
   "metadata": {
    "id": "19bPDgnlVDbx"
   },
   "source": [
    "Okay, in my data this is in zone 11, but you will have a different zone. We now recast the data in ENVI bil format in UTM zone 11 using gdal:"
   ]
  },
  {
   "cell_type": "code",
   "execution_count": null,
   "metadata": {},
   "outputs": [],
   "source": [
    "!gdalwarp -t_srs '+proj=utm +zone=11 +datum=WGS84' -of ENVI output_COP30.tif my_DEM.bil"
   ]
  },
  {
   "cell_type": "markdown",
   "metadata": {},
   "source": [
    "Okay, you now should have a DEM in both the correct format and projection for `lsdtopotools`. \n",
    "\n",
    "In a number of examples in the `lsdtopotools` notebooks, this process is automated by the opentopography scraper tool, but I wanted to let you see what goes on under the hood of `lsdtopotools` so you can see what sort of file manipulation you need from raw data. "
   ]
  }
 ],
 "metadata": {
  "colab": {
   "authorship_tag": "ABX9TyOuT1rr4Z5SqAFShcyPPzUC",
   "provenance": []
  },
  "kernelspec": {
   "display_name": "Python 3 (ipykernel)",
   "language": "python",
   "name": "python3"
  },
  "language_info": {
   "codemirror_mode": {
    "name": "ipython",
    "version": 3
   },
   "file_extension": ".py",
   "mimetype": "text/x-python",
   "name": "python",
   "nbconvert_exporter": "python",
   "pygments_lexer": "ipython3",
   "version": "3.9.16"
  }
 },
 "nbformat": 4,
 "nbformat_minor": 1
}
