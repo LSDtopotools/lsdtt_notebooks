{
 "cells": [
  {
   "cell_type": "markdown",
   "id": "442a02e1",
   "metadata": {},
   "source": [
    "# Floodplain and terrace extraction"
   ]
  },
  {
   "cell_type": "markdown",
   "id": "a3be74de",
   "metadata": {},
   "source": [
    "Notebook last updated by Simon M Mudd 07/12/2022"
   ]
  },
  {
   "cell_type": "markdown",
   "id": "f60e022f",
   "metadata": {},
   "source": [
    "In this notebook we will extract some terrace and floodplains using the method described in Clubb et al, ESURF, 2017 (https://esurf.copernicus.org/articles/5/369/2017/). "
   ]
  },
  {
   "cell_type": "markdown",
   "id": "QKy7_wKyMn9K",
   "metadata": {
    "id": "QKy7_wKyMn9K"
   },
   "source": [
    "## Stuff we need to do if you are in colab (not required in the lsdtopotools pytools container)"
   ]
  },
  {
   "cell_type": "markdown",
   "id": "UVnt20YbQgIN",
   "metadata": {
    "id": "UVnt20YbQgIN"
   },
   "source": [
    "**If you are in the `docker_lsdtt_pytools` docker container, you do not need to do any of this. \n",
    "The following is for executing this code in the google colab environment only.**\n",
    "\n",
    "If you are in the docker container you can skip to the **Add some necessary packages** section. "
   ]
  },
  {
   "cell_type": "code",
   "execution_count": null,
   "id": "7e0ea270",
   "metadata": {},
   "outputs": [],
   "source": [
    "First we install `lsdviztools`. \n",
    "\n",
    "Note that if we install `condacolab` first the `lsdviztools` installation fails. "
   ]
  },
  {
   "cell_type": "code",
   "execution_count": null,
   "id": "Se7ToFPsPBp6",
   "metadata": {
    "id": "Se7ToFPsPBp6"
   },
   "outputs": [],
   "source": [
    "!pip install lsdviztools"
   ]
  },
  {
   "cell_type": "markdown",
   "id": "LNOjp2ocMzFE",
   "metadata": {
    "id": "LNOjp2ocMzFE"
   },
   "source": [
    "Now we need to install lsdtopotools. We do this using something called `condacolab`. "
   ]
  },
  {
   "cell_type": "code",
   "execution_count": null,
   "id": "QdIvUR9cKKje",
   "metadata": {
    "id": "QdIvUR9cKKje"
   },
   "outputs": [],
   "source": [
    "!pip install -q condacolab\n",
    "import condacolab\n",
    "condacolab.install()"
   ]
  },
  {
   "cell_type": "markdown",
   "id": "OXv9Ha5WN_n5",
   "metadata": {
    "id": "OXv9Ha5WN_n5"
   },
   "source": [
    "Now install `lsdtopotools`. The `&> /dev/null` bit just stops a bunch of rubbish being printed to the screen."
   ]
  },
  {
   "cell_type": "code",
   "execution_count": null,
   "id": "XvtS3ptLKLTz",
   "metadata": {
    "id": "XvtS3ptLKLTz"
   },
   "outputs": [],
   "source": [
    "!mamba install lsdtopotools &> /dev/null"
   ]
  },
  {
   "cell_type": "markdown",
   "id": "8664a9f5",
   "metadata": {
    "id": "8664a9f5"
   },
   "source": [
    "## Add some necessary packages"
   ]
  },
  {
   "cell_type": "markdown",
   "id": "5b2def68",
   "metadata": {},
   "source": [
    "First check the version of lsdviztools"
   ]
  },
  {
   "cell_type": "code",
   "execution_count": null,
   "id": "cf4a5224",
   "metadata": {},
   "outputs": [],
   "source": [
    "import lsdviztools\n",
    "lsdviztools.__version__"
   ]
  },
  {
   "cell_type": "code",
   "execution_count": null,
   "id": "8fd137cd",
   "metadata": {
    "id": "8fd137cd"
   },
   "outputs": [],
   "source": [
    "import lsdviztools.lsdmapwrappers as lsdmw\n",
    "import lsdviztools.lsdbasemaptools as bmt\n",
    "from lsdviztools.lsdplottingtools import lsdmap_gdalio as gio"
   ]
  },
  {
   "cell_type": "markdown",
   "id": "a43953ef",
   "metadata": {},
   "source": [
    "You can also check the version of lsdtt. This notebook was made with version *0.7*"
   ]
  },
  {
   "cell_type": "code",
   "execution_count": null,
   "id": "139dba95",
   "metadata": {},
   "outputs": [],
   "source": [
    "!lsdtt-basic-metrics -v"
   ]
  },
  {
   "cell_type": "markdown",
   "id": "5cdc7643",
   "metadata": {
    "id": "5cdc7643"
   },
   "source": [
    "### Get the example data"
   ]
  },
  {
   "cell_type": "markdown",
   "id": "0d7cf8d1",
   "metadata": {
    "id": "0d7cf8d1"
   },
   "source": [
    "The example data is an 18 Mb topographic dataset which you need to download:"
   ]
  },
  {
   "cell_type": "code",
   "execution_count": null,
   "id": "24407b7a",
   "metadata": {
    "id": "24407b7a"
   },
   "outputs": [],
   "source": [
    "# Get the data from github\n",
    "import urllib\n",
    "urllib.request.urlretrieve(\"https://raw.githubusercontent.com/LSDtopotools/ExampleTopoDatasets/master/ChannelExtractionData/IndianCreek_1m/indian_creek.hdr\", \"indian_creek.hdr\")\n",
    "urllib.request.urlretrieve(\"https://raw.githubusercontent.com/LSDtopotools/ExampleTopoDatasets/master/ChannelExtractionData/IndianCreek_1m/indian_creek.bil\", \"indian_creek.bil\")"
   ]
  },
  {
   "cell_type": "markdown",
   "id": "bQyNMxOjAvD1",
   "metadata": {
    "id": "bQyNMxOjAvD1"
   },
   "source": [
    "Lets make sure that file (`indian_creek.bil` and its header) have been downloaded:"
   ]
  },
  {
   "cell_type": "code",
   "execution_count": null,
   "id": "AdzpxDbjA1Gz",
   "metadata": {
    "id": "AdzpxDbjA1Gz"
   },
   "outputs": [],
   "source": [
    "!ls indian_creek*"
   ]
  },
  {
   "cell_type": "markdown",
   "id": "b572e682",
   "metadata": {},
   "source": [
    "## Look at the topography"
   ]
  },
  {
   "cell_type": "markdown",
   "id": "1b11b05a",
   "metadata": {},
   "source": [
    "Lets start by looking at the topography:"
   ]
  },
  {
   "cell_type": "code",
   "execution_count": null,
   "id": "f1cbec81",
   "metadata": {},
   "outputs": [],
   "source": [
    "lsdtt_parameters = {\"write_hillshade\" : \"true\"}\n",
    "r_prefix = \"indian_creek\"\n",
    "w_prefix = \"indian_creek\"\n",
    "lsdtt_drive = lsdmw.lsdtt_driver(command_line_tool = \"lsdtt-basic-metrics\", \n",
    "                                 read_prefix = r_prefix,\n",
    "                                 write_prefix= w_prefix,\n",
    "                                 read_path = \"./\",\n",
    "                                 write_path = \"./\",\n",
    "                                 parameter_dictionary=lsdtt_parameters)\n",
    "lsdtt_drive.print_parameters()\n",
    "lsdtt_drive.run_lsdtt_command_line_tool()"
   ]
  },
  {
   "cell_type": "code",
   "execution_count": null,
   "id": "58d6fce2",
   "metadata": {},
   "outputs": [],
   "source": [
    "### Plot the hillshade\n",
    "%matplotlib inline\n",
    "Base_file = \"indian_creek\"\n",
    "DataDirectory = \"./\"\n",
    "this_img = lsdmw.SimpleHillshade(DataDirectory,Base_file,cmap=\"gist_earth\", save_fig=False, size_format=\"geomorphology\")"
   ]
  },
  {
   "cell_type": "markdown",
   "id": "f8428f38",
   "metadata": {},
   "source": [
    "We can get the channel sources using using `lsdtt-channel-extraction`. We will use the `print_wiener_channels` option. You also need to get the sources with the option `print_sources_to_csv`. This will take around a minute. "
   ]
  },
  {
   "cell_type": "code",
   "execution_count": null,
   "id": "94d266bf",
   "metadata": {},
   "outputs": [],
   "source": [
    "lsdtt_parameters = {\"print_wiener_channels\" : \"true\",\n",
    "                    \"print_sources_to_csv\" : \"true\"}\n",
    "r_prefix = \"indian_creek\"\n",
    "w_prefix = \"indian_creek\"\n",
    "lsdtt_drive = lsdmw.lsdtt_driver(command_line_tool = \"lsdtt-channel-extraction\", \n",
    "                                 read_prefix = r_prefix,\n",
    "                                 write_prefix= w_prefix,\n",
    "                                 read_path = \"./\",\n",
    "                                 write_path = \"./\",\n",
    "                                 parameter_dictionary=lsdtt_parameters)\n",
    "lsdtt_drive.print_parameters()\n",
    "lsdtt_drive.run_lsdtt_command_line_tool()"
   ]
  },
  {
   "cell_type": "markdown",
   "id": "6dfdbe6f",
   "metadata": {},
   "source": [
    "Right, now that that has finished, lets see what files we got:"
   ]
  },
  {
   "cell_type": "code",
   "execution_count": null,
   "id": "08f52d88",
   "metadata": {},
   "outputs": [],
   "source": [
    "!ls indian_creek*"
   ]
  },
  {
   "cell_type": "markdown",
   "id": "3c37b5b8",
   "metadata": {},
   "source": [
    "There are actually 2 files with sources here, one is `indian_creek_ATsources.csv` and the other is `indian_creek_Wsources.csv`. `AT` stands for *area threshold* (and is produced by default) and `W` is for wiener. "
   ]
  },
  {
   "cell_type": "markdown",
   "id": "adbf3ad9",
   "metadata": {},
   "source": [
    "## Look at the Sources using folium"
   ]
  },
  {
   "cell_type": "markdown",
   "id": "de6631c7",
   "metadata": {},
   "source": [
    "We can plot these sources on a folium map to compare them.\n",
    "Before we do that though, we need to load the two datasets with pandas"
   ]
  },
  {
   "cell_type": "code",
   "execution_count": null,
   "id": "72a0f50e",
   "metadata": {},
   "outputs": [],
   "source": [
    "import pandas as pd\n",
    "\n",
    "sources_AT_df = pd.read_csv(\"indian_creek_ATsources.csv\")\n",
    "sources_W_df = pd.read_csv(\"indian_creek_Wsources.csv\")"
   ]
  },
  {
   "cell_type": "code",
   "execution_count": null,
   "id": "cbaa9853",
   "metadata": {},
   "outputs": [],
   "source": [
    "# This is for the area threshold points\n",
    "\n",
    "import folium\n",
    "\n",
    "#create a map\n",
    "this_map = folium.Map(prefer_canvas=True, tiles='Stamen Terrain')\n",
    "\n",
    "def plotDot(point):\n",
    "    '''input: series that contains a numeric named latitude and a numeric named longitude\n",
    "    this function creates a CircleMarker and adds it to your this_map'''\n",
    "    folium.CircleMarker(location=[point.latitude, point.longitude],\n",
    "                        radius=2,\n",
    "                        weight=5).add_to(this_map)\n",
    "\n",
    "#use df.apply(,axis=1) to \"iterate\" through every row in your dataframe\n",
    "sources_AT_df.apply(plotDot, axis = 1)\n",
    "\n",
    "\n",
    "#Set the zoom to the maximum possible\n",
    "this_map.fit_bounds(this_map.get_bounds())\n",
    "\n",
    "#Save the map to an HTML file\n",
    "this_map.save('simple_dot_plot.html')\n",
    "\n",
    "this_map"
   ]
  },
  {
   "cell_type": "code",
   "execution_count": null,
   "id": "38b08d2e",
   "metadata": {
    "scrolled": true
   },
   "outputs": [],
   "source": [
    "# This is for the wiener points\n",
    "\n",
    "import folium\n",
    "\n",
    "#create a map\n",
    "this_map = folium.Map(prefer_canvas=True, tiles='Stamen Terrain')\n",
    "\n",
    "def plotDot(point):\n",
    "    '''input: series that contains a numeric named latitude and a numeric named longitude\n",
    "    this function creates a CircleMarker and adds it to your this_map'''\n",
    "    folium.CircleMarker(location=[point.latitude, point.longitude],\n",
    "                        radius=2,\n",
    "                        weight=5).add_to(this_map)\n",
    "\n",
    "#use df.apply(,axis=1) to \"iterate\" through every row in your dataframe\n",
    "sources_W_df.apply(plotDot, axis = 1)\n",
    "\n",
    "\n",
    "#Set the zoom to the maximum possible\n",
    "this_map.fit_bounds(this_map.get_bounds())\n",
    "\n",
    "#Save the map to an HTML file\n",
    "this_map.save('simple_dot_plot.html')\n",
    "\n",
    "this_map"
   ]
  },
  {
   "cell_type": "markdown",
   "id": "9884158a",
   "metadata": {},
   "source": [
    "You will notice that the Wiener sources appear at much more realistic locations on this map. If you want to use channel sources and are particular about the headwaters, you probably want to use this method (see https://agupubs.onlinelibrary.wiley.com/doi/full/10.1002/2013WR015167 and https://esurf.copernicus.org/articles/4/627/2016/).\n",
    "\n",
    "When looking for valleys and floodplains, however, you can set a minimum stream order so that the smallest channels are not captured. Even if the area threshold channel sources are not particularly accurate, the higher order streams will still be in reasonable locations. "
   ]
  },
  {
   "cell_type": "markdown",
   "id": "73c264d5",
   "metadata": {},
   "source": [
    "## Get some floodplains"
   ]
  },
  {
   "cell_type": "markdown",
   "id": "963d5d9b",
   "metadata": {},
   "source": [
    "This needs a few updates before it is working. Bear with me..."
   ]
  },
  {
   "cell_type": "code",
   "execution_count": null,
   "id": "e21c7b44",
   "metadata": {},
   "outputs": [],
   "source": [
    "\n",
    "\n",
    "lsdtt_parameters = {\"CHeads_file\" : \"indian_creek_ATsources\",\n",
    "                    \"fill_floodplain\" : \"true\"}\n",
    "r_prefix = \"indian_creek\"\n",
    "w_prefix = \"indian_creek\"\n",
    "lsdtt_drive = lsdmw.lsdtt_driver(command_line_tool = \"lsdtt-valley-metrics\", \n",
    "                                 read_prefix = r_prefix,\n",
    "                                 write_prefix= w_prefix,\n",
    "                                 read_path = \"./\",\n",
    "                                 write_path = \"./\",\n",
    "                                 parameter_dictionary=lsdtt_parameters)\n",
    "lsdtt_drive.print_parameters()\n",
    "lsdtt_drive.run_lsdtt_command_line_tool()"
   ]
  },
  {
   "cell_type": "markdown",
   "id": "3cb05376",
   "metadata": {},
   "source": [
    "Now lests see what we have:"
   ]
  },
  {
   "cell_type": "code",
   "execution_count": null,
   "id": "22fedfb5",
   "metadata": {},
   "outputs": [],
   "source": [
    "!ls indian_creek*"
   ]
  },
  {
   "cell_type": "code",
   "execution_count": null,
   "id": "c3881b9c",
   "metadata": {},
   "outputs": [],
   "source": [
    "ls *.driver"
   ]
  },
  {
   "cell_type": "code",
   "execution_count": null,
   "id": "9b354996",
   "metadata": {},
   "outputs": [],
   "source": [
    "!lsdtt-valley-metrics Test_01.driver"
   ]
  },
  {
   "cell_type": "code",
   "execution_count": null,
   "id": "f3ac4af0",
   "metadata": {},
   "outputs": [],
   "source": [
    "!ls indian_creek*"
   ]
  },
  {
   "cell_type": "code",
   "execution_count": null,
   "id": "04f1a991",
   "metadata": {},
   "outputs": [],
   "source": []
  }
 ],
 "metadata": {
  "kernelspec": {
   "display_name": "Python 3 (ipykernel)",
   "language": "python",
   "name": "python3"
  },
  "language_info": {
   "codemirror_mode": {
    "name": "ipython",
    "version": 3
   },
   "file_extension": ".py",
   "mimetype": "text/x-python",
   "name": "python",
   "nbconvert_exporter": "python",
   "pygments_lexer": "ipython3",
   "version": "3.8.13"
  }
 },
 "nbformat": 4,
 "nbformat_minor": 5
}
