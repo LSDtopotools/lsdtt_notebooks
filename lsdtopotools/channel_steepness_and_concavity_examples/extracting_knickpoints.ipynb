{
  "nbformat": 4,
  "nbformat_minor": 0,
  "metadata": {
    "colab": {
      "provenance": [],
      "authorship_tag": "ABX9TyPmVOEJssA8dMQB1h3ixRNK",
      "include_colab_link": true
    },
    "kernelspec": {
      "name": "python3",
      "display_name": "Python 3"
    },
    "language_info": {
      "name": "python"
    }
  },
  "cells": [
    {
      "cell_type": "markdown",
      "metadata": {
        "id": "view-in-github",
        "colab_type": "text"
      },
      "source": [
        "<a href=\"https://colab.research.google.com/github/LSDtopotools/lsdtt_notebooks/blob/master/lsdtopotools/channel_steepness_and_concavity_examples/extracting_knickpoints.ipynb\" target=\"_parent\"><img src=\"https://colab.research.google.com/assets/colab-badge.svg\" alt=\"Open In Colab\"/></a>"
      ]
    },
    {
      "cell_type": "markdown",
      "metadata": {
        "id": "38b8ad01"
      },
      "source": [
        "# Extracting knickpoints"
      ]
    },
    {
      "cell_type": "markdown",
      "metadata": {
        "id": "5f23e269"
      },
      "source": [
        "Last updated by Simon M. Mudd on 22/04/2024"
      ]
    },
    {
      "cell_type": "markdown",
      "metadata": {
        "id": "ca311132"
      },
      "source": [
        "`lsdtt-chi-mapping` is one of the command line tools included in *LSDTopoTools*. This part of *LSDTopoTools* contains many routines for looking at channel steepness indices as well as concavity indices. In this example we will extract some knickpoints.\n",
        "\n",
        "If you want more background you can read this papers:\n",
        "\n",
        "* Gailleton, B., Mudd, S. M., Clubb, F. J., Peifer, D., and Hurst, M. D.: A segmentation approach for the reproducible extraction and quantification of knickpoints from river long profiles, Earth Surf. Dynam., 7, 211–230, https://doi.org/10.5194/esurf-7-211-2019, 2019.\n",
        "\n",
        "If you use this software for your research please cite the above paper as appropriate and this software: https://doi.org/10.5281/zenodo.3245040"
      ]
    },
    {
      "cell_type": "markdown",
      "metadata": {
        "id": "f58334da"
      },
      "source": [
        "## Stuff we need to do if you are in colab (not required in the lsdtopotools pytools container)"
      ]
    },
    {
      "cell_type": "markdown",
      "metadata": {
        "id": "4ff60ba5"
      },
      "source": [
        "**If you are in the `docker_lsdtt_pytools` docker container, you do not need to do any of this.\n",
        "The following is for executing this code in the google colab environment only.**\n",
        "\n",
        "If you are in the docker container you can skip to the **Download some data** section."
      ]
    },
    {
      "cell_type": "markdown",
      "metadata": {
        "id": "989239a6"
      },
      "source": [
        "First we install `lsdtopotools`. The first line downloads the package and the second installs it. The `/dev/null` stuff is just to stop the notebook printing a bunch of text to screen.  "
      ]
    },
    {
      "cell_type": "code",
      "execution_count": null,
      "metadata": {
        "id": "082c22c4"
      },
      "outputs": [],
      "source": [
        "!wget https://pkgs.geos.ed.ac.uk/geos-jammy/pool/world/l/lsdtopotools2/lsdtopotools2_0.9-1geos~22.04.1_amd64.deb  &> /dev/null\n",
        "!apt install ./lsdtopotools2_0.9-1geos~22.04.1_amd64.deb  &> /dev/null"
      ]
    },
    {
      "cell_type": "markdown",
      "metadata": {
        "id": "e711834c"
      },
      "source": [
        "The next line tests to see if it worked. If you get some output asking for a parameter file then `lsdtopotools` is installed. This notebook was tested on version 0.9."
      ]
    },
    {
      "cell_type": "code",
      "execution_count": null,
      "metadata": {
        "id": "3b9abe36"
      },
      "outputs": [],
      "source": [
        "!lsdtt-basic-metrics -v"
      ]
    },
    {
      "cell_type": "markdown",
      "metadata": {
        "id": "0c08bb20"
      },
      "source": [
        "Now we install `lsdviztools`. We need to test if this is version 0.4.12:"
      ]
    },
    {
      "cell_type": "code",
      "execution_count": null,
      "metadata": {
        "id": "b7deb198"
      },
      "outputs": [],
      "source": [
        "!pip install lsdviztools  &> /dev/null\n",
        "import lsdviztools\n",
        "lsdviztools.__version__\n"
      ]
    },
    {
      "cell_type": "markdown",
      "metadata": {
        "id": "746b9d3c"
      },
      "source": [
        "## Download some data"
      ]
    },
    {
      "cell_type": "markdown",
      "metadata": {
        "id": "93b916eb"
      },
      "source": [
        "We need to get some data to download.\n",
        "\n",
        "For this example we will work near Santa Cruz, CA\n",
        "\n",
        "We are going to download data using the opentopography scraper that is included with `lsdviztools`. You will need to get an opentopography.org account and copy in your API key.\n",
        "\n",
        "You can sign up to an opentopography.org account here: https://portal.opentopography.org/myopentopo"
      ]
    },
    {
      "cell_type": "code",
      "execution_count": null,
      "metadata": {
        "id": "c21acb9a"
      },
      "outputs": [],
      "source": [
        "import lsdviztools.lsdbasemaptools as bmt\n",
        "from lsdviztools.lsdplottingtools import lsdmap_gdalio as gio\n",
        "\n",
        "# YOU NEED TO PUT YOUR API KEY IN A FILE\n",
        "your_OT_api_key_file = \"my_OT_api_key.txt\"\n",
        "\n",
        "with open(your_OT_api_key_file, 'r') as file:\n",
        "    print(\"I am reading you OT API key from the file \"+your_OT_api_key_file)\n",
        "    api_key = file.read().rstrip()\n",
        "    print(\"Your api key starts with: \"+api_key[0:4])\n",
        "\n",
        "Dataset_prefix = \"SC\"\n",
        "source_name = \"COP30\"\n",
        "\n",
        "SC_DEM = bmt.ot_scraper(source = source_name,\n",
        "                        lower_left_coordinates = [36.93516810706785, -122.33619592430614],\n",
        "                        upper_right_coordinates = [37.231287577974676, -122.02562650945539],\n",
        "                        prefix = Dataset_prefix,\n",
        "                        api_key_file = your_OT_api_key_file)\n",
        "SC_DEM.print_parameters()\n",
        "SC_DEM.download_pythonic()\n",
        "DataDirectory = \"./\"\n",
        "Fname = Dataset_prefix+\"_\"+source_name+\".tif\"\n",
        "gio.convert4lsdtt(DataDirectory,Fname)"
      ]
    },
    {
      "cell_type": "markdown",
      "metadata": {
        "id": "1f743131"
      },
      "source": [
        "We can check to see if the file has downloaded"
      ]
    },
    {
      "cell_type": "code",
      "execution_count": null,
      "metadata": {
        "id": "14eb81e0"
      },
      "outputs": [],
      "source": [
        "!ls"
      ]
    },
    {
      "cell_type": "markdown",
      "metadata": {
        "id": "44d64d74"
      },
      "source": [
        "## A simple hillshade image"
      ]
    },
    {
      "cell_type": "markdown",
      "metadata": {
        "id": "d385c9c7"
      },
      "source": [
        "We can run `lsdtt-chi-mapping` with a little interface in `lsdviztools` called the `lsdtt_driver`. Here we are only going to write a hillshade raster.  \n",
        "\n",
        "First we check if we are on version 0.4.12 or above."
      ]
    },
    {
      "cell_type": "code",
      "execution_count": null,
      "metadata": {
        "id": "2eece621"
      },
      "outputs": [],
      "source": [
        "import lsdviztools\n",
        "lsdviztools.__version__"
      ]
    },
    {
      "cell_type": "markdown",
      "metadata": {
        "id": "60774304"
      },
      "source": [
        "I we are in the correct version, carry on the the next steps."
      ]
    },
    {
      "cell_type": "code",
      "execution_count": null,
      "metadata": {
        "id": "accc3a91"
      },
      "outputs": [],
      "source": [
        "import lsdviztools.lsdmapwrappers as lsdmw"
      ]
    },
    {
      "cell_type": "code",
      "execution_count": null,
      "metadata": {
        "id": "b9abb4aa"
      },
      "outputs": [],
      "source": [
        "Dataset_prefix = \"SC\"\n",
        "source_name = \"COP30\"\n",
        "\n",
        "lsdtt_parameters = {\"write_hillshade\" : \"true\"}\n",
        "r_prefix = Dataset_prefix+\"_\"+source_name +\"_UTM\"\n",
        "w_prefix = Dataset_prefix+\"_\"+source_name +\"_UTM\"\n",
        "lsdtt_drive = lsdmw.lsdtt_driver(command_line_tool = \"lsdtt-chi-mapping\",\n",
        "                                 read_prefix = r_prefix,\n",
        "                                 write_prefix= w_prefix,\n",
        "                                 read_path = \"./\",\n",
        "                                 write_path = \"./\",\n",
        "                                 parameter_dictionary=lsdtt_parameters)\n",
        "lsdtt_drive.print_parameters()\n",
        "lsdtt_drive.run_lsdtt_command_line_tool()"
      ]
    },
    {
      "cell_type": "markdown",
      "metadata": {
        "id": "78f80fb5"
      },
      "source": [
        "We can plot the image using a `lsdviztools` function. I am printing this to a file and then using the image display option since it allows us to make the figure a bit bigger and in addition you can keep the png image for other uses later."
      ]
    },
    {
      "cell_type": "markdown",
      "metadata": {
        "id": "c1994fc9"
      },
      "source": [
        "You can save the figure as well. This allows you to show it in this notebook in a larger format:"
      ]
    },
    {
      "cell_type": "code",
      "execution_count": null,
      "metadata": {
        "id": "4b20bbd7"
      },
      "outputs": [],
      "source": [
        "%%capture\n",
        "DataDirectory = \"./\"\n",
        "# Use the capture comment to get rid of all the text\n",
        "# But it will also not display an inline image\n",
        "# So you need to call the image from the next line of code\n",
        "# WARNING %%capture must be the first line in a code block (you can't even have comments above)\n",
        "Base_file = r_prefix\n",
        "this_img = lsdmw.SimpleHillshade(DataDirectory,Base_file,cmap=\"gist_earth\",\n",
        "                                 save_fig=True, size_format=\"geomorphology\",dpi=600)"
      ]
    },
    {
      "cell_type": "code",
      "execution_count": null,
      "metadata": {
        "id": "57df7797"
      },
      "outputs": [],
      "source": [
        "print(this_img)\n",
        "from IPython.display import display, Image\n",
        "display(Image(filename=this_img, width=800))"
      ]
    },
    {
      "cell_type": "markdown",
      "metadata": {
        "id": "9971ed06"
      },
      "source": [
        "## Choosing basin outlets"
      ]
    },
    {
      "cell_type": "markdown",
      "metadata": {
        "id": "236270bc"
      },
      "source": [
        "One way to get all the basins we want it to make a file with the latitude and longitude of the outlets. We can go into google maps and right click on locations, and then copy these into a latitude and longitude list."
      ]
    },
    {
      "cell_type": "code",
      "execution_count": null,
      "metadata": {
        "id": "a46f418b"
      },
      "outputs": [],
      "source": [
        "# Import pandas library\n",
        "import pandas as pd\n",
        "\n",
        "data = [ [37.103977560491835, -122.27688719084775],\n",
        "         [37.04698035269795, -122.22620569548667],\n",
        "         [37.01252435334153, -122.19055138486662],\n",
        "         [36.98739273623374, -122.1518657359513],\n",
        "         [36.98116618978382, -122.1381525397069]]\n",
        "\n",
        "# Create the pandas DataFrame\n",
        "df = pd.DataFrame(data, columns = ['latitude', 'longitude'])\n",
        "\n",
        "df.to_csv(\"basin_outlets.csv\",index=False)\n",
        "df.head()"
      ]
    },
    {
      "cell_type": "code",
      "source": [
        "import rasterio\n",
        "raster = rasterio.open(\"SC_COP30_UTM_hs.bil\")\n",
        "# Get the CRS\n",
        "crs = raster.crs\n",
        "\n",
        "print(crs)"
      ],
      "metadata": {
        "id": "4SUbj8ElHjES"
      },
      "execution_count": null,
      "outputs": []
    },
    {
      "cell_type": "code",
      "source": [
        "# Make a geopandas dataframe from the basin outlets\n",
        "import geopandas as gpd\n",
        "gdf = gpd.GeoDataFrame(df, geometry=gpd.points_from_xy(df.longitude,df.latitude), crs=\"EPSG:4326\")\n",
        "gdf = gdf.to_crs(raster.crs)\n",
        "gdf.head(5)"
      ],
      "metadata": {
        "id": "dMWaDEYiH_2I"
      },
      "execution_count": null,
      "outputs": []
    },
    {
      "cell_type": "code",
      "source": [
        "%matplotlib inline\n",
        "import numpy as np\n",
        "import matplotlib.pyplot as plt\n",
        "\n",
        "bbox = raster.bounds\n",
        "bbox_list = [bbox.left, bbox.right, bbox.bottom, bbox.top]\n",
        "\n",
        "\n",
        "# Create a figure and axes\n",
        "fig, ax = plt.subplots()\n",
        "\n",
        "img=raster.read(1)\n",
        "img = np.where(img == -9999, np.nan, img)\n",
        "\n",
        "# Add the raster image to the axes\n",
        "# Note: you might need to adjust the extent and/or coordinate system to match your data\n",
        "ax.imshow(img, extent=bbox_list, cmap='gray')\n",
        "\n",
        "gdf.plot(ax=ax, markersize=5, color='red')\n",
        "plt.clf"
      ],
      "metadata": {
        "id": "b2kprEA6KR0-"
      },
      "execution_count": null,
      "outputs": []
    },
    {
      "cell_type": "code",
      "execution_count": null,
      "metadata": {
        "id": "ab97f5d7"
      },
      "outputs": [],
      "source": [
        "lsdtt_parameters = {\"print_basin_raster\" : \"true\",\n",
        "                    \"get_basins_from_outlets\" : \"true\",\n",
        "                    \"basin_outlet_csv\" : \"basin_outlets.csv\"}\n",
        "r_prefix = Dataset_prefix+\"_\"+source_name +\"_UTM\"\n",
        "w_prefix = Dataset_prefix+\"_\"+source_name +\"_UTM\"\n",
        "lsdtt_drive = lsdmw.lsdtt_driver(command_line_tool = \"lsdtt-chi-mapping\",\n",
        "                                 read_prefix = r_prefix,\n",
        "                                 write_prefix= w_prefix,\n",
        "                                 read_path = \"./\",\n",
        "                                 write_path = \"./\",\n",
        "                                 parameter_dictionary=lsdtt_parameters)\n",
        "lsdtt_drive.print_parameters()\n",
        "lsdtt_drive.run_lsdtt_command_line_tool()\n"
      ]
    },
    {
      "cell_type": "markdown",
      "metadata": {
        "id": "1ce336fd"
      },
      "source": [
        "Now lets look at the channels and basins using `lsdviztools`.\n",
        "Again, `lsdviztools` does not make interactive plots and is much less flexible than `folium` or `imshow` but it is optimised for publication-ready figures."
      ]
    },
    {
      "cell_type": "code",
      "source": [
        "!lsdtt-chi-mapping Test_01.driver"
      ],
      "metadata": {
        "id": "I7XyGRKamWVG"
      },
      "execution_count": null,
      "outputs": []
    },
    {
      "cell_type": "markdown",
      "source": [
        "## Look at the basins"
      ],
      "metadata": {
        "id": "fZ3evliDeMeJ"
      }
    },
    {
      "cell_type": "code",
      "execution_count": null,
      "metadata": {
        "id": "e883459c"
      },
      "outputs": [],
      "source": [
        "%%capture\n",
        "import lsdviztools.lsdmapwrappers as lsdmw\n",
        "DataDirectory = \"./\"\n",
        "Dataset_prefix = \"SC\"\n",
        "source_name = \"COP30\"\n",
        "r_prefix = Dataset_prefix+\"_\"+source_name +\"_UTM\"\n",
        "Base_file = r_prefix\n",
        "basins_img = lsdmw.PrintBasins_Complex(DataDirectory,Base_file,cmap=\"gist_earth\",\n",
        "                             size_format=\"geomorphology\",dpi=600, save_fig = True)"
      ]
    },
    {
      "cell_type": "code",
      "execution_count": null,
      "metadata": {
        "id": "a7c16e93"
      },
      "outputs": [],
      "source": [
        "print(basins_img)\n",
        "from IPython.display import display, Image\n",
        "display(Image(filename=basins_img, width=800))"
      ]
    },
    {
      "cell_type": "markdown",
      "source": [
        "## Have a look at the $k_{sn}$ values"
      ],
      "metadata": {
        "id": "lHbLZLeMoth7"
      }
    },
    {
      "cell_type": "code",
      "source": [
        "lsdtt_parameters = {\"m_over_n\" : \"0.45\",\n",
        "                    \"print_segmented_M_chi_map_to_csv\" : \"true\",\n",
        "                    \"get_basins_from_outlets\" : \"true\",\n",
        "                    \"basin_outlet_csv\" : \"basin_outlets.csv\"}\n",
        "r_prefix = Dataset_prefix+\"_\"+source_name +\"_UTM\"\n",
        "w_prefix = Dataset_prefix+\"_\"+source_name +\"_UTM\"\n",
        "lsdtt_drive = lsdmw.lsdtt_driver(command_line_tool = \"lsdtt-chi-mapping\",\n",
        "                                 read_prefix = r_prefix,\n",
        "                                 write_prefix= w_prefix,\n",
        "                                 read_path = \"./\",\n",
        "                                 write_path = \"./\",\n",
        "                                 parameter_dictionary=lsdtt_parameters)\n",
        "lsdtt_drive.print_parameters()\n",
        "lsdtt_drive.run_lsdtt_command_line_tool()"
      ],
      "metadata": {
        "id": "WN4LEaQrm2cO"
      },
      "execution_count": null,
      "outputs": []
    },
    {
      "cell_type": "markdown",
      "source": [
        "You could plot the points over a hillshade this way:"
      ],
      "metadata": {
        "id": "ujPBoIwReRAg"
      }
    },
    {
      "cell_type": "code",
      "source": [
        "#%%capture\n",
        "points_img = lsdmw.PrintPointsOverHillshade(DataDirectory,Base_file,cmap=\"viridis\",\n",
        "                                            points_fname = \"SC_COP30_UTM_MChiSegmented.csv\",\n",
        "                                            size_format=\"geomorphology\",dpi=600,\n",
        "                                            save_fig = True,\n",
        "                                            column_for_plotting = \"m_chi\",\n",
        "                                            column_for_scaling = \"drainage_area\",\n",
        "                                            scaled_data_in_log = True,\n",
        "                                            max_point_size = 14, min_point_size =5)"
      ],
      "metadata": {
        "id": "0co5wGHXpXoB"
      },
      "execution_count": null,
      "outputs": []
    },
    {
      "cell_type": "code",
      "source": [
        "from IPython.display import display, Image\n",
        "display(Image(filename=\"./SC_COP30_UTM_channels_with_basins.png\", width=800))"
      ],
      "metadata": {
        "id": "dREDvfYpq_wE"
      },
      "execution_count": null,
      "outputs": []
    },
    {
      "cell_type": "markdown",
      "source": [
        "Or you could have a fancier plot:"
      ],
      "metadata": {
        "id": "IoxlfoHMeUoQ"
      }
    },
    {
      "cell_type": "code",
      "source": [
        "ksn_img = lsdmw.PrintChiChannelsAndBasins(DataDirectory,Base_file,\n",
        "                                          ChannelFileName = \"SC_COP30_UTM_MChiSegmented.csv\",\n",
        "                                          add_basin_labels = False, cmap = \"viridis\",\n",
        "                                          cbar_loc = \"right\",\n",
        "                                          size_format=\"geomorphology\",dpi=600,\n",
        "                                          fig_format = \"png\",\n",
        "                                          plotting_column=\"m_chi\",\n",
        "                                          colorbarlabel = \"$\\mathrm{log}_{10} \\; \\mathrm{of} \\; k_{sn}$\",\n",
        "                                          out_fname_prefix = \"ksn_plot\")"
      ],
      "metadata": {
        "id": "pKRJZCWocrTZ"
      },
      "execution_count": null,
      "outputs": []
    },
    {
      "cell_type": "code",
      "source": [
        "!ls"
      ],
      "metadata": {
        "id": "36coNHKRrCeM"
      },
      "execution_count": null,
      "outputs": []
    },
    {
      "cell_type": "code",
      "source": [
        "from IPython.display import display, Image\n",
        "display(Image(filename=\"./ksn_plot_chi_channels_and_basins.png\", width=800))"
      ],
      "metadata": {
        "id": "R7dGJRh6d_x2"
      },
      "execution_count": null,
      "outputs": []
    },
    {
      "cell_type": "markdown",
      "source": [
        "## Now get the knickpoints"
      ],
      "metadata": {
        "id": "UEU6QGYLeY3Z"
      }
    },
    {
      "cell_type": "code",
      "source": [
        "lsdtt_parameters = {\"m_over_n\" : \"0.45\",\n",
        "                    \"ksn_knickpoint_analysis\" : \"true\"}\n",
        "r_prefix = Dataset_prefix+\"_\"+source_name +\"_UTM\"\n",
        "w_prefix = Dataset_prefix+\"_\"+source_name +\"_UTM\"\n",
        "lsdtt_drive = lsdmw.lsdtt_driver(command_line_tool = \"lsdtt-chi-mapping\",\n",
        "                                 read_prefix = r_prefix,\n",
        "                                 write_prefix= w_prefix,\n",
        "                                 read_path = \"./\",\n",
        "                                 write_path = \"./\",\n",
        "                                 parameter_dictionary=lsdtt_parameters)\n",
        "lsdtt_drive.print_parameters()\n",
        "lsdtt_drive.run_lsdtt_command_line_tool()"
      ],
      "metadata": {
        "id": "S3CeYj4IeFln"
      },
      "execution_count": null,
      "outputs": []
    },
    {
      "cell_type": "code",
      "source": [
        "!ls"
      ],
      "metadata": {
        "id": "ZdcB9LuNgE36"
      },
      "execution_count": null,
      "outputs": []
    },
    {
      "cell_type": "markdown",
      "source": [
        "Lets plot some knickpoints. In this case many of the knickpoints are distributed, so we probably would play a bit with the settings to get a better result.\n",
        "\n",
        "See here:\n",
        "https://lsdtopotools.github.io/LSDTT_documentation/LSDTT_knickpoint_analysis.html#_the_methodology"
      ],
      "metadata": {
        "id": "01WLcD4mjLVV"
      }
    },
    {
      "cell_type": "code",
      "source": [
        "#%%capture\n",
        "points_img = lsdmw.PrintPointsOverHillshade(DataDirectory,Base_file,cmap=\"viridis\",\n",
        "                                            points_fname = \"SC_COP30_UTM_ksnkp.csv\",\n",
        "                                            size_format=\"geomorphology\",dpi=600,\n",
        "                                            save_fig = True,\n",
        "                                            column_for_plotting = \"delta_ksn\",\n",
        "                                            column_for_scaling = \"drainage_area\",\n",
        "                                            scaled_data_in_log = True,\n",
        "                                            max_point_size = 14, min_point_size =5)"
      ],
      "metadata": {
        "id": "6xHnMtT0gKW4"
      },
      "execution_count": null,
      "outputs": []
    },
    {
      "cell_type": "code",
      "source": [
        "from IPython.display import display, Image\n",
        "display(Image(filename=points_img, width=800))"
      ],
      "metadata": {
        "id": "Idq6EVjjiNbc"
      },
      "execution_count": null,
      "outputs": []
    },
    {
      "cell_type": "code",
      "source": [],
      "metadata": {
        "id": "Qf4E_lgBiQ7T"
      },
      "execution_count": null,
      "outputs": []
    }
  ]
}