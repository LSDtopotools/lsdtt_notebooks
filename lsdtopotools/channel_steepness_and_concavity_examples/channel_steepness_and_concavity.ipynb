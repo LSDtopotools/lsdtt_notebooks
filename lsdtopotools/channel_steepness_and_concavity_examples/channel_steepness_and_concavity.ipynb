{
 "cells": [
  {
   "cell_type": "markdown",
   "metadata": {
    "colab_type": "text",
    "id": "view-in-github"
   },
   "source": [
    "<a href=\"https://colab.research.google.com/github/LSDtopotools/lsdtt_notebooks/blob/master/lsdtopotools/channel_steepness_and_concavity_examples/channel_steepness_and_concavity.ipynb\" target=\"_parent\"><img src=\"https://colab.research.google.com/assets/colab-badge.svg\" alt=\"Open In Colab\"/></a>"
   ]
  },
  {
   "cell_type": "markdown",
   "metadata": {
    "id": "9nsIBxZD16L3"
   },
   "source": [
    "# Analysing channel steepness and the concavity index with lsdtt-chi-mapping"
   ]
  },
  {
   "cell_type": "markdown",
   "metadata": {
    "id": "CnmP7UJ5f8Nf"
   },
   "source": [
    "Last updated by Simon M. Mudd on 12/12/2022"
   ]
  },
  {
   "cell_type": "markdown",
   "metadata": {
    "id": "3NRy5488MJUc"
   },
   "source": [
    "`lsdtt-chi-mapping` is one of the command line tools included in *LSDTopoTools*. This part of *LSDTopoTools* contains many routines for looking at channel steepness indices as well as concavity indices. \n",
    "\n",
    "If you want more background you can read these two papers:\n",
    "\n",
    "* Mudd, S.M., Attal, M., Milodowski, D.T., Grieve, S.W.D., Valters, D.A., 2014. A statistical framework to quantify spatial variation in channel gradients using the integral method of channel profile analysis. Journal of Geophysical Research: Earth Surface 119, 138–152. https://doi.org/10.1002/2013JF002981\n",
    "\n",
    "* Mudd, S.M., Clubb, F.J., Gailleton, B., Hurst, M.D., 2018. How concave are river channels? Earth Surface Dynamics 6, 505–523. https://doi.org/10.5194/esurf-6-505-2018\n",
    "\n",
    "If you use this software for your research please cite the aobe papers as appropriate and this software: https://doi.org/10.5281/zenodo.3245040"
   ]
  },
  {
   "cell_type": "markdown",
   "metadata": {
    "id": "QKy7_wKyMn9K"
   },
   "source": [
    "## Stuff we need to do if you are in colab (not required in the lsdtopotools pytools container)"
   ]
  },
  {
   "cell_type": "markdown",
   "metadata": {
    "id": "CzYTjCubf8Nk"
   },
   "source": [
    "**If you are in the `docker_lsdtt_pytools` docker container, you do not need to do any of this. \n",
    "The following is for executing this code in the google colab environment only.**\n",
    "\n",
    "If you are in the docker container you can skip to the **Download some data** section. "
   ]
  },
  {
   "cell_type": "markdown",
   "metadata": {
    "id": "UVnt20YbQgIN"
   },
   "source": [
    "First we install `lsdviztools`. \n",
    "\n",
    "Note that if we install `condacolab` first the `lsdviztools` installation fails. "
   ]
  },
  {
   "cell_type": "code",
   "execution_count": null,
   "metadata": {
    "id": "Se7ToFPsPBp6"
   },
   "outputs": [],
   "source": [
    "!pip install lsdviztools"
   ]
  },
  {
   "cell_type": "markdown",
   "metadata": {
    "id": "LNOjp2ocMzFE"
   },
   "source": [
    "Now we need to install lsdtopotools. We do this using something called `condacolab`. "
   ]
  },
  {
   "cell_type": "code",
   "execution_count": null,
   "metadata": {
    "id": "QdIvUR9cKKje"
   },
   "outputs": [],
   "source": [
    "!pip install -q condacolab\n",
    "import condacolab\n",
    "condacolab.install()"
   ]
  },
  {
   "cell_type": "markdown",
   "metadata": {
    "id": "OXv9Ha5WN_n5"
   },
   "source": [
    "Now install `lsdtopotools`. The `&> /dev/null` bit just stops a bunch of rubbish being printed to the screen."
   ]
  },
  {
   "cell_type": "code",
   "execution_count": null,
   "metadata": {
    "id": "XvtS3ptLKLTz"
   },
   "outputs": [],
   "source": [
    "!mamba install lsdtopotools &> /dev/null"
   ]
  },
  {
   "cell_type": "markdown",
   "metadata": {
    "id": "2fm6F358Q8U7"
   },
   "source": [
    "## Download some data"
   ]
  },
  {
   "cell_type": "markdown",
   "metadata": {
    "id": "uMTDXJCUOSAG"
   },
   "source": [
    "We need to get some data to download. \n",
    "\n",
    "For this example we will work nean Xi'an, China (西安) that we studied in this paper:\n",
    "\n",
    "* Wang, Y.Z., Mudd, S.M., 2021. Evidence for and against landscape transience in the Northern Qinling Mountains, China. Geomorphology 391, 107890. https://doi.org/10.1016/j.geomorph.2021.107890\n",
    "\n",
    "We are going to download data using the opentopography scraper that is included with `lsdviztools`. You will need to get an opentopography.org account and copy in your API key. \n",
    "\n",
    "You can sign up to an opentopography.org account here: https://portal.opentopography.org/myopentopo "
   ]
  },
  {
   "cell_type": "code",
   "execution_count": null,
   "metadata": {
    "id": "m1yFGUrRInsF"
   },
   "outputs": [],
   "source": [
    "import lsdviztools.lsdbasemaptools as bmt\n",
    "from lsdviztools.lsdplottingtools import lsdmap_gdalio as gio\n",
    "\n",
    "# YOU NEED TO PUT YOUR API KEY IN A FILE\n",
    "your_OT_api_key_file = \"my_OT_api_key.txt\"\n",
    "\n",
    "with open(your_OT_api_key_file, 'r') as file:\n",
    "    print(\"I am reading you OT API key from the file \"+your_OT_api_key_file)\n",
    "    api_key = file.read().rstrip()\n",
    "    print(\"Your api key starts with: \"+api_key[0:4])\n",
    "\n",
    "Dataset_prefix = \"Xian\"\n",
    "source_name = \"COP30\"\n",
    "\n",
    "Xian_DEM = bmt.ot_scraper(source = source_name,\n",
    "                        lower_left_coordinates = [33.672715066202954, 107.54480443333152], \n",
    "                        upper_right_coordinates = [34.16323953210814, 109.4363649228437],\n",
    "                        prefix = Dataset_prefix, \n",
    "                        api_key_file = your_OT_api_key_file)\n",
    "Xian_DEM.print_parameters()\n",
    "Xian_DEM.download_pythonic()\n",
    "DataDirectory = \"./\"\n",
    "Fname = Dataset_prefix+\"_\"+source_name+\".tif\"\n",
    "gio.convert4lsdtt(DataDirectory,Fname)"
   ]
  },
  {
   "cell_type": "markdown",
   "metadata": {
    "id": "5hE38ttpC8en"
   },
   "source": [
    "We can check to see if the file has downloaded"
   ]
  },
  {
   "cell_type": "code",
   "execution_count": null,
   "metadata": {
    "id": "FQrzKwtmC_nj"
   },
   "outputs": [],
   "source": [
    "!ls"
   ]
  },
  {
   "cell_type": "markdown",
   "metadata": {
    "id": "-JBxt-UzUyG6"
   },
   "source": [
    "## A simple hillshade image"
   ]
  },
  {
   "cell_type": "markdown",
   "metadata": {
    "id": "GUpjSjbIVFx9"
   },
   "source": [
    "We can run `lsdtt-chi-mapping` with a little interface in `lsdviztools` called the `lsdtt_driver`. Here we are only going to write a hillshade raster.  "
   ]
  },
  {
   "cell_type": "code",
   "execution_count": null,
   "metadata": {
    "id": "dc6526yjU9PO"
   },
   "outputs": [],
   "source": [
    "import lsdviztools.lsdmapwrappers as lsdmw"
   ]
  },
  {
   "cell_type": "code",
   "execution_count": null,
   "metadata": {
    "id": "w1XfYaIwUQi_"
   },
   "outputs": [],
   "source": [
    "Dataset_prefix = \"Xian\"\n",
    "source_name = \"COP30\"\n",
    "\n",
    "lsdtt_parameters = {\"write_hillshade\" : \"true\"}\n",
    "r_prefix = Dataset_prefix+\"_\"+source_name +\"_UTM\"\n",
    "w_prefix = Dataset_prefix+\"_\"+source_name +\"_UTM\"\n",
    "lsdtt_drive = lsdmw.lsdtt_driver(command_line_tool = \"lsdtt-chi-mapping\", \n",
    "                                 read_prefix = r_prefix,\n",
    "                                 write_prefix= w_prefix,\n",
    "                                 read_path = \"./\",\n",
    "                                 write_path = \"./\",\n",
    "                                 parameter_dictionary=lsdtt_parameters)\n",
    "lsdtt_drive.print_parameters()\n",
    "lsdtt_drive.run_lsdtt_command_line_tool()"
   ]
  },
  {
   "cell_type": "markdown",
   "metadata": {
    "id": "HpvY7gvMWUwX"
   },
   "source": [
    "We can plot the image using a `lsdviztools` function. I am printing this to a file and then using the image display option since it allows us to make the figure a bit bigger and in addition you can keep the png image for other uses later. "
   ]
  },
  {
   "cell_type": "markdown",
   "metadata": {
    "id": "7MxzlYJuW1pJ"
   },
   "source": [
    "You can save the figure as well. This allows you to show it in this notebook in a larger format:"
   ]
  },
  {
   "cell_type": "code",
   "execution_count": null,
   "metadata": {
    "id": "X90Qe6pi5QUf"
   },
   "outputs": [],
   "source": [
    "%%capture  \n",
    "DataDirectory = \"./\"\n",
    "# Use the capture comment to get rid of all the text\n",
    "# But it will also not display an inline image\n",
    "# So you need to call the image from the next line of code\n",
    "# WARNING %%capture must be the first line in a code block (you can't even have comments above)\n",
    "Base_file = r_prefix\n",
    "this_img = lsdmw.SimpleHillshade(DataDirectory,Base_file,cmap=\"gist_earth\", \n",
    "                                 save_fig=True, size_format=\"geomorphology\",dpi=600)"
   ]
  },
  {
   "cell_type": "code",
   "execution_count": null,
   "metadata": {
    "id": "94PC5hmM6BWG"
   },
   "outputs": [],
   "source": [
    "print(this_img)\n",
    "from IPython.display import display, Image\n",
    "display(Image(filename=this_img, width=800))"
   ]
  },
  {
   "cell_type": "markdown",
   "metadata": {
    "id": "2fgfcu2XJ5xK"
   },
   "source": [
    "# Selecting basins"
   ]
  },
  {
   "cell_type": "markdown",
   "metadata": {
    "id": "dB33lc2pIeTJ"
   },
   "source": [
    "## Automated basin selection"
   ]
  },
  {
   "cell_type": "markdown",
   "metadata": {
    "id": "KZoX_vt3iSXb"
   },
   "source": [
    "*LSDTopoTools* automates selection of basins. The default way it does this is to grab basins within a window of contributing sizes. Here is an example:"
   ]
  },
  {
   "cell_type": "code",
   "execution_count": null,
   "metadata": {
    "id": "MsxXOdRvigFL"
   },
   "outputs": [],
   "source": [
    "lsdtt_parameters = {\"print_basin_raster\" : \"true\",\n",
    "                    \"minimum_basin_size_pixels\" : \"10000\",\n",
    "                    \"maximum_basin_size_pixels\" : \"5000000\"}\n",
    "r_prefix = Dataset_prefix+\"_\"+source_name +\"_UTM\"\n",
    "w_prefix = Dataset_prefix+\"_\"+source_name +\"_UTM\"\n",
    "lsdtt_drive = lsdmw.lsdtt_driver(command_line_tool = \"lsdtt-chi-mapping\", \n",
    "                                 read_prefix = r_prefix,\n",
    "                                 write_prefix= w_prefix,\n",
    "                                 read_path = \"./\",\n",
    "                                 write_path = \"./\",\n",
    "                                 parameter_dictionary=lsdtt_parameters)\n",
    "lsdtt_drive.print_parameters()\n",
    "lsdtt_drive.run_lsdtt_command_line_tool()"
   ]
  },
  {
   "cell_type": "code",
   "execution_count": null,
   "metadata": {
    "id": "MyJormwbJG3C"
   },
   "outputs": [],
   "source": [
    "%%capture             \n",
    "Base_file = r_prefix\n",
    "basins_img = lsdmw.PrintBasins_Complex(DataDirectory,Base_file,cmap=\"gist_earth\", \n",
    "                             size_format=\"geomorphology\",dpi=600, save_fig = True)"
   ]
  },
  {
   "cell_type": "code",
   "execution_count": null,
   "metadata": {
    "id": "Y_0pbMhsjc9E"
   },
   "outputs": [],
   "source": [
    "print(basins_img)\n",
    "from IPython.display import display, Image\n",
    "display(Image(filename=basins_img, width=800))"
   ]
  },
  {
   "cell_type": "markdown",
   "metadata": {
    "id": "C0ceRwdiAdbA"
   },
   "source": [
    "In this case algorithmic identification is a bit messy for various reasons. This place has a big floodplain near XI'an, that we want to avoid. We also want to avoid all the little basins draining to the south. "
   ]
  },
  {
   "cell_type": "markdown",
   "metadata": {
    "id": "9-LHmB-9InHK"
   },
   "source": [
    "## Choosing basin outlets"
   ]
  },
  {
   "cell_type": "markdown",
   "metadata": {
    "id": "tx740YUWIpwV"
   },
   "source": [
    "One way to get all the basins we want it to make a file with the latitude and longitude of the outlets. We can go into google maps and right click on locations, and then copy these into a latitude and longitude list."
   ]
  },
  {
   "cell_type": "code",
   "execution_count": null,
   "metadata": {
    "id": "XzZYKh26kRnC"
   },
   "outputs": [],
   "source": [
    "# Import pandas library\n",
    "import pandas as pd\n",
    "\n",
    "data = [ [34.05564682001868, 108.20774244976475],\n",
    "         [34.023214359957834, 108.5345857094824],\n",
    "         [34.17775506582951, 107.66257870033067],\n",
    "         [34.05259180332853, 108.33601473723209],\n",
    "         [33.996904264107016, 108.75290368815703],\n",
    "         [34.0171585070696, 108.96363877748513]]\n",
    "\n",
    "# Create the pandas DataFrame\n",
    "df = pd.DataFrame(data, columns = ['latitude', 'longitude'])\n",
    "\n",
    "df.to_csv(\"basin_outlets.csv\",index=False)\n",
    "df.head()"
   ]
  },
  {
   "cell_type": "markdown",
   "metadata": {
    "id": "KTI3reY9IP-v"
   },
   "source": [
    "We can use the linux `cat` command to make sure the file is what we expect."
   ]
  },
  {
   "cell_type": "code",
   "execution_count": null,
   "metadata": {
    "id": "AjjbN07skRkz",
    "scrolled": false
   },
   "outputs": [],
   "source": [
    "!cat basin_outlets.csv"
   ]
  },
  {
   "cell_type": "markdown",
   "metadata": {
    "id": "tiJjtdWQf8OB"
   },
   "source": [
    "## Plotting points using folium"
   ]
  },
  {
   "cell_type": "markdown",
   "metadata": {
    "id": "v5OrHddrf8OC"
   },
   "source": [
    "We can plot the basin outlets using a python package called folium"
   ]
  },
  {
   "cell_type": "code",
   "execution_count": null,
   "metadata": {
    "id": "WRMjcaUvf8OC"
   },
   "outputs": [],
   "source": [
    "import folium\n",
    "import pandas as pd\n",
    "\n",
    "#create a map\n",
    "this_map = folium.Map(prefer_canvas=True, tiles='Stamen Terrain')\n",
    "\n",
    "def plotDot(point):\n",
    "    '''input: series that contains a numeric named latitude and a numeric named longitude\n",
    "    this function creates a CircleMarker and adds it to your this_map'''\n",
    "    folium.CircleMarker(location=[point.latitude, point.longitude],\n",
    "                        radius=2,\n",
    "                        weight=5).add_to(this_map)\n",
    "\n",
    "#use df.apply(,axis=1) to \"iterate\" through every row in your dataframe\n",
    "df.apply(plotDot, axis = 1)\n",
    "\n",
    "\n",
    "#Set the zoom to the maximum possible\n",
    "this_map.fit_bounds(this_map.get_bounds())\n",
    "\n",
    "#Save the map to an HTML file\n",
    "this_map.save('simple_dot_plot.html')\n",
    "\n",
    "this_map"
   ]
  },
  {
   "cell_type": "markdown",
   "metadata": {
    "id": "bjYDV2-mIYlC"
   },
   "source": [
    "## Get the basins"
   ]
  },
  {
   "cell_type": "code",
   "execution_count": null,
   "metadata": {
    "id": "MM3id10yj3ko"
   },
   "outputs": [],
   "source": [
    "lsdtt_parameters = {\"print_basin_raster\" : \"true\",\n",
    "                    \"get_basins_from_outlets\" : \"true\",\n",
    "                    \"basin_outlet_csv\" : \"basin_outlets.csv\"}\n",
    "r_prefix = Dataset_prefix+\"_\"+source_name +\"_UTM\"\n",
    "w_prefix = Dataset_prefix+\"_\"+source_name +\"_UTM\"\n",
    "lsdtt_drive = lsdmw.lsdtt_driver(command_line_tool = \"lsdtt-chi-mapping\", \n",
    "                                 read_prefix = r_prefix,\n",
    "                                 write_prefix= w_prefix,\n",
    "                                 read_path = \"./\",\n",
    "                                 write_path = \"./\",\n",
    "                                 parameter_dictionary=lsdtt_parameters)\n",
    "lsdtt_drive.print_parameters()\n",
    "lsdtt_drive.run_lsdtt_command_line_tool()\n"
   ]
  },
  {
   "cell_type": "markdown",
   "metadata": {
    "id": "g6olh4ZLf8OE"
   },
   "source": [
    "Now lets look at the channels and basins using `lsdviztools`.\n",
    "Again, `lsdviztools` does not make interactive plots and is much less flexible than `folium` or `imshow` but it is optimised for publication-ready figures. "
   ]
  },
  {
   "cell_type": "code",
   "execution_count": null,
   "metadata": {
    "id": "RNnvGD3jJGNc"
   },
   "outputs": [],
   "source": [
    "%%capture\n",
    "import lsdviztools.lsdmapwrappers as lsdmw\n",
    "DataDirectory = \"./\"\n",
    "Dataset_prefix = \"Xian\"\n",
    "source_name = \"COP30\"\n",
    "r_prefix = Dataset_prefix+\"_\"+source_name +\"_UTM\"\n",
    "Base_file = r_prefix\n",
    "basins_img = lsdmw.PrintBasins_Complex(DataDirectory,Base_file,cmap=\"gist_earth\", \n",
    "                             size_format=\"geomorphology\",dpi=600, save_fig = True)"
   ]
  },
  {
   "cell_type": "code",
   "execution_count": null,
   "metadata": {
    "id": "MVjjP6WCJKmb"
   },
   "outputs": [],
   "source": [
    "print(basins_img)\n",
    "from IPython.display import display, Image\n",
    "display(Image(filename=basins_img, width=800))"
   ]
  },
  {
   "cell_type": "markdown",
   "metadata": {
    "id": "xDBqkZUyN-Ng"
   },
   "source": [
    "# Looking at concavity"
   ]
  },
  {
   "cell_type": "markdown",
   "metadata": {
    "id": "np6TLzDNOAVS"
   },
   "source": [
    "Let's now run an analysis to test the concavity index. This will take a little while (>20 minutes). You should go and get a coffee or read a book now. \n",
    "\n",
    "In order to reduce the compute time I will remove a few basins. "
   ]
  },
  {
   "cell_type": "code",
   "execution_count": null,
   "metadata": {
    "id": "PzrB9-i_f8OH"
   },
   "outputs": [],
   "source": [
    "# Import pandas library\n",
    "import pandas as pd\n",
    "\n",
    "# Select two small catchments\n",
    "small_data = [ [33.996904264107016, 108.75290368815703],\n",
    "         [34.0171585070696, 108.96363877748513]]\n",
    "\n",
    "# Create the pandas DataFrame\n",
    "sm_df = pd.DataFrame(small_data, columns = ['latitude', 'longitude'])\n",
    "\n",
    "sm_df.to_csv(\"two_basin_outlets.csv\",index=False)\n",
    "sm_df.head()"
   ]
  },
  {
   "cell_type": "markdown",
   "metadata": {
    "id": "0VBbS1WNf8OH"
   },
   "source": [
    "We are going to look at these two small basins (it will save on computational time).\n",
    "We use the `estimate_best_fit_movern_no_bootstrap` since the bootstrap option is very time consuming and doesn't work as well as the less time consuming disorder method (see https://doi.org/10.5194/esurf-6-505-2018).\n",
    "We also set how many values of the concavity index we test with the two parameters `delta_movern` and `n_movern`."
   ]
  },
  {
   "cell_type": "code",
   "execution_count": null,
   "metadata": {
    "id": "iuib7GJ9N_jh"
   },
   "outputs": [],
   "source": [
    "lsdtt_parameters = {\"estimate_best_fit_movern_no_bootstrap\" : \"true\",\n",
    "                    \"get_basins_from_outlets\" : \"true\",\n",
    "                    \"basin_outlet_csv\" : \"two_basin_outlets.csv\",\n",
    "                    \"delta_movern\" : \"0.05\",\n",
    "                    \"n_movern\" : \"17\"}\n",
    "r_prefix = Dataset_prefix+\"_\"+source_name +\"_UTM\"\n",
    "w_prefix = Dataset_prefix+\"_\"+source_name +\"_UTM\"\n",
    "lsdtt_drive = lsdmw.lsdtt_driver(command_line_tool = \"lsdtt-chi-mapping\", \n",
    "                                 read_prefix = r_prefix,\n",
    "                                 write_prefix= w_prefix,\n",
    "                                 read_path = \"./\",\n",
    "                                 write_path = \"./\",\n",
    "                                 parameter_dictionary=lsdtt_parameters)\n",
    "lsdtt_drive.print_parameters()\n",
    "lsdtt_drive.run_lsdtt_command_line_tool()"
   ]
  },
  {
   "cell_type": "markdown",
   "metadata": {
    "id": "MiJDMra-f8OJ"
   },
   "source": [
    "Okay, lets see what we got!\n",
    "First, look at the files:"
   ]
  },
  {
   "cell_type": "code",
   "execution_count": null,
   "metadata": {
    "id": "GubGH_UkOPRO"
   },
   "outputs": [],
   "source": [
    "!ls Xian_COP30*"
   ]
  },
  {
   "cell_type": "code",
   "execution_count": null,
   "metadata": {
    "id": "qhdOGviJZFRG"
   },
   "outputs": [],
   "source": [
    "import pandas as pd\n",
    "disorder_df = pd.read_csv(\"Xian_COP30_UTM_fullstats_disorder_uncert.csv\")\n",
    "disorder_df.head()"
   ]
  },
  {
   "cell_type": "markdown",
   "metadata": {
    "id": "dvsJS054f8OK"
   },
   "source": [
    "In this case the best fit concavity is either 0.4 or 0.45 (the median value). \n",
    "\n",
    "We can then look at the disorder plots. \n",
    "At the moment we have only a command line python routine for this. \n",
    "\n",
    "This will create a very large number of plots. "
   ]
  },
  {
   "cell_type": "code",
   "execution_count": null,
   "metadata": {
    "id": "XZwByPTrf8OL"
   },
   "outputs": [],
   "source": [
    "!lsdtt_plotconcavityanalysis -dir . -fname Xian_COP30_UTM -ALL true"
   ]
  },
  {
   "cell_type": "markdown",
   "metadata": {
    "id": "0btV3BPaf8OL"
   },
   "source": [
    "This puts all the plots into subdirectories, called `raster_plots`, `summary_plots`, `chi_plots`, and `SA_plots`.\n",
    "\n",
    "We can use the `!ls` command to see what images are there:"
   ]
  },
  {
   "cell_type": "code",
   "execution_count": null,
   "metadata": {
    "id": "myQKlXfxf8OM"
   },
   "outputs": [],
   "source": [
    "!ls ./raster_plots"
   ]
  },
  {
   "cell_type": "code",
   "execution_count": null,
   "metadata": {
    "id": "JlQc5pbNf8OM"
   },
   "outputs": [],
   "source": [
    "!ls ./summary_plots"
   ]
  },
  {
   "cell_type": "code",
   "execution_count": null,
   "metadata": {
    "id": "VwIC5AtFf8OM"
   },
   "outputs": [],
   "source": [
    "!ls ./chi_plots"
   ]
  },
  {
   "cell_type": "code",
   "execution_count": null,
   "metadata": {
    "id": "NFuo54VIf8ON"
   },
   "outputs": [],
   "source": [
    "!ls ./SA_plots"
   ]
  },
  {
   "cell_type": "markdown",
   "metadata": {
    "id": "KYZQKPQkf8OO"
   },
   "source": [
    "Right, lets have a look at the spatial distribution of the most likely concavity index:"
   ]
  },
  {
   "cell_type": "code",
   "execution_count": null,
   "metadata": {
    "id": "VK48Z0KHf8OO"
   },
   "outputs": [],
   "source": [
    "from IPython.display import display, Image\n",
    "display(Image(filename=\"./raster_plots/Xian_COP30_UTM_basins_movern_chi_disorder.png\", width=800))"
   ]
  },
  {
   "cell_type": "markdown",
   "metadata": {
    "id": "_ccPWARSf8OP"
   },
   "source": [
    "Now lets look at the summary diagram for the disorder metric:"
   ]
  },
  {
   "cell_type": "code",
   "execution_count": null,
   "metadata": {
    "id": "HAyFoGg0f8OQ",
    "scrolled": true
   },
   "outputs": [],
   "source": [
    "!ls ./summary_plots"
   ]
  },
  {
   "cell_type": "code",
   "execution_count": null,
   "metadata": {
    "id": "1vA9-Iw6f8OQ",
    "scrolled": true
   },
   "outputs": [],
   "source": [
    "from IPython.display import display, Image\n",
    "display(Image(filename=\"./summary_plots/Xian_COP30_UTM_ABDSG_movern_summary.png\", width=800))"
   ]
  },
  {
   "cell_type": "markdown",
   "metadata": {
    "id": "PWyuHXRef8OR"
   },
   "source": [
    "In this case the Slope-Area and disorder metrics are giving the same answers, with little uncertainty. The segmented S-A data has very high uncertainty (which is not unusual).\n",
    "\n",
    "Why don't we have a look at the S-A plots:"
   ]
  },
  {
   "cell_type": "code",
   "execution_count": null,
   "metadata": {
    "id": "ZuF-wtFxf8OR",
    "scrolled": false
   },
   "outputs": [],
   "source": [
    "from IPython.display import display, Image\n",
    "display(Image(filename=\"./SA_plots/Xian_COP30_UTM_SA_plot_raw_and_binned_basin1.png\", width=800))"
   ]
  },
  {
   "cell_type": "code",
   "execution_count": null,
   "metadata": {
    "id": "loQTS2hpf8OT",
    "scrolled": true
   },
   "outputs": [],
   "source": [
    "from IPython.display import display, Image\n",
    "display(Image(filename=\"./SA_plots/Xian_COP30_UTM_SA_plot_raw_and_binned_basin0.png\", width=800))"
   ]
  },
  {
   "cell_type": "markdown",
   "metadata": {
    "id": "_Twak9nvf8OU"
   },
   "source": [
    "And now lets look at the chi profiles for the best fit concavity:"
   ]
  },
  {
   "cell_type": "code",
   "execution_count": null,
   "metadata": {
    "id": "Coa2iWMyf8OU",
    "scrolled": true
   },
   "outputs": [],
   "source": [
    "from IPython.display import display, Image\n",
    "display(Image(filename=\"./chi_plots/chi_profiles0_0.4.png\", width=800))"
   ]
  },
  {
   "cell_type": "code",
   "execution_count": null,
   "metadata": {
    "id": "gAB_E8oOf8OV"
   },
   "outputs": [],
   "source": [
    "from IPython.display import display, Image\n",
    "display(Image(filename=\"./chi_plots/chi_profiles1_0.45.png\", width=800))"
   ]
  },
  {
   "cell_type": "markdown",
   "metadata": {
    "id": "Ktk0XgJwf8OW"
   },
   "source": [
    "If you only wanted to get the disorder metrics and a summary plot you could use this script, which results in far fewer plots:"
   ]
  },
  {
   "cell_type": "code",
   "execution_count": null,
   "metadata": {
    "id": "2Z163Znaf8OW"
   },
   "outputs": [],
   "source": [
    "!lsdtt_plotconcavityanalysis -dir . -fname Xian_COP30_UTM -disorder true"
   ]
  },
  {
   "cell_type": "markdown",
   "metadata": {
    "id": "yPl0zaWRf8OX"
   },
   "source": [
    "## Now for exploring chi profiles"
   ]
  },
  {
   "cell_type": "markdown",
   "metadata": {
    "id": "d8wZ5Yvrf8OX"
   },
   "source": [
    "So we have two concavity indices, which are 0.4 and 0.45. We can then run a channel steepness analysis using one of these (I will use 0.45). \n",
    "\n",
    "We turn on the segmentation algorithm from Mudd et al 2014 (JGR-ES, https://doi.org/10.1002/2013JF002981) with the option ```\"print_segmented_M_chi_map_to_csv\" : \"true\"```\n",
    "\n",
    "In this case we use all of the original basins. This will take a little while to calculate:"
   ]
  },
  {
   "cell_type": "code",
   "execution_count": null,
   "metadata": {
    "id": "mBhTCsU4f8OY"
   },
   "outputs": [],
   "source": [
    "lsdtt_parameters = {\"m_over_n\" : \"0.45\",\n",
    "                    \"print_segmented_M_chi_map_to_csv\" : \"true\",\n",
    "                    \"get_basins_from_outlets\" : \"true\",\n",
    "                    \"basin_outlet_csv\" : \"two_basin_outlets.csv\"}\n",
    "r_prefix = Dataset_prefix+\"_\"+source_name +\"_UTM\"\n",
    "w_prefix = Dataset_prefix+\"_\"+source_name +\"_UTM\"\n",
    "lsdtt_drive = lsdmw.lsdtt_driver(command_line_tool = \"lsdtt-chi-mapping\", \n",
    "                                 read_prefix = r_prefix,\n",
    "                                 write_prefix= w_prefix,\n",
    "                                 read_path = \"./\",\n",
    "                                 write_path = \"./\",\n",
    "                                 parameter_dictionary=lsdtt_parameters)\n",
    "lsdtt_drive.print_parameters()\n",
    "lsdtt_drive.run_lsdtt_command_line_tool()"
   ]
  },
  {
   "cell_type": "markdown",
   "metadata": {
    "id": "9xUgHOtPf8OY"
   },
   "source": [
    "Okay, great, now we can make some plots. We can do this within python but the command line script is a bit more convinent. "
   ]
  },
  {
   "cell_type": "code",
   "execution_count": null,
   "metadata": {
    "id": "9P22K5NHf8OZ"
   },
   "outputs": [],
   "source": [
    "!lsdtt_plotchianalysis -dir . -fname Xian_COP30_UTM -all_stacks true -basin_lists \"0,1\""
   ]
  },
  {
   "cell_type": "markdown",
   "metadata": {
    "id": "BfRKwFZff8OZ"
   },
   "source": [
    "These plots end up in a subdirectory called `chi_profile_plots`:"
   ]
  },
  {
   "cell_type": "code",
   "execution_count": null,
   "metadata": {
    "id": "Jb9TlBRxf8OZ"
   },
   "outputs": [],
   "source": [
    "!ls ./chi_profile_plots"
   ]
  },
  {
   "cell_type": "markdown",
   "metadata": {
    "id": "8vtVp_PEf8Oa"
   },
   "source": [
    "* The `FD` plot is the profiles as a function of flow distance (i.e., a normal channel profile), coloured by $k_{sn}$.\n",
    "* The `chi` plot is the profiles as a function of chi, coloured by $k_{sn}$.\n",
    "* The `Sources` plot is the profiles as a function of chi, coloured by the source number."
   ]
  },
  {
   "cell_type": "code",
   "execution_count": null,
   "metadata": {
    "id": "mKpYsLMMf8Oa"
   },
   "outputs": [],
   "source": [
    "from IPython.display import display, Image\n",
    "display(Image(filename=\"./chi_profile_plots/Stacked_1_chi_stacked_chi.png\", width=800))"
   ]
  },
  {
   "cell_type": "markdown",
   "metadata": {
    "id": "QVsiEwRzf8Ob"
   },
   "source": [
    "With these tools hopefully you can start on your own channel profile analysis!"
   ]
  },
  {
   "cell_type": "code",
   "execution_count": null,
   "metadata": {
    "id": "NSjfMFA-f8Ob"
   },
   "outputs": [],
   "source": []
  }
 ],
 "metadata": {
  "colab": {
   "include_colab_link": true,
   "name": "channel_steepness_and_concavity.ipynb",
   "provenance": [],
   "toc_visible": true
  },
  "kernelspec": {
   "display_name": "Python 3 (ipykernel)",
   "language": "python",
   "name": "python3"
  },
  "language_info": {
   "codemirror_mode": {
    "name": "ipython",
    "version": 3
   },
   "file_extension": ".py",
   "mimetype": "text/x-python",
   "name": "python",
   "nbconvert_exporter": "python",
   "pygments_lexer": "ipython3",
   "version": "3.9.16"
  }
 },
 "nbformat": 4,
 "nbformat_minor": 1
}
