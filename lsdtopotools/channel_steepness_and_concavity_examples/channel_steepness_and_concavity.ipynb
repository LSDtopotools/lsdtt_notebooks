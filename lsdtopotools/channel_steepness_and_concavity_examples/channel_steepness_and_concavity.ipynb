{
  "cells": [
    {
      "cell_type": "markdown",
      "metadata": {
        "id": "view-in-github",
        "colab_type": "text"
      },
      "source": [
        "<a href=\"https://colab.research.google.com/github/LSDtopotools/lsdtt_notebooks/blob/master/lsdtopotools/channel_steepness_and_concavity_examples/channel_steepness_and_concavity.ipynb\" target=\"_parent\"><img src=\"https://colab.research.google.com/assets/colab-badge.svg\" alt=\"Open In Colab\"/></a>"
      ]
    },
    {
      "cell_type": "markdown",
      "id": "38b8ad01",
      "metadata": {
        "id": "38b8ad01"
      },
      "source": [
        "# Analysing channel steepness and the concavity index with lsdtt-chi-mapping"
      ]
    },
    {
      "cell_type": "markdown",
      "id": "5f23e269",
      "metadata": {
        "id": "5f23e269"
      },
      "source": [
        "Last updated by Simon M. Mudd on 10/02/2024"
      ]
    },
    {
      "cell_type": "markdown",
      "id": "ca311132",
      "metadata": {
        "id": "ca311132"
      },
      "source": [
        "`lsdtt-chi-mapping` is one of the command line tools included in *LSDTopoTools*. This part of *LSDTopoTools* contains many routines for looking at channel steepness indices as well as concavity indices.\n",
        "\n",
        "If you want more background you can read these two papers:\n",
        "\n",
        "* Mudd, S.M., Attal, M., Milodowski, D.T., Grieve, S.W.D., Valters, D.A., 2014. A statistical framework to quantify spatial variation in channel gradients using the integral method of channel profile analysis. Journal of Geophysical Research: Earth Surface 119, 138–152. https://doi.org/10.1002/2013JF002981\n",
        "\n",
        "* Mudd, S.M., Clubb, F.J., Gailleton, B., Hurst, M.D., 2018. How concave are river channels? Earth Surface Dynamics 6, 505–523. https://doi.org/10.5194/esurf-6-505-2018\n",
        "\n",
        "If you use this software for your research please cite the aobe papers as appropriate and this software: https://doi.org/10.5281/zenodo.3245040"
      ]
    },
    {
      "cell_type": "markdown",
      "id": "f58334da",
      "metadata": {
        "id": "f58334da"
      },
      "source": [
        "## Stuff we need to do if you are in colab (not required in the lsdtopotools pytools container)"
      ]
    },
    {
      "cell_type": "markdown",
      "id": "4ff60ba5",
      "metadata": {
        "id": "4ff60ba5"
      },
      "source": [
        "**If you are in the `docker_lsdtt_pytools` docker container, you do not need to do any of this.\n",
        "The following is for executing this code in the google colab environment only.**\n",
        "\n",
        "If you are in the docker container you can skip to the **Download some data** section."
      ]
    },
    {
      "cell_type": "markdown",
      "id": "989239a6",
      "metadata": {
        "id": "989239a6"
      },
      "source": [
        "First we install `lsdtopotools`. The first line downloads the package and the second installs it. The `/dev/null` stuff is just to stop the notebook printing a bunch of text to screen.  "
      ]
    },
    {
      "cell_type": "code",
      "execution_count": null,
      "id": "082c22c4",
      "metadata": {
        "id": "082c22c4"
      },
      "outputs": [],
      "source": [
        "!wget https://pkgs.geos.ed.ac.uk/geos-jammy/pool/world/l/lsdtopotools2/lsdtopotools2_0.9-1geos~22.04.1_amd64.deb  &> /dev/null\n",
        "!apt install ./lsdtopotools2_0.9-1geos~22.04.1_amd64.deb  &> /dev/null"
      ]
    },
    {
      "cell_type": "markdown",
      "id": "e711834c",
      "metadata": {
        "id": "e711834c"
      },
      "source": [
        "The next line tests to see if it worked. If you get some output asking for a parameter file then `lsdtopotools` is installed. This notebook was tested on version 0.9."
      ]
    },
    {
      "cell_type": "code",
      "execution_count": null,
      "id": "3b9abe36",
      "metadata": {
        "id": "3b9abe36"
      },
      "outputs": [],
      "source": [
        "!lsdtt-basic-metrics -v"
      ]
    },
    {
      "cell_type": "markdown",
      "id": "0c08bb20",
      "metadata": {
        "id": "0c08bb20"
      },
      "source": [
        "Now we install `lsdviztools`. We need to test if this is version 0.4.12:"
      ]
    },
    {
      "cell_type": "code",
      "execution_count": null,
      "id": "b7deb198",
      "metadata": {
        "id": "b7deb198"
      },
      "outputs": [],
      "source": [
        "!pip install lsdviztools  &> /dev/null\n",
        "import lsdviztools\n",
        "lsdviztools.__version__\n"
      ]
    },
    {
      "cell_type": "markdown",
      "id": "746b9d3c",
      "metadata": {
        "id": "746b9d3c"
      },
      "source": [
        "## Download some data"
      ]
    },
    {
      "cell_type": "markdown",
      "id": "93b916eb",
      "metadata": {
        "id": "93b916eb"
      },
      "source": [
        "We need to get some data to download.\n",
        "\n",
        "For this example we will work nean Xi'an, China (西安) that we studied in this paper:\n",
        "\n",
        "* Wang, Y.Z., Mudd, S.M., 2021. Evidence for and against landscape transience in the Northern Qinling Mountains, China. Geomorphology 391, 107890. https://doi.org/10.1016/j.geomorph.2021.107890\n",
        "\n",
        "We are going to download data using the opentopography scraper that is included with `lsdviztools`. You will need to get an opentopography.org account and copy in your API key.\n",
        "\n",
        "You can sign up to an opentopography.org account here: https://portal.opentopography.org/myopentopo"
      ]
    },
    {
      "cell_type": "code",
      "execution_count": null,
      "id": "c21acb9a",
      "metadata": {
        "id": "c21acb9a"
      },
      "outputs": [],
      "source": [
        "import lsdviztools.lsdbasemaptools as bmt\n",
        "from lsdviztools.lsdplottingtools import lsdmap_gdalio as gio\n",
        "\n",
        "# YOU NEED TO PUT YOUR API KEY IN A FILE\n",
        "your_OT_api_key_file = \"my_OT_api_key.txt\"\n",
        "\n",
        "with open(your_OT_api_key_file, 'r') as file:\n",
        "    print(\"I am reading you OT API key from the file \"+your_OT_api_key_file)\n",
        "    api_key = file.read().rstrip()\n",
        "    print(\"Your api key starts with: \"+api_key[0:4])\n",
        "\n",
        "Dataset_prefix = \"Xian\"\n",
        "source_name = \"COP30\"\n",
        "\n",
        "Xian_DEM = bmt.ot_scraper(source = source_name,\n",
        "                        lower_left_coordinates = [33.672715066202954, 107.54480443333152],\n",
        "                        upper_right_coordinates = [34.16323953210814, 109.4363649228437],\n",
        "                        prefix = Dataset_prefix,\n",
        "                        api_key_file = your_OT_api_key_file)\n",
        "Xian_DEM.print_parameters()\n",
        "Xian_DEM.download_pythonic()\n",
        "DataDirectory = \"./\"\n",
        "Fname = Dataset_prefix+\"_\"+source_name+\".tif\"\n",
        "gio.convert4lsdtt(DataDirectory,Fname)"
      ]
    },
    {
      "cell_type": "markdown",
      "id": "1f743131",
      "metadata": {
        "id": "1f743131"
      },
      "source": [
        "We can check to see if the file has downloaded"
      ]
    },
    {
      "cell_type": "code",
      "execution_count": null,
      "id": "14eb81e0",
      "metadata": {
        "id": "14eb81e0"
      },
      "outputs": [],
      "source": [
        "!ls"
      ]
    },
    {
      "cell_type": "markdown",
      "id": "44d64d74",
      "metadata": {
        "id": "44d64d74"
      },
      "source": [
        "## A simple hillshade image"
      ]
    },
    {
      "cell_type": "markdown",
      "id": "d385c9c7",
      "metadata": {
        "id": "d385c9c7"
      },
      "source": [
        "We can run `lsdtt-chi-mapping` with a little interface in `lsdviztools` called the `lsdtt_driver`. Here we are only going to write a hillshade raster.  \n",
        "\n",
        "First we check if we are on version 0.4.12 or above."
      ]
    },
    {
      "cell_type": "code",
      "execution_count": null,
      "id": "2eece621",
      "metadata": {
        "id": "2eece621"
      },
      "outputs": [],
      "source": [
        "import lsdviztools\n",
        "lsdviztools.__version__"
      ]
    },
    {
      "cell_type": "markdown",
      "id": "60774304",
      "metadata": {
        "id": "60774304"
      },
      "source": [
        "I we are in the correct version, carry on the the next steps."
      ]
    },
    {
      "cell_type": "code",
      "execution_count": null,
      "id": "accc3a91",
      "metadata": {
        "id": "accc3a91"
      },
      "outputs": [],
      "source": [
        "import lsdviztools.lsdmapwrappers as lsdmw"
      ]
    },
    {
      "cell_type": "code",
      "execution_count": null,
      "id": "b9abb4aa",
      "metadata": {
        "id": "b9abb4aa"
      },
      "outputs": [],
      "source": [
        "Dataset_prefix = \"Xian\"\n",
        "source_name = \"COP30\"\n",
        "\n",
        "lsdtt_parameters = {\"write_hillshade\" : \"true\"}\n",
        "r_prefix = Dataset_prefix+\"_\"+source_name +\"_UTM\"\n",
        "w_prefix = Dataset_prefix+\"_\"+source_name +\"_UTM\"\n",
        "lsdtt_drive = lsdmw.lsdtt_driver(command_line_tool = \"lsdtt-chi-mapping\",\n",
        "                                 read_prefix = r_prefix,\n",
        "                                 write_prefix= w_prefix,\n",
        "                                 read_path = \"./\",\n",
        "                                 write_path = \"./\",\n",
        "                                 parameter_dictionary=lsdtt_parameters)\n",
        "lsdtt_drive.print_parameters()\n",
        "lsdtt_drive.run_lsdtt_command_line_tool()"
      ]
    },
    {
      "cell_type": "markdown",
      "id": "78f80fb5",
      "metadata": {
        "id": "78f80fb5"
      },
      "source": [
        "We can plot the image using a `lsdviztools` function. I am printing this to a file and then using the image display option since it allows us to make the figure a bit bigger and in addition you can keep the png image for other uses later."
      ]
    },
    {
      "cell_type": "markdown",
      "id": "c1994fc9",
      "metadata": {
        "id": "c1994fc9"
      },
      "source": [
        "You can save the figure as well. This allows you to show it in this notebook in a larger format:"
      ]
    },
    {
      "cell_type": "code",
      "execution_count": null,
      "id": "4b20bbd7",
      "metadata": {
        "id": "4b20bbd7"
      },
      "outputs": [],
      "source": [
        "%%capture\n",
        "DataDirectory = \"./\"\n",
        "# Use the capture comment to get rid of all the text\n",
        "# But it will also not display an inline image\n",
        "# So you need to call the image from the next line of code\n",
        "# WARNING %%capture must be the first line in a code block (you can't even have comments above)\n",
        "Base_file = r_prefix\n",
        "this_img = lsdmw.SimpleHillshade(DataDirectory,Base_file,cmap=\"gist_earth\",\n",
        "                                 save_fig=True, size_format=\"geomorphology\",dpi=600)"
      ]
    },
    {
      "cell_type": "code",
      "execution_count": null,
      "id": "57df7797",
      "metadata": {
        "id": "57df7797"
      },
      "outputs": [],
      "source": [
        "print(this_img)\n",
        "from IPython.display import display, Image\n",
        "display(Image(filename=this_img, width=800))"
      ]
    },
    {
      "cell_type": "markdown",
      "id": "727f80ca",
      "metadata": {
        "id": "727f80ca"
      },
      "source": [
        "# Selecting basins"
      ]
    },
    {
      "cell_type": "markdown",
      "id": "a204198b",
      "metadata": {
        "id": "a204198b"
      },
      "source": [
        "## Automated basin selection"
      ]
    },
    {
      "cell_type": "markdown",
      "id": "4fffbfb8",
      "metadata": {
        "id": "4fffbfb8"
      },
      "source": [
        "*LSDTopoTools* automates selection of basins. The default way it does this is to grab basins within a window of contributing sizes. Here is an example:"
      ]
    },
    {
      "cell_type": "code",
      "execution_count": null,
      "id": "e2572fc5",
      "metadata": {
        "id": "e2572fc5"
      },
      "outputs": [],
      "source": [
        "lsdtt_parameters = {\"print_basin_raster\" : \"true\",\n",
        "                    \"minimum_basin_size_pixels\" : \"10000\",\n",
        "                    \"maximum_basin_size_pixels\" : \"5000000\"}\n",
        "r_prefix = Dataset_prefix+\"_\"+source_name +\"_UTM\"\n",
        "w_prefix = Dataset_prefix+\"_\"+source_name +\"_UTM\"\n",
        "lsdtt_drive = lsdmw.lsdtt_driver(command_line_tool = \"lsdtt-chi-mapping\",\n",
        "                                 read_prefix = r_prefix,\n",
        "                                 write_prefix= w_prefix,\n",
        "                                 read_path = \"./\",\n",
        "                                 write_path = \"./\",\n",
        "                                 parameter_dictionary=lsdtt_parameters)\n",
        "lsdtt_drive.print_parameters()\n",
        "lsdtt_drive.run_lsdtt_command_line_tool()"
      ]
    },
    {
      "cell_type": "code",
      "execution_count": null,
      "id": "14de454e",
      "metadata": {
        "id": "14de454e"
      },
      "outputs": [],
      "source": [
        "%%capture\n",
        "Base_file = r_prefix\n",
        "basins_img = lsdmw.PrintBasins_Complex(DataDirectory,Base_file,cmap=\"gist_earth\",\n",
        "                             size_format=\"geomorphology\",dpi=600, save_fig = True)"
      ]
    },
    {
      "cell_type": "code",
      "execution_count": null,
      "id": "b9fe9ab7",
      "metadata": {
        "id": "b9fe9ab7"
      },
      "outputs": [],
      "source": [
        "print(basins_img)\n",
        "from IPython.display import display, Image\n",
        "display(Image(filename=basins_img, width=800))"
      ]
    },
    {
      "cell_type": "markdown",
      "id": "baa4fce0",
      "metadata": {
        "id": "baa4fce0"
      },
      "source": [
        "In this case algorithmic identification is a bit messy for various reasons. This place has a big floodplain near XI'an, that we want to avoid. We also want to avoid all the little basins draining to the south."
      ]
    },
    {
      "cell_type": "markdown",
      "id": "9971ed06",
      "metadata": {
        "id": "9971ed06"
      },
      "source": [
        "## Choosing basin outlets"
      ]
    },
    {
      "cell_type": "markdown",
      "id": "236270bc",
      "metadata": {
        "id": "236270bc"
      },
      "source": [
        "One way to get all the basins we want it to make a file with the latitude and longitude of the outlets. We can go into google maps and right click on locations, and then copy these into a latitude and longitude list."
      ]
    },
    {
      "cell_type": "code",
      "execution_count": null,
      "id": "a46f418b",
      "metadata": {
        "id": "a46f418b"
      },
      "outputs": [],
      "source": [
        "# Import pandas library\n",
        "import pandas as pd\n",
        "\n",
        "data = [ [34.05564682001868, 108.20774244976475],\n",
        "         [34.023214359957834, 108.5345857094824],\n",
        "         [34.17775506582951, 107.66257870033067],\n",
        "         [34.05259180332853, 108.33601473723209],\n",
        "         [33.996904264107016, 108.75290368815703],\n",
        "         [34.0171585070696, 108.96363877748513]]\n",
        "\n",
        "# Create the pandas DataFrame\n",
        "df = pd.DataFrame(data, columns = ['latitude', 'longitude'])\n",
        "\n",
        "df.to_csv(\"basin_outlets.csv\",index=False)\n",
        "df.head()"
      ]
    },
    {
      "cell_type": "markdown",
      "id": "a42e6737",
      "metadata": {
        "id": "a42e6737"
      },
      "source": [
        "We can use the linux `cat` command to make sure the file is what we expect."
      ]
    },
    {
      "cell_type": "code",
      "execution_count": null,
      "id": "1206cdbc",
      "metadata": {
        "id": "1206cdbc",
        "scrolled": false
      },
      "outputs": [],
      "source": [
        "!cat basin_outlets.csv"
      ]
    },
    {
      "cell_type": "markdown",
      "id": "9de46a11",
      "metadata": {
        "id": "9de46a11"
      },
      "source": [
        "## Plotting points using contextily"
      ]
    },
    {
      "cell_type": "markdown",
      "id": "0b1f4902",
      "metadata": {
        "id": "0b1f4902"
      },
      "source": [
        "We can plot the basin outlets using a python package called `contextily`"
      ]
    },
    {
      "cell_type": "code",
      "execution_count": null,
      "id": "2f5e0f3b",
      "metadata": {
        "id": "2f5e0f3b"
      },
      "outputs": [],
      "source": [
        "!pip install contextily  &> /dev/null"
      ]
    },
    {
      "cell_type": "code",
      "execution_count": null,
      "id": "4b97740b",
      "metadata": {
        "id": "4b97740b"
      },
      "outputs": [],
      "source": [
        "import geopandas as gpd\n",
        "\n",
        "# Make a geopandas dataframe from the basin outlets\n",
        "gdf = gpd.GeoDataFrame(df, geometry=gpd.points_from_xy(df.longitude,df.latitude), crs='EPSG:4326')"
      ]
    },
    {
      "cell_type": "code",
      "execution_count": null,
      "id": "33839a56",
      "metadata": {
        "id": "33839a56"
      },
      "outputs": [],
      "source": [
        "%matplotlib inline\n",
        "import contextily as ctx\n",
        "import matplotlib.pyplot as plt\n",
        "\n",
        "# Create a plot using geopands\n",
        "ax = gdf.plot(marker='o', color='red', markersize=20, figsize=(9, 9))\n",
        "\n",
        "\n",
        "# The plot looks better if you pad the points by 30km\n",
        "# The next three lines to that. If you want to change the padding only change\n",
        "# the \"padding\" number\n",
        "padding = 0.5\n",
        "xlim = (gdf.total_bounds[0] - padding, gdf.total_bounds[2] + padding)\n",
        "ylim = (gdf.total_bounds[1] - padding, gdf.total_bounds[3] + padding)\n",
        "ax.set_xlim(xlim)\n",
        "ax.set_ylim(ylim)\n",
        "\n",
        "# Now add a basemap\n",
        "ctx.add_basemap(ax,source=ctx.providers.OpenTopoMap,crs=gdf.crs.to_string())\n",
        "\n",
        "# Set axis labels and title\n",
        "ax.set_xlabel('Latitude')\n",
        "ax.set_ylabel('Longitude')\n",
        "ax.set_title('Basin outlets')\n",
        "\n",
        "# Show the plot\n",
        "plt.show()"
      ]
    },
    {
      "cell_type": "markdown",
      "source": [
        "### Plot points using the hillshade you made"
      ],
      "metadata": {
        "id": "VvoDl0vHHUnw"
      },
      "id": "VvoDl0vHHUnw"
    },
    {
      "cell_type": "markdown",
      "source": [
        "You can also plot using the hillshade raster made by lsdtopotools."
      ],
      "metadata": {
        "id": "xakPkkPyHaxx"
      },
      "id": "xakPkkPyHaxx"
    },
    {
      "cell_type": "code",
      "source": [
        "import rasterio\n",
        "raster = rasterio.open(\"Xian_COP30_UTM_hs.bil\")\n",
        "# Get the CRS\n",
        "crs = raster.crs\n",
        "\n",
        "print(crs)"
      ],
      "metadata": {
        "id": "4SUbj8ElHjES"
      },
      "id": "4SUbj8ElHjES",
      "execution_count": null,
      "outputs": []
    },
    {
      "cell_type": "code",
      "source": [
        "# Make a geopandas dataframe from the basin outlets\n",
        "gdf = gpd.GeoDataFrame(df, geometry=gpd.points_from_xy(df.longitude,df.latitude), crs=\"EPSG:4326\")\n",
        "gdf = gdf.to_crs(raster.crs)\n",
        "gdf.head(5)"
      ],
      "metadata": {
        "id": "dMWaDEYiH_2I"
      },
      "id": "dMWaDEYiH_2I",
      "execution_count": null,
      "outputs": []
    },
    {
      "cell_type": "code",
      "source": [
        "import numpy as np\n",
        "\n",
        "bbox = raster.bounds\n",
        "bbox_list = [bbox.left, bbox.right, bbox.bottom, bbox.top]\n",
        "\n",
        "\n",
        "# Create a figure and axes\n",
        "fig, ax = plt.subplots()\n",
        "\n",
        "img=raster.read(1)\n",
        "img = np.where(img == -9999, np.nan, img)\n",
        "\n",
        "# Add the raster image to the axes\n",
        "# Note: you might need to adjust the extent and/or coordinate system to match your data\n",
        "ax.imshow(img, extent=bbox_list, cmap='gray')\n",
        "\n",
        "gdf.plot(ax=ax, markersize=5, color='red')"
      ],
      "metadata": {
        "id": "b2kprEA6KR0-"
      },
      "id": "b2kprEA6KR0-",
      "execution_count": null,
      "outputs": []
    },
    {
      "cell_type": "markdown",
      "id": "ccc28cd6",
      "metadata": {
        "id": "ccc28cd6"
      },
      "source": [
        "## Get the basins"
      ]
    },
    {
      "cell_type": "code",
      "execution_count": null,
      "id": "ab97f5d7",
      "metadata": {
        "id": "ab97f5d7"
      },
      "outputs": [],
      "source": [
        "lsdtt_parameters = {\"print_basin_raster\" : \"true\",\n",
        "                    \"get_basins_from_outlets\" : \"true\",\n",
        "                    \"basin_outlet_csv\" : \"basin_outlets.csv\"}\n",
        "r_prefix = Dataset_prefix+\"_\"+source_name +\"_UTM\"\n",
        "w_prefix = Dataset_prefix+\"_\"+source_name +\"_UTM\"\n",
        "lsdtt_drive = lsdmw.lsdtt_driver(command_line_tool = \"lsdtt-chi-mapping\",\n",
        "                                 read_prefix = r_prefix,\n",
        "                                 write_prefix= w_prefix,\n",
        "                                 read_path = \"./\",\n",
        "                                 write_path = \"./\",\n",
        "                                 parameter_dictionary=lsdtt_parameters)\n",
        "lsdtt_drive.print_parameters()\n",
        "lsdtt_drive.run_lsdtt_command_line_tool()\n"
      ]
    },
    {
      "cell_type": "markdown",
      "id": "1ce336fd",
      "metadata": {
        "id": "1ce336fd"
      },
      "source": [
        "Now lets look at the channels and basins using `lsdviztools`.\n",
        "Again, `lsdviztools` does not make interactive plots and is much less flexible than `folium` or `imshow` but it is optimised for publication-ready figures."
      ]
    },
    {
      "cell_type": "code",
      "execution_count": null,
      "id": "e883459c",
      "metadata": {
        "id": "e883459c"
      },
      "outputs": [],
      "source": [
        "%%capture\n",
        "import lsdviztools.lsdmapwrappers as lsdmw\n",
        "DataDirectory = \"./\"\n",
        "Dataset_prefix = \"Xian\"\n",
        "source_name = \"COP30\"\n",
        "r_prefix = Dataset_prefix+\"_\"+source_name +\"_UTM\"\n",
        "Base_file = r_prefix\n",
        "basins_img = lsdmw.PrintBasins_Complex(DataDirectory,Base_file,cmap=\"gist_earth\",\n",
        "                             size_format=\"geomorphology\",dpi=600, save_fig = True)"
      ]
    },
    {
      "cell_type": "code",
      "execution_count": null,
      "id": "a7c16e93",
      "metadata": {
        "id": "a7c16e93"
      },
      "outputs": [],
      "source": [
        "print(basins_img)\n",
        "from IPython.display import display, Image\n",
        "display(Image(filename=basins_img, width=800))"
      ]
    },
    {
      "cell_type": "markdown",
      "id": "f3f78064",
      "metadata": {
        "id": "f3f78064"
      },
      "source": [
        "# Looking at concavity"
      ]
    },
    {
      "cell_type": "markdown",
      "id": "8c9b8624",
      "metadata": {
        "id": "8c9b8624"
      },
      "source": [
        "Let's now run an analysis to test the concavity index. This will take a little while (>20 minutes). You should go and get a coffee or read a book now.\n",
        "\n",
        "In order to reduce the compute time I will remove a few basins."
      ]
    },
    {
      "cell_type": "code",
      "execution_count": null,
      "id": "13d5aaaf",
      "metadata": {
        "id": "13d5aaaf"
      },
      "outputs": [],
      "source": [
        "# Import pandas library\n",
        "import pandas as pd\n",
        "\n",
        "# Select two small catchments\n",
        "small_data = [ [33.996904264107016, 108.75290368815703],\n",
        "         [34.0171585070696, 108.96363877748513]]\n",
        "\n",
        "# Create the pandas DataFrame\n",
        "sm_df = pd.DataFrame(small_data, columns = ['latitude', 'longitude'])\n",
        "\n",
        "sm_df.to_csv(\"two_basin_outlets.csv\",index=False)\n",
        "sm_df.head()"
      ]
    },
    {
      "cell_type": "markdown",
      "id": "74b7ddaa",
      "metadata": {
        "id": "74b7ddaa"
      },
      "source": [
        "We are going to look at these two small basins (it will save on computational time).\n",
        "We use the `estimate_best_fit_movern_no_bootstrap` since the bootstrap option is very time consuming and doesn't work as well as the less time consuming disorder method (see https://doi.org/10.5194/esurf-6-505-2018).\n",
        "We also set how many values of the concavity index we test with the two parameters `delta_movern` and `n_movern`."
      ]
    },
    {
      "cell_type": "code",
      "execution_count": null,
      "id": "cb75663d",
      "metadata": {
        "id": "cb75663d"
      },
      "outputs": [],
      "source": [
        "lsdtt_parameters = {\"estimate_best_fit_movern_no_bootstrap\" : \"true\",\n",
        "                    \"get_basins_from_outlets\" : \"true\",\n",
        "                    \"basin_outlet_csv\" : \"two_basin_outlets.csv\",\n",
        "                    \"delta_movern\" : \"0.05\",\n",
        "                    \"n_movern\" : \"17\"}\n",
        "r_prefix = Dataset_prefix+\"_\"+source_name +\"_UTM\"\n",
        "w_prefix = Dataset_prefix+\"_\"+source_name +\"_UTM\"\n",
        "lsdtt_drive = lsdmw.lsdtt_driver(command_line_tool = \"lsdtt-chi-mapping\",\n",
        "                                 read_prefix = r_prefix,\n",
        "                                 write_prefix= w_prefix,\n",
        "                                 read_path = \"./\",\n",
        "                                 write_path = \"./\",\n",
        "                                 parameter_dictionary=lsdtt_parameters)\n",
        "lsdtt_drive.print_parameters()\n",
        "lsdtt_drive.run_lsdtt_command_line_tool()"
      ]
    },
    {
      "cell_type": "markdown",
      "id": "c78be676",
      "metadata": {
        "id": "c78be676"
      },
      "source": [
        "Okay, lets see what we got!\n",
        "First, look at the files:"
      ]
    },
    {
      "cell_type": "code",
      "execution_count": null,
      "id": "7e12fc7e",
      "metadata": {
        "id": "7e12fc7e"
      },
      "outputs": [],
      "source": [
        "!ls Xian_COP30*"
      ]
    },
    {
      "cell_type": "code",
      "execution_count": null,
      "id": "b3afe4d0",
      "metadata": {
        "id": "b3afe4d0"
      },
      "outputs": [],
      "source": [
        "import pandas as pd\n",
        "disorder_df = pd.read_csv(\"Xian_COP30_UTM_fullstats_disorder_uncert.csv\")\n",
        "disorder_df.head()"
      ]
    },
    {
      "cell_type": "markdown",
      "id": "f1cc6936",
      "metadata": {
        "id": "f1cc6936"
      },
      "source": [
        "In this case the best fit concavity is either 0.4 or 0.45 (the median value).\n",
        "\n",
        "We can then look at the disorder plots.\n",
        "At the moment we have only a command line python routine for this.\n",
        "\n",
        "This will create a very large number of plots."
      ]
    },
    {
      "cell_type": "code",
      "execution_count": null,
      "id": "9410bfc7",
      "metadata": {
        "id": "9410bfc7"
      },
      "outputs": [],
      "source": [
        "!lsdtt_plotconcavityanalysis -dir . -fname Xian_COP30_UTM -ALL true"
      ]
    },
    {
      "cell_type": "markdown",
      "id": "7effae41",
      "metadata": {
        "id": "7effae41"
      },
      "source": [
        "This puts all the plots into subdirectories, called `raster_plots`, `summary_plots`, `chi_plots`, and `SA_plots`.\n",
        "\n",
        "We can use the `!ls` command to see what images are there:"
      ]
    },
    {
      "cell_type": "code",
      "execution_count": null,
      "id": "7c50fae4",
      "metadata": {
        "id": "7c50fae4"
      },
      "outputs": [],
      "source": [
        "!ls ./raster_plots"
      ]
    },
    {
      "cell_type": "code",
      "execution_count": null,
      "id": "4341d1d9",
      "metadata": {
        "id": "4341d1d9"
      },
      "outputs": [],
      "source": [
        "!ls ./summary_plots"
      ]
    },
    {
      "cell_type": "code",
      "execution_count": null,
      "id": "1b7e035f",
      "metadata": {
        "id": "1b7e035f"
      },
      "outputs": [],
      "source": [
        "!ls ./chi_plots"
      ]
    },
    {
      "cell_type": "code",
      "execution_count": null,
      "id": "49aff712",
      "metadata": {
        "id": "49aff712"
      },
      "outputs": [],
      "source": [
        "!ls ./SA_plots"
      ]
    },
    {
      "cell_type": "markdown",
      "id": "f90747be",
      "metadata": {
        "id": "f90747be"
      },
      "source": [
        "Right, lets have a look at the spatial distribution of the most likely concavity index:"
      ]
    },
    {
      "cell_type": "code",
      "execution_count": null,
      "id": "a66fd42c",
      "metadata": {
        "id": "a66fd42c"
      },
      "outputs": [],
      "source": [
        "from IPython.display import display, Image\n",
        "display(Image(filename=\"./raster_plots/Xian_COP30_UTM_basins_movern_chi_disorder.png\", width=800))"
      ]
    },
    {
      "cell_type": "markdown",
      "id": "aaab03fc",
      "metadata": {
        "id": "aaab03fc"
      },
      "source": [
        "Now lets look at the summary diagram for the disorder metric:"
      ]
    },
    {
      "cell_type": "code",
      "execution_count": null,
      "id": "efbbe33f",
      "metadata": {
        "id": "efbbe33f",
        "scrolled": true
      },
      "outputs": [],
      "source": [
        "!ls ./summary_plots"
      ]
    },
    {
      "cell_type": "code",
      "execution_count": null,
      "id": "d3bf7871",
      "metadata": {
        "id": "d3bf7871",
        "scrolled": true
      },
      "outputs": [],
      "source": [
        "from IPython.display import display, Image\n",
        "display(Image(filename=\"./summary_plots/Xian_COP30_UTM_ABDSG_movern_summary.png\", width=800))"
      ]
    },
    {
      "cell_type": "markdown",
      "id": "c24fb3bc",
      "metadata": {
        "id": "c24fb3bc"
      },
      "source": [
        "In this case the Slope-Area and disorder metrics are giving the same answers, with little uncertainty. The segmented S-A data has very high uncertainty (which is not unusual).\n",
        "\n",
        "Why don't we have a look at the S-A plots:"
      ]
    },
    {
      "cell_type": "code",
      "execution_count": null,
      "id": "34771031",
      "metadata": {
        "id": "34771031",
        "scrolled": false
      },
      "outputs": [],
      "source": [
        "from IPython.display import display, Image\n",
        "display(Image(filename=\"./SA_plots/Xian_COP30_UTM_SA_plot_raw_and_binned_basin1.png\", width=800))"
      ]
    },
    {
      "cell_type": "code",
      "execution_count": null,
      "id": "a5e6c1d3",
      "metadata": {
        "id": "a5e6c1d3",
        "scrolled": true
      },
      "outputs": [],
      "source": [
        "from IPython.display import display, Image\n",
        "display(Image(filename=\"./SA_plots/Xian_COP30_UTM_SA_plot_raw_and_binned_basin0.png\", width=800))"
      ]
    },
    {
      "cell_type": "markdown",
      "id": "a7a6b8ff",
      "metadata": {
        "id": "a7a6b8ff"
      },
      "source": [
        "And now lets look at the chi profiles for the best fit concavity:"
      ]
    },
    {
      "cell_type": "code",
      "execution_count": null,
      "id": "c9e71e47",
      "metadata": {
        "id": "c9e71e47",
        "scrolled": true
      },
      "outputs": [],
      "source": [
        "from IPython.display import display, Image\n",
        "display(Image(filename=\"./chi_plots/chi_profiles0_0.4.png\", width=800))"
      ]
    },
    {
      "cell_type": "code",
      "execution_count": null,
      "id": "9d09baba",
      "metadata": {
        "id": "9d09baba"
      },
      "outputs": [],
      "source": [
        "from IPython.display import display, Image\n",
        "display(Image(filename=\"./chi_plots/chi_profiles1_0.45.png\", width=800))"
      ]
    },
    {
      "cell_type": "markdown",
      "id": "fc7e899d",
      "metadata": {
        "id": "fc7e899d"
      },
      "source": [
        "If you only wanted to get the disorder metrics and a summary plot you could use this script, which results in far fewer plots:"
      ]
    },
    {
      "cell_type": "code",
      "execution_count": null,
      "id": "4fb8fa74",
      "metadata": {
        "id": "4fb8fa74"
      },
      "outputs": [],
      "source": [
        "!lsdtt_plotconcavityanalysis -dir . -fname Xian_COP30_UTM -disorder true"
      ]
    },
    {
      "cell_type": "markdown",
      "id": "7b2896ce",
      "metadata": {
        "id": "7b2896ce"
      },
      "source": [
        "## Now for exploring chi profiles"
      ]
    },
    {
      "cell_type": "markdown",
      "id": "7a7bfbd4",
      "metadata": {
        "id": "7a7bfbd4"
      },
      "source": [
        "So we have two concavity indices, which are 0.4 and 0.45. We can then run a channel steepness analysis using one of these (I will use 0.45).\n",
        "\n",
        "We turn on the segmentation algorithm from Mudd et al 2014 (JGR-ES, https://doi.org/10.1002/2013JF002981) with the option ```\"print_segmented_M_chi_map_to_csv\" : \"true\"```\n",
        "\n",
        "In this case we use all of the original basins. This will take a little while to calculate:"
      ]
    },
    {
      "cell_type": "code",
      "execution_count": null,
      "id": "1973b02c",
      "metadata": {
        "id": "1973b02c"
      },
      "outputs": [],
      "source": [
        "lsdtt_parameters = {\"m_over_n\" : \"0.45\",\n",
        "                    \"print_segmented_M_chi_map_to_csv\" : \"true\",\n",
        "                    \"get_basins_from_outlets\" : \"true\",\n",
        "                    \"basin_outlet_csv\" : \"two_basin_outlets.csv\"}\n",
        "r_prefix = Dataset_prefix+\"_\"+source_name +\"_UTM\"\n",
        "w_prefix = Dataset_prefix+\"_\"+source_name +\"_UTM\"\n",
        "lsdtt_drive = lsdmw.lsdtt_driver(command_line_tool = \"lsdtt-chi-mapping\",\n",
        "                                 read_prefix = r_prefix,\n",
        "                                 write_prefix= w_prefix,\n",
        "                                 read_path = \"./\",\n",
        "                                 write_path = \"./\",\n",
        "                                 parameter_dictionary=lsdtt_parameters)\n",
        "lsdtt_drive.print_parameters()\n",
        "lsdtt_drive.run_lsdtt_command_line_tool()"
      ]
    },
    {
      "cell_type": "markdown",
      "id": "8de3062c",
      "metadata": {
        "id": "8de3062c"
      },
      "source": [
        "Okay, great, now we can make some plots. We can do this within python but the command line script is a bit more convinent."
      ]
    },
    {
      "cell_type": "code",
      "execution_count": null,
      "id": "6a40d764",
      "metadata": {
        "id": "6a40d764"
      },
      "outputs": [],
      "source": [
        "!lsdtt_plotchianalysis -dir . -fname Xian_COP30_UTM -all_stacks true -basin_lists \"0,1\""
      ]
    },
    {
      "cell_type": "markdown",
      "id": "56737732",
      "metadata": {
        "id": "56737732"
      },
      "source": [
        "These plots end up in a subdirectory called `chi_profile_plots`:"
      ]
    },
    {
      "cell_type": "code",
      "execution_count": null,
      "id": "ea944b28",
      "metadata": {
        "id": "ea944b28"
      },
      "outputs": [],
      "source": [
        "!ls ./chi_profile_plots"
      ]
    },
    {
      "cell_type": "markdown",
      "id": "346e5c8d",
      "metadata": {
        "id": "346e5c8d"
      },
      "source": [
        "* The `FD` plot is the profiles as a function of flow distance (i.e., a normal channel profile), coloured by $k_{sn}$.\n",
        "* The `chi` plot is the profiles as a function of chi, coloured by $k_{sn}$.\n",
        "* The `Sources` plot is the profiles as a function of chi, coloured by the source number."
      ]
    },
    {
      "cell_type": "code",
      "execution_count": null,
      "id": "262bbfcf",
      "metadata": {
        "id": "262bbfcf"
      },
      "outputs": [],
      "source": [
        "from IPython.display import display, Image\n",
        "display(Image(filename=\"./chi_profile_plots/Stacked_1_chi_stacked_chi.png\", width=800))"
      ]
    },
    {
      "cell_type": "markdown",
      "id": "ac2e16b7",
      "metadata": {
        "id": "ac2e16b7"
      },
      "source": [
        "With these tools hopefully you can start on your own channel profile analysis!"
      ]
    },
    {
      "cell_type": "code",
      "execution_count": null,
      "id": "a576b80c",
      "metadata": {
        "id": "a576b80c"
      },
      "outputs": [],
      "source": []
    }
  ],
  "metadata": {
    "colab": {
      "name": "channel_steepness_and_concavity.ipynb",
      "provenance": [],
      "include_colab_link": true
    },
    "kernelspec": {
      "display_name": "Python 3 (ipykernel)",
      "language": "python",
      "name": "python3"
    },
    "language_info": {
      "codemirror_mode": {
        "name": "ipython",
        "version": 3
      },
      "file_extension": ".py",
      "mimetype": "text/x-python",
      "name": "python",
      "nbconvert_exporter": "python",
      "pygments_lexer": "ipython3",
      "version": "3.9.16"
    }
  },
  "nbformat": 4,
  "nbformat_minor": 5
}