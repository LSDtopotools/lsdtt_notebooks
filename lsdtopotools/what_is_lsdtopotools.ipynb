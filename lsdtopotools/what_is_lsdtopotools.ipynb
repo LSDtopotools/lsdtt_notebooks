{
  "nbformat": 4,
  "nbformat_minor": 0,
  "metadata": {
    "colab": {
      "provenance": [],
      "authorship_tag": "ABX9TyPyUymKlp+HZxDvtbNOATmF",
      "include_colab_link": true
    },
    "kernelspec": {
      "name": "python3",
      "display_name": "Python 3"
    },
    "language_info": {
      "name": "python"
    }
  },
  "cells": [
    {
      "cell_type": "markdown",
      "metadata": {
        "id": "view-in-github",
        "colab_type": "text"
      },
      "source": [
        "<a href=\"https://colab.research.google.com/github/LSDtopotools/lsdtt_notebooks/blob/master/lsdtopotools/what_is_lsdtopotools.ipynb\" target=\"_parent\"><img src=\"https://colab.research.google.com/assets/colab-badge.svg\" alt=\"Open In Colab\"/></a>"
      ]
    },
    {
      "cell_type": "markdown",
      "source": [
        "# What is lsdtopotools?"
      ],
      "metadata": {
        "id": "o_wuAZ7z0Rkx"
      }
    },
    {
      "cell_type": "markdown",
      "source": [
        "Last updated by Simon M Mudd on 11/05/2023"
      ],
      "metadata": {
        "id": "sYsGpFil0VXr"
      }
    },
    {
      "cell_type": "markdown",
      "source": [
        "`lsdtopotools` is a collection of topographic processing routines. It has been developed and used for scientific research; you can cite the software via its Zenodo record, which has a doi: https://zenodo.org/record/7892465#.ZFziJBHMK70\n",
        "\n",
        "You can install `lsdtopotools` using the package management software `conda` or `mamba`. To run a topographic analysis, you call one of the `lsdtopotools` programs. You can run these from a command line but we also include a python wrapper. \n",
        "\n",
        "We also have `lsdviztools`, a python package used for plotting `lsdtopotools` output. `lsdviztools` contains the python wrappers for `lsdtopotools`. The objective of `lsdviztools` is to produce pretty plots that you can use in presentations and publications, it is not meant to be a general geospatial visualisation package.  \n",
        "\n",
        "In this notebook I will install `lsdtopotools` in google colab and give some information about file formats. You can also run this notebook using the docker container for lsdtopotools: https://hub.docker.com/r/lsdtopotools/lsdtt_pytools_docker If you don't know what docker is, just ignore that part and start with the colab instructions. "
      ],
      "metadata": {
        "id": "9U7YFJFm0ZE_"
      }
    },
    {
      "cell_type": "markdown",
      "metadata": {
        "id": "3144101b"
      },
      "source": [
        "## Stuff we need to do if you are in colab (not required in the lsdtopotools pytools container)"
      ]
    },
    {
      "cell_type": "markdown",
      "metadata": {
        "id": "bec1cffe"
      },
      "source": [
        "**If you are in the `docker_lsdtt_pytools` docker container, you do not need to do any of this. \n",
        "The following is for executing this code in the google colab environment only.**\n",
        "\n",
        "If you are in the docker container you can skip to the **Download some data** section. "
      ]
    },
    {
      "cell_type": "markdown",
      "metadata": {
        "id": "Ck6Y73gLvbS8"
      },
      "source": [
        "First we install `lsdviztools`. This will take around a minute. It is important you do this before the `condacolab` step. "
      ]
    },
    {
      "cell_type": "code",
      "execution_count": null,
      "metadata": {
        "id": "Pj2pwsxkvbS8"
      },
      "outputs": [],
      "source": [
        "!pip install lsdviztools &> /dev/null"
      ]
    },
    {
      "cell_type": "markdown",
      "metadata": {
        "id": "Fq9UDKZrvbS8"
      },
      "source": [
        "Now we need to install lsdtopotools. We do this using something called `mamba`. To get `mamba` we install something called `condacolab`. "
      ]
    },
    {
      "cell_type": "code",
      "execution_count": null,
      "metadata": {
        "id": "ea215034"
      },
      "outputs": [],
      "source": [
        "!pip install -q condacolab\n",
        "import condacolab\n",
        "condacolab.install()"
      ]
    },
    {
      "cell_type": "markdown",
      "metadata": {
        "id": "9b8c3e17"
      },
      "source": [
        "Now use mamba to install `lsdtopotools`. \n",
        "This step takes a bit over a minute. "
      ]
    },
    {
      "cell_type": "code",
      "execution_count": null,
      "metadata": {
        "id": "0568f44f"
      },
      "outputs": [],
      "source": [
        "!mamba install -y lsdtopotools &> /dev/null"
      ]
    },
    {
      "cell_type": "markdown",
      "metadata": {
        "id": "kNDf3rzQvJca"
      },
      "source": [
        "The next line tests to see if it worked. If you get some output asking for a parameter file then `lsdtopotools` is installed. This notebook was tested on version 0.8."
      ]
    },
    {
      "cell_type": "code",
      "execution_count": null,
      "metadata": {
        "id": "ee7ab7dc"
      },
      "outputs": [],
      "source": [
        "!lsdtt-basic-metrics -v"
      ]
    },
    {
      "cell_type": "markdown",
      "source": [
        "## Download some data for the examples"
      ],
      "metadata": {
        "id": "ebl-Fwnu6FgB"
      }
    },
    {
      "cell_type": "markdown",
      "source": [
        "Before we go on to some examples we need to get a bit of data (a 4 Mb DEM from the Shillong Plateau that we analysed in Strong et al, 2019, https://doi.org/10.1016/j.geomorph.2019.01.016):"
      ],
      "metadata": {
        "id": "egezPRxs6MPD"
      }
    },
    {
      "cell_type": "code",
      "source": [
        "# Get the data from github\n",
        "import urllib\n",
        "urllib.request.urlretrieve(\"https://raw.githubusercontent.com/LSDtopotools/ExampleTopoDatasets/master/ChiAnalysisData/Meghalaya/Mega_divide.hdr\", \"Mega_divide.hdr\")\n",
        "urllib.request.urlretrieve(\"https://raw.githubusercontent.com/LSDtopotools/ExampleTopoDatasets/master/ChiAnalysisData/Meghalaya/Mega_divide.bil\", \"Mega_divide.bil\")"
      ],
      "metadata": {
        "id": "rCvM9Sbx6Xt2"
      },
      "execution_count": null,
      "outputs": []
    },
    {
      "cell_type": "markdown",
      "source": [
        "## The `lsdtopotools` functions"
      ],
      "metadata": {
        "id": "XyXrkkUR3Tvo"
      }
    },
    {
      "cell_type": "markdown",
      "source": [
        "Most users will run `lsdtopotools` by using out python wrapper, but it is worth explaining how the tools work in the first instance. \n",
        "\n",
        "In any python notebook, you can access the underlying linux shell (yes there is linux under here) by using the `!` symbol (pronounced \"bang\"). \n",
        "\n",
        "A basic linux command is to list files using the `ls` command, so here we can do this in the notebook. "
      ],
      "metadata": {
        "id": "L1Q0V4053aSx"
      }
    },
    {
      "cell_type": "code",
      "source": [
        "!ls -l"
      ],
      "metadata": {
        "id": "Ya3QmCsw4IqY"
      },
      "execution_count": null,
      "outputs": []
    },
    {
      "cell_type": "markdown",
      "source": [
        "`lsdtopotools` is not python, it is actually written in c++ and you call it with some programs that you get via the linux command line using the `!` command. \n"
      ],
      "metadata": {
        "id": "LhW8C6g34Tiw"
      }
    },
    {
      "cell_type": "code",
      "source": [
        "!lsdtt-basic-metrics"
      ],
      "metadata": {
        "id": "4Hq9nYtr4JY6"
      },
      "execution_count": null,
      "outputs": []
    },
    {
      "cell_type": "markdown",
      "source": [
        "So here you see a message that says \"FATAL ERROR\". It is because `lsdtopotools` expects a file with instructions. We call these either parameter files or driver files. "
      ],
      "metadata": {
        "id": "nvYJkA514n5n"
      }
    },
    {
      "cell_type": "markdown",
      "source": [
        "### The basic ingredients of an `lsdtopotools` parameter file"
      ],
      "metadata": {
        "id": "WsfP0Dr67Pvf"
      }
    },
    {
      "cell_type": "markdown",
      "source": [
        "In a parameter file you need to tell it what DEM you are working on with the keywords `read fname`. You can also designate the files to be written with `write fname`. The program assumes you are reading and writing to the current directory (you can change the directory but we won't bother with that here). \n",
        "\n",
        "For any parameter in an `lsdtopotools` analysis you need a colon (`:`) after the keyword. \n",
        "\n",
        "The program won't do anything if you only give it the name of the file to read. If we want to make if do some analysis, you need to tell it what to do. \n",
        "\n",
        "A basic thing you might want is to write a hillshade file, which can be done by setting the `write_hillshade` parameter to `true`. \n",
        "\n",
        "Let's write a very basic driver file now:"
      ],
      "metadata": {
        "id": "YDaVcLEU7XSA"
      }
    },
    {
      "cell_type": "code",
      "source": [
        "# Write the driver file. Each instruction is on its own line. \n",
        "with open('mega_01.driver', 'w') as file:\n",
        "  file.write(\"# Any line starting with a # is a comment and is ignored by lsdtopotools\\n\")\n",
        "  file.write(\"read fname: Mega_divide\\n\")\n",
        "  file.write(\"write fname: Mega_divide\\n\")\n",
        "  file.write(\"write_hillshade: true\\n\")"
      ],
      "metadata": {
        "id": "Zixwh8NE4hkZ"
      },
      "execution_count": null,
      "outputs": []
    },
    {
      "cell_type": "code",
      "source": [
        "# We look at the file to make sure it is correct. \n",
        "!cat mega_01.driver"
      ],
      "metadata": {
        "id": "RiZ39HQc9U9N"
      },
      "execution_count": null,
      "outputs": []
    },
    {
      "cell_type": "markdown",
      "source": [
        "### Running an analysis with one of the `lsdtopotools` programs"
      ],
      "metadata": {
        "id": "xpE__RIB_HTq"
      }
    },
    {
      "cell_type": "markdown",
      "source": [
        "Okay, now that we have a parameter file, we can run one of the `lsdtopotools` programs. There are six programs:\n",
        "\n",
        "* `lsdtt-basic-metrics`\n",
        "* `lsdtt-channel-extraction`\n",
        "* `lsdtt-cosmo-tool`\n",
        "* `lsdtt-valley-metrics`\n",
        "* `lsdtt-chi-mapping`\n",
        "* `lsdtt-hillslope-channel-coupling`"
      ],
      "metadata": {
        "id": "kQvV5zRm-rdf"
      }
    },
    {
      "cell_type": "markdown",
      "source": [
        "It turns out the driver file we just made (`mega_01.driver`) will do the same thing if we use it with any of the programs, because all of them have the ability to write a hillshade. But for this example we will use `lsdtt-basic-metrics`:"
      ],
      "metadata": {
        "id": "ZlJ0_T1W_RNX"
      }
    },
    {
      "cell_type": "code",
      "source": [
        "!lsdtt-basic-metrics mega_01.driver"
      ],
      "metadata": {
        "id": "PCa2lZp09Wxd"
      },
      "execution_count": null,
      "outputs": []
    },
    {
      "cell_type": "markdown",
      "source": [
        "Right, if you are in google colab, you can look at the files (click on the folder to your left) but we can also use the `ls` command:"
      ],
      "metadata": {
        "id": "7w-9Y73w_mHR"
      }
    },
    {
      "cell_type": "code",
      "source": [
        "!ls"
      ],
      "metadata": {
        "id": "NxM4jw-q_lzP"
      },
      "execution_count": null,
      "outputs": []
    },
    {
      "cell_type": "markdown",
      "source": [
        "So that analysis made two new files `Mega_divide_hs.bil` and `Mega_divide_hs.hdr`. \n",
        "You get two files since all `lsdtopotools` processing used ENVI bil format and such files have a header file. \n",
        "The reason we don't use geotiff is because you need a bunch of libraries for that in c++ and we try to keep the dependencies of the source code to a minimum. See here about converting from different formats to ENVI bil: https://lsdtopotools.github.io/LSDTT_documentation/LSDTT_introduction_to_geospatial_data.html#_gdal \n",
        "\n",
        "Any hillshade generated by `lsdtopotools` will have `_hs` in the filename. \n",
        "\n",
        "We can look at the resulting raster using `matplotlib` and `rasterio`"
      ],
      "metadata": {
        "id": "_vB6WUje_016"
      }
    },
    {
      "cell_type": "code",
      "source": [
        "# Plot the hillshade. We need to set the colour max and minimum since imshow won't deal with the raster nodata.\n",
        "import rasterio\n",
        "from matplotlib import pyplot\n",
        "src = rasterio.open(\"Mega_divide_hs.bil\")\n",
        "pyplot.imshow(src.read(1), cmap='gray',vmin = 0,vmax = 265)"
      ],
      "metadata": {
        "id": "LMyFmZ1p_yJi"
      },
      "execution_count": null,
      "outputs": []
    },
    {
      "cell_type": "markdown",
      "source": [
        "Hey, fantasic, we have a hillshde. What units are those? Well, they are in pixels. So this isn't georeferenced. \n",
        "\n",
        "We can use `lsdviztools` to show the hillshade however. `lsdviztools` likes to drape semitransparent rasters over the hillshade, because it looks nice. In the default simple hillshade function below it uses the elevation raster for this:"
      ],
      "metadata": {
        "id": "ILyLurUNB0oJ"
      }
    },
    {
      "cell_type": "code",
      "execution_count": null,
      "metadata": {
        "id": "fc9cbed6"
      },
      "outputs": [],
      "source": [
        "import lsdviztools.lsdmapwrappers as lsdmw\n",
        "%matplotlib inline\n",
        "Base_file = \"Mega_divide\"\n",
        "DataDirectory = \"./\"\n",
        "this_img = lsdmw.SimpleHillshade(DataDirectory,Base_file,cmap=\"gist_earth\", save_fig=False, size_format=\"geomorphology\",dpi=500)"
      ]
    },
    {
      "cell_type": "markdown",
      "source": [
        "## Getting all the analysis options from one of the `lsdtopotools` programs"
      ],
      "metadata": {
        "id": "2aQtvyocG3VM"
      }
    },
    {
      "cell_type": "markdown",
      "source": [
        "To get the different options for analyses available in each program, you can call the help function. This prints both a csv and html file, each with all the available parameters and some explanation. \n",
        "\n",
        "Let's look at `lsdtt-basic-metrics`"
      ],
      "metadata": {
        "id": "P8yujyNuG4a4"
      }
    },
    {
      "cell_type": "code",
      "source": [
        "!lsdtt-basic-metrics -h"
      ],
      "metadata": {
        "id": "5KV14_2JBAag"
      },
      "execution_count": null,
      "outputs": []
    },
    {
      "cell_type": "markdown",
      "source": [
        "We can load the csv file and then look at all the options. \n",
        "\n",
        "In general the data type of the key analyses are boolean, so we can have a look at all the boolean options to get a sense of what is possible in `lsdtt-basic-metrics`"
      ],
      "metadata": {
        "id": "CuvzbFL8HSU_"
      }
    },
    {
      "cell_type": "code",
      "source": [
        "import pandas as pd\n",
        "bm_df = pd.read_csv(\"lsdtt-basic-metrics-README.csv\", on_bad_lines='skip')\n",
        "bm_df.head()"
      ],
      "metadata": {
        "id": "1ez2F9ucG2Ba"
      },
      "execution_count": null,
      "outputs": []
    },
    {
      "cell_type": "markdown",
      "source": [
        "Now we can look at the first twenty boolean options"
      ],
      "metadata": {
        "id": "mubghIw-IeON"
      }
    },
    {
      "cell_type": "code",
      "source": [
        "bool_df = bm_df.loc[bm_df.type == \"bool\"]\n",
        "bool_df.head(20)"
      ],
      "metadata": {
        "id": "hg48-2-PHgOO"
      },
      "execution_count": null,
      "outputs": []
    },
    {
      "cell_type": "markdown",
      "source": [
        "## Using the `lsdtopotools` python wrapper"
      ],
      "metadata": {
        "id": "qflNCPg1Is_k"
      }
    },
    {
      "cell_type": "markdown",
      "source": [
        "If you don't like using the command line and writing your own files, `lsdviztools` has a python wrapper for that. \n",
        "\n",
        "Here is an example (I'm getting d8 drainage area, dinf drainage area, and slope):"
      ],
      "metadata": {
        "id": "ADgew0HUJNpV"
      }
    },
    {
      "cell_type": "code",
      "source": [
        "import lsdviztools.lsdmapwrappers as lsdmw\n",
        "lsdtt_parameters = {\"write_hillshade\" : \"true\",\n",
        "                    \"print_d8_drainage_area_raster\" : \"true\",\n",
        "                    \"print_dinf_drainage_area_raster\" : \"true\",\n",
        "                    \"print_slope\" : \"true\"}\n",
        "r_prefix = \"Mega_divide\"\n",
        "w_prefix = \"Mega_divide\"\n",
        "lsdtt_drive = lsdmw.lsdtt_driver(command_line_tool = \"lsdtt-basic-metrics\", \n",
        "                                 read_prefix = r_prefix,\n",
        "                                 write_prefix= w_prefix,\n",
        "                                 read_path = \"./\",\n",
        "                                 write_path = \"./\",\n",
        "                                 parameter_dictionary=lsdtt_parameters)\n",
        "lsdtt_drive.print_parameters()\n",
        "lsdtt_drive.run_lsdtt_command_line_tool()"
      ],
      "metadata": {
        "id": "yjDwSErEJF5N"
      },
      "execution_count": null,
      "outputs": []
    },
    {
      "cell_type": "markdown",
      "source": [
        "If you look at the pattern above, you should see that you add parameters using a dictionary structre, and you can control the read and write prefixes, and the directories to which you write the data. You can control which program you use. \n",
        "\n",
        "One note is that the parameters must always be fed a strings (so even if the the parameter is an integer or float, you still add it to the dictionary as a string (i.e., in quotation marks). \n",
        "\n",
        "This python wrapper write a driver file and calls the program, just like before. \n",
        "\n",
        "I'll just give a few examples below of looking at the data with `lsdviztools`"
      ],
      "metadata": {
        "id": "Rz8McxjXJ9Lx"
      }
    },
    {
      "cell_type": "code",
      "source": [
        "### Plot the d-inf area  \n",
        "Base_file = \"Mega_divide\"\n",
        "r_prefix = \"Mega_divide\"\n",
        "Drape_prefix = r_prefix+\"_dinf_area\"\n",
        "DataDirectory = \"./\"\n",
        "this_area_img = lsdmw.SimpleDrape(DataDirectory,Base_file,Drape_prefix, cmap=\"pink\", \n",
        "                                       cbar_label = \"Drainage area\",\n",
        "                                       cbar_loc = \"bottom\",\n",
        "                                       drape_cnorm = \"LogNorm\",\n",
        "                                       colour_min_max = [1000,10000000],\n",
        "                                       save_fig=True, size_format=\"ESURF\",dpi=600)"
      ],
      "metadata": {
        "id": "6dp9YMENIbzF"
      },
      "execution_count": null,
      "outputs": []
    },
    {
      "cell_type": "markdown",
      "source": [
        "Hey? Where is my image??? Because we used save_fig=True, the image is not displayed but rather printed to file. So we can look at it with a call to display:"
      ],
      "metadata": {
        "id": "CqAtwpmsK518"
      }
    },
    {
      "cell_type": "code",
      "source": [
        "print(this_area_img)\n",
        "from IPython.display import display, Image\n",
        "display(Image(filename=this_area_img, width=600))"
      ],
      "metadata": {
        "id": "znEdr2acIr3P"
      },
      "execution_count": null,
      "outputs": []
    },
    {
      "cell_type": "code",
      "source": [
        "### Plot the d8  \n",
        "Base_file = \"Mega_divide\"\n",
        "r_prefix = \"Mega_divide\"\n",
        "Drape_prefix = r_prefix+\"_d8_area\"\n",
        "DataDirectory = \"./\"\n",
        "this_area_img = lsdmw.SimpleDrape(DataDirectory,Base_file,Drape_prefix, cmap=\"pink\", \n",
        "                                       cbar_label = \"Drainage area\",\n",
        "                                       cbar_loc = \"bottom\",\n",
        "                                       drape_cnorm = \"LogNorm\",\n",
        "                                       colour_min_max = [1000,10000000],\n",
        "                                       save_fig=True, size_format=\"ESURF\",dpi=600)"
      ],
      "metadata": {
        "id": "tmTnl3czK8Ip"
      },
      "execution_count": null,
      "outputs": []
    },
    {
      "cell_type": "code",
      "source": [
        "print(this_area_img)\n",
        "from IPython.display import display, Image\n",
        "display(Image(filename=this_area_img, width=900))"
      ],
      "metadata": {
        "id": "5sFXAgKvLIZU"
      },
      "execution_count": null,
      "outputs": []
    },
    {
      "cell_type": "code",
      "source": [
        "### Plot the gradient \n",
        "Base_file = \"Mega_divide\"\n",
        "r_prefix = \"Mega_divide\"\n",
        "Drape_prefix = r_prefix+\"_SLOPE\"\n",
        "DataDirectory = \"./\"\n",
        "this_area_img = lsdmw.SimpleDrape(DataDirectory,Base_file,Drape_prefix, cmap=\"coolwarm\", \n",
        "                                       cbar_label = \"gradient (m/m)\",\n",
        "                                       cbar_loc = \"bottom\",\n",
        "                                       colour_min_max = [0,1],\n",
        "                                       save_fig=True, size_format=\"ESURF\",dpi=600)"
      ],
      "metadata": {
        "id": "fZhK0FY4LLEZ"
      },
      "execution_count": null,
      "outputs": []
    },
    {
      "cell_type": "code",
      "source": [
        "print(this_area_img)\n",
        "from IPython.display import display, Image\n",
        "display(Image(filename=this_area_img, width=900))"
      ],
      "metadata": {
        "id": "nVxHn4CHLanU"
      },
      "execution_count": null,
      "outputs": []
    },
    {
      "cell_type": "markdown",
      "source": [
        "Okay, hopefully this has given you an idea about the structure of `lsdtopotools` and `lsdviztools`, and you can use the other notebooks in this repository to do a wider variety of analyses. "
      ],
      "metadata": {
        "id": "auDfq6PZMBbH"
      }
    }
  ]
}