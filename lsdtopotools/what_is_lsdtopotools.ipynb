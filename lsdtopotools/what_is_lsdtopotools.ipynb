{
  "nbformat": 4,
  "nbformat_minor": 0,
  "metadata": {
    "colab": {
      "provenance": [],
      "authorship_tag": "ABX9TyN3R+kA6p0CDORX+6oWX3v4",
      "include_colab_link": true
    },
    "kernelspec": {
      "name": "python3",
      "display_name": "Python 3"
    },
    "language_info": {
      "name": "python"
    }
  },
  "cells": [
    {
      "cell_type": "markdown",
      "metadata": {
        "id": "view-in-github",
        "colab_type": "text"
      },
      "source": [
        "<a href=\"https://colab.research.google.com/github/LSDtopotools/lsdtt_notebooks/blob/master/lsdtopotools/what_is_lsdtopotools.ipynb\" target=\"_parent\"><img src=\"https://colab.research.google.com/assets/colab-badge.svg\" alt=\"Open In Colab\"/></a>"
      ]
    },
    {
      "cell_type": "markdown",
      "source": [
        "# What is lsdtopotools?"
      ],
      "metadata": {
        "id": "o_wuAZ7z0Rkx"
      }
    },
    {
      "cell_type": "markdown",
      "source": [
        "Last updated by Simon M Mudd on 11/05/2023"
      ],
      "metadata": {
        "id": "sYsGpFil0VXr"
      }
    },
    {
      "cell_type": "markdown",
      "source": [
        "`lsdtopotools` is a collection of topographic processing routines. It has been developed and used for scientific research; you can cite the software via its Zenodo record, which has a doi: https://zenodo.org/record/7892465#.ZFziJBHMK70\n",
        "\n",
        "You can install `lsdtopotools` using the package management software `conda` or `mamba`. To run a topographic analysis, you call one of the `lsdtopotools` programs. You can run these from a command line but we also include a python wrapper. \n",
        "\n",
        "We also have `lsdviztools`, a python package used for plotting `lsdtopotools` output. `lsdviztools` contains the python wrappers for `lsdtopotools`. The objective of `lsdviztools` is to produce pretty plots that you can use in presentations and publications, it is not meant to be a general geospatial visualisation package.  \n",
        "\n",
        "In this notebook I will install `lsdtopotools` in google colab and give some information about file formats. You can also run this notebook using the docker container for lsdtopotools: https://hub.docker.com/r/lsdtopotools/lsdtt_pytools_docker If you don't know what docker is, just ignore that part and start with the colab instructions. "
      ],
      "metadata": {
        "id": "9U7YFJFm0ZE_"
      }
    },
    {
      "cell_type": "markdown",
      "metadata": {
        "id": "3144101b"
      },
      "source": [
        "## Stuff we need to do if you are in colab (not required in the lsdtopotools pytools container)"
      ]
    },
    {
      "cell_type": "markdown",
      "metadata": {
        "id": "bec1cffe"
      },
      "source": [
        "**If you are in the `docker_lsdtt_pytools` docker container, you do not need to do any of this. \n",
        "The following is for executing this code in the google colab environment only.**\n",
        "\n",
        "If you are in the docker container you can skip to the **Download some data** section. "
      ]
    },
    {
      "cell_type": "markdown",
      "metadata": {
        "id": "Ck6Y73gLvbS8"
      },
      "source": [
        "First we install `lsdviztools`. This will take around a minute. It is important you do this before the `condacolab` step. "
      ]
    },
    {
      "cell_type": "code",
      "execution_count": null,
      "metadata": {
        "id": "Pj2pwsxkvbS8"
      },
      "outputs": [],
      "source": [
        "!pip install lsdviztools &> /dev/null"
      ]
    },
    {
      "cell_type": "markdown",
      "metadata": {
        "id": "Fq9UDKZrvbS8"
      },
      "source": [
        "Now we need to install lsdtopotools. We do this using something called `mamba`. To get `mamba` we install something called `condacolab`. "
      ]
    },
    {
      "cell_type": "code",
      "execution_count": null,
      "metadata": {
        "id": "ea215034"
      },
      "outputs": [],
      "source": [
        "!pip install -q condacolab\n",
        "import condacolab\n",
        "condacolab.install()"
      ]
    },
    {
      "cell_type": "markdown",
      "metadata": {
        "id": "DXqY5s5T9bqL"
      },
      "source": [
        "Alternatively we can do this by downloading the mamba installer directly, but this frequently leads to various coding conflicts becasue you need to keep the installer URL up to date. `condacolab` does all that for you so you don't need to worry about it. "
      ]
    },
    {
      "cell_type": "code",
      "execution_count": null,
      "metadata": {
        "id": "xhUkM9Q-9Cje"
      },
      "outputs": [],
      "source": [
        "#%%bash\n",
        "#MINICONDA_INSTALLER_SCRIPT=Mambaforge-Linux-x86_64.sh\n",
        "#MINICONDA_PREFIX=/usr/local\n",
        "#wget https://github.com/conda-forge/miniforge/releases/latest/download/Mambaforge-Linux-x86_64.sh &> /dev/null\n",
        "#chmod +x $MINICONDA_INSTALLER_SCRIPT\n",
        "#./$MINICONDA_INSTALLER_SCRIPT -b -f -p $MINICONDA_PREFIX &> /dev/null"
      ]
    },
    {
      "cell_type": "markdown",
      "metadata": {
        "id": "9b8c3e17"
      },
      "source": [
        "Now use mamba to install `lsdtopotools`. \n",
        "This step takes a bit over a minute. "
      ]
    },
    {
      "cell_type": "code",
      "execution_count": null,
      "metadata": {
        "id": "0568f44f"
      },
      "outputs": [],
      "source": [
        "!mamba install -y lsdtopotools &> /dev/null"
      ]
    },
    {
      "cell_type": "markdown",
      "metadata": {
        "id": "kNDf3rzQvJca"
      },
      "source": [
        "The next line tests to see if it worked. If you get some output asking for a parameter file then `lsdtopotools` is installed. This notebook was tested on version 0.8."
      ]
    },
    {
      "cell_type": "code",
      "execution_count": null,
      "metadata": {
        "id": "ee7ab7dc"
      },
      "outputs": [],
      "source": [
        "!lsdtt-basic-metrics -v"
      ]
    },
    {
      "cell_type": "code",
      "execution_count": null,
      "metadata": {
        "id": "KZ8zneYV0Qfh"
      },
      "outputs": [],
      "source": []
    }
  ]
}