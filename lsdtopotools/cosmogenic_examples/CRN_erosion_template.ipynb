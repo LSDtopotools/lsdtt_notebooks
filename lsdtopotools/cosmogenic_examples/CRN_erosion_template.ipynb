{
 "cells": [
  {
   "cell_type": "markdown",
   "id": "2e832ce9",
   "metadata": {},
   "source": [
    "# Template for erosion rate calculations based on 10Be concentrations"
   ]
  },
  {
   "cell_type": "markdown",
   "id": "223fd2e0",
   "metadata": {},
   "source": [
    "Last updated by Simon M. Mudd on 03/02/2023"
   ]
  },
  {
   "cell_type": "markdown",
   "id": "c757fc06",
   "metadata": {},
   "source": [
    "This is a template you can use to calculate erosion rates from 10Be concentrations in detrital stream sediments. It uses CAIRN (https://doi.org/10.5194/esurf-4-655-2016) to make these computations. \n",
    "\n",
    "You will need to enter your own data but otherwise just follow the template and you will soon be computing erosion rates. "
   ]
  },
  {
   "cell_type": "markdown",
   "id": "4b27be8f",
   "metadata": {
    "id": "4b27be8f"
   },
   "source": [
    "## If you are on colab"
   ]
  },
  {
   "cell_type": "markdown",
   "id": "994da2f2",
   "metadata": {},
   "source": [
    "**If you are in the `docker_lsdtt_pytools` docker container, you do not need to do any of this. \n",
    "The following is for executing this code in the google colab environment only.**\n",
    "\n",
    "If you are in the docker container you can skip to the **First get data** section. "
   ]
  },
  {
   "cell_type": "markdown",
   "id": "UVnt20YbQgIN",
   "metadata": {
    "id": "UVnt20YbQgIN"
   },
   "source": [
    "First we install `lsdviztools`. \n",
    "\n",
    "Note that if we install `condacolab` first the `lsdviztools` installation fails. "
   ]
  },
  {
   "cell_type": "code",
   "execution_count": null,
   "id": "Se7ToFPsPBp6",
   "metadata": {
    "id": "Se7ToFPsPBp6"
   },
   "outputs": [],
   "source": [
    "!pip install lsdviztools"
   ]
  },
  {
   "cell_type": "markdown",
   "id": "LNOjp2ocMzFE",
   "metadata": {
    "id": "LNOjp2ocMzFE"
   },
   "source": [
    "Now we need to install lsdtopotools. We do this using something called `condacolab`. "
   ]
  },
  {
   "cell_type": "code",
   "execution_count": null,
   "id": "ea215034",
   "metadata": {
    "id": "ea215034"
   },
   "outputs": [],
   "source": [
    "!pip install -q condacolab\n",
    "import condacolab\n",
    "condacolab.install()"
   ]
  },
  {
   "cell_type": "markdown",
   "id": "9b8c3e17",
   "metadata": {
    "id": "9b8c3e17"
   },
   "source": [
    "Now use mamba to install `lsdtopotools`. This will install the command line tools. This step takes a bit over a minute. "
   ]
  },
  {
   "cell_type": "code",
   "execution_count": null,
   "id": "0568f44f",
   "metadata": {
    "id": "0568f44f"
   },
   "outputs": [],
   "source": [
    "!mamba install lsdtopotools &> /dev/null"
   ]
  },
  {
   "cell_type": "code",
   "execution_count": null,
   "id": "ee7ab7dc",
   "metadata": {
    "id": "ee7ab7dc"
   },
   "outputs": [],
   "source": [
    "!lsdtt-basic-metrics"
   ]
  },
  {
   "cell_type": "markdown",
   "id": "5d95763d",
   "metadata": {},
   "source": [
    "## Get the climate data required for the analysis"
   ]
  },
  {
   "cell_type": "markdown",
   "id": "c3b3eb5e",
   "metadata": {},
   "source": [
    "We need to get some data that is used to compute pressure for our samples. This affects the 10Be production rate. "
   ]
  },
  {
   "cell_type": "code",
   "execution_count": null,
   "id": "3a00b369",
   "metadata": {},
   "outputs": [],
   "source": [
    "import urllib.request\n",
    "urllib.request.urlretrieve(\"https://github.com/LSDtopotools/ExampleTopoDatasets/raw/master/CRNData/NCEP2.bin\", \"NCEP2.bin\")\n",
    "urllib.request.urlretrieve(\"https://github.com/LSDtopotools/ExampleTopoDatasets/raw/master/CRNData/NCEP_hgt.bin\", \"NCEP_hgt.bin\")"
   ]
  },
  {
   "cell_type": "markdown",
   "id": "03bec632",
   "metadata": {
    "id": "03bec632"
   },
   "source": [
    "## Getting topographic data of your study area from OpenTopography.org"
   ]
  },
  {
   "cell_type": "markdown",
   "id": "910f56f9",
   "metadata": {
    "id": "910f56f9"
   },
   "source": [
    "OpenTopograhy (https://www.opentopography.org/) is a great place to download topographic data. \n",
    "\n",
    "It has vast quantities of lidar data that you can download from the site. In addition there is an API for downloading global datasets (at a range of resolutions). \n",
    "\n",
    "`lsdviztools` has a script that can download this global data and convert it to the file format and coordinate reference system (CRS) you need for analysis in `lsdtopotools`. \n",
    "\n",
    "**To do this you need to have a user account at OpenTopography.** You can sign up to an opentopography.org account here: https://portal.opentopography.org/myopentopo \n",
    "\n",
    "Once you have done that, you should get your API key and paste it into a text file somewhere safe (if any digital security experts want to explain how to better do this I am all ears). You will need to point to that file when calling the `lsdviztools` opentopography scraper. \n",
    "\n",
    "If you are working in *colab* then you should upload the file into your working directory. \n",
    "\n",
    "* You need to add the lower left and upper right hand coordinates, in lat-long, of your study area. \n",
    "* You can do this by right clicking and copying coordinates on google maps\n",
    "* Also set a data prefix name\n",
    "* And decide on the data type: options here https://portal.opentopography.org/apidocs/#/Public/getGlobalDem, we use COP30"
   ]
  },
  {
   "cell_type": "code",
   "execution_count": 4,
   "id": "e88979b6",
   "metadata": {},
   "outputs": [],
   "source": [
    "lower_left_coords = [23.020977925808698, -110.07075635034748], \n",
    "upper_right_coords = [23.403400882011553, -109.7686323359646]\n",
    "Dataset_name = \"baja\"\n",
    "source_name = \"COP30\""
   ]
  },
  {
   "cell_type": "code",
   "execution_count": null,
   "id": "c4b47b2b",
   "metadata": {
    "id": "c4b47b2b"
   },
   "outputs": [],
   "source": [
    "import lsdviztools.lsdbasemaptools as bmt\n",
    "from lsdviztools.lsdplottingtools import lsdmap_gdalio as gio\n",
    "\n",
    "# YOU NEED TO PUT YOUR API KEY IN A FILE\n",
    "your_OT_api_key_file = \"my_OT_api_key.txt\"\n",
    "\n",
    "with open(your_OT_api_key_file, 'r') as file:\n",
    "    print(\"I am reading you OT API key from the file \"+your_OT_api_key_file)\n",
    "    api_key = file.read().rstrip()\n",
    "    print(\"Your api key starts with: \"+api_key[0:4])\n",
    "\n",
    "study_DEM = bmt.ot_scraper(source = source_name,\n",
    "                        lower_left_coordinates = lower_left_coords, \n",
    "                        upper_right_coordinates = upper_right_coords,\n",
    "                        prefix = Dataset_name, \n",
    "                        api_key_file = your_OT_api_key_file)\n",
    "study_DEM.print_parameters()\n",
    "study_DEM.download_pythonic()\n",
    "DataDirectory = \"./\"\n",
    "Fname = Dataset_name+\"_\"+source_name+\".tif\"\n",
    "gio.convert4lsdtt(DataDirectory,Fname)"
   ]
  },
  {
   "cell_type": "markdown",
   "id": "32535c8d",
   "metadata": {
    "id": "32535c8d"
   },
   "source": [
    "## Make sure the data is in the correct place"
   ]
  },
  {
   "cell_type": "markdown",
   "id": "82861e28",
   "metadata": {
    "id": "82861e28"
   },
   "source": [
    "Right, lets see what this place looks like:"
   ]
  },
  {
   "cell_type": "code",
   "execution_count": null,
   "id": "a4429922",
   "metadata": {
    "id": "a4429922"
   },
   "outputs": [],
   "source": [
    "import lsdviztools.lsdmapwrappers as lsdmw"
   ]
  },
  {
   "cell_type": "code",
   "execution_count": null,
   "id": "52c6d4f1",
   "metadata": {
    "id": "52c6d4f1"
   },
   "outputs": [],
   "source": [
    "lsdtt_parameters = {\"write_hillshade\" : \"true\"}\n",
    "r_prefix = Dataset_name+\"_\"+source_name +\"_UTM\"\n",
    "w_prefix = Dataset_name+\"_\"+source_name +\"_UTM\"\n",
    "lsdtt_drive = lsdmw.lsdtt_driver(read_prefix = r_prefix,\n",
    "                                 write_prefix= w_prefix,\n",
    "                                 read_path = \"./\",\n",
    "                                 write_path = \"./\",\n",
    "                                 parameter_dictionary=lsdtt_parameters)\n",
    "lsdtt_drive.print_parameters()\n",
    "lsdtt_drive.run_lsdtt_command_line_tool()"
   ]
  },
  {
   "cell_type": "code",
   "execution_count": null,
   "id": "cbdbb352",
   "metadata": {
    "id": "cbdbb352"
   },
   "outputs": [],
   "source": [
    "%matplotlib inline\n",
    "Base_file = r_prefix\n",
    "DataDirectory = \"./\"\n",
    "this_img = lsdmw.SimpleHillshade(DataDirectory,Base_file,cmap=\"gist_earth\", save_fig=False, size_format=\"geomorphology\",dpi=500)"
   ]
  },
  {
   "cell_type": "markdown",
   "id": "98681059",
   "metadata": {},
   "source": [
    "## Now for some parameter files for the analysis"
   ]
  },
  {
   "cell_type": "markdown",
   "id": "9c11e8ea",
   "metadata": {},
   "source": [
    "We need a few data files to run the analysis. You probably don't need to change any of these unless you are an advanced user. "
   ]
  },
  {
   "cell_type": "code",
   "execution_count": 7,
   "id": "a93033a2",
   "metadata": {},
   "outputs": [],
   "source": [
    "CRN_param_fname = \"./\"+Dataset_name+\"_\"+source_name +\"_UTM.CRNParam\"\n",
    "CRN_rasters_fname = \"./\"+Dataset_name+\"_\"+source_name +\"_UTM_CRNRasters.csv\"\n",
    "\n",
    "with open(CRN_param_fname, 'w', encoding=\"utf-8\") as f:\n",
    "    f.write('min_slope: 0.0001\\n')\n",
    "    f.write('source_threshold: 12\\n')\n",
    "    f.write('search_radius_nodes: 4\\n')\n",
    "    f.write('threshold_stream_order: 2\\n')\n",
    "    f.write('theta_step: 30\\n')\n",
    "    f.write('phi_step: 30\\n')\n",
    "    f.write('Muon_scaling: BraucherBorchers\\n')\n",
    "\n",
    "with open(CRN_rasters_fname, 'w', encoding=\"utf-8\") as f:\n",
    "    f.write(\"./\"+Dataset_name+\"_\"+source_name +\"_UTM\")\n",
    "    f.write('\\n')"
   ]
  },
  {
   "cell_type": "code",
   "execution_count": null,
   "id": "e19084c1",
   "metadata": {},
   "outputs": [],
   "source": []
  }
 ],
 "metadata": {
  "kernelspec": {
   "display_name": "Python 3 (ipykernel)",
   "language": "python",
   "name": "python3"
  },
  "language_info": {
   "codemirror_mode": {
    "name": "ipython",
    "version": 3
   },
   "file_extension": ".py",
   "mimetype": "text/x-python",
   "name": "python",
   "nbconvert_exporter": "python",
   "pygments_lexer": "ipython3",
   "version": "3.8.13"
  }
 },
 "nbformat": 4,
 "nbformat_minor": 5
}
