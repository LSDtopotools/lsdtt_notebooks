{
  "cells": [
    {
      "cell_type": "markdown",
      "metadata": {
        "colab_type": "text",
        "id": "view-in-github"
      },
      "source": [
        "<a href=\"https://colab.research.google.com/github/LSDtopotools/lsdtt_notebooks/blob/master/lsdtopotools/cosmogenic_examples/CRN_erosion_template.ipynb\" target=\"_parent\"><img src=\"https://colab.research.google.com/assets/colab-badge.svg\" alt=\"Open In Colab\"/></a>"
      ]
    },
    {
      "cell_type": "markdown",
      "id": "e93eb819",
      "metadata": {
        "id": "e93eb819"
      },
      "source": [
        "# Template for erosion rate calculations based on 10Be concentrations"
      ]
    },
    {
      "cell_type": "markdown",
      "id": "7234829f",
      "metadata": {},
      "source": [
        "Notebook last updated by Simon M Mudd 19/12/2023"
      ]
    },
    {
      "cell_type": "markdown",
      "id": "9ce30997",
      "metadata": {
        "id": "9ce30997"
      },
      "source": [
        "This is a template you can use to calculate erosion rates from 10Be concentrations in detrital stream sediments. It uses CAIRN (https://doi.org/10.5194/esurf-4-655-2016) to make these computations.\n",
        "\n",
        "You will need to enter your own data but otherwise just follow the template and you will soon be computing erosion rates."
      ]
    },
    {
      "cell_type": "markdown",
      "id": "pitkVeVcvuD7",
      "metadata": {
        "id": "pitkVeVcvuD7"
      },
      "source": [
        "## If you are on colab"
      ]
    },
    {
      "cell_type": "markdown",
      "id": "1031c8af",
      "metadata": {},
      "source": [
        "First we install `lsdtopotools`. The first line downloads the package and the second installs it. The `/dev/null` stuff is just to stop the notebook printing a bunch of text to screen.  "
      ]
    },
    {
      "cell_type": "code",
      "execution_count": null,
      "id": "8feb9128",
      "metadata": {},
      "outputs": [],
      "source": [
        "!wget https://pkgs.geos.ed.ac.uk/geos-jammy/pool/world/l/lsdtopotools2/lsdtopotools2_0.9-1geos~22.04.1_amd64.deb  &> /dev/null\n",
        "!apt install ./lsdtopotools2_0.9-1geos~22.04.1_amd64.deb  &> /dev/null"
      ]
    },
    {
      "cell_type": "markdown",
      "id": "f6d7af2a",
      "metadata": {},
      "source": [
        "The next line tests to see if it worked. If you get some output asking for a parameter file then `lsdtopotools` is installed. This notebook was tested on version 0.9."
      ]
    },
    {
      "cell_type": "code",
      "execution_count": null,
      "id": "419d1e2d",
      "metadata": {},
      "outputs": [],
      "source": [
        "!lsdtt-basic-metrics -v"
      ]
    },
    {
      "cell_type": "markdown",
      "id": "1e3fff2a",
      "metadata": {},
      "source": [
        "Now we install `lsdviztools`:"
      ]
    },
    {
      "cell_type": "code",
      "execution_count": null,
      "id": "56c07d4d",
      "metadata": {},
      "outputs": [],
      "source": [
        "!pip install lsdviztools  &> /dev/null"
      ]
    },
    {
      "cell_type": "markdown",
      "id": "bec1cffe",
      "metadata": {
        "id": "bec1cffe"
      },
      "source": [
        "**If you are in the `docker_lsdtt_pytools` docker container, you do not need to do any of this.\n",
        "The following is for executing this code in the google colab environment only.**\n",
        "\n",
        "If you are in the docker container you can skip to the **Download some data** section."
      ]
    },
    {
      "cell_type": "markdown",
      "id": "5d95763d",
      "metadata": {
        "id": "5d95763d"
      },
      "source": [
        "## Get the climate data required for the analysis"
      ]
    },
    {
      "cell_type": "markdown",
      "id": "c3b3eb5e",
      "metadata": {
        "id": "c3b3eb5e"
      },
      "source": [
        "We need to get some data that is used to compute pressure for our samples. This affects the 10Be production rate."
      ]
    },
    {
      "cell_type": "code",
      "execution_count": null,
      "id": "3a00b369",
      "metadata": {
        "id": "3a00b369"
      },
      "outputs": [],
      "source": [
        "import urllib.request\n",
        "urllib.request.urlretrieve(\"https://github.com/LSDtopotools/ExampleTopoDatasets/raw/master/CRNData/NCEP2.bin\", \"NCEP2.bin\")\n",
        "urllib.request.urlretrieve(\"https://github.com/LSDtopotools/ExampleTopoDatasets/raw/master/CRNData/NCEP_hgt.bin\", \"NCEP_hgt.bin\")"
      ]
    },
    {
      "cell_type": "markdown",
      "id": "03bec632",
      "metadata": {
        "id": "03bec632"
      },
      "source": [
        "## Getting topographic data of your study area from OpenTopography.org"
      ]
    },
    {
      "cell_type": "markdown",
      "id": "910f56f9",
      "metadata": {
        "id": "910f56f9"
      },
      "source": [
        "OpenTopograhy (https://www.opentopography.org/) is a great place to download topographic data.\n",
        "\n",
        "It has vast quantities of lidar data that you can download from the site. In addition there is an API for downloading global datasets (at a range of resolutions).\n",
        "\n",
        "`lsdviztools` has a script that can download this global data and convert it to the file format and coordinate reference system (CRS) you need for analysis in `lsdtopotools`.\n",
        "\n",
        "**To do this you need to have a user account at OpenTopography.** You can sign up to an opentopography.org account here: https://portal.opentopography.org/myopentopo\n",
        "\n",
        "Once you have done that, you should get your API key and paste it into a text file somewhere safe (if any digital security experts want to explain how to better do this I am all ears). You will need to point to that file when calling the `lsdviztools` opentopography scraper.\n",
        "\n",
        "If you are working in *colab* then you should upload the file into your working directory.\n",
        "\n",
        "* You need to add the lower left and upper right hand coordinates, in lat-long, of your study area.\n",
        "* You can do this by right clicking and copying coordinates on google maps\n",
        "* Also set a data prefix name\n",
        "* And decide on the data type: options here https://portal.opentopography.org/apidocs/#/Public/getGlobalDem, we use COP30"
      ]
    },
    {
      "cell_type": "code",
      "execution_count": null,
      "id": "ed430f5a",
      "metadata": {
        "id": "ed430f5a"
      },
      "outputs": [],
      "source": [
        "lower_left_coords = [23.020977925808698, -110.07075635034748]\n",
        "upper_right_coords = [23.339739844695995, -109.79747144601774]\n",
        "Dataset_name = \"baja\"\n",
        "source_name = \"COP30\""
      ]
    },
    {
      "cell_type": "code",
      "execution_count": null,
      "id": "c4b47b2b",
      "metadata": {
        "id": "c4b47b2b"
      },
      "outputs": [],
      "source": [
        "import lsdviztools.lsdbasemaptools as bmt\n",
        "from lsdviztools.lsdplottingtools import lsdmap_gdalio as gio\n",
        "\n",
        "# YOU NEED TO PUT YOUR API KEY IN A FILE\n",
        "your_OT_api_key_file = \"my_OT_api_key.txt\"\n",
        "\n",
        "with open(your_OT_api_key_file, 'r') as file:\n",
        "    print(\"I am reading you OT API key from the file \"+your_OT_api_key_file)\n",
        "    api_key = file.read().rstrip()\n",
        "    print(\"Your api key starts with: \"+api_key[0:4])\n",
        "\n",
        "study_DEM = bmt.ot_scraper(source = source_name,\n",
        "                        lower_left_coordinates = lower_left_coords,\n",
        "                        upper_right_coordinates = upper_right_coords,\n",
        "                        prefix = Dataset_name,\n",
        "                        api_key_file = your_OT_api_key_file)\n",
        "study_DEM.print_parameters()\n",
        "study_DEM.download_pythonic()\n",
        "DataDirectory = \"./\"\n",
        "Fname = Dataset_name+\"_\"+source_name+\".tif\"\n",
        "gio.convert4lsdtt(DataDirectory,Fname)"
      ]
    },
    {
      "cell_type": "markdown",
      "id": "32535c8d",
      "metadata": {
        "id": "32535c8d"
      },
      "source": [
        "## Make sure the data is in the correct place"
      ]
    },
    {
      "cell_type": "markdown",
      "id": "82861e28",
      "metadata": {
        "id": "82861e28"
      },
      "source": [
        "Right, lets see what this place looks like:"
      ]
    },
    {
      "cell_type": "code",
      "execution_count": null,
      "id": "a4429922",
      "metadata": {
        "id": "a4429922"
      },
      "outputs": [],
      "source": [
        "import lsdviztools.lsdmapwrappers as lsdmw"
      ]
    },
    {
      "cell_type": "code",
      "execution_count": null,
      "id": "52c6d4f1",
      "metadata": {
        "id": "52c6d4f1"
      },
      "outputs": [],
      "source": [
        "lsdtt_parameters = {\"write_hillshade\" : \"true\"}\n",
        "r_prefix = Dataset_name+\"_\"+source_name +\"_UTM\"\n",
        "w_prefix = Dataset_name+\"_\"+source_name +\"_UTM\"\n",
        "lsdtt_drive = lsdmw.lsdtt_driver(read_prefix = r_prefix,\n",
        "                                 write_prefix= w_prefix,\n",
        "                                 read_path = \"./\",\n",
        "                                 write_path = \"./\",\n",
        "                                 parameter_dictionary=lsdtt_parameters)\n",
        "lsdtt_drive.print_parameters()\n",
        "lsdtt_drive.run_lsdtt_command_line_tool()"
      ]
    },
    {
      "cell_type": "code",
      "execution_count": null,
      "id": "cbdbb352",
      "metadata": {
        "id": "cbdbb352"
      },
      "outputs": [],
      "source": [
        "%matplotlib inline\n",
        "Base_file = r_prefix\n",
        "DataDirectory = \"./\"\n",
        "this_img = lsdmw.SimpleHillshade(DataDirectory,Base_file,cmap=\"gist_earth\", save_fig=False, size_format=\"geomorphology\",dpi=500)"
      ]
    },
    {
      "cell_type": "markdown",
      "id": "be6becef",
      "metadata": {
        "id": "be6becef"
      },
      "source": [
        "## Now for some parameter files for the analysis"
      ]
    },
    {
      "cell_type": "markdown",
      "id": "3dd0945f",
      "metadata": {
        "id": "3dd0945f"
      },
      "source": [
        "We need a few data files to run the analysis. You probably don't need to change any of these unless you are an advanced user."
      ]
    },
    {
      "cell_type": "code",
      "execution_count": null,
      "id": "d011404e",
      "metadata": {
        "id": "d011404e"
      },
      "outputs": [],
      "source": [
        "CRN_param_fname = \"./\"+Dataset_name+\"_\"+source_name +\"_UTM.CRNParam\"\n",
        "CRN_rasters_fname = \"./\"+Dataset_name+\"_\"+source_name +\"_UTM_CRNRasters.csv\"\n",
        "\n",
        "with open(CRN_param_fname, 'w', encoding=\"utf-8\") as f:\n",
        "    f.write('min_slope: 0.0001\\n')\n",
        "    f.write('source_threshold: 12\\n')\n",
        "    f.write('search_radius_nodes: 4\\n')\n",
        "    f.write('threshold_stream_order: 2\\n')\n",
        "    f.write('theta_step: 30\\n')\n",
        "    f.write('phi_step: 30\\n')\n",
        "    f.write('Muon_scaling: BraucherBorchers\\n')\n",
        "\n",
        "with open(CRN_rasters_fname, 'w', encoding=\"utf-8\") as f:\n",
        "    f.write(\"./\"+Dataset_name+\"_\"+source_name +\"_UTM\")\n",
        "    f.write('\\n')"
      ]
    },
    {
      "cell_type": "markdown",
      "id": "cd993f99",
      "metadata": {
        "id": "cd993f99"
      },
      "source": [
        "## Now your cosmogenic data"
      ]
    },
    {
      "cell_type": "markdown",
      "id": "a1e637a6",
      "metadata": {
        "id": "a1e637a6"
      },
      "source": [
        "Now you need to add in your cosmogenic data.\n",
        "\n",
        "This has a very specific format.\n",
        "\n",
        "It needs to be in a csv file, with headers:\n",
        "`sample_name,sample_latitude,sample_longitude,nuclide,concentration,AMS_uncertainty,standardisation`\n",
        "\n",
        "* The `sample_name` can be anything\n",
        "* `sample_latitude` and `sample_longitude` should be obvious.\n",
        "* `nuclide` needs to be `Be10` (exactly that, `10Be` will not work)\n",
        "* `standardisation` needs to come from a list, if it is not recognised it will default to the `07KNSTD`\n",
        "\n",
        "**You can have this file called anything, but I will copy and rename it here in the template**"
      ]
    },
    {
      "cell_type": "markdown",
      "id": "AqyE3SODyp3g",
      "metadata": {
        "id": "AqyE3SODyp3g"
      },
      "source": [
        "**I will make an example file here called `ENTER_YOUR_FILENAME_HERE.csv` but when you do this yourself you should prepare your file, upload it, and change the filename below**"
      ]
    },
    {
      "cell_type": "code",
      "execution_count": null,
      "id": "a7syEnuWzBOm",
      "metadata": {
        "id": "a7syEnuWzBOm"
      },
      "outputs": [],
      "source": [
        "with open('ENTER_YOUR_FILENAME_HERE.csv', 'w', encoding=\"utf-8\") as f:\n",
        "    f.write('sample_name,sample_latitude,sample_longitude,nuclide,concentration,AMS_uncertainty,standardisation\\n')\n",
        "    f.write('s1,23.16157025327516,-109.8028741594473,Be10,31510,9400,07KNSTD\\n')\n",
        "    f.write('s2,23.10241522797601,-110.0124965416167,Be10,21060,7200,07KNSTD\\n')\n",
        "    f.write('s2,23.260052582414716, -109.82037293760524,Be10,35060,7200,07KNSTD\\n')"
      ]
    },
    {
      "cell_type": "code",
      "execution_count": null,
      "id": "t5Q-dGN7zj_v",
      "metadata": {
        "id": "t5Q-dGN7zj_v"
      },
      "outputs": [],
      "source": [
        "!cat ENTER_YOUR_FILENAME_HERE.csv"
      ]
    },
    {
      "cell_type": "code",
      "execution_count": null,
      "id": "4465339a",
      "metadata": {
        "id": "4465339a"
      },
      "outputs": [],
      "source": [
        "my_CRN_data_filename = \"ENTER_YOUR_FILENAME_HERE.csv\""
      ]
    },
    {
      "cell_type": "code",
      "execution_count": null,
      "id": "b336c6a0",
      "metadata": {
        "id": "b336c6a0"
      },
      "outputs": [],
      "source": [
        "import subprocess\n",
        "new_filename = \"./\"+Dataset_name+\"_\"+source_name +\"_UTM_CRNData.csv\"\n",
        "subprocess.run([\"cp\", my_CRN_data_filename, new_filename])"
      ]
    },
    {
      "cell_type": "markdown",
      "id": "fb81204f",
      "metadata": {
        "id": "fb81204f"
      },
      "source": [
        "### We can check where the points are:"
      ]
    },
    {
      "cell_type": "code",
      "execution_count": null,
      "id": "928d6924",
      "metadata": {
        "id": "928d6924"
      },
      "outputs": [],
      "source": [
        "import pandas as pd\n",
        "CRNData_df = pd.read_csv(new_filename)\n",
        "CRNData_df.head()"
      ]
    },
    {
      "cell_type": "code",
      "execution_count": null,
      "id": "OEd9VbX10Ico",
      "metadata": {
        "id": "OEd9VbX10Ico"
      },
      "outputs": [],
      "source": [
        "CRNData_df[\"latitude\"] =  CRNData_df[\"sample_latitude\"]\n",
        "CRNData_df[\"longitude\"] =  CRNData_df[\"sample_longitude\"]\n",
        "CRNData_df.to_csv(\"temp_CRNData_latlong.csv\")"
      ]
    },
    {
      "cell_type": "code",
      "execution_count": null,
      "id": "7d4beb4a",
      "metadata": {
        "id": "7d4beb4a"
      },
      "outputs": [],
      "source": [
        "### Plot points the hillshade\n",
        "import lsdviztools.lsdmapwrappers as lsdmw\n",
        "%matplotlib inline\n",
        "Base_file = Dataset_name+\"_\"+source_name +\"_UTM\"\n",
        "DataDirectory = \"./\"\n",
        "this_img = lsdmw.PrintPointsOverHillshade(DataDirectory,Base_file, column_for_plotting = \"concentration\",\n",
        "                                          points_fname = \"temp_CRNData_latlong.csv\",\n",
        "                                          scale_points = False, manual_size =50,\n",
        "                                          cmap=\"jet\", save_fig=False, size_format=\"geomorphology\")"
      ]
    },
    {
      "cell_type": "markdown",
      "id": "5e8fef7a",
      "metadata": {
        "id": "5e8fef7a"
      },
      "source": [
        "## Check the cosmo data"
      ]
    },
    {
      "cell_type": "markdown",
      "id": "f38a286e",
      "metadata": {
        "id": "f38a286e"
      },
      "source": [
        "In this next step we check to see if the cosmo data is in the right place"
      ]
    },
    {
      "cell_type": "code",
      "execution_count": null,
      "id": "aba17303",
      "metadata": {
        "id": "aba17303"
      },
      "outputs": [],
      "source": [
        "# IMPORTANT all the parameter values must be passed as strings.\n",
        "# So even if the parameter is a number it always needs to be in quotations\n",
        "lsdtt_parameters = {\"cosmo_parameter_prefix\" : Dataset_name+\"_\"+source_name +\"_UTM\",\n",
        "                    \"check_cosmo_basins\" : \"true\"}\n",
        "r_prefix = Dataset_name+\"_\"+source_name +\"_UTM\"\n",
        "w_prefix = Dataset_name+\"_\"+source_name +\"_UTM\"\n",
        "lsdtt_drive = lsdmw.lsdtt_driver(command_line_tool = \"lsdtt-cosmo-tool\",\n",
        "                                 read_prefix = r_prefix,\n",
        "                                 write_prefix= w_prefix,\n",
        "                                 read_path = \"./\",\n",
        "                                 write_path = \"./\",\n",
        "                                 parameter_dictionary=lsdtt_parameters)\n",
        "lsdtt_drive.print_parameters()\n",
        "lsdtt_drive.run_lsdtt_command_line_tool()"
      ]
    },
    {
      "cell_type": "markdown",
      "id": "86d9b273",
      "metadata": {
        "id": "86d9b273"
      },
      "source": [
        "This gets the basins, which we can plot."
      ]
    },
    {
      "cell_type": "code",
      "execution_count": null,
      "id": "96f88044",
      "metadata": {
        "id": "96f88044"
      },
      "outputs": [],
      "source": [
        "%%capture\n",
        "DataDirectory = \"./\"\n",
        "Base_file = Dataset_name+\"_\"+source_name +\"_UTM\"\n",
        "basins_img = lsdmw.PrintBasins_Complex(DataDirectory,Base_file,cmap=\"gist_earth\",\n",
        "                             size_format=\"geomorphology\",dpi=600, save_fig = True)"
      ]
    },
    {
      "cell_type": "code",
      "execution_count": null,
      "id": "4aa701a6",
      "metadata": {
        "id": "4aa701a6"
      },
      "outputs": [],
      "source": [
        "print(basins_img)\n",
        "from IPython.display import display, Image\n",
        "display(Image(filename=basins_img, width=800))"
      ]
    },
    {
      "cell_type": "markdown",
      "id": "Xp9AK_ydqw-J",
      "metadata": {
        "id": "Xp9AK_ydqw-J"
      },
      "source": [
        "Before we move on, I just want to note that there are now three files that have parameters:\n",
        "\n",
        "* `baja_COP30_UTM_CRNRasters.csv`\n",
        "* `baja_COP30_UTM_CRNData.csv`\n",
        "* `baja_COP30_UTM,CRNParam`\n",
        "\n",
        "If we start to use more complex analysis, we will need to update these filenames. I will give some examples below. At the moment, we can use the `!ls` command to look at `baja_COP30_UTM_CRNRasters.csv` and see what is in there (answer: only one filename). This will change with topographic shielding and snow shielding calculations."
      ]
    },
    {
      "cell_type": "code",
      "execution_count": null,
      "id": "kIUJpmnhp0ab",
      "metadata": {
        "id": "kIUJpmnhp0ab"
      },
      "outputs": [],
      "source": [
        "!ls *CRNRasters.csv"
      ]
    },
    {
      "cell_type": "markdown",
      "id": "SgFNQvnFpEYy",
      "metadata": {
        "id": "SgFNQvnFpEYy"
      },
      "source": [
        "## Make topographic shielding rasters"
      ]
    },
    {
      "cell_type": "markdown",
      "id": "VvTwgFj1pI8w",
      "metadata": {
        "id": "VvTwgFj1pI8w"
      },
      "source": [
        "If you want to make some shielding rasters, you need to set some switches.\n",
        "\n",
        "The examples I will do here are topographic shielding, and snow shielding.\n",
        "\n",
        "For topographic shielding, I will actually show how to turn off topographic shielding, based on a paper by Roman DiBiase (https://esurf.copernicus.org/articles/6/923/2018/). However to implement this we still need to make a raster (that has all the topographic shielding as 1, which means no shielding at all).\n",
        "\n"
      ]
    },
    {
      "cell_type": "code",
      "execution_count": null,
      "id": "owkFsfHRpr9A",
      "metadata": {
        "id": "owkFsfHRpr9A"
      },
      "outputs": [],
      "source": [
        "# IMPORTANT all the parameter values must be passed as strings.\n",
        "# So even if the parameter is a number it always needs to be in quotations\n",
        "lsdtt_parameters = {\"make_shielding_rasters\" : \"true\",\n",
        "                    \"calcualte_shielding\" : \"false\",\n",
        "                    \"cosmo_parameter_prefix\" : Dataset_name+\"_\"+source_name +\"_UTM\"\n",
        "                   }\n",
        "r_prefix = Dataset_name+\"_\"+source_name +\"_UTM\"\n",
        "w_prefix = Dataset_name+\"_\"+source_name +\"_UTM\"\n",
        "lsdtt_drive = lsdmw.lsdtt_driver(command_line_tool = \"lsdtt-cosmo-tool\",\n",
        "                                 read_prefix = r_prefix,\n",
        "                                 write_prefix= w_prefix,\n",
        "                                 read_path = \"./\",\n",
        "                                 write_path = \"./\",\n",
        "                                 parameter_dictionary=lsdtt_parameters)\n",
        "lsdtt_drive.print_parameters()\n",
        "lsdtt_drive.run_lsdtt_command_line_tool()"
      ]
    },
    {
      "cell_type": "code",
      "execution_count": null,
      "id": "nGSEZHzoqIPy",
      "metadata": {
        "id": "nGSEZHzoqIPy"
      },
      "outputs": [],
      "source": [
        "!ls *CRNRasters.csv"
      ]
    },
    {
      "cell_type": "code",
      "execution_count": null,
      "id": "PLtmBO2eqJmx",
      "metadata": {
        "id": "PLtmBO2eqJmx"
      },
      "outputs": [],
      "source": [
        "!cat baja_COP30_UTM_Shield_CRNRasters.csv"
      ]
    },
    {
      "cell_type": "code",
      "execution_count": null,
      "id": "AOnqVQj4qNdh",
      "metadata": {
        "id": "AOnqVQj4qNdh"
      },
      "outputs": [],
      "source": [
        "!cat baja_COP30_UTM_CRNRasters.csv"
      ]
    },
    {
      "cell_type": "markdown",
      "id": "aHMvhTSGMXV8",
      "metadata": {
        "id": "aHMvhTSGMXV8"
      },
      "source": [
        "We can look at the topographic shielding raster (which will just be a raster with all the values of 1, but it is safe to check). We use the `SimpleDrape` routine in `lsdmapwrappers` which is part of `lsdviztools`."
      ]
    },
    {
      "cell_type": "code",
      "execution_count": null,
      "id": "eRbhbcYfMtj5",
      "metadata": {
        "id": "eRbhbcYfMtj5"
      },
      "outputs": [],
      "source": [
        "%%capture\n",
        "DataDirectory = \"./\"\n",
        "Base_file = Dataset_name+\"_\"+source_name +\"_UTM\"\n",
        "Drape_prefix = Base_file+\"_SH\"\n",
        "\n",
        "### Plot the snow shield raster\n",
        "this_ts_img = lsdmw.SimpleDrape(DataDirectory,Base_file,Drape_prefix, cmap=\"inferno\",\n",
        "                                       cbar_label = \"Topographic shielding (dimensionless, 1 = unshielded)\",\n",
        "                                       save_fig=True, size_format=\"geomorphology\",dpi=600)"
      ]
    },
    {
      "cell_type": "markdown",
      "id": "SP-S8QujMtj5",
      "metadata": {
        "id": "SP-S8QujMtj5"
      },
      "source": [
        "Now display the image"
      ]
    },
    {
      "cell_type": "code",
      "execution_count": null,
      "id": "RV9IDXz9Mtj6",
      "metadata": {
        "id": "RV9IDXz9Mtj6"
      },
      "outputs": [],
      "source": [
        "print(this_ts_img)\n",
        "from IPython.display import display, Image\n",
        "display(Image(filename=this_ts_img, width=800))"
      ]
    },
    {
      "cell_type": "markdown",
      "id": "Blfye8pirjbz",
      "metadata": {
        "id": "Blfye8pirjbz"
      },
      "source": [
        "## Snow shielding"
      ]
    },
    {
      "cell_type": "markdown",
      "id": "k3kHp9ArrkTD",
      "metadata": {
        "id": "k3kHp9ArrkTD"
      },
      "source": [
        "You can make snow shielding rasters with a few options.\n",
        "\n",
        "The two options are a Bilinear show shielding, where effective snow depth increases linearly up to a certain elevation, and then decreases after that. You need to set the parameters.\n",
        "\n",
        "Or using something called the Richards method.\n",
        "\n",
        "If you are implementing snow shielding you will need to do a bit of research into this and then calculate the parameters for one of these two methods. In this example I am just going to use the bilinear method.\n",
        "\n",
        "**IMPORTANT**\n",
        "This component is a bit underdeveloped as of lsdtt version 0.9. So it has a few annoying elements.\n",
        "\n",
        "1. The method is case sensitive. \"bilinear\" will not work, you must enter \"Bilinear\".\n",
        "2. It does not update the CRNRasters.csv file. You need to update that yourself. I will show you how to do that further below."
      ]
    },
    {
      "cell_type": "code",
      "execution_count": null,
      "id": "PTAKkoeLrf7M",
      "metadata": {
        "id": "PTAKkoeLrf7M"
      },
      "outputs": [],
      "source": [
        "# IMPORTANT all the parameter values must be passed as strings.\n",
        "# So even if the parameter is a number it always needs to be in quotations\n",
        "lsdtt_parameters = {\"calculate_snow_shielding\" : \"true\",\n",
        "                    \"snowpack_method\" : \"Bilinear\",\n",
        "                    \"snow_SlopeAscend\" : \"0.035\",\n",
        "                    \"snow_SlopeDescend\" : \"-0.03\",\n",
        "                    \"snow_PeakElevation\" : \"800\",\n",
        "                    \"snow_PeakSnowpack\" : \"30\",\n",
        "                    \"cosmo_parameter_prefix\" : Dataset_name+\"_\"+source_name +\"_UTM_Shield\"\n",
        "                   }\n",
        "r_prefix = Dataset_name+\"_\"+source_name +\"_UTM\"\n",
        "w_prefix = Dataset_name+\"_\"+source_name +\"_UTM\"\n",
        "lsdtt_drive = lsdmw.lsdtt_driver(command_line_tool = \"lsdtt-cosmo-tool\",\n",
        "                                 read_prefix = r_prefix,\n",
        "                                 write_prefix= w_prefix,\n",
        "                                 read_path = \"./\",\n",
        "                                 write_path = \"./\",\n",
        "                                 parameter_dictionary=lsdtt_parameters)\n",
        "lsdtt_drive.print_parameters()\n",
        "lsdtt_drive.run_lsdtt_command_line_tool()"
      ]
    },
    {
      "cell_type": "code",
      "execution_count": null,
      "id": "yJ-9AltPtCdO",
      "metadata": {
        "id": "yJ-9AltPtCdO"
      },
      "outputs": [],
      "source": [
        "!cat baja_COP30_UTM_Shield_CRNRasters.csv"
      ]
    },
    {
      "cell_type": "markdown",
      "id": "F-AjL08FvMXL",
      "metadata": {
        "id": "F-AjL08FvMXL"
      },
      "source": [
        "So you've now got a snow shielding raster, but you need to update this file so the erosion rate routine knows it exits."
      ]
    },
    {
      "cell_type": "code",
      "execution_count": null,
      "id": "g59JTgbbvcrK",
      "metadata": {
        "id": "g59JTgbbvcrK"
      },
      "outputs": [],
      "source": [
        "with open('baja_COP30_UTM_Shield_CRNRasters.csv', 'w', encoding=\"utf-8\") as f:\n",
        "    f.write('./baja_COP30_UTM,./baja_COP30_UTM_SnowBL,0,./baja_COP30_UTM_SH\\n')"
      ]
    },
    {
      "cell_type": "code",
      "execution_count": null,
      "id": "9LmezThQvyl6",
      "metadata": {
        "id": "9LmezThQvyl6"
      },
      "outputs": [],
      "source": [
        "!cat baja_COP30_UTM_Shield_CRNRasters.csv"
      ]
    },
    {
      "cell_type": "markdown",
      "id": "migciiF3LkJU",
      "metadata": {
        "id": "migciiF3LkJU"
      },
      "source": [
        "Lets just have a look at what that raster looks like using `lsdviztools`. I use a plotting routine called `SimpleDrape`:"
      ]
    },
    {
      "cell_type": "code",
      "execution_count": null,
      "id": "CWcyewERLpqX",
      "metadata": {
        "id": "CWcyewERLpqX"
      },
      "outputs": [],
      "source": [
        "%%capture\n",
        "DataDirectory = \"./\"\n",
        "Base_file = Dataset_name+\"_\"+source_name +\"_UTM\"\n",
        "Drape_prefix = Base_file+\"_SnowBL\"\n",
        "\n",
        "### Plot the snow shield raster\n",
        "this_ss_img = lsdmw.SimpleDrape(DataDirectory,Base_file,Drape_prefix, cmap=\"inferno\",\n",
        "                                       cbar_label = \"Snow shielding in g/cm^2\",\n",
        "                                       save_fig=True, size_format=\"geomorphology\",dpi=600)"
      ]
    },
    {
      "cell_type": "markdown",
      "id": "iIqwZhbQMQFV",
      "metadata": {
        "id": "iIqwZhbQMQFV"
      },
      "source": [
        "Now display the image"
      ]
    },
    {
      "cell_type": "code",
      "execution_count": null,
      "id": "7waWt8wHMPS_",
      "metadata": {
        "id": "7waWt8wHMPS_"
      },
      "outputs": [],
      "source": [
        "print(this_ss_img)\n",
        "from IPython.display import display, Image\n",
        "display(Image(filename=this_ss_img, width=800))"
      ]
    },
    {
      "cell_type": "markdown",
      "id": "1b4ceaf8",
      "metadata": {
        "id": "1b4ceaf8"
      },
      "source": [
        "## Now lets get the erosion rates!!"
      ]
    },
    {
      "cell_type": "markdown",
      "id": "blp-ajaZPLGg",
      "metadata": {
        "id": "blp-ajaZPLGg"
      },
      "source": [
        "### Erosion rates with full topographic shielding and no snow shielding"
      ]
    },
    {
      "cell_type": "markdown",
      "id": "d054a6ce",
      "metadata": {
        "id": "d054a6ce"
      },
      "source": [
        "Now we are going to extract the erosion rates. This takes a little while since it automatically calculates topographic shielding, which is the most computationally expensive step.\n",
        "\n",
        "**If you followed the topographic shielding or snow shielding routines above, go to the next code block!**\n"
      ]
    },
    {
      "cell_type": "code",
      "execution_count": null,
      "id": "dfa08c48",
      "metadata": {
        "id": "dfa08c48"
      },
      "outputs": [],
      "source": [
        "# IMPORTANT all the parameter values must be passed as strings.\n",
        "# So even if the parameter is a number it always needs to be in quotations\n",
        "lsdtt_parameters = {\"print_production_raster\" : \"true\",\n",
        "                    \"cosmo_parameter_prefix\" : Dataset_name+\"_\"+source_name +\"_UTM\",\n",
        "                    \"calculate_erosion_rates\" : \"true\",\n",
        "                   }\n",
        "r_prefix = Dataset_name+\"_\"+source_name +\"_UTM\"\n",
        "w_prefix = Dataset_name+\"_\"+source_name +\"_UTM\"\n",
        "lsdtt_drive = lsdmw.lsdtt_driver(command_line_tool = \"lsdtt-cosmo-tool\",\n",
        "                                 read_prefix = r_prefix,\n",
        "                                 write_prefix= w_prefix,\n",
        "                                 read_path = \"./\",\n",
        "                                 write_path = \"./\",\n",
        "                                 parameter_dictionary=lsdtt_parameters)\n",
        "lsdtt_drive.print_parameters()\n",
        "lsdtt_drive.run_lsdtt_command_line_tool()"
      ]
    },
    {
      "cell_type": "markdown",
      "id": "ZzAf1to8PUrj",
      "metadata": {
        "id": "ZzAf1to8PUrj"
      },
      "source": [
        "### Erosion rates with no topographic shielding and snow shielding"
      ]
    },
    {
      "cell_type": "markdown",
      "id": "Vxi_fHXrPDQN",
      "metadata": {
        "id": "Vxi_fHXrPDQN"
      },
      "source": [
        "Note that you have to run the code blocks to remove topographic shielding and run snow shielding for this to work. You can also run this with just topographic shielding = 1 and no snow shielding."
      ]
    },
    {
      "cell_type": "code",
      "execution_count": null,
      "id": "tqljeYTdPJb1",
      "metadata": {
        "id": "tqljeYTdPJb1"
      },
      "outputs": [],
      "source": [
        "# IMPORTANT all the parameter values must be passed as strings.\n",
        "# So even if the parameter is a number it always needs to be in quotations\n",
        "lsdtt_parameters = {\"print_production_raster\" : \"true\",\n",
        "                    \"cosmo_parameter_prefix\" : Dataset_name+\"_\"+source_name +\"_UTM_Shield\",\n",
        "                    \"calculate_erosion_rates\" : \"true\",\n",
        "                   }\n",
        "r_prefix = Dataset_name+\"_\"+source_name +\"_UTM\"\n",
        "w_prefix = Dataset_name+\"_\"+source_name +\"_UTM\"\n",
        "lsdtt_drive = lsdmw.lsdtt_driver(command_line_tool = \"lsdtt-cosmo-tool\",\n",
        "                                 read_prefix = r_prefix,\n",
        "                                 write_prefix= w_prefix,\n",
        "                                 read_path = \"./\",\n",
        "                                 write_path = \"./\",\n",
        "                                 parameter_dictionary=lsdtt_parameters)\n",
        "lsdtt_drive.print_parameters()\n",
        "lsdtt_drive.run_lsdtt_command_line_tool()"
      ]
    },
    {
      "cell_type": "markdown",
      "id": "26175336",
      "metadata": {
        "id": "26175336"
      },
      "source": [
        "## Now lets see what the samples say!"
      ]
    },
    {
      "cell_type": "code",
      "execution_count": null,
      "id": "a3277f74",
      "metadata": {
        "id": "a3277f74"
      },
      "outputs": [],
      "source": [
        "import pandas as pd\n",
        "\n",
        "data_name = \"./\"+Dataset_name+\"_\"+source_name +\"_UTM_CRNResults.csv\"\n",
        "CRNResults_df = pd.read_csv(data_name,skiprows=3)\n",
        "print(CRNResults_df[['sample_name', 'erate_mmperkyr_rho2650']])"
      ]
    },
    {
      "cell_type": "markdown",
      "id": "M4uRVaODP03S",
      "metadata": {
        "id": "M4uRVaODP03S"
      },
      "source": [
        "And if you ran with the updated shielding you can comare the result:"
      ]
    },
    {
      "cell_type": "code",
      "execution_count": null,
      "id": "q0NOXXCs0nqQ",
      "metadata": {
        "id": "q0NOXXCs0nqQ"
      },
      "outputs": [],
      "source": [
        "import pandas as pd\n",
        "\n",
        "data_name = \"./\"+Dataset_name+\"_\"+source_name +\"_UTM_Shield_CRNResults.csv\"\n",
        "CRNResults_df = pd.read_csv(data_name,skiprows=3)\n",
        "print(CRNResults_df[['sample_name', 'erate_mmperkyr_rho2650']])"
      ]
    }
  ],
  "metadata": {
    "colab": {
      "include_colab_link": true,
      "provenance": []
    },
    "kernelspec": {
      "display_name": "Python 3 (ipykernel)",
      "language": "python",
      "name": "python3"
    },
    "language_info": {
      "codemirror_mode": {
        "name": "ipython",
        "version": 3
      },
      "file_extension": ".py",
      "mimetype": "text/x-python",
      "name": "python",
      "nbconvert_exporter": "python",
      "pygments_lexer": "ipython3",
      "version": "3.9.16"
    }
  },
  "nbformat": 4,
  "nbformat_minor": 5
}
