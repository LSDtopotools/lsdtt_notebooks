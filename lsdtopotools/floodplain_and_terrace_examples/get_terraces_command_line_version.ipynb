{
  "nbformat": 4,
  "nbformat_minor": 0,
  "metadata": {
    "colab": {
      "provenance": [],
      "authorship_tag": "ABX9TyOtl0ka96bl7tdBlgwJelJe",
      "include_colab_link": true
    },
    "kernelspec": {
      "name": "python3",
      "display_name": "Python 3"
    },
    "language_info": {
      "name": "python"
    }
  },
  "cells": [
    {
      "cell_type": "markdown",
      "metadata": {
        "id": "view-in-github",
        "colab_type": "text"
      },
      "source": [
        "<a href=\"https://colab.research.google.com/github/LSDtopotools/lsdtt_notebooks/blob/master/lsdtopotools/floodplain_and_terrace_examples/get_terraces_command_line_version.ipynb\" target=\"_parent\"><img src=\"https://colab.research.google.com/assets/colab-badge.svg\" alt=\"Open In Colab\"/></a>"
      ]
    },
    {
      "cell_type": "markdown",
      "source": [
        "# Terrace extraction, command line version"
      ],
      "metadata": {
        "id": "A1WjulT4ozuQ"
      }
    },
    {
      "cell_type": "markdown",
      "source": [
        "Last updated by Simon M Mudd 10-Feb-2024"
      ],
      "metadata": {
        "id": "oasuhWPqo89h"
      }
    },
    {
      "cell_type": "markdown",
      "source": [
        "This notebook does an example terrace extraction using only the command line. It works on google colab, but will also work in any linux environment where lsdtopotools is installed. For example, on the University of Edinburgh's school of GeoSciences servers.\n",
        "\n",
        "In colab (where this was written) you use the `!` sybmbol to call the command line. If you are working in a command line, then you don't need the `!` symbol.\n",
        "\n",
        "For example, if there is the command here of\n",
        "```\n",
        "!tar -xzf rasters_USGS10m.tar.gz\n",
        "```\n",
        "\n",
        "then in your command line (which will have a `$` prompt, or in Docker a `#` prompt) you would just write:\n",
        "\n",
        "```\n",
        "$ tar -xzf rasters_USGS10m.tar.gz\n",
        "```\n",
        "\n"
      ],
      "metadata": {
        "id": "ok3HlFb0o4td"
      }
    },
    {
      "cell_type": "markdown",
      "metadata": {
        "id": "f58334da"
      },
      "source": [
        "## Stuff we need to do if you are in colab (not required in on school of geosciences servers)"
      ]
    },
    {
      "cell_type": "markdown",
      "metadata": {
        "id": "989239a6"
      },
      "source": [
        "First we install `lsdtopotools`. The first line downloads the package and the second installs it. The `/dev/null` stuff is just to stop the notebook printing a bunch of text to screen.  "
      ]
    },
    {
      "cell_type": "code",
      "execution_count": null,
      "metadata": {
        "id": "082c22c4"
      },
      "outputs": [],
      "source": [
        "!wget https://pkgs.geos.ed.ac.uk/geos-jammy/pool/world/l/lsdtopotools2/lsdtopotools2_0.9-1geos~22.04.1_amd64.deb  &> /dev/null\n",
        "!apt install ./lsdtopotools2_0.9-1geos~22.04.1_amd64.deb  &> /dev/null"
      ]
    },
    {
      "cell_type": "markdown",
      "metadata": {
        "id": "e711834c"
      },
      "source": [
        "The next line tests to see if it worked. If you get some output asking for a parameter file then `lsdtopotools` is installed. This notebook was tested on version 0.9."
      ]
    },
    {
      "cell_type": "code",
      "execution_count": null,
      "metadata": {
        "id": "3b9abe36"
      },
      "outputs": [],
      "source": [
        "!lsdtt-basic-metrics -v"
      ]
    },
    {
      "cell_type": "markdown",
      "metadata": {
        "id": "0c08bb20"
      },
      "source": [
        "Now we install `lsdviztools`. We need to test if this is version 0.4.12:"
      ]
    },
    {
      "cell_type": "code",
      "execution_count": null,
      "metadata": {
        "id": "b7deb198"
      },
      "outputs": [],
      "source": [
        "!pip install lsdviztools  &> /dev/null\n",
        "import lsdviztools\n",
        "lsdviztools.__version__"
      ]
    },
    {
      "cell_type": "markdown",
      "source": [
        "We also need the gdal command line tools if we are working in colab:"
      ],
      "metadata": {
        "id": "z6xldB_YqDTd"
      }
    },
    {
      "cell_type": "code",
      "source": [
        "!apt install gdal-bin  &> /dev/null"
      ],
      "metadata": {
        "id": "Xg20lAAdp5MQ"
      },
      "execution_count": null,
      "outputs": []
    },
    {
      "cell_type": "markdown",
      "metadata": {
        "id": "NPqFjAZJu1vC"
      },
      "source": [
        "## Get the raw data"
      ]
    },
    {
      "cell_type": "markdown",
      "metadata": {
        "id": "Nctva3fiuRSC"
      },
      "source": [
        "1. Go onto the opentopography website for 10m USGS data (https://portal.opentopography.org/raster?opentopoID=OTNED.012021.4269.1) and select a region.\n",
        "2. Select geotiff as the format.\n",
        "3. Download.\n",
        "4. Your data will come as a file with the extension `.tar.gz`\n",
        "5. Copy this file into google colab or your file system. For google colab, click to the left of this screen where you see the little folder symbol. You can drag and drop the file.\n",
        "6. We can make sure the file is in the google colab system by calling the list command (`ls`), in google colab to call the underlying operating system you use the `!` character:"
      ]
    },
    {
      "cell_type": "code",
      "execution_count": null,
      "metadata": {
        "id": "-UWlNaCIZysS"
      },
      "outputs": [],
      "source": [
        "!ls *.tar.gz"
      ]
    },
    {
      "cell_type": "markdown",
      "metadata": {
        "id": "0WR7Wx8o0PTe"
      },
      "source": [
        "## Process the data into the correct format"
      ]
    },
    {
      "cell_type": "markdown",
      "metadata": {
        "id": "n8oKbCQG0Vl3"
      },
      "source": [
        "A `.tar.gz` file is a tye of zipped file (the `tar` is for tarball and `gz` is for gzip). You can remove these two layers of zipping with one command to a linux program called `tar`. Again, to access the underlying system on google colab use the `!` command.\n",
        "\n",
        "You need to use some flags (`-xzf`) which I will not explain other than they do the bits you need to get the file you need."
      ]
    },
    {
      "cell_type": "code",
      "execution_count": null,
      "metadata": {
        "id": "fUJMWBaU0ULP"
      },
      "outputs": [],
      "source": [
        "!tar -xzf rasters_USGS10m.tar.gz"
      ]
    },
    {
      "cell_type": "markdown",
      "metadata": {
        "id": "n0LVq0Uc036Y"
      },
      "source": [
        "Now we can see what we have (I will tell you we will now have a new `tif` file:"
      ]
    },
    {
      "cell_type": "code",
      "execution_count": null,
      "metadata": {
        "id": "pqdxOlA9Z1Zh"
      },
      "outputs": [],
      "source": [
        "!ls -l"
      ]
    },
    {
      "cell_type": "markdown",
      "metadata": {
        "id": "vWQRde1Q1_HM"
      },
      "source": [
        "Now we convert the file using a gdal command line program `gdalwarp`.\n",
        "\n",
        "You will need to modify the line below with\n",
        "\n",
        "1. Your UTM zone. Look it up on this image: https://www.dmap.co.uk/utmworld.htm\n",
        "2. The name of your input file (the default for opentopography 10m data is `output_USGS10m.tif`\n",
        "3. The name you want your data to be (need the `bil` extension, I am calling it `my_DEM.bil`\n",
        "4. The grid resolution after the flag `-tr` (here 10 10 since the cells are 10x10m).\n",
        "5. The resampling method `-r` (you can use `cubic` or `bilinear`...the default is `nearest` which will create a DEM that looks like it is corrugated)"
      ]
    },
    {
      "cell_type": "code",
      "execution_count": null,
      "metadata": {
        "id": "HN4MpsP70-3z"
      },
      "outputs": [],
      "source": [
        "!gdalwarp -t_srs '+proj=utm +zone=10 +north +datum=WGS84' -of ENVI -r cubic -tr 10 10 output_USGS10m.tif my_DEM.bil"
      ]
    },
    {
      "cell_type": "markdown",
      "source": [
        "Note, the DEM used in this example has its lower left corner around here:\n",
        "\n",
        "`36.18557118689764, -121.52769549262867`\n",
        "\n",
        "and the upper right corner around here:\n",
        "\n",
        "`36.32311785135548, -121.29145457790464`"
      ],
      "metadata": {
        "id": "W3wMI-AP8f83"
      }
    },
    {
      "cell_type": "markdown",
      "source": [
        "## First command line call: a basic hillshade"
      ],
      "metadata": {
        "id": "JkMq3aulvDxe"
      }
    },
    {
      "cell_type": "markdown",
      "source": [
        "All the `lsdtopotools` command line tools need a set of instructions. We give the instructions using little text files, that we call driver files.\n",
        "\n",
        "It is a bit tedious to write these in a python environment, if you are doing this in a Linux terminal you should use a text editor to write the files.\n",
        "\n",
        "Here is a very basic example where we `remove_seas` (this turns any pixel with an elevation <= 0 to nodata) and `write_hillshade` (which writes a hillshade raster):"
      ],
      "metadata": {
        "id": "Pf0P_UVSvHD8"
      }
    },
    {
      "cell_type": "code",
      "source": [
        "# Open the file in write mode ('w')\n",
        "with open('run_01.driver', 'w') as f:\n",
        "    # Write multiple lines to the file\n",
        "    f.write(\"read fname: my_DEM\\n\")\n",
        "    f.write(\"write fname: my_DEM\\n\")\n",
        "    f.write(\"remove_seas: true\\n\")\n",
        "    f.write(\"write_hillshade: true\\n\")\n",
        "\n",
        "\n",
        "!cat run_01.driver"
      ],
      "metadata": {
        "id": "yu9GIFu_tizS"
      },
      "execution_count": null,
      "outputs": []
    },
    {
      "cell_type": "markdown",
      "source": [
        "Now that we have a driver file, we can run it using `lsdtt-basic-metrics`, which has many of the most common topographic analysis routines:"
      ],
      "metadata": {
        "id": "kO90AGudv2Jp"
      }
    },
    {
      "cell_type": "code",
      "source": [
        "!lsdtt-basic-metrics run_01.driver"
      ],
      "metadata": {
        "id": "vtSSH_MXvbKl"
      },
      "execution_count": null,
      "outputs": []
    },
    {
      "cell_type": "markdown",
      "source": [
        "## Basic plotting with lsdviztools"
      ],
      "metadata": {
        "id": "3iCxynYCwP_6"
      }
    },
    {
      "cell_type": "markdown",
      "source": [
        "`lsdtopotools` outputs are all readable by your favourite GIS. But we can also make simple images using some plotting routines made available by installing `lsdviztools`."
      ],
      "metadata": {
        "id": "xbfZLPSmwT4E"
      }
    },
    {
      "cell_type": "code",
      "source": [
        "!lsdtt_plotbasicrasters -dir ./ -fname my_DEM -PD True"
      ],
      "metadata": {
        "id": "mkbZ6UytwO3A"
      },
      "execution_count": null,
      "outputs": []
    },
    {
      "cell_type": "markdown",
      "source": [
        "You get a `.png` image in a subdirectory `raster_plot`, which you can just look at. In python you can also display it here."
      ],
      "metadata": {
        "id": "bhiJxWIVxJ4R"
      }
    },
    {
      "cell_type": "code",
      "source": [
        "basins_img = \"./raster_plots/my_DEM_drape.png\"\n",
        "print(basins_img)\n",
        "from IPython.display import display, Image\n",
        "display(Image(filename=basins_img, width=800))"
      ],
      "metadata": {
        "id": "Q3p9FQNWw4bo"
      },
      "execution_count": null,
      "outputs": []
    },
    {
      "cell_type": "markdown",
      "source": [
        "## Getting channel sources"
      ],
      "metadata": {
        "id": "T1zoaA3exrFF"
      }
    },
    {
      "cell_type": "markdown",
      "source": [
        "To run the terrace routine we need to get channel sources (the pixels where channels start). So lets write another driver file"
      ],
      "metadata": {
        "id": "XK8rHfpextVi"
      }
    },
    {
      "cell_type": "code",
      "source": [
        "# Open the file in write mode ('w')\n",
        "with open('run_02.driver', 'w') as f:\n",
        "    # Write multiple lines to the file\n",
        "    f.write(\"read fname: my_DEM\\n\")\n",
        "    f.write(\"write fname: my_DEM\\n\")\n",
        "    f.write(\"remove_seas: true\\n\")\n",
        "    f.write(\"print_wiener_channels: true\\n\")\n",
        "    f.write(\"print_sources_to_csv: true\\n\")\n",
        "\n",
        "\n",
        "!cat run_02.driver"
      ],
      "metadata": {
        "id": "-FmCnWCZvf-c"
      },
      "execution_count": null,
      "outputs": []
    },
    {
      "cell_type": "code",
      "source": [
        "!lsdtt-channel-extraction run_02.driver"
      ],
      "metadata": {
        "id": "oOIQyouQyFdH"
      },
      "execution_count": null,
      "outputs": []
    },
    {
      "cell_type": "markdown",
      "source": [
        "This makes a few `csv` files that have the channel head locations, we can check on them with the `ls` command."
      ],
      "metadata": {
        "id": "Jcrrs5sByVbb"
      }
    },
    {
      "cell_type": "code",
      "source": [
        "!ls *.csv"
      ],
      "metadata": {
        "id": "gvg6SqvdyOQr"
      },
      "execution_count": null,
      "outputs": []
    },
    {
      "cell_type": "markdown",
      "source": [
        "### Look at sources using folium"
      ],
      "metadata": {
        "id": "VZXb5_zEyjPw"
      }
    },
    {
      "cell_type": "markdown",
      "source": [
        "If you are in a python environment, you can look at the sources using `folium`. If you are just in a command line environment, you can load the points in a GIS."
      ],
      "metadata": {
        "id": "IvIlNMSO1Dob"
      }
    },
    {
      "cell_type": "code",
      "source": [
        "import pandas as pd\n",
        "\n",
        "sources_AT_df = pd.read_csv(\"my_DEM_ATsources.csv\")\n",
        "sources_W_df = pd.read_csv(\"my_DEM_Wsources.csv\")"
      ],
      "metadata": {
        "id": "E8UA8nsSycf0"
      },
      "execution_count": null,
      "outputs": []
    },
    {
      "cell_type": "code",
      "source": [
        "# This is for the wiener points\n",
        "\n",
        "import folium\n",
        "\n",
        "#create a map\n",
        "this_map = folium.Map(prefer_canvas=True, zoom_start=13)\n",
        "\n",
        "esri = folium.TileLayer(\n",
        "    tiles='https://server.arcgisonline.com/ArcGIS/rest/services/World_Imagery/MapServer/tile/{z}/{y}/{x}',\n",
        "    attr='Esri',\n",
        "    name='Esri Satellite',\n",
        "    overlay=False,\n",
        "    control=True\n",
        ").add_to(this_map)\n",
        "\n",
        "def plotDot(point):\n",
        "    '''input: series that contains a numeric named latitude and a numeric named longitude\n",
        "    this function creates a CircleMarker and adds it to your this_map'''\n",
        "    folium.CircleMarker(location=[point.latitude, point.longitude],\n",
        "                        radius=2,\n",
        "                        weight=5).add_to(this_map)\n",
        "\n",
        "#use df.apply(,axis=1) to \"iterate\" through every row in your dataframe\n",
        "sources_AT_df.apply(plotDot, axis = 1)\n",
        "\n",
        "\n",
        "#Set the zoom to the maximum possible\n",
        "this_map.fit_bounds(this_map.get_bounds())\n",
        "\n",
        "#Save the map to an HTML file\n",
        "this_map.save('simple_dot_plot.html')\n",
        "\n",
        "this_map"
      ],
      "metadata": {
        "id": "infr2_SQypZX"
      },
      "execution_count": null,
      "outputs": []
    },
    {
      "cell_type": "markdown",
      "source": [
        "## Get the floodplains"
      ],
      "metadata": {
        "id": "OQFYOLTB1Z7-"
      }
    },
    {
      "cell_type": "markdown",
      "source": [
        "Now we can get the floodplains. We need to write another driver file"
      ],
      "metadata": {
        "id": "lv5IY7wt1cyw"
      }
    },
    {
      "cell_type": "code",
      "source": [
        "# Open the file in write mode ('w')\n",
        "with open('run_03.driver', 'w') as f:\n",
        "    # Write multiple lines to the file\n",
        "    f.write(\"read fname: my_DEM\\n\")\n",
        "    f.write(\"write fname: my_DEM\\n\")\n",
        "    f.write(\"remove_seas: true\\n\")\n",
        "    f.write(\"CHeads_file: my_DEM_ATsources.csv\\n\")\n",
        "    f.write(\"fill_floodplain: false\\n\")\n",
        "\n",
        "\n",
        "!cat run_03.driver"
      ],
      "metadata": {
        "id": "2L1GThOKy4oB"
      },
      "execution_count": null,
      "outputs": []
    },
    {
      "cell_type": "markdown",
      "source": [
        "And now run the floodplain extraction. When I tested this, for some unkown reason it needed to be run twice."
      ],
      "metadata": {
        "id": "UVBO6sVb1zRW"
      }
    },
    {
      "cell_type": "code",
      "source": [
        "!lsdtt-valley-metrics run_03.driver"
      ],
      "metadata": {
        "id": "hX8PrZX01yFM"
      },
      "execution_count": null,
      "outputs": []
    },
    {
      "cell_type": "code",
      "source": [
        "!ls *valley*"
      ],
      "metadata": {
        "id": "80Bd8fli15-Y"
      },
      "execution_count": null,
      "outputs": []
    },
    {
      "cell_type": "code",
      "source": [
        "!lsdtt_plotbasicrasters -dir ./ -fname my_DEM -PD True -drape_fname my_DEM_valley -drape_cbar_label \"valley pixels\" -out_fname valley_drape"
      ],
      "metadata": {
        "id": "rQJeWxl_2TC6"
      },
      "execution_count": null,
      "outputs": []
    },
    {
      "cell_type": "markdown",
      "source": [
        "## Get a channel for terrace extraction and run it"
      ],
      "metadata": {
        "id": "u0pr6CK25o1S"
      }
    },
    {
      "cell_type": "markdown",
      "source": [
        "In the terrace code you can choose the channel along which you want to extract terraces. You need to give the start and end point, in latitude and longitude.\n",
        "\n",
        "This is ingested by the code as a csv, which you can write in a text editor. But I'm in python so I will write the file here:"
      ],
      "metadata": {
        "id": "LvRrfWK-8ZoP"
      }
    },
    {
      "cell_type": "code",
      "source": [
        "# Open the file in write mode ('w')\n",
        "with open('channel_start_end.csv', 'w') as f:\n",
        "    # Write multiple lines to the file\n",
        "    f.write(\"latitude,longitude\\n\")\n",
        "    f.write(\"36.23580231079953,-121.48777139483659\\n\")\n",
        "    f.write(\"36.28345309047785,-121.31396859423032\\n\")\n",
        "\n",
        "\n",
        "!cat channel_start_end.csv"
      ],
      "metadata": {
        "id": "Ert1sBF836R0"
      },
      "execution_count": null,
      "outputs": []
    },
    {
      "cell_type": "markdown",
      "source": [
        "Now we make the driver file that uses this channel to get the terraces:"
      ],
      "metadata": {
        "id": "wHXWvVKA9jB7"
      }
    },
    {
      "cell_type": "code",
      "source": [
        "# Open the file in write mode ('w')\n",
        "with open('run_04.driver', 'w') as f:\n",
        "    # Write multiple lines to the file\n",
        "    f.write(\"read fname: my_DEM\\n\")\n",
        "    f.write(\"write fname: my_DEM\\n\")\n",
        "    f.write(\"remove_seas: true\\n\")\n",
        "    f.write(\"CHeads_file: my_DEM_ATsources.csv\\n\")\n",
        "    f.write(\"fill_floodplain: false\\n\")\n",
        "    f.write(\"extract_single_channel: true\\n\")\n",
        "    f.write(\"channel_source_fname: channel_start_end.csv\\n\")\n",
        "    f.write(\"get_terraces: true\\n\")\n",
        "\n",
        "\n",
        "!cat run_04.driver"
      ],
      "metadata": {
        "id": "VJnndqVg6MsU"
      },
      "execution_count": null,
      "outputs": []
    },
    {
      "cell_type": "markdown",
      "source": [
        "Run the code (this will take a little while, it is quite computationally expensive):"
      ],
      "metadata": {
        "id": "lFzkmWus9nXW"
      }
    },
    {
      "cell_type": "code",
      "source": [
        "!lsdtt-valley-metrics run_04.driver"
      ],
      "metadata": {
        "id": "ZTQ5X3ed7IyY"
      },
      "execution_count": null,
      "outputs": []
    },
    {
      "cell_type": "markdown",
      "source": [
        "Again, you can plot the data by loading it into a GIS, or use one of the `lsdviztools` scripts."
      ],
      "metadata": {
        "id": "0ZNHtSfM9KoI"
      }
    },
    {
      "cell_type": "code",
      "source": [
        "!lsdtt_plotbasicrasters -dir ./ -fname my_DEM -PD True -drape_fname my_DEM_terraces -drape_cbar_label \"terrace pixels\" -out_fname terrace_drape"
      ],
      "metadata": {
        "id": "_LKJMiHB7Mt-"
      },
      "execution_count": null,
      "outputs": []
    }
  ]
}