{
  "nbformat": 4,
  "nbformat_minor": 0,
  "metadata": {
    "colab": {
      "provenance": [],
      "authorship_tag": "ABX9TyNhXd2Vx1o8KHI1+LR9Dr75",
      "include_colab_link": true
    },
    "kernelspec": {
      "name": "python3",
      "display_name": "Python 3"
    },
    "language_info": {
      "name": "python"
    }
  },
  "cells": [
    {
      "cell_type": "markdown",
      "metadata": {
        "id": "view-in-github",
        "colab_type": "text"
      },
      "source": [
        "<a href=\"https://colab.research.google.com/github/LSDtopotools/lsdtt_notebooks/blob/master/lsdtopotools/floodplain_and_terrace_examples/valley_width.ipynb\" target=\"_parent\"><img src=\"https://colab.research.google.com/assets/colab-badge.svg\" alt=\"Open In Colab\"/></a>"
      ]
    },
    {
      "cell_type": "markdown",
      "source": [
        "# Valley width calculation using LSDTopoTools\n",
        "\n",
        "*Written by Fiona J. Clubb, Durham University*\n",
        "\n",
        "This notebook allows you to calculate river valley width from a DEM using LSDTopoTools. If you use this notebook, please cite the following paper:\n",
        "\n",
        "Clubb, F. J., et al. (2022). Continuous measurements of valley floor width in mountainous landscapes. *Earth Surface Dynamics* 10(3): 437-456. https://doi.org/10.5194/esurf-10-437-2022\n",
        "\n",
        "This notebook is designed to be run in Google Colab. If you want to run it locally, you will need to install LSDTopoTools onto your system. You can do this using conda.\n",
        "\n",
        "To run this notebook you will need:\n",
        "* A DEM of your area of interest in GeoTiff format\n",
        "\n",
        "**We highly recommend that you save a copy of this notebook in your Google Drive before you start, so that you save any changes that you make as you go. To do that you can just click the button \"Copy to Drive\" in the menu bar near the top of the page.**\n",
        "\n",
        "-----------\n",
        "Changelog:\n",
        "\n",
        "15/03/2024: notebook created, FJC\n",
        "\n",
        "29/04/2024: added some more parameters for valley width extraction to include absolute thresholds, FJC\n",
        "\n",
        "15/07/2024: added option to print channel networks to CSV, FJC\n",
        "\n",
        "-----------"
      ],
      "metadata": {
        "id": "_HaTuHGYsubH"
      }
    },
    {
      "cell_type": "markdown",
      "source": [
        "## Install required packages\n",
        "\n",
        "The first step is to install and import the packages we need to run the notebook using the code blocks below:"
      ],
      "metadata": {
        "id": "JKPHO1aLDXqE"
      }
    },
    {
      "cell_type": "code",
      "source": [
        "!pip install rasterio &> /dev/null"
      ],
      "metadata": {
        "id": "Y2QsGLYQC6RZ"
      },
      "execution_count": null,
      "outputs": []
    },
    {
      "cell_type": "code",
      "source": [
        "# import packages\n",
        "import _pickle as pickle\n",
        "import rasterio as rio\n",
        "from rasterio.plot import plotting_extent\n",
        "import geopandas as gpd\n",
        "import matplotlib.pyplot as plt"
      ],
      "metadata": {
        "id": "TmhS2UP19fr8"
      },
      "execution_count": null,
      "outputs": []
    },
    {
      "cell_type": "markdown",
      "source": [
        "### Install LSDTopoTools\n",
        "The next step is to install `lsdtopotools`. The first line downloads the package and the second installs it. The `/dev/null` stuff is just to stop the notebook printing text to screen."
      ],
      "metadata": {
        "id": "J2kYBK_Ut5n2"
      }
    },
    {
      "cell_type": "code",
      "source": [
        "!wget https://pkgs.geos.ed.ac.uk/geos-jammy/pool/world/l/lsdtopotools2/lsdtopotools2_0.9-1geos~22.04.1_amd64.deb  &> /dev/null\n",
        "!apt install ./lsdtopotools2_0.9-1geos~22.04.1_amd64.deb  &> /dev/null"
      ],
      "metadata": {
        "id": "tTdUAmoluJZ3"
      },
      "execution_count": null,
      "outputs": []
    },
    {
      "cell_type": "markdown",
      "source": [
        "Now let's test whether we installed LSDTopoTools succesfully. If you get some output asking for a parameter file then `lsdtopotools` is installed. This notebook was tested on version 0.9."
      ],
      "metadata": {
        "id": "EvnJ7zKIuLSF"
      }
    },
    {
      "cell_type": "code",
      "source": [
        "!lsdtt-basic-metrics -v"
      ],
      "metadata": {
        "id": "FQ4CxJnDuKDt"
      },
      "execution_count": null,
      "outputs": []
    },
    {
      "cell_type": "markdown",
      "source": [
        "We also need the gdal tools to convert your DEM to a format suitable for LSDTopoTools:"
      ],
      "metadata": {
        "id": "vurhee8ZvfZk"
      }
    },
    {
      "cell_type": "code",
      "source": [
        "!apt install gdal-bin  &> /dev/null"
      ],
      "metadata": {
        "id": "TvGzFdkUuVA1"
      },
      "execution_count": null,
      "outputs": []
    },
    {
      "cell_type": "markdown",
      "source": [
        "## Upload your DEM to Google Colab\n",
        "\n",
        "The next step is to upload your DEM for your area of interest to Google Colab. To do this, click on the small folder icon on the left hand bar and then click `Upload to Session Storage`.\n",
        "\n",
        "Make sure you wait until the DEM is fully uploaded before running the cell below, or you will get an error!\n",
        "\n",
        "Your DEM should be in GeoTiff format and **needs to be in a UTM WGS84 coordinate system.**\n",
        "\n",
        "LSDTopoTools requires data in a slightly different format (ENVI bil). The following line uses gdal to convert your DEM into the ENVI bil format.\n",
        "\n",
        "--------\n",
        "\n",
        "**NOTE: Make sure you modify the variables \"DEM_name\" and \"res\" below to match the name of your GeoTiff file and the resolution of your DEM. In my example, I have uploaded a DEM called \"Hokitika_15m.tif\" which has a 15 m grid resolution.**\n",
        "\n",
        "________"
      ],
      "metadata": {
        "id": "q7NIyy_Yutdk"
      }
    },
    {
      "cell_type": "code",
      "source": [
        "DEM_name = 'Hokitika_15m'       # name of your DEM without the .tif extension\n",
        "res = 15                        # Your DEM resolution\n",
        "\n",
        "!gdalwarp -of ENVI -r cubic -dstnodata -9999 -tr {res} {res} {DEM_name}.tif {DEM_name}.bil"
      ],
      "metadata": {
        "id": "dCLXSYRnuu4N"
      },
      "execution_count": null,
      "outputs": []
    },
    {
      "cell_type": "markdown",
      "source": [
        "## Run the valley width code\n",
        "\n",
        "Now we can go ahead and run the valley width analysis! LSDTopoTools is run through the command line. You can decide what analyses you want LSDTopoTools to do by giving it a parameter file - you just need to set the various options in the parameter file accordingly.\n",
        "\n",
        "We can create a parameter file in Python by creating a dictionary with the parameters and values, and then writing this to a text file which will be read by LSDTopoTools."
      ],
      "metadata": {
        "id": "ccGg2HK1z8KJ"
      }
    },
    {
      "cell_type": "code",
      "source": [
        "# create the parameter dictionary\n",
        "param_dict = {\n",
        "    'read fname': DEM_name,                        # the name of your DEM (declared above)\n",
        "    'write fname': DEM_name,                       # code will write some other rasters - they will have a prefix matching your DEM name\n",
        "    'write_hillshade': 'true',                     # set to true if you want to print a hillshade of the DEM\n",
        "    'remove_seas': 'true',                         # replace elevations <=0 with nodata\n",
        "    'threshold_contributing_pixels': 1000,         # drainage area threshold for channel extraction (in number of pixels)\n",
        "    'print_channels_to_csv': 'true',               # set to true if you want to print out a CSV file of the channel network\n",
        "    'surface_fitting_radius': 30,                  # window radius used for calculating slope (in metres). Needs reducing for high-resolution DEMs\n",
        "    'use_absolute_thresholds': 'false',            # set this to true if you want to override the quantile-quantile approach for identifying the valley floor thresholds and instead set user-defined slope and relief thresholds\n",
        "    'relief_threshold': 50,                        # when use_absolute_thresholds is true this is the channel relief threshold below which you get a valley floor\n",
        "    'slope_threshold': 0.1,                        # when use_absolute_thresholds is true this is the slope threshold below which you get a valley floor\n",
        "    'fill_floodplain': 'true',                     # fill small holes in the floodplain using the OpenCV FloodFill algorithm\n",
        "    'extract_all_channels': 'true',                # set this to true if you want valley width for all channels in the DEM\n",
        "    'extract_longest_channel': 'false',            # set this to true if you want valley width for only the longest channel in the DEM\n",
        "    'get_valley_widths': 'true',                   # keep true to run valley width calculation\n",
        "    'width_node_spacing': 20,                      # spacing between channel nodes used to calculate flow direction for valley widths. A larger value will result in less variable width measurement directions\n",
        "    'valley_banks_search_radius': 100              # a half width used to search for the edges of the valley for width calculation. Large values increase computational cost.\n",
        "    }"
      ],
      "metadata": {
        "id": "oyZXT2Kkz9h7"
      },
      "execution_count": null,
      "outputs": []
    },
    {
      "cell_type": "code",
      "source": [
        "# write it to a text file\n",
        "strings = [ f'{key}: {param_dict[key]}' for key in param_dict]\n",
        "with open('LSDTT_valleys.param', 'w') as file:\n",
        "  [file.write(f'{st}\\n') for st in strings]"
      ],
      "metadata": {
        "id": "zW9W6nLA87Dv"
      },
      "execution_count": null,
      "outputs": []
    },
    {
      "cell_type": "markdown",
      "source": [
        "Now we have our parameter file, we can run the valley width analysis:"
      ],
      "metadata": {
        "id": "qsCJMUQ8-vsp"
      }
    },
    {
      "cell_type": "code",
      "source": [
        "!lsdtt-valley-metrics LSDTT_valleys.param"
      ],
      "metadata": {
        "id": "tTQalO4_9FB1"
      },
      "execution_count": null,
      "outputs": []
    },
    {
      "cell_type": "markdown",
      "source": [
        "We have now run our valley width analysis! If you look in the files list, you should see many new files have been produced. You can download these and load them into a GIS, or you can look at them directly in Python in the following code blocks."
      ],
      "metadata": {
        "id": "lIfpj069_jbT"
      }
    },
    {
      "cell_type": "markdown",
      "source": [
        "## Visualising the valley width results\n",
        "\n",
        "The main outputs of the valley width code are:\n",
        "\n",
        "1. A raster showing the calculated valley floor (DEM_name_valley.bil)\n",
        "2. A GeoJSON file with the valley width measurements (DEM_name_valley_width_network_orthogonal.geojson).\n",
        "\n",
        "The code block below the valley width measurements into Python using the `Geopandas` package and drapes them onto a hillshade, which is loaded using the `rasterio` package."
      ],
      "metadata": {
        "id": "uCga_gNE_yrP"
      }
    },
    {
      "cell_type": "code",
      "source": [
        "# read in the hillshaded DEM\n",
        "src = rio.open(DEM_name+'_hs.bil')\n",
        "crs = src.crs\n",
        "\n",
        "# read in the valley width data and convert to the same coordinate system as the DEM (UTM WGS84)\n",
        "vw = gpd.read_file(DEM_name+'_valley_width_network_orthogonal.geojson').to_crs(crs)"
      ],
      "metadata": {
        "id": "56EWQBDx-0k2"
      },
      "execution_count": null,
      "outputs": []
    },
    {
      "cell_type": "code",
      "source": [
        "print(vw.crs)"
      ],
      "metadata": {
        "id": "jU8E1hPWCJsw"
      },
      "execution_count": null,
      "outputs": []
    },
    {
      "cell_type": "code",
      "source": [
        "# set up the figure\n",
        "fig, ax = plt.subplots(nrows=1, ncols=1, figsize=(15,10))\n",
        "\n",
        "# plot the hillshade\n",
        "hs = src.read(1, masked=True)\n",
        "plt.imshow(hs, cmap='gray', extent=plotting_extent(src))\n",
        "\n",
        "# plot the valley width data\n",
        "vw.plot(ax=ax, edgecolors='darkblue')"
      ],
      "metadata": {
        "id": "p0dhKdkjASvk"
      },
      "execution_count": null,
      "outputs": []
    },
    {
      "cell_type": "markdown",
      "source": [
        "## Analysing the valley width results\n",
        "\n",
        "The GeoJSON file with the valley width data contains a lot of information about each valley width measurement. To see what it contains, you can have a look at the GeoDataFrame:"
      ],
      "metadata": {
        "id": "eqnrJ0IFDksa"
      }
    },
    {
      "cell_type": "code",
      "source": [
        "vw"
      ],
      "metadata": {
        "id": "peFMZfRxDsg-"
      },
      "execution_count": null,
      "outputs": []
    },
    {
      "cell_type": "markdown",
      "source": [
        "The columns should be fairly self explanatory: you should see we have information about the total valley width, drainage area, elevation, and distance from the outlet for each measurement. This allows us to plot how valley width varies with distance downstream as well as with drainage area. You can also plot the river long profiles with the same information.\n",
        "\n",
        "The `source_id` tells you which channel the measurements come from - we have measurements from every channel in the DEM. You can group the measurements by source ID to analyse each channel individually."
      ],
      "metadata": {
        "id": "B39NxM6tD4kk"
      }
    },
    {
      "cell_type": "markdown",
      "source": [
        "### Example: valley width vs. drainage area\n",
        "\n",
        "In this example, I first of all filter the GeoJSON to only take the main stem of the catchment by looking for the source ID with the farthest distance from the outlet.\n",
        "\n",
        "I then make a logarithmic plot of valley width against drainage area."
      ],
      "metadata": {
        "id": "MsVIfdAAEHhV"
      }
    },
    {
      "cell_type": "code",
      "source": [
        "# filter the GeoJSON by source ID\n",
        "gr = vw.groupby('source_id')['distance_from_outlet'].count().reset_index()\n",
        "main_stem_ID = gr['source_id'][gr['distance_from_outlet'].idxmax()]\n",
        "main_stem_vw = vw[vw.source_id == main_stem_ID]"
      ],
      "metadata": {
        "id": "v09bI7kYDtUp"
      },
      "execution_count": null,
      "outputs": []
    },
    {
      "cell_type": "code",
      "source": [
        "# plot valley width vs drainage area for the main stem\n",
        "plt.scatter(main_stem_vw.drainage_area, main_stem_vw.total_valley_width, c='grey', edgecolors='black')\n",
        "plt.xscale('log')\n",
        "plt.yscale('log')\n",
        "\n",
        "plt.xlabel('Drainage area (m$^2$)')\n",
        "plt.ylabel('Valley width (m)')"
      ],
      "metadata": {
        "id": "hG_vK6SgEkX9"
      },
      "execution_count": null,
      "outputs": []
    },
    {
      "cell_type": "code",
      "source": [],
      "metadata": {
        "id": "ICEzLrsMwfj0"
      },
      "execution_count": null,
      "outputs": []
    }
  ]
}