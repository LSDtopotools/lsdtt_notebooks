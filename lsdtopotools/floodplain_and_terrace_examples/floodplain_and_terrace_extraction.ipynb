{
 "cells": [
  {
   "cell_type": "markdown",
   "id": "442a02e1",
   "metadata": {},
   "source": [
    "# Floodplain and terrace extraction"
   ]
  },
  {
   "cell_type": "markdown",
   "id": "a3be74de",
   "metadata": {},
   "source": [
    "Notebook last updated by Simon M Mudd 09/05/2023"
   ]
  },
  {
   "cell_type": "markdown",
   "id": "f60e022f",
   "metadata": {},
   "source": [
    "In this notebook we will extract some terrace and floodplains using the method described in Clubb et al, ESURF, 2017 (https://esurf.copernicus.org/articles/5/369/2017/). "
   ]
  },
  {
   "cell_type": "markdown",
   "id": "QKy7_wKyMn9K",
   "metadata": {
    "id": "QKy7_wKyMn9K"
   },
   "source": [
    "## Stuff we need to do if you are in colab (not required in the lsdtopotools pytools container)"
   ]
  },
  {
   "cell_type": "markdown",
   "id": "UVnt20YbQgIN",
   "metadata": {
    "id": "UVnt20YbQgIN"
   },
   "source": [
    "**If you are in the `docker_lsdtt_pytools` docker container, you do not need to do any of this. \n",
    "The following is for executing this code in the google colab environment only.**\n",
    "\n",
    "If you are in the docker container you can skip to the **Add some necessary packages** section. "
   ]
  },
  {
   "cell_type": "markdown",
   "id": "Ck6Y73gLvbS8",
   "metadata": {
    "id": "Ck6Y73gLvbS8"
   },
   "source": [
    "First we install `lsdviztools`. This will take around a minute. It is important you do this before the `condacolab` step. "
   ]
  },
  {
   "cell_type": "code",
   "execution_count": null,
   "id": "Pj2pwsxkvbS8",
   "metadata": {
    "id": "Pj2pwsxkvbS8"
   },
   "outputs": [],
   "source": [
    "!pip install lsdviztools &> /dev/null"
   ]
  },
  {
   "cell_type": "markdown",
   "id": "Fq9UDKZrvbS8",
   "metadata": {
    "id": "Fq9UDKZrvbS8"
   },
   "source": [
    "Now we need to install lsdtopotools. We do this using something called `mamba`. To get `mamba` we install something called `condacolab`. "
   ]
  },
  {
   "cell_type": "code",
   "execution_count": null,
   "id": "ea215034",
   "metadata": {
    "id": "ea215034"
   },
   "outputs": [],
   "source": [
    "!pip install -q condacolab\n",
    "import condacolab\n",
    "condacolab.install()"
   ]
  },
  {
   "cell_type": "markdown",
   "id": "DXqY5s5T9bqL",
   "metadata": {
    "id": "DXqY5s5T9bqL"
   },
   "source": [
    "Alternatively we can do this by downloading the mamba installer directly, but this frequently leads to various coding conflicts becasue you need to keep the installer URL up to date. `condacolab` does all that for you so you don't need to worry about it. "
   ]
  },
  {
   "cell_type": "code",
   "execution_count": null,
   "id": "xhUkM9Q-9Cje",
   "metadata": {
    "id": "xhUkM9Q-9Cje"
   },
   "outputs": [],
   "source": [
    "#%%bash\n",
    "#MINICONDA_INSTALLER_SCRIPT=Mambaforge-Linux-x86_64.sh\n",
    "#MINICONDA_PREFIX=/usr/local\n",
    "#wget https://github.com/conda-forge/miniforge/releases/latest/download/Mambaforge-Linux-x86_64.sh &> /dev/null\n",
    "#chmod +x $MINICONDA_INSTALLER_SCRIPT\n",
    "#./$MINICONDA_INSTALLER_SCRIPT -b -f -p $MINICONDA_PREFIX &> /dev/null"
   ]
  },
  {
   "cell_type": "markdown",
   "id": "9b8c3e17",
   "metadata": {
    "id": "9b8c3e17"
   },
   "source": [
    "Now use mamba to install `lsdtopotools`. \n",
    "This step takes a bit over a minute. "
   ]
  },
  {
   "cell_type": "code",
   "execution_count": null,
   "id": "0568f44f",
   "metadata": {
    "id": "0568f44f"
   },
   "outputs": [],
   "source": [
    "!mamba install -y lsdtopotools &> /dev/null"
   ]
  },
  {
   "cell_type": "markdown",
   "id": "kNDf3rzQvJca",
   "metadata": {
    "id": "kNDf3rzQvJca"
   },
   "source": [
    "The next line tests to see if it worked. If you get some output asking for a parameter file then `lsdtopotools` is installed. This notebook was tested on version 0.8."
   ]
  },
  {
   "cell_type": "code",
   "execution_count": null,
   "id": "ee7ab7dc",
   "metadata": {
    "id": "ee7ab7dc"
   },
   "outputs": [],
   "source": [
    "!lsdtt-basic-metrics -v"
   ]
  },
  {
   "cell_type": "markdown",
   "id": "8664a9f5",
   "metadata": {
    "id": "8664a9f5"
   },
   "source": [
    "## Add some necessary packages"
   ]
  },
  {
   "cell_type": "markdown",
   "id": "5b2def68",
   "metadata": {},
   "source": [
    "First check the version of lsdviztools. **For this notebook we need lsdviztools >=0.4.9**"
   ]
  },
  {
   "cell_type": "code",
   "execution_count": null,
   "id": "cf4a5224",
   "metadata": {},
   "outputs": [],
   "source": [
    "import lsdviztools\n",
    "lsdviztools.__version__"
   ]
  },
  {
   "cell_type": "code",
   "execution_count": null,
   "id": "8fd137cd",
   "metadata": {
    "id": "8fd137cd"
   },
   "outputs": [],
   "source": [
    "import lsdviztools.lsdmapwrappers as lsdmw\n",
    "import lsdviztools.lsdbasemaptools as bmt\n",
    "from lsdviztools.lsdplottingtools import lsdmap_gdalio as gio"
   ]
  },
  {
   "cell_type": "markdown",
   "id": "a43953ef",
   "metadata": {},
   "source": [
    "You can also check the version of lsdtt. This notebook was made with version *0.8*"
   ]
  },
  {
   "cell_type": "code",
   "execution_count": null,
   "id": "139dba95",
   "metadata": {},
   "outputs": [],
   "source": [
    "!lsdtt-basic-metrics -v"
   ]
  },
  {
   "cell_type": "markdown",
   "id": "5cdc7643",
   "metadata": {
    "id": "5cdc7643"
   },
   "source": [
    "### Get the example data"
   ]
  },
  {
   "cell_type": "markdown",
   "id": "0d7cf8d1",
   "metadata": {
    "id": "0d7cf8d1"
   },
   "source": [
    "The example data is an 18 Mb topographic dataset which you need to download:"
   ]
  },
  {
   "cell_type": "code",
   "execution_count": null,
   "id": "24407b7a",
   "metadata": {
    "id": "24407b7a"
   },
   "outputs": [],
   "source": [
    "# Get the data from github\n",
    "import urllib\n",
    "urllib.request.urlretrieve(\"https://raw.githubusercontent.com/LSDtopotools/ExampleTopoDatasets/master/ChannelExtractionData/IndianCreek_1m/indian_creek.hdr\", \"indian_creek.hdr\")\n",
    "urllib.request.urlretrieve(\"https://raw.githubusercontent.com/LSDtopotools/ExampleTopoDatasets/master/ChannelExtractionData/IndianCreek_1m/indian_creek.bil\", \"indian_creek.bil\")"
   ]
  },
  {
   "cell_type": "markdown",
   "id": "bQyNMxOjAvD1",
   "metadata": {
    "id": "bQyNMxOjAvD1"
   },
   "source": [
    "Lets make sure that file (`indian_creek.bil` and its header) have been downloaded:"
   ]
  },
  {
   "cell_type": "code",
   "execution_count": null,
   "id": "AdzpxDbjA1Gz",
   "metadata": {
    "id": "AdzpxDbjA1Gz"
   },
   "outputs": [],
   "source": [
    "!ls indian_creek*"
   ]
  },
  {
   "cell_type": "markdown",
   "id": "b572e682",
   "metadata": {},
   "source": [
    "## Look at the topography"
   ]
  },
  {
   "cell_type": "markdown",
   "id": "1b11b05a",
   "metadata": {},
   "source": [
    "Lets start by looking at the topography:"
   ]
  },
  {
   "cell_type": "code",
   "execution_count": null,
   "id": "f1cbec81",
   "metadata": {},
   "outputs": [],
   "source": [
    "lsdtt_parameters = {\"write_hillshade\" : \"true\"}\n",
    "r_prefix = \"indian_creek\"\n",
    "w_prefix = \"indian_creek\"\n",
    "lsdtt_drive = lsdmw.lsdtt_driver(command_line_tool = \"lsdtt-basic-metrics\", \n",
    "                                 read_prefix = r_prefix,\n",
    "                                 write_prefix= w_prefix,\n",
    "                                 read_path = \"./\",\n",
    "                                 write_path = \"./\",\n",
    "                                 parameter_dictionary=lsdtt_parameters)\n",
    "lsdtt_drive.print_parameters()\n",
    "lsdtt_drive.run_lsdtt_command_line_tool()"
   ]
  },
  {
   "cell_type": "code",
   "execution_count": null,
   "id": "58d6fce2",
   "metadata": {},
   "outputs": [],
   "source": [
    "### Plot the hillshade\n",
    "%matplotlib inline\n",
    "Base_file = \"indian_creek\"\n",
    "DataDirectory = \"./\"\n",
    "this_img = lsdmw.SimpleHillshade(DataDirectory,Base_file,cmap=\"gist_earth\", save_fig=False, size_format=\"geomorphology\")"
   ]
  },
  {
   "cell_type": "markdown",
   "id": "f8428f38",
   "metadata": {},
   "source": [
    "We can get the channel sources using using `lsdtt-channel-extraction`. We will use the `print_wiener_channels` option. You also need to get the sources with the option `print_sources_to_csv`. This will take around a minute. "
   ]
  },
  {
   "cell_type": "code",
   "execution_count": null,
   "id": "94d266bf",
   "metadata": {},
   "outputs": [],
   "source": [
    "lsdtt_parameters = {\"print_wiener_channels\" : \"true\",\n",
    "                    \"print_sources_to_csv\" : \"true\"}\n",
    "r_prefix = \"indian_creek\"\n",
    "w_prefix = \"indian_creek\"\n",
    "lsdtt_drive = lsdmw.lsdtt_driver(command_line_tool = \"lsdtt-channel-extraction\", \n",
    "                                 read_prefix = r_prefix,\n",
    "                                 write_prefix= w_prefix,\n",
    "                                 read_path = \"./\",\n",
    "                                 write_path = \"./\",\n",
    "                                 parameter_dictionary=lsdtt_parameters)\n",
    "lsdtt_drive.print_parameters()\n",
    "lsdtt_drive.run_lsdtt_command_line_tool()"
   ]
  },
  {
   "cell_type": "markdown",
   "id": "6dfdbe6f",
   "metadata": {},
   "source": [
    "Right, now that that has finished, lets see what files we got:"
   ]
  },
  {
   "cell_type": "code",
   "execution_count": null,
   "id": "08f52d88",
   "metadata": {},
   "outputs": [],
   "source": [
    "!ls indian_creek*"
   ]
  },
  {
   "cell_type": "markdown",
   "id": "3c37b5b8",
   "metadata": {},
   "source": [
    "There are actually 2 files with sources here, one is `indian_creek_ATsources.csv` and the other is `indian_creek_Wsources.csv`. `AT` stands for *area threshold* (and is produced by default) and `W` is for wiener. "
   ]
  },
  {
   "cell_type": "markdown",
   "id": "adbf3ad9",
   "metadata": {},
   "source": [
    "## Look at the Sources using folium"
   ]
  },
  {
   "cell_type": "markdown",
   "id": "de6631c7",
   "metadata": {},
   "source": [
    "We can plot these sources on a folium map to compare them.\n",
    "Before we do that though, we need to load the two datasets with pandas"
   ]
  },
  {
   "cell_type": "code",
   "execution_count": null,
   "id": "72a0f50e",
   "metadata": {},
   "outputs": [],
   "source": [
    "import pandas as pd\n",
    "\n",
    "sources_AT_df = pd.read_csv(\"indian_creek_ATsources.csv\")\n",
    "sources_W_df = pd.read_csv(\"indian_creek_Wsources.csv\")"
   ]
  },
  {
   "cell_type": "code",
   "execution_count": null,
   "id": "cbaa9853",
   "metadata": {},
   "outputs": [],
   "source": [
    "# This is for the area threshold points\n",
    "\n",
    "import folium\n",
    "\n",
    "#create a map\n",
    "this_map = folium.Map(prefer_canvas=True, tiles='Stamen Terrain')\n",
    "\n",
    "def plotDot(point):\n",
    "    '''input: series that contains a numeric named latitude and a numeric named longitude\n",
    "    this function creates a CircleMarker and adds it to your this_map'''\n",
    "    folium.CircleMarker(location=[point.latitude, point.longitude],\n",
    "                        radius=2,\n",
    "                        weight=5).add_to(this_map)\n",
    "\n",
    "#use df.apply(,axis=1) to \"iterate\" through every row in your dataframe\n",
    "sources_AT_df.apply(plotDot, axis = 1)\n",
    "\n",
    "\n",
    "#Set the zoom to the maximum possible\n",
    "this_map.fit_bounds(this_map.get_bounds())\n",
    "\n",
    "#Save the map to an HTML file\n",
    "this_map.save('simple_dot_plot.html')\n",
    "\n",
    "this_map"
   ]
  },
  {
   "cell_type": "code",
   "execution_count": null,
   "id": "38b08d2e",
   "metadata": {
    "scrolled": true
   },
   "outputs": [],
   "source": [
    "# This is for the wiener points\n",
    "\n",
    "import folium\n",
    "\n",
    "#create a map\n",
    "this_map = folium.Map(prefer_canvas=True, tiles='Stamen Terrain')\n",
    "\n",
    "def plotDot(point):\n",
    "    '''input: series that contains a numeric named latitude and a numeric named longitude\n",
    "    this function creates a CircleMarker and adds it to your this_map'''\n",
    "    folium.CircleMarker(location=[point.latitude, point.longitude],\n",
    "                        radius=2,\n",
    "                        weight=5).add_to(this_map)\n",
    "\n",
    "#use df.apply(,axis=1) to \"iterate\" through every row in your dataframe\n",
    "sources_W_df.apply(plotDot, axis = 1)\n",
    "\n",
    "\n",
    "#Set the zoom to the maximum possible\n",
    "this_map.fit_bounds(this_map.get_bounds())\n",
    "\n",
    "#Save the map to an HTML file\n",
    "this_map.save('simple_dot_plot.html')\n",
    "\n",
    "this_map"
   ]
  },
  {
   "cell_type": "markdown",
   "id": "9884158a",
   "metadata": {},
   "source": [
    "You will notice that the Wiener sources appear at much more realistic locations on this map. If you want to use channel sources and are particular about the headwaters, you probably want to use this method (see https://agupubs.onlinelibrary.wiley.com/doi/full/10.1002/2013WR015167 and https://esurf.copernicus.org/articles/4/627/2016/).\n",
    "\n",
    "When looking for valleys and floodplains, however, you can set a minimum stream order so that the smallest channels are not captured. Even if the area threshold channel sources are not particularly accurate, the higher order streams will still be in reasonable locations. "
   ]
  },
  {
   "cell_type": "markdown",
   "id": "d0ce9e0f",
   "metadata": {},
   "source": [
    "## Plot the points using `lsdviztools`"
   ]
  },
  {
   "cell_type": "markdown",
   "id": "b6591349",
   "metadata": {},
   "source": [
    "We can also plot these points using one of the `lsdviztools` plotting routines:"
   ]
  },
  {
   "cell_type": "code",
   "execution_count": null,
   "id": "b21db757",
   "metadata": {},
   "outputs": [],
   "source": [
    "sources_W_df.head()"
   ]
  },
  {
   "cell_type": "code",
   "execution_count": null,
   "id": "22911944",
   "metadata": {},
   "outputs": [],
   "source": [
    "### Plot the channel sources\n",
    "import lsdviztools.lsdmapwrappers as lsdmw\n",
    "%matplotlib inline\n",
    "Base_file = \"indian_creek\"\n",
    "DataDirectory = \"./\"\n",
    "this_img = lsdmw.PrintPointsOverHillshade(DataDirectory,Base_file, column_for_plotting = \"drainage_area\", \n",
    "                                          scaled_data_in_log = True,\n",
    "                                          points_fname = \"indian_creek_Wsources.csv\", \n",
    "                                          scale_points = False, manual_size =10,\n",
    "                                          cmap=\"cubehelix\", save_fig=False, size_format=\"geomorphology\")"
   ]
  },
  {
   "cell_type": "markdown",
   "id": "73c264d5",
   "metadata": {},
   "source": [
    "## Now get some floodplains"
   ]
  },
  {
   "cell_type": "markdown",
   "id": "963d5d9b",
   "metadata": {},
   "source": [
    "We now compute the floodplain pixels. \n",
    "This might take a little while..."
   ]
  },
  {
   "cell_type": "code",
   "execution_count": null,
   "id": "e21c7b44",
   "metadata": {},
   "outputs": [],
   "source": [
    "lsdtt_parameters = {\"CHeads_file\" : \"indian_creek_Wsources.csv\",\n",
    "                    \"fill_floodplain\" : \"true\"}\n",
    "r_prefix = \"indian_creek\"\n",
    "w_prefix = \"indian_creek\"\n",
    "lsdtt_drive = lsdmw.lsdtt_driver(command_line_tool = \"lsdtt-valley-metrics\", \n",
    "                                 read_prefix = r_prefix,\n",
    "                                 write_prefix= w_prefix,\n",
    "                                 read_path = \"./\",\n",
    "                                 write_path = \"./\",\n",
    "                                 parameter_dictionary=lsdtt_parameters)\n",
    "lsdtt_drive.print_parameters()\n",
    "lsdtt_drive.run_lsdtt_command_line_tool()"
   ]
  },
  {
   "cell_type": "markdown",
   "id": "3cb05376",
   "metadata": {},
   "source": [
    "Now lets see what we have:"
   ]
  },
  {
   "cell_type": "code",
   "execution_count": null,
   "id": "22fedfb5",
   "metadata": {},
   "outputs": [],
   "source": [
    "!ls indian_creek*"
   ]
  },
  {
   "cell_type": "markdown",
   "id": "1ada872c",
   "metadata": {},
   "source": [
    "We can look at the resulting floodplain using the `SimpleDrape` option in `lsdviztools`.\n",
    "\n",
    "We are going to save the image to a `png` file and then load the image since you can control the width of the image. "
   ]
  },
  {
   "cell_type": "code",
   "execution_count": null,
   "id": "c3881b9c",
   "metadata": {},
   "outputs": [],
   "source": [
    "### Plot the valley mask\n",
    "Base_file = \"indian_creek\"\n",
    "Drape_prefix = r_prefix+\"_valley\"\n",
    "this_FP_img = lsdmw.SimpleDrape(DataDirectory,Base_file,Drape_prefix, cmap=\"Blues\", \n",
    "                                       cbar_loc = \"None\", colour_min_max = [0,1],\n",
    "                                       save_fig=True, size_format=\"ESURF\",dpi=600)"
   ]
  },
  {
   "cell_type": "code",
   "execution_count": null,
   "id": "9b354996",
   "metadata": {},
   "outputs": [],
   "source": [
    "print(this_FP_img)\n",
    "from IPython.display import display, Image\n",
    "display(Image(filename=this_FP_img, width=800))"
   ]
  },
  {
   "cell_type": "markdown",
   "id": "304a4e2d",
   "metadata": {},
   "source": [
    "## Now lets get some terraces"
   ]
  },
  {
   "cell_type": "markdown",
   "id": "93c71c88",
   "metadata": {},
   "source": [
    "THIS IS CURRENTLY NOT WORKING, SMM will try to fix soon"
   ]
  },
  {
   "cell_type": "markdown",
   "id": "88799860",
   "metadata": {},
   "source": [
    "We can now try to get some terraces. \n",
    "\n",
    "The terrace algorithm needs to work with a channel file, which you can get by picking sources or various otjher methods. In this example we use the valley width routine to get the longest channel and then get the terraces from there. "
   ]
  },
  {
   "cell_type": "code",
   "execution_count": null,
   "id": "cc43ed60",
   "metadata": {},
   "outputs": [],
   "source": [
    "lsdtt_parameters = {\"floodplain_raster\" : \"indian_creek_valley\",\n",
    "                    \"get_valley_centreline\" : \"true\",\n",
    "                    \"extract_single_channel\" : \"true\", \n",
    "                    \"channel_source_fname\" : \"channel_source.csv\",\n",
    "                    \"get_valley_widths\" : \"true\" }\n",
    "r_prefix = \"indian_creek\"\n",
    "w_prefix = \"indian_creek\"\n",
    "lsdtt_drive = lsdmw.lsdtt_driver(command_line_tool = \"lsdtt-valley-metrics\", \n",
    "                                 read_prefix = r_prefix,\n",
    "                                 write_prefix= w_prefix,\n",
    "                                 read_path = \"./\",\n",
    "                                 write_path = \"./\",\n",
    "                                 parameter_dictionary=lsdtt_parameters)\n",
    "lsdtt_drive.print_parameters()\n",
    "lsdtt_drive.run_lsdtt_command_line_tool()"
   ]
  },
  {
   "cell_type": "code",
   "execution_count": null,
   "id": "c637d4cc",
   "metadata": {},
   "outputs": [],
   "source": [
    "!lsdtt-valley-metrics Test_01.driver"
   ]
  },
  {
   "cell_type": "code",
   "execution_count": null,
   "id": "f3ac4af0",
   "metadata": {
    "scrolled": true
   },
   "outputs": [],
   "source": [
    "!ls indian_creek*"
   ]
  },
  {
   "cell_type": "markdown",
   "id": "c0cf9ad9",
   "metadata": {},
   "source": [
    "Lets see where that valley centreline is. "
   ]
  },
  {
   "cell_type": "code",
   "execution_count": null,
   "id": "73e7400a",
   "metadata": {},
   "outputs": [],
   "source": [
    "### Plot the valley centerline\n",
    "import lsdviztools.lsdmapwrappers as lsdmw\n",
    "%matplotlib inline\n",
    "points_fname = \"indian_creek_valley_centreline_nodes.csv\"\n",
    "Base_file = \"indian_creek\"\n",
    "DataDirectory = \"./\"\n",
    "this_img = lsdmw.PrintPointsOverHillshade(DataDirectory,Base_file, column_for_plotting = \"drainage_area\", \n",
    "                                          scaled_data_in_log = True,\n",
    "                                          points_fname = \"indian_creek_valley_centreline_nodes.csv\", \n",
    "                                          scale_points = False, manual_size =10,\n",
    "                                          cmap=\"cubehelix\", save_fig=False, size_format=\"geomorphology\")"
   ]
  },
  {
   "cell_type": "code",
   "execution_count": null,
   "id": "04f1a991",
   "metadata": {},
   "outputs": [],
   "source": [
    "lsdtt_parameters = {\"floodplain_raster\" : \"indian_creek_valley\",\n",
    "                    \"get_terraces\" : \"true\",\n",
    "                    \"use_valley_csv_for_terraces\" : \"true\", \n",
    "                    \"valley_points_csv\" : \"indian_creek_valley_centreline_nodes.csv\" }\n",
    "r_prefix = \"indian_creek\"\n",
    "w_prefix = \"indian_creek\"\n",
    "lsdtt_drive = lsdmw.lsdtt_driver(command_line_tool = \"lsdtt-valley-metrics\", \n",
    "                                 read_prefix = r_prefix,\n",
    "                                 write_prefix= w_prefix,\n",
    "                                 read_path = \"./\",\n",
    "                                 write_path = \"./\",\n",
    "                                 parameter_dictionary=lsdtt_parameters)\n",
    "lsdtt_drive.print_parameters()\n",
    "lsdtt_drive.run_lsdtt_command_line_tool()"
   ]
  },
  {
   "cell_type": "code",
   "execution_count": null,
   "id": "9fa5573e",
   "metadata": {},
   "outputs": [],
   "source": [
    "!ls indian_creek*"
   ]
  },
  {
   "cell_type": "code",
   "execution_count": null,
   "id": "e1ba6640",
   "metadata": {},
   "outputs": [],
   "source": [
    "### Plot some terraces \n",
    "Base_file = \"indian_creek\"\n",
    "Drape_prefix = r_prefix+\"_swath_channel_relief\"\n",
    "this_T_img = lsdmw.SimpleDrape(DataDirectory,Base_file,Drape_prefix, cmap=\"viridis\", \n",
    "                                       cbar_loc = \"None\", colour_min_max = [0,100],\n",
    "                                       save_fig=True, size_format=\"ESURF\",dpi=600)"
   ]
  },
  {
   "cell_type": "code",
   "execution_count": null,
   "id": "77041e2d",
   "metadata": {},
   "outputs": [],
   "source": [
    "print(this_T_img)\n",
    "from IPython.display import display, Image\n",
    "display(Image(filename=this_T_img, width=800))"
   ]
  },
  {
   "cell_type": "markdown",
   "id": "b73bc605",
   "metadata": {},
   "source": [
    "## Larger scale floodplains"
   ]
  },
  {
   "cell_type": "code",
   "execution_count": null,
   "id": "6da09f24",
   "metadata": {},
   "outputs": [],
   "source": [
    "import lsdviztools.lsdbasemaptools as bmt\n",
    "from lsdviztools.lsdplottingtools import lsdmap_gdalio as gio\n",
    "\n",
    "# YOU NEED TO PUT YOUR API KEY IN A FILE\n",
    "your_OT_api_key_file = \"my_OT_api_key.txt\"\n",
    "\n",
    "with open(your_OT_api_key_file, 'r') as file:\n",
    "    print(\"I am reading you OT API key from the file \"+your_OT_api_key_file)\n",
    "    api_key = file.read().rstrip()\n",
    "    print(\"Your api key starts with: \"+api_key[0:4])\n",
    "\n",
    "Dataset_prefix = \"Luliang\"\n",
    "source_name = \"COP30\"\n",
    "\n",
    "Xian_DEM = bmt.ot_scraper(source = source_name,\n",
    "                        lower_left_coordinates = [37.22492953703254, 110.55753854068179], \n",
    "                        upper_right_coordinates = [37.72405195691632, 111.29000638436042],\n",
    "                        prefix = Dataset_prefix, \n",
    "                        api_key_file = your_OT_api_key_file)\n",
    "Xian_DEM.print_parameters()\n",
    "Xian_DEM.download_pythonic()\n",
    "DataDirectory = \"./\"\n",
    "Fname = Dataset_prefix+\"_\"+source_name+\".tif\"\n",
    "gio.convert4lsdtt(DataDirectory,Fname)"
   ]
  },
  {
   "cell_type": "code",
   "execution_count": null,
   "id": "08d1df33",
   "metadata": {},
   "outputs": [],
   "source": [
    "# Import pandas library\n",
    "import pandas as pd\n",
    "\n",
    "data = [ [37.653322789440494, 111.16792841041398],\n",
    "         [37.218853877510476, 110.61421760001407]]\n",
    "\n",
    "# Create the pandas DataFrame\n",
    "df = pd.DataFrame(data, columns = ['latitude', 'longitude'])\n",
    "\n",
    "df.to_csv(\"coords_luliang.csv\",index=False)\n",
    "df.head()"
   ]
  },
  {
   "cell_type": "code",
   "execution_count": null,
   "id": "a615a70f",
   "metadata": {},
   "outputs": [],
   "source": [
    "lsdtt_parameters = {\"write_hillshade\" : \"true\",\n",
    "                    \"get_terraces\" : \"true\",\n",
    "                    \"surface_fitting_radius\" : \"90\", \n",
    "                    \"print_channels_to_csv\" : \"true\",\n",
    "                    \"remove_seas\" : \"true\",\n",
    "                    \"threshold_contributing_pixels\" : \"5000\",\n",
    "                    \"use_absolute_thresholds\" : \"true\",\n",
    "                    \"threshold_SO\" : \"2\",\n",
    "                    \"fill_floodplain\" : \"true\",\n",
    "                    \"extract_single_channel\" : \"true\",\n",
    "                    \"channel_source_fname\" : \"coords_luliang.csv\",\n",
    "                    \"relief_threshold\" : \"50\",\n",
    "                    \"slope_threshold\" : \"0.05\",\n",
    "                    \"minimum_terrace_height\" : \"5\",\n",
    "                    \"swath_width\" : \"2000\" }\n",
    "r_prefix = \"Luliang_COP30_UTM\"\n",
    "w_prefix = \"Luliang_COP30_UTM\"\n",
    "lsdtt_drive = lsdmw.lsdtt_driver(command_line_tool = \"lsdtt-valley-metrics\", \n",
    "                                 read_prefix = r_prefix,\n",
    "                                 write_prefix= w_prefix,\n",
    "                                 read_path = \"./\",\n",
    "                                 write_path = \"./\",\n",
    "                                 parameter_dictionary=lsdtt_parameters)\n",
    "lsdtt_drive.print_parameters()\n",
    "lsdtt_drive.run_lsdtt_command_line_tool()"
   ]
  },
  {
   "cell_type": "code",
   "execution_count": null,
   "id": "45b5a10f",
   "metadata": {},
   "outputs": [],
   "source": [
    "!ls Luliang*"
   ]
  },
  {
   "cell_type": "code",
   "execution_count": null,
   "id": "d9bf052e",
   "metadata": {},
   "outputs": [],
   "source": [
    "### Plot the topographic gradient  \n",
    "Base_file = \"Luliang_COP30_UTM\"\n",
    "Drape_prefix = Base_file+\"_valley\"\n",
    "this_T_img = lsdmw.SimpleDrape(DataDirectory,Base_file,Drape_prefix, cmap=\"Blues\", \n",
    "                                       cbar_loc = \"None\", colour_min_max = [0,1],\n",
    "                                       save_fig=True, size_format=\"ESURF\",dpi=600)"
   ]
  },
  {
   "cell_type": "code",
   "execution_count": null,
   "id": "21d9d510",
   "metadata": {},
   "outputs": [],
   "source": [
    "print(this_T_img)\n",
    "from IPython.display import display, Image\n",
    "display(Image(filename=this_T_img, width=800))"
   ]
  },
  {
   "cell_type": "code",
   "execution_count": null,
   "id": "2662ee9f",
   "metadata": {},
   "outputs": [],
   "source": [
    "%matplotlib inline\n",
    "Base_file = r_prefix\n",
    "this_img = lsdmw.SimpleHillshade(DataDirectory,Base_file,cmap=\"gist_earth\", save_fig=False, size_format=\"geomorphology\",dpi=500)"
   ]
  },
  {
   "cell_type": "code",
   "execution_count": null,
   "id": "491abd79",
   "metadata": {},
   "outputs": [],
   "source": [
    "### Plot the topographic gradient  \n",
    "Base_file = \"Luliang_COP30_UTM\"\n",
    "Drape_prefix = \"Luliang_COP30_UTM_valley\"\n",
    "this_FP_LL_img = lsdmw.SimpleDrape(DataDirectory,Base_file,Drape_prefix, cmap=\"Blues\", \n",
    "                                       cbar_loc = \"None\", colour_min_max = [0,1],\n",
    "                                       save_fig=True, size_format=\"ESURF\",dpi=600)"
   ]
  },
  {
   "cell_type": "code",
   "execution_count": null,
   "id": "efae7b32",
   "metadata": {},
   "outputs": [],
   "source": [
    "print(this_FP_LL_img)\n",
    "from IPython.display import display, Image\n",
    "display(Image(filename=this_FP_LL_img, width=800))"
   ]
  },
  {
   "cell_type": "code",
   "execution_count": null,
   "id": "c7407d0f",
   "metadata": {},
   "outputs": [],
   "source": [
    "### Plot the topographic gradient  \n",
    "Base_file = \"Luliang_COP30_UTM\"\n",
    "Drape_prefix = \"Luliang_COP30_UTM_swath_channel_relief\"\n",
    "this_SCR_LL_img = lsdmw.SimpleDrape(DataDirectory,Base_file,Drape_prefix, cmap=\"viridis\", \n",
    "                                       cbar_loc = \"None\", colour_min_max = [0,100],\n",
    "                                       save_fig=True, size_format=\"ESURF\",dpi=600)"
   ]
  },
  {
   "cell_type": "code",
   "execution_count": null,
   "id": "b0c7da04",
   "metadata": {},
   "outputs": [],
   "source": [
    "print(this_FP_LL_img)\n",
    "from IPython.display import display, Image\n",
    "display(Image(filename=this_FP_LL_img, width=800))"
   ]
  },
  {
   "cell_type": "code",
   "execution_count": null,
   "id": "e1bc7c51",
   "metadata": {},
   "outputs": [],
   "source": [
    "!ls *terrace*"
   ]
  },
  {
   "cell_type": "code",
   "execution_count": 1,
   "id": "23d40ef4",
   "metadata": {},
   "outputs": [
    {
     "name": "stdout",
     "output_type": "stream",
     "text": [
      "=========================================================\r\n",
      "|| Welcome to the LSDTopoTools basic metrics tool!     ||\r\n",
      "|| This program has a number of options for calculating||\r\n",
      "|| simple landscape metrics.                           ||\r\n",
      "|| This program was developed by Simon M. Mudd         ||\r\n",
      "||  at the University of Edinburgh                     ||\r\n",
      "=========================================================\r\n",
      "|| If you use these routines please cite:              ||\r\n",
      "|| http://doi.org/10.5281/zenodo.4577879               ||\r\n",
      "|| If you use the roughness routine please cite:       ||\r\n",
      "|| https://www.doi.org/10.5194/esurf-3-483-2015        ||\r\n",
      "=========================================================\r\n",
      "|| Documentation can be found at:                      ||\r\n",
      "|| https://lsdtopotools.github.io/LSDTT_documentation/ ||\r\n",
      "=========================================================\r\n",
      "|| This is LSDTopoTools2 version                       ||\r\n",
      "|| 0.8\r\n",
      "|| If the version number has a d at the end it is a    ||\r\n",
      "||  development version.                               ||\r\n",
      "=========================================================\r\n",
      "=========================================================\r\n",
      "|| You have called an LSDTopoTools program.            ||\r\n",
      "|| Prepare to explore topographic data!                ||\r\n",
      "|| You can find some examples of usage here:           ||\r\n",
      "|| https://github.com/LSDtopotools/lsdtt_notebooks     ||\r\n",
      "=========================================================\r\n",
      "I have one argument. I don't know if this is a directory path\r\n",
      "or a driver filename. I am going to assume it is a directory path\r\n",
      "if it containes the character . or /\r\n",
      "I am going to print a help file. There will be a .csv and a .html version. \r\n",
      "These files have README in the filename.\r\n",
      "Parsing the file\r\n",
      "Hello, I am going to parse your LSDTopoTools parameter file for you. \r\n",
      "The parameter filename is: ./cry_for_help.txt\r\n",
      "\r\n",
      "\r\n",
      "\r\n",
      "----------------------\r\n",
      "Parsing the file I/O\r\n",
      "I did not find a read path so I am assuming the file is in this current directory.\r\n",
      "The full read fname is:\r\n",
      " ./cry_for_help\r\n",
      "The full write fname is:\r\n",
      " ./cry_for_help\r\n",
      "===============================\r\n",
      "WARNING!!! This program requires georeferencing so only ENVI bil format\r\n",
      "Topographic data will be allowed!!\r\n",
      "This is not the same as ESRI bil. In gdal use -of ENVI to ouput to ENVI bil\r\n",
      "===============================\r\n",
      "I am going to print the help and exit.\r\n",
      "You can find the help in the file:\r\n",
      "./lsdtt-basic-metrics-README.csv\r\n",
      "Printing the help files to: \r\n",
      "./lsdtt-basic-metrics-README.csv\r\n",
      "./lsdtt-basic-metrics-README.html\r\n"
     ]
    }
   ],
   "source": [
    "!lsdtt-basic-metrics -h"
   ]
  },
  {
   "cell_type": "code",
   "execution_count": null,
   "id": "77505b78",
   "metadata": {},
   "outputs": [],
   "source": []
  }
 ],
 "metadata": {
  "kernelspec": {
   "display_name": "Python 3 (ipykernel)",
   "language": "python",
   "name": "python3"
  },
  "language_info": {
   "codemirror_mode": {
    "name": "ipython",
    "version": 3
   },
   "file_extension": ".py",
   "mimetype": "text/x-python",
   "name": "python",
   "nbconvert_exporter": "python",
   "pygments_lexer": "ipython3",
   "version": "3.9.16"
  }
 },
 "nbformat": 4,
 "nbformat_minor": 5
}
