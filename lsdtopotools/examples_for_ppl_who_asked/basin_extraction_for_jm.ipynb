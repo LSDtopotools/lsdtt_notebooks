{
  "nbformat": 4,
  "nbformat_minor": 0,
  "metadata": {
    "colab": {
      "provenance": []
    },
    "kernelspec": {
      "name": "python3",
      "display_name": "Python 3"
    },
    "language_info": {
      "name": "python"
    }
  },
  "cells": [
    {
      "cell_type": "markdown",
      "source": [
        "# Cascade river basin extraction test: colab version"
      ],
      "metadata": {
        "id": "NB0kghs2qKeb"
      }
    },
    {
      "cell_type": "markdown",
      "source": [
        "Prepared by Simon M Mudd, 20-Sept-2024"
      ],
      "metadata": {
        "id": "kM1sSv7OqPTz"
      }
    },
    {
      "cell_type": "markdown",
      "metadata": {
        "id": "QKy7_wKyMn9K"
      },
      "source": [
        "## Get lsdtopotools and lsdviztools"
      ]
    },
    {
      "cell_type": "markdown",
      "source": [
        "This installs lsdtopotools and lsdviztools in google colab.\n",
        "`lsdtopotools` command line is installed from the university of edinburgh's debian server.\n",
        "\n",
        "`lsdviztools` is installed via `pip`\n",
        "\n",
        "This will take around 25 seconds."
      ],
      "metadata": {
        "id": "zOXdP-wIDGcc"
      }
    },
    {
      "cell_type": "code",
      "source": [
        "!wget https://pkgs.geos.ed.ac.uk/geos-jammy/pool/world/l/lsdtopotools2/lsdtopotools2_0.9-1geos~22.04.1_amd64.deb  &> /dev/null\n",
        "!apt install ./lsdtopotools2_0.9-1geos~22.04.1_amd64.deb  &> /dev/null"
      ],
      "metadata": {
        "id": "VbYEjLvZR4VY"
      },
      "execution_count": null,
      "outputs": []
    },
    {
      "cell_type": "code",
      "execution_count": null,
      "metadata": {
        "id": "Pj2pwsxkvbS8"
      },
      "outputs": [],
      "source": [
        "!pip install lsdviztools &> /dev/null"
      ]
    },
    {
      "cell_type": "markdown",
      "source": [
        "Check the versions.\n",
        "This notebook was written with lsdviztools 0.4.12\n",
        "and lsdtopotools version 0.9"
      ],
      "metadata": {
        "id": "kArW7OWdx4mg"
      }
    },
    {
      "cell_type": "code",
      "source": [
        "import lsdviztools\n",
        "lsdviztools.__version__"
      ],
      "metadata": {
        "id": "1jmOS2HoyBOb"
      },
      "execution_count": null,
      "outputs": []
    },
    {
      "cell_type": "code",
      "source": [
        "!lsdtt-basic-metrics -v"
      ],
      "metadata": {
        "id": "57fMrJxCx0XA"
      },
      "execution_count": null,
      "outputs": []
    },
    {
      "cell_type": "markdown",
      "source": [
        "## Get gdal command line tools"
      ],
      "metadata": {
        "id": "vF4tS0b50SPA"
      }
    },
    {
      "cell_type": "markdown",
      "source": [
        "We might need some gdal command line tools. This is used for raster manipulation. Installation will take maybe 10 seconds."
      ],
      "metadata": {
        "id": "Fv7-Hhl70lQW"
      }
    },
    {
      "cell_type": "code",
      "source": [
        "!apt install gdal-bin &> /dev/null\n",
        "\n",
        "!gdalinfo --version"
      ],
      "metadata": {
        "id": "faJEkr3H0V31"
      },
      "execution_count": null,
      "outputs": []
    },
    {
      "cell_type": "markdown",
      "source": [
        "## Mount your DEM from google drive"
      ],
      "metadata": {
        "id": "OV8T4lAaqsdj"
      }
    },
    {
      "cell_type": "markdown",
      "source": [
        "You will need to mount your DEM from google drive. Note that uploading the DEM directly into google colab (i.e., by dragging and dropping the file into the file system in a colab window) will take *forever*. So the recommended approach is to upload the DEM and driver file into a file folder in google drive and then mount it.\n",
        "\n",
        "*Note: you will need to give google colab permission to do this on your drive.*"
      ],
      "metadata": {
        "id": "ru94hC2Uqwk6"
      }
    },
    {
      "cell_type": "code",
      "execution_count": null,
      "metadata": {
        "id": "RWSJpsyKqHjH"
      },
      "outputs": [],
      "source": [
        "from google.colab import drive\n",
        "drive.mount('/content/drive/')"
      ]
    },
    {
      "cell_type": "markdown",
      "source": [
        "### Navigate to the directory where you keep the data."
      ],
      "metadata": {
        "id": "T3FbIsDkvtFn"
      }
    },
    {
      "cell_type": "markdown",
      "source": [
        "You will need to modify the path below for your own data.\n",
        "Note that the first three subdirectories on a google drive will always be `/content/drive/MyDrive/`"
      ],
      "metadata": {
        "id": "Kq6IrspowpA4"
      }
    },
    {
      "cell_type": "code",
      "source": [
        "%cd /content/drive/MyDrive/DEM_data/marggraf/"
      ],
      "metadata": {
        "id": "jKCjgXQfwICJ"
      },
      "execution_count": null,
      "outputs": []
    },
    {
      "cell_type": "markdown",
      "source": [
        "Lets just make sure this works by checking the working directory and the files:\n",
        "\n",
        "You should see the DEM and your driver file."
      ],
      "metadata": {
        "id": "bsVy0ii-w60a"
      }
    },
    {
      "cell_type": "code",
      "source": [
        "!pwd\n",
        "!ls"
      ],
      "metadata": {
        "id": "W0j71ZiawTQp"
      },
      "execution_count": null,
      "outputs": []
    },
    {
      "cell_type": "markdown",
      "source": [
        "### Deal with a USGS `.tar.gz` file"
      ],
      "metadata": {
        "id": "qQS5fyQJf389"
      }
    },
    {
      "cell_type": "markdown",
      "source": [
        "You might get your raster from opentopography, which delivers rasters in `.tar.gz` format. This is how you deal with that:"
      ],
      "metadata": {
        "id": "6CYFCh5Tf9uV"
      }
    },
    {
      "cell_type": "code",
      "source": [
        "!ls *.gz"
      ],
      "metadata": {
        "id": "LsVtRN3ggSUE"
      },
      "execution_count": null,
      "outputs": []
    },
    {
      "cell_type": "code",
      "source": [
        "!tar -xzf rasters_USGS10m.tar.gz"
      ],
      "metadata": {
        "id": "Db7RM7Z2gTmt"
      },
      "execution_count": null,
      "outputs": []
    },
    {
      "cell_type": "code",
      "source": [
        "!ls *.tif"
      ],
      "metadata": {
        "id": "3PFlZFmcgiml"
      },
      "execution_count": null,
      "outputs": []
    },
    {
      "cell_type": "markdown",
      "source": [],
      "metadata": {
        "id": "5iEdr8Zkgf73"
      }
    },
    {
      "cell_type": "code",
      "source": [
        "!gdalwarp -t_srs '+proj=utm +zone=15 +north +datum=WGS84' -of ENVI -r cubic -tr 10 10 output_USGS10m.tif CR_USGS.bil"
      ],
      "metadata": {
        "id": "4OnqcB5Rgdg_"
      },
      "execution_count": null,
      "outputs": []
    },
    {
      "cell_type": "markdown",
      "source": [
        "### Check your files for georeferencing"
      ],
      "metadata": {
        "id": "t3Nz4_Hb15jf"
      }
    },
    {
      "cell_type": "markdown",
      "source": [
        "Your DEM *must* be in UTM using the WGS84 base CRS.\n",
        "The EPSG code there *MUST* start with three digits that are either 326 or 327\n",
        "If your EPSG code does not start with these digits *THE ANALYSIS WILL FAIL*\n",
        "\n",
        "You can check the EPSG code like this (note you need to reflect your filename):"
      ],
      "metadata": {
        "id": "AOWowW8E19SK"
      }
    },
    {
      "cell_type": "code",
      "source": [
        "!gdalsrsinfo -e CascadeRiver_DEM.bil"
      ],
      "metadata": {
        "id": "qDYFOr7N2tKY"
      },
      "execution_count": null,
      "outputs": []
    },
    {
      "cell_type": "markdown",
      "source": [
        "### Convert DEM using gdal if necessary"
      ],
      "metadata": {
        "id": "rqQKPqWB22uQ"
      }
    },
    {
      "cell_type": "markdown",
      "source": [
        "Use this command to convert a .tif file if necessary. You will need to change the filename, the UTM zone, and the resampling (`-tr`) to match the grid spacing of your raster."
      ],
      "metadata": {
        "id": "JX1CNwbe3FoF"
      }
    },
    {
      "cell_type": "code",
      "source": [
        "!gdalwarp -t_srs '+proj=utm +zone=15 +north +datum=WGS84' -of ENVI -r cubic -tr 10 10 CascadeRiver_DEM.tif CR.bil"
      ],
      "metadata": {
        "id": "XsEt5A_K3J-t"
      },
      "execution_count": null,
      "outputs": []
    },
    {
      "cell_type": "markdown",
      "source": [
        "## Just extract channels to see if there will be problems with the basin"
      ],
      "metadata": {
        "id": "-ogk54juOchS"
      }
    },
    {
      "cell_type": "code",
      "source": [
        "!lsdtt-basic-metrics channels_USGS.driver"
      ],
      "metadata": {
        "id": "pwX_yUNOhAZV"
      },
      "execution_count": null,
      "outputs": []
    },
    {
      "cell_type": "markdown",
      "source": [
        "Now plot the hillshade and the channels"
      ],
      "metadata": {
        "id": "soiti4bkhOY2"
      }
    },
    {
      "cell_type": "code",
      "source": [
        "!ls"
      ],
      "metadata": {
        "id": "HewL1XhsiCvg"
      },
      "execution_count": null,
      "outputs": []
    },
    {
      "cell_type": "code",
      "source": [
        "### Plot points the hillshade\n",
        "import lsdviztools.lsdmapwrappers as lsdmw\n",
        "%matplotlib inline\n",
        "Base_file = \"CR_USGS\"\n",
        "DataDirectory = \"./\"\n",
        "this_img = lsdmw.PrintPointsOverHillshade(DataDirectory,Base_file, column_for_plotting = \"Stream Order\",\n",
        "                                          points_fname = \"CR_USGS_CN.csv\",\n",
        "                                          scale_points = False, column_for_scaling = \"Stream Order\",\n",
        "                                          scaled_data_in_log = True, max_point_size = 20, min_point_size = 2,\n",
        "                                          cmap=\"Blues\", save_fig=True, size_format=\"geomorphology\")"
      ],
      "metadata": {
        "id": "c8Dh8PvrhaTp"
      },
      "execution_count": null,
      "outputs": []
    },
    {
      "cell_type": "code",
      "source": [
        "from IPython.display import display, Image\n",
        "display(Image(filename=this_img, width=800))"
      ],
      "metadata": {
        "id": "SPllPRonhoKd"
      },
      "execution_count": null,
      "outputs": []
    },
    {
      "cell_type": "markdown",
      "source": [
        "## Now lets get a basin"
      ],
      "metadata": {
        "id": "MCWg3caAxRza"
      }
    },
    {
      "cell_type": "markdown",
      "source": [
        "We run the analysis with a call to `lsdtt-basic-metrics`\n",
        "\n",
        "You will need to make sure the name of the driver file is correct for your example.\n",
        "\n",
        "I have also placed the outlet file in my drive for this example."
      ],
      "metadata": {
        "id": "93PUWsiOxUTL"
      }
    },
    {
      "cell_type": "code",
      "source": [
        "!ls"
      ],
      "metadata": {
        "id": "zxW36drVLJbn"
      },
      "execution_count": null,
      "outputs": []
    },
    {
      "cell_type": "markdown",
      "source": [
        "Just get the channels here. This will"
      ],
      "metadata": {
        "id": "UMSSYHaGOYRB"
      }
    },
    {
      "cell_type": "code",
      "source": [
        "!lsdtt-basic-metrics basin_USGS.driver"
      ],
      "metadata": {
        "id": "PUZ8Dl8_u0hf"
      },
      "execution_count": null,
      "outputs": []
    },
    {
      "cell_type": "markdown",
      "source": [
        "## Look at the outputs"
      ],
      "metadata": {
        "id": "5YuKIVeV3zRb"
      }
    },
    {
      "cell_type": "markdown",
      "source": [
        "Now plot the basin"
      ],
      "metadata": {
        "id": "L4iYG4paMgnL"
      }
    },
    {
      "cell_type": "code",
      "execution_count": null,
      "metadata": {
        "id": "b977fa23",
        "scrolled": true
      },
      "outputs": [],
      "source": [
        "#import lsdviztools.lsdmapwrappers as lsdmw\n",
        "r_prefix = \"CR_USGS\"\n",
        "Base_file = r_prefix\n",
        "\n",
        "#%%capture\n",
        "basins_img = lsdmw.PrintBasins_Complex(DataDirectory,Base_file,cmap=\"gist_earth\",\n",
        "                             size_format=\"geomorphology\",dpi=400, save_fig = True,\n",
        "                             out_fname_prefix = \"basins_plot\")"
      ]
    },
    {
      "cell_type": "code",
      "execution_count": null,
      "metadata": {
        "id": "62c2ede4"
      },
      "outputs": [],
      "source": [
        "print(basins_img)\n",
        "from IPython.display import display, Image\n",
        "display(Image(filename=basins_img, width=800))"
      ]
    },
    {
      "cell_type": "code",
      "source": [
        "!ls *.csv"
      ],
      "metadata": {
        "id": "jRqWQsNMlRCR"
      },
      "execution_count": null,
      "outputs": []
    },
    {
      "cell_type": "markdown",
      "source": [
        "Lets see the columns in the chi data map"
      ],
      "metadata": {
        "id": "Q164Gmd1lWgq"
      }
    },
    {
      "cell_type": "code",
      "source": [
        "import pandas as pd\n",
        "df = pd.read_csv(\"CR_USGS_chi_data_map.csv\")\n",
        "df.columns"
      ],
      "metadata": {
        "id": "H4xJk0g-lVtZ"
      },
      "execution_count": null,
      "outputs": []
    },
    {
      "cell_type": "markdown",
      "source": [
        "And plot the channel in the basin"
      ],
      "metadata": {
        "id": "UveKUJeIktf9"
      }
    },
    {
      "cell_type": "code",
      "source": [
        "### Plot points the hillshade\n",
        "import lsdviztools.lsdmapwrappers as lsdmw\n",
        "%matplotlib inline\n",
        "Base_file = \"CR_USGS\"\n",
        "DataDirectory = \"./\"\n",
        "this_img = lsdmw.PrintPointsOverHillshade(DataDirectory,Base_file, column_for_plotting = \"chi\",\n",
        "                                          points_fname = \"CR_USGS_chi_data_map.csv\",\n",
        "                                          scale_points = True, column_for_scaling = \"drainage_area\",\n",
        "                                          scaled_data_in_log = True, max_point_size = 20, min_point_size = 2,\n",
        "                                          cmap=\"Blues\", save_fig=True, size_format=\"geomorphology\")"
      ],
      "metadata": {
        "id": "u2lPLcBdlPJj"
      },
      "execution_count": null,
      "outputs": []
    },
    {
      "cell_type": "code",
      "source": [
        "from IPython.display import display, Image\n",
        "display(Image(filename=this_img, width=800))"
      ],
      "metadata": {
        "id": "3Ftax4v4ll3X"
      },
      "execution_count": null,
      "outputs": []
    },
    {
      "cell_type": "code",
      "source": [],
      "metadata": {
        "id": "fDXQlgtUlrEv"
      },
      "execution_count": null,
      "outputs": []
    }
  ]
}