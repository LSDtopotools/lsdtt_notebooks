{
  "cells": [
    {
      "cell_type": "markdown",
      "metadata": {
        "id": "view-in-github",
        "colab_type": "text"
      },
      "source": [
        "<a href=\"https://colab.research.google.com/github/LSDtopotools/lsdtt_notebooks/blob/master/lsdtopotools/examples_for_ppl_who_asked/Dadu_river.ipynb\" target=\"_parent\"><img src=\"https://colab.research.google.com/assets/colab-badge.svg\" alt=\"Open In Colab\"/></a>"
      ]
    },
    {
      "cell_type": "markdown",
      "metadata": {
        "id": "voa_vxsd3Y39"
      },
      "source": [
        "# Dadu river"
      ]
    },
    {
      "cell_type": "markdown",
      "metadata": {
        "id": "gMS65vNo3bbo"
      },
      "source": [
        "Some preliminary analyses by SMM 01-Oct-2024"
      ]
    },
    {
      "cell_type": "markdown",
      "metadata": {
        "id": "QKy7_wKyMn9K"
      },
      "source": [
        "## Stuff we need to do if you are in colab (not required notable or in the lsdtopotools pytools container)"
      ]
    },
    {
      "cell_type": "markdown",
      "metadata": {
        "id": "zOXdP-wIDGcc"
      },
      "source": [
        "The assumption for these notebooks is that you are working in a notable container.\n",
        "\n",
        "So these steps are turned into comments using a `#` symbol before each line.\n",
        "\n",
        "If you want to work on google colab you will need to delete the `#` symbols"
      ]
    },
    {
      "cell_type": "code",
      "execution_count": null,
      "metadata": {
        "id": "VbYEjLvZR4VY"
      },
      "outputs": [],
      "source": [
        "!wget https://pkgs.geos.ed.ac.uk/geos-jammy/pool/world/l/lsdtopotools2/lsdtopotools2_0.9-1geos~22.04.1_amd64.deb  &> /dev/null\n",
        "!apt install ./lsdtopotools2_0.9-1geos~22.04.1_amd64.deb  &> /dev/null"
      ]
    },
    {
      "cell_type": "code",
      "execution_count": null,
      "metadata": {
        "id": "Pj2pwsxkvbS8"
      },
      "outputs": [],
      "source": [
        "!pip install lsdviztools &> /dev/null"
      ]
    },
    {
      "cell_type": "markdown",
      "metadata": {
        "id": "qMerIR8pCxuS"
      },
      "source": [
        "## Part 1: Get data"
      ]
    },
    {
      "cell_type": "markdown",
      "metadata": {
        "id": "XGJBcVEhD8sh"
      },
      "source": [
        "**First step, copy your Opentopography API key into a text file called \"my_OT_api_key.txt\" and make sure it is in the same file system as this notebook.**\n",
        "\n",
        "If you don't know how to do that got to the `basic_topography` section and read lesson 1."
      ]
    },
    {
      "cell_type": "markdown",
      "metadata": {
        "id": "uI4CagdBDbo7"
      },
      "source": [
        "Make sure we are using the latest version of `lsdviztools`"
      ]
    },
    {
      "cell_type": "code",
      "execution_count": null,
      "metadata": {
        "id": "d9123dd4"
      },
      "outputs": [],
      "source": [
        "!pip install lsdviztools --upgrade"
      ]
    },
    {
      "cell_type": "markdown",
      "metadata": {
        "id": "a7e892dd"
      },
      "source": [
        "Double check that the version is correct. For this lesson we need version 0.4.11 or above."
      ]
    },
    {
      "cell_type": "code",
      "execution_count": null,
      "metadata": {
        "id": "904606d4"
      },
      "outputs": [],
      "source": [
        "import lsdviztools\n",
        "lsdviztools.__version__"
      ]
    },
    {
      "cell_type": "markdown",
      "metadata": {
        "id": "FBGL62W-D0um"
      },
      "source": [
        "We also need to import some stuff"
      ]
    },
    {
      "cell_type": "code",
      "execution_count": null,
      "metadata": {
        "id": "d8b43e5f"
      },
      "outputs": [],
      "source": [
        "import lsdviztools.lsdbasemaptools as bmt\n",
        "import rasterio as rio\n",
        "import matplotlib.pyplot as plt\n",
        "import numpy as np\n",
        "from lsdviztools.lsdplottingtools import lsdmap_gdalio as gio\n"
      ]
    },
    {
      "cell_type": "markdown",
      "metadata": {
        "id": "7LAJCUSAEVro"
      },
      "source": [
        "**Next step: make sure the filename of your API key matches the one below.** Filenames are case sensitive. So if your file is \"my_OT_API_key.txt\" this will not work in the code block below (because api needs to be lower case).\n",
        "\n",
        "**Then update the latitude and longitude of the lower left and upper right corner of your study area. You can get a latitude and longitude by right clicking on google maps.**"
      ]
    },
    {
      "cell_type": "markdown",
      "metadata": {
        "id": "2K6UbFIaVJAc"
      },
      "source": [
        "### Edit code block below for your site!\n",
        "\n",
        "* change latitude and longitude of your `lower_left` and `upper_right` corners.\n",
        "* Make sure your api filename is correct.\n",
        "\n"
      ]
    },
    {
      "cell_type": "code",
      "execution_count": null,
      "metadata": {
        "id": "HGOdFkadDaxO"
      },
      "outputs": [],
      "source": [
        "from lsdviztools.lsdplottingtools import lsdmap_gdalio as gio\n",
        "import lsdviztools.lsdbasemaptools as bmt\n",
        "\n",
        "lower_left = [29.12163383683611, 101.13511739534259]\n",
        "upper_right = [31.486686128894064, 102.31250441727097]\n",
        "\n",
        "# YOU NEED TO PUT YOUR API KEY IN A FILE\n",
        "your_OT_api_key_file = \"my_OT_api_key.txt\"\n",
        "\n",
        "with open(your_OT_api_key_file, 'r') as file:\n",
        "    print(\"I am reading you OT API key from the file \"+your_OT_api_key_file)\n",
        "    api_key = file.read().rstrip()\n",
        "    print(\"Your api key starts with: \"+api_key[0:4])\n",
        "\n",
        "Dataset_prefix = \"DEM\"\n",
        "source_name = \"AW3D30\"\n",
        "\n",
        "\n",
        "My_DEM = bmt.ot_scraper(source = source_name,\n",
        "                        lower_left_coordinates = lower_left,\n",
        "                        upper_right_coordinates = upper_right,\n",
        "                        prefix = Dataset_prefix,\n",
        "                        api_key_file = your_OT_api_key_file)\n",
        "My_DEM.print_parameters()\n",
        "My_DEM.download_pythonic()\n",
        "\n",
        "DataDirectory = \"./\"\n",
        "Fname = Dataset_prefix+\"_\"+source_name+\".tif\"\n",
        "gio.convert4lsdtt(DataDirectory,Fname)"
      ]
    },
    {
      "cell_type": "markdown",
      "metadata": {
        "id": "Db7dEWjiXEzu"
      },
      "source": [
        "**Important**: you should always cite your data source. For this data, you should cite:\n",
        "\n",
        "*Japan Aerospace Exploration Agency (2021). ALOS World 3D 30 meter DEM. V3.2, Jan 2021. Distributed by OpenTopography. https://doi.org/10.5069/G94M92HB. Accessed: 2024-10-016*"
      ]
    },
    {
      "cell_type": "markdown",
      "metadata": {
        "id": "LWj3VLXvE3gI"
      },
      "source": [
        "## Part 2: Get a hillshade: **you have to do this for the rest of the plotting to work**"
      ]
    },
    {
      "cell_type": "markdown",
      "metadata": {
        "id": "7Lo0wNVZE9bD"
      },
      "source": [
        "We are going to get a hillshade since this is used in all of the plotting routines in `lsdviztools`.\n",
        "\n",
        "*You only need to execute this code, you don't need to change anything!*"
      ]
    },
    {
      "cell_type": "code",
      "execution_count": null,
      "metadata": {
        "id": "O0V8ZCrTE8yD"
      },
      "outputs": [],
      "source": [
        "import lsdviztools.lsdmapwrappers as lsdmw\n",
        "\n",
        "## Get the basins\n",
        "lsdtt_parameters = {\"write_hillshade\" : \"true\"}\n",
        "r_prefix = Dataset_prefix+\"_\"+source_name +\"_UTM\"\n",
        "w_prefix = Dataset_prefix+\"_\"+source_name +\"_UTM\"\n",
        "lsdtt_drive = lsdmw.lsdtt_driver(command_line_tool = \"lsdtt-basic-metrics\",\n",
        "                                 read_prefix = r_prefix,\n",
        "                                 write_prefix= w_prefix,\n",
        "                                 read_path = \"./\",\n",
        "                                 write_path = \"./\",\n",
        "                                 parameter_dictionary=lsdtt_parameters)\n",
        "lsdtt_drive.print_parameters()\n",
        "lsdtt_drive.run_lsdtt_command_line_tool()"
      ]
    },
    {
      "cell_type": "markdown",
      "metadata": {
        "id": "F9FL__oRFvcy"
      },
      "source": [
        "This prints the image. It will also save a png file."
      ]
    },
    {
      "cell_type": "code",
      "execution_count": null,
      "metadata": {
        "colab": {
          "background_save": true
        },
        "id": "HY1yx8-UFoWq",
        "collapsed": true
      },
      "outputs": [],
      "source": [
        "DataDirectory = \"./\"\n",
        "r_prefix = Dataset_prefix+\"_\"+source_name +\"_UTM\"\n",
        "Base_file = r_prefix\n",
        "\n",
        "this_img = lsdmw.SimpleHillshade(DataDirectory,Base_file,cmap=\"gist_earth\", save_fig=True,\n",
        "                                 size_format=\"geomorphology\",dpi=400,\n",
        "                                 out_fname_prefix = \"hillshade_plot\")\n",
        "\n",
        "print(this_img)\n",
        "from IPython.display import display, Image\n",
        "display(Image(filename=this_img, width=800))"
      ]
    },
    {
      "cell_type": "markdown",
      "source": [
        "## Part 4: Select basins"
      ],
      "metadata": {
        "id": "CGRsb8MOongh"
      }
    },
    {
      "cell_type": "markdown",
      "source": [
        "We can select basins by giving `lsdtopotools` basin outlets.\n",
        "\n",
        "The below code block allows you to paste in some basin outlets.\n",
        "\n",
        "So you can change some of the outlets, make sure each outlet has two numbers, separated by a comma, in square brackets.\n",
        "There needs to be a comma after each of the outlet locations, apart from the last one.\n",
        "All of these get enclosed in an outer pair of square brackets.\n",
        "\n",
        "Like this:\n",
        "```\n",
        "[ [a,b],\n",
        "  [c,d],\n",
        "  [e,f]\n",
        "  ]\n",
        "```\n",
        "\n",
        "**Important**: if your DEM does not contain the entire drainage basin, the basin will not be extracted. That is, you can't get a basin that is beheaded by the edge of your map. Also you should pick an outlet slightly upstream of where you want the basin, for reasons that are too tedious to explain here."
      ],
      "metadata": {
        "id": "A9ZTctIWYzFW"
      }
    },
    {
      "cell_type": "markdown",
      "source": [
        "### Edit code block below for your site!\n",
        "\n",
        "* change the latitude and longitude of your basin outlets using the format described above. The ways you can mess this up are by not having the correct placing of square brackets and having commas missing, or in the wrong place. Follow the format above!"
      ],
      "metadata": {
        "id": "DrYOS8eXZkFf"
      }
    },
    {
      "cell_type": "code",
      "source": [
        "# Import pandas library\n",
        "import pandas as pd\n",
        "\n",
        "data = [ [29.266355801779564, 102.25740103680675],\n",
        "         [29.450395920667845, 102.16455080279086],\n",
        "         [29.682882169543852, 102.07035651413568],\n",
        "         [29.928833993423773, 101.96077845636759],\n",
        "         [30.075214901697425, 102.15896043829667],\n",
        "         [30.0643256870771, 101.96099504691175]]\n",
        "\n",
        "# Create the pandas DataFrame\n",
        "df = pd.DataFrame(data, columns = ['latitude', 'longitude'])\n",
        "\n",
        "df.to_csv(\"basin_outlets.csv\",index=False)\n",
        "df.head()"
      ],
      "metadata": {
        "id": "5utcdT1fo3qH"
      },
      "execution_count": null,
      "outputs": []
    },
    {
      "cell_type": "code",
      "source": [],
      "metadata": {
        "id": "me-mQK2m6QD2"
      },
      "execution_count": null,
      "outputs": []
    },
    {
      "cell_type": "markdown",
      "source": [
        "This runs the analysis."
      ],
      "metadata": {
        "id": "N96Td4x-Z1kG"
      }
    },
    {
      "cell_type": "code",
      "execution_count": null,
      "metadata": {
        "id": "72cac9aa"
      },
      "outputs": [],
      "source": [
        "import lsdviztools.lsdmapwrappers as lsdmw\n",
        "\n",
        "## Get the basins\n",
        "lsdtt_parameters = {\"print_basin_raster\" : \"true\",\n",
        "                    \"get_basins_from_outlets\" : \"true\",\n",
        "                    \"basin_outlet_csv\" : \"basin_outlets.csv\",\n",
        "                    \"print_chi_data_maps\" : \"true\"}\n",
        "r_prefix = Dataset_prefix+\"_\"+source_name +\"_UTM\"\n",
        "w_prefix = Dataset_prefix+\"_\"+source_name +\"_UTM\"\n",
        "lsdtt_drive = lsdmw.lsdtt_driver(command_line_tool = \"lsdtt-chi-mapping\",\n",
        "                                 read_prefix = r_prefix,\n",
        "                                 write_prefix= w_prefix,\n",
        "                                 read_path = \"./\",\n",
        "                                 write_path = \"./\",\n",
        "                                 parameter_dictionary=lsdtt_parameters)\n",
        "lsdtt_drive.print_parameters()\n",
        "lsdtt_drive.run_lsdtt_command_line_tool()"
      ]
    },
    {
      "cell_type": "markdown",
      "source": [
        "This makes the plots:"
      ],
      "metadata": {
        "id": "-45zN14HaK3R"
      }
    },
    {
      "cell_type": "code",
      "execution_count": null,
      "metadata": {
        "id": "b977fa23",
        "scrolled": true
      },
      "outputs": [],
      "source": [
        "#import lsdviztools.lsdmapwrappers as lsdmw\n",
        "r_prefix = Dataset_prefix+\"_\"+source_name +\"_UTM\"\n",
        "Base_file = r_prefix\n",
        "\n",
        "#%%capture\n",
        "basins_img = lsdmw.PrintBasins_Complex(DataDirectory,Base_file,cmap=\"gist_earth\",\n",
        "                             size_format=\"geomorphology\",dpi=400, save_fig = True,\n",
        "                             out_fname_prefix = \"basins_plot\")"
      ]
    },
    {
      "cell_type": "code",
      "execution_count": null,
      "metadata": {
        "id": "62c2ede4"
      },
      "outputs": [],
      "source": [
        "print(basins_img)\n",
        "from IPython.display import display, Image\n",
        "display(Image(filename=basins_img, width=800))"
      ]
    },
    {
      "cell_type": "markdown",
      "source": [
        "## Part 5: Plot channel profiles"
      ],
      "metadata": {
        "id": "prSH2qFdpklW"
      }
    },
    {
      "cell_type": "markdown",
      "source": [
        "We can look at the channel profiles in your basins.\n",
        "\n",
        "A typical channel profile will be a plot of elevation against flow distance. But this makes it a little difficult to see changes in channel steepness. Why? Because headwater channels tend to be steeper than downstream channels. In fact, the gradient of channels is thought to scale with drainage area, so to compare relative steepness, you need to control for drainage area.\n",
        "\n",
        "A clever way to do this is to integrate drainge area as you move upstream. I won't explain why this works by if you want to know about it please read this paper:\n",
        "\n",
        "*Perron, J.T, and Royden, L. 2013. An Integral Approach to Bedrock River Profile Analysis. Earth Surface Processes and Landforms 38 (6): 570–76. https://doi.org/10.1002/esp.3302.*\n",
        "\n",
        "This results in a transformed channel coordinate, which we call \"chi\" (it is this greek letter: $\\chi$).\n",
        "\n",
        "If you plot elevation against $\\chi$, you get something that looks like a channel profile. But this profile has the very convinient feature that the gradient of the profile should be proportional to something called the channel steepness index, which in many landscapes is closely correlated with the erosion rate. See:\n",
        "\n",
        "*Kirby, E., Whipple, K., 2001. Quantifying differential rock-uplift rates via stream profile analysis. Geology 29, 415–418. https://doi.org/10.1130/0091-7613(2001)029<0415:QDRURV>2.0.CO;2*\n",
        "\n"
      ],
      "metadata": {
        "id": "WY-WDTe4aVXs"
      }
    },
    {
      "cell_type": "markdown",
      "source": [
        "This first step loads the channel profile data. This came out of the little bit of code you used to get the basins."
      ],
      "metadata": {
        "id": "6ZkT4ukYc1OA"
      }
    },
    {
      "cell_type": "code",
      "source": [
        "import pandas as pd\n",
        "channel_file_name = r_prefix+\"_chi_data_map.csv\"\n",
        "df = pd.read_csv(channel_file_name)\n",
        "df.head()"
      ],
      "metadata": {
        "id": "wzV9erlTrgSx"
      },
      "execution_count": null,
      "outputs": []
    },
    {
      "cell_type": "markdown",
      "source": [
        "### Edit code block below for your site!\n",
        "\n",
        "* change the basin number to look at different basins!"
      ],
      "metadata": {
        "id": "Btby5xuzaQ3s"
      }
    },
    {
      "cell_type": "code",
      "source": [
        "basin = 0"
      ],
      "metadata": {
        "id": "nVZMvUE9sUjj"
      },
      "execution_count": null,
      "outputs": []
    },
    {
      "cell_type": "markdown",
      "source": [
        "Now we can plot the $\\chi$-elevation plot:"
      ],
      "metadata": {
        "id": "Mrh8uo1_c94W"
      }
    },
    {
      "cell_type": "code",
      "source": [
        "import matplotlib.pyplot as plt\n",
        "df_single_basin = df[(df['basin_key'] == basin)]\n",
        "\n",
        "fig = plt.figure()\n",
        "ax = fig.add_subplot(1, 1,1)\n",
        "\n",
        "plt.scatter(df_single_basin.chi,df_single_basin.elevation,c=df_single_basin.flow_distance)\n",
        "plt.xlabel(r\"$\\chi$ (m)\")\n",
        "plt.ylabel(\"elevation (m)\")\n",
        "ax.text(0.1,0.9,\"Basin \"+str(basin),transform=ax.transAxes)\n",
        "\n",
        "chi_profile_name = \"chi_profile_basin\"+str(basin)+\".png\"\n",
        "plt.savefig(chi_profile_name, bbox_inches='tight',dpi = 400)"
      ],
      "metadata": {
        "id": "wAUk1sLKpgyA"
      },
      "execution_count": null,
      "outputs": []
    },
    {
      "cell_type": "code",
      "source": [
        "print(chi_profile_name)\n",
        "from IPython.display import display, Image\n",
        "display(Image(filename=chi_profile_name, width=800))"
      ],
      "metadata": {
        "id": "FYMk3u9apjGn"
      },
      "execution_count": null,
      "outputs": []
    },
    {
      "cell_type": "markdown",
      "source": [
        "You can also plot the traditional channel profile."
      ],
      "metadata": {
        "id": "LlkMF9VZdGS1"
      }
    },
    {
      "cell_type": "code",
      "source": [
        "import matplotlib.pyplot as plt\n",
        "df_single_basin = df[(df['basin_key'] == basin)]\n",
        "\n",
        "fig = plt.figure()\n",
        "ax = fig.add_subplot(1, 1,1)\n",
        "\n",
        "plt.scatter(df_single_basin.flow_distance,df_single_basin.elevation,c=df_single_basin.chi)\n",
        "plt.xlabel(\"flow distance$ (m)\")\n",
        "plt.ylabel(\"elevation (m)\")\n",
        "ax.text(0.1,0.9,\"Basin \"+str(basin),transform=ax.transAxes)\n",
        "\n",
        "channel_profile_name = \"channel_profile_basin\"+str(basin)+\".png\"\n",
        "plt.savefig(chi_profile_name, bbox_inches='tight',dpi = 400)"
      ],
      "metadata": {
        "id": "Fz8ntr4hsY3j"
      },
      "execution_count": null,
      "outputs": []
    },
    {
      "cell_type": "code",
      "source": [
        "print(channel_profile_name)\n",
        "from IPython.display import display, Image\n",
        "display(Image(filename=chi_profile_name, width=800))"
      ],
      "metadata": {
        "id": "5et_0LQXsY3t"
      },
      "execution_count": null,
      "outputs": []
    },
    {
      "cell_type": "code",
      "source": [],
      "metadata": {
        "id": "UrR1daYQ7B1-"
      },
      "execution_count": null,
      "outputs": []
    },
    {
      "cell_type": "markdown",
      "source": [
        "This runs the analysis."
      ],
      "metadata": {
        "id": "cqXMok0f7GM0"
      }
    },
    {
      "cell_type": "code",
      "source": [
        "basin = 1"
      ],
      "metadata": {
        "id": "9VdAdymY7GM7"
      },
      "execution_count": null,
      "outputs": []
    },
    {
      "cell_type": "markdown",
      "source": [
        "Now we can plot the $\\chi$-elevation plot:"
      ],
      "metadata": {
        "id": "uHA2PjvE7GM7"
      }
    },
    {
      "cell_type": "code",
      "source": [
        "import matplotlib.pyplot as plt\n",
        "df_single_basin = df[(df['basin_key'] == basin)]\n",
        "\n",
        "fig = plt.figure()\n",
        "ax = fig.add_subplot(1, 1,1)\n",
        "\n",
        "plt.scatter(df_single_basin.chi,df_single_basin.elevation,c=df_single_basin.flow_distance)\n",
        "plt.xlabel(r\"$\\chi$ (m)\")\n",
        "plt.ylabel(\"elevation (m)\")\n",
        "ax.text(0.1,0.9,\"Basin \"+str(basin),transform=ax.transAxes)\n",
        "\n",
        "chi_profile_name = \"chi_profile_basin\"+str(basin)+\".png\"\n",
        "plt.savefig(chi_profile_name, bbox_inches='tight',dpi = 400)"
      ],
      "metadata": {
        "id": "OFegvSEl7GM8"
      },
      "execution_count": null,
      "outputs": []
    },
    {
      "cell_type": "code",
      "source": [
        "print(chi_profile_name)\n",
        "from IPython.display import display, Image\n",
        "display(Image(filename=chi_profile_name, width=800))"
      ],
      "metadata": {
        "id": "p7_NPRSL7GM9"
      },
      "execution_count": null,
      "outputs": []
    },
    {
      "cell_type": "markdown",
      "source": [
        "You can also plot the traditional channel profile."
      ],
      "metadata": {
        "id": "KvFRgGlo7GM9"
      }
    },
    {
      "cell_type": "code",
      "source": [
        "import matplotlib.pyplot as plt\n",
        "df_single_basin = df[(df['basin_key'] == basin)]\n",
        "\n",
        "fig = plt.figure()\n",
        "ax = fig.add_subplot(1, 1,1)\n",
        "\n",
        "plt.scatter(df_single_basin.flow_distance,df_single_basin.elevation,c=df_single_basin.chi)\n",
        "plt.xlabel(\"flow distance$ (m)\")\n",
        "plt.ylabel(\"elevation (m)\")\n",
        "ax.text(0.1,0.9,\"Basin \"+str(basin),transform=ax.transAxes)\n",
        "\n",
        "channel_profile_name = \"channel_profile_basin\"+str(basin)+\".png\"\n",
        "plt.savefig(chi_profile_name, bbox_inches='tight',dpi = 400)"
      ],
      "metadata": {
        "id": "NgV77KVp7GM-"
      },
      "execution_count": null,
      "outputs": []
    },
    {
      "cell_type": "code",
      "source": [
        "print(channel_profile_name)\n",
        "from IPython.display import display, Image\n",
        "display(Image(filename=chi_profile_name, width=800))"
      ],
      "metadata": {
        "id": "bHYjSXhn7GM-"
      },
      "execution_count": null,
      "outputs": []
    },
    {
      "cell_type": "code",
      "source": [],
      "metadata": {
        "id": "zU5Gfqvj7Qle"
      },
      "execution_count": null,
      "outputs": []
    },
    {
      "cell_type": "markdown",
      "source": [
        "This runs the analysis."
      ],
      "metadata": {
        "id": "Q9vV5GRL8AWV"
      }
    },
    {
      "cell_type": "code",
      "execution_count": null,
      "metadata": {
        "id": "scx4tCd88AWX"
      },
      "outputs": [],
      "source": [
        "import lsdviztools.lsdmapwrappers as lsdmw\n",
        "\n",
        "## Get the basins\n",
        "lsdtt_parameters = {\"print_basin_raster\" : \"true\",\n",
        "                    \"get_basins_from_outlets\" : \"true\",\n",
        "                    \"basin_outlet_csv\" : \"basin_outlets.csv\",\n",
        "                    \"print_chi_data_maps\" : \"true\"}\n",
        "r_prefix = Dataset_prefix+\"_\"+source_name +\"_UTM\"\n",
        "w_prefix = Dataset_prefix+\"_\"+source_name +\"_UTM\"\n",
        "lsdtt_drive = lsdmw.lsdtt_driver(command_line_tool = \"lsdtt-chi-mapping\",\n",
        "                                 read_prefix = r_prefix,\n",
        "                                 write_prefix= w_prefix,\n",
        "                                 read_path = \"./\",\n",
        "                                 write_path = \"./\",\n",
        "                                 parameter_dictionary=lsdtt_parameters)\n",
        "lsdtt_drive.print_parameters()\n",
        "lsdtt_drive.run_lsdtt_command_line_tool()"
      ]
    },
    {
      "cell_type": "markdown",
      "source": [
        "This makes the plots:"
      ],
      "metadata": {
        "id": "aLEEPZhi8AWY"
      }
    },
    {
      "cell_type": "code",
      "execution_count": null,
      "metadata": {
        "scrolled": true,
        "id": "k_SyodJA8AWY"
      },
      "outputs": [],
      "source": [
        "#import lsdviztools.lsdmapwrappers as lsdmw\n",
        "r_prefix = Dataset_prefix+\"_\"+source_name +\"_UTM\"\n",
        "Base_file = r_prefix\n",
        "\n",
        "#%%capture\n",
        "basins_img = lsdmw.PrintBasins_Complex(DataDirectory,Base_file,cmap=\"gist_earth\",\n",
        "                             size_format=\"geomorphology\",dpi=400, save_fig = True,\n",
        "                             out_fname_prefix = \"basins_plot\")"
      ]
    },
    {
      "cell_type": "code",
      "execution_count": null,
      "metadata": {
        "id": "8D57q6BS8AWZ"
      },
      "outputs": [],
      "source": [
        "print(basins_img)\n",
        "from IPython.display import display, Image\n",
        "display(Image(filename=basins_img, width=800))"
      ]
    },
    {
      "cell_type": "markdown",
      "source": [
        "## Part 5: Plot channel profiles"
      ],
      "metadata": {
        "id": "F0idP75f8AWZ"
      }
    },
    {
      "cell_type": "markdown",
      "source": [
        "We can look at the channel profiles in your basins.\n",
        "\n",
        "A typical channel profile will be a plot of elevation against flow distance. But this makes it a little difficult to see changes in channel steepness. Why? Because headwater channels tend to be steeper than downstream channels. In fact, the gradient of channels is thought to scale with drainage area, so to compare relative steepness, you need to control for drainage area.\n",
        "\n",
        "A clever way to do this is to integrate drainge area as you move upstream. I won't explain why this works by if you want to know about it please read this paper:\n",
        "\n",
        "*Perron, J.T, and Royden, L. 2013. An Integral Approach to Bedrock River Profile Analysis. Earth Surface Processes and Landforms 38 (6): 570–76. https://doi.org/10.1002/esp.3302.*\n",
        "\n",
        "This results in a transformed channel coordinate, which we call \"chi\" (it is this greek letter: $\\chi$).\n",
        "\n",
        "If you plot elevation against $\\chi$, you get something that looks like a channel profile. But this profile has the very convinient feature that the gradient of the profile should be proportional to something called the channel steepness index, which in many landscapes is closely correlated with the erosion rate. See:\n",
        "\n",
        "*Kirby, E., Whipple, K., 2001. Quantifying differential rock-uplift rates via stream profile analysis. Geology 29, 415–418. https://doi.org/10.1130/0091-7613(2001)029<0415:QDRURV>2.0.CO;2*\n",
        "\n"
      ],
      "metadata": {
        "id": "miuR-Tq38AWa"
      }
    },
    {
      "cell_type": "markdown",
      "source": [
        "This first step loads the channel profile data. This came out of the little bit of code you used to get the basins."
      ],
      "metadata": {
        "id": "LEodhAx58AWa"
      }
    },
    {
      "cell_type": "code",
      "source": [
        "import pandas as pd\n",
        "channel_file_name = r_prefix+\"_chi_data_map.csv\"\n",
        "df = pd.read_csv(channel_file_name)\n",
        "df.head()"
      ],
      "metadata": {
        "id": "5WlXPQe88AWb"
      },
      "execution_count": null,
      "outputs": []
    },
    {
      "cell_type": "markdown",
      "source": [
        "### Edit code block below for your site!\n",
        "\n",
        "* change the basin number to look at different basins!"
      ],
      "metadata": {
        "id": "MkIY3zoW8AWb"
      }
    },
    {
      "cell_type": "code",
      "source": [
        "basin = 2"
      ],
      "metadata": {
        "id": "GX6WbFE68AWc"
      },
      "execution_count": null,
      "outputs": []
    },
    {
      "cell_type": "markdown",
      "source": [
        "Now we can plot the $\\chi$-elevation plot:"
      ],
      "metadata": {
        "id": "Z9fjj90v8AWc"
      }
    },
    {
      "cell_type": "code",
      "source": [
        "import matplotlib.pyplot as plt\n",
        "df_single_basin = df[(df['basin_key'] == basin)]\n",
        "\n",
        "fig = plt.figure()\n",
        "ax = fig.add_subplot(1, 1,1)\n",
        "\n",
        "plt.scatter(df_single_basin.chi,df_single_basin.elevation,c=df_single_basin.flow_distance)\n",
        "plt.xlabel(r\"$\\chi$ (m)\")\n",
        "plt.ylabel(\"elevation (m)\")\n",
        "ax.text(0.1,0.9,\"Basin \"+str(basin),transform=ax.transAxes)\n",
        "\n",
        "chi_profile_name = \"chi_profile_basin\"+str(basin)+\".png\"\n",
        "plt.savefig(chi_profile_name, bbox_inches='tight',dpi = 400)"
      ],
      "metadata": {
        "id": "CC2keCkZ8AWd"
      },
      "execution_count": null,
      "outputs": []
    },
    {
      "cell_type": "code",
      "source": [
        "print(chi_profile_name)\n",
        "from IPython.display import display, Image\n",
        "display(Image(filename=chi_profile_name, width=800))"
      ],
      "metadata": {
        "id": "2oXl2ojC8AWd"
      },
      "execution_count": null,
      "outputs": []
    },
    {
      "cell_type": "markdown",
      "source": [
        "You can also plot the traditional channel profile."
      ],
      "metadata": {
        "id": "wp1rNqAL8AWe"
      }
    },
    {
      "cell_type": "code",
      "source": [
        "import matplotlib.pyplot as plt\n",
        "df_single_basin = df[(df['basin_key'] == basin)]\n",
        "\n",
        "fig = plt.figure()\n",
        "ax = fig.add_subplot(1, 1,1)\n",
        "\n",
        "plt.scatter(df_single_basin.flow_distance,df_single_basin.elevation,c=df_single_basin.chi)\n",
        "plt.xlabel(\"flow distance$ (m)\")\n",
        "plt.ylabel(\"elevation (m)\")\n",
        "ax.text(0.1,0.9,\"Basin \"+str(basin),transform=ax.transAxes)\n",
        "\n",
        "channel_profile_name = \"channel_profile_basin\"+str(basin)+\".png\"\n",
        "plt.savefig(chi_profile_name, bbox_inches='tight',dpi = 400)"
      ],
      "metadata": {
        "id": "loi721qn8AWf"
      },
      "execution_count": null,
      "outputs": []
    },
    {
      "cell_type": "code",
      "source": [
        "print(channel_profile_name)\n",
        "from IPython.display import display, Image\n",
        "display(Image(filename=chi_profile_name, width=800))"
      ],
      "metadata": {
        "id": "Om8AdACx8AWf"
      },
      "execution_count": null,
      "outputs": []
    },
    {
      "cell_type": "markdown",
      "source": [
        "## Make the channel network"
      ],
      "metadata": {
        "id": "qu0q7CaJ8TgA"
      }
    },
    {
      "cell_type": "code",
      "source": [
        "import lsdviztools.lsdmapwrappers as lsdmw\n",
        "\n",
        "## Get the basins\n",
        "lsdtt_parameters = {\"print_channels_to_csv\" : \"true\",\n",
        "                    \"threshold_contributing_pixels\" : \"5000\"}\n",
        "r_prefix = Dataset_prefix+\"_\"+source_name +\"_UTM\"\n",
        "w_prefix = Dataset_prefix+\"_\"+source_name +\"_UTM\"\n",
        "lsdtt_drive = lsdmw.lsdtt_driver(command_line_tool = \"lsdtt-basic-metrics\",\n",
        "                                 read_prefix = r_prefix,\n",
        "                                 write_prefix= w_prefix,\n",
        "                                 read_path = \"./\",\n",
        "                                 write_path = \"./\",\n",
        "                                 parameter_dictionary=lsdtt_parameters)\n",
        "lsdtt_drive.print_parameters()\n",
        "lsdtt_drive.run_lsdtt_command_line_tool()"
      ],
      "metadata": {
        "id": "sXxrbz7i8Kwf"
      },
      "execution_count": null,
      "outputs": []
    },
    {
      "cell_type": "code",
      "source": [
        "!ls *.csv"
      ],
      "metadata": {
        "id": "AEUbV5iy9V4_"
      },
      "execution_count": null,
      "outputs": []
    },
    {
      "cell_type": "code",
      "source": [
        "### Plot points the hillshade\n",
        "import lsdviztools.lsdmapwrappers as lsdmw\n",
        "%matplotlib inline\n",
        "Base_file = \"DEM_AW3D30_UTM\"\n",
        "DataDirectory = \"./\"\n",
        "this_img = lsdmw.PrintPointsOverHillshade(DataDirectory,Base_file, column_for_plotting = \"elevation(m)\",\n",
        "                                          points_fname = \"DEM_AW3D30_UTM_CN.csv\",\n",
        "                                          scale_points = True, column_for_scaling = \"Stream Order\",\n",
        "                                          scaled_data_in_log = False, max_point_size = 20, min_point_size = 2,\n",
        "                                          cmap=\"Blues\", save_fig=True, size_format=\"geomorphology\")"
      ],
      "metadata": {
        "id": "LlJSEdrN9EYD"
      },
      "execution_count": null,
      "outputs": []
    },
    {
      "cell_type": "code",
      "source": [
        "!ls *.png"
      ],
      "metadata": {
        "id": "z4GTjg5w9eLb"
      },
      "execution_count": null,
      "outputs": []
    },
    {
      "cell_type": "code",
      "source": [],
      "metadata": {
        "id": "6oVkIBZu92eC"
      },
      "execution_count": null,
      "outputs": []
    }
  ],
  "metadata": {
    "colab": {
      "provenance": [],
      "authorship_tag": "ABX9TyMoEyz3thogK3be+fG6F512",
      "include_colab_link": true
    },
    "kernelspec": {
      "display_name": "Python 3",
      "name": "python3"
    },
    "language_info": {
      "name": "python"
    }
  },
  "nbformat": 4,
  "nbformat_minor": 0
}