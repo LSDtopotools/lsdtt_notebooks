{
  "nbformat": 4,
  "nbformat_minor": 0,
  "metadata": {
    "colab": {
      "provenance": [],
      "authorship_tag": "ABX9TyPEL0RYeSXH6UZM8EVUxscB",
      "include_colab_link": true
    },
    "kernelspec": {
      "name": "python3",
      "display_name": "Python 3"
    },
    "language_info": {
      "name": "python"
    }
  },
  "cells": [
    {
      "cell_type": "markdown",
      "metadata": {
        "id": "view-in-github",
        "colab_type": "text"
      },
      "source": [
        "<a href=\"https://colab.research.google.com/github/LSDtopotools/lsdtt_notebooks/blob/master/lsdtopotools/examples_for_ppl_who_asked/drainage_area_on_arran.ipynb\" target=\"_parent\"><img src=\"https://colab.research.google.com/assets/colab-badge.svg\" alt=\"Open In Colab\"/></a>"
      ]
    },
    {
      "cell_type": "markdown",
      "source": [
        "# Drainage area on Arran: colab version"
      ],
      "metadata": {
        "id": "NB0kghs2qKeb"
      }
    },
    {
      "cell_type": "markdown",
      "source": [
        "Prepared by Simon M Mudd, 20-Sept-2024"
      ],
      "metadata": {
        "id": "kM1sSv7OqPTz"
      }
    },
    {
      "cell_type": "markdown",
      "metadata": {
        "id": "QKy7_wKyMn9K"
      },
      "source": [
        "## Get lsdtopotools and lsdviztools"
      ]
    },
    {
      "cell_type": "markdown",
      "source": [
        "This installs lsdtopotools and lsdviztools in google colab.\n",
        "`lsdtopotools` command line is installed from the university of edinburgh's debian server.\n",
        "\n",
        "`lsdviztools` is installed via `pip`\n",
        "\n",
        "This will take around 25 seconds."
      ],
      "metadata": {
        "id": "zOXdP-wIDGcc"
      }
    },
    {
      "cell_type": "code",
      "source": [
        "!wget https://pkgs.geos.ed.ac.uk/geos-jammy/pool/world/l/lsdtopotools2/lsdtopotools2_0.9-1geos~22.04.1_amd64.deb  &> /dev/null\n",
        "!apt install ./lsdtopotools2_0.9-1geos~22.04.1_amd64.deb  &> /dev/null"
      ],
      "metadata": {
        "id": "VbYEjLvZR4VY"
      },
      "execution_count": 1,
      "outputs": []
    },
    {
      "cell_type": "code",
      "execution_count": 2,
      "metadata": {
        "id": "Pj2pwsxkvbS8"
      },
      "outputs": [],
      "source": [
        "!pip install lsdviztools &> /dev/null"
      ]
    },
    {
      "cell_type": "markdown",
      "source": [
        "Check the versions.\n",
        "This notebook was written with lsdviztools 0.4.12\n",
        "and lsdtopotools version 0.9"
      ],
      "metadata": {
        "id": "kArW7OWdx4mg"
      }
    },
    {
      "cell_type": "code",
      "source": [
        "import lsdviztools\n",
        "lsdviztools.__version__"
      ],
      "metadata": {
        "id": "1jmOS2HoyBOb"
      },
      "execution_count": null,
      "outputs": []
    },
    {
      "cell_type": "code",
      "source": [
        "!lsdtt-basic-metrics -v"
      ],
      "metadata": {
        "id": "57fMrJxCx0XA"
      },
      "execution_count": null,
      "outputs": []
    },
    {
      "cell_type": "markdown",
      "source": [
        "## Get gdal command line tools"
      ],
      "metadata": {
        "id": "vF4tS0b50SPA"
      }
    },
    {
      "cell_type": "markdown",
      "source": [
        "We might need some gdal command line tools. This is used for raster manipulation. Installation will take maybe 10 seconds."
      ],
      "metadata": {
        "id": "Fv7-Hhl70lQW"
      }
    },
    {
      "cell_type": "code",
      "source": [
        "!apt install gdal-bin &> /dev/null\n",
        "\n",
        "!gdalinfo --version"
      ],
      "metadata": {
        "id": "faJEkr3H0V31"
      },
      "execution_count": null,
      "outputs": []
    },
    {
      "cell_type": "markdown",
      "source": [
        "## Mount your DEM from google drive"
      ],
      "metadata": {
        "id": "OV8T4lAaqsdj"
      }
    },
    {
      "cell_type": "markdown",
      "source": [
        "You will need to mount your DEM from google drive. Note that uploading the DEM directly into google colab (i.e., by dragging and dropping the file into the file system in a colab window) will take *forever*. So the recommended approach is to upload the DEM and driver file into a file folder in google drive and then mount it.\n",
        "\n",
        "*Note: you will need to give google colab permission to do this on your drive.*"
      ],
      "metadata": {
        "id": "ru94hC2Uqwk6"
      }
    },
    {
      "cell_type": "code",
      "execution_count": null,
      "metadata": {
        "id": "RWSJpsyKqHjH"
      },
      "outputs": [],
      "source": [
        "from google.colab import drive\n",
        "drive.mount('/content/drive/')"
      ]
    },
    {
      "cell_type": "markdown",
      "source": [
        "### Navigate to the directory where you keep the data."
      ],
      "metadata": {
        "id": "T3FbIsDkvtFn"
      }
    },
    {
      "cell_type": "markdown",
      "source": [
        "You will need to modify the path below for your own data.\n",
        "Note that the first three subdirectories on a google drive will always be `/content/drive/MyDrive/`"
      ],
      "metadata": {
        "id": "Kq6IrspowpA4"
      }
    },
    {
      "cell_type": "code",
      "source": [
        "%cd /content/drive/MyDrive/dissertation/"
      ],
      "metadata": {
        "id": "jKCjgXQfwICJ"
      },
      "execution_count": null,
      "outputs": []
    },
    {
      "cell_type": "markdown",
      "source": [
        "Lets just make sure this works by checking the working directory and the files:\n",
        "\n",
        "You should see the DEM and your driver file."
      ],
      "metadata": {
        "id": "bsVy0ii-w60a"
      }
    },
    {
      "cell_type": "code",
      "source": [
        "!pwd\n",
        "!ls"
      ],
      "metadata": {
        "id": "W0j71ZiawTQp"
      },
      "execution_count": null,
      "outputs": []
    },
    {
      "cell_type": "markdown",
      "source": [
        "### Deal with .tif"
      ],
      "metadata": {
        "id": "qQS5fyQJf389"
      }
    },
    {
      "cell_type": "markdown",
      "source": [
        "If you start with a .tif file, you need to convert it to the correct coordinate system and also convert it to an ENVI bil file format.\n",
        "\n",
        "I use the UTM zone for Arran here, which is 30 (although right on the edge with 29).\n",
        "\n",
        "You will need to check your DEM grid resolution and alter it below in the `-tr` part. So if the grid spacing is 10m by 10m you should use `-tr 10 10`."
      ],
      "metadata": {
        "id": "6CYFCh5Tf9uV"
      }
    },
    {
      "cell_type": "code",
      "source": [
        "!gdalwarp -t_srs '+proj=utm +zone=30 +north +datum=WGS84' -of ENVI -r cubic -tr 10 10 arran.tif arran.bil"
      ],
      "metadata": {
        "id": "4OnqcB5Rgdg_"
      },
      "execution_count": null,
      "outputs": []
    },
    {
      "cell_type": "markdown",
      "source": [
        "## Get the drainage area"
      ],
      "metadata": {
        "id": "Sut269mqN4iy"
      }
    },
    {
      "cell_type": "markdown",
      "source": [
        "Now we will get the drainage area. We need a driver file. We can make one with the following script."
      ],
      "metadata": {
        "id": "hiwUJX5eOlNy"
      }
    },
    {
      "cell_type": "code",
      "source": [
        "import lsdviztools.lsdmapwrappers as lsdmw\n",
        "\n",
        "lsdtt_parameters = {\"print_d8_drainage_area_raster\" : \"true\",\n",
        "                    \"write_hillshade\" : \"true\",\n",
        "                    \"remove_seas\": \"true\"}\n",
        "r_prefix = \"arran\"\n",
        "w_prefix = \"arran\"\n",
        "lsdtt_drive = lsdmw.lsdtt_driver(read_prefix = r_prefix,\n",
        "                                 write_prefix= w_prefix,\n",
        "                                 read_path = \"./\",\n",
        "                                 write_path = \"./\",\n",
        "                                 parameter_dictionary=lsdtt_parameters)\n",
        "lsdtt_drive.write_lsdtt_driver()\n",
        "\n",
        "!ls *.driver"
      ],
      "metadata": {
        "colab": {
          "base_uri": "https://localhost:8080/"
        },
        "id": "1uHeZctYOWQQ",
        "outputId": "249d42fc-191d-44dd-c6ee-939d45268fae"
      },
      "execution_count": 5,
      "outputs": [
        {
          "output_type": "stream",
          "name": "stdout",
          "text": [
            "The lsdtopotools command line tools available are: \n",
            "['lsdtt-basic-metrics', 'lsdtt-channel-extraction', 'lsdtt-chi-mapping', 'lsdtt-cosmo-tool', 'lsdtt-hillslope-channel-coupling', 'lsdtt-valley-metrics']\n",
            "Testing has been done against lsdtopotools v0.7\n",
            "Done writing the driver file\n",
            "Test_01.driver\n"
          ]
        }
      ]
    },
    {
      "cell_type": "code",
      "source": [
        "!cat Test_01.driver"
      ],
      "metadata": {
        "colab": {
          "base_uri": "https://localhost:8080/"
        },
        "id": "AtUWsDH0O4pD",
        "outputId": "7ed3ec3d-e731-4255-97b6-5fbd2d46157f"
      },
      "execution_count": 8,
      "outputs": [
        {
          "output_type": "stream",
          "name": "stdout",
          "text": [
            "# This is an LSDTopoTools driver file written with the python package lsdviztools\n",
            "\n",
            "# File locations\n",
            "read path: ./\n",
            "write path: ./\n",
            "read fname: arran\n",
            "write fname: arran\n",
            "\n",
            "\n",
            "# Now for the parameters\n",
            "print_dinf_drainage_area_raster: true\n",
            "write_hillshade: true\n"
          ]
        }
      ]
    },
    {
      "cell_type": "markdown",
      "source": [
        "Now run the analysis:"
      ],
      "metadata": {
        "id": "kjSVV2bRR9LK"
      }
    },
    {
      "cell_type": "code",
      "source": [
        "!lsdtt-basic-metrics Test_01.driver"
      ],
      "metadata": {
        "id": "TgAFDCU_O8Jw"
      },
      "execution_count": null,
      "outputs": []
    },
    {
      "cell_type": "markdown",
      "source": [
        "You should now have a file with the drainage area!"
      ],
      "metadata": {
        "id": "8Y445KWHR_Zq"
      }
    },
    {
      "cell_type": "code",
      "source": [],
      "metadata": {
        "id": "aoaweK3RSB6S"
      },
      "execution_count": null,
      "outputs": []
    }
  ]
}