{
  "nbformat": 4,
  "nbformat_minor": 0,
  "metadata": {
    "colab": {
      "provenance": [],
      "authorship_tag": "ABX9TyNm0KNmXPcPCh9bDjC/UdMF",
      "include_colab_link": true
    },
    "kernelspec": {
      "name": "python3",
      "display_name": "Python 3"
    },
    "language_info": {
      "name": "python"
    }
  },
  "cells": [
    {
      "cell_type": "markdown",
      "metadata": {
        "id": "view-in-github",
        "colab_type": "text"
      },
      "source": [
        "<a href=\"https://colab.research.google.com/github/LSDtopotools/lsdtt_notebooks/blob/master/lsdtopotools/examples_for_ppl_who_asked/rasterise_bgs_geology.ipynb\" target=\"_parent\"><img src=\"https://colab.research.google.com/assets/colab-badge.svg\" alt=\"Open In Colab\"/></a>"
      ]
    },
    {
      "cell_type": "markdown",
      "source": [
        "# Rasterising a BGS geologic map"
      ],
      "metadata": {
        "id": "GwyNSRnZTUZU"
      }
    },
    {
      "cell_type": "markdown",
      "source": [
        "Written by Simon M Mudd 24/10/2024"
      ],
      "metadata": {
        "id": "9AOUnmXiTZNL"
      }
    },
    {
      "cell_type": "markdown",
      "source": [
        "## First install gdal"
      ],
      "metadata": {
        "id": "NV9bTn43TcxM"
      }
    },
    {
      "cell_type": "markdown",
      "source": [
        "You need the gdal command line tools.\n",
        "\n",
        "You will also need the osgeo package, but this is already installed on google colab"
      ],
      "metadata": {
        "id": "8z4jrZVmTf2b"
      }
    },
    {
      "cell_type": "code",
      "source": [
        "!apt install gdal-bin &> /dev/null\n",
        "!gdalinfo --version"
      ],
      "metadata": {
        "colab": {
          "base_uri": "https://localhost:8080/"
        },
        "id": "yy4AGpPJIXuQ",
        "outputId": "de5cdc8b-e70c-46d6-9b72-f941f17645d2"
      },
      "execution_count": 2,
      "outputs": [
        {
          "output_type": "stream",
          "name": "stdout",
          "text": [
            "GDAL 3.6.4, released 2023/04/17\n"
          ]
        }
      ]
    },
    {
      "cell_type": "markdown",
      "source": [
        "## Define the functions"
      ],
      "metadata": {
        "id": "cyaVqH-OULDU"
      }
    },
    {
      "cell_type": "markdown",
      "source": [
        "Here are the functions we will use."
      ],
      "metadata": {
        "id": "RbNhYY8NTm0S"
      }
    },
    {
      "cell_type": "code",
      "source": [
        "import os\n",
        "from os.path import exists\n",
        "from osgeo import ogr, osr\n",
        "import csv\n",
        "from osgeo import gdal\n",
        "from osgeo.gdalconst import GA_ReadOnly\n",
        "\n",
        "\n",
        "def get_filename_without_extension(file_name):\n",
        "    return os.path.splitext(file_name)[0]\n",
        "\n",
        "def dict_to_csv(data_dict, csv_filename):\n",
        "    with open(csv_filename, mode='w', newline='') as file:\n",
        "        writer = csv.writer(file)\n",
        "        writer.writerow(['ID', 'rocktype'])\n",
        "        for key, value in data_dict.items():\n",
        "            writer.writerow([key, value])\n",
        "\n",
        "\n",
        "def Rasterize_BGS_geologic_maps(shapefile_name):\n",
        "\n",
        "    # The shapefile to be rasterized:\n",
        "    print('Rasterize ' + shapefile_name)\n",
        "    #get path and filename seperately\n",
        "    shapefilefilepath = \"./\"\n",
        "    shapefilename = shapefile_name\n",
        "    shapefileshortname = get_filename_without_extension(shapefile_name)\n",
        "\n",
        "    print(\"Shapefile name is: \"+shapefilename)\n",
        "\n",
        "    # now get the the fields from the shapefile\n",
        "    daShapefile = shapefile_name\n",
        "\n",
        "    dataSource = ogr.Open(daShapefile)\n",
        "    daLayer = dataSource.GetLayer(0)\n",
        "\n",
        "    # lets see what the layers are\n",
        "    print(\"Let me tell you what the names of the fields are!\")\n",
        "    layerDefinition = daLayer.GetLayerDefn()\n",
        "    for i in range(layerDefinition.GetFieldCount()):\n",
        "        print(layerDefinition.GetFieldDefn(i).GetName())\n",
        "\n",
        "\n",
        "    # The raster file to be created and receive the rasterized shapefile\n",
        "    outrastername = shapefileshortname + '.tif'\n",
        "    outraster = shapefilefilepath+os.sep+ outrastername\n",
        "    outcsv = shapefilefilepath+os.sep+shapefileshortname+'_lithokey.csv'\n",
        "    print(\"Full name of out raster is: \"+outraster)\n",
        "\n",
        "    # Rasterize!!\n",
        "    ## MODIFY THE FOLLOWING LINE TO CHANGE THE GRID SPACING -tr 90 -90\n",
        "    system_call = 'gdal_rasterize -a BGSREF -l ' + shapefileshortname +' -tr 90 -90 -a_nodata -9999 ' +  shapefile_name + ' ' + outraster\n",
        "    print(\"System call is: \")\n",
        "    print(system_call)\n",
        "    os.system(system_call)\n",
        "\n",
        "    # now convert the raster to UTM, as well as delete the stupid TIF\n",
        "    # The raster file to be created and receive the rasterized shapefile\n",
        "    outrastername_bil = shapefileshortname + '.bil'\n",
        "    outraster_bil = shapefilefilepath+os.sep+ outrastername_bil\n",
        "    print(\"Full name of out raster is: \"+outraster_bil)\n",
        "\n",
        "    # This assumes UTM zone 30, because why would we do any work in East Anglia?\n",
        "    system_call2 = 'gdalwarp -t_srs EPSG:32630 -of ENVI -dstnodata -9999 ' +  outraster + ' ' + outraster_bil\n",
        "    os.system(system_call2)\n",
        "\n",
        "    # Now get rid of the tif\n",
        "    system_call3 = 'rm '+ outraster\n",
        "    os.system(system_call3)\n",
        "\n",
        "\n",
        "    # Make a key for the bedrock\n",
        "    geol_dict = dict()\n",
        "    for feature in daLayer:\n",
        "        ID = feature.GetField(\"BGSREF\")\n",
        "        GEOL = feature.GetField(\"RCS_D\")\n",
        "\n",
        "        if ID not in geol_dict:\n",
        "            print(\"I found a new rock type, ID: \"+ str(ID)+ \" and rock type: \" + str(GEOL))\n",
        "            geol_dict[ID] = GEOL\n",
        "\n",
        "    print(\"The rocks are: \")\n",
        "    print(geol_dict)\n",
        "\n",
        "    dict_to_csv(geol_dict, outcsv)\n",
        "\n",
        "    print(\"All done\")"
      ],
      "metadata": {
        "id": "_MC1iOFOJ96T"
      },
      "execution_count": 22,
      "outputs": []
    },
    {
      "cell_type": "markdown",
      "source": [
        "## Import your data and run"
      ],
      "metadata": {
        "id": "2_MCVLE2UP_c"
      }
    },
    {
      "cell_type": "markdown",
      "source": [
        "**BEFORE YOU RUN THIS** you need to import your shapefile. You need to merge your BGS geologic shapefile and then load all the files (.dbf, .prj, .shp, .shx) into the notebook.\n",
        "\n",
        "You need to make sure the merged file is  in british national grid.\n",
        "\n",
        "This will print out an ENVI bil raster with 90m grid spacing.\n",
        "\n",
        "If you want different grid spacing change the line\n",
        "\n",
        "`system_call = 'gdal_rasterize -a BGSREF -l ' + shapefileshortname +' -tr 90 -90 -a_nodata -9999 ' +  shapefile_name + ' ' + outraster`"
      ],
      "metadata": {
        "id": "LUZDm11AUTWU"
      }
    },
    {
      "cell_type": "code",
      "source": [
        "Rasterize_BGS_geologic_maps(\"merged_bedrock.shp\")"
      ],
      "metadata": {
        "colab": {
          "base_uri": "https://localhost:8080/"
        },
        "id": "SAqSWgwUKvEd",
        "outputId": "59f13d71-9f68-4682-e815-4eb16064f7fd"
      },
      "execution_count": 23,
      "outputs": [
        {
          "output_type": "stream",
          "name": "stdout",
          "text": [
            "Rasterize merged_bedrock.shp\n",
            "Shapefile name is: merged_bedrock.shp\n",
            "Let me tell you what the names of the fields are!\n",
            "LEX_WEB\n",
            "LEX\n",
            "LEX_D\n",
            "LEX_RCS\n",
            "RCS\n",
            "RCS_X\n",
            "RCS_D\n",
            "RCS_ORIGIN\n",
            "RANK\n",
            "BED_EQ_D\n",
            "MB_EQ_D\n",
            "FM_EQ_D\n",
            "SUBGP_EQ_D\n",
            "GP_EQ_D\n",
            "SUPGP_EQ_D\n",
            "MAX_TIME_Y\n",
            "MIN_TIME_Y\n",
            "MAX_AGE\n",
            "MAX_EPOCH\n",
            "MAX_SUBPER\n",
            "MAX_PERIOD\n",
            "MAX_ERA\n",
            "MAX_EON\n",
            "BGSTYPE\n",
            "LEX_RCS_I\n",
            "LEX_RCS_D\n",
            "BGSREF\n",
            "MAP_SRC\n",
            "MAP_WEB\n",
            "VERSION\n",
            "RELEASED\n",
            "NOM_SCALE\n",
            "NOM_BGS_YR\n",
            "UUID\n",
            "Full name of out raster is: .//merged_bedrock.tif\n",
            "System call is: \n",
            "gdal_rasterize -a BGSREF -l merged_bedrock -tr 90 -90 -a_nodata -9999 merged_bedrock.shp .//merged_bedrock.tif\n",
            "Full name of out raster is: .//merged_bedrock.bil\n",
            "I found a new rock type, ID: 262 and rock type: LIMESTONE\n",
            "I found a new rock type, ID: 140 and rock type: LIMESTONE, SANDSTONE, SILTSTONE AND MUDSTONE\n",
            "I found a new rock type, ID: 160 and rock type: LIMESTONE\n",
            "I found a new rock type, ID: 30 and rock type: LIMESTONE, SANDSTONE, SILTSTONE AND MUDSTONE\n",
            "I found a new rock type, ID: 561 and rock type: SANDSTONE, SILTSTONE AND MUDSTONE\n",
            "I found a new rock type, ID: 80 and rock type: LIMESTONE\n",
            "I found a new rock type, ID: 620 and rock type: MUDSTONE, SANDSTONE AND LIMESTONE\n",
            "I found a new rock type, ID: 150 and rock type: LIMESTONE\n",
            "I found a new rock type, ID: 533 and rock type: SANDSTONE\n",
            "I found a new rock type, ID: 543 and rock type: SANDSTONE\n",
            "I found a new rock type, ID: 705 and rock type: SANDSTONE\n",
            "I found a new rock type, ID: 143 and rock type: SANDSTONE\n",
            "I found a new rock type, ID: 342 and rock type: SANDSTONE, SILTSTONE AND DOLOMITIC LIMESTONE\n",
            "I found a new rock type, ID: 516 and rock type: SANDSTONE AND [SUBEQUAL/SUBORDINATE] ARGILLACEOUS ROCKS, INTERBEDDED\n",
            "I found a new rock type, ID: 514 and rock type: CONGLOMERATE\n",
            "I found a new rock type, ID: 637 and rock type: ANDESITE AND BASALT\n",
            "I found a new rock type, ID: 515 and rock type: SANDSTONE\n",
            "I found a new rock type, ID: 122 and rock type: WACKE\n",
            "I found a new rock type, ID: 59 and rock type: BASALTIC-ROCK, PLAGIOCLASE-MACROPHYRIC\n",
            "I found a new rock type, ID: 635 and rock type: CONGLOMERATE\n",
            "I found a new rock type, ID: 57 and rock type: ANDESITE\n",
            "I found a new rock type, ID: 907 and rock type: AGGLOMERATE\n",
            "I found a new rock type, ID: 950 and rock type: MICROGABBRO, PLAGIOCLASE-MICROPHYRIC\n",
            "I found a new rock type, ID: 206 and rock type: MICROGABBRO\n",
            "I found a new rock type, ID: 906 and rock type: FELSITE AND MICROGRANITIC ROCK\n",
            "I found a new rock type, ID: 505 and rock type: TUFF\n",
            "I found a new rock type, ID: 606 and rock type: CONGLOMERATE AND [SUBEQUAL/SUBORDINATE] SANDSTONE, INTERBEDDED\n",
            "I found a new rock type, ID: 352 and rock type: WACKE\n",
            "I found a new rock type, ID: 4 and rock type: TUFF\n",
            "I found a new rock type, ID: 9 and rock type: MICROGABBRO\n",
            "I found a new rock type, ID: 966 and rock type: LAMPROPHYRES\n",
            "I found a new rock type, ID: 62 and rock type: MUDSTONE\n",
            "I found a new rock type, ID: 960 and rock type: BASALT AND MICROGABBRO\n",
            "I found a new rock type, ID: 44 and rock type: CHERT\n",
            "I found a new rock type, ID: 630 and rock type: SILTSTONE\n",
            "I found a new rock type, ID: 320 and rock type: WACKE\n",
            "I found a new rock type, ID: 220 and rock type: WACKE\n",
            "I found a new rock type, ID: 566 and rock type: WACKE\n",
            "I found a new rock type, ID: 401 and rock type: WACKE\n",
            "I found a new rock type, ID: 902 and rock type: TRACHYTIC-ROCK\n",
            "I found a new rock type, ID: 3 and rock type: TUFF AND AGGLOMERATE\n",
            "I found a new rock type, ID: 909 and rock type: GRANITE\n",
            "I found a new rock type, ID: 628 and rock type: MICRODIORITE, PORPHYRITIC\n",
            "I found a new rock type, ID: 359 and rock type: TUFF\n",
            "I found a new rock type, ID: 508 and rock type: OLIVINE-BASALT\n",
            "I found a new rock type, ID: 323 and rock type: LIMESTONE\n",
            "I found a new rock type, ID: 451 and rock type: MUDSTONE\n",
            "I found a new rock type, ID: 221 and rock type: SANDSTONE\n",
            "I found a new rock type, ID: 420 and rock type: MUDSTONE\n",
            "I found a new rock type, ID: 553 and rock type: SANDSTONE\n",
            "I found a new rock type, ID: 609 and rock type: MICROGRANITE, PORPHYRITIC\n",
            "I found a new rock type, ID: 690 and rock type: QUARTZ-MICROGABBRO\n",
            "I found a new rock type, ID: 406 and rock type: GRANITIC-ROCK\n",
            "I found a new rock type, ID: 69 and rock type: MICRODIORITIC-ROCK\n",
            "I found a new rock type, ID: 757 and rock type: GABBROIC-ROCK\n",
            "I found a new rock type, ID: 708 and rock type: BASANITE\n",
            "I found a new rock type, ID: 803 and rock type: TRACHYTIC-ROCK\n",
            "I found a new rock type, ID: 904 and rock type: TRACHYBASALT\n",
            "I found a new rock type, ID: 23 and rock type: TRACHYTE\n",
            "I found a new rock type, ID: 250 and rock type: LIMESTONE\n",
            "I found a new rock type, ID: 7 and rock type: BASALT\n",
            "I found a new rock type, ID: 90 and rock type: LIMESTONE\n",
            "I found a new rock type, ID: 941 and rock type: MUGEARITE\n",
            "I found a new rock type, ID: 908 and rock type: TUFF AND AGGLOMERATE\n",
            "I found a new rock type, ID: 900 and rock type: LAVA, FELSIC\n",
            "I found a new rock type, ID: 720 and rock type: OLIVINE-BASALT\n",
            "I found a new rock type, ID: 210 and rock type: SEDIMENTARY ROCK CYCLES, STRATHCLYDE GROUP TYPE\n",
            "I found a new rock type, ID: 20 and rock type: SANDSTONE, SILTSTONE AND MUDSTONE\n",
            "I found a new rock type, ID: 640 and rock type: MUDSTONE, SILTSTONE AND SANDSTONE\n",
            "I found a new rock type, ID: 733 and rock type: SEDIMENTARY ROCK CYCLES, CLACKMANNAN GROUP TYPE\n",
            "I found a new rock type, ID: 914 and rock type: SANDSTONE WITH SUBORDINATE ARGILLACEOUS ROCKS AND LIMESTONE\n",
            "I found a new rock type, ID: 935 and rock type: SANDSTONE AND SEATEARTH\n",
            "I found a new rock type, ID: 5 and rock type: TUFF, TRACHYTIC\n",
            "I found a new rock type, ID: 222 and rock type: SEDIMENTARY ROCK CYCLES, COAL MEASURE TYPE\n",
            "I found a new rock type, ID: 940 and rock type: MAFITE\n",
            "I found a new rock type, ID: 903 and rock type: TRACHYTIC-ROCK\n",
            "I found a new rock type, ID: 633 and rock type: SANDSTONE AND [SUBEQUAL/SUBORDINATE] ARGILLACEOUS ROCKS, INTERBEDDED\n",
            "I found a new rock type, ID: 644 and rock type: SEDIMENTARY ROCK CYCLES, STRATHCLYDE GROUP TYPE\n",
            "I found a new rock type, ID: 650 and rock type: SANDSTONE AND MUDSTONE\n",
            "I found a new rock type, ID: 507 and rock type: FELSITE, PORPHYRITIC\n",
            "I found a new rock type, ID: 905 and rock type: FELSITE, ALBITE\n",
            "I found a new rock type, ID: 446 and rock type: WACKE\n",
            "I found a new rock type, ID: 372 and rock type: MUDSTONE\n",
            "I found a new rock type, ID: 524 and rock type: WACKE\n",
            "The rocks are: \n",
            "{262: 'LIMESTONE', 140: 'LIMESTONE, SANDSTONE, SILTSTONE AND MUDSTONE', 160: 'LIMESTONE', 30: 'LIMESTONE, SANDSTONE, SILTSTONE AND MUDSTONE', 561: 'SANDSTONE, SILTSTONE AND MUDSTONE', 80: 'LIMESTONE', 620: 'MUDSTONE, SANDSTONE AND LIMESTONE', 150: 'LIMESTONE', 533: 'SANDSTONE', 543: 'SANDSTONE', 705: 'SANDSTONE', 143: 'SANDSTONE', 342: 'SANDSTONE, SILTSTONE AND DOLOMITIC LIMESTONE', 516: 'SANDSTONE AND [SUBEQUAL/SUBORDINATE] ARGILLACEOUS ROCKS, INTERBEDDED', 514: 'CONGLOMERATE', 637: 'ANDESITE AND BASALT', 515: 'SANDSTONE', 122: 'WACKE', 59: 'BASALTIC-ROCK, PLAGIOCLASE-MACROPHYRIC', 635: 'CONGLOMERATE', 57: 'ANDESITE', 907: 'AGGLOMERATE', 950: 'MICROGABBRO, PLAGIOCLASE-MICROPHYRIC', 206: 'MICROGABBRO', 906: 'FELSITE AND MICROGRANITIC ROCK', 505: 'TUFF', 606: 'CONGLOMERATE AND [SUBEQUAL/SUBORDINATE] SANDSTONE, INTERBEDDED', 352: 'WACKE', 4: 'TUFF', 9: 'MICROGABBRO', 966: 'LAMPROPHYRES', 62: 'MUDSTONE', 960: 'BASALT AND MICROGABBRO', 44: 'CHERT', 630: 'SILTSTONE', 320: 'WACKE', 220: 'WACKE', 566: 'WACKE', 401: 'WACKE', 902: 'TRACHYTIC-ROCK', 3: 'TUFF AND AGGLOMERATE', 909: 'GRANITE', 628: 'MICRODIORITE, PORPHYRITIC', 359: 'TUFF', 508: 'OLIVINE-BASALT', 323: 'LIMESTONE', 451: 'MUDSTONE', 221: 'SANDSTONE', 420: 'MUDSTONE', 553: 'SANDSTONE', 609: 'MICROGRANITE, PORPHYRITIC', 690: 'QUARTZ-MICROGABBRO', 406: 'GRANITIC-ROCK', 69: 'MICRODIORITIC-ROCK', 757: 'GABBROIC-ROCK', 708: 'BASANITE', 803: 'TRACHYTIC-ROCK', 904: 'TRACHYBASALT', 23: 'TRACHYTE', 250: 'LIMESTONE', 7: 'BASALT', 90: 'LIMESTONE', 941: 'MUGEARITE', 908: 'TUFF AND AGGLOMERATE', 900: 'LAVA, FELSIC', 720: 'OLIVINE-BASALT', 210: 'SEDIMENTARY ROCK CYCLES, STRATHCLYDE GROUP TYPE', 20: 'SANDSTONE, SILTSTONE AND MUDSTONE', 640: 'MUDSTONE, SILTSTONE AND SANDSTONE', 733: 'SEDIMENTARY ROCK CYCLES, CLACKMANNAN GROUP TYPE', 914: 'SANDSTONE WITH SUBORDINATE ARGILLACEOUS ROCKS AND LIMESTONE', 935: 'SANDSTONE AND SEATEARTH', 5: 'TUFF, TRACHYTIC', 222: 'SEDIMENTARY ROCK CYCLES, COAL MEASURE TYPE', 940: 'MAFITE', 903: 'TRACHYTIC-ROCK', 633: 'SANDSTONE AND [SUBEQUAL/SUBORDINATE] ARGILLACEOUS ROCKS, INTERBEDDED', 644: 'SEDIMENTARY ROCK CYCLES, STRATHCLYDE GROUP TYPE', 650: 'SANDSTONE AND MUDSTONE', 507: 'FELSITE, PORPHYRITIC', 905: 'FELSITE, ALBITE', 446: 'WACKE', 372: 'MUDSTONE', 524: 'WACKE'}\n",
            "All done\n"
          ]
        }
      ]
    },
    {
      "cell_type": "code",
      "source": [],
      "metadata": {
        "id": "2yoxJAtkK0Y5"
      },
      "execution_count": null,
      "outputs": []
    }
  ]
}