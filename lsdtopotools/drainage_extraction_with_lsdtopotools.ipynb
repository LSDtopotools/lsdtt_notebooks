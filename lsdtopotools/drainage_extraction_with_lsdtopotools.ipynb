{
  "cells": [
    {
      "cell_type": "markdown",
      "metadata": {
        "id": "view-in-github",
        "colab_type": "text"
      },
      "source": [
        "<a href=\"https://colab.research.google.com/github/LSDtopotools/lsdtt_notebooks/blob/master/lsdtopotools/drainage_extraction_with_lsdtopotools.ipynb\" target=\"_parent\"><img src=\"https://colab.research.google.com/assets/colab-badge.svg\" alt=\"Open In Colab\"/></a>"
      ]
    },
    {
      "cell_type": "markdown",
      "id": "bf2b7788",
      "metadata": {
        "id": "bf2b7788"
      },
      "source": [
        "# Drainage extraction"
      ]
    },
    {
      "cell_type": "markdown",
      "id": "4c596c1b",
      "metadata": {
        "id": "4c596c1b"
      },
      "source": [
        "In this notebook we will extract and plot some drainage areas. We will compare plotting using `lsdviztools` and `cartopy`. `cartopy` alongside `rasterio` is more felxible: there are general mapping tools. `lsdviztools` is a package built by the authors of *lsdtopotools* that is specifically for producing publication ready figure for specific studies. The documentation is much better for `cartopy` and `rasterio`. \n",
        "\n",
        "But first, we need to perform a drainage extraction from some test data. We are going to use a small lidar dataset. "
      ]
    },
    {
      "cell_type": "markdown",
      "source": [
        "## Stuff we need to do if you are in colab (not required in the lsdtopotools pytools container)"
      ],
      "metadata": {
        "id": "QKy7_wKyMn9K"
      },
      "id": "QKy7_wKyMn9K"
    },
    {
      "cell_type": "markdown",
      "source": [
        "First we install `lsdviztools`. \n",
        "\n",
        "Note that if we install `condacolab` first the `lsdviztools` installation fails. "
      ],
      "metadata": {
        "id": "UVnt20YbQgIN"
      },
      "id": "UVnt20YbQgIN"
    },
    {
      "cell_type": "code",
      "source": [
        "!pip install lsdviztools"
      ],
      "metadata": {
        "id": "Se7ToFPsPBp6"
      },
      "execution_count": null,
      "outputs": [],
      "id": "Se7ToFPsPBp6"
    },
    {
      "cell_type": "markdown",
      "source": [
        "Now we need to install lsdtopotools. We do this using something called `condacolab`. "
      ],
      "metadata": {
        "id": "LNOjp2ocMzFE"
      },
      "id": "LNOjp2ocMzFE"
    },
    {
      "cell_type": "code",
      "source": [
        "!pip install -q condacolab\n",
        "import condacolab\n",
        "condacolab.install()"
      ],
      "metadata": {
        "id": "QdIvUR9cKKje"
      },
      "execution_count": null,
      "outputs": [],
      "id": "QdIvUR9cKKje"
    },
    {
      "cell_type": "markdown",
      "source": [
        "Now install `lsdtopotools`. The `&> /dev/null` bit just stops a bunch of rubbish being printed to the screen."
      ],
      "metadata": {
        "id": "OXv9Ha5WN_n5"
      },
      "id": "OXv9Ha5WN_n5"
    },
    {
      "cell_type": "code",
      "source": [
        "!mamba install lsdtopotools &> /dev/null"
      ],
      "metadata": {
        "id": "XvtS3ptLKLTz"
      },
      "execution_count": null,
      "outputs": [],
      "id": "XvtS3ptLKLTz"
    },
    {
      "cell_type": "markdown",
      "id": "8664a9f5",
      "metadata": {
        "id": "8664a9f5"
      },
      "source": [
        "## Add some necessary packages"
      ]
    },
    {
      "cell_type": "code",
      "execution_count": null,
      "id": "8fd137cd",
      "metadata": {
        "id": "8fd137cd"
      },
      "outputs": [],
      "source": [
        "import lsdviztools.lsdmapwrappers as lsdmw\n",
        "import lsdviztools.lsdbasemaptools as bmt\n",
        "from lsdviztools.lsdplottingtools import lsdmap_gdalio as gio"
      ]
    },
    {
      "cell_type": "markdown",
      "id": "5cdc7643",
      "metadata": {
        "id": "5cdc7643"
      },
      "source": [
        "### Get the example data"
      ]
    },
    {
      "cell_type": "markdown",
      "id": "0d7cf8d1",
      "metadata": {
        "id": "0d7cf8d1"
      },
      "source": [
        "The example data is an 18 Mb topographic dataset which you need to download:"
      ]
    },
    {
      "cell_type": "code",
      "execution_count": null,
      "id": "24407b7a",
      "metadata": {
        "id": "24407b7a"
      },
      "outputs": [],
      "source": [
        "# Get the data from github\n",
        "import urllib\n",
        "urllib.request.urlretrieve(\"https://raw.githubusercontent.com/LSDtopotools/ExampleTopoDatasets/master/ChannelExtractionData/Guadalupe_1m/Guadalupe_DEM.hdr\", \"Guadalupe_DEM.hdr\")\n",
        "urllib.request.urlretrieve(\"https://raw.githubusercontent.com/LSDtopotools/ExampleTopoDatasets/master/ChannelExtractionData/Guadalupe_1m/Guadalupe_DEM.bil\", \"Guadalupe_DEM.bil\")"
      ]
    },
    {
      "cell_type": "markdown",
      "source": [
        "Lets make sure that file (`Guadalupe_DEM.bil` and its header) have been downloaded:"
      ],
      "metadata": {
        "id": "bQyNMxOjAvD1"
      },
      "id": "bQyNMxOjAvD1"
    },
    {
      "cell_type": "code",
      "source": [
        "!ls"
      ],
      "metadata": {
        "id": "AdzpxDbjA1Gz"
      },
      "id": "AdzpxDbjA1Gz",
      "execution_count": null,
      "outputs": []
    },
    {
      "cell_type": "markdown",
      "id": "2148a0f7",
      "metadata": {
        "id": "2148a0f7"
      },
      "source": [
        "## Extract the drainage area using a variety of methods"
      ]
    },
    {
      "cell_type": "markdown",
      "id": "69396883",
      "metadata": {
        "id": "69396883"
      },
      "source": [
        "The below call to *lsdtt-basic-metrics* asks for a d8, a d-infinity, and a multidirection flow accumulation rasters."
      ]
    },
    {
      "cell_type": "code",
      "execution_count": null,
      "id": "be0a7ed2",
      "metadata": {
        "id": "be0a7ed2"
      },
      "outputs": [],
      "source": [
        "lsdtt_parameters = {\"write_hillshade\" : \"true\",\n",
        "                    \"print_d8_drainage_area_raster\" : \"true\",\n",
        "                    \"print_dinf_drainage_area_raster\" : \"true\",\n",
        "                    \"print_MD_drainage_area_raster\" : \"true\"}\n",
        "r_prefix = \"Guadalupe_DEM\"\n",
        "w_prefix = \"Guadalupe_DEM\"\n",
        "lsdtt_drive = lsdmw.lsdtt_driver(command_line_tool = \"lsdtt-basic-metrics\", \n",
        "                                 read_prefix = r_prefix,\n",
        "                                 write_prefix= w_prefix,\n",
        "                                 read_path = \"./\",\n",
        "                                 write_path = \"./\",\n",
        "                                 parameter_dictionary=lsdtt_parameters)\n",
        "lsdtt_drive.print_parameters()\n",
        "lsdtt_drive.run_lsdtt_command_line_tool()"
      ]
    },
    {
      "cell_type": "markdown",
      "id": "45e23531",
      "metadata": {
        "id": "45e23531"
      },
      "source": [
        "We can look at the files we generated using an `ls` call to the underlying file system (we access the underlying system with the symbol `!`:"
      ]
    },
    {
      "cell_type": "code",
      "execution_count": null,
      "id": "d299c8fe",
      "metadata": {
        "id": "d299c8fe"
      },
      "outputs": [],
      "source": [
        "!ls"
      ]
    },
    {
      "cell_type": "markdown",
      "id": "72bd7df7",
      "metadata": {
        "id": "72bd7df7"
      },
      "source": [
        "You should see several rasters with `_area` in the filename as well as an indicator of what method was used. Lets have a look at these data. "
      ]
    },
    {
      "cell_type": "markdown",
      "id": "8e146acd",
      "metadata": {
        "id": "8e146acd"
      },
      "source": [
        "## Plotting the data with imshow "
      ]
    },
    {
      "cell_type": "markdown",
      "id": "a72c9a4a",
      "metadata": {
        "id": "a72c9a4a"
      },
      "source": [
        "First we jut plot the draiange are with imshow and rasterio with no real adjustments to the plotting:"
      ]
    },
    {
      "cell_type": "code",
      "execution_count": null,
      "id": "cb6cbfa1",
      "metadata": {
        "scrolled": true,
        "id": "cb6cbfa1"
      },
      "outputs": [],
      "source": [
        "%matplotlib inline\n",
        "import rasterio\n",
        "from matplotlib import pyplot as plt\n",
        "from matplotlib.colors import LogNorm\n",
        "\n",
        "fig, ax = plt.subplots()\n",
        "src = rasterio.open('Guadalupe_DEM_d8_area.bil')\n",
        "cs = ax.imshow(src.read(1), cmap='pink')\n",
        "\n",
        "cbar = fig.colorbar(cs,label=\"Drainage area\")"
      ]
    },
    {
      "cell_type": "markdown",
      "id": "32240d4b",
      "metadata": {
        "id": "32240d4b"
      },
      "source": [
        "There are some rather glaring problems with this plot:\n",
        "    \n",
        "* You can't see anything on the plot (if you really squint you can see a single channel.\n",
        "* The axes labels don't retain spatial information (imshow plots axes with pixel numbers and doesn't know anything about geography).\n",
        "\n",
        "We will fix there problems one at a time."
      ]
    },
    {
      "cell_type": "markdown",
      "id": "3fbc436e",
      "metadata": {
        "id": "3fbc436e"
      },
      "source": [
        "### Fix the problem with not being able to see the channels"
      ]
    },
    {
      "cell_type": "markdown",
      "id": "cefc8e17",
      "metadata": {
        "id": "cefc8e17"
      },
      "source": [
        "The problem with not being able to see the channels is becasue drainage area varies over several orders of magnitude. Whenever you have a dataset that varies over several orders of magnitude and you want to plot the data your best option is to use a logarithmic scale. So I will do that below:"
      ]
    },
    {
      "cell_type": "code",
      "execution_count": null,
      "id": "c4953d1c",
      "metadata": {
        "id": "c4953d1c"
      },
      "outputs": [],
      "source": [
        "%matplotlib inline\n",
        "import rasterio\n",
        "from matplotlib import pyplot as plt\n",
        "from matplotlib.colors import LogNorm\n",
        "\n",
        "fig, ax = plt.subplots()\n",
        "src = rasterio.open('Guadalupe_DEM_d8_area.bil')\n",
        "cs = ax.imshow(src.read(1), cmap='pink', norm=LogNorm(vmin=100, vmax=100000000))\n",
        "\n",
        "cbar = fig.colorbar(cs,label=\"Drainage area\")\n",
        "#cbar.ax.minorticks_off()  # Uncomment this if the colourbar is too cluttered"
      ]
    },
    {
      "cell_type": "markdown",
      "id": "3222b961",
      "metadata": {
        "id": "3222b961"
      },
      "source": [
        "That looks better! Now for the next problem: we need some spatial coordinates. \n",
        "To do this we need to get geospatial information from the raster. Rasterio is great for this purpose. "
      ]
    },
    {
      "cell_type": "markdown",
      "id": "c4f6924d",
      "metadata": {
        "id": "c4f6924d"
      },
      "source": [
        "### Getting geospatial information from your DEM using rasterio"
      ]
    },
    {
      "cell_type": "code",
      "execution_count": null,
      "id": "0048ba3b",
      "metadata": {
        "id": "0048ba3b"
      },
      "outputs": [],
      "source": [
        "import cartopy as cp\n",
        "import cartopy.crs as ccrs"
      ]
    },
    {
      "cell_type": "markdown",
      "id": "54637080",
      "metadata": {
        "id": "54637080"
      },
      "source": [
        "First we get the extent of the DEM. We need this for plotting later"
      ]
    },
    {
      "cell_type": "code",
      "execution_count": null,
      "id": "87c65678",
      "metadata": {
        "id": "87c65678"
      },
      "outputs": [],
      "source": [
        "bounds = src.bounds\n",
        "Extent = [bounds.left,bounds.right,bounds.bottom,bounds.top]"
      ]
    },
    {
      "cell_type": "markdown",
      "id": "f288c611",
      "metadata": {
        "id": "f288c611"
      },
      "source": [
        "Then we get the coordinate reference system (`crs`). \n",
        "\n",
        "*LSDTopoTools* uses the UTM coordinate system as a default. You need to use the UTM zone for plotting later. So you will need to just read the zone (the last two digits in the output from the next command) for the steps thereafter."
      ]
    },
    {
      "cell_type": "code",
      "execution_count": null,
      "id": "fc791628",
      "metadata": {
        "id": "fc791628"
      },
      "outputs": [],
      "source": [
        "src.crs"
      ]
    },
    {
      "cell_type": "markdown",
      "id": "fad3bb6b",
      "metadata": {
        "id": "fad3bb6b"
      },
      "source": [
        "Okay, so the last two digits are `13` so in the below code there are a number of instances of calls to `.UTM` and we need to put `13` in each of these calls. If you had a different dataset you would use that dataset's UTM zone. "
      ]
    },
    {
      "cell_type": "code",
      "execution_count": null,
      "id": "a7929f7e",
      "metadata": {
        "id": "a7929f7e"
      },
      "outputs": [],
      "source": [
        "fig = plt.figure()\n",
        "\n",
        "# Set the projection to UTM zone 13\n",
        "ax = fig.add_subplot(1, 1, 1, projection=ccrs.UTM(13))\n",
        "\n",
        "# Limit the extent of the map to a small longitude/latitude range.\n",
        "ax.set_extent(Extent, crs=ccrs.UTM(13))\n",
        "ax.gridlines(draw_labels=True, dms=False, x_inline=False, y_inline=False)\n",
        "cs = ax.imshow(src.read(1), cmap='pink', norm=LogNorm(vmin=100, vmax=100000000),\n",
        "               extent=Extent, transform=ccrs.UTM(13), origin=\"upper\")\n",
        "\n",
        "# Add some padding to the colourbar so it doesn't overlap with the axis labels using pad command\n",
        "cbar = fig.colorbar(cs,label=\"Drainage area\",pad=0.2)\n",
        "#fig.savefig(\"test.png\", dpi=300)"
      ]
    },
    {
      "cell_type": "markdown",
      "id": "d45d272d",
      "metadata": {
        "id": "d45d272d"
      },
      "source": [
        "Okay, now we have a plot with spatial coordinates! Thanks `cartopy`! We will try to make the image nicer by draping the drainage area over a hillshade. "
      ]
    },
    {
      "cell_type": "markdown",
      "id": "0bc243cf",
      "metadata": {
        "id": "0bc243cf"
      },
      "source": [
        "### Fixing a washed out hillshade "
      ]
    },
    {
      "cell_type": "markdown",
      "id": "751978fe",
      "metadata": {
        "id": "751978fe"
      },
      "source": [
        "Before we do the final part I need to show you a potential problem with the hillshade and using `imshow`. \n",
        "Let's plot the hillshade data using the same method as last time:"
      ]
    },
    {
      "cell_type": "code",
      "execution_count": null,
      "id": "a4eeab02",
      "metadata": {
        "scrolled": true,
        "id": "a4eeab02"
      },
      "outputs": [],
      "source": [
        "# First load the hillshade with rasterio\n",
        "DEMHSdata = rasterio.open('Guadalupe_DEM_HS.bil')\n",
        "\n",
        "# Now plot. We remove the code with the logarithmic scale for the hillshde image\n",
        "fig = plt.figure()\n",
        "ax = fig.add_subplot(1, 1, 1, projection=ccrs.UTM(13))\n",
        "# Limit the extent of the map to a small longitude/latitude range.\n",
        "ax.set_extent(Extent, crs=ccrs.UTM(13))\n",
        "ax.gridlines(draw_labels=True, dms=False, x_inline=False, y_inline=False)\n",
        "cs = ax.imshow(DEMHSdata.read(1), cmap='gray', \n",
        "               extent=Extent, transform=ccrs.UTM(13), origin=\"upper\")"
      ]
    },
    {
      "cell_type": "markdown",
      "id": "3ebdc9f6",
      "metadata": {
        "id": "3ebdc9f6"
      },
      "source": [
        "Hey, what gives? That doesn't look like a hillshade!!\n",
        "\n",
        "The problem is that there is some nodata in this raster, and the nodata value is -9999. The hillshade data has values between 0 and 256 so these -9999 values wash out the colour scale. You can fix this in two ways. \n",
        "\n",
        "One is you can plot the colourbar only over a range, using the colour limits that are denoted using `vmin` and `vmax`. Like this:"
      ]
    },
    {
      "cell_type": "code",
      "execution_count": null,
      "id": "329cd4a5",
      "metadata": {
        "id": "329cd4a5"
      },
      "outputs": [],
      "source": [
        "# Now plot. We remove the code with the logarithmic scale for the hillshde image\n",
        "fig = plt.figure()\n",
        "ax = fig.add_subplot(1, 1, 1, projection=ccrs.UTM(13))\n",
        "# Limit the extent of the map to a small longitude/latitude range.\n",
        "ax.set_extent(Extent, crs=ccrs.UTM(13))\n",
        "ax.gridlines(draw_labels=True, dms=False, x_inline=False, y_inline=False)\n",
        "cs = ax.imshow(DEMHSdata.read(1), cmap='gray', vmin=0, vmax=256,\n",
        "               extent=Extent, transform=ccrs.UTM(13), origin=\"upper\")"
      ]
    },
    {
      "cell_type": "markdown",
      "id": "5f6dfd76",
      "metadata": {
        "id": "5f6dfd76"
      },
      "source": [
        "Alternatively you could load the data as an array and use `numpy` array manipulation tools to get rid of those -9999 values. "
      ]
    },
    {
      "cell_type": "code",
      "execution_count": null,
      "id": "7f4f8ec9",
      "metadata": {
        "id": "7f4f8ec9"
      },
      "outputs": [],
      "source": [
        "import numpy as np\n",
        "DEMHSdata = rasterio.open('Guadalupe_DEM_HS.bil')\n",
        "arrayHS = DEMHSdata.read(1)\n",
        "arrayHS[arrayHS==-9999]=np.nan\n",
        "plt.imshow(arrayHS,cmap=\"gray\")"
      ]
    },
    {
      "cell_type": "code",
      "execution_count": null,
      "id": "1038665d",
      "metadata": {
        "id": "1038665d"
      },
      "outputs": [],
      "source": [
        "DEMHSdata = rasterio.open('Guadalupe_DEM_HS.bil')\n",
        "fig = plt.figure()\n",
        "ax = fig.add_subplot(1, 1, 1, projection=ccrs.UTM(13))\n",
        "# Limit the extent of the map to a small longitude/latitude range.\n",
        "ax.set_extent(Extent, crs=ccrs.UTM(13))\n",
        "ax.gridlines(draw_labels=True, dms=False, x_inline=False, y_inline=False)\n",
        "ax.imshow(arrayHS, cmap='gray',\n",
        "              extent=Extent, transform=ccrs.UTM(13), origin=\"upper\",\n",
        "               alpha = 1)\n",
        "cs = ax.imshow(src.read(1), cmap='pink', norm=LogNorm(vmin=100, vmax=100000000),\n",
        "               extent=Extent, transform=ccrs.UTM(13), origin=\"upper\",\n",
        "               zorder=2,alpha=0.3)\n",
        "cbar = fig.colorbar(cs,label=\"Drainage area\",pad=0.15)"
      ]
    },
    {
      "cell_type": "markdown",
      "id": "31a2d19c",
      "metadata": {
        "id": "31a2d19c"
      },
      "source": [
        "## Okay, lets try the same thing with lsdviztools"
      ]
    },
    {
      "cell_type": "markdown",
      "id": "151e94a7",
      "metadata": {
        "id": "151e94a7"
      },
      "source": [
        "`lsdviztools` is less flexible than using cartopy and matplotlib: it is built on top of those two packages to make images specifically for publication and if you wanted to make changes you would need to go into the source code. But for specific maps we think the formatting is rather nice."
      ]
    },
    {
      "cell_type": "code",
      "execution_count": null,
      "id": "893d8222",
      "metadata": {
        "id": "893d8222"
      },
      "outputs": [],
      "source": [
        "### Plot the topographic gradient  \n",
        "Base_file = \"Guadalupe_DEM\"\n",
        "Drape_prefix = r_prefix+\"_dinf_area\"\n",
        "DataDirectory = \"./\"\n",
        "this_area_img = lsdmw.SimpleDrape(DataDirectory,Base_file,Drape_prefix, cmap=\"pink\", \n",
        "                                       cbar_label = \"Drainage area\",\n",
        "                                       cbar_loc = \"bottom\",\n",
        "                                       drape_cnorm = \"LogNorm\",\n",
        "                                       colour_min_max = [1000,10000000],\n",
        "                                       save_fig=True, size_format=\"ESURF\",dpi=600)"
      ]
    },
    {
      "cell_type": "code",
      "execution_count": null,
      "id": "a4b61a30",
      "metadata": {
        "id": "a4b61a30"
      },
      "outputs": [],
      "source": [
        "print(this_area_img)\n",
        "from IPython.display import display, Image\n",
        "display(Image(filename=this_area_img, width=600))"
      ]
    },
    {
      "cell_type": "markdown",
      "id": "238f1975",
      "metadata": {
        "id": "238f1975"
      },
      "source": [
        "Congratulations! You should now have an idea about how to both extract and plot drainage area using *LSDTopoTools*"
      ]
    },
    {
      "cell_type": "code",
      "execution_count": null,
      "id": "a8e2a151",
      "metadata": {
        "id": "a8e2a151"
      },
      "outputs": [],
      "source": [
        ""
      ]
    }
  ],
  "metadata": {
    "kernelspec": {
      "display_name": "Python 3 (ipykernel)",
      "language": "python",
      "name": "python3"
    },
    "language_info": {
      "codemirror_mode": {
        "name": "ipython",
        "version": 3
      },
      "file_extension": ".py",
      "mimetype": "text/x-python",
      "name": "python",
      "nbconvert_exporter": "python",
      "pygments_lexer": "ipython3",
      "version": "3.8.10"
    },
    "colab": {
      "name": "drainage_extraction_with_lsdtopotools.ipynb",
      "provenance": [],
      "include_colab_link": true
    }
  },
  "nbformat": 4,
  "nbformat_minor": 5
}