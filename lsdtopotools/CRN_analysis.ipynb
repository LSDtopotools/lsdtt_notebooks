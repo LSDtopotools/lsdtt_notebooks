{
 "cells": [
  {
   "cell_type": "markdown",
   "id": "e3354e4b",
   "metadata": {},
   "source": [
    "# Erosion rates from CRN concentrations"
   ]
  },
  {
   "cell_type": "markdown",
   "id": "f536f50f",
   "metadata": {},
   "source": [
    "In this example we will use CAIRN (https://doi.org/10.5194/esurf-4-655-2016) to calculate erosion rates based on the concentration of $^{10}$Be in detrital sediments.\n",
    "\n",
    "This method requires some input files that we will get from example data."
   ]
  },
  {
   "cell_type": "markdown",
   "id": "5d95763d",
   "metadata": {},
   "source": [
    "## Get the example data"
   ]
  },
  {
   "cell_type": "markdown",
   "id": "c3b3eb5e",
   "metadata": {},
   "source": [
    "We need to get the example files. There are 7 files\n",
    "\n",
    "* Two files that have atmopheric data that are used to caculate cosmogenic production rates\n",
    "* The DEM (a `bil` and a `hdr` file)\n",
    "* Three files that have parameters for the cosmogenic analyis. \n",
    "\n",
    "The first two files are the same for any cosmogenic analysis. \n",
    "If you are using `lsdtopotools` you should be quite familiar with DEMs and topogaphic data. \n",
    "So after we download the files we will look in detail at the parameter files"
   ]
  },
  {
   "cell_type": "code",
   "execution_count": null,
   "id": "3a00b369",
   "metadata": {},
   "outputs": [],
   "source": [
    "import urllib.request\n",
    "urllib.request.urlretrieve(\"https://github.com/LSDtopotools/ExampleTopoDatasets/raw/master/CRNData/NCEP2.bin\", \"NCEP2.bin\")\n",
    "urllib.request.urlretrieve(\"https://github.com/LSDtopotools/ExampleTopoDatasets/raw/master/CRNData/NCEP_hgt.bin\", \"NCEP_hgt.bin\")\n",
    "urllib.request.urlretrieve(\"https://github.com/LSDtopotools/ExampleTopoDatasets/raw/master/CRNData/SanBern.bil\", \"SanBern.bil\")\n",
    "urllib.request.urlretrieve(\"https://github.com/LSDtopotools/ExampleTopoDatasets/raw/master/CRNData/SanBern.hdr\", \"SanBern.hdr\")\n",
    "urllib.request.urlretrieve(\"https://github.com/LSDtopotools/ExampleTopoDatasets/raw/master/CRNData/SanBern_SS_CRNData.csv\", \"SanBern_SS_CRNData.csv\")\n",
    "urllib.request.urlretrieve(\"https://github.com/LSDtopotools/ExampleTopoDatasets/raw/master/CRNData/SanBern_SS_CRNRasters.csv\", \"SanBern_SS_CRNRasters.csv\")\n",
    "urllib.request.urlretrieve(\"https://github.com/LSDtopotools/ExampleTopoDatasets/raw/master/CRNData/SanBern_SS.CRNParam\", \"SanBern_SS.CRNParam\")"
   ]
  },
  {
   "cell_type": "markdown",
   "id": "92aaa394",
   "metadata": {},
   "source": [
    "We can just look at the files to see if they are all here:"
   ]
  },
  {
   "cell_type": "code",
   "execution_count": null,
   "id": "118550ca",
   "metadata": {},
   "outputs": [],
   "source": [
    "!ls SanBern*"
   ]
  },
  {
   "cell_type": "markdown",
   "id": "a2b4742f",
   "metadata": {},
   "source": [
    "## CAIRN parameter files"
   ]
  },
  {
   "cell_type": "markdown",
   "id": "fb889a2b",
   "metadata": {},
   "source": [
    "Right, lets have a look at carin parameter files. We will use pandas to look at their contents.\n",
    "\n",
    "Any CAIRN run needs three files. Their filename will contain the prefix of the DEM (here `SanBern`) and then the three file extensions:\n",
    "\n",
    "* `_CRNData.csv`: The data containing information about the data from the samples.\n",
    "* `_CRNRasters.csv`: This contains data about the underlying rasters\n",
    "* `.CRNParam`: This has other parameters about the analysis. "
   ]
  },
  {
   "cell_type": "code",
   "execution_count": null,
   "id": "dac3c522",
   "metadata": {},
   "outputs": [],
   "source": [
    "import pandas as pd\n",
    "CRNData_df = pd.read_csv(\"SanBern_SS_CRNData.csv\")\n",
    "CRNData_df.head()"
   ]
  },
  {
   "cell_type": "markdown",
   "id": "9c9d0a2c",
   "metadata": {},
   "source": [
    "All the columns in this file are required. The `sample_name`, `sample_latitude`, and `sample_longitude` should be self explanatory, although `sample_name` is always read as a string (so you can put any combinations of letters and numbers here, but please no spaces!!), and the latitude and longitude are in decimal degrees. The `nuclide` can be `Be10`, `Al26`, `C14`, or `Ne21`. The `concentration` and `AMS_uncertainty` are both in atoms/g. The final column, `standardisation`, must come from a predifined list.\n",
    "\n",
    "The standardisations are:\n",
    "* For 10Be: \n",
    "\n",
    "`07KNSTD`,`KNSTD`,`NIST_Certified`,`LLNL31000`,`LLNL10000`,`LLNL3000`,`LLNL1000`,`LLNL300`,`NIST_30000`,`NIST_30200`,`NIST_30300`,`NIST_30600`,`NIST_27900`,`S555`,`S2007`,`BEST433`,`BEST433N`,`S555N`,`S2007N`\n",
    "* For 26Al:\n",
    "\n",
    "`KNSTD`,`ZAL94`,`SMAL11`,`0`,`ZAL94N`,`ASTER`,`Z92-0222`\n",
    "\n",
    "These standards are reported by the lab that processed your data. If the standard isn't recognised then the the KN standard will be applied (which just scales the measured concentration by 1). "
   ]
  },
  {
   "cell_type": "code",
   "execution_count": null,
   "id": "b6db6527",
   "metadata": {},
   "outputs": [],
   "source": [
    "CRNData_df = pd.read_csv(\"CRNParam\")\n",
    "CRNData_df.head()"
   ]
  },
  {
   "cell_type": "markdown",
   "id": "dc6742bb",
   "metadata": {},
   "source": [
    "## Running an analysis"
   ]
  },
  {
   "cell_type": "markdown",
   "id": "6ead173a",
   "metadata": {},
   "source": [
    "First we need to import some modules from `lsdviztools`:"
   ]
  },
  {
   "cell_type": "code",
   "execution_count": null,
   "id": "1081f9ff",
   "metadata": {},
   "outputs": [],
   "source": [
    "import lsdviztools.lsdbasemaptools as bmt\n",
    "from lsdviztools.lsdplottingtools import lsdmap_gdalio as gio\n",
    "import lsdviztools.lsdmapwrappers as lsdmw"
   ]
  },
  {
   "cell_type": "markdown",
   "id": "b52a6fcc",
   "metadata": {},
   "source": [
    "Lets get a hillshade an look at some of the points"
   ]
  },
  {
   "cell_type": "code",
   "execution_count": null,
   "id": "92d51aba",
   "metadata": {},
   "outputs": [],
   "source": [
    "# IMPORTANT all the parameter values must be passed as strings. \n",
    "# So even if the parameter is a number it always needs to be in quotations\n",
    "lsdtt_parameters = {\"write_hillshade\" : \"true\"}\n",
    "r_prefix = \"SanBern\"\n",
    "w_prefix = \"SanBern\"\n",
    "lsdtt_drive = lsdmw.lsdtt_driver(read_prefix = r_prefix,\n",
    "                                 write_prefix= w_prefix,\n",
    "                                 read_path = \"./\",\n",
    "                                 write_path = \"./\",\n",
    "                                 parameter_dictionary=lsdtt_parameters)\n",
    "lsdtt_drive.print_parameters()\n",
    "lsdtt_drive.run_lsdtt_command_line_tool()"
   ]
  },
  {
   "cell_type": "code",
   "execution_count": null,
   "id": "d04b3b31",
   "metadata": {},
   "outputs": [],
   "source": [
    "%%capture \n",
    "DataDirectory = \"./\"\n",
    "\n",
    "# Use the capture comment to get rid of all the text\n",
    "# But it will also not display an inline image\n",
    "# So you need to call the image from the next line of code           \n",
    "Base_file = r_prefix\n",
    "this_img = lsdmw.SimpleHillshade(DataDirectory,Base_file,cmap=\"gist_earth\", \n",
    "                                 save_fig=True, size_format=\"geomorphology\",dpi=600)\n"
   ]
  },
  {
   "cell_type": "code",
   "execution_count": null,
   "id": "c20dbbb1",
   "metadata": {},
   "outputs": [],
   "source": [
    "from IPython.display import display, Image\n",
    "display(Image(filename=this_img, width=800))"
   ]
  },
  {
   "cell_type": "markdown",
   "id": "5e8fef7a",
   "metadata": {},
   "source": [
    "## Check the cosmo data"
   ]
  },
  {
   "cell_type": "markdown",
   "id": "f38a286e",
   "metadata": {},
   "source": [
    "In this next step we check to see if the cosmo data is in the right place"
   ]
  },
  {
   "cell_type": "code",
   "execution_count": null,
   "id": "aba17303",
   "metadata": {},
   "outputs": [],
   "source": [
    "# IMPORTANT all the parameter values must be passed as strings. \n",
    "# So even if the parameter is a number it always needs to be in quotations\n",
    "lsdtt_parameters = {\"cosmo_parameter_prefix\" : \"SanBern\",\n",
    "                    \"check_cosmo_basins\" : \"true\"}\n",
    "r_prefix = \"SanBern\"\n",
    "w_prefix = \"SanBern\"\n",
    "lsdtt_drive = lsdmw.lsdtt_driver(command_line_tool = \"lsdtt-cosmo-tool\",\n",
    "                                 read_prefix = r_prefix,\n",
    "                                 write_prefix= w_prefix,\n",
    "                                 read_path = \"./\",\n",
    "                                 write_path = \"./\",\n",
    "                                 parameter_dictionary=lsdtt_parameters)\n",
    "lsdtt_drive.print_parameters()\n",
    "lsdtt_drive.run_lsdtt_command_line_tool()"
   ]
  },
  {
   "cell_type": "code",
   "execution_count": null,
   "id": "27e09a85",
   "metadata": {},
   "outputs": [],
   "source": []
  }
 ],
 "metadata": {
  "kernelspec": {
   "display_name": "Python 3 (ipykernel)",
   "language": "python",
   "name": "python3"
  },
  "language_info": {
   "codemirror_mode": {
    "name": "ipython",
    "version": 3
   },
   "file_extension": ".py",
   "mimetype": "text/x-python",
   "name": "python",
   "nbconvert_exporter": "python",
   "pygments_lexer": "ipython3",
   "version": "3.8.13"
  }
 },
 "nbformat": 4,
 "nbformat_minor": 5
}
