{
 "cells": [
  {
   "cell_type": "markdown",
   "metadata": {},
   "source": [
    "# `lsdtopytools` a python binding to LSDTopoTools topographic analysis engine\n",
    "\n",
    "This notebook presents briefly some base functionalities of `lsdtopytools`:\n",
    "- how to load a DEM\n",
    "- how to ready the tool for fluvial analysis\n",
    "- how to calculate a basic river network\n",
    "- how to calculate chi and $k_{sn}$\n",
    "- how to visualise the results\n",
    "\n",
    "\n",
    "## Importing the software and other utilities into the script\n",
    "\n",
    "The fisrt step is to import the different packages we will utilise in this notebook. \n",
    "- `lsdtopytools` is the python binding to LSDTopoTools, it contains the specific algorithm for topographic analysis\n",
    "- `matplotlib` for visualisation\n",
    "- `numpy` to deal with array-type outputs (_e.g._ array-wide operations)\n",
    "- `pandas` to deal with table-type data (_e.g._ river points)"
   ]
  },
  {
   "cell_type": "code",
   "execution_count": 2,
   "metadata": {},
   "outputs": [],
   "source": [
    "import lsdtopytools as lsd\n",
    "from matplotlib import pyplot as plt\n",
    "import numpy as np\n",
    "import pandas as pd\n",
    "%matplotlib inline"
   ]
  },
  {
   "cell_type": "code",
   "execution_count": 3,
   "metadata": {},
   "outputs": [
    {
     "name": "stdout",
     "output_type": "stream",
     "text": [
      "The source is: SRTMGL1\n",
      "The west longitude is: -120.464655\n",
      "The east longitude is: -120.254214\n",
      "The south latitude is: 34.61077\n",
      "The north latitude is: 34.440538\n",
      "The path is: ./\n",
      "The prefix is: lg_conception\n",
      "The resolution is: 30\n",
      "I am going to download the following for you:\n",
      "https://portal.opentopography.org/API/globaldem?demtype=SRTMGL1&south=34.440538&north=34.61077&west=-120.464655&east=-120.254214&outputFormat=GTiff\n",
      "This might take a little while, depending on the size of the file. \n",
      "The filename will be:\n",
      "./lg_conception_SRTMGL1.tif\n",
      "The path and file without path are:\n",
      "./  lg_conception_SRTMGL1.tif\n",
      "Finished downloading\n"
     ]
    }
   ],
   "source": [
    "import lsdviztools.lsdbasemaptools as bmt\n",
    "SB_DEM = bmt.ot_scraper(source = \"SRTM30\",longitude_W = -120.464655, longitude_E = -120.254214, latitude_S = 34.440538, latitude_N = 34.610770,prefix = \"lg_conception\")\n",
    "SB_DEM.print_parameters()\n",
    "SB_DEM.download_pythonic()\n",
    "RasterFile = \"lg_conception_SRTM30.tif\""
   ]
  },
  {
   "cell_type": "markdown",
   "metadata": {},
   "source": [
    "## Loading the DEM \n",
    "\n",
    "We use GDAL to load the DEM. Any common format is accepted (tif, bil, asc, ...) and the DEM should be in a metric projection (else, the units are not very instinctive). This function creates a LSDDEM python object. This object includes an underlying module called `lsdtt-xtensor-python` which deals with the communications with the `c++` code using `xtensor-python` from [Quantstack](https://github.com/QuantStack/).\n",
    "\n",
    "The LSDDEM object is the base object of `lsdtopytools` to deal with DEM operations. It includes a number of options:\n",
    "\n",
    "- `path (str)`: The relative or absolute path to your file. For example `C:Data/DEM/`.\n",
    "- `file_name (str)`: The name of the file example: `dem.tif`.\n",
    "- `already_preprocessed (bool)`: This is very important, preprocessed means that the DEM is ready for flow routines: the internal topographic pits have been filled or carved. By default, the DEM is considered as not preprocessed for flow routing which means it needs an extra step before being ready for fluvial analysis but you can set it as already preprocessed with this switch.\n",
    "- `remove_seas (bool)`: Option to remove everything below a given sea level (defaulted at 0).\n",
    "- `sea_level (float)`: Sea level utilised in case the sea are removed"
   ]
  },
  {
   "cell_type": "code",
   "execution_count": 4,
   "metadata": {},
   "outputs": [
    {
     "name": "stdout",
     "output_type": "stream",
     "text": [
      "Loading the raster from file: ./lg_conception_SRTMGL1.tif\n",
      "LOADING TOOK 0.05102872848510742\n",
      "I am recasting your nodata values to -9999 (standard LSDTT)\n",
      "PREPROC TOOK 0.0013248920440673828\n",
      "Alright, let me summon control upon the c++ code ...\n",
      "Got it.\n",
      "INGESTINGINTO CPP TOOK 0.0038433074951171875\n",
      "I am an empty LSDJunctionNetwork\n",
      "Nrows:613 and ncols:758\n",
      "out Nrows:613 and out ncols:758\n",
      "\n",
      "I am an empty LSDJunctionNetwork\n",
      "Yes, yes, we know. Ignore the above depressing debugging text, that's perfectly normal to feel empty sometimes.\n",
      "FINALISATION TOOK 0.12454032897949219\n",
      "lsdtopytools is now ready to roll!\n"
     ]
    }
   ],
   "source": [
    "mydem = lsd.LSDDEM(path = \"./\", file_name = \"lg_conception_SRTMGL1.tif\", already_preprocessed = False)"
   ]
  },
  {
   "cell_type": "markdown",
   "metadata": {},
   "source": [
    "## Preprocessing\n",
    "\n",
    "The preprocessing makes sure that all the water in the DEM drains to the edge, i.e. water fluxes do not stop because of DEM noise. There are two main methods to preprocessed DEMs: \n",
    "- filling: filling algorithms (e.g. Barnes 2014) fills any area that has no connection to a DEM edge\n",
    "- Carving: any pixels being local minima is connected to the nearest outlet with a trench\n",
    "\n",
    "The preprocessing function has the following arguments:\n"
   ]
  },
  {
   "cell_type": "code",
   "execution_count": 5,
   "metadata": {},
   "outputs": [
    {
     "name": "stdout",
     "output_type": "stream",
     "text": [
      "Help on method PreProcessing in module lsdtopytools.lsdtopytools:\n",
      "\n",
      "PreProcessing(filling=True, carving=True, minimum_slope_for_filling=0.0001) method of lsdtopytools.lsdtopytools.LSDDEM instance\n",
      "    Description:\n",
      "            Any dem is noisy at a certain extent. To process flow routines, this function proposes algorithm to preprocess dem cells and ensure there is no vicious pit blocking fow path.\n",
      "            Filling is currently using Wang et al., 2006 and carving is using Lindsay et al., 2016.\n",
      "            Filling makes sure that a minimum slope is induxed to each cells, carving breaches the pit to let the flow go.\n",
      "    Arguments:\n",
      "            filling (bool): do you want to fill?\n",
      "            carving (bool): Wanna carve mate?\n",
      "            minimum_slope_for_filling (float): Minimum gradient to induce between each cells when filling your dem.\n",
      "    Return:\n",
      "            Nothing, calculate the PPRaster in the cpp object\n",
      "    Authors:\n",
      "            Boris Gailleton\n",
      "    Date:\n",
      "            14/12/2018\n",
      "\n"
     ]
    }
   ],
   "source": [
    "help(mydem.PreProcessing)"
   ]
  },
  {
   "cell_type": "code",
   "execution_count": 6,
   "metadata": {},
   "outputs": [
    {
     "name": "stdout",
     "output_type": "stream",
     "text": [
      "WARNING!! You did not preprocessed the dem, I am defaulting it. Read the doc about preprocessing for more information.\n",
      "Carving: implementation of Lindsay (2016) DOI: 10.1002/hyp.10648\n",
      "Filling: implementation of Wang and Liu (2006): https://doi.org/10.1080/13658810500433453\n",
      "Processing...\n",
      "I am going to carve/breach your depressions in order to force flow paths.\n",
      "DEM ready for flow routines!I am using an algorithm from Lindsay et al., 2016 DOI:https://doi.org/10.1002/hyp.10648\n",
      "Implementation adapted from RichDEM: https://github.com/r-barnes/richdem\n",
      "Not widely tested yet, It may break...\n",
      "\n",
      "Processing common flow routines...\n",
      "Done!\n"
     ]
    }
   ],
   "source": [
    "mydem.CommonFlowRoutines()"
   ]
  },
  {
   "cell_type": "code",
   "execution_count": 7,
   "metadata": {},
   "outputs": [],
   "source": [
    "mydem.ExtractRiverNetwork( method = \"area_threshold\", area_threshold_min = 1500)"
   ]
  },
  {
   "cell_type": "code",
   "execution_count": 8,
   "metadata": {},
   "outputs": [
    {
     "name": "stdout",
     "output_type": "stream",
     "text": [
      "This appears to be a channel made up of a single pixel!\n"
     ]
    },
    {
     "data": {
      "text/plain": [
       "{'X': array([-120.42639], dtype=float32),\n",
       " 'Y': array([34.55528], dtype=float32)}"
      ]
     },
     "execution_count": 8,
     "metadata": {},
     "output_type": "execute_result"
    }
   ],
   "source": [
    "mydem.DefineCatchment( method=\"main_basin\")"
   ]
  },
  {
   "cell_type": "code",
   "execution_count": 9,
   "metadata": {},
   "outputs": [],
   "source": [
    "mydem.GenerateChi(theta = 0.35, A_0 = 1)"
   ]
  },
  {
   "cell_type": "code",
   "execution_count": 10,
   "metadata": {},
   "outputs": [
    {
     "name": "stdout",
     "output_type": "stream",
     "text": [
      "I have generated ksn for the specified region!\n",
      "Let me just save the result to the hdf5 file to keep track\n"
     ]
    },
    {
     "data": {
      "text/plain": [
       "'generated'"
      ]
     },
     "execution_count": 10,
     "metadata": {},
     "output_type": "execute_result"
    }
   ],
   "source": [
    "mydem.ksn_MuddEtAl2014(target_nodes=30, n_iterations=60, skip=1, nthreads = 1)"
   ]
  },
  {
   "cell_type": "code",
   "execution_count": 12,
   "metadata": {},
   "outputs": [
    {
     "name": "stdout",
     "output_type": "stream",
     "text": [
      "Hillshading with altitude: 45, azimuth: 315 and z-factor: 1\n"
     ]
    }
   ],
   "source": [
    "fig, ax = lsd.quickplot.get_basemap(mydem , figsize = (9,9), cmap = \"gist_earth\", hillshade = True, \n",
    "\talpha_hillshade = 1, cmin = None, cmax = None,\n",
    "\thillshade_cmin = 0, hillshade_cmax = 1, colorbar = False, \n",
    "\tfig = None, ax = None, colorbar_label = None, colorbar_ax = None, fontsize_ticks = 16, normalise_HS = True)\n",
    "size_array = lsd.size_my_points(np.log10(mydem.df_ksn.drainage_area), 1,15)\n",
    "cb = ax.scatter(mydem.df_ksn.x, mydem.df_ksn.y, lw=0, c= mydem.df_ksn.m_chi, cmap = \"magma\", zorder = 5, s=size_array)\n",
    "plt.colorbar(cb)\n",
    "plt.show()"
   ]
  },
  {
   "cell_type": "code",
   "execution_count": 14,
   "metadata": {},
   "outputs": [],
   "source": [
    "%matplotlib inline\n",
    "fig.show()"
   ]
  },
  {
   "cell_type": "code",
   "execution_count": null,
   "metadata": {},
   "outputs": [],
   "source": []
  }
 ],
 "metadata": {
  "kernelspec": {
   "display_name": "Python 3 (ipykernel)",
   "language": "python",
   "name": "python3"
  },
  "language_info": {
   "codemirror_mode": {
    "name": "ipython",
    "version": 3
   },
   "file_extension": ".py",
   "mimetype": "text/x-python",
   "name": "python",
   "nbconvert_exporter": "python",
   "pygments_lexer": "ipython3",
   "version": "3.8.10"
  }
 },
 "nbformat": 4,
 "nbformat_minor": 4
}
