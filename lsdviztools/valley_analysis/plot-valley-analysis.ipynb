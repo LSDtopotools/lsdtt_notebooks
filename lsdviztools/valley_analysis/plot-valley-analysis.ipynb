{
 "cells": [
  {
   "cell_type": "markdown",
   "metadata": {},
   "source": [
    "# Valley analysis in LSDTopoTools\n",
    "\n",
    "Wlecome to `plot-valley-analysis`! In order to run this notebook you need to have followed the installation instructions on the `lsdtt-notebooks` GitHub repository and make sure you have `lsdviztools` installed. This notebook plots the results of the LSDTopoTools valley analysis code. It will produce map plots of the valley defined from LSDTT. It also has a number of different options depending on what you're interested in doing. \n",
    "\n",
    "If you chose to run the terrace extraction it will make:\n",
    "* Separate map plots of the floodplain and the terraces\n",
    "\n",
    "If you chose to measure valley width it will make:\n",
    "* Plots of the valley width vs distance downstream\n",
    "* Map plots of the valley width measurements\n",
    "\n",
    "**NOTE: This is a work in progress!** \n",
    "\n",
    "------------------------------------------------------\n",
    "\n",
    "**If you use this code please cite**: Clubb, F. J., Mudd, S. M., Milodowski, D. T., Valters, D. A., Slater, L. J., Hurst, M. D., and Limaye, A. B.: Geomorphometric delineation of floodplains and terraces from objectively defined topographic thresholds, Earth Surf. Dynam., 5, 369–385, https://doi.org/10.5194/esurf-5-369-2017, 2017.\n",
    "\n",
    "------------------------------------------------------"
   ]
  },
  {
   "cell_type": "markdown",
   "metadata": {},
   "source": [
    "## Package imports and declaring variables\n",
    "\n",
    "Import required packages and define the data directory and DEM name here."
   ]
  },
  {
   "cell_type": "code",
   "execution_count": 27,
   "metadata": {},
   "outputs": [],
   "source": [
    "import geopandas as gpd\n",
    "import matplotlib.pyplot as plt\n",
    "from shapely.geometry import Point\n",
    "from pyproj import Transformer\n",
    "import os\n",
    "\n",
    "# import some lsdtt modules\n",
    "# import lsdviztools.lsdbasemaptools as bmt\n",
    "# from lsdviztools.lsdplottingtools import lsdmap_gdalio as gio\n",
    "# import lsdviztools.lsdmapwrappers as lsdmw\n",
    "# import lsdttparamselector as ps"
   ]
  },
  {
   "cell_type": "markdown",
   "metadata": {},
   "source": [
    "Let's define the data directory and the prefix of your DEM. **The path to the folder MUST have a '/' at the end.**"
   ]
  },
  {
   "cell_type": "code",
   "execution_count": null,
   "metadata": {},
   "outputs": [],
   "source": [
    "DataDirectory = '/media/TopographicData/TopographicData/valley_width/Switzerland/Birs/Valley_Centreline/Birs_Test11_180621/'\n",
    "Base_file = \"Birs_T11_Clipped\""
   ]
  },
  {
   "cell_type": "markdown",
   "metadata": {},
   "source": [
    "## Valley plotting\n",
    "\n",
    "This section makes map plot of the valley. First we'll read in the valley raster and make a plot against the shaded relief.\n",
    "\n",
    "**NOTE: this is commented out at the moment due to issues with pip version of lsdviztools**"
   ]
  },
  {
   "cell_type": "code",
   "execution_count": null,
   "metadata": {},
   "outputs": [],
   "source": [
    "# %matplotlib inline\n",
    "# Drape_prefix = Base_file+\"_valley\"\n",
    "# valley_img = lsdmw.BinaryDrape(DataDirectory,Base_file, Drape_prefix, cmap = \"GnBu_r\", alpha=1, save_fig=True)"
   ]
  },
  {
   "cell_type": "markdown",
   "metadata": {},
   "source": [
    "## Valley width\n",
    "\n",
    "In this section we'll make some plots of the valley width against distance."
   ]
  },
  {
   "cell_type": "code",
   "execution_count": null,
   "metadata": {},
   "outputs": [],
   "source": [
    "# Read in the valley width geojson\n",
    "widths = gpd.read_file(DataDirectory+Base_file+'_valley_widths.geojson')\n",
    "widths = widths[widths['total_valley_width'] > 0]"
   ]
  },
  {
   "cell_type": "code",
   "execution_count": null,
   "metadata": {},
   "outputs": [],
   "source": [
    "# get the mean valley width\n",
    "mean_width = widths['total_valley_width'].mean()"
   ]
  },
  {
   "cell_type": "code",
   "execution_count": null,
   "metadata": {},
   "outputs": [],
   "source": [
    "# plot the raw width data\n",
    "fig, ax = plt.subplots(nrows=1, ncols=1, figsize=(10,5))\n",
    "ax.plot(widths['distance_from_outlet'], widths['total_valley_width'], c='navy', lw=2)\n",
    "ax.axhline(mean_width, ls='--', c='r')\n",
    "ax.set_xlabel('Distance from outlet (m)', fontsize=14)\n",
    "ax.set_ylabel('Valley width (m)', fontsize=14)\n",
    "plt.show()"
   ]
  },
  {
   "cell_type": "code",
   "execution_count": null,
   "metadata": {},
   "outputs": [],
   "source": [
    "# make a plot of the rolling average of widths"
   ]
  },
  {
   "cell_type": "code",
   "execution_count": null,
   "metadata": {},
   "outputs": [],
   "source": [
    "reach_length = 100    # set the reach length to average over in metres\n",
    "widths['rolling_width'] = widths.rolling(reach_length, center=True).mean()['total_valley_width']\n",
    "widths['rolling_width_std'] = widths.rolling(reach_length, center=True).std()['total_valley_width']"
   ]
  },
  {
   "cell_type": "code",
   "execution_count": null,
   "metadata": {},
   "outputs": [],
   "source": [
    "# plot the rolling width data\n",
    "fig, ax = plt.subplots(nrows=1, ncols=1, figsize=(10,5))\n",
    "ax.plot(widths['distance_from_outlet'], widths['total_valley_width'], c='0.5', lw=2, alpha=0.5)\n",
    "ax.plot(widths['distance_from_outlet'], widths['rolling_width'], c='k', lw=2)\n",
    "ax.axhline(mean_width, ls='--', c='red')\n",
    "ax.set_xlabel('Distance from outlet (m)', fontsize=14)\n",
    "ax.set_ylabel('Valley width (m)', fontsize=14)\n",
    "plt.show()"
   ]
  },
  {
   "cell_type": "code",
   "execution_count": null,
   "metadata": {},
   "outputs": [],
   "source": [
    "widths"
   ]
  },
  {
   "cell_type": "markdown",
   "metadata": {},
   "source": [
    "## Plotting a single reach along the valley centreline\n",
    "This section is useful if you have run the code in tiles and want to make a composite plot of the valley width along the full valley. You will need a merged centreline of the valley as a line shapefile."
   ]
  },
  {
   "cell_type": "code",
   "execution_count": null,
   "metadata": {},
   "outputs": [],
   "source": [
    "# Read in the valley width geojson\n",
    "widths = gpd.read_file(DataDirectory+Base_file+'_valley_widths.geojson')\n",
    "widths = widths[widths['total_valley_width'] > 0]"
   ]
  },
  {
   "cell_type": "code",
   "execution_count": null,
   "metadata": {},
   "outputs": [],
   "source": [
    "# name and path of the merged centreline\n",
    "centreline_shp = '/media/TopographicData/TopographicData/valley_width/Switzerland/Birs/Valley_Centreline/Birs_valley_centreline_final.shp'\n",
    "# the UTM EPSG code of your region. You need to set this so we can get the correct distances in metres.\n",
    "UTM_EPSG_code = 'epsg:32632'"
   ]
  },
  {
   "cell_type": "code",
   "execution_count": 30,
   "metadata": {},
   "outputs": [
    {
     "name": "stdout",
     "output_type": "stream",
     "text": [
      "<GeometryArray>\n",
      "[<shapely.geometry.multilinestring.MultiLineString object at 0x7f0dde12fbe0>]\n",
      "Length: 1, dtype: geometry\n"
     ]
    },
    {
     "ename": "NotImplementedError",
     "evalue": "Multi-part geometries do not provide a coordinate sequence",
     "output_type": "error",
     "traceback": [
      "\u001b[0;31m---------------------------------------------------------------------------\u001b[0m",
      "\u001b[0;31mNotImplementedError\u001b[0m                       Traceback (most recent call last)",
      "\u001b[0;32m<ipython-input-30-87d955929c1a>\u001b[0m in \u001b[0;36m<module>\u001b[0;34m\u001b[0m\n\u001b[1;32m      6\u001b[0m \u001b[0mshapely_line\u001b[0m \u001b[0;34m=\u001b[0m \u001b[0mcentreline\u001b[0m\u001b[0;34m.\u001b[0m\u001b[0mgeometry\u001b[0m\u001b[0;34m.\u001b[0m\u001b[0mvalues\u001b[0m\u001b[0;34m\u001b[0m\u001b[0;34m\u001b[0m\u001b[0m\n\u001b[1;32m      7\u001b[0m \u001b[0mprint\u001b[0m\u001b[0;34m(\u001b[0m\u001b[0mshapely_line\u001b[0m\u001b[0;34m)\u001b[0m\u001b[0;34m\u001b[0m\u001b[0;34m\u001b[0m\u001b[0m\n\u001b[0;32m----> 8\u001b[0;31m \u001b[0mlinestr\u001b[0m \u001b[0;34m=\u001b[0m \u001b[0mops\u001b[0m\u001b[0;34m.\u001b[0m\u001b[0mlinemerge\u001b[0m\u001b[0;34m(\u001b[0m\u001b[0mshapely_line\u001b[0m\u001b[0;34m)\u001b[0m\u001b[0;34m\u001b[0m\u001b[0;34m\u001b[0m\u001b[0m\n\u001b[0m\u001b[1;32m      9\u001b[0m \u001b[0;34m\u001b[0m\u001b[0m\n\u001b[1;32m     10\u001b[0m \u001b[0;31m# get the centreline in UTM\u001b[0m\u001b[0;34m\u001b[0m\u001b[0;34m\u001b[0m\u001b[0;34m\u001b[0m\u001b[0m\n",
      "\u001b[0;32m~/miniconda3/envs/fault-swath/lib/python3.8/site-packages/shapely/ops.py\u001b[0m in \u001b[0;36mlinemerge\u001b[0;34m(self, lines)\u001b[0m\n\u001b[1;32m    113\u001b[0m         \u001b[0;32melif\u001b[0m \u001b[0mhasattr\u001b[0m\u001b[0;34m(\u001b[0m\u001b[0mlines\u001b[0m\u001b[0;34m,\u001b[0m \u001b[0;34m'__iter__'\u001b[0m\u001b[0;34m)\u001b[0m\u001b[0;34m:\u001b[0m\u001b[0;34m\u001b[0m\u001b[0;34m\u001b[0m\u001b[0m\n\u001b[1;32m    114\u001b[0m             \u001b[0;32mtry\u001b[0m\u001b[0;34m:\u001b[0m\u001b[0;34m\u001b[0m\u001b[0;34m\u001b[0m\u001b[0m\n\u001b[0;32m--> 115\u001b[0;31m                 \u001b[0msource\u001b[0m \u001b[0;34m=\u001b[0m \u001b[0masMultiLineString\u001b[0m\u001b[0;34m(\u001b[0m\u001b[0;34m[\u001b[0m\u001b[0mls\u001b[0m\u001b[0;34m.\u001b[0m\u001b[0mcoords\u001b[0m \u001b[0;32mfor\u001b[0m \u001b[0mls\u001b[0m \u001b[0;32min\u001b[0m \u001b[0mlines\u001b[0m\u001b[0;34m]\u001b[0m\u001b[0;34m)\u001b[0m\u001b[0;34m\u001b[0m\u001b[0;34m\u001b[0m\u001b[0m\n\u001b[0m\u001b[1;32m    116\u001b[0m             \u001b[0;32mexcept\u001b[0m \u001b[0mAttributeError\u001b[0m\u001b[0;34m:\u001b[0m\u001b[0;34m\u001b[0m\u001b[0;34m\u001b[0m\u001b[0m\n\u001b[1;32m    117\u001b[0m                 \u001b[0msource\u001b[0m \u001b[0;34m=\u001b[0m \u001b[0masMultiLineString\u001b[0m\u001b[0;34m(\u001b[0m\u001b[0mlines\u001b[0m\u001b[0;34m)\u001b[0m\u001b[0;34m\u001b[0m\u001b[0;34m\u001b[0m\u001b[0m\n",
      "\u001b[0;32m~/miniconda3/envs/fault-swath/lib/python3.8/site-packages/shapely/ops.py\u001b[0m in \u001b[0;36m<listcomp>\u001b[0;34m(.0)\u001b[0m\n\u001b[1;32m    113\u001b[0m         \u001b[0;32melif\u001b[0m \u001b[0mhasattr\u001b[0m\u001b[0;34m(\u001b[0m\u001b[0mlines\u001b[0m\u001b[0;34m,\u001b[0m \u001b[0;34m'__iter__'\u001b[0m\u001b[0;34m)\u001b[0m\u001b[0;34m:\u001b[0m\u001b[0;34m\u001b[0m\u001b[0;34m\u001b[0m\u001b[0m\n\u001b[1;32m    114\u001b[0m             \u001b[0;32mtry\u001b[0m\u001b[0;34m:\u001b[0m\u001b[0;34m\u001b[0m\u001b[0;34m\u001b[0m\u001b[0m\n\u001b[0;32m--> 115\u001b[0;31m                 \u001b[0msource\u001b[0m \u001b[0;34m=\u001b[0m \u001b[0masMultiLineString\u001b[0m\u001b[0;34m(\u001b[0m\u001b[0;34m[\u001b[0m\u001b[0mls\u001b[0m\u001b[0;34m.\u001b[0m\u001b[0mcoords\u001b[0m \u001b[0;32mfor\u001b[0m \u001b[0mls\u001b[0m \u001b[0;32min\u001b[0m \u001b[0mlines\u001b[0m\u001b[0;34m]\u001b[0m\u001b[0;34m)\u001b[0m\u001b[0;34m\u001b[0m\u001b[0;34m\u001b[0m\u001b[0m\n\u001b[0m\u001b[1;32m    116\u001b[0m             \u001b[0;32mexcept\u001b[0m \u001b[0mAttributeError\u001b[0m\u001b[0;34m:\u001b[0m\u001b[0;34m\u001b[0m\u001b[0;34m\u001b[0m\u001b[0m\n\u001b[1;32m    117\u001b[0m                 \u001b[0msource\u001b[0m \u001b[0;34m=\u001b[0m \u001b[0masMultiLineString\u001b[0m\u001b[0;34m(\u001b[0m\u001b[0mlines\u001b[0m\u001b[0;34m)\u001b[0m\u001b[0;34m\u001b[0m\u001b[0;34m\u001b[0m\u001b[0m\n",
      "\u001b[0;32m~/miniconda3/envs/fault-swath/lib/python3.8/site-packages/shapely/geometry/base.py\u001b[0m in \u001b[0;36mcoords\u001b[0;34m(self)\u001b[0m\n\u001b[1;32m    865\u001b[0m     \u001b[0;34m@\u001b[0m\u001b[0mproperty\u001b[0m\u001b[0;34m\u001b[0m\u001b[0;34m\u001b[0m\u001b[0m\n\u001b[1;32m    866\u001b[0m     \u001b[0;32mdef\u001b[0m \u001b[0mcoords\u001b[0m\u001b[0;34m(\u001b[0m\u001b[0mself\u001b[0m\u001b[0;34m)\u001b[0m\u001b[0;34m:\u001b[0m\u001b[0;34m\u001b[0m\u001b[0;34m\u001b[0m\u001b[0m\n\u001b[0;32m--> 867\u001b[0;31m         raise NotImplementedError(\n\u001b[0m\u001b[1;32m    868\u001b[0m             \"Multi-part geometries do not provide a coordinate sequence\")\n\u001b[1;32m    869\u001b[0m \u001b[0;34m\u001b[0m\u001b[0m\n",
      "\u001b[0;31mNotImplementedError\u001b[0m: Multi-part geometries do not provide a coordinate sequence"
     ]
    }
   ],
   "source": [
    "# now read in the centreline to a geopandas geodataframe\n",
    "centreline = gpd.read_file(centreline_shp)\n",
    "\n",
    "# get the centreline in UTM\n",
    "centreline_utm = centreline.to_crs(UTM_EPSG_code)\n",
    "# set up the pyproj transformer\n",
    "transformer = Transformer.from_crs(\"epsg:4326\", UTM_EPSG_code)"
   ]
  },
  {
   "cell_type": "code",
   "execution_count": null,
   "metadata": {},
   "outputs": [],
   "source": [
    "# get the distance of the widths along the line\n",
    "def get_distance_along_line(row):\n",
    "    #point = Point(row['longitude'], row['latitude'])\n",
    "    # convert the point to UTM\n",
    "    point = Point(transformer.transform(row['latitude'], row['longitude']))\n",
    "    # getting the distance of the point along the line\n",
    "    distance = centreline_utm.project(point)\n",
    "    return(distance)\n",
    "    \n",
    "widths['centreline_dist'] = widths.apply(get_distance_along_line, axis=1)"
   ]
  },
  {
   "cell_type": "code",
   "execution_count": null,
   "metadata": {},
   "outputs": [],
   "source": [
    "# make a plot of the valley width vs. distance along the merged centreline\n",
    "fig, ax = plt.subplots(nrows=1, ncols=1, figsize=(10,5))\n",
    "ax.plot(widths['centreline_dist'], widths['total_valley_width'], c='navy', lw=2)\n",
    "ax.axhline(mean_width, ls='--', c='r')\n",
    "ax.set_xlabel('Distance along valley centreline (m)', fontsize=14)\n",
    "ax.set_ylabel('Valley width (m)', fontsize=14)\n",
    "plt.show()"
   ]
  },
  {
   "cell_type": "markdown",
   "metadata": {},
   "source": [
    "## Plotting all the reaches along the valley centreline\n",
    "In this section we will loop through all the directories in your subfolder and make a composite plot of the widths for each one."
   ]
  },
  {
   "cell_type": "code",
   "execution_count": 31,
   "metadata": {},
   "outputs": [],
   "source": [
    "# define the name of the base directory that you want to loop through\n",
    "base_dir = '/media/TopographicData/TopographicData/valley_width/Switzerland/Birs/Valley_Centreline/'\n",
    "# the name of the centreline shapefile - I am assuming it is located in the base directory\n",
    "centreline_shp = base_dir+'Birs_valley_centreline_final.shp'\n",
    "# the UTM EPSG code of your region. You need to set this so we can get the correct distances in metres.\n",
    "UTM_EPSG_code = 'epsg:32632'"
   ]
  },
  {
   "cell_type": "code",
   "execution_count": 32,
   "metadata": {},
   "outputs": [],
   "source": [
    "# now read in the centreline to a geopandas geodataframe\n",
    "centreline = gpd.read_file(centreline_shp)\n",
    "centreline = centreline.dissolve()\n",
    "\n",
    "# get the centreline in UTM\n",
    "centreline_utm = centreline.to_crs(UTM_EPSG_code)\n",
    "# set up the pyproj transformer\n",
    "transformer = Transformer.from_crs(\"epsg:4326\", UTM_EPSG_code)\n",
    "\n",
    "# set up the master dataframe for storing all the width data together\n",
    "widths = gpd.GeoDataFrame()"
   ]
  },
  {
   "cell_type": "code",
   "execution_count": 33,
   "metadata": {},
   "outputs": [
    {
     "data": {
      "text/html": [
       "<div>\n",
       "<style scoped>\n",
       "    .dataframe tbody tr th:only-of-type {\n",
       "        vertical-align: middle;\n",
       "    }\n",
       "\n",
       "    .dataframe tbody tr th {\n",
       "        vertical-align: top;\n",
       "    }\n",
       "\n",
       "    .dataframe thead th {\n",
       "        text-align: right;\n",
       "    }\n",
       "</style>\n",
       "<table border=\"1\" class=\"dataframe\">\n",
       "  <thead>\n",
       "    <tr style=\"text-align: right;\">\n",
       "      <th></th>\n",
       "      <th>geometry</th>\n",
       "      <th>path</th>\n",
       "      <th>begin</th>\n",
       "      <th>end</th>\n",
       "    </tr>\n",
       "  </thead>\n",
       "  <tbody>\n",
       "    <tr>\n",
       "      <th>0</th>\n",
       "      <td>MULTILINESTRING ((7.21785 47.23365, 7.21787 47...</td>\n",
       "      <td>Birs_T10_centreline_nodes.shp|layername=Birs_T...</td>\n",
       "      <td>2302570.0</td>\n",
       "      <td>9203750.0</td>\n",
       "    </tr>\n",
       "  </tbody>\n",
       "</table>\n",
       "</div>"
      ],
      "text/plain": [
       "                                            geometry  \\\n",
       "0  MULTILINESTRING ((7.21785 47.23365, 7.21787 47...   \n",
       "\n",
       "                                                path      begin        end  \n",
       "0  Birs_T10_centreline_nodes.shp|layername=Birs_T...  2302570.0  9203750.0  "
      ]
     },
     "execution_count": 33,
     "metadata": {},
     "output_type": "execute_result"
    }
   ],
   "source": [
    "centreline"
   ]
  },
  {
   "cell_type": "code",
   "execution_count": 34,
   "metadata": {},
   "outputs": [],
   "source": [
    "# get the distance of the widths along the line. This just defines the code that will do this, but won't actually\n",
    "# do anything until the next block.\n",
    "def get_distance_along_line(row):\n",
    "    #point = Point(row['longitude'], row['latitude'])\n",
    "    # convert the point to UTM\n",
    "    point = Point(transformer.transform(row['latitude'], row['longitude']))\n",
    "    # getting the distance of the point along the line\n",
    "    distance = centreline_utm.project(point)\n",
    "    return(distance)"
   ]
  },
  {
   "cell_type": "code",
   "execution_count": 35,
   "metadata": {},
   "outputs": [],
   "source": [
    "# loop through the subdirectories and read in the valley width geojsons, calculate the distance along the centreline\n",
    "# and write to a new geodataframe. This might be slow!\n",
    "for root, subdirs, files in os.walk(base_dir):\n",
    "    for file in files:\n",
    "        if '_valley_widths.geojson' in file:\n",
    "            this_gdf = gpd.read_file(os.path.join(root,file))\n",
    "            this_gdf = this_gdf[this_gdf['total_valley_width'] > 0]\n",
    "            this_gdf = this_gdf.drop(columns=['distance_from_outlet', 'node'])\n",
    "            this_gdf['centreline_dist'] = this_gdf.apply(get_distance_along_line, axis=1)\n",
    "            widths = widths.append(this_gdf, ignore_index=True)"
   ]
  },
  {
   "cell_type": "code",
   "execution_count": 36,
   "metadata": {},
   "outputs": [
    {
     "data": {
      "text/html": [
       "<div>\n",
       "<style scoped>\n",
       "    .dataframe tbody tr th:only-of-type {\n",
       "        vertical-align: middle;\n",
       "    }\n",
       "\n",
       "    .dataframe tbody tr th {\n",
       "        vertical-align: top;\n",
       "    }\n",
       "\n",
       "    .dataframe thead th {\n",
       "        text-align: right;\n",
       "    }\n",
       "</style>\n",
       "<table border=\"1\" class=\"dataframe\">\n",
       "  <thead>\n",
       "    <tr style=\"text-align: right;\">\n",
       "      <th></th>\n",
       "      <th>latitude</th>\n",
       "      <th>longitude</th>\n",
       "      <th>flow_bearing</th>\n",
       "      <th>left_valley_width</th>\n",
       "      <th>orthogonal_bearing</th>\n",
       "      <th>right_valley_width</th>\n",
       "      <th>total_valley_width</th>\n",
       "      <th>geometry</th>\n",
       "      <th>centreline_dist</th>\n",
       "    </tr>\n",
       "  </thead>\n",
       "  <tbody>\n",
       "    <tr>\n",
       "      <th>0</th>\n",
       "      <td>47.315008</td>\n",
       "      <td>7.390713</td>\n",
       "      <td>176.829880</td>\n",
       "      <td>73.089943</td>\n",
       "      <td>266.829895</td>\n",
       "      <td>10.997279</td>\n",
       "      <td>86.071678</td>\n",
       "      <td>LINESTRING (7.39071 47.31501, 7.39074 47.31503)</td>\n",
       "      <td>22724.665777</td>\n",
       "    </tr>\n",
       "    <tr>\n",
       "      <th>1</th>\n",
       "      <td>47.315026</td>\n",
       "      <td>7.390739</td>\n",
       "      <td>165.472702</td>\n",
       "      <td>92.122261</td>\n",
       "      <td>255.472702</td>\n",
       "      <td>11.646230</td>\n",
       "      <td>105.747185</td>\n",
       "      <td>LINESTRING (7.39074 47.31503, 7.39077 47.31504)</td>\n",
       "      <td>22724.668105</td>\n",
       "    </tr>\n",
       "    <tr>\n",
       "      <th>2</th>\n",
       "      <td>47.315045</td>\n",
       "      <td>7.390765</td>\n",
       "      <td>157.500000</td>\n",
       "      <td>173.885529</td>\n",
       "      <td>247.500000</td>\n",
       "      <td>14.228026</td>\n",
       "      <td>190.110809</td>\n",
       "      <td>LINESTRING (7.39077 47.31504, 7.39076 47.31506)</td>\n",
       "      <td>22724.651932</td>\n",
       "    </tr>\n",
       "    <tr>\n",
       "      <th>3</th>\n",
       "      <td>47.315063</td>\n",
       "      <td>7.390764</td>\n",
       "      <td>150.338623</td>\n",
       "      <td>41.179859</td>\n",
       "      <td>240.338623</td>\n",
       "      <td>15.120774</td>\n",
       "      <td>58.295101</td>\n",
       "      <td>LINESTRING (7.39076 47.31506, 7.39074 47.31506)</td>\n",
       "      <td>22726.088238</td>\n",
       "    </tr>\n",
       "    <tr>\n",
       "      <th>4</th>\n",
       "      <td>47.315062</td>\n",
       "      <td>7.390738</td>\n",
       "      <td>148.282532</td>\n",
       "      <td>39.487148</td>\n",
       "      <td>238.282532</td>\n",
       "      <td>13.418885</td>\n",
       "      <td>54.904541</td>\n",
       "      <td>LINESTRING (7.39074 47.31506, 7.39071 47.31508)</td>\n",
       "      <td>22727.490637</td>\n",
       "    </tr>\n",
       "    <tr>\n",
       "      <th>...</th>\n",
       "      <td>...</td>\n",
       "      <td>...</td>\n",
       "      <td>...</td>\n",
       "      <td>...</td>\n",
       "      <td>...</td>\n",
       "      <td>...</td>\n",
       "      <td>...</td>\n",
       "      <td>...</td>\n",
       "      <td>...</td>\n",
       "    </tr>\n",
       "    <tr>\n",
       "      <th>10557</th>\n",
       "      <td>47.331105</td>\n",
       "      <td>7.376914</td>\n",
       "      <td>330.186523</td>\n",
       "      <td>26.778576</td>\n",
       "      <td>60.186523</td>\n",
       "      <td>42.898884</td>\n",
       "      <td>71.676895</td>\n",
       "      <td>LINESTRING (7.37691 47.33111, 7.37691 47.33112)</td>\n",
       "      <td>25461.364342</td>\n",
       "    </tr>\n",
       "    <tr>\n",
       "      <th>10558</th>\n",
       "      <td>47.331123</td>\n",
       "      <td>7.376913</td>\n",
       "      <td>328.696777</td>\n",
       "      <td>27.837849</td>\n",
       "      <td>58.696777</td>\n",
       "      <td>39.487606</td>\n",
       "      <td>69.323402</td>\n",
       "      <td>LINESTRING (7.37691 47.33112, 7.37689 47.33114)</td>\n",
       "      <td>25463.377747</td>\n",
       "    </tr>\n",
       "    <tr>\n",
       "      <th>10559</th>\n",
       "      <td>47.331141</td>\n",
       "      <td>7.376886</td>\n",
       "      <td>326.021362</td>\n",
       "      <td>27.837849</td>\n",
       "      <td>56.021362</td>\n",
       "      <td>37.824062</td>\n",
       "      <td>67.659744</td>\n",
       "      <td>LINESTRING (7.37689 47.33114, 7.37686 47.33116)</td>\n",
       "      <td>25466.162111</td>\n",
       "    </tr>\n",
       "    <tr>\n",
       "      <th>10560</th>\n",
       "      <td>47.331158</td>\n",
       "      <td>7.376859</td>\n",
       "      <td>326.021362</td>\n",
       "      <td>29.521715</td>\n",
       "      <td>56.021362</td>\n",
       "      <td>37.824062</td>\n",
       "      <td>69.323402</td>\n",
       "      <td>LINESTRING (7.37686 47.33116, 7.37683 47.33118)</td>\n",
       "      <td>25468.998550</td>\n",
       "    </tr>\n",
       "    <tr>\n",
       "      <th>10561</th>\n",
       "      <td>47.331176</td>\n",
       "      <td>7.376832</td>\n",
       "      <td>321.633911</td>\n",
       "      <td>28.993166</td>\n",
       "      <td>51.633911</td>\n",
       "      <td>36.193619</td>\n",
       "      <td>67.185356</td>\n",
       "      <td>LINESTRING (7.37683 47.33118, 7.37681 47.33119)</td>\n",
       "      <td>25471.835055</td>\n",
       "    </tr>\n",
       "  </tbody>\n",
       "</table>\n",
       "<p>10562 rows × 9 columns</p>\n",
       "</div>"
      ],
      "text/plain": [
       "        latitude  longitude  flow_bearing  left_valley_width  \\\n",
       "0      47.315008   7.390713    176.829880          73.089943   \n",
       "1      47.315026   7.390739    165.472702          92.122261   \n",
       "2      47.315045   7.390765    157.500000         173.885529   \n",
       "3      47.315063   7.390764    150.338623          41.179859   \n",
       "4      47.315062   7.390738    148.282532          39.487148   \n",
       "...          ...        ...           ...                ...   \n",
       "10557  47.331105   7.376914    330.186523          26.778576   \n",
       "10558  47.331123   7.376913    328.696777          27.837849   \n",
       "10559  47.331141   7.376886    326.021362          27.837849   \n",
       "10560  47.331158   7.376859    326.021362          29.521715   \n",
       "10561  47.331176   7.376832    321.633911          28.993166   \n",
       "\n",
       "       orthogonal_bearing  right_valley_width  total_valley_width  \\\n",
       "0              266.829895           10.997279           86.071678   \n",
       "1              255.472702           11.646230          105.747185   \n",
       "2              247.500000           14.228026          190.110809   \n",
       "3              240.338623           15.120774           58.295101   \n",
       "4              238.282532           13.418885           54.904541   \n",
       "...                   ...                 ...                 ...   \n",
       "10557           60.186523           42.898884           71.676895   \n",
       "10558           58.696777           39.487606           69.323402   \n",
       "10559           56.021362           37.824062           67.659744   \n",
       "10560           56.021362           37.824062           69.323402   \n",
       "10561           51.633911           36.193619           67.185356   \n",
       "\n",
       "                                              geometry  centreline_dist  \n",
       "0      LINESTRING (7.39071 47.31501, 7.39074 47.31503)     22724.665777  \n",
       "1      LINESTRING (7.39074 47.31503, 7.39077 47.31504)     22724.668105  \n",
       "2      LINESTRING (7.39077 47.31504, 7.39076 47.31506)     22724.651932  \n",
       "3      LINESTRING (7.39076 47.31506, 7.39074 47.31506)     22726.088238  \n",
       "4      LINESTRING (7.39074 47.31506, 7.39071 47.31508)     22727.490637  \n",
       "...                                                ...              ...  \n",
       "10557  LINESTRING (7.37691 47.33111, 7.37691 47.33112)     25461.364342  \n",
       "10558  LINESTRING (7.37691 47.33112, 7.37689 47.33114)     25463.377747  \n",
       "10559  LINESTRING (7.37689 47.33114, 7.37686 47.33116)     25466.162111  \n",
       "10560  LINESTRING (7.37686 47.33116, 7.37683 47.33118)     25468.998550  \n",
       "10561  LINESTRING (7.37683 47.33118, 7.37681 47.33119)     25471.835055  \n",
       "\n",
       "[10562 rows x 9 columns]"
      ]
     },
     "execution_count": 36,
     "metadata": {},
     "output_type": "execute_result"
    }
   ],
   "source": [
    "widths"
   ]
  },
  {
   "cell_type": "code",
   "execution_count": 39,
   "metadata": {},
   "outputs": [
    {
     "data": {
      "image/png": "[encoded data removed]",
      "text/plain": [
       "<Figure size 720x360 with 1 Axes>"
      ]
     },
     "metadata": {
      "needs_background": "light"
     },
     "output_type": "display_data"
    }
   ],
   "source": [
    "# sort by the distance along the centreline to make sure we're plotting in the right order\n",
    "widths = widths.sort_values(by='centreline_dist')\n",
    "\n",
    "# get the mean valley width\n",
    "mean_width = widths['total_valley_width'].mean()\n",
    "\n",
    "# make a plot of the valley width vs. distance along the merged centreline\n",
    "fig, ax = plt.subplots(nrows=1, ncols=1, figsize=(10,5))\n",
    "ax.plot(widths['centreline_dist']/1000, widths['total_valley_width'], c='navy', lw=2)\n",
    "ax.axhline(mean_width, ls='--', c='r')\n",
    "ax.set_xlabel('Distance along valley centreline (km)', fontsize=14)\n",
    "ax.set_ylabel('Valley width (m)', fontsize=14)\n",
    "plt.show()"
   ]
  }
 ],
 "metadata": {
  "kernelspec": {
   "display_name": "Python 3",
   "language": "python",
   "name": "python3"
  },
  "language_info": {
   "codemirror_mode": {
    "name": "ipython",
    "version": 3
   },
   "file_extension": ".py",
   "mimetype": "text/x-python",
   "name": "python",
   "nbconvert_exporter": "python",
   "pygments_lexer": "ipython3",
   "version": "3.8.10"
  }
 },
 "nbformat": 4,
 "nbformat_minor": 4
}
