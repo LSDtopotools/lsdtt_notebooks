{
 "cells": [
  {
   "cell_type": "markdown",
   "metadata": {},
   "source": [
    "# Valley analysis in LSDTopoTools\n",
    "\n",
    "Wlecome to `plot-valley-analysis`! In order to run this notebook you need to have followed the installation instructions on the `lsdtt-notebooks` GitHub repository and make sure you have `lsdviztools` installed. This notebook plots the results of the LSDTopoTools valley analysis code. It will produce map plots of the valley defined from LSDTT. It also has a number of different options depending on what you're interested in doing. \n",
    "\n",
    "If you chose to run the terrace extraction it will make:\n",
    "* Separate map plots of the floodplain and the terraces\n",
    "\n",
    "If you chose to measure valley width it will make:\n",
    "* Plots of the valley width vs distance downstream\n",
    "* Map plots of the valley width measurements\n",
    "\n",
    "**NOTE: This is a work in progress!** \n",
    "\n",
    "------------------------------------------------------\n",
    "\n",
    "**If you use this code please cite**: Clubb, F. J., Mudd, S. M., Milodowski, D. T., Valters, D. A., Slater, L. J., Hurst, M. D., and Limaye, A. B.: Geomorphometric delineation of floodplains and terraces from objectively defined topographic thresholds, Earth Surf. Dynam., 5, 369–385, https://doi.org/10.5194/esurf-5-369-2017, 2017.\n",
    "\n",
    "------------------------------------------------------"
   ]
  },
  {
   "cell_type": "markdown",
   "metadata": {},
   "source": [
    "## Package imports and declaring variables\n",
    "\n",
    "Import required packages and define the data directory and DEM name here."
   ]
  },
  {
   "cell_type": "code",
   "execution_count": 4,
   "metadata": {},
   "outputs": [],
   "source": [
    "import pandas as pd\n",
    "import geopandas as gpd\n",
    "import matplotlib.pyplot as plt\n",
    "from shapely.geometry import Point, LineString, MultiLineString\n",
    "from pyproj import Transformer\n",
    "import os\n",
    "import numpy as np\n",
    "\n",
    "# import some lsdtt modules\n",
    "# import lsdviztools.lsdbasemaptools as bmt\n",
    "# from lsdviztools.lsdplottingtools import lsdmap_gdalio as gio\n",
    "# import lsdviztools.lsdmapwrappers as lsdmw\n",
    "# import lsdttparamselector as ps"
   ]
  },
  {
   "cell_type": "markdown",
   "metadata": {},
   "source": [
    "Let's define the data directory and the prefix of your DEM. **The path to the folder MUST have a '/' at the end.**"
   ]
  },
  {
   "cell_type": "code",
   "execution_count": 5,
   "metadata": {},
   "outputs": [],
   "source": [
    "DataDirectory = '/media/TopographicData/TopographicData/valley_width/Switzerland/Birs/Valley_Centreline/Birs_Test11_180621/'\n",
    "Base_file = \"Birs_T11_Clipped\""
   ]
  },
  {
   "cell_type": "markdown",
   "metadata": {},
   "source": [
    "## Valley plotting\n",
    "\n",
    "This section makes map plot of the valley. First we'll read in the valley raster and make a plot against the shaded relief.\n",
    "\n",
    "**NOTE: this is commented out at the moment due to issues with pip version of lsdviztools**"
   ]
  },
  {
   "cell_type": "code",
   "execution_count": null,
   "metadata": {},
   "outputs": [],
   "source": [
    "# %matplotlib inline\n",
    "# Drape_prefix = Base_file+\"_valley\"\n",
    "# valley_img = lsdmw.BinaryDrape(DataDirectory,Base_file, Drape_prefix, cmap = \"GnBu_r\", alpha=1, save_fig=True)"
   ]
  },
  {
   "cell_type": "markdown",
   "metadata": {},
   "source": [
    "## Valley width\n",
    "\n",
    "In this section we'll make some plots of the valley width against distance."
   ]
  },
  {
   "cell_type": "code",
   "execution_count": null,
   "metadata": {},
   "outputs": [],
   "source": [
    "# Read in the valley width geojson\n",
    "widths = gpd.read_file(DataDirectory+Base_file+'_valley_widths.geojson')\n",
    "widths = widths[widths['total_valley_width'] > 0]"
   ]
  },
  {
   "cell_type": "code",
   "execution_count": null,
   "metadata": {},
   "outputs": [],
   "source": [
    "# get the mean valley width\n",
    "mean_width = widths['total_valley_width'].mean()"
   ]
  },
  {
   "cell_type": "code",
   "execution_count": null,
   "metadata": {},
   "outputs": [],
   "source": [
    "# plot the raw width data\n",
    "fig, ax = plt.subplots(nrows=1, ncols=1, figsize=(10,5))\n",
    "ax.plot(widths['distance_from_outlet'], widths['total_valley_width'], c='navy', lw=2)\n",
    "ax.axhline(mean_width, ls='--', c='r')\n",
    "ax.set_xlabel('Distance from outlet (m)', fontsize=14)\n",
    "ax.set_ylabel('Valley width (m)', fontsize=14)\n",
    "plt.show()"
   ]
  },
  {
   "cell_type": "code",
   "execution_count": null,
   "metadata": {},
   "outputs": [],
   "source": [
    "# make a plot of the rolling average of widths"
   ]
  },
  {
   "cell_type": "code",
   "execution_count": null,
   "metadata": {},
   "outputs": [],
   "source": [
    "reach_length = 100    # set the reach length to average over in metres\n",
    "widths['rolling_width'] = widths.rolling(reach_length, center=True).mean()['total_valley_width']\n",
    "widths['rolling_width_std'] = widths.rolling(reach_length, center=True).std()['total_valley_width']"
   ]
  },
  {
   "cell_type": "code",
   "execution_count": null,
   "metadata": {},
   "outputs": [],
   "source": [
    "# plot the rolling width data\n",
    "fig, ax = plt.subplots(nrows=1, ncols=1, figsize=(10,5))\n",
    "ax.plot(widths['distance_from_outlet'], widths['total_valley_width'], c='0.5', lw=2, alpha=0.5)\n",
    "ax.plot(widths['distance_from_outlet'], widths['rolling_width'], c='k', lw=2)\n",
    "ax.axhline(mean_width, ls='--', c='red')\n",
    "ax.set_xlabel('Distance from outlet (m)', fontsize=14)\n",
    "ax.set_ylabel('Valley width (m)', fontsize=14)\n",
    "plt.show()"
   ]
  },
  {
   "cell_type": "code",
   "execution_count": null,
   "metadata": {},
   "outputs": [],
   "source": [
    "widths"
   ]
  },
  {
   "cell_type": "markdown",
   "metadata": {},
   "source": [
    "## Plotting a single reach along the valley centreline\n",
    "This section is useful if you have run the code in tiles and want to make a composite plot of the valley width along the full valley. You will need a merged centreline of the valley as a line shapefile."
   ]
  },
  {
   "cell_type": "code",
   "execution_count": null,
   "metadata": {},
   "outputs": [],
   "source": [
    "# Read in the valley width geojson\n",
    "widths = gpd.read_file(DataDirectory+Base_file+'_valley_widths.geojson')\n",
    "widths = widths[widths['total_valley_width'] > 0]"
   ]
  },
  {
   "cell_type": "code",
   "execution_count": null,
   "metadata": {},
   "outputs": [],
   "source": [
    "# name and path of the merged centreline\n",
    "centreline_shp = '/media/TopographicData/TopographicData/valley_width/Switzerland/Birs/Valley_Centreline/Birs_valley_centreline_final.shp'\n",
    "# the UTM EPSG code of your region. You need to set this so we can get the correct distances in metres.\n",
    "UTM_EPSG_code = 'epsg:32632'"
   ]
  },
  {
   "cell_type": "code",
   "execution_count": null,
   "metadata": {},
   "outputs": [],
   "source": [
    "# now read in the centreline to a geopandas geodataframe\n",
    "centreline = gpd.read_file(centreline_shp)\n",
    "\n",
    "# get the centreline in UTM\n",
    "centreline_utm = centreline.to_crs(UTM_EPSG_code)\n",
    "# set up the pyproj transformer\n",
    "transformer = Transformer.from_crs(\"epsg:4326\", UTM_EPSG_code)"
   ]
  },
  {
   "cell_type": "code",
   "execution_count": null,
   "metadata": {},
   "outputs": [],
   "source": [
    "# get the distance of the widths along the line\n",
    "def get_distance_along_line(row):\n",
    "    #point = Point(row['longitude'], row['latitude'])\n",
    "    # convert the point to UTM\n",
    "    point = Point(transformer.transform(row['latitude'], row['longitude']))\n",
    "    # getting the distance of the point along the line\n",
    "    distance = centreline_utm.project(point)\n",
    "    return(distance)\n",
    "    \n",
    "widths['centreline_dist'] = widths.apply(get_distance_along_line, axis=1)"
   ]
  },
  {
   "cell_type": "code",
   "execution_count": null,
   "metadata": {},
   "outputs": [],
   "source": [
    "# make a plot of the valley width vs. distance along the merged centreline\n",
    "fig, ax = plt.subplots(nrows=1, ncols=1, figsize=(10,5))\n",
    "ax.plot(widths['centreline_dist'], widths['total_valley_width'], c='navy', lw=2)\n",
    "ax.axhline(mean_width, ls='--', c='r')\n",
    "ax.set_xlabel('Distance along valley centreline (m)', fontsize=14)\n",
    "ax.set_ylabel('Valley width (m)', fontsize=14)\n",
    "plt.show()"
   ]
  },
  {
   "cell_type": "markdown",
   "metadata": {},
   "source": [
    "## Plotting all the reaches along the valley centreline\n",
    "In this section we will loop through all the directories in your subfolder and make a composite plot of the widths for each one."
   ]
  },
  {
   "cell_type": "code",
   "execution_count": 6,
   "metadata": {},
   "outputs": [],
   "source": [
    "# define the name of the base directory that you want to loop through\n",
    "base_dir = '/media/TopographicData/TopographicData/valley_width/Switzerland/Birs/Valley_Centreline/'\n",
    "# the name of the centreline shapefile - I am assuming it is located in the base directory\n",
    "centreline_shp = base_dir+'Birs_valley_centreline_final.shp'\n",
    "# the UTM EPSG code of your region. You need to set this so we can get the correct distances in metres.\n",
    "UTM_EPSG_code = 'epsg:32632'"
   ]
  },
  {
   "cell_type": "code",
   "execution_count": 8,
   "metadata": {},
   "outputs": [
    {
     "name": "stderr",
     "output_type": "stream",
     "text": [
      "/home/bjdd72/miniconda3/lib/python3.7/site-packages/pyproj/crs/crs.py:53: FutureWarning: '+init=<authority>:<code>' syntax is deprecated. '<authority>:<code>' is the preferred initialization method. When making the change, be mindful of axis order changes: https://pyproj4.github.io/pyproj/stable/gotchas.html#axis-order-changes-in-proj-6\n",
      "  return _prepare_from_string(\" \".join(pjargs))\n"
     ]
    }
   ],
   "source": [
    "# now read in the centreline to a geopandas geodataframe\n",
    "centreline = gpd.read_file(centreline_shp)\n",
    "#centreline = centreline.dissolve()\n",
    "\n",
    "# get the centreline in UTM\n",
    "centreline_utm = centreline.to_crs(UTM_EPSG_code)\n",
    "# set up the pyproj transformer\n",
    "transformer = Transformer.from_crs(\"epsg:4326\", UTM_EPSG_code)\n",
    "\n",
    "# set up the master dataframe for storing all the width data together\n",
    "widths = gpd.GeoDataFrame()"
   ]
  },
  {
   "cell_type": "code",
   "execution_count": 9,
   "metadata": {},
   "outputs": [
    {
     "data": {
      "text/html": [
       "<div>\n",
       "<style scoped>\n",
       "    .dataframe tbody tr th:only-of-type {\n",
       "        vertical-align: middle;\n",
       "    }\n",
       "\n",
       "    .dataframe tbody tr th {\n",
       "        vertical-align: top;\n",
       "    }\n",
       "\n",
       "    .dataframe thead th {\n",
       "        text-align: right;\n",
       "    }\n",
       "</style>\n",
       "<table border=\"1\" class=\"dataframe\">\n",
       "  <thead>\n",
       "    <tr style=\"text-align: right;\">\n",
       "      <th></th>\n",
       "      <th>path</th>\n",
       "      <th>begin</th>\n",
       "      <th>end</th>\n",
       "      <th>geometry</th>\n",
       "    </tr>\n",
       "  </thead>\n",
       "  <tbody>\n",
       "    <tr>\n",
       "      <th>0</th>\n",
       "      <td>Birs_T10_centreline_nodes.shp|layername=Birs_T...</td>\n",
       "      <td>2302570.0</td>\n",
       "      <td>9203750.0</td>\n",
       "      <td>MULTILINESTRING ((7.21785 47.23365, 7.21787 47...</td>\n",
       "    </tr>\n",
       "  </tbody>\n",
       "</table>\n",
       "</div>"
      ],
      "text/plain": [
       "                                                path      begin        end  \\\n",
       "0  Birs_T10_centreline_nodes.shp|layername=Birs_T...  2302570.0  9203750.0   \n",
       "\n",
       "                                            geometry  \n",
       "0  MULTILINESTRING ((7.21785 47.23365, 7.21787 47...  "
      ]
     },
     "execution_count": 9,
     "metadata": {},
     "output_type": "execute_result"
    }
   ],
   "source": [
    "centreline"
   ]
  },
  {
   "cell_type": "code",
   "execution_count": 10,
   "metadata": {},
   "outputs": [],
   "source": [
    "# get the distance of the widths along the line. This just defines the code that will do this, but won't actually\n",
    "# do anything until the next block.\n",
    "def get_distance_along_line(row):\n",
    "    #point = Point(row['longitude'], row['latitude'])\n",
    "    # convert the point to UTM\n",
    "    point = Point(transformer.transform(row['latitude'], row['longitude']))\n",
    "    # getting the distance of the point along the line\n",
    "    distance = centreline_utm.project(point)\n",
    "    return(distance)"
   ]
  },
  {
   "cell_type": "code",
   "execution_count": 11,
   "metadata": {},
   "outputs": [],
   "source": [
    "# loop through the subdirectories and read in the valley width geojsons, calculate the distance along the centreline\n",
    "# and write to a new geodataframe. This might be slow!\n",
    "for root, subdirs, files in os.walk(base_dir):\n",
    "    for file in files:\n",
    "        if '_valley_widths.geojson' in file:\n",
    "            this_gdf = gpd.read_file(os.path.join(root,file))\n",
    "            this_gdf = this_gdf[this_gdf['total_valley_width'] > 0]\n",
    "            #this_gdf = this_gdf.drop(columns=['distance_from_outlet', 'node'])\n",
    "            this_gdf['centreline_dist'] = this_gdf.apply(get_distance_along_line, axis=1)\n",
    "            widths = widths.append(this_gdf, ignore_index=True)"
   ]
  },
  {
   "cell_type": "code",
   "execution_count": 12,
   "metadata": {},
   "outputs": [
    {
     "data": {
      "image/png": "[encoded data removed]",
      "text/plain": [
       "<Figure size 720x360 with 1 Axes>"
      ]
     },
     "metadata": {
      "needs_background": "light"
     },
     "output_type": "display_data"
    }
   ],
   "source": [
    "# sort by the distance along the centreline to make sure we're plotting in the right order\n",
    "widths = widths.sort_values(by='centreline_dist')\n",
    "\n",
    "# get the mean valley width\n",
    "mean_width = widths['total_valley_width'].mean()\n",
    "\n",
    "# make a plot of the valley width vs. distance along the merged centreline\n",
    "fig, ax = plt.subplots(nrows=1, ncols=1, figsize=(10,5))\n",
    "ax.plot(widths['centreline_dist']/1000, widths['total_valley_width'], c='navy', lw=2)\n",
    "ax.axhline(mean_width, ls='--', c='r')\n",
    "ax.set_xlabel('Distance along valley centreline (km)', fontsize=14)\n",
    "ax.set_ylabel('Valley width (m)', fontsize=14)\n",
    "plt.show()\n",
    "fig.savefig(base_dir+'Birs_valley_width.png', transparent=False)"
   ]
  },
  {
   "cell_type": "markdown",
   "metadata": {},
   "source": [
    "## Bedrock geology\n",
    "\n",
    "Add the plotting of the bedrock geology. We will load in the geology shapefile to a dataframe of polygons using geopandas. For each point along the valley centreline, we'll look to see if it intersects one of the polygons and assign it the appropriate bedrock type."
   ]
  },
  {
   "cell_type": "code",
   "execution_count": 13,
   "metadata": {},
   "outputs": [],
   "source": [
    "# read in the geology shapefile to a geopandas geodataframe\n",
    "geology_gdf = gpd.read_file('/media/TopographicData/TopographicData/valley_width/Switzerland/Birs/Geology/Birs_Bedrock_Merged.shp')"
   ]
  },
  {
   "cell_type": "code",
   "execution_count": 14,
   "metadata": {},
   "outputs": [
    {
     "data": {
      "text/plain": [
       "{'init': 'epsg:4326'}"
      ]
     },
     "execution_count": 14,
     "metadata": {},
     "output_type": "execute_result"
    }
   ],
   "source": [
    "# this is how you can check the coordinate system of a geodataframe.\n",
    "geology_gdf.crs"
   ]
  },
  {
   "cell_type": "code",
   "execution_count": 15,
   "metadata": {},
   "outputs": [
    {
     "name": "stderr",
     "output_type": "stream",
     "text": [
      "/home/bjdd72/miniconda3/lib/python3.7/site-packages/pyproj/crs/crs.py:53: FutureWarning: '+init=<authority>:<code>' syntax is deprecated. '<authority>:<code>' is the preferred initialization method. When making the change, be mindful of axis order changes: https://pyproj4.github.io/pyproj/stable/gotchas.html#axis-order-changes-in-proj-6\n",
      "  return _prepare_from_string(\" \".join(pjargs))\n"
     ]
    }
   ],
   "source": [
    "# change to UTM so we can do the buffering in metres\n",
    "widths_utm = widths.to_crs(UTM_EPSG_code)\n",
    "# buffer each part of the centreline to create a polygon that's 50 m in width\n",
    "widths_utm['centreline_buffer'] = widths_utm['geometry'].buffer(50)\n",
    "# convert back to WGS84\n",
    "widths_utm['geometry'] = widths_utm['centreline_buffer']\n",
    "buffered_widths = widths_utm.to_crs('epsg:4326')"
   ]
  },
  {
   "cell_type": "code",
   "execution_count": 16,
   "metadata": {},
   "outputs": [
    {
     "data": {
      "text/html": [
       "<div>\n",
       "<style scoped>\n",
       "    .dataframe tbody tr th:only-of-type {\n",
       "        vertical-align: middle;\n",
       "    }\n",
       "\n",
       "    .dataframe tbody tr th {\n",
       "        vertical-align: top;\n",
       "    }\n",
       "\n",
       "    .dataframe thead th {\n",
       "        text-align: right;\n",
       "    }\n",
       "</style>\n",
       "<table border=\"1\" class=\"dataframe\">\n",
       "  <thead>\n",
       "    <tr style=\"text-align: right;\">\n",
       "      <th></th>\n",
       "      <th>latitude</th>\n",
       "      <th>longitude</th>\n",
       "      <th>distance_from_outlet</th>\n",
       "      <th>flow_bearing</th>\n",
       "      <th>left_valley_width</th>\n",
       "      <th>node</th>\n",
       "      <th>orthogonal_bearing</th>\n",
       "      <th>right_valley_width</th>\n",
       "      <th>total_valley_width</th>\n",
       "      <th>geometry</th>\n",
       "      <th>centreline_dist</th>\n",
       "      <th>centreline_buffer</th>\n",
       "    </tr>\n",
       "  </thead>\n",
       "  <tbody>\n",
       "    <tr>\n",
       "      <th>5129</th>\n",
       "      <td>47.251563</td>\n",
       "      <td>7.343354</td>\n",
       "      <td>14370.830100</td>\n",
       "      <td>30.354321</td>\n",
       "      <td>0.999764</td>\n",
       "      <td>16692110</td>\n",
       "      <td>120.354324</td>\n",
       "      <td>3.471317</td>\n",
       "      <td>6.323065</td>\n",
       "      <td>POLYGON ((7.34291 47.25189, 7.34295 47.25192, ...</td>\n",
       "      <td>12607.444912</td>\n",
       "      <td>POLYGON ((374613.126 5234488.574, 374616.782 5...</td>\n",
       "    </tr>\n",
       "    <tr>\n",
       "      <th>5130</th>\n",
       "      <td>47.251582</td>\n",
       "      <td>7.343380</td>\n",
       "      <td>14365.658200</td>\n",
       "      <td>25.355295</td>\n",
       "      <td>3.471317</td>\n",
       "      <td>16688520</td>\n",
       "      <td>115.355293</td>\n",
       "      <td>0.999764</td>\n",
       "      <td>6.323065</td>\n",
       "      <td>POLYGON ((7.34272 47.25158, 7.34272 47.25163, ...</td>\n",
       "      <td>12610.275695</td>\n",
       "      <td>POLYGON ((374598.240 5234454.270, 374598.408 5...</td>\n",
       "    </tr>\n",
       "    <tr>\n",
       "      <th>5131</th>\n",
       "      <td>47.251599</td>\n",
       "      <td>7.343379</td>\n",
       "      <td>14363.658200</td>\n",
       "      <td>21.290243</td>\n",
       "      <td>3.471317</td>\n",
       "      <td>16684929</td>\n",
       "      <td>111.290245</td>\n",
       "      <td>0.999764</td>\n",
       "      <td>6.323065</td>\n",
       "      <td>POLYGON ((7.34272 47.25161, 7.34272 47.25165, ...</td>\n",
       "      <td>12612.277230</td>\n",
       "      <td>POLYGON ((374598.241 5234457.159, 374598.496 5...</td>\n",
       "    </tr>\n",
       "    <tr>\n",
       "      <th>5132</th>\n",
       "      <td>47.251618</td>\n",
       "      <td>7.343379</td>\n",
       "      <td>14360.486300</td>\n",
       "      <td>18.937490</td>\n",
       "      <td>3.471317</td>\n",
       "      <td>16681338</td>\n",
       "      <td>108.937492</td>\n",
       "      <td>1.827996</td>\n",
       "      <td>7.209403</td>\n",
       "      <td>POLYGON ((7.34272 47.25163, 7.34272 47.25167, ...</td>\n",
       "      <td>12614.278301</td>\n",
       "      <td>POLYGON ((374598.247 5234459.163, 374598.504 5...</td>\n",
       "    </tr>\n",
       "    <tr>\n",
       "      <th>5133</th>\n",
       "      <td>47.251635</td>\n",
       "      <td>7.343378</td>\n",
       "      <td>14359.658200</td>\n",
       "      <td>16.555672</td>\n",
       "      <td>2.999293</td>\n",
       "      <td>16677747</td>\n",
       "      <td>106.555672</td>\n",
       "      <td>2.999293</td>\n",
       "      <td>7.998115</td>\n",
       "      <td>POLYGON ((7.34272 47.25165, 7.34272 47.25169, ...</td>\n",
       "      <td>12616.268242</td>\n",
       "      <td>POLYGON ((374598.253 5234461.150, 374598.509 5...</td>\n",
       "    </tr>\n",
       "    <tr>\n",
       "      <th>...</th>\n",
       "      <td>...</td>\n",
       "      <td>...</td>\n",
       "      <td>...</td>\n",
       "      <td>...</td>\n",
       "      <td>...</td>\n",
       "      <td>...</td>\n",
       "      <td>...</td>\n",
       "      <td>...</td>\n",
       "      <td>...</td>\n",
       "      <td>...</td>\n",
       "      <td>...</td>\n",
       "      <td>...</td>\n",
       "    </tr>\n",
       "    <tr>\n",
       "      <th>5124</th>\n",
       "      <td>47.394067</td>\n",
       "      <td>7.415440</td>\n",
       "      <td>680.972107</td>\n",
       "      <td>98.510261</td>\n",
       "      <td>69.693436</td>\n",
       "      <td>2679913</td>\n",
       "      <td>188.510254</td>\n",
       "      <td>102.221985</td>\n",
       "      <td>173.910995</td>\n",
       "      <td>POLYGON ((7.41593 47.39437, 7.41597 47.39434, ...</td>\n",
       "      <td>38341.924556</td>\n",
       "      <td>POLYGON ((380460.283 5250207.167, 380463.559 5...</td>\n",
       "    </tr>\n",
       "    <tr>\n",
       "      <th>5125</th>\n",
       "      <td>47.394049</td>\n",
       "      <td>7.415467</td>\n",
       "      <td>679.800781</td>\n",
       "      <td>101.309921</td>\n",
       "      <td>72.330582</td>\n",
       "      <td>2683673</td>\n",
       "      <td>191.309921</td>\n",
       "      <td>98.995506</td>\n",
       "      <td>173.323792</td>\n",
       "      <td>POLYGON ((7.41548 47.39450, 7.41554 47.39450, ...</td>\n",
       "      <td>38344.733680</td>\n",
       "      <td>POLYGON ((380426.671 5250222.004, 380431.572 5...</td>\n",
       "    </tr>\n",
       "    <tr>\n",
       "      <th>5126</th>\n",
       "      <td>47.394050</td>\n",
       "      <td>7.415493</td>\n",
       "      <td>677.801270</td>\n",
       "      <td>98.510261</td>\n",
       "      <td>71.673393</td>\n",
       "      <td>2683674</td>\n",
       "      <td>188.510254</td>\n",
       "      <td>99.950523</td>\n",
       "      <td>173.623398</td>\n",
       "      <td>POLYGON ((7.41551 47.39450, 7.41557 47.39450, ...</td>\n",
       "      <td>38346.746709</td>\n",
       "      <td>POLYGON ((380428.911 5250221.997, 380433.811 5...</td>\n",
       "    </tr>\n",
       "    <tr>\n",
       "      <th>5127</th>\n",
       "      <td>47.394050</td>\n",
       "      <td>7.415520</td>\n",
       "      <td>675.801758</td>\n",
       "      <td>98.510261</td>\n",
       "      <td>71.673393</td>\n",
       "      <td>2683675</td>\n",
       "      <td>188.510254</td>\n",
       "      <td>97.970711</td>\n",
       "      <td>171.643311</td>\n",
       "      <td>POLYGON ((7.41553 47.39450, 7.41560 47.39450, ...</td>\n",
       "      <td>38348.726025</td>\n",
       "      <td>POLYGON ((380430.667 5250222.001, 380435.568 5...</td>\n",
       "    </tr>\n",
       "    <tr>\n",
       "      <th>5128</th>\n",
       "      <td>47.394050</td>\n",
       "      <td>7.415546</td>\n",
       "      <td>672.145874</td>\n",
       "      <td>98.510261</td>\n",
       "      <td>71.673393</td>\n",
       "      <td>2683676</td>\n",
       "      <td>188.510254</td>\n",
       "      <td>97.970711</td>\n",
       "      <td>171.643311</td>\n",
       "      <td>POLYGON ((7.41556 47.39450, 7.41562 47.39450, ...</td>\n",
       "      <td>38350.742536</td>\n",
       "      <td>POLYGON ((380432.682 5250222.004, 380437.584 5...</td>\n",
       "    </tr>\n",
       "  </tbody>\n",
       "</table>\n",
       "<p>10562 rows × 12 columns</p>\n",
       "</div>"
      ],
      "text/plain": [
       "       latitude  longitude  distance_from_outlet  flow_bearing  \\\n",
       "5129  47.251563   7.343354          14370.830100     30.354321   \n",
       "5130  47.251582   7.343380          14365.658200     25.355295   \n",
       "5131  47.251599   7.343379          14363.658200     21.290243   \n",
       "5132  47.251618   7.343379          14360.486300     18.937490   \n",
       "5133  47.251635   7.343378          14359.658200     16.555672   \n",
       "...         ...        ...                   ...           ...   \n",
       "5124  47.394067   7.415440            680.972107     98.510261   \n",
       "5125  47.394049   7.415467            679.800781    101.309921   \n",
       "5126  47.394050   7.415493            677.801270     98.510261   \n",
       "5127  47.394050   7.415520            675.801758     98.510261   \n",
       "5128  47.394050   7.415546            672.145874     98.510261   \n",
       "\n",
       "      left_valley_width      node  orthogonal_bearing  right_valley_width  \\\n",
       "5129           0.999764  16692110          120.354324            3.471317   \n",
       "5130           3.471317  16688520          115.355293            0.999764   \n",
       "5131           3.471317  16684929          111.290245            0.999764   \n",
       "5132           3.471317  16681338          108.937492            1.827996   \n",
       "5133           2.999293  16677747          106.555672            2.999293   \n",
       "...                 ...       ...                 ...                 ...   \n",
       "5124          69.693436   2679913          188.510254          102.221985   \n",
       "5125          72.330582   2683673          191.309921           98.995506   \n",
       "5126          71.673393   2683674          188.510254           99.950523   \n",
       "5127          71.673393   2683675          188.510254           97.970711   \n",
       "5128          71.673393   2683676          188.510254           97.970711   \n",
       "\n",
       "      total_valley_width                                           geometry  \\\n",
       "5129            6.323065  POLYGON ((7.34291 47.25189, 7.34295 47.25192, ...   \n",
       "5130            6.323065  POLYGON ((7.34272 47.25158, 7.34272 47.25163, ...   \n",
       "5131            6.323065  POLYGON ((7.34272 47.25161, 7.34272 47.25165, ...   \n",
       "5132            7.209403  POLYGON ((7.34272 47.25163, 7.34272 47.25167, ...   \n",
       "5133            7.998115  POLYGON ((7.34272 47.25165, 7.34272 47.25169, ...   \n",
       "...                  ...                                                ...   \n",
       "5124          173.910995  POLYGON ((7.41593 47.39437, 7.41597 47.39434, ...   \n",
       "5125          173.323792  POLYGON ((7.41548 47.39450, 7.41554 47.39450, ...   \n",
       "5126          173.623398  POLYGON ((7.41551 47.39450, 7.41557 47.39450, ...   \n",
       "5127          171.643311  POLYGON ((7.41553 47.39450, 7.41560 47.39450, ...   \n",
       "5128          171.643311  POLYGON ((7.41556 47.39450, 7.41562 47.39450, ...   \n",
       "\n",
       "      centreline_dist                                  centreline_buffer  \n",
       "5129     12607.444912  POLYGON ((374613.126 5234488.574, 374616.782 5...  \n",
       "5130     12610.275695  POLYGON ((374598.240 5234454.270, 374598.408 5...  \n",
       "5131     12612.277230  POLYGON ((374598.241 5234457.159, 374598.496 5...  \n",
       "5132     12614.278301  POLYGON ((374598.247 5234459.163, 374598.504 5...  \n",
       "5133     12616.268242  POLYGON ((374598.253 5234461.150, 374598.509 5...  \n",
       "...               ...                                                ...  \n",
       "5124     38341.924556  POLYGON ((380460.283 5250207.167, 380463.559 5...  \n",
       "5125     38344.733680  POLYGON ((380426.671 5250222.004, 380431.572 5...  \n",
       "5126     38346.746709  POLYGON ((380428.911 5250221.997, 380433.811 5...  \n",
       "5127     38348.726025  POLYGON ((380430.667 5250222.001, 380435.568 5...  \n",
       "5128     38350.742536  POLYGON ((380432.682 5250222.004, 380437.584 5...  \n",
       "\n",
       "[10562 rows x 12 columns]"
      ]
     },
     "execution_count": 16,
     "metadata": {},
     "output_type": "execute_result"
    }
   ],
   "source": [
    "buffered_widths"
   ]
  },
  {
   "cell_type": "code",
   "execution_count": 17,
   "metadata": {},
   "outputs": [
    {
     "name": "stderr",
     "output_type": "stream",
     "text": [
      "/home/bjdd72/miniconda3/lib/python3.7/site-packages/geopandas/tools/sjoin.py:61: UserWarning: CRS of frames being joined does not match!(epsg:4326 != {'init': 'epsg:4326'})\n",
      "  \"(%s != %s)\" % (left_df.crs, right_df.crs)\n"
     ]
    }
   ],
   "source": [
    "# find if each centreline polygon intserects the geology. To do this we use what's called a \"spatial join\"\n",
    "# it will join the polygon from the geology shapefile with the widths dataframe if they intersect in geographic space.\n",
    "widths_plus_geology = gpd.sjoin(buffered_widths, geology_gdf, how='left', op='intersects')"
   ]
  },
  {
   "cell_type": "code",
   "execution_count": 18,
   "metadata": {},
   "outputs": [],
   "source": [
    "# geopandas doesn't like it if there is more than one column with a shape in it. so let's remove the buffered shapes.\n",
    "widths_plus_geology = widths_plus_geology.drop(columns=('centreline_buffer'))"
   ]
  },
  {
   "cell_type": "code",
   "execution_count": 19,
   "metadata": {},
   "outputs": [],
   "source": [
    "# let's write the new dataframe to a shapefile so we can load it in to QGIS and test if it worked\n",
    "widths_plus_geology.to_file('/media/TopographicData/TopographicData/valley_width/Switzerland/Birs/Geology/Birs_widths_plus_geology.shp')"
   ]
  },
  {
   "cell_type": "code",
   "execution_count": 20,
   "metadata": {},
   "outputs": [
    {
     "data": {
      "text/html": [
       "<div>\n",
       "<style scoped>\n",
       "    .dataframe tbody tr th:only-of-type {\n",
       "        vertical-align: middle;\n",
       "    }\n",
       "\n",
       "    .dataframe tbody tr th {\n",
       "        vertical-align: top;\n",
       "    }\n",
       "\n",
       "    .dataframe thead th {\n",
       "        text-align: right;\n",
       "    }\n",
       "</style>\n",
       "<table border=\"1\" class=\"dataframe\">\n",
       "  <thead>\n",
       "    <tr style=\"text-align: right;\">\n",
       "      <th></th>\n",
       "      <th>latitude</th>\n",
       "      <th>longitude</th>\n",
       "      <th>distance_from_outlet</th>\n",
       "      <th>flow_bearing</th>\n",
       "      <th>left_valley_width</th>\n",
       "      <th>node</th>\n",
       "      <th>orthogonal_bearing</th>\n",
       "      <th>right_valley_width</th>\n",
       "      <th>total_valley_width</th>\n",
       "      <th>geometry</th>\n",
       "      <th>centreline_dist</th>\n",
       "      <th>index_right</th>\n",
       "      <th>SYMBOL</th>\n",
       "      <th>layer</th>\n",
       "      <th>path</th>\n",
       "      <th>LITHOLOGY</th>\n",
       "      <th>a</th>\n",
       "    </tr>\n",
       "  </thead>\n",
       "  <tbody>\n",
       "    <tr>\n",
       "      <th>5129</th>\n",
       "      <td>47.251563</td>\n",
       "      <td>7.343354</td>\n",
       "      <td>14370.830100</td>\n",
       "      <td>30.354321</td>\n",
       "      <td>0.999764</td>\n",
       "      <td>16692110</td>\n",
       "      <td>120.354324</td>\n",
       "      <td>3.471317</td>\n",
       "      <td>6.323065</td>\n",
       "      <td>POLYGON ((7.34291 47.25189, 7.34295 47.25192, ...</td>\n",
       "      <td>12607.444912</td>\n",
       "      <td>102.0</td>\n",
       "      <td>15200115</td>\n",
       "      <td>Bedrock_096_Dissolved</td>\n",
       "      <td>C:/Users/eliot/Durham University/CLUBB, FIONA ...</td>\n",
       "      <td>M</td>\n",
       "      <td>None</td>\n",
       "    </tr>\n",
       "    <tr>\n",
       "      <th>5129</th>\n",
       "      <td>47.251563</td>\n",
       "      <td>7.343354</td>\n",
       "      <td>14370.830100</td>\n",
       "      <td>30.354321</td>\n",
       "      <td>0.999764</td>\n",
       "      <td>16692110</td>\n",
       "      <td>120.354324</td>\n",
       "      <td>3.471317</td>\n",
       "      <td>6.323065</td>\n",
       "      <td>POLYGON ((7.34291 47.25189, 7.34295 47.25192, ...</td>\n",
       "      <td>12607.444912</td>\n",
       "      <td>103.0</td>\n",
       "      <td>15200117</td>\n",
       "      <td>Bedrock_096_Dissolved</td>\n",
       "      <td>C:/Users/eliot/Durham University/CLUBB, FIONA ...</td>\n",
       "      <td>M_LS</td>\n",
       "      <td>None</td>\n",
       "    </tr>\n",
       "    <tr>\n",
       "      <th>5130</th>\n",
       "      <td>47.251582</td>\n",
       "      <td>7.343380</td>\n",
       "      <td>14365.658200</td>\n",
       "      <td>25.355295</td>\n",
       "      <td>3.471317</td>\n",
       "      <td>16688520</td>\n",
       "      <td>115.355293</td>\n",
       "      <td>0.999764</td>\n",
       "      <td>6.323065</td>\n",
       "      <td>POLYGON ((7.34272 47.25158, 7.34272 47.25163, ...</td>\n",
       "      <td>12610.275695</td>\n",
       "      <td>102.0</td>\n",
       "      <td>15200115</td>\n",
       "      <td>Bedrock_096_Dissolved</td>\n",
       "      <td>C:/Users/eliot/Durham University/CLUBB, FIONA ...</td>\n",
       "      <td>M</td>\n",
       "      <td>None</td>\n",
       "    </tr>\n",
       "    <tr>\n",
       "      <th>5130</th>\n",
       "      <td>47.251582</td>\n",
       "      <td>7.343380</td>\n",
       "      <td>14365.658200</td>\n",
       "      <td>25.355295</td>\n",
       "      <td>3.471317</td>\n",
       "      <td>16688520</td>\n",
       "      <td>115.355293</td>\n",
       "      <td>0.999764</td>\n",
       "      <td>6.323065</td>\n",
       "      <td>POLYGON ((7.34272 47.25158, 7.34272 47.25163, ...</td>\n",
       "      <td>12610.275695</td>\n",
       "      <td>103.0</td>\n",
       "      <td>15200117</td>\n",
       "      <td>Bedrock_096_Dissolved</td>\n",
       "      <td>C:/Users/eliot/Durham University/CLUBB, FIONA ...</td>\n",
       "      <td>M_LS</td>\n",
       "      <td>None</td>\n",
       "    </tr>\n",
       "    <tr>\n",
       "      <th>5131</th>\n",
       "      <td>47.251599</td>\n",
       "      <td>7.343379</td>\n",
       "      <td>14363.658200</td>\n",
       "      <td>21.290243</td>\n",
       "      <td>3.471317</td>\n",
       "      <td>16684929</td>\n",
       "      <td>111.290245</td>\n",
       "      <td>0.999764</td>\n",
       "      <td>6.323065</td>\n",
       "      <td>POLYGON ((7.34272 47.25161, 7.34272 47.25165, ...</td>\n",
       "      <td>12612.277230</td>\n",
       "      <td>102.0</td>\n",
       "      <td>15200115</td>\n",
       "      <td>Bedrock_096_Dissolved</td>\n",
       "      <td>C:/Users/eliot/Durham University/CLUBB, FIONA ...</td>\n",
       "      <td>M</td>\n",
       "      <td>None</td>\n",
       "    </tr>\n",
       "    <tr>\n",
       "      <th>...</th>\n",
       "      <td>...</td>\n",
       "      <td>...</td>\n",
       "      <td>...</td>\n",
       "      <td>...</td>\n",
       "      <td>...</td>\n",
       "      <td>...</td>\n",
       "      <td>...</td>\n",
       "      <td>...</td>\n",
       "      <td>...</td>\n",
       "      <td>...</td>\n",
       "      <td>...</td>\n",
       "      <td>...</td>\n",
       "      <td>...</td>\n",
       "      <td>...</td>\n",
       "      <td>...</td>\n",
       "      <td>...</td>\n",
       "      <td>...</td>\n",
       "    </tr>\n",
       "    <tr>\n",
       "      <th>5124</th>\n",
       "      <td>47.394067</td>\n",
       "      <td>7.415440</td>\n",
       "      <td>680.972107</td>\n",
       "      <td>98.510261</td>\n",
       "      <td>69.693436</td>\n",
       "      <td>2679913</td>\n",
       "      <td>188.510254</td>\n",
       "      <td>102.221985</td>\n",
       "      <td>173.910995</td>\n",
       "      <td>POLYGON ((7.41593 47.39437, 7.41597 47.39434, ...</td>\n",
       "      <td>38341.924556</td>\n",
       "      <td>NaN</td>\n",
       "      <td>NaN</td>\n",
       "      <td>NaN</td>\n",
       "      <td>NaN</td>\n",
       "      <td>NaN</td>\n",
       "      <td>NaN</td>\n",
       "    </tr>\n",
       "    <tr>\n",
       "      <th>5125</th>\n",
       "      <td>47.394049</td>\n",
       "      <td>7.415467</td>\n",
       "      <td>679.800781</td>\n",
       "      <td>101.309921</td>\n",
       "      <td>72.330582</td>\n",
       "      <td>2683673</td>\n",
       "      <td>191.309921</td>\n",
       "      <td>98.995506</td>\n",
       "      <td>173.323792</td>\n",
       "      <td>POLYGON ((7.41548 47.39450, 7.41554 47.39450, ...</td>\n",
       "      <td>38344.733680</td>\n",
       "      <td>NaN</td>\n",
       "      <td>NaN</td>\n",
       "      <td>NaN</td>\n",
       "      <td>NaN</td>\n",
       "      <td>NaN</td>\n",
       "      <td>NaN</td>\n",
       "    </tr>\n",
       "    <tr>\n",
       "      <th>5126</th>\n",
       "      <td>47.394050</td>\n",
       "      <td>7.415493</td>\n",
       "      <td>677.801270</td>\n",
       "      <td>98.510261</td>\n",
       "      <td>71.673393</td>\n",
       "      <td>2683674</td>\n",
       "      <td>188.510254</td>\n",
       "      <td>99.950523</td>\n",
       "      <td>173.623398</td>\n",
       "      <td>POLYGON ((7.41551 47.39450, 7.41557 47.39450, ...</td>\n",
       "      <td>38346.746709</td>\n",
       "      <td>NaN</td>\n",
       "      <td>NaN</td>\n",
       "      <td>NaN</td>\n",
       "      <td>NaN</td>\n",
       "      <td>NaN</td>\n",
       "      <td>NaN</td>\n",
       "    </tr>\n",
       "    <tr>\n",
       "      <th>5127</th>\n",
       "      <td>47.394050</td>\n",
       "      <td>7.415520</td>\n",
       "      <td>675.801758</td>\n",
       "      <td>98.510261</td>\n",
       "      <td>71.673393</td>\n",
       "      <td>2683675</td>\n",
       "      <td>188.510254</td>\n",
       "      <td>97.970711</td>\n",
       "      <td>171.643311</td>\n",
       "      <td>POLYGON ((7.41553 47.39450, 7.41560 47.39450, ...</td>\n",
       "      <td>38348.726025</td>\n",
       "      <td>NaN</td>\n",
       "      <td>NaN</td>\n",
       "      <td>NaN</td>\n",
       "      <td>NaN</td>\n",
       "      <td>NaN</td>\n",
       "      <td>NaN</td>\n",
       "    </tr>\n",
       "    <tr>\n",
       "      <th>5128</th>\n",
       "      <td>47.394050</td>\n",
       "      <td>7.415546</td>\n",
       "      <td>672.145874</td>\n",
       "      <td>98.510261</td>\n",
       "      <td>71.673393</td>\n",
       "      <td>2683676</td>\n",
       "      <td>188.510254</td>\n",
       "      <td>97.970711</td>\n",
       "      <td>171.643311</td>\n",
       "      <td>POLYGON ((7.41556 47.39450, 7.41562 47.39450, ...</td>\n",
       "      <td>38350.742536</td>\n",
       "      <td>NaN</td>\n",
       "      <td>NaN</td>\n",
       "      <td>NaN</td>\n",
       "      <td>NaN</td>\n",
       "      <td>NaN</td>\n",
       "      <td>NaN</td>\n",
       "    </tr>\n",
       "  </tbody>\n",
       "</table>\n",
       "<p>14165 rows × 17 columns</p>\n",
       "</div>"
      ],
      "text/plain": [
       "       latitude  longitude  distance_from_outlet  flow_bearing  \\\n",
       "5129  47.251563   7.343354          14370.830100     30.354321   \n",
       "5129  47.251563   7.343354          14370.830100     30.354321   \n",
       "5130  47.251582   7.343380          14365.658200     25.355295   \n",
       "5130  47.251582   7.343380          14365.658200     25.355295   \n",
       "5131  47.251599   7.343379          14363.658200     21.290243   \n",
       "...         ...        ...                   ...           ...   \n",
       "5124  47.394067   7.415440            680.972107     98.510261   \n",
       "5125  47.394049   7.415467            679.800781    101.309921   \n",
       "5126  47.394050   7.415493            677.801270     98.510261   \n",
       "5127  47.394050   7.415520            675.801758     98.510261   \n",
       "5128  47.394050   7.415546            672.145874     98.510261   \n",
       "\n",
       "      left_valley_width      node  orthogonal_bearing  right_valley_width  \\\n",
       "5129           0.999764  16692110          120.354324            3.471317   \n",
       "5129           0.999764  16692110          120.354324            3.471317   \n",
       "5130           3.471317  16688520          115.355293            0.999764   \n",
       "5130           3.471317  16688520          115.355293            0.999764   \n",
       "5131           3.471317  16684929          111.290245            0.999764   \n",
       "...                 ...       ...                 ...                 ...   \n",
       "5124          69.693436   2679913          188.510254          102.221985   \n",
       "5125          72.330582   2683673          191.309921           98.995506   \n",
       "5126          71.673393   2683674          188.510254           99.950523   \n",
       "5127          71.673393   2683675          188.510254           97.970711   \n",
       "5128          71.673393   2683676          188.510254           97.970711   \n",
       "\n",
       "      total_valley_width                                           geometry  \\\n",
       "5129            6.323065  POLYGON ((7.34291 47.25189, 7.34295 47.25192, ...   \n",
       "5129            6.323065  POLYGON ((7.34291 47.25189, 7.34295 47.25192, ...   \n",
       "5130            6.323065  POLYGON ((7.34272 47.25158, 7.34272 47.25163, ...   \n",
       "5130            6.323065  POLYGON ((7.34272 47.25158, 7.34272 47.25163, ...   \n",
       "5131            6.323065  POLYGON ((7.34272 47.25161, 7.34272 47.25165, ...   \n",
       "...                  ...                                                ...   \n",
       "5124          173.910995  POLYGON ((7.41593 47.39437, 7.41597 47.39434, ...   \n",
       "5125          173.323792  POLYGON ((7.41548 47.39450, 7.41554 47.39450, ...   \n",
       "5126          173.623398  POLYGON ((7.41551 47.39450, 7.41557 47.39450, ...   \n",
       "5127          171.643311  POLYGON ((7.41553 47.39450, 7.41560 47.39450, ...   \n",
       "5128          171.643311  POLYGON ((7.41556 47.39450, 7.41562 47.39450, ...   \n",
       "\n",
       "      centreline_dist  index_right    SYMBOL                  layer  \\\n",
       "5129     12607.444912        102.0  15200115  Bedrock_096_Dissolved   \n",
       "5129     12607.444912        103.0  15200117  Bedrock_096_Dissolved   \n",
       "5130     12610.275695        102.0  15200115  Bedrock_096_Dissolved   \n",
       "5130     12610.275695        103.0  15200117  Bedrock_096_Dissolved   \n",
       "5131     12612.277230        102.0  15200115  Bedrock_096_Dissolved   \n",
       "...               ...          ...       ...                    ...   \n",
       "5124     38341.924556          NaN       NaN                    NaN   \n",
       "5125     38344.733680          NaN       NaN                    NaN   \n",
       "5126     38346.746709          NaN       NaN                    NaN   \n",
       "5127     38348.726025          NaN       NaN                    NaN   \n",
       "5128     38350.742536          NaN       NaN                    NaN   \n",
       "\n",
       "                                                   path LITHOLOGY     a  \n",
       "5129  C:/Users/eliot/Durham University/CLUBB, FIONA ...         M  None  \n",
       "5129  C:/Users/eliot/Durham University/CLUBB, FIONA ...      M_LS  None  \n",
       "5130  C:/Users/eliot/Durham University/CLUBB, FIONA ...         M  None  \n",
       "5130  C:/Users/eliot/Durham University/CLUBB, FIONA ...      M_LS  None  \n",
       "5131  C:/Users/eliot/Durham University/CLUBB, FIONA ...         M  None  \n",
       "...                                                 ...       ...   ...  \n",
       "5124                                                NaN       NaN   NaN  \n",
       "5125                                                NaN       NaN   NaN  \n",
       "5126                                                NaN       NaN   NaN  \n",
       "5127                                                NaN       NaN   NaN  \n",
       "5128                                                NaN       NaN   NaN  \n",
       "\n",
       "[14165 rows x 17 columns]"
      ]
     },
     "execution_count": 20,
     "metadata": {},
     "output_type": "execute_result"
    }
   ],
   "source": [
    "widths_plus_geology"
   ]
  },
  {
   "cell_type": "code",
   "execution_count": 33,
   "metadata": {},
   "outputs": [
    {
     "name": "stdout",
     "output_type": "stream",
     "text": [
      "['M' 'M_LS' nan 'LS' 'C' 'SS']\n"
     ]
    },
    {
     "data": {
      "image/png": "[encoded data removed]",
      "text/plain": [
       "<Figure size 432x288 with 1 Axes>"
      ]
     },
     "metadata": {
      "needs_background": "light"
     },
     "output_type": "display_data"
    }
   ],
   "source": [
    "plt.plot(widths_plus_geology['centreline_dist'], widths_plus_geology['total_valley_width'])\n",
    "lithologies = widths_plus_geology['LITHOLOGY'].unique()\n",
    "print(lithologies)"
   ]
  },
  {
   "cell_type": "code",
   "execution_count": 41,
   "metadata": {},
   "outputs": [
    {
     "data": {
      "image/png": "[encoded data removed]",
      "text/plain": [
       "<Figure size 432x288 with 1 Axes>"
      ]
     },
     "metadata": {
      "needs_background": "light"
     },
     "output_type": "display_data"
    }
   ],
   "source": [
    "colours = ['red', 'blue', 'yellow', 'black', 'grey', 'green']\n",
    "plt.plot(widths_plus_geology['centreline_dist'], widths_plus_geology['total_valley_width'], c='grey', zorder=2)\n",
    "for i, lith in enumerate(lithologies):\n",
    "    this_df = widths_plus_geology[widths_plus_geology['LITHOLOGY'] == lith]\n",
    "    plt.vlines(this_df['centreline_dist'], ymin=0, ymax=this_df['total_valley_width'], colors=colours[i], alpha=0.5, zorder=1)"
   ]
  },
  {
   "cell_type": "code",
   "execution_count": null,
   "metadata": {},
   "outputs": [],
   "source": []
  }
 ],
 "metadata": {
  "kernelspec": {
   "display_name": "Python 3",
   "language": "python",
   "name": "python3"
  },
  "language_info": {
   "codemirror_mode": {
    "name": "ipython",
    "version": 3
   },
   "file_extension": ".py",
   "mimetype": "text/x-python",
   "name": "python",
   "nbconvert_exporter": "python",
   "pygments_lexer": "ipython3",
   "version": "3.7.6"
  }
 },
 "nbformat": 4,
 "nbformat_minor": 4
}
