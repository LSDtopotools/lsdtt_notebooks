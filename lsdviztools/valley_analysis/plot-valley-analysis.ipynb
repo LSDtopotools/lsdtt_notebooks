{
 "cells": [
  {
   "cell_type": "markdown",
   "metadata": {},
   "source": [
    "# Valley analysis in LSDTopoTools\n",
    "\n",
    "Wlecome to `plot-valley-analysis`! In order to run this notebook you need to have followed the installation instructions on the `lsdtt-notebooks` GitHub repository and make sure you have `lsdviztools` installed. This notebook plots the results of the LSDTopoTools valley analysis code. It will produce map plots of the valley defined from LSDTT. It also has a number of different options depending on what you're interested in doing. \n",
    "\n",
    "If you chose to run the terrace extraction it will make:\n",
    "* Separate map plots of the floodplain and the terraces\n",
    "\n",
    "If you chose to measure valley width it will make:\n",
    "* Plots of the valley width vs distance downstream\n",
    "* Map plots of the valley width measurements\n",
    "\n",
    "**NOTE: This is a work in progress!** \n",
    "\n",
    "------------------------------------------------------\n",
    "\n",
    "**If you use this code please cite**: Clubb, F. J., Mudd, S. M., Milodowski, D. T., Valters, D. A., Slater, L. J., Hurst, M. D., and Limaye, A. B.: Geomorphometric delineation of floodplains and terraces from objectively defined topographic thresholds, Earth Surf. Dynam., 5, 369–385, https://doi.org/10.5194/esurf-5-369-2017, 2017.\n",
    "\n",
    "------------------------------------------------------"
   ]
  },
  {
   "cell_type": "markdown",
   "metadata": {},
   "source": [
    "## Package imports and declaring variables\n",
    "\n",
    "Import required packages and define the data directory and DEM name here."
   ]
  },
  {
   "cell_type": "code",
   "execution_count": null,
   "metadata": {},
   "outputs": [],
   "source": [
    "import geopandas as gpd\n",
    "import matplotlib.pyplot as plt\n",
    "from shapely.geometry import Point, LineString, MultiLineString\n",
    "from pyproj import Transformer\n",
    "import os\n",
    "import numpy as np\n",
    "\n",
    "# import some lsdtt modules\n",
    "# import lsdviztools.lsdbasemaptools as bmt\n",
    "# from lsdviztools.lsdplottingtools import lsdmap_gdalio as gio\n",
    "# import lsdviztools.lsdmapwrappers as lsdmw\n",
    "# import lsdttparamselector as ps"
   ]
  },
  {
   "cell_type": "markdown",
   "metadata": {},
   "source": [
    "Let's define the data directory and the prefix of your DEM. **The path to the folder MUST have a '/' at the end.**"
   ]
  },
  {
   "cell_type": "code",
   "execution_count": null,
   "metadata": {},
   "outputs": [],
   "source": [
    "DataDirectory = '/media/TopographicData/TopographicData/valley_width/Switzerland/Birs/Valley_Centreline/Birs_Test11_180621/'\n",
    "Base_file = \"Birs_T11_Clipped\""
   ]
  },
  {
   "cell_type": "markdown",
   "metadata": {},
   "source": [
    "## Valley plotting\n",
    "\n",
    "This section makes map plot of the valley. First we'll read in the valley raster and make a plot against the shaded relief.\n",
    "\n",
    "**NOTE: this is commented out at the moment due to issues with pip version of lsdviztools**"
   ]
  },
  {
   "cell_type": "code",
   "execution_count": null,
   "metadata": {},
   "outputs": [],
   "source": [
    "# %matplotlib inline\n",
    "# Drape_prefix = Base_file+\"_valley\"\n",
    "# valley_img = lsdmw.BinaryDrape(DataDirectory,Base_file, Drape_prefix, cmap = \"GnBu_r\", alpha=1, save_fig=True)"
   ]
  },
  {
   "cell_type": "markdown",
   "metadata": {},
   "source": [
    "## Valley width\n",
    "\n",
    "In this section we'll make some plots of the valley width against distance."
   ]
  },
  {
   "cell_type": "code",
   "execution_count": null,
   "metadata": {},
   "outputs": [],
   "source": [
    "# Read in the valley width geojson\n",
    "widths = gpd.read_file(DataDirectory+Base_file+'_valley_widths.geojson')\n",
    "widths = widths[widths['total_valley_width'] > 0]"
   ]
  },
  {
   "cell_type": "code",
   "execution_count": null,
   "metadata": {},
   "outputs": [],
   "source": [
    "# get the mean valley width\n",
    "mean_width = widths['total_valley_width'].mean()"
   ]
  },
  {
   "cell_type": "code",
   "execution_count": null,
   "metadata": {},
   "outputs": [],
   "source": [
    "# plot the raw width data\n",
    "fig, ax = plt.subplots(nrows=1, ncols=1, figsize=(10,5))\n",
    "ax.plot(widths['distance_from_outlet'], widths['total_valley_width'], c='navy', lw=2)\n",
    "ax.axhline(mean_width, ls='--', c='r')\n",
    "ax.set_xlabel('Distance from outlet (m)', fontsize=14)\n",
    "ax.set_ylabel('Valley width (m)', fontsize=14)\n",
    "plt.show()"
   ]
  },
  {
   "cell_type": "code",
   "execution_count": null,
   "metadata": {},
   "outputs": [],
   "source": [
    "# make a plot of the rolling average of widths"
   ]
  },
  {
   "cell_type": "code",
   "execution_count": null,
   "metadata": {},
   "outputs": [],
   "source": [
    "reach_length = 100    # set the reach length to average over in metres\n",
    "widths['rolling_width'] = widths.rolling(reach_length, center=True).mean()['total_valley_width']\n",
    "widths['rolling_width_std'] = widths.rolling(reach_length, center=True).std()['total_valley_width']"
   ]
  },
  {
   "cell_type": "code",
   "execution_count": null,
   "metadata": {},
   "outputs": [],
   "source": [
    "# plot the rolling width data\n",
    "fig, ax = plt.subplots(nrows=1, ncols=1, figsize=(10,5))\n",
    "ax.plot(widths['distance_from_outlet'], widths['total_valley_width'], c='0.5', lw=2, alpha=0.5)\n",
    "ax.plot(widths['distance_from_outlet'], widths['rolling_width'], c='k', lw=2)\n",
    "ax.axhline(mean_width, ls='--', c='red')\n",
    "ax.set_xlabel('Distance from outlet (m)', fontsize=14)\n",
    "ax.set_ylabel('Valley width (m)', fontsize=14)\n",
    "plt.show()"
   ]
  },
  {
   "cell_type": "code",
   "execution_count": null,
   "metadata": {},
   "outputs": [],
   "source": [
    "widths"
   ]
  },
  {
   "cell_type": "markdown",
   "metadata": {},
   "source": [
    "## Plotting a single reach along the valley centreline\n",
    "This section is useful if you have run the code in tiles and want to make a composite plot of the valley width along the full valley. You will need a merged centreline of the valley as a line shapefile."
   ]
  },
  {
   "cell_type": "code",
   "execution_count": null,
   "metadata": {},
   "outputs": [],
   "source": [
    "# Read in the valley width geojson\n",
    "widths = gpd.read_file(DataDirectory+Base_file+'_valley_widths.geojson')\n",
    "widths = widths[widths['total_valley_width'] > 0]"
   ]
  },
  {
   "cell_type": "code",
   "execution_count": null,
   "metadata": {},
   "outputs": [],
   "source": [
    "# name and path of the merged centreline\n",
    "centreline_shp = '/media/TopographicData/TopographicData/valley_width/Switzerland/Birs/Valley_Centreline/Birs_valley_centreline_final.shp'\n",
    "# the UTM EPSG code of your region. You need to set this so we can get the correct distances in metres.\n",
    "UTM_EPSG_code = 'epsg:32632'"
   ]
  },
  {
   "cell_type": "code",
   "execution_count": null,
   "metadata": {},
   "outputs": [],
   "source": [
    "# now read in the centreline to a geopandas geodataframe\n",
    "centreline = gpd.read_file(centreline_shp)\n",
    "\n",
    "# get the centreline in UTM\n",
    "centreline_utm = centreline.to_crs(UTM_EPSG_code)\n",
    "# set up the pyproj transformer\n",
    "transformer = Transformer.from_crs(\"epsg:4326\", UTM_EPSG_code)"
   ]
  },
  {
   "cell_type": "code",
   "execution_count": null,
   "metadata": {},
   "outputs": [],
   "source": [
    "# get the distance of the widths along the line\n",
    "def get_distance_along_line(row):\n",
    "    #point = Point(row['longitude'], row['latitude'])\n",
    "    # convert the point to UTM\n",
    "    point = Point(transformer.transform(row['latitude'], row['longitude']))\n",
    "    # getting the distance of the point along the line\n",
    "    distance = centreline_utm.project(point)\n",
    "    return(distance)\n",
    "    \n",
    "widths['centreline_dist'] = widths.apply(get_distance_along_line, axis=1)"
   ]
  },
  {
   "cell_type": "code",
   "execution_count": null,
   "metadata": {},
   "outputs": [],
   "source": [
    "# make a plot of the valley width vs. distance along the merged centreline\n",
    "fig, ax = plt.subplots(nrows=1, ncols=1, figsize=(10,5))\n",
    "ax.plot(widths['centreline_dist'], widths['total_valley_width'], c='navy', lw=2)\n",
    "ax.axhline(mean_width, ls='--', c='r')\n",
    "ax.set_xlabel('Distance along valley centreline (m)', fontsize=14)\n",
    "ax.set_ylabel('Valley width (m)', fontsize=14)\n",
    "plt.show()"
   ]
  },
  {
   "cell_type": "markdown",
   "metadata": {},
   "source": [
    "## Plotting all the reaches along the valley centreline\n",
    "In this section we will loop through all the directories in your subfolder and make a composite plot of the widths for each one."
   ]
  },
  {
   "cell_type": "code",
   "execution_count": null,
   "metadata": {},
   "outputs": [],
   "source": [
    "# define the name of the base directory that you want to loop through\n",
    "base_dir = '/media/TopographicData/TopographicData/valley_width/Switzerland/Birs/Valley_Centreline/'\n",
    "# the name of the centreline shapefile - I am assuming it is located in the base directory\n",
    "centreline_shp = base_dir+'Birs_valley_centreline_final.shp'\n",
    "# the UTM EPSG code of your region. You need to set this so we can get the correct distances in metres.\n",
    "UTM_EPSG_code = 'epsg:32632'"
   ]
  },
  {
   "cell_type": "code",
   "execution_count": null,
   "metadata": {},
   "outputs": [],
   "source": [
    "# now read in the centreline to a geopandas geodataframe\n",
    "centreline = gpd.read_file(centreline_shp)\n",
    "centreline = centreline.dissolve()\n",
    "\n",
    "# get the centreline in UTM\n",
    "centreline_utm = centreline.to_crs(UTM_EPSG_code)\n",
    "# set up the pyproj transformer\n",
    "transformer = Transformer.from_crs(\"epsg:4326\", UTM_EPSG_code)\n",
    "\n",
    "# set up the master dataframe for storing all the width data together\n",
    "widths = gpd.GeoDataFrame()"
   ]
  },
  {
   "cell_type": "code",
   "execution_count": null,
   "metadata": {},
   "outputs": [],
   "source": [
    "centreline"
   ]
  },
  {
   "cell_type": "code",
   "execution_count": null,
   "metadata": {},
   "outputs": [],
   "source": [
    "# get the distance of the widths along the line. This just defines the code that will do this, but won't actually\n",
    "# do anything until the next block.\n",
    "def get_distance_along_line(row):\n",
    "    #point = Point(row['longitude'], row['latitude'])\n",
    "    # convert the point to UTM\n",
    "    point = Point(transformer.transform(row['latitude'], row['longitude']))\n",
    "    # getting the distance of the point along the line\n",
    "    distance = centreline_utm.project(point)\n",
    "    return(distance)"
   ]
  },
  {
   "cell_type": "code",
   "execution_count": null,
   "metadata": {},
   "outputs": [],
   "source": [
    "# loop through the subdirectories and read in the valley width geojsons, calculate the distance along the centreline\n",
    "# and write to a new geodataframe. This might be slow!\n",
    "for root, subdirs, files in os.walk(base_dir):\n",
    "    for file in files:\n",
    "        if '_valley_widths.geojson' in file:\n",
    "            this_gdf = gpd.read_file(os.path.join(root,file))\n",
    "            this_gdf = this_gdf[this_gdf['total_valley_width'] > 0]\n",
    "            #this_gdf = this_gdf.drop(columns=['distance_from_outlet', 'node'])\n",
    "            this_gdf['centreline_dist'] = this_gdf.apply(get_distance_along_line, axis=1)\n",
    "            widths = widths.append(this_gdf, ignore_index=True)"
   ]
  },
  {
   "cell_type": "code",
   "execution_count": null,
   "metadata": {},
   "outputs": [],
   "source": [
    "# sort by the distance along the centreline to make sure we're plotting in the right order\n",
    "widths = widths.sort_values(by='centreline_dist')\n",
    "\n",
    "# get the mean valley width\n",
    "mean_width = widths['total_valley_width'].mean()\n",
    "\n",
    "# make a plot of the valley width vs. distance along the merged centreline\n",
    "fig, ax = plt.subplots(nrows=1, ncols=1, figsize=(10,5))\n",
    "ax.plot(widths['centreline_dist']/1000, widths['total_valley_width'], c='navy', lw=2)\n",
    "ax.axhline(mean_width, ls='--', c='r')\n",
    "ax.set_xlabel('Distance along valley centreline (km)', fontsize=14)\n",
    "ax.set_ylabel('Valley width (m)', fontsize=14)\n",
    "plt.show()\n",
    "fig.savefig(base_dir+'Birs_valley_width.png', transparent=False)"
   ]
  },
  {
   "cell_type": "markdown",
   "metadata": {},
   "source": [
    "## Bedrock geology\n",
    "\n",
    "Add the plotting of the bedrock geology. We will load in the geology shapefile to a dataframe of polygons using geopandas. For each point along the valley centreline, we'll look to see if it intersects one of the polygons and assign it the appropriate bedrock type."
   ]
  },
  {
   "cell_type": "code",
   "execution_count": null,
   "metadata": {},
   "outputs": [],
   "source": [
    "# read in the geology shapefile to a geopandas geodataframe\n",
    "geology_gdf = gpd.read_file('/media/TopographicData/TopographicData/valley_width/Switzerland/Birs/Geology/Birs_Bedrock_Merged.shp')"
   ]
  },
  {
   "cell_type": "code",
   "execution_count": null,
   "metadata": {},
   "outputs": [],
   "source": [
    "# this is how you can check the coordinate system of a geodataframe.\n",
    "geology_gdf.crs"
   ]
  },
  {
   "cell_type": "code",
   "execution_count": null,
   "metadata": {},
   "outputs": [],
   "source": [
    "# change to UTM so we can do the buffering in metres\n",
    "widths_utm = widths.to_crs(UTM_EPSG_code)\n",
    "# buffer each part of the centreline to create a polygon that's 50 m in width\n",
    "widths_utm['centreline_buffer'] = widths_utm['geometry'].buffer(50)\n",
    "# convert back to WGS84\n",
    "widths_utm['geometry'] = widths_utm['centreline_buffer']\n",
    "buffered_widths = widths_utm.to_crs('epsg:4326')"
   ]
  },
  {
   "cell_type": "code",
   "execution_count": null,
   "metadata": {},
   "outputs": [],
   "source": [
    "buffered_widths"
   ]
  },
  {
   "cell_type": "code",
   "execution_count": null,
   "metadata": {},
   "outputs": [],
   "source": [
    "# find if each centreline polygon intserects the geology. To do this we use what's called a \"spatial join\"\n",
    "# it will join the polygon from the geology shapefile with the widths dataframe if they intersect in geographic space.\n",
    "widths_plus_geology = gpd.sjoin(buffered_widths, geology_gdf, how='left', op='intersects')"
   ]
  },
  {
   "cell_type": "code",
   "execution_count": null,
   "metadata": {},
   "outputs": [],
   "source": [
    "# geopandas doesn't like it if there is more than one column with a shape in it. so let's remove the buffered shapes.\n",
    "widths_plus_geology = widths_plus_geology.drop(columns=('centreline_buffer'))"
   ]
  },
  {
   "cell_type": "code",
   "execution_count": null,
   "metadata": {},
   "outputs": [],
   "source": [
    "# let's write the new dataframe to a shapefile so we can load it in to QGIS and test if it worked\n",
    "widths_plus_geology.to_file('/media/TopographicData/TopographicData/valley_width/Switzerland/Birs/Geology/Birs_widths_plus_geology.shp')"
   ]
  },
  {
   "cell_type": "code",
   "execution_count": null,
   "metadata": {},
   "outputs": [],
   "source": []
  }
 ],
 "metadata": {
  "kernelspec": {
   "display_name": "Python 3",
   "language": "python",
   "name": "python3"
  },
  "language_info": {
   "codemirror_mode": {
    "name": "ipython",
    "version": 3
   },
   "file_extension": ".py",
   "mimetype": "text/x-python",
   "name": "python",
   "nbconvert_exporter": "python",
   "pygments_lexer": "ipython3",
   "version": "3.9.4"
  }
 },
 "nbformat": 4,
 "nbformat_minor": 4
}
