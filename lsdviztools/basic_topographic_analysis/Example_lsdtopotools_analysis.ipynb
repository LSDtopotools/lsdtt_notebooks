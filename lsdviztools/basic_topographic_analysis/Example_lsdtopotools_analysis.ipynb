{
 "cells": [
  {
   "cell_type": "markdown",
   "metadata": {},
   "source": [
    "# A basic lsdtopotools analysis"
   ]
  },
  {
   "cell_type": "markdown",
   "metadata": {},
   "source": [
    "We assume you are in our docker container. For this to work you will need to have run the script `install_lsdtt_python_packages.sh` before you start an ipython notebook.\n",
    "\n",
    "Once you have done that, import some modules:"
   ]
  },
  {
   "cell_type": "code",
   "execution_count": 1,
   "metadata": {},
   "outputs": [],
   "source": [
    "import lsdviztools.lsdbasemaptools as bmt\n",
    "from lsdviztools.lsdplottingtools import lsdmap_gdalio as gio\n",
    "import lsdviztools.lsdmapwrappers as lsdmw\n",
    "import lsdttparamselector as ps"
   ]
  },
  {
   "cell_type": "markdown",
   "metadata": {},
   "source": [
    "## Part 1: grab data"
   ]
  },
  {
   "cell_type": "markdown",
   "metadata": {},
   "source": [
    "First, we need to grab some data. We use a tool in `lsdviztools.lsdbasemaptools` called the `ot_scraper` (`ot` is for opentopography.org).\n",
    "\n",
    "You can tell this what sort of data you want (most people will use the SRTM 30 metre data) and you also tell it the lower left and the upper right corners, using latitude and longitude. You can get these from goole earth by right clickjing on the map and selecting \"what's here\". In this example I use a place near Santa Barbara, California. "
   ]
  },
  {
   "cell_type": "code",
   "execution_count": 2,
   "metadata": {},
   "outputs": [
    {
     "name": "stdout",
     "output_type": "stream",
     "text": [
      "The source is: SRTM30\n",
      "The west longitude is: -120.464655\n",
      "The east longitude is: -120.254214\n",
      "The south latitude is: 34.61077\n",
      "The north latitude is: 34.440538\n",
      "The path is: ./\n",
      "The prefix is: lg_conception\n"
     ]
    }
   ],
   "source": [
    "SB_DEM = bmt.ot_scraper(source = \"SRTM30\",longitude_W = -120.464655, longitude_E = -120.254214, latitude_S = 34.440538, latitude_N = 34.610770,prefix = \"lg_conception\")\n",
    "SB_DEM.print_parameters()"
   ]
  },
  {
   "cell_type": "markdown",
   "metadata": {},
   "source": [
    "Okay, we haven't actually got any data. We need to do that by using the `download_pythonic` option. When it is finished it will say `finished downloading`. "
   ]
  },
  {
   "cell_type": "code",
   "execution_count": 3,
   "metadata": {},
   "outputs": [
    {
     "name": "stdout",
     "output_type": "stream",
     "text": [
      "I am going to download the following for you:\n",
      "https://portal.opentopography.org/otr/getdem?demtype=SRTMGL1&south=34.440538&north=34.61077&west=-120.464655&east=-120.254214&outputFormat=GTiff\n",
      "This might take a little while, depending on the size of the file. \n",
      "Finished downloading\n"
     ]
    }
   ],
   "source": [
    "SB_DEM.download_pythonic()"
   ]
  },
  {
   "cell_type": "markdown",
   "metadata": {},
   "source": [
    "Okay, now we need to do two things. First, we need to convert to UTM. Then we need to convert to ENVI bil format. "
   ]
  },
  {
   "cell_type": "code",
   "execution_count": 4,
   "metadata": {},
   "outputs": [
    {
     "name": "stdout",
     "output_type": "stream",
     "text": [
      "The projections is:\n",
      "GEOGCS[\"WGS 84\",DATUM[\"WGS_1984\",SPHEROID[\"WGS 84\",6378137,298.257223563,AUTHORITY[\"EPSG\",\"7030\"]],AUTHORITY[\"EPSG\",\"6326\"]],PRIMEM[\"Greenwich\",0],UNIT[\"degree\",0.0174532925199433,AUTHORITY[\"EPSG\",\"9122\"]],AXIS[\"Latitude\",NORTH],AXIS[\"Longitude\",EAST],AUTHORITY[\"EPSG\",\"4326\"]]\n",
      "And some extra projection information strings:\n",
      "None\n",
      "WGS 84\n",
      "{'driver': 'GTiff', 'dtype': 'int16', 'nodata': -32768.0, 'width': 758, 'height': 613, 'count': 1, 'crs': CRS.from_epsg(4326), 'transform': Affine(0.0002777777777778146, 0.0, -120.46486111110323,\n",
      "       0.0, -0.0002777777777778146, 34.61097222221886)}\n",
      "res tuple is:\n",
      "(30.0, 30.0)\n",
      "The destination CRS is: EPSG:32610\n",
      "{'driver': 'GTiff', 'dtype': 'int16', 'nodata': -32768.0, 'width': 661, 'height': 647, 'count': 1, 'crs': CRS.from_epsg(32610), 'transform': Affine(30.0, 0.0, 732452.2754693646,\n",
      "       0.0, -30.0, 3833330.7356094)}\n"
     ]
    }
   ],
   "source": [
    "SB_DEM.to_UTM_pythonic()\n",
    "RasterFile = \"lg_conception_SRTM30_UTM.tif\"\n",
    "DataDirectory = \"./\"\n",
    "gio.convert2bil(DataDirectory, RasterFile,minimum_elevation=0)"
   ]
  },
  {
   "cell_type": "markdown",
   "metadata": {},
   "source": [
    "Okay, we now have an ENVI bil DEM. We are ready to start doing topographic analysis!"
   ]
  },
  {
   "cell_type": "markdown",
   "metadata": {},
   "source": [
    "# Part 2: Topographic analysis"
   ]
  },
  {
   "cell_type": "markdown",
   "metadata": {},
   "source": [
    "Now, that we have the data, we need to use an `lsdttparamselector` object to select parameters. The current default is to initiate a selector using the command line tool `lsdtt-basic-metrics`."
   ]
  },
  {
   "cell_type": "code",
   "execution_count": 2,
   "metadata": {},
   "outputs": [
    {
     "name": "stdout",
     "output_type": "stream",
     "text": [
      "You have selected the command line tool: lsdtt-basic-metrics\n",
      "I am creating a lsdtt-basic-metrics input menu\n",
      "======================================================================================\n",
      "Okay, your input widget is initiated. Call grab_widget to start entering parameters.\n",
      "When you have finished, run the read_widgets tool.\n",
      "This will give you a dictionary that can be passed to an lsdtt_driver object .\n",
      "======================================================================================\n"
     ]
    }
   ],
   "source": [
    "param = ps.lsdttdm()"
   ]
  },
  {
   "cell_type": "markdown",
   "metadata": {},
   "source": [
    "Okay, now lets initiate the widget and then call it to enter the parameters we want."
   ]
  },
  {
   "cell_type": "code",
   "execution_count": 3,
   "metadata": {},
   "outputs": [
    {
     "data": {
      "application/vnd.jupyter.widget-view+json": {
       "model_id": "ab0ce2e343904db0914902d35abd6e5d",
       "version_major": 2,
       "version_minor": 0
      },
      "text/plain": [
       "Tab(children=(Accordion(children=(VBox(children=(BoundedFloatText(value=0.0, description='minimum_elevation:',…"
      ]
     },
     "metadata": {},
     "output_type": "display_data"
    }
   ],
   "source": [
    "tab_nest = param.make_widget()\n",
    "tab_nest"
   ]
  },
  {
   "cell_type": "markdown",
   "metadata": {},
   "source": [
    "Now that we have done that, we grab the parameter values. "
   ]
  },
  {
   "cell_type": "code",
   "execution_count": null,
   "metadata": {},
   "outputs": [],
   "source": []
  },
  {
   "cell_type": "code",
   "execution_count": 4,
   "metadata": {},
   "outputs": [
    {
     "name": "stdout",
     "output_type": "stream",
     "text": [
      "{'minimum_elevation': '0.0', 'maximum_elevation': '30000.0', 'min_slope_for_fill': '0.0001', 'raster_is_filled': 'false', 'remove_seas': 'true', 'carve_before_fill': 'false', 'only_check_parameters': 'false', 'write_hillshade': 'true', 'print_raster_without_seas': 'false', 'print_distance_from_outlet': 'false', 'print_fill_raster': 'false', 'print_relief_raster': 'false', 'relief_window': '200.0', 'remove_nodes_influenced_by_edge': 'false', 'isolate_pixels_draining_to_fixed_channel': 'false', 'fixed_channel_csv_name': 'single_channel_nodes', 'print_trimmed_raster': 'false', 'trimming_buffer_pixels': '0', 'convert_csv_to_geojson': 'true', 'burn_raster_to_csv': 'false', 'burn_raster_prefix': 'NULL', 'burn_data_csv_column_header': 'burned_data', 'csv_to_burn_name': 'NULL', 'calculate_window_size': 'false', 'surface_fitting_radius': '60.0', 'print_slope': 'true', 'print_aspect': 'false', 'print_curvature': 'true', 'print_planform_curvature': 'false', 'print_profile_curvature': 'false', 'print_tangential_curvature': 'false', 'print_point_classification': 'false', 'print_directional_gradients': 'false', 'calculate_basin_statistics': 'false', 'print_REI_raster': 'false', 'REI_window_radius': '10.0', 'REI_critical_slope': '1.0', 'print_roughness_rasters': 'false', 'roughness_radius': '3.0', 'print_dinf_drainage_area_raster': 'false', 'print_d8_drainage_area_raster': 'false', 'print_QuinnMD_drainage_area_raster': 'false', 'print_FreemanMD_drainage_area_raster': 'false', 'print_MD_drainage_area_raster': 'false', 'print_wiener_filtered_raster': 'false', 'extract_single_channel': 'false', 'use_dinf_for_single_channel': 'false', 'channel_source_fname': 'single_channel_source', 'threshold_contributing_pixels': '1000', 'print_stream_order_raster': 'false', 'print_channels_to_csv': 'false', 'print_junction_index_raster': 'false', 'print_junctions_to_csv': 'false', 'find_basins': 'true', 'minimum_basin_size_pixels': '50000', 'maximum_basin_size_pixels': '1000000', 'only_take_largest_basin': 'false', 'BaselevelJunctions_file': 'NULL', 'get_basins_from_outlets': 'false', 'search_radius_nodes': '8', 'basin_outlet_csv': 'NULL', 'extend_channel_to_node_before_receiver_junction': 'true', 'print_basin_raster': 'false', 'SA_vertical_interval': '10.0', 'print_junction_angles_to_csv': 'false', 'A_0': '1.0', 'm_over_n': '0.5', 'print_chi_data_maps': 'true'}\n"
     ]
    }
   ],
   "source": [
    "parameter_dict = param.read_widgets()\n",
    "print(parameter_dict)"
   ]
  },
  {
   "cell_type": "markdown",
   "metadata": {},
   "source": [
    "Okay, now we initiate an `lsdtt_driver` object, which handles the call to `lsdtt-basic-metrics`."
   ]
  },
  {
   "cell_type": "code",
   "execution_count": 8,
   "metadata": {},
   "outputs": [
    {
     "name": "stdout",
     "output_type": "stream",
     "text": [
      "The command line tool is: lsdtt-basic-metrics\n",
      "The driver name is: Test_01\n",
      "The read path is: ./\n",
      "The write path is: ./\n",
      "The read prefix is: lg_conception_SRTM30_UTM\n",
      "The write prefix is: lg_conception_SRTM30_UTM\n",
      "The parameter dictionary is:\n",
      "{'minimum_elevation': '0.0', 'maximum_elevation': '30000.0', 'min_slope_for_fill': '0.0001', 'raster_is_filled': 'false', 'remove_seas': 'true', 'carve_before_fill': 'false', 'only_check_parameters': 'false', 'write_hillshade': 'true', 'print_raster_without_seas': 'true', 'print_distance_from_outlet': 'false', 'print_fill_raster': 'false', 'print_relief_raster': 'false', 'relief_window': '200.0', 'remove_nodes_influenced_by_edge': 'false', 'isolate_pixels_draining_to_fixed_channel': 'false', 'fixed_channel_csv_name': 'single_channel_nodes', 'print_trimmed_raster': 'false', 'trimming_buffer_pixels': '0', 'convert_csv_to_geojson': 'false', 'burn_raster_to_csv': 'false', 'burn_raster_prefix': 'NULL', 'burn_data_csv_column_header': 'burned_data', 'csv_to_burn_name': 'NULL', 'calculate_window_size': 'false', 'surface_fitting_radius': '30.0', 'print_slope': 'true', 'print_aspect': 'false', 'print_curvature': 'false', 'print_planform_curvature': 'false', 'print_profile_curvature': 'false', 'print_tangential_curvature': 'false', 'print_point_classification': 'false', 'print_directional_gradients': 'false', 'calculate_basin_statistics': 'false', 'print_REI_raster': 'false', 'REI_window_radius': '10.0', 'REI_critical_slope': '1.0', 'print_roughness_rasters': 'false', 'roughness_radius': '3.0', 'print_dinf_drainage_area_raster': 'false', 'print_d8_drainage_area_raster': 'false', 'print_QuinnMD_drainage_area_raster': 'false', 'print_FreemanMD_drainage_area_raster': 'false', 'print_MD_drainage_area_raster': 'false', 'print_wiener_filtered_raster': 'false', 'extract_single_channel': 'false', 'use_dinf_for_single_channel': 'false', 'channel_source_fname': 'single_channel_source', 'threshold_contributing_pixels': '1000', 'print_stream_order_raster': 'false', 'print_channels_to_csv': 'false', 'print_junction_index_raster': 'false', 'print_junctions_to_csv': 'false', 'find_basins': 'false', 'minimum_basin_size_pixels': '50000', 'maximum_basin_size_pixels': '1000000', 'only_take_largest_basin': 'false', 'BaselevelJunctions_file': 'NULL', 'get_basins_from_outlets': 'false', 'search_radius_nodes': '8', 'basin_outlet_csv': 'NULL', 'extend_channel_to_node_before_receiver_junction': 'true', 'print_basin_raster': 'false', 'SA_vertical_interval': '10.0', 'print_junction_angles_to_csv': 'false', 'A_0': '1.0', 'm_over_n': '0.5', 'print_chi_data_maps': 'false'}\n"
     ]
    }
   ],
   "source": [
    "lsdtt_drive = lsdmw.lsdtt_driver(read_prefix = \"lg_conception_SRTM30_UTM\",write_prefix= \"lg_conception_SRTM30_UTM\",parameter_dictionary=parameter_dict)\n",
    "lsdtt_drive.print_parameters()"
   ]
  },
  {
   "cell_type": "markdown",
   "metadata": {},
   "source": [
    "Now run the tool!"
   ]
  },
  {
   "cell_type": "code",
   "execution_count": 9,
   "metadata": {},
   "outputs": [
    {
     "name": "stdout",
     "output_type": "stream",
     "text": [
      "Done writing the driver file\n",
      "I've finised writing the driver file. Let me run LSDTT for you.\n"
     ]
    }
   ],
   "source": [
    "lsdtt_drive.run_lsdtt_command_line_tool()"
   ]
  },
  {
   "cell_type": "markdown",
   "metadata": {},
   "source": [
    "Super. We will now have a bunch of rasters and csv data ready for visualisation. "
   ]
  },
  {
   "cell_type": "markdown",
   "metadata": {},
   "source": [
    "# Part 3: plot some data"
   ]
  },
  {
   "cell_type": "markdown",
   "metadata": {},
   "source": [
    "Okay, now that we have some rasters, we can use lsdviztools to plot some data. First let's do a hillshade plot. We'll use a `gist_earth` colourmap. This makes an image file (that you can use later). "
   ]
  },
  {
   "cell_type": "code",
   "execution_count": 10,
   "metadata": {},
   "outputs": [
    {
     "name": "stdout",
     "output_type": "stream",
     "text": [
      "Your colourbar will be located: right\n",
      "xsize: 661 and y size: 647\n",
      "NoData is: -9999.0\n",
      "Let me get that projection for you\n",
      "In this function I will extract the UTM zone\n",
      "The dataset is projected.\n",
      "The projection string is: WGS 84 / UTM zone 10N\n",
      "WGS 84 / UTM zone 10N\n",
      "This seems to be from the new gdal version\n",
      "Zone string is: 10N\n",
      "The zone is: 10\n",
      "And the hemisphere is: N\n",
      "The EPSG string is: epsg:32610\n",
      "epsg:32610\n",
      "minimum values are x: 732452.0 and y: 3813920.0\n",
      "I made the ticks.\n",
      "x labels are: \n",
      "['735', '738', '741', '744', '747', '750']\n",
      "x locations are:\n",
      "[735000.0, 738000.0, 741000.0, 744000.0, 747000.0, 750000.0]\n",
      "y labels are: \n",
      "['3816', '3819', '3822', '3825', '3828', '3831']\n",
      "y locations are:\n",
      "[3816000.0, 3819000.0, 3822000.0, 3825000.0, 3828000.0, 3831000.0]\n",
      "This colourmap is: gray\n",
      "The number of axes are: 1\n",
      "Axes(0,0;1x1)\n",
      "Axes(0,0;1x1)\n",
      "N axes are: 1\n",
      "Axes(0,0;1x1)\n",
      "xsize: 661 and y size: 647\n",
      "NoData is: -9999.0\n",
      "Let me get that projection for you\n",
      "In this function I will extract the UTM zone\n",
      "The dataset is projected.\n",
      "The projection string is: WGS 84 / UTM zone 10N\n",
      "WGS 84 / UTM zone 10N\n",
      "This seems to be from the new gdal version\n",
      "Zone string is: 10N\n",
      "The zone is: 10\n",
      "And the hemisphere is: N\n",
      "The EPSG string is: epsg:32610\n",
      "epsg:32610\n",
      "I am going to use the normalisation None\n",
      "I am using the full range of values in the raster.\n",
      "The number of axes are: 2\n",
      "The aspect ratio is: 1.0216383307573416\n",
      "I need to adjust the spacing of the colourbar.\n",
      "You have a colourbar on the left or right, I need to check the number of characters in the labels.\n",
      "['', '']\n",
      "The longest colourbar label has 0 characters.\n",
      "The cbar characters are: 0 and the cbar text width is: 0.4\n",
      "cbar_left: 4.1212599999999995 map left: 0.8500000000000001\n",
      "cbar_bottom: 0.65 map bottom: 0.65\n",
      "The figure size is: \n",
      "[4.92126, 3.9540926172465958]\n",
      "Map axes are:\n",
      "[0.1727199944729602, 0.16438664010167342, 0.6444000113791996, 0.7850328552516578]\n",
      "cbar_axes are:\n",
      "[0.8374400052019197, 0.16438664010167342, 0.04063999869952004, 0.7850328552516578]\n",
      "Number of axes are: 2\n"
     ]
    },
    {
     "name": "stderr",
     "output_type": "stream",
     "text": [
      "findfont: Font family ['Liberation Sans'] not found. Falling back to DejaVu Sans.\n"
     ]
    }
   ],
   "source": [
    "DataDirectory = \"./\"\n",
    "Base_file = \"lg_conception_SRTM30_UTM\"\n",
    "    \n",
    "img_name = lsdmw.SimpleHillshade(DataDirectory,Base_file,cmap=\"gist_earth\")"
   ]
  },
  {
   "cell_type": "markdown",
   "metadata": {},
   "source": [
    "We render the code with a markdown call (it looks like this `<img src=\"lg_conception_SRTM30_UTM_hillshade.png\" width=600>`)"
   ]
  },
  {
   "cell_type": "code",
   "execution_count": 1,
   "metadata": {},
   "outputs": [
    {
     "ename": "SyntaxError",
     "evalue": "invalid syntax (<ipython-input-1-bce3343125f3>, line 1)",
     "output_type": "error",
     "traceback": [
      "\u001b[0;36m  File \u001b[0;32m\"<ipython-input-1-bce3343125f3>\"\u001b[0;36m, line \u001b[0;32m1\u001b[0m\n\u001b[0;31m    <img src=\"lg_conception_SRTM30_UTM_hillshade.png\" width=600>\u001b[0m\n\u001b[0m    ^\u001b[0m\n\u001b[0;31mSyntaxError\u001b[0m\u001b[0;31m:\u001b[0m invalid syntax\n"
     ]
    }
   ],
   "source": [
    "img_name"
   ]
  },
  {
   "cell_type": "markdown",
   "metadata": {},
   "source": [
    "<img src=\"lg_conception_SRTM30_UTM_hillshade.png\" width=600>"
   ]
  },
  {
   "cell_type": "markdown",
   "metadata": {},
   "source": [
    "Now lets print the slope map"
   ]
  },
  {
   "cell_type": "code",
   "execution_count": 12,
   "metadata": {},
   "outputs": [
    {
     "name": "stdout",
     "output_type": "stream",
     "text": [
      "Your colourbar will be located: right\n",
      "xsize: 661 and y size: 647\n",
      "NoData is: -9999.0\n",
      "Let me get that projection for you\n",
      "In this function I will extract the UTM zone\n",
      "The dataset is projected.\n",
      "The projection string is: WGS 84 / UTM zone 10N\n",
      "WGS 84 / UTM zone 10N\n",
      "This seems to be from the new gdal version\n",
      "Zone string is: 10N\n",
      "The zone is: 10\n",
      "And the hemisphere is: N\n",
      "The EPSG string is: epsg:32610\n",
      "epsg:32610\n",
      "minimum values are x: 732452.0 and y: 3813920.0\n",
      "I made the ticks.\n",
      "x labels are: \n",
      "['735', '738', '741', '744', '747', '750']\n",
      "x locations are:\n",
      "[735000.0, 738000.0, 741000.0, 744000.0, 747000.0, 750000.0]\n",
      "y labels are: \n",
      "['3816', '3819', '3822', '3825', '3828', '3831']\n",
      "y locations are:\n",
      "[3816000.0, 3819000.0, 3822000.0, 3825000.0, 3828000.0, 3831000.0]\n",
      "This colourmap is: gray\n",
      "The number of axes are: 1\n",
      "Axes(0,0;1x1)\n",
      "Axes(0,0;1x1)\n",
      "N axes are: 1\n",
      "Axes(0,0;1x1)\n",
      "xsize: 661 and y size: 647\n",
      "NoData is: -9999.0\n",
      "Let me get that projection for you\n",
      "In this function I will extract the UTM zone\n",
      "The dataset is projected.\n",
      "The projection string is: WGS 84 / UTM zone 10N\n",
      "WGS 84 / UTM zone 10N\n",
      "This seems to be from the new gdal version\n",
      "Zone string is: 10N\n",
      "The zone is: 10\n",
      "And the hemisphere is: N\n",
      "The EPSG string is: epsg:32610\n",
      "epsg:32610\n",
      "I am going to use the normalisation None\n",
      "I am using the full range of values in the raster.\n",
      "The number of axes are: 2\n",
      "The aspect ratio is: 1.0216383307573416\n",
      "I need to adjust the spacing of the colourbar.\n",
      "You have a colourbar on the left or right, I need to check the number of characters in the labels.\n",
      "['', '', '']\n",
      "The longest colourbar label has 0 characters.\n",
      "The cbar characters are: 0 and the cbar text width is: 0.4\n",
      "cbar_left: 4.1212599999999995 map left: 0.8500000000000001\n",
      "cbar_bottom: 0.65 map bottom: 0.65\n",
      "The figure size is: \n",
      "[4.92126, 3.9540926172465958]\n",
      "Map axes are:\n",
      "[0.1727199944729602, 0.16438664010167342, 0.6444000113791996, 0.7850328552516578]\n",
      "cbar_axes are:\n",
      "[0.8374400052019197, 0.16438664010167342, 0.04063999869952004, 0.7850328552516578]\n",
      "Number of axes are: 2\n"
     ]
    }
   ],
   "source": [
    "Drape_prefix = \"lg_conception_SRTM30_UTM_SLOPE\"\n",
    "img_name2 = lsdmw.SimpleDrape(DataDirectory,Base_file, Drape_prefix, cmap = \"gnuplot\", cbar_loc = \"right\", cbar_label = \"Gradient (m/m)\")"
   ]
  },
  {
   "cell_type": "code",
   "execution_count": 13,
   "metadata": {},
   "outputs": [
    {
     "data": {
      "text/plain": [
       "'./lg_conception_SRTM30_UTM_drape.png'"
      ]
     },
     "execution_count": 13,
     "metadata": {},
     "output_type": "execute_result"
    }
   ],
   "source": [
    "img_name2"
   ]
  },
  {
   "cell_type": "markdown",
   "metadata": {},
   "source": [
    "<img src=\"lg_conception_SRTM30_UTM_drape.png\" width=600>"
   ]
  },
  {
   "cell_type": "code",
   "execution_count": null,
   "metadata": {},
   "outputs": [],
   "source": []
  }
 ],
 "metadata": {
  "kernelspec": {
   "display_name": "Python 3",
   "language": "python",
   "name": "python3"
  },
  "language_info": {
   "codemirror_mode": {
    "name": "ipython",
    "version": 3
   },
   "file_extension": ".py",
   "mimetype": "text/x-python",
   "name": "python",
   "nbconvert_exporter": "python",
   "pygments_lexer": "ipython3",
   "version": "3.8.3"
  }
 },
 "nbformat": 4,
 "nbformat_minor": 4
}
