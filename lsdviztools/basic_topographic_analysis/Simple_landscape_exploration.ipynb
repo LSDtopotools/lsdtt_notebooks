{
  "nbformat": 4,
  "nbformat_minor": 0,
  "metadata": {
    "kernelspec": {
      "display_name": "Python 3 (ipykernel)",
      "language": "python",
      "name": "python3"
    },
    "language_info": {
      "codemirror_mode": {
        "name": "ipython",
        "version": 3
      },
      "file_extension": ".py",
      "mimetype": "text/x-python",
      "name": "python",
      "nbconvert_exporter": "python",
      "pygments_lexer": "ipython3",
      "version": "3.8.10"
    },
    "colab": {
      "name": "Simple_landscape_exploration.ipynb",
      "provenance": [],
      "include_colab_link": true
    }
  },
  "cells": [
    {
      "cell_type": "markdown",
      "metadata": {
        "id": "view-in-github",
        "colab_type": "text"
      },
      "source": [
        "<a href=\"https://colab.research.google.com/github/LSDtopotools/lsdtt_notebooks/blob/master/lsdviztools/basic_topographic_analysis/Simple_landscape_exploration.ipynb\" target=\"_parent\"><img src=\"https://colab.research.google.com/assets/colab-badge.svg\" alt=\"Open In Colab\"/></a>"
      ]
    },
    {
      "cell_type": "markdown",
      "metadata": {
        "id": "XXKyqQnVjK1z"
      },
      "source": [
        "# Simple landscape exploration using *lsdtopotools*"
      ]
    },
    {
      "cell_type": "markdown",
      "metadata": {
        "id": "rCg4uSf3jK13"
      },
      "source": [
        "Written by Simon M. Mudd at the University of Edinburgh. Updated 10/09/2021"
      ]
    },
    {
      "cell_type": "markdown",
      "metadata": {
        "id": "bW045iEdjYiz"
      },
      "source": [
        "## Installation on colab (*you don't need to do this if you are in the lsdtt docker container*)"
      ]
    },
    {
      "cell_type": "markdown",
      "metadata": {
        "id": "rTEFyQOsjd1M"
      },
      "source": [
        "If you are using our docker container (https://hub.docker.com/r/lsdtopotools/lsdtt_pytools_docker), all the software you need is pre-installed. If you are using google colab, you need to install the stack. ***The code below should only be executed if you are in colab***. These will take 4 minutes in total to execute (most of which is the last step)."
      ]
    },
    {
      "cell_type": "code",
      "metadata": {
        "id": "WQZ_m0XYkE8_"
      },
      "source": [
        "!pip install cartopy --no-binary cartopy &> /dev/null\n",
        "!pip install lsdviztools lsdttparamselector &> /dev/null"
      ],
      "execution_count": null,
      "outputs": []
    },
    {
      "cell_type": "code",
      "metadata": {
        "id": "YvUoyuwfkF7O"
      },
      "source": [
        "%%bash\n",
        "MINICONDA_INSTALLER_SCRIPT=Miniconda3-py37_4.8.2-Linux-x86_64.sh\n",
        "MINICONDA_PREFIX=/usr/local\n",
        "wget https://repo.anaconda.com/miniconda/$MINICONDA_INSTALLER_SCRIPT &> /dev/null\n",
        "chmod +x $MINICONDA_INSTALLER_SCRIPT\n",
        "./$MINICONDA_INSTALLER_SCRIPT -b -f -p $MINICONDA_PREFIX &> /dev/null"
      ],
      "execution_count": null,
      "outputs": []
    },
    {
      "cell_type": "code",
      "metadata": {
        "id": "xmMqhlAkkKZk"
      },
      "source": [
        "!conda config --add channels conda-forge &> /dev/null\n",
        "!conda config --set channel_priority strict &> /dev/null\n",
        "!conda install -c conda-forge -y mamba &> /dev/null\n",
        "!mamba install -c conda-forge -y lsdtopotools &> /dev/null"
      ],
      "execution_count": null,
      "outputs": []
    },
    {
      "cell_type": "markdown",
      "metadata": {
        "id": "GQjGw_EwjK14"
      },
      "source": [
        "## What is this notebook?"
      ]
    },
    {
      "cell_type": "markdown",
      "metadata": {
        "id": "HP7Ct_PujK15"
      },
      "source": [
        "This is a template notebook for getting some data using *lsdviztools*, which has some routines for grabbing data from opentopography.org, and then doing simple analyses using *lsdtopotools*:\n",
        "* Getting a hillshade\n",
        "* Getting a slope map\n",
        "* Extracting channels\n",
        "* Looking at the resulting data\n",
        "\n",
        "All of these steps use our python package *lsdviztools* but interface with the underlying *lsdtopotools* software (which is not python). If you want to do everything natively in python you can use *lsdtopytools*; you can find instructions for that in other notebooks. "
      ]
    },
    {
      "cell_type": "markdown",
      "metadata": {
        "id": "kdHy4QnKjK16"
      },
      "source": [
        "## First steps: import some packages"
      ]
    },
    {
      "cell_type": "markdown",
      "metadata": {
        "id": "0mkmWoCbjK17"
      },
      "source": [
        "Import some packages that allow us to download and looking at topographic data within the *lsdtopotools* environment."
      ]
    },
    {
      "cell_type": "code",
      "metadata": {
        "id": "F4KtqhHnjK1-"
      },
      "source": [
        "import lsdviztools.lsdbasemaptools as bmt\n",
        "from lsdviztools.lsdplottingtools import lsdmap_gdalio as gio\n",
        "import lsdviztools.lsdmapwrappers as lsdmw\n",
        "import pandas as pd\n",
        "import geopandas as gpd\n",
        "import cartopy as cp\n",
        "import cartopy.crs as ccrs\n",
        "import rasterio as rio\n",
        "import matplotlib.pyplot as plt\n",
        "import numpy as np"
      ],
      "execution_count": null,
      "outputs": []
    },
    {
      "cell_type": "markdown",
      "metadata": {
        "id": "M6Pn6S7ajK2A"
      },
      "source": [
        "## Now grab some data"
      ]
    },
    {
      "cell_type": "markdown",
      "metadata": {
        "id": "a-CETGKIjK2B"
      },
      "source": [
        "First, we need to grab some data. We use a tool in `lsdviztools.lsdbasemaptools` called the `ot_scraper` (`ot` is for opentopography.org).\n",
        "\n",
        "You can tell this what sort of data you want (most people will use the SRTM 30 metre data) and you also tell it the lower left and the upper right corners, using latitude and longitude. You can get these from goole earth by right clickjing on the map and selecting \"what's here\". In this example I use a place near Santa Barbara, California. "
      ]
    },
    {
      "cell_type": "code",
      "metadata": {
        "id": "79wiJImqjK2C"
      },
      "source": [
        "SB_DEM = bmt.ot_scraper(source = \"SRTM30\",longitude_W = -120.464655, longitude_E = -120.254214, latitude_S = 34.440538, latitude_N = 34.610770,prefix = \"lg_conception\")\n",
        "SB_DEM.print_parameters()\n",
        "SB_DEM.download_pythonic()"
      ],
      "execution_count": null,
      "outputs": []
    },
    {
      "cell_type": "markdown",
      "metadata": {
        "id": "VKb057YzjK2C"
      },
      "source": [
        "We need to convert the data because we are going to use some other software to analyse it."
      ]
    },
    {
      "cell_type": "code",
      "metadata": {
        "id": "IOFgeVSQjK2D"
      },
      "source": [
        "DataDirectory = \"./\"\n",
        "RasterFile = \"lg_conception_SRTMGL1.tif\"\n",
        "gio.convert4lsdtt(DataDirectory, RasterFile,minimum_elevation=0.01,resolution=30)"
      ],
      "execution_count": null,
      "outputs": []
    },
    {
      "cell_type": "markdown",
      "metadata": {
        "id": "PuOfqncOjK2E"
      },
      "source": [
        "## Now we do some topographic analysis"
      ]
    },
    {
      "cell_type": "markdown",
      "metadata": {
        "id": "3achQ8MHjK2E"
      },
      "source": [
        "We will extract some topogaphic metrics using `lsdtopotools`. \n",
        "\n",
        "The `lsdtt_parameters` are the various parameters that you can use to run an analysis. We will discuss these later. For now, we will just follow this recipe. "
      ]
    },
    {
      "cell_type": "code",
      "metadata": {
        "id": "IMXKt_9YjK2E"
      },
      "source": [
        "lsdtt_parameters = {\"write_hillshade\" : \"true\",  \n",
        "                    \"surface_fitting_radius\" : \"60\",\n",
        "                    \"print_slope\" : \"true\"}\n",
        "lsdtt_drive = lsdmw.lsdtt_driver(read_prefix = \"lg_conception_SRTMGL1_UTM\",\n",
        "                                 write_prefix= \"lg_conception_SRTMGL1_UTM\",\n",
        "                                 read_path = \"./\",\n",
        "                                 write_path = \"./\",\n",
        "                                 parameter_dictionary=lsdtt_parameters)\n",
        "lsdtt_drive.print_parameters()"
      ],
      "execution_count": null,
      "outputs": []
    },
    {
      "cell_type": "code",
      "metadata": {
        "id": "gNpM3KF0jK2F"
      },
      "source": [
        "lsdtt_drive.run_lsdtt_command_line_tool()"
      ],
      "execution_count": null,
      "outputs": []
    },
    {
      "cell_type": "markdown",
      "metadata": {
        "id": "GmUM0YaYjK2F"
      },
      "source": [
        "## Plot some data"
      ]
    },
    {
      "cell_type": "markdown",
      "metadata": {
        "id": "atdNFIUkjK2F"
      },
      "source": [
        "We are now going to do some simple plots using a mapping package that we put together. There are more general ways to visualise data, but this makes pretty pictures quickly.  "
      ]
    },
    {
      "cell_type": "code",
      "metadata": {
        "id": "nDTTE3VojK2G"
      },
      "source": [
        "%matplotlib inline\n",
        "Base_file = \"lg_conception_SRTMGL1_UTM\"\n",
        "DataDirectory = \"./\"\n",
        "this_img = lsdmw.SimpleHillshade(DataDirectory,Base_file,cmap=\"gist_earth\", save_fig=False, size_format=\"geomorphology\")"
      ],
      "execution_count": null,
      "outputs": []
    },
    {
      "cell_type": "code",
      "metadata": {
        "id": "bYpymCpijK2G"
      },
      "source": [
        "Base_file = \"lg_conception_SRTMGL1_UTM\"\n",
        "Drape_prefix = \"lg_conception_SRTMGL1_UTM_SLOPE\"\n",
        "DataDirectory = \"./\"\n",
        "img_name2 = lsdmw.SimpleDrape(DataDirectory,Base_file, Drape_prefix, \n",
        "                              cmap = \"bwr\", cbar_loc = \"right\", \n",
        "                              cbar_label = \"Gradient (m/m)\",\n",
        "                              save_fig=False, size_format=\"geomorphology\",\n",
        "                              colour_min_max = [0,1.25])"
      ],
      "execution_count": null,
      "outputs": []
    },
    {
      "cell_type": "markdown",
      "metadata": {
        "id": "Blp1R7iNjK2G"
      },
      "source": [
        "## Get some channel profiles"
      ]
    },
    {
      "cell_type": "markdown",
      "metadata": {
        "id": "wBkIQAV8jK2H"
      },
      "source": [
        "Okay, we will now run a different analysis. We will get some channel profiles. "
      ]
    },
    {
      "cell_type": "code",
      "metadata": {
        "id": "wxPOE3wEjK2H"
      },
      "source": [
        "lsdtt_parameters = {\"print_basin_raster\" : \"true\",\n",
        "                    \"print_chi_data_maps\" : \"true\"}\n",
        "lsdtt_drive = lsdmw.lsdtt_driver(read_prefix = \"lg_conception_SRTMGL1_UTM\",\n",
        "                                 write_prefix= \"lg_conception_SRTMGL1_UTM\",\n",
        "                                 read_path = \"./\",\n",
        "                                 write_path = \"./\",\n",
        "                                 parameter_dictionary=lsdtt_parameters)\n",
        "lsdtt_drive.print_parameters()"
      ],
      "execution_count": null,
      "outputs": []
    },
    {
      "cell_type": "code",
      "metadata": {
        "id": "b_eZmvdyjK2H"
      },
      "source": [
        "lsdtt_drive.run_lsdtt_command_line_tool()"
      ],
      "execution_count": null,
      "outputs": []
    },
    {
      "cell_type": "markdown",
      "metadata": {
        "id": "9GX2TvS7noMQ"
      },
      "source": [
        "Lets make sure the files we need are there with a call to the system to list files. "
      ]
    },
    {
      "cell_type": "code",
      "metadata": {
        "id": "jozAsmfLnsIQ"
      },
      "source": [
        "!ls"
      ],
      "execution_count": null,
      "outputs": []
    },
    {
      "cell_type": "markdown",
      "metadata": {
        "id": "4uQlXsEpjK2I"
      },
      "source": [
        "Now we are going to read in the channel data using geopandas"
      ]
    },
    {
      "cell_type": "code",
      "metadata": {
        "id": "8uMYjVQrjK2I"
      },
      "source": [
        "df = pd.read_csv(\"lg_conception_SRTMGL1_UTM_chi_data_map.csv\")"
      ],
      "execution_count": null,
      "outputs": []
    },
    {
      "cell_type": "markdown",
      "metadata": {
        "id": "OmXcCxKfjK2J"
      },
      "source": [
        "The csv file has latitude and longitude coordinates, so we can use these to register the geometry with a `geopandas` dataframe, and we can also set the coordinate reference system (`set_crs`). The `latitude` and `longitude` data produced by `lsdtopotools` is always in `epsg=4326`."
      ]
    },
    {
      "cell_type": "code",
      "metadata": {
        "id": "Cb5C8c0Qn0Sk"
      },
      "source": [
        "df.head()"
      ],
      "execution_count": null,
      "outputs": []
    },
    {
      "cell_type": "markdown",
      "metadata": {
        "id": "hDV5gJptn4em"
      },
      "source": [
        "Turn this into a geodataframe, so we can deal with the geospatial information"
      ]
    },
    {
      "cell_type": "code",
      "metadata": {
        "id": "cfkJT8VojK2J"
      },
      "source": [
        "gdf = gpd.GeoDataFrame(\n",
        "    df, geometry=gpd.points_from_xy(df.longitude, df.latitude))\n",
        "gdf = gdf.set_crs(epsg=4326)\n",
        "print(gdf.head())"
      ],
      "execution_count": null,
      "outputs": []
    },
    {
      "cell_type": "markdown",
      "metadata": {
        "id": "4C0M8W98jK2K"
      },
      "source": [
        "So after some experimenting, it turns out that the plotting functions are not very happy if you don't keep everything in the same coordinate system. So I need to transform the geopandas dataframe to the correct UTM coordinate system. You will probably need to make sure your rasters and your dataframes are alyways in the same coordinate system."
      ]
    },
    {
      "cell_type": "markdown",
      "metadata": {
        "id": "cHk_rm0VjK2K"
      },
      "source": [
        "We need to know what coordinate system our data is in. Lets find that out."
      ]
    },
    {
      "cell_type": "code",
      "metadata": {
        "id": "Tqj5P9BVjK2K"
      },
      "source": [
        "DEMdata = rio.open('lg_conception_SRTMGL1_UTM.bil')\n",
        "bounds = DEMdata.bounds\n",
        "DEMdata.crs\n",
        "\n",
        "DEMHSdata = rio.open('lg_conception_SRTMGL1_UTM_hs.bil')\n",
        "arrayHS = DEMHSdata.read(1)\n",
        "arrayHS[arrayHS==-9999]=np.nan\n",
        "\n",
        "print(bounds)"
      ],
      "execution_count": null,
      "outputs": []
    },
    {
      "cell_type": "code",
      "metadata": {
        "id": "AhYj2EPksDmQ"
      },
      "source": [
        ""
      ],
      "execution_count": null,
      "outputs": []
    },
    {
      "cell_type": "markdown",
      "metadata": {
        "id": "MGkhPXUqjK2L"
      },
      "source": [
        "Okay, now tell geopandas to convert the coordinate system"
      ]
    },
    {
      "cell_type": "code",
      "metadata": {
        "id": "WJs9U9qwjK2L"
      },
      "source": [
        "gdf2 = gdf.to_crs(\"EPSG:32610\")"
      ],
      "execution_count": null,
      "outputs": []
    },
    {
      "cell_type": "markdown",
      "metadata": {
        "id": "KPaAcxwvjK2L"
      },
      "source": [
        "Lets have a look at these channels"
      ]
    },
    {
      "cell_type": "code",
      "metadata": {
        "id": "7x5AO2AFjK2L"
      },
      "source": [
        "Extent = [bounds.left,bounds.right,bounds.bottom,bounds.top]\n",
        "\n",
        "array = DEMdata.read(1)\n",
        "array[array<-5]=np.nan\n",
        "\n",
        "fig = plt.figure()\n",
        "ax = fig.add_subplot(1, 1, 1, projection=ccrs.UTM(46))\n",
        "# Limit the extent of the map to a small longitude/latitude range.\n",
        "#ax.set_extent(Extent, crs=ccrs.UTM(46))\n",
        "ax.coastlines()\n",
        "ax.gridlines(draw_labels=True, dms=True, x_inline=False, y_inline=False)\n",
        "#print('Projecting and plotting image (this may take a while)...')\n",
        "ax.imshow(array, extent=Extent, transform=ccrs.UTM(46), origin=\"upper\", cmap='terrain',alpha=0.5,zorder=-2)\n",
        "ax.imshow(arrayHS, extent=Extent, transform=ccrs.UTM(46), origin=\"upper\", cmap='gray',alpha=1,zorder=-3)\n",
        "gdf2.plot(ax=ax, markersize=1, column='chi', zorder=10,cmap=\"jet\")\n",
        "fig.savefig(\"test.png\", dpi=800)\n",
        "fig.show()"
      ],
      "execution_count": null,
      "outputs": []
    },
    {
      "cell_type": "markdown",
      "metadata": {
        "id": "kMcb6W8vjK2M"
      },
      "source": [
        "Okay, lets plot a channel profile! We first need to select a basin"
      ]
    },
    {
      "cell_type": "code",
      "metadata": {
        "id": "GDQD4pgGjK2M"
      },
      "source": [
        "gdf_b1 = gdf2[(gdf2['basin_key'] == 0)]\n",
        "print(gdf_b1.head())"
      ],
      "execution_count": null,
      "outputs": []
    },
    {
      "cell_type": "code",
      "metadata": {
        "id": "QT09RovvjK2M"
      },
      "source": [
        "fig = plt.figure()\n",
        "ax = fig.add_subplot(1, 1, 1)\n",
        "plt.scatter(gdf_b1.chi,gdf_b1.elevation,c=gdf_b1.flow_distance,s=1)\n",
        "plt.xlabel(r\"$\\chi$ (m)\")\n",
        "plt.ylabel(\"elevation (m)\")\n",
        "fig.show()"
      ],
      "execution_count": null,
      "outputs": []
    },
    {
      "cell_type": "code",
      "metadata": {
        "id": "dxyFDcQEjK2N"
      },
      "source": [
        "fig = plt.figure()\n",
        "ax = fig.add_subplot(1, 1, 1)\n",
        "plt.scatter(gdf_b1.flow_distance,gdf_b1.elevation,c=gdf_b1.flow_distance,s=1)\n",
        "plt.xlabel(r\"$\\chi$ (m)\")\n",
        "plt.ylabel(\"elevation (m)\")\n",
        "fig.show()"
      ],
      "execution_count": null,
      "outputs": []
    },
    {
      "cell_type": "code",
      "metadata": {
        "id": "Xk3JFRthjK2O"
      },
      "source": [
        ""
      ],
      "execution_count": null,
      "outputs": []
    }
  ]
}