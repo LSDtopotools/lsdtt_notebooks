{
 "cells": [
  {
   "cell_type": "markdown",
   "metadata": {},
   "source": [
    "# Simple landscape exploration"
   ]
  },
  {
   "cell_type": "markdown",
   "metadata": {},
   "source": [
    "Written by Simon M. Mudd at the University of Edinburgh. Updated 02/09/2021"
   ]
  },
  {
   "cell_type": "markdown",
   "metadata": {},
   "source": [
    "## What is this notebook?"
   ]
  },
  {
   "cell_type": "markdown",
   "metadata": {},
   "source": [
    "This is a template notebook for getting some data and then doing simple analyses:\n",
    "* Getting a hillshade\n",
    "* Getting a slope map\n",
    "* Extracting channels\n",
    "* Looking at the resulting data"
   ]
  },
  {
   "cell_type": "markdown",
   "metadata": {},
   "source": [
    "## First steps: install some packages"
   ]
  },
  {
   "cell_type": "markdown",
   "metadata": {},
   "source": [
    "If you are in our docker container you have the python packages you need. If you aren't, you need to run:\n",
    "\n",
    "`!pip install lsdviztools lsdttparamselector`"
   ]
  },
  {
   "cell_type": "markdown",
   "metadata": {},
   "source": [
    "Now impoort some packages for looking at the data:"
   ]
  },
  {
   "cell_type": "code",
   "execution_count": null,
   "metadata": {},
   "outputs": [],
   "source": [
    "import lsdviztools.lsdbasemaptools as bmt\n",
    "from lsdviztools.lsdplottingtools import lsdmap_gdalio as gio\n",
    "import lsdviztools.lsdmapwrappers as lsdmw\n",
    "import lsdttparamselector as ps\n",
    "import pandas as pd\n",
    "import geopandas as gpd\n",
    "import cartopy as cp\n",
    "import cartopy.crs as ccrs\n",
    "import rasterio as rio\n",
    "import matplotlib.pyplot as plt\n",
    "import numpy as np"
   ]
  },
  {
   "cell_type": "markdown",
   "metadata": {},
   "source": [
    "## Now grab some data"
   ]
  },
  {
   "cell_type": "markdown",
   "metadata": {},
   "source": [
    "First, we need to grab some data. We use a tool in `lsdviztools.lsdbasemaptools` called the `ot_scraper` (`ot` is for opentopography.org).\n",
    "\n",
    "You can tell this what sort of data you want (most people will use the SRTM 30 metre data) and you also tell it the lower left and the upper right corners, using latitude and longitude. You can get these from goole earth by right clickjing on the map and selecting \"what's here\". In this example I use a place near Santa Barbara, California. "
   ]
  },
  {
   "cell_type": "code",
   "execution_count": null,
   "metadata": {},
   "outputs": [],
   "source": [
    "SB_DEM = bmt.ot_scraper(source = \"SRTM30\",longitude_W = -120.464655, longitude_E = -120.254214, latitude_S = 34.440538, latitude_N = 34.610770,prefix = \"lg_conception\")\n",
    "SB_DEM.print_parameters()\n",
    "SB_DEM.download_pythonic()"
   ]
  },
  {
   "cell_type": "markdown",
   "metadata": {},
   "source": [
    "We need to convert the data because we are going to use some other software to analyse it."
   ]
  },
  {
   "cell_type": "code",
   "execution_count": null,
   "metadata": {},
   "outputs": [],
   "source": [
    "DataDirectory = \"./\"\n",
    "RasterFile = \"lg_conception_SRTM30.tif\"\n",
    "gio.convert4lsdtt(DataDirectory, RasterFile,minimum_elevation=0.01,resolution=30)"
   ]
  },
  {
   "cell_type": "markdown",
   "metadata": {},
   "source": [
    "## Now we do some topographic analysis"
   ]
  },
  {
   "cell_type": "markdown",
   "metadata": {},
   "source": [
    "We will extract some topogaphic metrics using `lsdtopotools`. You will need to install `lsdtopotools` for this. If you have `conda` install on your system you can install it with `!conda install -c conda-forge lsdtopotools`.\n",
    "\n",
    "Here we assume `lsdtopotools` is installed. \n",
    "\n",
    "The `lsdtt_parameters` are the various parametes that you can use to run an analysis. We will discuss these later. For now, we will just follow this recipie. "
   ]
  },
  {
   "cell_type": "code",
   "execution_count": null,
   "metadata": {},
   "outputs": [],
   "source": [
    "lsdtt_parameters = {\"write_hillshade\" : \"true\",  \n",
    "                    \"surface_fitting_radius\" : \"60\",\n",
    "                    \"print_slope\" : \"true\"}\n",
    "lsdtt_drive = lsdmw.lsdtt_driver(read_prefix = \"lg_conception_SRTM30_UTM\",\n",
    "                                 write_prefix= \"lg_conception_SRTM30_UTM\",\n",
    "                                 read_path = \"./\",\n",
    "                                 write_path = \"./\",\n",
    "                                 parameter_dictionary=lsdtt_parameters)\n",
    "lsdtt_drive.print_parameters()"
   ]
  },
  {
   "cell_type": "code",
   "execution_count": null,
   "metadata": {},
   "outputs": [],
   "source": [
    "lsdtt_drive.run_lsdtt_command_line_tool()"
   ]
  },
  {
   "cell_type": "markdown",
   "metadata": {},
   "source": [
    "## Plot some data"
   ]
  },
  {
   "cell_type": "markdown",
   "metadata": {},
   "source": [
    "We are now going to do some simple plots using a mapping package that we put together. There are more general ways to visualise data, but this makes pretty pictures quickly.  "
   ]
  },
  {
   "cell_type": "code",
   "execution_count": null,
   "metadata": {},
   "outputs": [],
   "source": [
    "%matplotlib inline\n",
    "Base_file = \"lg_conception_SRTM30_UTM\"\n",
    "DataDirectory = \"./\"\n",
    "this_img = lsdmw.SimpleHillshade(DataDirectory,Base_file,cmap=\"gist_earth\", save_fig=False, size_format=\"geomorphology\")"
   ]
  },
  {
   "cell_type": "code",
   "execution_count": null,
   "metadata": {},
   "outputs": [],
   "source": [
    "Base_file = \"lg_conception_SRTM30_UTM\"\n",
    "Drape_prefix = \"lg_conception_SRTM30_UTM_SLOPE\"\n",
    "DataDirectory = \"./\"\n",
    "img_name2 = lsdmw.SimpleDrape(DataDirectory,Base_file, Drape_prefix, \n",
    "                              cmap = \"bwr\", cbar_loc = \"right\", \n",
    "                              cbar_label = \"Gradient (m/m)\",\n",
    "                              save_fig=False, size_format=\"geomorphology\",\n",
    "                              colour_min_max = [0,1.25])"
   ]
  },
  {
   "cell_type": "markdown",
   "metadata": {},
   "source": [
    "## Get some channel profiles"
   ]
  },
  {
   "cell_type": "markdown",
   "metadata": {},
   "source": [
    "Okay, we will now run a different analysis. We will get some channel profiles. "
   ]
  },
  {
   "cell_type": "code",
   "execution_count": null,
   "metadata": {},
   "outputs": [],
   "source": [
    "lsdtt_parameters = {\"print_basin_raster\" : \"true\",\n",
    "                    \"print_chi_data_maps\" : \"true\"}\n",
    "lsdtt_drive = lsdmw.lsdtt_driver(read_prefix = \"lg_conception_SRTM30_UTM\",\n",
    "                                 write_prefix= \"lg_conception_SRTM30_UTM\",\n",
    "                                 read_path = \"./\",\n",
    "                                 write_path = \"./\",\n",
    "                                 parameter_dictionary=lsdtt_parameters)\n",
    "lsdtt_drive.print_parameters()"
   ]
  },
  {
   "cell_type": "code",
   "execution_count": null,
   "metadata": {},
   "outputs": [],
   "source": [
    "lsdtt_drive.run_lsdtt_command_line_tool()"
   ]
  },
  {
   "cell_type": "markdown",
   "metadata": {},
   "source": [
    "Now we are going to read in the channel data using geopandas"
   ]
  },
  {
   "cell_type": "code",
   "execution_count": null,
   "metadata": {},
   "outputs": [],
   "source": [
    "df = pd.read_csv(\"lg_conception_SRTM30_UTM_chi_data_map.csv\")"
   ]
  },
  {
   "cell_type": "markdown",
   "metadata": {},
   "source": [
    "The csv file has latitude and longitude coordinates, so we can use these to register the geometry with a `geopandas` dataframe, and we can also set the coordinate reference system (`set_crs`). The `latitude` and `longitude` data produced by `lsdtopotools` is always in `epsg=4326`."
   ]
  },
  {
   "cell_type": "code",
   "execution_count": null,
   "metadata": {},
   "outputs": [],
   "source": [
    "gdf = gpd.GeoDataFrame(\n",
    "    df, geometry=gpd.points_from_xy(df.longitude, df.latitude))\n",
    "gdf = gdf.set_crs(epsg=4326)\n",
    "print(gdf.head())"
   ]
  },
  {
   "cell_type": "markdown",
   "metadata": {},
   "source": [
    "So after some experimenting, it turns out that the plotting functions are not very happy if you don't keep everything in the same coordinate system. So I need to transform the geopandas dataframe to the correct UTM coordinate system. You will probably need to make sure your rasters and your dataframes are alyways in the same coordinate system."
   ]
  },
  {
   "cell_type": "markdown",
   "metadata": {},
   "source": [
    "We need to know what coordinate system our data is in. Lets find that out."
   ]
  },
  {
   "cell_type": "code",
   "execution_count": null,
   "metadata": {},
   "outputs": [],
   "source": [
    "DEMdata = rio.open('lg_conception_SRTM30_UTM.bil')\n",
    "bounds = DEMdata.bounds\n",
    "DEMdata.crs\n",
    "\n",
    "DEMHSdata = rio.open('lg_conception_SRTM30_UTM_hs.bil')\n",
    "arrayHS = DEMHSdata.read(1)\n",
    "arrayHS[arrayHS==-9999]=np.nan\n"
   ]
  },
  {
   "cell_type": "markdown",
   "metadata": {},
   "source": [
    "Okay, now tell geopandas to convert the coordinate system"
   ]
  },
  {
   "cell_type": "code",
   "execution_count": null,
   "metadata": {},
   "outputs": [],
   "source": [
    "gdf2 = gdf.to_crs(\"EPSG:32610\")"
   ]
  },
  {
   "cell_type": "markdown",
   "metadata": {},
   "source": [
    "Lets have a look at these channels"
   ]
  },
  {
   "cell_type": "code",
   "execution_count": null,
   "metadata": {},
   "outputs": [],
   "source": [
    "Extent = [bounds.left,bounds.right,bounds.bottom,bounds.top]\n",
    "\n",
    "array = DEMdata.read(1)\n",
    "array[array<-5]=np.nan\n",
    "\n",
    "fig = plt.figure()\n",
    "ax = fig.add_subplot(1, 1, 1, projection=ccrs.UTM(46))\n",
    "# Limit the extent of the map to a small longitude/latitude range.\n",
    "#ax.set_extent(Extent, crs=ccrs.UTM(46))\n",
    "ax.coastlines()\n",
    "ax.gridlines(draw_labels=True, dms=True, x_inline=False, y_inline=False)\n",
    "#print('Projecting and plotting image (this may take a while)...')\n",
    "ax.imshow(array, extent=Extent, transform=ccrs.UTM(46), origin=\"upper\", cmap='terrain',alpha=0.5,zorder=-2)\n",
    "ax.imshow(arrayHS, extent=Extent, transform=ccrs.UTM(46), origin=\"upper\", cmap='gray',alpha=1,zorder=-3)\n",
    "gdf2.plot(ax=ax, markersize=1, column='chi', zorder=10,cmap=\"jet\")\n",
    "fig.savefig(\"test.png\", dpi=800)\n",
    "fig.show()"
   ]
  },
  {
   "cell_type": "markdown",
   "metadata": {},
   "source": [
    "Okay, lets plot a channel profile! We first need to select a basin"
   ]
  },
  {
   "cell_type": "code",
   "execution_count": null,
   "metadata": {},
   "outputs": [],
   "source": [
    "gdf_b1 = gdf2[(gdf2['basin_key'] == 0)]\n",
    "print(gdf_b1.head())"
   ]
  },
  {
   "cell_type": "code",
   "execution_count": null,
   "metadata": {},
   "outputs": [],
   "source": [
    "fig = plt.figure()\n",
    "ax = fig.add_subplot(1, 1, 1)\n",
    "plt.scatter(gdf_b1.chi,gdf_b1.elevation,c=gdf_b1.flow_distance,s=1)\n",
    "plt.xlabel(r\"$\\chi$ (m)\")\n",
    "plt.ylabel(\"elevation (m)\")\n",
    "fig.show()"
   ]
  },
  {
   "cell_type": "code",
   "execution_count": null,
   "metadata": {},
   "outputs": [],
   "source": [
    "fig = plt.figure()\n",
    "ax = fig.add_subplot(1, 1, 1)\n",
    "plt.scatter(gdf_b1.flow_distance,gdf_b1.elevation,c=gdf_b1.flow_distance,s=1)\n",
    "plt.xlabel(r\"$\\chi$ (m)\")\n",
    "plt.ylabel(\"elevation (m)\")\n",
    "fig.show()"
   ]
  },
  {
   "cell_type": "code",
   "execution_count": null,
   "metadata": {},
   "outputs": [],
   "source": []
  }
 ],
 "metadata": {
  "kernelspec": {
   "display_name": "Python 3 (ipykernel)",
   "language": "python",
   "name": "python3"
  },
  "language_info": {
   "codemirror_mode": {
    "name": "ipython",
    "version": 3
   },
   "file_extension": ".py",
   "mimetype": "text/x-python",
   "name": "python",
   "nbconvert_exporter": "python",
   "pygments_lexer": "ipython3",
   "version": "3.8.10"
  }
 },
 "nbformat": 4,
 "nbformat_minor": 4
}
