{
 "cells": [
  {
   "cell_type": "markdown",
   "metadata": {},
   "source": [
    "# Formatting and analysing a DEM"
   ]
  },
  {
   "cell_type": "markdown",
   "metadata": {},
   "source": [
    "## Manipulate the DEM"
   ]
  },
  {
   "cell_type": "markdown",
   "metadata": {},
   "source": [
    "This is a brief tutorial that shows how to format and then plot a tiff that you downloaded from the internet. It serves as an alternative to looking at a DEM in a GIS. \n",
    "\n",
    "First, you need to import some of our tools."
   ]
  },
  {
   "cell_type": "code",
   "execution_count": 1,
   "metadata": {},
   "outputs": [],
   "source": [
    "import lsdviztools.lsdbasemaptools as bmt\n",
    "from lsdviztools.lsdplottingtools import lsdmap_gdalio as gio\n",
    "from lsdviztools.lsdplottingtools import lsdmap_basicmanipulation as lsdm_bm\n",
    "import lsdviztools.lsdmapwrappers as lsdmw"
   ]
  },
  {
   "cell_type": "markdown",
   "metadata": {},
   "source": [
    "Now, point the tool to the data. Here we downloaded some data from the Scottish goverment lidar portal. You should download your own DEM and replace the filename. \n",
    "\n",
    "First we convert to UTM. "
   ]
  },
  {
   "cell_type": "code",
   "execution_count": null,
   "metadata": {},
   "outputs": [],
   "source": [
    "RasterFile = \"NT65NE_50CM_DTM_PHASE3.tif\"\n",
    "DataDirectory = \"/LSDTopoTools/data/lammermuir/\"\n",
    "gio.convert2UTM(DataDirectory, RasterFile,minimum_elevation=0.01,resolution=3)"
   ]
  },
  {
   "cell_type": "markdown",
   "metadata": {},
   "source": [
    "Now convert the file to bil format (for LSDTopoTools)"
   ]
  },
  {
   "cell_type": "code",
   "execution_count": null,
   "metadata": {},
   "outputs": [],
   "source": [
    "newRasterFile = \"NT65NE_50CM_DTM_PHASE3_UTM.tif\"\n",
    "gio.convert2bil(DataDirectory, newRasterFile,minimum_elevation=0)"
   ]
  },
  {
   "cell_type": "markdown",
   "metadata": {},
   "source": [
    "You can also convert for LSDTopoTools directly (this lumps the previous two steps together):"
   ]
  },
  {
   "cell_type": "code",
   "execution_count": 2,
   "metadata": {},
   "outputs": [
    {
     "name": "stdout",
     "output_type": "stream",
     "text": [
      "The projections is:\n",
      "PROJCS[\"OSGB 1936 / British National Grid\",GEOGCS[\"OSGB 1936\",DATUM[\"OSGB_1936\",SPHEROID[\"Airy 1830\",6377563.396,299.3249646,AUTHORITY[\"EPSG\",\"7001\"]],TOWGS84[446.448,-125.157,542.06,0.15,0.247,0.842,-20.489],AUTHORITY[\"EPSG\",\"6277\"]],PRIMEM[\"Greenwich\",0,AUTHORITY[\"EPSG\",\"8901\"]],UNIT[\"degree\",0.0174532925199433,AUTHORITY[\"EPSG\",\"9122\"]],AUTHORITY[\"EPSG\",\"4277\"]],PROJECTION[\"Transverse_Mercator\"],PARAMETER[\"latitude_of_origin\",49],PARAMETER[\"central_meridian\",-2],PARAMETER[\"scale_factor\",0.9996012717],PARAMETER[\"false_easting\",400000],PARAMETER[\"false_northing\",-100000],UNIT[\"metre\",1,AUTHORITY[\"EPSG\",\"9001\"]],AXIS[\"Easting\",EAST],AXIS[\"Northing\",NORTH],AUTHORITY[\"EPSG\",\"27700\"]]\n",
      "And some extra projection information strings:\n",
      "OSGB 1936 / British National Grid\n",
      "OSGB 1936\n",
      "The centre of the raster is at:\n",
      "(367500.25, 662499.75)\n",
      "dem_data.width is: 10000\n",
      "The centre lat-long is\n",
      "55.85459014829195 -2.520709836288767\n",
      "res tuple is:\n",
      "(3, 3)\n",
      "The destination CRS is: EPSG:32630\n"
     ]
    },
    {
     "name": "stderr",
     "output_type": "stream",
     "text": [
      "/usr/local/lib/python3.8/site-packages/pyproj/crs/crs.py:53: FutureWarning: '+init=<authority>:<code>' syntax is deprecated. '<authority>:<code>' is the preferred initialization method. When making the change, be mindful of axis order changes: https://pyproj4.github.io/pyproj/stable/gotchas.html#axis-order-changes-in-proj-6\n",
      "  return _prepare_from_string(\" \".join(pjargs))\n",
      "/usr/local/lib/python3.8/site-packages/pyproj/crs/crs.py:294: FutureWarning: '+init=<authority>:<code>' syntax is deprecated. '<authority>:<code>' is the preferred initialization method. When making the change, be mindful of axis order changes: https://pyproj4.github.io/pyproj/stable/gotchas.html#axis-order-changes-in-proj-6\n",
      "  projstring = _prepare_from_string(\" \".join((projstring, projkwargs)))\n"
     ]
    },
    {
     "name": "stdout",
     "output_type": "stream",
     "text": [
      "{'driver': 'GTiff', 'dtype': 'float32', 'nodata': -9999.0, 'width': 1691, 'height': 1691, 'count': 1, 'crs': CRS.from_epsg(32630), 'transform': Affine(3.0, 0.0, 527468.2563809821,\n",
      "       0.0, -3.0, 6192535.954528167)}\n",
      "Removing pixels with an elevation less than 0.01\n"
     ]
    },
    {
     "data": {
      "text/plain": [
       "'NT66SE_50CM_DTM_PHASE3_UTM.tif'"
      ]
     },
     "execution_count": 2,
     "metadata": {},
     "output_type": "execute_result"
    }
   ],
   "source": [
    "RasterFile = \"NT66SE_50CM_DTM_PHASE3.tif\"\n",
    "DataDirectory = \"/LSDTopoTools/data/lammermuir/\"\n",
    "gio.convert4lsdtt(DataDirectory, RasterFile,minimum_elevation=0.01,resolution=3)"
   ]
  },
  {
   "cell_type": "markdown",
   "metadata": {},
   "source": [
    "## Run an lsdtopotools analysis to get some new information"
   ]
  },
  {
   "cell_type": "markdown",
   "metadata": {},
   "source": [
    "Now get some derivative rasters using lsdtopotools"
   ]
  },
  {
   "cell_type": "code",
   "execution_count": null,
   "metadata": {},
   "outputs": [],
   "source": [
    "lsdtt_parameters = {\"write_hillshade\" : \"true\",  \n",
    "                    \"surface_fitting_radius\" : \"7\",\n",
    "                    \"print_curvature\" : \"true\",\n",
    "                    \"print_dinf_drainage_area_raster\" : \"true\"}\n",
    "lsdtt_drive = lsdmw.lsdtt_driver(read_prefix = \"NT66SE_50CM_DTM_PHASE3_UTM\",\n",
    "                                 write_prefix= \"NT66SE_50CM_DTM_PHASE3_UTM\",\n",
    "                                 read_path = \"/LSDTopoTools/data/lammermuir/\",\n",
    "                                 write_path = \"/LSDTopoTools/data/lammermuir/\",\n",
    "                                 parameter_dictionary=lsdtt_parameters)\n",
    "lsdtt_drive.print_parameters()"
   ]
  },
  {
   "cell_type": "code",
   "execution_count": null,
   "metadata": {},
   "outputs": [],
   "source": [
    "lsdtt_drive.run_lsdtt_command_line_tool()"
   ]
  },
  {
   "cell_type": "markdown",
   "metadata": {},
   "source": [
    "## Lets plot some data"
   ]
  },
  {
   "cell_type": "code",
   "execution_count": null,
   "metadata": {},
   "outputs": [],
   "source": [
    "%matplotlib inline\n",
    "Base_file = \"NT66SE_50CM_DTM_PHASE3_UTM\"\n",
    "DataDirectory = \"/LSDTopoTools/data/lammermuir/\"\n",
    "this_img = lsdmw.SimpleHillshade(DataDirectory,Base_file,cmap=\"gist_earth\", save_fig=False, size_format=\"geomorphology\")"
   ]
  },
  {
   "cell_type": "markdown",
   "metadata": {},
   "source": [
    "Now lest plot the curvature data"
   ]
  },
  {
   "cell_type": "code",
   "execution_count": null,
   "metadata": {},
   "outputs": [],
   "source": [
    "Base_file = \"NT66SE_50CM_DTM_PHASE3_UTM\"\n",
    "Drape_prefix = \"NT66SE_50CM_DTM_PHASE3_UTM_CURV\"\n",
    "DataDirectory = \"/LSDTopoTools/data/lammermuir/\"\n",
    "img_name2 = lsdmw.SimpleDrape(DataDirectory,Base_file, Drape_prefix, \n",
    "                              cmap = \"bwr\", cbar_loc = \"right\", \n",
    "                              cbar_label = \"Curvature (1/m)\",\n",
    "                              save_fig=False, size_format=\"geomorphology\",\n",
    "                              colour_min_max = [-0.12,0.12])"
   ]
  },
  {
   "cell_type": "code",
   "execution_count": null,
   "metadata": {},
   "outputs": [],
   "source": []
  }
 ],
 "metadata": {
  "kernelspec": {
   "display_name": "Python 3",
   "language": "python",
   "name": "python3"
  },
  "language_info": {
   "codemirror_mode": {
    "name": "ipython",
    "version": 3
   },
   "file_extension": ".py",
   "mimetype": "text/x-python",
   "name": "python",
   "nbconvert_exporter": "python",
   "pygments_lexer": "ipython3",
   "version": "3.8.3"
  }
 },
 "nbformat": 4,
 "nbformat_minor": 4
}
