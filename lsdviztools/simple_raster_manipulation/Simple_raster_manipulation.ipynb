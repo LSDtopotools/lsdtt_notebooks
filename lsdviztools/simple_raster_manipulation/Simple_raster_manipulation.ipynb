{
 "cells": [
  {
   "cell_type": "markdown",
   "metadata": {},
   "source": [
    "# Formatting and analysing a DEM"
   ]
  },
  {
   "cell_type": "markdown",
   "metadata": {},
   "source": [
    "This is a brief tutorial that shows how to format and then plot a tiff that you downloaded from the internet. It serves as an alternative to looking at a DEM in a GIS. \n",
    "\n",
    "First, you need to import some of our tools."
   ]
  },
  {
   "cell_type": "code",
   "execution_count": 2,
   "metadata": {},
   "outputs": [],
   "source": [
    "import lsdviztools.lsdbasemaptools as bmt\n",
    "from lsdviztools.lsdplottingtools import lsdmap_gdalio as gio\n",
    "from lsdviztools.lsdplottingtools import lsdmap_basicmanipulation as lsdm_bm\n",
    "import lsdviztools.lsdmapwrappers as lsdmw"
   ]
  },
  {
   "cell_type": "markdown",
   "metadata": {},
   "source": [
    "Now, point the tool to the data. Here we downloaded some data from the Scottish goverment lidar portal. You should download your own DEM and replace the filename. \n",
    "\n",
    "First we convert to UTM. "
   ]
  },
  {
   "cell_type": "code",
   "execution_count": null,
   "metadata": {},
   "outputs": [],
   "source": [
    "RasterFile = \"NT65NE_50CM_DTM_PHASE3.tif\"\n",
    "DataDirectory = \"/LSDTopoTools/data/lammermuir/\"\n",
    "gio.convert2UTM(DataDirectory, RasterFile,minimum_elevation=0.01,resolution=3)"
   ]
  },
  {
   "cell_type": "markdown",
   "metadata": {},
   "source": [
    "Now convert the file to bil format (for LSDTopoTools)"
   ]
  },
  {
   "cell_type": "code",
   "execution_count": null,
   "metadata": {},
   "outputs": [],
   "source": [
    "newRasterFile = \"NT65NE_50CM_DTM_PHASE3_UTM.tif\"\n",
    "gio.convert2bil(DataDirectory, newRasterFile,minimum_elevation=0)"
   ]
  },
  {
   "cell_type": "markdown",
   "metadata": {},
   "source": [
    "You can also convert for LSDTopoTools directly (this lumps the previous two steps together):"
   ]
  },
  {
   "cell_type": "code",
   "execution_count": null,
   "metadata": {},
   "outputs": [],
   "source": [
    "RasterFile = \"NT66SE_50CM_DTM_PHASE3.tif\"\n",
    "gio.convert4lsdtt(DataDirectory, RasterFile,minimum_elevation=0.01,resolution=3)"
   ]
  },
  {
   "cell_type": "markdown",
   "metadata": {},
   "source": [
    "Now get some derivative rasters using lsdtopotools"
   ]
  },
  {
   "cell_type": "code",
   "execution_count": 5,
   "metadata": {},
   "outputs": [
    {
     "name": "stdout",
     "output_type": "stream",
     "text": [
      "The command line tool is: lsdtt-basic-metrics\n",
      "The driver name is: Test_01\n",
      "The read path is: /LSDTopoTools/data/lammermuir/\n",
      "The write path is: /LSDTopoTools/data/lammermuir/\n",
      "The read prefix is: NT66SE_50CM_DTM_PHASE3_UTM\n",
      "The write prefix is: NT66SE_50CM_DTM_PHASE3_UTM\n",
      "The parameter dictionary is:\n",
      "{'write_hillshade': 'true', 'surface_fitting_radius': '7', 'print_curvature': 'true', 'print_dinf_drainage_area_raster': 'true'}\n"
     ]
    }
   ],
   "source": [
    "lsdtt_parameters = {\"write_hillshade\" : \"true\",  \n",
    "                    \"surface_fitting_radius\" : \"7\",\n",
    "                    \"print_curvature\" : \"true\",\n",
    "                    \"print_dinf_drainage_area_raster\" : \"true\"}\n",
    "lsdtt_drive = lsdmw.lsdtt_driver(read_prefix = \"NT66SE_50CM_DTM_PHASE3_UTM\",\n",
    "                                 write_prefix= \"NT66SE_50CM_DTM_PHASE3_UTM\",\n",
    "                                 read_path = \"/LSDTopoTools/data/lammermuir/\",\n",
    "                                 write_path = \"/LSDTopoTools/data/lammermuir/\",\n",
    "                                 parameter_dictionary=lsdtt_parameters)\n",
    "lsdtt_drive.print_parameters()"
   ]
  },
  {
   "cell_type": "code",
   "execution_count": 6,
   "metadata": {},
   "outputs": [
    {
     "name": "stdout",
     "output_type": "stream",
     "text": [
      "Done writing the driver file\n",
      "I've finised writing the driver file. Let me run LSDTT for you.\n"
     ]
    }
   ],
   "source": [
    "lsdtt_drive.run_lsdtt_command_line_tool()"
   ]
  },
  {
   "cell_type": "code",
   "execution_count": null,
   "metadata": {},
   "outputs": [],
   "source": []
  }
 ],
 "metadata": {
  "kernelspec": {
   "display_name": "Python 3",
   "language": "python",
   "name": "python3"
  },
  "language_info": {
   "codemirror_mode": {
    "name": "ipython",
    "version": 3
   },
   "file_extension": ".py",
   "mimetype": "text/x-python",
   "name": "python",
   "nbconvert_exporter": "python",
   "pygments_lexer": "ipython3",
   "version": "3.8.3"
  }
 },
 "nbformat": 4,
 "nbformat_minor": 4
}
