{
 "cells": [
  {
   "cell_type": "markdown",
   "id": "b0effdf6",
   "metadata": {},
   "source": [
    "# Rotation of rasters and subsequent processing"
   ]
  },
  {
   "cell_type": "markdown",
   "id": "8796d769",
   "metadata": {},
   "source": [
    "In this notebook I am going to attempt to rotate a raster, write it to a file, perform an analysis on the rotated raster, and then rotate it back."
   ]
  },
  {
   "cell_type": "code",
   "execution_count": null,
   "id": "b69db38d",
   "metadata": {},
   "outputs": [],
   "source": [
    "import cartopy as cp\n",
    "import cartopy.crs as ccrs\n",
    "import rasterio as rio\n",
    "import matplotlib.pyplot as plt\n",
    "import numpy as np"
   ]
  },
  {
   "cell_type": "code",
   "execution_count": null,
   "id": "df97dadf",
   "metadata": {},
   "outputs": [],
   "source": [
    "DEMdata = rio.open('lg_conception_SRTM30_UTM.bil')\n",
    "array = DEMdata.read(1)\n",
    "type(array)"
   ]
  },
  {
   "cell_type": "code",
   "execution_count": null,
   "id": "0045c910",
   "metadata": {},
   "outputs": [],
   "source": [
    "from scipy import ndimage, misc\n",
    "import matplotlib.pyplot as plt"
   ]
  },
  {
   "cell_type": "code",
   "execution_count": null,
   "id": "7aa17295",
   "metadata": {},
   "outputs": [],
   "source": [
    "array_20 = ndimage.rotate(array, 20)\n",
    "array_40 = ndimage.rotate(array, 40)"
   ]
  },
  {
   "cell_type": "code",
   "execution_count": null,
   "id": "8d350c2a",
   "metadata": {},
   "outputs": [],
   "source": [
    "plt.imshow(array, cmap='gray')"
   ]
  },
  {
   "cell_type": "code",
   "execution_count": null,
   "id": "b27fb94f",
   "metadata": {},
   "outputs": [],
   "source": [
    "plt.imshow(array_20, cmap='gray')"
   ]
  },
  {
   "cell_type": "code",
   "execution_count": null,
   "id": "4a58134b",
   "metadata": {
    "scrolled": false
   },
   "outputs": [],
   "source": [
    "plt.imshow(array_40, cmap='gray')"
   ]
  },
  {
   "cell_type": "markdown",
   "id": "ef661a23",
   "metadata": {},
   "source": [
    "### Lets get rid of the annoying nodata"
   ]
  },
  {
   "cell_type": "code",
   "execution_count": null,
   "id": "158387de",
   "metadata": {},
   "outputs": [],
   "source": [
    "array_40[array_40<=0]=-9999\n",
    "\n",
    "# Here is one that has ndv values for plotting\n",
    "array_40_ndv = np.copy(array_40)\n",
    "array_40_ndv[array_40_ndv<=0]=np.nan"
   ]
  },
  {
   "cell_type": "code",
   "execution_count": null,
   "id": "3e280662",
   "metadata": {
    "scrolled": true
   },
   "outputs": [],
   "source": [
    "plt.imshow(array_40, cmap='gray')"
   ]
  },
  {
   "cell_type": "code",
   "execution_count": null,
   "id": "3e02a8fb",
   "metadata": {},
   "outputs": [],
   "source": [
    "plt.imshow(array_40_ndv, cmap='gray')"
   ]
  },
  {
   "cell_type": "markdown",
   "id": "2a149e91",
   "metadata": {},
   "source": [
    "## Now for the trickier part. We need to give an imposter georeferencing"
   ]
  },
  {
   "cell_type": "code",
   "execution_count": null,
   "id": "648b4e7f",
   "metadata": {},
   "outputs": [],
   "source": [
    "So the array is rotated. We now need to give this raster a georeferencing "
   ]
  },
  {
   "cell_type": "markdown",
   "id": "b36e7dba",
   "metadata": {},
   "source": [
    "## Now lets manipulate these rasters using lsdtopotools"
   ]
  },
  {
   "cell_type": "code",
   "execution_count": null,
   "id": "9bc7dde6",
   "metadata": {},
   "outputs": [],
   "source": [
    "import lsdviztools.lsdbasemaptools as bmt\n",
    "from lsdviztools.lsdplottingtools import lsdmap_gdalio as gio\n",
    "import lsdviztools.lsdmapwrappers as lsdmw"
   ]
  },
  {
   "cell_type": "markdown",
   "id": "6e07593e",
   "metadata": {},
   "source": [
    "### A function for rotating and mapping rasters"
   ]
  },
  {
   "cell_type": "code",
   "execution_count": null,
   "id": "38e92902",
   "metadata": {},
   "outputs": [],
   "source": [
    "def array2raster_rotated(rasterfn,newRasterfn,driver_name = \"ENVI\", noDataValue = -9999,rotation=0):\n",
    "    \"\"\"Takes an array and writes to a GDAL compatible raster. It needs another raster to map the dimensions.\n",
    "    Args:\n",
    "        FileName (str): The filename (with path and extension) of a raster that has the same dimensions as the raster to be written.\n",
    "        newRasterfn (str): The filename (with path and extension) of the new raster.\n",
    "        driver_name (str): The type of raster to write. Default is ENVI since that is the LSDTOpoTools format\n",
    "        noDataValue (float): The no data value\n",
    "    Return:\n",
    "        np.array: A numpy array with the data from the raster.\n",
    "    Author: SMM\n",
    "    \"\"\"\n",
    "    import osgeo.gdal as gdal\n",
    "    import osgeo.gdal_array as gdal_array\n",
    "    from osgeo import osr\n",
    "    import numpy as np   \n",
    "    from scipy import ndimage, misc\n",
    "\n",
    "    raster = gdal.Open(rasterfn)\n",
    "    geotransform = raster.GetGeoTransform()\n",
    "    originX = geotransform[0]\n",
    "    originY = geotransform[3]\n",
    "    pixelWidth = geotransform[1]\n",
    "    pixelHeight = geotransform[5]\n",
    "    cols = raster.RasterXSize\n",
    "    rows = raster.RasterYSize\n",
    "    \n",
    "    YMax = originY+pixelHeight*rows\n",
    "    \n",
    "    print(\"The original raster details are:\")\n",
    "    print(\"xll: \"+str(originX))\n",
    "    print(\"yll: \"+str(originY))\n",
    "    print(\"ymax: \"+str(YMax))\n",
    "    print(\"dx: \" +str(pixelWidth))\n",
    "    print(\"dy: \" +str(pixelHeight))\n",
    "    print(\"cols: \" +str(cols))\n",
    "    print(\"rows: \" +str(cols))\n",
    "    \n",
    "    # Now we rotate the raster\n",
    "    raster_array = np.array(raster.GetRasterBand(1).ReadAsArray())\n",
    "    \n",
    "    # We can't deal with -9999 or nan, so we use small negative numebers to pad the DEM\n",
    "    raster_array[raster_array<=0]=-2\n",
    "    rotated_array = ndimage.rotate(raster_array, rotation)\n",
    "    #rotated_array = np.nan_to_num(rotated_array,nan=-9999)\n",
    "    rotated_array[rotated_array<=0]=-9999\n",
    "    \n",
    "    # get the shape of this raster:\n",
    "    raster_dim = rotated_array.shape\n",
    "    print(\"Raster dimensions are:\")\n",
    "    print(raster_dim)\n",
    "    new_rows = raster_dim[0]\n",
    "    new_cols = raster_dim[1]\n",
    "    \n",
    "    # We use the same corners\n",
    "    new_originX = originX\n",
    "    new_originY = originY\n",
    "    \n",
    "\n",
    "    driver = gdal.GetDriverByName(driver_name)\n",
    "    outRaster = driver.Create(newRasterfn, new_cols, new_rows, 1, gdal.GDT_Float32)\n",
    "    outRaster.SetGeoTransform((new_originX, pixelWidth, 0, new_originY, 0, pixelHeight))\n",
    "    outRaster.GetRasterBand(1).SetNoDataValue( noDataValue )\n",
    "    outband = outRaster.GetRasterBand(1)\n",
    "    outband.WriteArray(rotated_array)\n",
    "    outRasterSRS = osr.SpatialReference()\n",
    "    outRasterSRS.ImportFromWkt(raster.GetProjectionRef())\n",
    "    outRaster.SetProjection(outRasterSRS.ExportToWkt())\n",
    "    outband.FlushCache()\n",
    "    raster=None\n",
    "    outRaster=None\n",
    "\n",
    "    # Get the raster prefix\n",
    "    SplitRasterfile = newRasterfn.split(\".\")\n",
    "    RasterPrefix = \".\".join(SplitRasterfile[:-1])\n",
    "    hdrname = RasterPrefix+\".hdr\"\n",
    "    print(\"The raster prefix is: \"+RasterPrefix)\n",
    "\n",
    "    if driver_name == \"ENVI\":\n",
    "\n",
    "        with open(hdrname,\"a\") as f:\n",
    "            #print(\"Appending data div to \"+hdrname)\n",
    "            f.write('data ignore value = '+str(noDataValue)+\"\\n\")"
   ]
  },
  {
   "cell_type": "code",
   "execution_count": null,
   "id": "7811459b",
   "metadata": {},
   "outputs": [],
   "source": [
    "raster_in_fname = 'lg_conception_SRTM30_UTM.bil'\n",
    "raster_out_fname = 'lg_rotate9.bil'\n",
    "array2raster_rotated(raster_in_fname,raster_out_fname,rotation=40)"
   ]
  },
  {
   "cell_type": "code",
   "execution_count": null,
   "id": "edc425c8",
   "metadata": {},
   "outputs": [],
   "source": [
    "!ls"
   ]
  },
  {
   "cell_type": "markdown",
   "id": "db76ec14",
   "metadata": {},
   "source": [
    "## Lets look at the resulting rasters"
   ]
  },
  {
   "cell_type": "code",
   "execution_count": null,
   "id": "406be362",
   "metadata": {},
   "outputs": [],
   "source": [
    "import cartopy as cp\n",
    "import cartopy.crs as ccrs"
   ]
  },
  {
   "cell_type": "code",
   "execution_count": null,
   "id": "19142663",
   "metadata": {},
   "outputs": [],
   "source": [
    "DEMdata = rio.open('lg_conception_SRTM30_UTM.bil')\n",
    "bounds = DEMdata.bounds\n",
    "Extent = [bounds.left,bounds.right,bounds.bottom,bounds.top]\n",
    "array = DEMdata.read(1)\n",
    "DEMdata.crs"
   ]
  },
  {
   "cell_type": "code",
   "execution_count": null,
   "id": "a68d5918",
   "metadata": {},
   "outputs": [],
   "source": [
    "print(Extent)"
   ]
  },
  {
   "cell_type": "code",
   "execution_count": null,
   "id": "674fd337",
   "metadata": {},
   "outputs": [],
   "source": [
    "fig = plt.figure()\n",
    "ax = fig.add_subplot(1, 1, 1, projection=ccrs.UTM(10))\n",
    "# Limit the extent of the map to a small longitude/latitude range.\n",
    "ax.set_extent(Extent, crs=ccrs.UTM(10))\n",
    "#ax.coastlines()\n",
    "ax.gridlines(draw_labels=True, dms=True, x_inline=False, y_inline=False)\n",
    "#print('Projecting and plotting image (this may take a while)...')\n",
    "ax.imshow(array, extent=Extent, transform=ccrs.UTM(10), origin=\"upper\", cmap='terrain',alpha=0.5,zorder=2)\n",
    "fig.savefig(\"test.png\", dpi=300)"
   ]
  },
  {
   "cell_type": "markdown",
   "id": "92461716",
   "metadata": {},
   "source": [
    "now for the rotated"
   ]
  },
  {
   "cell_type": "code",
   "execution_count": null,
   "id": "dc6efe39",
   "metadata": {},
   "outputs": [],
   "source": [
    "DEMdata2 = rio.open('lg_rotate3.bil')\n",
    "bounds = DEMdata2.bounds\n",
    "Extent2 = [bounds.left,bounds.right,bounds.bottom,bounds.top]\n",
    "array2 = DEMdata2.read(1)\n",
    "DEMdata2.crs"
   ]
  },
  {
   "cell_type": "code",
   "execution_count": null,
   "id": "4fa4be43",
   "metadata": {},
   "outputs": [],
   "source": [
    "fig = plt.figure()\n",
    "ax = fig.add_subplot(1, 1, 1, projection=ccrs.UTM(10))\n",
    "# Limit the extent of the map to a small longitude/latitude range.\n",
    "ax.set_extent(Extent2, crs=ccrs.UTM(10))\n",
    "#ax.coastlines()\n",
    "ax.gridlines(draw_labels=True, dms=True, x_inline=False, y_inline=False)\n",
    "#print('Projecting and plotting image (this may take a while)...')\n",
    "ax.imshow(array2, extent=Extent, transform=ccrs.UTM(10), origin=\"upper\", cmap='terrain',alpha=0.5,zorder=2)\n",
    "fig.savefig(\"test.png\", dpi=300)"
   ]
  },
  {
   "cell_type": "markdown",
   "id": "356ed966",
   "metadata": {},
   "source": [
    "## Now lets get the drainage extraction and junction angles"
   ]
  },
  {
   "cell_type": "code",
   "execution_count": null,
   "id": "093d42db",
   "metadata": {},
   "outputs": [],
   "source": [
    "Dataset_prefix=\"lg_rotate9\" \n",
    "lsdtt_parameters = {\"write_hillshade\" : \"true\",\n",
    "                    \"print_junction_angles_to_csv\" : \"true\"}\n",
    "r_prefix = Dataset_prefix\n",
    "w_prefix = Dataset_prefix\n",
    "lsdtt_drive = lsdmw.lsdtt_driver(read_prefix = r_prefix,\n",
    "                                 write_prefix= w_prefix,\n",
    "                                 read_path = \"./\",\n",
    "                                 write_path = \"./\",\n",
    "                                 parameter_dictionary=lsdtt_parameters)\n",
    "lsdtt_drive.print_parameters()\n",
    "lsdtt_drive.run_lsdtt_command_line_tool()"
   ]
  },
  {
   "cell_type": "markdown",
   "id": "67e14f0d",
   "metadata": {},
   "source": [
    "## Rotate back into the original coordinates"
   ]
  },
  {
   "cell_type": "code",
   "execution_count": null,
   "id": "a5abd802",
   "metadata": {},
   "outputs": [],
   "source": [
    "import pandas as pd\n",
    "import geopandas as gpd"
   ]
  },
  {
   "cell_type": "code",
   "execution_count": null,
   "id": "56407e9c",
   "metadata": {},
   "outputs": [],
   "source": [
    "df = pd.read_csv(\"lg_rotate9_FULL_JAngles.csv\")"
   ]
  },
  {
   "cell_type": "code",
   "execution_count": null,
   "id": "f58b9120",
   "metadata": {},
   "outputs": [],
   "source": [
    "gdf = gpd.GeoDataFrame(\n",
    "    df, geometry=gpd.points_from_xy(df.longitude, df.latitude))\n",
    "gdf = gdf.set_crs(epsg=4326)\n",
    "gdf.head()"
   ]
  },
  {
   "cell_type": "markdown",
   "id": "1b3e307d",
   "metadata": {},
   "source": [
    "Now we get the locations in UTM (not these are on the rotated raster)"
   ]
  },
  {
   "cell_type": "code",
   "execution_count": null,
   "id": "8466307f",
   "metadata": {},
   "outputs": [],
   "source": [
    "gdf2 = gdf.to_crs(\"EPSG:32610\")\n",
    "gdf2.head()"
   ]
  },
  {
   "cell_type": "code",
   "execution_count": null,
   "id": "d8eb3fa7",
   "metadata": {},
   "outputs": [],
   "source": [
    "geo = gdf2.geometry\n",
    "print(geo)"
   ]
  },
  {
   "cell_type": "code",
   "execution_count": null,
   "id": "82b21696",
   "metadata": {},
   "outputs": [],
   "source": [
    "gdf2[\"geometry\"].apply(lambda p: p.x.rename(columns=\"x\"))"
   ]
  },
  {
   "cell_type": "code",
   "execution_count": null,
   "id": "b43f0c79",
   "metadata": {},
   "outputs": [],
   "source": [
    "gdf2['x'] = gdf2['geometry'].apply(lambda p: p.x)\n",
    "gdf2['y'] = gdf2['geometry'].apply(lambda p: p.y)\n",
    "gdf2.head()"
   ]
  },
  {
   "cell_type": "code",
   "execution_count": null,
   "id": "293c2f4a",
   "metadata": {},
   "outputs": [],
   "source": []
  }
 ],
 "metadata": {
  "kernelspec": {
   "display_name": "Python 3 (ipykernel)",
   "language": "python",
   "name": "python3"
  },
  "language_info": {
   "codemirror_mode": {
    "name": "ipython",
    "version": 3
   },
   "file_extension": ".py",
   "mimetype": "text/x-python",
   "name": "python",
   "nbconvert_exporter": "python",
   "pygments_lexer": "ipython3",
   "version": "3.8.10"
  }
 },
 "nbformat": 4,
 "nbformat_minor": 5
}
