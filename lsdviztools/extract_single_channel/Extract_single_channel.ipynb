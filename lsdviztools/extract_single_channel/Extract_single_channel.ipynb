{
 "cells": [
  {
   "cell_type": "markdown",
   "metadata": {},
   "source": [
    "# Extracting a single channel"
   ]
  },
  {
   "cell_type": "markdown",
   "metadata": {},
   "source": [
    "Import the various 'lsdviztools' and 'lsdttparamselector' modules."
   ]
  },
  {
   "cell_type": "code",
   "execution_count": null,
   "metadata": {},
   "outputs": [],
   "source": [
    "import lsdviztools.lsdbasemaptools as bmt\n",
    "from lsdviztools.lsdplottingtools import lsdmap_gdalio as gio\n",
    "import lsdviztools.lsdmapwrappers as lsdmw"
   ]
  },
  {
   "cell_type": "markdown",
   "metadata": {},
   "source": [
    "## Get the DEM"
   ]
  },
  {
   "cell_type": "markdown",
   "metadata": {},
   "source": [
    "Grab the DEM from opentopography.org"
   ]
  },
  {
   "cell_type": "code",
   "execution_count": null,
   "metadata": {},
   "outputs": [],
   "source": [
    "SB_DEM = bmt.ot_scraper(source = \"SRTM30\",longitude_W = -120.464655, longitude_E = -120.254214, latitude_S = 34.440538, latitude_N = 34.610770,prefix = \"CP\")\n",
    "SB_DEM.print_parameters()"
   ]
  },
  {
   "cell_type": "code",
   "execution_count": null,
   "metadata": {},
   "outputs": [],
   "source": [
    "fullfname,DataDirectory,RasterFile = SB_DEM.download_pythonic()"
   ]
  },
  {
   "cell_type": "code",
   "execution_count": null,
   "metadata": {},
   "outputs": [],
   "source": [
    "print(fullfname,DataDirectory,RasterFile)"
   ]
  },
  {
   "cell_type": "code",
   "execution_count": null,
   "metadata": {},
   "outputs": [],
   "source": [
    "fullfname = \"./CP_SRTM30.tif\"\n",
    "DataDirectory= \"./\"\n",
    "RasterFile = \"CP_SRTM30.tif\""
   ]
  },
  {
   "cell_type": "markdown",
   "metadata": {},
   "source": [
    "Convert to UTM coordinates and ENVI bil format for *LSDTopoTools*"
   ]
  },
  {
   "cell_type": "code",
   "execution_count": null,
   "metadata": {},
   "outputs": [],
   "source": [
    "raster_bil_name = gio.convert4lsdtt(DataDirectory, RasterFile,minimum_elevation=0.01)\n",
    "print(raster_bil_name)"
   ]
  },
  {
   "cell_type": "markdown",
   "metadata": {},
   "source": [
    "# Get the point from which to extract the channel"
   ]
  },
  {
   "cell_type": "code",
   "execution_count": null,
   "metadata": {},
   "outputs": [],
   "source": [
    "import pandas as pd"
   ]
  },
  {
   "cell_type": "code",
   "execution_count": null,
   "metadata": {},
   "outputs": [],
   "source": [
    "d = {'id': [0], 'latitude': [34.550732], 'longitude': [-120.287266]}\n",
    "df = pd.DataFrame(data=d)"
   ]
  },
  {
   "cell_type": "markdown",
   "metadata": {},
   "source": [
    "Print this to a csv file"
   ]
  },
  {
   "cell_type": "code",
   "execution_count": null,
   "metadata": {},
   "outputs": [],
   "source": [
    "df.to_csv(\"channel_source.csv\",index=False)"
   ]
  },
  {
   "cell_type": "markdown",
   "metadata": {},
   "source": [
    "# Set up parameters for an *lsdtopotools* run"
   ]
  },
  {
   "cell_type": "code",
   "execution_count": null,
   "metadata": {},
   "outputs": [],
   "source": [
    "lsdtt_parameters = {\"write_hillshade\" : \"true\", \n",
    "                    \"extract_single_channel\" : \"true\", \n",
    "                    \"channel_source_fname\" : \"channel_source.csv\", \n",
    "                    \"print_dinf_drainage_area_raster\" : \"true\",\n",
    "                    \"convert_csv_to_geojson\" : \"true\"}"
   ]
  },
  {
   "cell_type": "markdown",
   "metadata": {},
   "source": [
    "Create a driver object"
   ]
  },
  {
   "cell_type": "code",
   "execution_count": null,
   "metadata": {},
   "outputs": [],
   "source": [
    "lsdtt_drive = lsdmw.lsdtt_driver(read_prefix = \"CP_SRTM30_UTM\",\n",
    "                                 write_prefix= \"CP_SRTM30_UTM\",\n",
    "                                 parameter_dictionary=lsdtt_parameters)\n",
    "lsdtt_drive.print_parameters()"
   ]
  },
  {
   "cell_type": "markdown",
   "metadata": {},
   "source": [
    "Run *lsdtopotools*"
   ]
  },
  {
   "cell_type": "code",
   "execution_count": null,
   "metadata": {},
   "outputs": [],
   "source": [
    "lsdtt_drive.run_lsdtt_command_line_tool()"
   ]
  },
  {
   "cell_type": "markdown",
   "metadata": {},
   "source": [
    "## Look at the point data"
   ]
  },
  {
   "cell_type": "code",
   "execution_count": 1,
   "metadata": {},
   "outputs": [],
   "source": [
    "from lsdviztools.lsdplottingtools import lsdmap_pointtools as lsdpt"
   ]
  },
  {
   "cell_type": "code",
   "execution_count": 2,
   "metadata": {},
   "outputs": [
    {
     "name": "stdout",
     "output_type": "stream",
     "text": [
      "I did not find a valid separator. I am assuming the path is ./\n",
      "The object file prefix is: single_channel_nodes\n",
      "Loading your file from csv\n",
      "done\n"
     ]
    }
   ],
   "source": [
    "point_data_name = \"single_channel_nodes.csv\"\n",
    "pointdata = lsdpt.LSDMap_PointData(point_data_name)"
   ]
  },
  {
   "cell_type": "markdown",
   "metadata": {},
   "source": [
    "Lets get some information from this file"
   ]
  },
  {
   "cell_type": "code",
   "execution_count": 3,
   "metadata": {},
   "outputs": [
    {
     "data": {
      "text/plain": [
       "['id',\n",
       " 'row',\n",
       " 'column',\n",
       " 'latitude',\n",
       " 'longitude',\n",
       " 'x',\n",
       " 'y',\n",
       " 'flow distance(m)',\n",
       " 'drainage area (m^2)',\n",
       " 'elevation(m)']"
      ]
     },
     "execution_count": 3,
     "metadata": {},
     "output_type": "execute_result"
    }
   ],
   "source": [
    "pointdata.GetParameterNames()"
   ]
  },
  {
   "cell_type": "markdown",
   "metadata": {},
   "source": [
    "Get the flow distance and elevation "
   ]
  },
  {
   "cell_type": "code",
   "execution_count": 9,
   "metadata": {},
   "outputs": [],
   "source": [
    "fd = pointdata.QueryData(\"flow distance(m)\")\n",
    "z =  pointdata.QueryData(\"elevation(m)\")\n",
    "da = pointdata.QueryData(\"drainage area (m^2)\")"
   ]
  },
  {
   "cell_type": "markdown",
   "metadata": {},
   "source": [
    "Scale a logarithmic version of drainage area for point scaling"
   ]
  },
  {
   "cell_type": "code",
   "execution_count": 11,
   "metadata": {},
   "outputs": [],
   "source": [
    "import numpy as np"
   ]
  },
  {
   "cell_type": "code",
   "execution_count": 13,
   "metadata": {},
   "outputs": [],
   "source": [
    "da = np.asarray(da)\n",
    "logda = np.log(da)"
   ]
  },
  {
   "cell_type": "code",
   "execution_count": 34,
   "metadata": {},
   "outputs": [],
   "source": [
    "damin = np.min(logda)\n",
    "damax = np.max(logda)\n",
    "logda = np.subtract(logda,damin)\n",
    "logda = np.divide(logda,(damax-damin))\n",
    "logda = np.multiply(logda,50)\n",
    "logda = np.add(logda,2)"
   ]
  },
  {
   "cell_type": "code",
   "execution_count": 7,
   "metadata": {},
   "outputs": [],
   "source": [
    "import matplotlib.pyplot as plt"
   ]
  },
  {
   "cell_type": "code",
   "execution_count": 36,
   "metadata": {},
   "outputs": [
    {
     "data": {
      "image/png": "[encoded data removed]",
      "text/plain": [
       "<Figure size 432x288 with 1 Axes>"
      ]
     },
     "metadata": {
      "needs_background": "light"
     },
     "output_type": "display_data"
    }
   ],
   "source": [
    "%matplotlib inline\n",
    "\n",
    "fig, ax = plt.subplots()\n",
    "ax.scatter(fd, z, c=da, s=logda, alpha=0.5)\n",
    "\n",
    "ax.set_xlabel(r'Flow distance (m)', fontsize=15)\n",
    "ax.set_ylabel(r'Elevation (m)', fontsize=15)\n",
    "ax.set_title('Points sized by drainage area')\n",
    "\n",
    "ax.grid(True)\n",
    "fig.tight_layout()\n",
    "\n",
    "plt.show()"
   ]
  },
  {
   "cell_type": "markdown",
   "metadata": {},
   "source": [
    "Now remove points below 150 m elevation"
   ]
  },
  {
   "cell_type": "code",
   "execution_count": 42,
   "metadata": {},
   "outputs": [
    {
     "name": "stdout",
     "output_type": "stream",
     "text": [
      "I am selecting your data for specific elevation(m)\n"
     ]
    }
   ],
   "source": [
    "pointdata2 = pointdata\n",
    "pointdata2.selectValue(\"elevation(m)\",value = 149.999, operator=\">\")"
   ]
  },
  {
   "cell_type": "code",
   "execution_count": 43,
   "metadata": {},
   "outputs": [],
   "source": [
    "fd = pointdata2.QueryData(\"flow distance(m)\")\n",
    "z =  pointdata2.QueryData(\"elevation(m)\")\n",
    "da = pointdata2.QueryData(\"drainage area (m^2)\")"
   ]
  },
  {
   "cell_type": "code",
   "execution_count": 44,
   "metadata": {},
   "outputs": [],
   "source": [
    "da = np.asarray(da)\n",
    "logda = np.log(da)\n",
    "damin = np.min(logda)\n",
    "damax = np.max(logda)\n",
    "logda = np.subtract(logda,damin)\n",
    "logda = np.divide(logda,(damax-damin))\n",
    "logda = np.multiply(logda,50)\n",
    "logda = np.add(logda,2)"
   ]
  },
  {
   "cell_type": "code",
   "execution_count": 45,
   "metadata": {},
   "outputs": [
    {
     "data": {
      "image/png": "[encoded data removed]",
      "text/plain": [
       "<Figure size 432x288 with 1 Axes>"
      ]
     },
     "metadata": {
      "needs_background": "light"
     },
     "output_type": "display_data"
    }
   ],
   "source": [
    "fig, ax = plt.subplots()\n",
    "ax.scatter(fd, z, c=da, s=logda, alpha=0.5)\n",
    "\n",
    "ax.set_xlabel(r'Flow distance (m)', fontsize=15)\n",
    "ax.set_ylabel(r'Elevation (m)', fontsize=15)\n",
    "ax.set_title('Points sized by drainage area')\n",
    "\n",
    "ax.grid(True)\n",
    "fig.tight_layout()\n",
    "\n",
    "plt.show()"
   ]
  },
  {
   "cell_type": "code",
   "execution_count": null,
   "metadata": {},
   "outputs": [],
   "source": []
  }
 ],
 "metadata": {
  "kernelspec": {
   "display_name": "Python 3",
   "language": "python",
   "name": "python3"
  },
  "language_info": {
   "codemirror_mode": {
    "name": "ipython",
    "version": 3
   },
   "file_extension": ".py",
   "mimetype": "text/x-python",
   "name": "python",
   "nbconvert_exporter": "python",
   "pygments_lexer": "ipython3",
   "version": "3.8.3"
  }
 },
 "nbformat": 4,
 "nbformat_minor": 4
}
