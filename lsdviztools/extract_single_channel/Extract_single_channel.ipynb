{
 "cells": [
  {
   "cell_type": "markdown",
   "metadata": {},
   "source": [
    "# Extracting a single channel"
   ]
  },
  {
   "cell_type": "markdown",
   "metadata": {},
   "source": [
    "Import the various 'lsdviztools' and 'lsdttparamselector' modules."
   ]
  },
  {
   "cell_type": "code",
   "execution_count": 1,
   "metadata": {},
   "outputs": [],
   "source": [
    "import lsdviztools.lsdbasemaptools as bmt\n",
    "from lsdviztools.lsdplottingtools import lsdmap_gdalio as gio\n",
    "import lsdviztools.lsdmapwrappers as lsdmw"
   ]
  },
  {
   "cell_type": "markdown",
   "metadata": {},
   "source": [
    "## Get the DEM"
   ]
  },
  {
   "cell_type": "markdown",
   "metadata": {},
   "source": [
    "Grab the DEM from opentopography.org"
   ]
  },
  {
   "cell_type": "code",
   "execution_count": 2,
   "metadata": {},
   "outputs": [
    {
     "name": "stdout",
     "output_type": "stream",
     "text": [
      "The source is: SRTM30\n",
      "The west longitude is: -120.464655\n",
      "The east longitude is: -120.254214\n",
      "The south latitude is: 34.61077\n",
      "The north latitude is: 34.440538\n",
      "The path is: ./\n",
      "The prefix is: CP\n"
     ]
    }
   ],
   "source": [
    "SB_DEM = bmt.ot_scraper(source = \"SRTM30\",longitude_W = -120.464655, longitude_E = -120.254214, latitude_S = 34.440538, latitude_N = 34.610770,prefix = \"CP\")\n",
    "SB_DEM.print_parameters()"
   ]
  },
  {
   "cell_type": "code",
   "execution_count": 3,
   "metadata": {},
   "outputs": [
    {
     "name": "stdout",
     "output_type": "stream",
     "text": [
      "I am going to download the following for you:\n",
      "https://portal.opentopography.org/otr/getdem?demtype=SRTMGL1&south=34.440538&north=34.61077&west=-120.464655&east=-120.254214&outputFormat=GTiff\n",
      "This might take a little while, depending on the size of the file. \n",
      "Finished downloading\n"
     ]
    }
   ],
   "source": [
    "SB_DEM.download_pythonic()"
   ]
  },
  {
   "cell_type": "markdown",
   "metadata": {},
   "source": [
    "Convert to UTM coordinates and ENVI bil format for *LSDTopoTools*"
   ]
  },
  {
   "cell_type": "code",
   "execution_count": 4,
   "metadata": {},
   "outputs": [
    {
     "name": "stdout",
     "output_type": "stream",
     "text": [
      "The projections is:\n",
      "GEOGCS[\"WGS 84\",DATUM[\"WGS_1984\",SPHEROID[\"WGS 84\",6378137,298.257223563,AUTHORITY[\"EPSG\",\"7030\"]],AUTHORITY[\"EPSG\",\"6326\"]],PRIMEM[\"Greenwich\",0],UNIT[\"degree\",0.0174532925199433,AUTHORITY[\"EPSG\",\"9122\"]],AXIS[\"Latitude\",NORTH],AXIS[\"Longitude\",EAST],AUTHORITY[\"EPSG\",\"4326\"]]\n",
      "And some extra projection information strings:\n",
      "None\n",
      "WGS 84\n",
      "{'driver': 'GTiff', 'dtype': 'int16', 'nodata': -32768.0, 'width': 758, 'height': 613, 'count': 1, 'crs': CRS.from_epsg(4326), 'transform': Affine(0.0002777777777778146, 0.0, -120.46486111110323,\n",
      "       0.0, -0.0002777777777778146, 34.61097222221886)}\n",
      "res tuple is:\n",
      "(30.0, 30.0)\n",
      "The destination CRS is: EPSG:32610\n",
      "{'driver': 'GTiff', 'dtype': 'int16', 'nodata': -32768.0, 'width': 661, 'height': 647, 'count': 1, 'crs': CRS.from_epsg(32610), 'transform': Affine(30.0, 0.0, 732452.2754693646,\n",
      "       0.0, -30.0, 3833330.7356094)}\n",
      "Removing pixels with an elevation less than 0\n"
     ]
    }
   ],
   "source": [
    "SB_DEM.to_UTM_pythonic()\n",
    "RasterFile = \"CP_SRTM30_UTM.tif\"\n",
    "DataDirectory = \"./\"\n",
    "gio.convert2bil(DataDirectory, RasterFile,minimum_elevation=0)"
   ]
  },
  {
   "cell_type": "markdown",
   "metadata": {},
   "source": [
    "# Get the point from which to extract the channel"
   ]
  },
  {
   "cell_type": "code",
   "execution_count": 5,
   "metadata": {},
   "outputs": [],
   "source": [
    "import pandas as pd"
   ]
  },
  {
   "cell_type": "code",
   "execution_count": 6,
   "metadata": {},
   "outputs": [],
   "source": [
    "d = {'id': [0], 'latitude': [34.550732], 'longitude': [-120.287266]}\n",
    "df = pd.DataFrame(data=d)"
   ]
  },
  {
   "cell_type": "markdown",
   "metadata": {},
   "source": [
    "Print this to a csv file"
   ]
  },
  {
   "cell_type": "code",
   "execution_count": 7,
   "metadata": {},
   "outputs": [],
   "source": [
    "df.to_csv(\"channel_source.csv\",index=False)"
   ]
  },
  {
   "cell_type": "markdown",
   "metadata": {},
   "source": [
    "# Set up parameters for an *lsdtopotools* run"
   ]
  },
  {
   "cell_type": "code",
   "execution_count": 8,
   "metadata": {},
   "outputs": [],
   "source": [
    "lsdtt_parameters = {\"write_hillshade\" : \"true\", \n",
    "                    \"extract_single_channel\" : \"true\", \n",
    "                    \"channel_source_fname\" : \"channel_source.csv\", \n",
    "                    \"print_dinf_drainage_area_raster\" : \"true\",\n",
    "                    \"convert_csv_to_geojson\" : \"true\"}"
   ]
  },
  {
   "cell_type": "markdown",
   "metadata": {},
   "source": [
    "Create a driver object"
   ]
  },
  {
   "cell_type": "code",
   "execution_count": 9,
   "metadata": {},
   "outputs": [
    {
     "name": "stdout",
     "output_type": "stream",
     "text": [
      "The command line tool is: lsdtt-basic-metrics\n",
      "The driver name is: Test_01\n",
      "The read path is: ./\n",
      "The write path is: ./\n",
      "The read prefix is: CP_SRTM30_UTM\n",
      "The write prefix is: CP_SRTM30_UTM\n",
      "The parameter dictionary is:\n",
      "{'write_hillshade': 'true', 'extract_single_channel': 'true', 'channel_source_fname': 'channel_source.csv', 'print_dinf_drainage_area_raster': 'true', 'convert_csv_to_geojson': 'true'}\n"
     ]
    }
   ],
   "source": [
    "lsdtt_drive = lsdmw.lsdtt_driver(read_prefix = \"CP_SRTM30_UTM\",\n",
    "                                 write_prefix= \"CP_SRTM30_UTM\",\n",
    "                                 parameter_dictionary=lsdtt_parameters)\n",
    "lsdtt_drive.print_parameters()"
   ]
  },
  {
   "cell_type": "markdown",
   "metadata": {},
   "source": [
    "Run *lsdtopotools*"
   ]
  },
  {
   "cell_type": "code",
   "execution_count": 10,
   "metadata": {},
   "outputs": [
    {
     "name": "stdout",
     "output_type": "stream",
     "text": [
      "Done writing the driver file\n",
      "I've finised writing the driver file. Let me run LSDTT for you.\n"
     ]
    }
   ],
   "source": [
    "lsdtt_drive.run_lsdtt_command_line_tool()"
   ]
  },
  {
   "cell_type": "code",
   "execution_count": null,
   "metadata": {},
   "outputs": [],
   "source": []
  }
 ],
 "metadata": {
  "kernelspec": {
   "display_name": "Python 3",
   "language": "python",
   "name": "python3"
  },
  "language_info": {
   "codemirror_mode": {
    "name": "ipython",
    "version": 3
   },
   "file_extension": ".py",
   "mimetype": "text/x-python",
   "name": "python",
   "nbconvert_exporter": "python",
   "pygments_lexer": "ipython3",
   "version": "3.8.3"
  }
 },
 "nbformat": 4,
 "nbformat_minor": 4
}
