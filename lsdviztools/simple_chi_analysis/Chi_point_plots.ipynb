{
 "cells": [
  {
   "cell_type": "markdown",
   "metadata": {},
   "source": [
    "## Part 4: Plotting the data"
   ]
  },
  {
   "cell_type": "code",
   "execution_count": 1,
   "metadata": {},
   "outputs": [],
   "source": [
    "import lsdviztools.lsdbasemaptools as bmt\n",
    "from lsdviztools.lsdplottingtools import lsdmap_gdalio as gio\n",
    "import lsdviztools.lsdmapwrappers as lsdmw"
   ]
  },
  {
   "cell_type": "code",
   "execution_count": 2,
   "metadata": {},
   "outputs": [],
   "source": [
    "# %matplotlib notebook\n",
    "DataDirectory = \"./\"\n",
    "Base_file = \"shillong_SRTM30_UTM\"  "
   ]
  },
  {
   "cell_type": "code",
   "execution_count": null,
   "metadata": {},
   "outputs": [],
   "source": [
    "fig = lsdmw.SimpleHillshade(DataDirectory,Base_file,cmap=\"gist_earth\", save_fig=False)"
   ]
  },
  {
   "cell_type": "code",
   "execution_count": null,
   "metadata": {},
   "outputs": [],
   "source": [
    "%matplotlib notebook"
   ]
  },
  {
   "cell_type": "code",
   "execution_count": null,
   "metadata": {},
   "outputs": [],
   "source": [
    "fig"
   ]
  },
  {
   "cell_type": "code",
   "execution_count": null,
   "metadata": {},
   "outputs": [],
   "source": [
    "ChannelFileName = \"shillong_SRTM30_UTM_chi_data_map.csv\"\n",
    "channel_img = lsdmw.PrintChannels(DataDirectory,Base_file,ChannelFileName, \n",
    "                               cmap = \"gist_earth\",\n",
    "                               size_format = \"geomorphology\", dpi = 300, \n",
    "                               plotting_column = \"basin_key\", save_fig = False)"
   ]
  },
  {
   "cell_type": "code",
   "execution_count": null,
   "metadata": {},
   "outputs": [],
   "source": [
    "channel_img"
   ]
  },
  {
   "cell_type": "code",
   "execution_count": null,
   "metadata": {},
   "outputs": [],
   "source": [
    "fig"
   ]
  },
  {
   "cell_type": "code",
   "execution_count": null,
   "metadata": {},
   "outputs": [],
   "source": [
    "channel_img_name = lsdmw.PrintChannels(DataDirectory,Base_file,ChannelFileName, \n",
    "                               cmap = \"gist_earth\",\n",
    "                               size_format = \"geomorphology\", dpi = 300, \n",
    "                               plotting_column = \"basin_key\", save_fig = True)"
   ]
  },
  {
   "cell_type": "code",
   "execution_count": null,
   "metadata": {},
   "outputs": [],
   "source": [
    "channel_img_name"
   ]
  },
  {
   "cell_type": "markdown",
   "metadata": {},
   "source": [
    "<img src=\"shillong_SRTM30_UTM_channels_coloured_by_basin.png\" width=800>"
   ]
  },
  {
   "cell_type": "markdown",
   "metadata": {},
   "source": [
    "# Working with the point data"
   ]
  },
  {
   "cell_type": "markdown",
   "metadata": {},
   "source": [
    "LSDTopoTools outputs point data as csv files, which can be read into geopandas dataframes. You can then use these for plotting."
   ]
  },
  {
   "cell_type": "code",
   "execution_count": 8,
   "metadata": {},
   "outputs": [],
   "source": [
    "import pandas as pd\n",
    "import geopandas as gpd\n",
    "import numpy as np"
   ]
  },
  {
   "cell_type": "code",
   "execution_count": 3,
   "metadata": {},
   "outputs": [],
   "source": [
    "DataDirectory = \"./\"\n",
    "Base_file = \"shillong_SRTM30_UTM\"  \n",
    "ChannelFileName = Base_file+\"_chi_data_map.csv\"\n",
    "chi_csv_fname = DataDirectory+ChannelFileName\n",
    "df = pd.read_csv(chi_csv_fname)"
   ]
  },
  {
   "cell_type": "markdown",
   "metadata": {},
   "source": [
    "The csv file has latitude and longitude coordinates, so we can use these to register the geometry with a `geopandas` dataframe, and we can also set the coordinate reference system (`set_crs`). The `latitude` and `longitude` data produced by `lsdtopotools` is always in `epsg=4326`."
   ]
  },
  {
   "cell_type": "code",
   "execution_count": 4,
   "metadata": {},
   "outputs": [
    {
     "name": "stdout",
     "output_type": "stream",
     "text": [
      "    latitude  longitude     chi  elevation  flow_distance  drainage_area  \\\n",
      "0  25.520114  91.901374  11.611     1778.0       113110.0       905400.0   \n",
      "1  25.519843  91.901377  11.580     1777.0       113080.0       912600.0   \n",
      "2  25.519574  91.901678  11.535     1777.0       113040.0       942300.0   \n",
      "3  25.519301  91.901382  11.491     1777.0       113000.0       950400.0   \n",
      "4  25.519030  91.901384  11.461     1777.0       112970.0       952200.0   \n",
      "\n",
      "   source_key  basin_key                   geometry  \n",
      "0           0          0  POINT (91.90137 25.52011)  \n",
      "1           0          0  POINT (91.90138 25.51984)  \n",
      "2           0          0  POINT (91.90168 25.51957)  \n",
      "3           0          0  POINT (91.90138 25.51930)  \n",
      "4           0          0  POINT (91.90138 25.51903)  \n"
     ]
    }
   ],
   "source": [
    "gdf = gpd.GeoDataFrame(\n",
    "    df, geometry=gpd.points_from_xy(df.longitude, df.latitude))\n",
    "gdf = gdf.set_crs(epsg=4326)\n",
    "print(gdf.head())"
   ]
  },
  {
   "cell_type": "markdown",
   "metadata": {},
   "source": [
    "So after some experimenting, it turns out that the plotting functions are not very happy if you don't keep everything in the same coordinate system. So I need to transform the geopandas dataframe to the correct UTM coordinate system. You will probably need to make sure your rasters and your dataframes are alyways in the same coordinate system."
   ]
  },
  {
   "cell_type": "code",
   "execution_count": 5,
   "metadata": {},
   "outputs": [],
   "source": [
    "gdf2 = gdf.to_crs(\"EPSG:32646\")"
   ]
  },
  {
   "cell_type": "markdown",
   "metadata": {},
   "source": [
    "Before we plot these, I want to make a scaling function that sets the marker size as a function of drainage area. But I need to scale the marker sizes. I use a scaling with the log (base 10) of the drainage area:"
   ]
  },
  {
   "cell_type": "code",
   "execution_count": 6,
   "metadata": {},
   "outputs": [],
   "source": [
    "def log_value_scaler(vals, min_scale = 0.5, max_scale = 6):\n",
    "    logvals = np.log10(vals)\n",
    "    minval = np.min(logvals)\n",
    "    maxval = np.max(logvals)\n",
    "    newvals  = np.subtract(logvals,minval)\n",
    "    newvals = np.divide(newvals,(maxval-minval))\n",
    "    newvals = np.multiply(newvals,max_scale-min_scale)\n",
    "    newvals = np.add(newvals,min_scale)\n",
    "    return newvals"
   ]
  },
  {
   "cell_type": "code",
   "execution_count": 9,
   "metadata": {},
   "outputs": [
    {
     "name": "stdout",
     "output_type": "stream",
     "text": [
      "    latitude  longitude     chi  elevation  flow_distance  drainage_area  \\\n",
      "0  25.520114  91.901374  11.611     1778.0       113110.0       905400.0   \n",
      "1  25.519843  91.901377  11.580     1777.0       113080.0       912600.0   \n",
      "2  25.519574  91.901678  11.535     1777.0       113040.0       942300.0   \n",
      "3  25.519301  91.901382  11.491     1777.0       113000.0       950400.0   \n",
      "4  25.519030  91.901384  11.461     1777.0       112970.0       952200.0   \n",
      "\n",
      "   source_key  basin_key                        geometry  scaled_area  \n",
      "0           0          0  POINT (389604.973 2822997.254)     0.503067  \n",
      "1           0          0  POINT (389604.967 2822967.250)     0.507128  \n",
      "2           0          0  POINT (389634.969 2822937.253)     0.523549  \n",
      "3           0          0  POINT (389604.974 2822907.253)     0.527937  \n",
      "4           0          0  POINT (389604.967 2822877.249)     0.528907  \n"
     ]
    }
   ],
   "source": [
    "logv = log_value_scaler(gdf2.drainage_area,min_scale=0.5, max_scale = 4)\n",
    "gdf2[\"scaled_area\"] = logv\n",
    "print(gdf2.head())"
   ]
  },
  {
   "cell_type": "markdown",
   "metadata": {},
   "source": [
    "Okay, lets plot a single basin, with the drainage area (selected by the scaled area) thinned."
   ]
  },
  {
   "cell_type": "code",
   "execution_count": 18,
   "metadata": {},
   "outputs": [
    {
     "name": "stdout",
     "output_type": "stream",
     "text": [
      "      latitude  longitude     chi  elevation  flow_distance  drainage_area  \\\n",
      "102  25.518395  91.925272  9.0592     1676.0       109190.0      7509600.0   \n",
      "103  25.518397  91.925571  9.0482     1675.0       109160.0      7516800.0   \n",
      "104  25.518399  91.925869  9.0373     1675.0       109130.0      7523100.0   \n",
      "105  25.518672  91.926165  9.0218     1675.0       109090.0      7526700.0   \n",
      "106  25.518945  91.926461  9.0063     1675.0       109050.0      7559100.0   \n",
      "\n",
      "     source_key  basin_key                        geometry  scaled_area  \n",
      "102           0          0  POINT (392004.968 2822787.251)     1.587761  \n",
      "103           0          0  POINT (392034.967 2822787.253)     1.588252  \n",
      "104           0          0  POINT (392064.966 2822787.254)     1.588682  \n",
      "105           0          0  POINT (392094.966 2822817.248)     1.588927  \n",
      "106           0          0  POINT (392124.966 2822847.253)     1.591129  \n"
     ]
    }
   ],
   "source": [
    "gdf_b1 = gdf2[(gdf2['basin_key'] == 0) & (gdf2['scaled_area'] > 1.5)]\n",
    "print(gdf_b1.head())"
   ]
  },
  {
   "cell_type": "code",
   "execution_count": 35,
   "metadata": {},
   "outputs": [
    {
     "data": {
      "image/png": "[encoded data removed]",
      "text/plain": [
       "<Figure size 576x288 with 2 Axes>"
      ]
     },
     "metadata": {
      "needs_background": "light"
     },
     "output_type": "display_data"
    }
   ],
   "source": [
    "import matplotlib.pyplot as plt\n",
    "\n",
    "fig = plt.figure(figsize = (8,4))\n",
    "ax = fig.add_subplot(1, 1, 1)\n",
    "scat = ax.scatter(gdf_b1.chi,gdf_b1.elevation,c=gdf_b1.flow_distance,s=gdf_b1['scaled_area'])\n",
    "cb = fig.colorbar(scat,)\n",
    "cb.set_label(label=\"Flow distance (m)\",size=16)\n",
    "\n",
    "plt.text(0.5, 1800, \"Chi plot, Basin 0\", size=14,\n",
    "         ha=\"left\", va=\"top\",\n",
    "         bbox=dict(boxstyle=\"square\",\n",
    "                   ec=(0., 0., 0.),\n",
    "                   fc=(1., 1.0, 1.0),\n",
    "                   )\n",
    "        )\n",
    "\n",
    "plt.xlabel(r\"$\\chi$ (m)\",size=20)\n",
    "plt.ylabel(\"Elevation (m)\",size=20)\n",
    "ax.set_ylim(0,2000)\n",
    "fig.show()"
   ]
  },
  {
   "cell_type": "code",
   "execution_count": null,
   "metadata": {},
   "outputs": [],
   "source": []
  }
 ],
 "metadata": {
  "kernelspec": {
   "display_name": "Python 3",
   "language": "python",
   "name": "python3"
  },
  "language_info": {
   "codemirror_mode": {
    "name": "ipython",
    "version": 3
   },
   "file_extension": ".py",
   "mimetype": "text/x-python",
   "name": "python",
   "nbconvert_exporter": "python",
   "pygments_lexer": "ipython3",
   "version": "3.8.3"
  }
 },
 "nbformat": 4,
 "nbformat_minor": 4
}
