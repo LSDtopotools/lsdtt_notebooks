{
 "cells": [
  {
   "cell_type": "markdown",
   "metadata": {},
   "source": [
    "# A simple chi analysis"
   ]
  },
  {
   "cell_type": "markdown",
   "metadata": {},
   "source": [
    "In this example we will grab some data for a simple chi analysis. First, import the relevent modules. "
   ]
  },
  {
   "cell_type": "code",
   "execution_count": 3,
   "metadata": {},
   "outputs": [],
   "source": [
    "import lsdviztools.lsdbasemaptools as bmt\n",
    "from lsdviztools.lsdplottingtools import lsdmap_gdalio as gio\n",
    "import lsdviztools.lsdmapwrappers as lsdmw"
   ]
  },
  {
   "cell_type": "markdown",
   "metadata": {},
   "source": [
    "## Part 1: Grab some data"
   ]
  },
  {
   "cell_type": "markdown",
   "metadata": {},
   "source": [
    "We will grab some data from the Shillong Plateau in India. I use google maps to get the latitude and longitude of the southwest and northeast corners. Once you give the `ot_scraper` the corners and the type of data to download (in this case SRTM30 data), you can move on to downloading."
   ]
  },
  {
   "cell_type": "code",
   "execution_count": null,
   "metadata": {},
   "outputs": [],
   "source": [
    "SH_DEM = bmt.ot_scraper(source = \"SRTM30\",\n",
    "                        longitude_W = 91.271109, \n",
    "                        longitude_E = 92.214265, \n",
    "                        latitude_S = 25.107807, \n",
    "                        latitude_N = 25.627673,\n",
    "                        prefix = \"shillong\")\n",
    "SH_DEM.print_parameters()"
   ]
  },
  {
   "cell_type": "markdown",
   "metadata": {},
   "source": [
    "Now call the download. You need to wait until the `*` symbol dissappears from the right of the line (when it stops saying `In[*]`), that indicates the download has finished. "
   ]
  },
  {
   "cell_type": "code",
   "execution_count": null,
   "metadata": {},
   "outputs": [],
   "source": [
    "SH_DEM.download_pythonic()"
   ]
  },
  {
   "cell_type": "markdown",
   "metadata": {},
   "source": [
    "Okay, now we need to do two things. First, we need to convert to UTM. Then we need to convert to ENVI bil format. "
   ]
  },
  {
   "cell_type": "code",
   "execution_count": null,
   "metadata": {},
   "outputs": [],
   "source": [
    "SH_DEM.to_UTM_pythonic()\n",
    "RasterFile = \"shillong_SRTM30_UTM.tif\"\n",
    "DataDirectory = \"./\"\n",
    "gio.convert2bil(DataDirectory, RasterFile,minimum_elevation=0)"
   ]
  },
  {
   "cell_type": "markdown",
   "metadata": {},
   "source": [
    "Okay, we now have an ENVI bil DEM. We are ready to start doing topographic analysis!"
   ]
  },
  {
   "cell_type": "markdown",
   "metadata": {},
   "source": [
    "## Part 2, get some basin outlets"
   ]
  },
  {
   "cell_type": "markdown",
   "metadata": {},
   "source": [
    "I want to extract some specific basins. I will get the lat-long of their outlets to select them (use *What's here* on google maps. I then create a csv containing the latitude and longitude using pandas. "
   ]
  },
  {
   "cell_type": "code",
   "execution_count": null,
   "metadata": {},
   "outputs": [],
   "source": [
    "import pandas as pd"
   ]
  },
  {
   "cell_type": "code",
   "execution_count": null,
   "metadata": {},
   "outputs": [],
   "source": [
    "d = {'latitude': [25.187265,25.178305,25.176887,25.183027], \n",
    "     'longitude': [92.016604,91.756626,91.633770,91.378109]}\n",
    "df = pd.DataFrame(data=d)\n",
    "print(df)"
   ]
  },
  {
   "cell_type": "code",
   "execution_count": null,
   "metadata": {},
   "outputs": [],
   "source": [
    "df.to_csv(\"basin_outlets.csv\",index=False)"
   ]
  },
  {
   "cell_type": "markdown",
   "metadata": {},
   "source": [
    "## Part 3: Running the analysis"
   ]
  },
  {
   "cell_type": "code",
   "execution_count": null,
   "metadata": {},
   "outputs": [],
   "source": [
    "lsdtt_parameters = {\"write_hillshade\" : \"true\", \n",
    "                    \"get_basins_from_outlets\" : \"true\", \n",
    "                    \"basin_outlet_csv\" : \"basin_outlets.csv\", \n",
    "                    \"search_radius_nodes\" : \"15\",\n",
    "                    \"convert_csv_to_geojson\" : \"true\",\n",
    "                    \"print_basin_raster\" : \"true\",\n",
    "                    \"print_chi_data_maps\" : \"true\"}"
   ]
  },
  {
   "cell_type": "code",
   "execution_count": null,
   "metadata": {},
   "outputs": [],
   "source": [
    "lsdtt_drive = lsdmw.lsdtt_driver(read_prefix = \"shillong_SRTM30_UTM\",\n",
    "                                 write_prefix= \"shillong_SRTM30_UTM\",\n",
    "                                 parameter_dictionary=lsdtt_parameters)\n",
    "lsdtt_drive.print_parameters()"
   ]
  },
  {
   "cell_type": "code",
   "execution_count": null,
   "metadata": {},
   "outputs": [],
   "source": [
    "lsdtt_drive.run_lsdtt_command_line_tool()"
   ]
  },
  {
   "cell_type": "markdown",
   "metadata": {},
   "source": [
    "## Part 4: Plotting the data"
   ]
  },
  {
   "cell_type": "markdown",
   "metadata": {},
   "source": [
    "First, lets just see where we are."
   ]
  },
  {
   "cell_type": "code",
   "execution_count": 4,
   "metadata": {},
   "outputs": [
    {
     "name": "stdout",
     "output_type": "stream",
     "text": [
      "Your colourbar will be located: right\n",
      "xsize: 3182 and y size: 1950\n",
      "NoData is: -9999.0\n",
      "Let me get that projection for you\n",
      "In this function I will extract the UTM zone\n",
      "The dataset is projected.\n",
      "The projection string is: WGS 84 / UTM zone 46N\n",
      "WGS 84 / UTM zone 46N\n",
      "This seems to be from the new gdal version\n",
      "Zone string is: 46N\n",
      "The zone is: 46\n",
      "And the hemisphere is: N\n",
      "The EPSG string is: epsg:32646\n",
      "epsg:32646\n",
      "minimum values are x: 325659.0 and y: 2777112.0\n",
      "I made the ticks.\n",
      "x labels are: \n",
      "['330', '340', '350', '360', '370', '380', '390', '400', '410']\n",
      "x locations are:\n",
      "[330000.0, 340000.0, 350000.0, 360000.0, 370000.0, 380000.0, 390000.0, 400000.0, 410000.0]\n",
      "y labels are: \n",
      "['2780', '2790', '2800', '2810', '2820', '2830']\n",
      "y locations are:\n",
      "[2780000.0, 2790000.0, 2800000.0, 2810000.0, 2820000.0, 2830000.0]\n",
      "This colourmap is: gray\n",
      "The number of axes are: 1\n",
      "Axes(0,0;1x1)\n",
      "Axes(0,0;1x1)\n",
      "N axes are: 1\n",
      "Axes(0,0;1x1)\n",
      "xsize: 3182 and y size: 1950\n",
      "NoData is: -9999.0\n",
      "Let me get that projection for you\n",
      "In this function I will extract the UTM zone\n",
      "The dataset is projected.\n",
      "The projection string is: WGS 84 / UTM zone 46N\n",
      "WGS 84 / UTM zone 46N\n",
      "This seems to be from the new gdal version\n",
      "Zone string is: 46N\n",
      "The zone is: 46\n",
      "And the hemisphere is: N\n",
      "The EPSG string is: epsg:32646\n",
      "epsg:32646\n",
      "I am going to use the normalisation None\n",
      "I am using the full range of values in the raster.\n",
      "The number of axes are: 2\n",
      "The aspect ratio is: 1.6317948717948718\n",
      "I need to adjust the spacing of the colourbar.\n",
      "You have a colourbar on the left or right, I need to check the number of characters in the labels.\n",
      "['', '']\n",
      "The longest colourbar label has 0 characters.\n",
      "The cbar characters are: 0 and the cbar text width is: 0.4\n",
      "cbar_left: 4.1212599999999995 map left: 0.8500000000000001\n",
      "cbar_bottom: 0.65 map bottom: 0.65\n",
      "The figure size is: \n",
      "[4.92126, 2.7934182903834066]\n",
      "Map axes are:\n",
      "[0.1727199944729602, 0.23268982029568697, 0.6444000113791996, 0.6957133119210247]\n",
      "cbar_axes are:\n",
      "[0.8374400052019197, 0.23268982029568697, 0.04063999869952004, 0.6957133119210247]\n",
      "Number of axes are: 2\n",
      "I'm returning:\n",
      "Figure(492.126x279.342)\n"
     ]
    }
   ],
   "source": [
    "DataDirectory = \"./\"\n",
    "Base_file = \"shillong_SRTM30_UTM\"  \n",
    "fig = lsdmw.SimpleHillshade(DataDirectory,Base_file,cmap=\"gist_earth\", save_fig=False)"
   ]
  },
  {
   "cell_type": "code",
   "execution_count": 5,
   "metadata": {},
   "outputs": [],
   "source": [
    "fig.show()"
   ]
  },
  {
   "cell_type": "markdown",
   "metadata": {},
   "source": [
    "<img src=\"shillong_SRTM30_UTM_hillshade.png\" width=600>"
   ]
  },
  {
   "cell_type": "markdown",
   "metadata": {},
   "source": [
    "Now plot the channels"
   ]
  },
  {
   "cell_type": "code",
   "execution_count": 6,
   "metadata": {},
   "outputs": [
    {
     "name": "stdout",
     "output_type": "stream",
     "text": [
      "Let me get the point data\n",
      "The filename is: ./shillong_SRTM30_UTM_chi_data_map.csv\n",
      "The object file prefix is: shillong_SRTM30_UTM_chi_data_map\n",
      "Warning, you are using an experimental version of LSDMT that is implementing Pandas dataframe to improve the performance. It is still unstable, switch PANDEX to False in your PointData parameters to use the regular way\n",
      "Loading your file from csv\n",
      "done\n",
      "The parameter names are\n",
      "['latitude', 'longitude', 'chi', 'elevation', 'flow_distance', 'drainage_area', 'source_key', 'basin_key']\n",
      "Your colourbar will be located: None\n",
      "xsize: 3182 and y size: 1950\n",
      "NoData is: -9999.0\n",
      "Let me get that projection for you\n",
      "In this function I will extract the UTM zone\n",
      "The dataset is projected.\n",
      "The projection string is: WGS 84 / UTM zone 46N\n",
      "WGS 84 / UTM zone 46N\n",
      "This seems to be from the new gdal version\n",
      "Zone string is: 46N\n",
      "The zone is: 46\n",
      "And the hemisphere is: N\n",
      "The EPSG string is: epsg:32646\n",
      "epsg:32646\n",
      "minimum values are x: 325659.0 and y: 2777112.0\n",
      "I made the ticks.\n",
      "x labels are: \n",
      "['330', '340', '350', '360', '370', '380', '390', '400', '410']\n",
      "x locations are:\n",
      "[330000.0, 340000.0, 350000.0, 360000.0, 370000.0, 380000.0, 390000.0, 400000.0, 410000.0]\n",
      "y labels are: \n",
      "['2780', '2790', '2800', '2810', '2820', '2830']\n",
      "y locations are:\n",
      "[2780000.0, 2790000.0, 2800000.0, 2810000.0, 2820000.0, 2830000.0]\n",
      "This colourmap is: gray\n",
      "The number of axes are: 1\n",
      "Axes(0,0;1x1)\n",
      "Axes(0,0;1x1)\n",
      "N axes are: 1\n",
      "Axes(0,0;1x1)\n",
      "xsize: 3182 and y size: 1950\n",
      "NoData is: -9999.0\n",
      "Let me get that projection for you\n",
      "In this function I will extract the UTM zone\n",
      "The dataset is projected.\n",
      "The projection string is: WGS 84 / UTM zone 46N\n",
      "WGS 84 / UTM zone 46N\n",
      "This seems to be from the new gdal version\n",
      "Zone string is: 46N\n",
      "The zone is: 46\n",
      "And the hemisphere is: N\n",
      "The EPSG string is: epsg:32646\n",
      "epsg:32646\n",
      "I am going to use the normalisation None\n",
      "I am using the full range of values in the raster.\n",
      "The number of axes are: 2\n",
      "I am going to plot some points for you. The EPSG string is:epsg:32646\n",
      "Yo, getting this stuff: epsg:32646\n",
      "I got the easting and northing\n",
      "I got the data column you wanted\n",
      "I also got the data for scaling, which is in column drainage_area\n",
      "The size of the array is: \n",
      "(46056,)\n",
      "I am going to convert data to log for point scaling.\n",
      "I logged (is it a verb?) your scaled data, the minimum is 5.954242509439325 and the maximum is 8.918873978335956 but all the values inferior to -10 will be -10\n",
      "I am scaling your points for you\n",
      "max is: 8.918873978335956 and min is: 5.954242509439325\n",
      "I have got a scaled point array,\n",
      "I will plot the points now.\n",
      "The colourmap is: gist_earth\n",
      "I will colour by the points\n",
      "The aspect ratio is: 1.6317948717948718\n",
      "I need to adjust the spacing of the colourbar.\n",
      "The cbar characters are: 0 and the cbar text width is: 0.4\n",
      "No colourbar\n",
      "The figure size is: \n",
      "[6.25, 4.036675047140163]\n",
      "Map axes are:\n",
      "[0.136, 0.16102361285199346, 0.8319999999999999, 0.789430660116624]\n",
      "cbar_axes are:\n",
      "None\n",
      "Number of axes are: 1\n",
      "I'm returning:\n",
      "Figure(625x403.668)\n"
     ]
    },
    {
     "name": "stderr",
     "output_type": "stream",
     "text": [
      "/usr/local/lib/python3.8/site-packages/pyproj/crs/crs.py:53: FutureWarning: '+init=<authority>:<code>' syntax is deprecated. '<authority>:<code>' is the preferred initialization method. When making the change, be mindful of axis order changes: https://pyproj4.github.io/pyproj/stable/gotchas.html#axis-order-changes-in-proj-6\n",
      "  return _prepare_from_string(\" \".join(pjargs))\n",
      "/usr/local/lib/python3.8/site-packages/pyproj/crs/crs.py:294: FutureWarning: '+init=<authority>:<code>' syntax is deprecated. '<authority>:<code>' is the preferred initialization method. When making the change, be mindful of axis order changes: https://pyproj4.github.io/pyproj/stable/gotchas.html#axis-order-changes-in-proj-6\n",
      "  projstring = _prepare_from_string(\" \".join((projstring, projkwargs)))\n",
      "/usr/local/lib/python3.8/site-packages/pyproj/crs/crs.py:53: FutureWarning: '+init=<authority>:<code>' syntax is deprecated. '<authority>:<code>' is the preferred initialization method. When making the change, be mindful of axis order changes: https://pyproj4.github.io/pyproj/stable/gotchas.html#axis-order-changes-in-proj-6\n",
      "  return _prepare_from_string(\" \".join(pjargs))\n",
      "/usr/local/lib/python3.8/site-packages/pyproj/crs/crs.py:294: FutureWarning: '+init=<authority>:<code>' syntax is deprecated. '<authority>:<code>' is the preferred initialization method. When making the change, be mindful of axis order changes: https://pyproj4.github.io/pyproj/stable/gotchas.html#axis-order-changes-in-proj-6\n",
      "  projstring = _prepare_from_string(\" \".join((projstring, projkwargs)))\n"
     ]
    }
   ],
   "source": [
    "ChannelFileName = \"shillong_SRTM30_UTM_chi_data_map.csv\"\n",
    "channel_img = lsdmw.PrintChannels(DataDirectory,Base_file,ChannelFileName, \n",
    "                               cmap = \"gist_earth\",\n",
    "                               size_format = \"geomorphology\", dpi = 300, \n",
    "                               plotting_column = \"basin_key\", save_fig = False)"
   ]
  },
  {
   "cell_type": "code",
   "execution_count": 7,
   "metadata": {},
   "outputs": [],
   "source": [
    "channel_img.show()"
   ]
  },
  {
   "cell_type": "markdown",
   "metadata": {},
   "source": [
    "<img src=\"shillong_SRTM30_UTM_channels_coloured_by_basin.png\" width=600>"
   ]
  },
  {
   "cell_type": "markdown",
   "metadata": {},
   "source": [
    "Now show the basins and the channels"
   ]
  },
  {
   "cell_type": "code",
   "execution_count": 8,
   "metadata": {},
   "outputs": [
    {
     "name": "stdout",
     "output_type": "stream",
     "text": [
      "Basin keys are: \n",
      "[0, 1, 2, 3]\n",
      "I'm going to make the basin plots. Your topographic data must be in ENVI bil format or I'll break!!\n",
      "shillong_SRTM30_UTM_AllBasins.bil\n",
      "shillong_SRTM30_UTM_AllBasins.bil\n",
      "Let me grab the coordinate reference system.\n",
      "Let me get that projection for you\n",
      "In this function I will extract the UTM zone\n",
      "The dataset is projected.\n",
      "The projection string is: WGS 84 / UTM zone 46N\n",
      "WGS 84 / UTM zone 46N\n",
      "This seems to be from the new gdal version\n",
      "Zone string is: 46N\n",
      "The zone is: 46\n",
      "And the hemisphere is: N\n",
      "The EPSG string is: epsg:32646\n",
      "epsg:32646\n",
      "ID is: 945.0\n",
      "ID is: 655.0\n",
      "ID is: 786.0\n",
      "ID is: 1536.0\n",
      "The object file prefix is: shillong_SRTM30_UTM_chi_data_map\n",
      "Warning, you are using an experimental version of LSDMT that is implementing Pandas dataframe to improve the performance. It is still unstable, switch PANDEX to False in your PointData parameters to use the regular way\n",
      "Loading your file from csv\n",
      "done\n",
      "I am showing the basins without text labels.\n",
      "Your colourbar will be located: None\n",
      "xsize: 3182 and y size: 1950\n",
      "NoData is: -9999.0\n",
      "Let me get that projection for you\n",
      "In this function I will extract the UTM zone\n",
      "The dataset is projected.\n",
      "The projection string is: WGS 84 / UTM zone 46N\n",
      "WGS 84 / UTM zone 46N\n",
      "This seems to be from the new gdal version\n",
      "Zone string is: 46N\n",
      "The zone is: 46\n",
      "And the hemisphere is: N\n",
      "The EPSG string is: epsg:32646\n",
      "epsg:32646\n",
      "minimum values are x: 325659.0 and y: 2777112.0\n",
      "I made the ticks.\n",
      "x labels are: \n",
      "['330', '340', '350', '360', '370', '380', '390', '400', '410']\n",
      "x locations are:\n",
      "[330000.0, 340000.0, 350000.0, 360000.0, 370000.0, 380000.0, 390000.0, 400000.0, 410000.0]\n",
      "y labels are: \n",
      "['2780', '2790', '2800', '2810', '2820', '2830']\n",
      "y locations are:\n",
      "[2780000.0, 2790000.0, 2800000.0, 2810000.0, 2820000.0, 2830000.0]\n",
      "This colourmap is: gray\n",
      "The number of axes are: 1\n",
      "Axes(0,0;1x1)\n",
      "Axes(0,0;1x1)\n",
      "Plotting the polygon outlines...\n",
      "N axes are: 1\n",
      "Axes(0,0;1x1)\n",
      "xsize: 3182 and y size: 1950\n",
      "NoData is: -9999.0\n",
      "Let me get that projection for you\n",
      "In this function I will extract the UTM zone\n",
      "The dataset is projected.\n",
      "The projection string is: WGS 84 / UTM zone 46N\n",
      "WGS 84 / UTM zone 46N\n",
      "This seems to be from the new gdal version\n",
      "Zone string is: 46N\n",
      "The zone is: 46\n",
      "And the hemisphere is: N\n",
      "The EPSG string is: epsg:32646\n",
      "epsg:32646\n",
      "I am going to use the normalisation None\n",
      "I am using the full range of values in the raster.\n",
      "The number of axes are: 2\n",
      "I am going to plot some points for you. The EPSG string is:epsg:32646\n",
      "Yo, getting this stuff: epsg:32646\n"
     ]
    },
    {
     "name": "stderr",
     "output_type": "stream",
     "text": [
      "/usr/local/lib/python3.8/site-packages/pyproj/crs/crs.py:53: FutureWarning: '+init=<authority>:<code>' syntax is deprecated. '<authority>:<code>' is the preferred initialization method. When making the change, be mindful of axis order changes: https://pyproj4.github.io/pyproj/stable/gotchas.html#axis-order-changes-in-proj-6\n",
      "  return _prepare_from_string(\" \".join(pjargs))\n",
      "/usr/local/lib/python3.8/site-packages/pyproj/crs/crs.py:294: FutureWarning: '+init=<authority>:<code>' syntax is deprecated. '<authority>:<code>' is the preferred initialization method. When making the change, be mindful of axis order changes: https://pyproj4.github.io/pyproj/stable/gotchas.html#axis-order-changes-in-proj-6\n",
      "  projstring = _prepare_from_string(\" \".join((projstring, projkwargs)))\n",
      "/usr/local/lib/python3.8/site-packages/pyproj/crs/crs.py:53: FutureWarning: '+init=<authority>:<code>' syntax is deprecated. '<authority>:<code>' is the preferred initialization method. When making the change, be mindful of axis order changes: https://pyproj4.github.io/pyproj/stable/gotchas.html#axis-order-changes-in-proj-6\n",
      "  return _prepare_from_string(\" \".join(pjargs))\n",
      "/usr/local/lib/python3.8/site-packages/pyproj/crs/crs.py:294: FutureWarning: '+init=<authority>:<code>' syntax is deprecated. '<authority>:<code>' is the preferred initialization method. When making the change, be mindful of axis order changes: https://pyproj4.github.io/pyproj/stable/gotchas.html#axis-order-changes-in-proj-6\n",
      "  projstring = _prepare_from_string(\" \".join((projstring, projkwargs)))\n"
     ]
    },
    {
     "name": "stdout",
     "output_type": "stream",
     "text": [
      "I got the easting and northing\n",
      "I got the data column you wanted\n",
      "I also got the data for scaling, which is in column drainage_area\n",
      "The size of the array is: \n",
      "(46056,)\n",
      "I am going to convert data to log for point scaling.\n",
      "I logged (is it a verb?) your scaled data, the minimum is 5.954242509439325 and the maximum is 8.918873978335956 but all the values inferior to -10 will be -10\n",
      "I am scaling your points for you\n",
      "max is: 8.918873978335956 and min is: 5.954242509439325\n",
      "I have got a scaled point array,\n",
      "I will plot the points now.\n",
      "The colourmap is: jet\n",
      "I will colour by the points\n",
      "The aspect ratio is: 1.6317948717948718\n",
      "I need to adjust the spacing of the colourbar.\n",
      "The cbar characters are: 0 and the cbar text width is: 0.4\n",
      "No colourbar\n",
      "The figure size is: \n",
      "[6.25, 4.036675047140163]\n",
      "Map axes are:\n",
      "[0.136, 0.16102361285199346, 0.8319999999999999, 0.789430660116624]\n",
      "cbar_axes are:\n",
      "None\n",
      "Number of axes are: 1\n",
      "I'm returning:\n",
      "Figure(625x403.668)\n"
     ]
    }
   ],
   "source": [
    "basin_img = lsdmw.PrintChannelsAndBasins(DataDirectory,Base_file,\n",
    "                                              add_basin_labels = True, \n",
    "                                              cmap = \"jet\",  \n",
    "                                              size_format = \"geomorphology\", dpi = 300, save_fig=False)"
   ]
  },
  {
   "cell_type": "code",
   "execution_count": 9,
   "metadata": {},
   "outputs": [],
   "source": [
    "basin_img.show()"
   ]
  },
  {
   "cell_type": "markdown",
   "metadata": {},
   "source": [
    "<img src=\"shillong_SRTM30_UTM_channels_with_basins.png\" width=800>"
   ]
  },
  {
   "cell_type": "code",
   "execution_count": 13,
   "metadata": {},
   "outputs": [
    {
     "name": "stdout",
     "output_type": "stream",
     "text": [
      "Basin keys are: \n",
      "[0, 1, 2, 3]\n",
      "I'm going to make the basin plots. Your topographic data must be in ENVI bil format or I'll break!!\n",
      "Your colourbar will be located: None\n",
      "xsize: 3182 and y size: 1950\n",
      "NoData is: -9999.0\n",
      "Let me get that projection for you\n",
      "In this function I will extract the UTM zone\n",
      "The dataset is projected.\n",
      "The projection string is: WGS 84 / UTM zone 46N\n",
      "WGS 84 / UTM zone 46N\n",
      "This seems to be from the new gdal version\n",
      "Zone string is: 46N\n",
      "The zone is: 46\n",
      "And the hemisphere is: N\n",
      "The EPSG string is: epsg:32646\n",
      "epsg:32646\n",
      "minimum values are x: 325659.0 and y: 2777112.0\n",
      "I made the ticks.\n",
      "x labels are: \n",
      "['330', '340', '350', '360', '370', '380', '390', '400', '410']\n",
      "x locations are:\n",
      "[330000.0, 340000.0, 350000.0, 360000.0, 370000.0, 380000.0, 390000.0, 400000.0, 410000.0]\n",
      "y labels are: \n",
      "['2780', '2790', '2800', '2810', '2820', '2830']\n",
      "y locations are:\n",
      "[2780000.0, 2790000.0, 2800000.0, 2810000.0, 2820000.0, 2830000.0]\n",
      "This colourmap is: gray\n",
      "The number of axes are: 1\n",
      "Axes(0,0;1x1)\n",
      "Axes(0,0;1x1)\n",
      "shillong_SRTM30_UTM_AllBasins.bil\n",
      "Let me grab the coordinate reference system.\n",
      "Let me get that projection for you\n",
      "In this function I will extract the UTM zone\n",
      "The dataset is projected.\n",
      "The projection string is: WGS 84 / UTM zone 46N\n",
      "WGS 84 / UTM zone 46N\n",
      "This seems to be from the new gdal version\n",
      "Zone string is: 46N\n",
      "The zone is: 46\n",
      "And the hemisphere is: N\n",
      "The EPSG string is: epsg:32646\n",
      "epsg:32646\n",
      "ID is: 945.0\n",
      "ID is: 655.0\n",
      "ID is: 786.0\n",
      "ID is: 1536.0\n",
      "The number of basins are: 4\n",
      "The number of points are: 4\n",
      "Plotting the polygons, colouring by basin...\n",
      "945.0 945\n",
      "655.0 655\n",
      "786.0 786\n",
      "1536.0 1536\n",
      "The aspect ratio is: 1.6317948717948718\n",
      "I need to adjust the spacing of the colourbar.\n",
      "The cbar characters are: 0 and the cbar text width is: 0.4\n",
      "No colourbar\n",
      "The figure size is: \n",
      "[6.25, 4.036675047140163]\n",
      "Map axes are:\n",
      "[0.136, 0.16102361285199346, 0.8319999999999999, 0.789430660116624]\n",
      "cbar_axes are:\n",
      "None\n",
      "Number of axes are: 1\n",
      "I'm returning:\n",
      "./shillong_SRTM30_UTM_selected_basins.png\n"
     ]
    }
   ],
   "source": [
    "basin2_img_name = lsdmw.PrintBasins_Complex(DataDirectory,Base_file,\n",
    "                                           use_keys_not_junctions = True, \n",
    "                                           show_colourbar = False,cmap = \"jet\", \n",
    "                                           colorbarlabel = \"colourbar\", size_format = \"geomorphology\",\n",
    "                                           fig_format = \"png\", dpi = 250, \n",
    "                                           include_channels = False, label_basins = True)"
   ]
  },
  {
   "cell_type": "markdown",
   "metadata": {},
   "source": [
    "<img src=\"shillong_SRTM30_UTM_selected_basins.png\" width=800>"
   ]
  },
  {
   "cell_type": "code",
   "execution_count": null,
   "metadata": {},
   "outputs": [],
   "source": [
    "basin2_img_name = lsdmw.SimpleProfile(DataDirectory,Base_file, ChannelFileName, cmap = \"jet\", size_format = \"ESURF\", fig_format = \"png\", dpi = 250, basin_key=[0], source_key=[0])"
   ]
  },
  {
   "cell_type": "code",
   "execution_count": null,
   "metadata": {},
   "outputs": [],
   "source": []
  }
 ],
 "metadata": {
  "kernelspec": {
   "display_name": "Python 3",
   "language": "python",
   "name": "python3"
  },
  "language_info": {
   "codemirror_mode": {
    "name": "ipython",
    "version": 3
   },
   "file_extension": ".py",
   "mimetype": "text/x-python",
   "name": "python",
   "nbconvert_exporter": "python",
   "pygments_lexer": "ipython3",
   "version": "3.8.3"
  }
 },
 "nbformat": 4,
 "nbformat_minor": 4
}
