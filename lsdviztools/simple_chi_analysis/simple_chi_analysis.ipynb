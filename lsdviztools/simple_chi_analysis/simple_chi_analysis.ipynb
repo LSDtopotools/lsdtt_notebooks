{
 "cells": [
  {
   "cell_type": "markdown",
   "metadata": {},
   "source": [
    "# A simple chi analysis"
   ]
  },
  {
   "cell_type": "markdown",
   "metadata": {},
   "source": [
    "In this example we will grab some data for a simple chi analysis. First, import the relevent modules. "
   ]
  },
  {
   "cell_type": "code",
   "execution_count": 1,
   "metadata": {},
   "outputs": [],
   "source": [
    "import lsdviztools.lsdbasemaptools as bmt\n",
    "from lsdviztools.lsdplottingtools import lsdmap_gdalio as gio\n",
    "import lsdviztools.lsdmapwrappers as lsdmw\n",
    "import lsdttparamselector as ps"
   ]
  },
  {
   "cell_type": "markdown",
   "metadata": {},
   "source": [
    "## Part 1: Grab some data"
   ]
  },
  {
   "cell_type": "markdown",
   "metadata": {},
   "source": [
    "We will grab some data from the Shillong Plateau in India. I use google maps to get the latitude and longitude of the southwest and northeast corners. Once you give the `ot_scraper` the corners and the type of data to download (in this case SRTM30 data), you can move on to downloading."
   ]
  },
  {
   "cell_type": "code",
   "execution_count": 3,
   "metadata": {},
   "outputs": [
    {
     "name": "stdout",
     "output_type": "stream",
     "text": [
      "The source is: SRTM30\n",
      "The west longitude is: 90.795518\n",
      "The east longitude is: 92.347537\n",
      "The south latitude is: 25.763649\n",
      "The north latitude is: 25.107807\n",
      "The path is: ./\n",
      "The prefix is: shillong\n"
     ]
    }
   ],
   "source": [
    "SH_DEM = bmt.ot_scraper(source = \"SRTM30\",longitude_W = 91.271109, longitude_E = 92.214265, latitude_S = 25.107807, latitude_N = 25.627673,prefix = \"shillong\")\n",
    "SH_DEM.print_parameters()"
   ]
  },
  {
   "cell_type": "markdown",
   "metadata": {},
   "source": [
    "Now call the download. You need to wait until the `*` symbol dissappears from the right of the line (when it stops saying `In[*]`), that indicates the download has finished. "
   ]
  },
  {
   "cell_type": "code",
   "execution_count": 5,
   "metadata": {},
   "outputs": [
    {
     "name": "stdout",
     "output_type": "stream",
     "text": [
      "I am going to download the following for you:\n",
      "https://portal.opentopography.org/otr/getdem?demtype=SRTMGL1&south=25.107807&north=25.763649&west=90.795518&east=92.347537&outputFormat=GTiff\n",
      "This might take a little while, depending on the size of the file. \n",
      "Finished downloading\n"
     ]
    }
   ],
   "source": [
    "SH_DEM.download_pythonic()"
   ]
  },
  {
   "cell_type": "markdown",
   "metadata": {},
   "source": [
    "Okay, now we need to do two things. First, we need to convert to UTM. Then we need to convert to ENVI bil format. "
   ]
  },
  {
   "cell_type": "code",
   "execution_count": 6,
   "metadata": {},
   "outputs": [
    {
     "name": "stdout",
     "output_type": "stream",
     "text": [
      "The projections is:\n",
      "GEOGCS[\"WGS 84\",DATUM[\"WGS_1984\",SPHEROID[\"WGS 84\",6378137,298.257223563,AUTHORITY[\"EPSG\",\"7030\"]],AUTHORITY[\"EPSG\",\"6326\"]],PRIMEM[\"Greenwich\",0],UNIT[\"degree\",0.0174532925199433,AUTHORITY[\"EPSG\",\"9122\"]],AXIS[\"Latitude\",NORTH],AXIS[\"Longitude\",EAST],AUTHORITY[\"EPSG\",\"4326\"]]\n",
      "And some extra projection information strings:\n",
      "None\n",
      "WGS 84\n",
      "{'driver': 'GTiff', 'dtype': 'int16', 'nodata': -32768.0, 'width': 5587, 'height': 2361, 'count': 1, 'crs': CRS.from_epsg(4326), 'transform': Affine(0.0002777777777778146, 0.0, 90.79541666670252,\n",
      "       0.0, -0.0002777777777778146, 25.76374999999547)}\n",
      "res tuple is:\n",
      "(30.0, 30.0)\n",
      "The destination CRS is: EPSG:32646\n",
      "{'driver': 'GTiff', 'dtype': 'int16', 'nodata': -32768.0, 'width': 5229, 'height': 2478, 'count': 1, 'crs': CRS.from_epsg(32646), 'transform': Affine(30.0, 0.0, 277695.49411623424,\n",
      "       0.0, -30.0, 2851370.6046270058)}\n",
      "Removing pixels with an elevation less than 0\n"
     ]
    }
   ],
   "source": [
    "SH_DEM.to_UTM_pythonic()\n",
    "RasterFile = \"shillong_SRTM30_UTM.tif\"\n",
    "DataDirectory = \"./\"\n",
    "gio.convert2bil(DataDirectory, RasterFile,minimum_elevation=0)"
   ]
  },
  {
   "cell_type": "markdown",
   "metadata": {},
   "source": [
    "Okay, we now have an ENVI bil DEM. We are ready to start doing topographic analysis!"
   ]
  },
  {
   "cell_type": "markdown",
   "metadata": {},
   "source": [
    "## Part 2, get some basin outlets"
   ]
  },
  {
   "cell_type": "markdown",
   "metadata": {},
   "source": [
    "I want to extract some specific basins. I will get the lat-long of their outlets to select them (use *What's here* on google maps. I then create a csv containing the latitude and longitude using pandas. "
   ]
  },
  {
   "cell_type": "code",
   "execution_count": 7,
   "metadata": {},
   "outputs": [],
   "source": [
    "import pandas as pd"
   ]
  },
  {
   "cell_type": "code",
   "execution_count": 14,
   "metadata": {},
   "outputs": [
    {
     "name": "stdout",
     "output_type": "stream",
     "text": [
      "    latitude  longitude\n",
      "0  25.187265  92.016604\n",
      "1  25.178305  91.756626\n",
      "2  25.176887  91.633770\n",
      "3  25.183027  91.378109\n",
      "4  25.197690  91.255284\n"
     ]
    }
   ],
   "source": [
    "d = {'latitude': [25.187265,25.178305,25.176887,25.183027,25.197690], 'longitude': [92.016604,91.756626,91.633770,91.378109,91.255284]}\n",
    "df = pd.DataFrame(data=d)\n",
    "print(df)"
   ]
  },
  {
   "cell_type": "code",
   "execution_count": 15,
   "metadata": {},
   "outputs": [],
   "source": [
    "df.to_csv(\"basin_outlets.csv\",index=False)"
   ]
  },
  {
   "cell_type": "markdown",
   "metadata": {},
   "source": [
    "## Part 3: Running the analysis"
   ]
  },
  {
   "cell_type": "code",
   "execution_count": 19,
   "metadata": {},
   "outputs": [],
   "source": [
    "lsdtt_parameters = {\"write_hillshade\" : \"true\", \n",
    "                    \"get_basins_from_outlets\" : \"true\", \n",
    "                    \"basin_outlet_csv\" : \"basin_outlets.csv\", \n",
    "                    \"search_radius_nodes\" : \"15\",\n",
    "                    \"convert_csv_to_geojson\" : \"true\",\n",
    "                    \"print_basin_raster\" : \"true\",\n",
    "                    \"print_chi_data_maps\" : \"true\"}"
   ]
  },
  {
   "cell_type": "code",
   "execution_count": 20,
   "metadata": {},
   "outputs": [
    {
     "name": "stdout",
     "output_type": "stream",
     "text": [
      "The command line tool is: lsdtt-basic-metrics\n",
      "The driver name is: Test_01\n",
      "The read path is: ./\n",
      "The write path is: ./\n",
      "The read prefix is: shillong_SRTM30_UTM\n",
      "The write prefix is: shillong_SRTM30_UTM\n",
      "The parameter dictionary is:\n",
      "{'write_hillshade': 'true', 'get_basins_from_outlets': 'true', 'basin_outlet_csv': 'basin_outlets.csv', 'search_radius_nodes': '15', 'convert_csv_to_geojson': 'true', 'print_basin_raster': 'true', 'print_chi_data_maps': 'true'}\n"
     ]
    }
   ],
   "source": [
    "lsdtt_drive = lsdmw.lsdtt_driver(read_prefix = \"shillong_SRTM30_UTM\",\n",
    "                                 write_prefix= \"shillong_SRTM30_UTM\",\n",
    "                                 parameter_dictionary=lsdtt_parameters)\n",
    "lsdtt_drive.print_parameters()"
   ]
  },
  {
   "cell_type": "code",
   "execution_count": 21,
   "metadata": {},
   "outputs": [
    {
     "name": "stdout",
     "output_type": "stream",
     "text": [
      "Done writing the driver file\n",
      "I've finised writing the driver file. Let me run LSDTT for you.\n"
     ]
    }
   ],
   "source": [
    "lsdtt_drive.run_lsdtt_command_line_tool()"
   ]
  },
  {
   "cell_type": "markdown",
   "metadata": {},
   "source": [
    "## Part 3: Plotting the data"
   ]
  },
  {
   "cell_type": "markdown",
   "metadata": {},
   "source": [
    "First, lets just see where we are."
   ]
  },
  {
   "cell_type": "code",
   "execution_count": 22,
   "metadata": {},
   "outputs": [
    {
     "name": "stdout",
     "output_type": "stream",
     "text": [
      "Your colourbar will be located: right\n",
      "xsize: 5229 and y size: 2478\n",
      "NoData is: -9999.0\n",
      "Let me get that projection for you\n",
      "In this function I will extract the UTM zone\n",
      "The dataset is projected.\n",
      "The projection string is: WGS 84 / UTM zone 46N\n",
      "WGS 84 / UTM zone 46N\n",
      "This seems to be from the new gdal version\n",
      "Zone string is: 46N\n",
      "The zone is: 46\n",
      "And the hemisphere is: N\n",
      "The EPSG string is: epsg:32646\n",
      "epsg:32646\n",
      "minimum values are x: 277695.0 and y: 2777030.0\n",
      "I made the ticks.\n",
      "x labels are: \n",
      "['300', '330', '360', '390', '420']\n",
      "x locations are:\n",
      "[300000.0, 330000.0, 360000.0, 390000.0, 420000.0]\n",
      "y labels are: \n",
      "['2800', '2830']\n",
      "y locations are:\n",
      "[2800000.0, 2830000.0]\n",
      "This colourmap is: gray\n",
      "The number of axes are: 1\n",
      "Axes(0,0;1x1)\n",
      "Axes(0,0;1x1)\n",
      "N axes are: 1\n",
      "Axes(0,0;1x1)\n",
      "xsize: 5229 and y size: 2478\n",
      "NoData is: -9999.0\n",
      "Let me get that projection for you\n",
      "In this function I will extract the UTM zone\n",
      "The dataset is projected.\n",
      "The projection string is: WGS 84 / UTM zone 46N\n",
      "WGS 84 / UTM zone 46N\n",
      "This seems to be from the new gdal version\n",
      "Zone string is: 46N\n",
      "The zone is: 46\n",
      "And the hemisphere is: N\n",
      "The EPSG string is: epsg:32646\n",
      "epsg:32646\n",
      "I am going to use the normalisation None\n",
      "I am using the full range of values in the raster.\n",
      "The number of axes are: 2\n",
      "The aspect ratio is: 2.110169491525424\n",
      "I need to adjust the spacing of the colourbar.\n",
      "You have a colourbar on the left or right, I need to check the number of characters in the labels.\n",
      "['', '']\n",
      "The longest colourbar label has 0 characters.\n",
      "The cbar characters are: 0 and the cbar text width is: 0.4\n",
      "cbar_left: 4.1212599999999995 map left: 0.8500000000000001\n",
      "cbar_bottom: 0.65 map bottom: 0.65\n",
      "The figure size is: \n",
      "[4.92126, 2.3528461044176705]\n",
      "Map axes are:\n",
      "[0.1727199944729602, 0.2762611625042408, 0.6444000113791996, 0.6387354028790697]\n",
      "cbar_axes are:\n",
      "[0.8374400052019197, 0.2762611625042408, 0.04063999869952004, 0.6387354028790697]\n",
      "Number of axes are: 2\n"
     ]
    },
    {
     "name": "stderr",
     "output_type": "stream",
     "text": [
      "findfont: Font family ['Liberation Sans'] not found. Falling back to DejaVu Sans.\n"
     ]
    }
   ],
   "source": [
    "DataDirectory = \"./\"\n",
    "Base_file = \"shillong_SRTM30_UTM\"  \n",
    "img_name = lsdmw.SimpleHillshade(DataDirectory,Base_file,cmap=\"gist_earth\")"
   ]
  },
  {
   "cell_type": "code",
   "execution_count": 23,
   "metadata": {},
   "outputs": [
    {
     "data": {
      "text/plain": [
       "'./shillong_SRTM30_UTM_hillshade.png'"
      ]
     },
     "execution_count": 23,
     "metadata": {},
     "output_type": "execute_result"
    }
   ],
   "source": [
    "img_name"
   ]
  },
  {
   "cell_type": "markdown",
   "metadata": {},
   "source": [
    "<img src=\"shillong_SRTM30_UTM_hillshade.png\" width=800>"
   ]
  },
  {
   "cell_type": "code",
   "execution_count": null,
   "metadata": {},
   "outputs": [],
   "source": []
  }
 ],
 "metadata": {
  "kernelspec": {
   "display_name": "Python 3",
   "language": "python",
   "name": "python3"
  },
  "language_info": {
   "codemirror_mode": {
    "name": "ipython",
    "version": 3
   },
   "file_extension": ".py",
   "mimetype": "text/x-python",
   "name": "python",
   "nbconvert_exporter": "python",
   "pygments_lexer": "ipython3",
   "version": "3.8.3"
  }
 },
 "nbformat": 4,
 "nbformat_minor": 4
}
