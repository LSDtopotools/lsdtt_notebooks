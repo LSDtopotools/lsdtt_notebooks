{
 "cells": [
  {
   "cell_type": "markdown",
   "metadata": {},
   "source": [
    "# A simple chi analysis"
   ]
  },
  {
   "cell_type": "markdown",
   "metadata": {},
   "source": [
    "In this example we will grab some data for a simple chi analysis. First, import the relevent modules. "
   ]
  },
  {
   "cell_type": "code",
   "execution_count": 1,
   "metadata": {},
   "outputs": [
    {
     "data": {
      "text/plain": [
       "'0.4.6'"
      ]
     },
     "execution_count": 1,
     "metadata": {},
     "output_type": "execute_result"
    }
   ],
   "source": [
    "import lsdviztools\n",
    "lsdviztools.__version__"
   ]
  },
  {
   "cell_type": "code",
   "execution_count": 4,
   "metadata": {},
   "outputs": [
    {
     "name": "stdout",
     "output_type": "stream",
     "text": [
      "Requirement already satisfied: lsdviztools in /usr/local/lib/python3.8/site-packages (0.4.4)\n",
      "Collecting lsdviztools\n",
      "  Downloading lsdviztools-0.4.6-py2.py3-none-any.whl (268 kB)\n",
      "\u001b[K     |████████████████████████████████| 268 kB 3.3 MB/s eta 0:00:01\n",
      "\u001b[?25hRequirement already satisfied: shapely in /usr/local/lib/python3.8/site-packages (from lsdviztools) (1.7.1)\n",
      "Requirement already satisfied: cartopy in /usr/local/lib/python3.8/site-packages (from lsdviztools) (0.19.0.post1)\n",
      "Requirement already satisfied: gdal in /usr/local/lib/python3.8/site-packages (from lsdviztools) (3.2.1)\n",
      "Requirement already satisfied: geopandas in /usr/local/lib/python3.8/site-packages (from lsdviztools) (0.9.0)\n",
      "Requirement already satisfied: rasterio in /usr/local/lib/python3.8/site-packages (from lsdviztools) (1.2.6)\n",
      "Requirement already satisfied: fiona in /usr/local/lib/python3.8/site-packages (from lsdviztools) (1.8.18)\n",
      "Requirement already satisfied: pyproj in /usr/local/lib/python3.8/site-packages (from lsdviztools) (3.1.0)\n",
      "Requirement already satisfied: matplotlib in /usr/local/lib/python3.8/site-packages (from lsdviztools) (3.4.2)\n",
      "Requirement already satisfied: numpy in /usr/local/lib/python3.8/site-packages (from lsdviztools) (1.21.1)\n",
      "Requirement already satisfied: pandas in /usr/local/lib/python3.8/site-packages (from lsdviztools) (1.3.0)\n",
      "Requirement already satisfied: utm in /usr/local/lib/python3.8/site-packages (from lsdviztools) (0.7.0)\n",
      "Requirement already satisfied: scipy in /usr/local/lib/python3.8/site-packages (from lsdviztools) (1.7.0)\n",
      "Requirement already satisfied: pyshp>=2 in /usr/local/lib/python3.8/site-packages (from cartopy->lsdviztools) (2.1.3)\n",
      "Requirement already satisfied: attrs>=17 in /usr/local/lib/python3.8/site-packages (from fiona->lsdviztools) (21.2.0)\n",
      "Requirement already satisfied: certifi in /usr/local/lib/python3.8/site-packages (from fiona->lsdviztools) (2021.5.30)\n",
      "Requirement already satisfied: click<8,>=4.0 in /usr/local/lib/python3.8/site-packages (from fiona->lsdviztools) (7.1.2)\n",
      "Requirement already satisfied: cligj>=0.5 in /usr/local/lib/python3.8/site-packages (from fiona->lsdviztools) (0.7.2)\n",
      "Requirement already satisfied: click-plugins>=1.0 in /usr/local/lib/python3.8/site-packages (from fiona->lsdviztools) (1.1.1)\n",
      "Requirement already satisfied: six>=1.7 in /usr/local/lib/python3.8/site-packages (from fiona->lsdviztools) (1.16.0)\n",
      "Requirement already satisfied: munch in /usr/local/lib/python3.8/site-packages (from fiona->lsdviztools) (2.5.0)\n",
      "Requirement already satisfied: python-dateutil>=2.7.3 in /usr/local/lib/python3.8/site-packages (from pandas->lsdviztools) (2.8.2)\n",
      "Requirement already satisfied: pytz>=2017.3 in /usr/local/lib/python3.8/site-packages (from pandas->lsdviztools) (2021.1)\n",
      "Requirement already satisfied: cycler>=0.10 in /usr/local/lib/python3.8/site-packages (from matplotlib->lsdviztools) (0.10.0)\n",
      "Requirement already satisfied: kiwisolver>=1.0.1 in /usr/local/lib/python3.8/site-packages (from matplotlib->lsdviztools) (1.3.1)\n",
      "Requirement already satisfied: pillow>=6.2.0 in /usr/local/lib/python3.8/site-packages (from matplotlib->lsdviztools) (8.2.0)\n",
      "Requirement already satisfied: pyparsing>=2.2.1 in /usr/local/lib/python3.8/site-packages (from matplotlib->lsdviztools) (2.4.7)\n",
      "Requirement already satisfied: affine in /usr/local/lib/python3.8/site-packages (from rasterio->lsdviztools) (2.3.0)\n",
      "Requirement already satisfied: snuggs>=1.4.1 in /usr/local/lib/python3.8/site-packages (from rasterio->lsdviztools) (1.4.7)\n",
      "Requirement already satisfied: setuptools in /usr/local/lib/python3.8/site-packages (from rasterio->lsdviztools) (49.6.0.post20210108)\n",
      "Installing collected packages: lsdviztools\n",
      "  Attempting uninstall: lsdviztools\n",
      "    Found existing installation: lsdviztools 0.4.4\n",
      "    Uninstalling lsdviztools-0.4.4:\n",
      "      Successfully uninstalled lsdviztools-0.4.4\n",
      "Successfully installed lsdviztools-0.4.6\n",
      "\u001b[33mWARNING: Running pip as the 'root' user can result in broken permissions and conflicting behaviour with the system package manager. It is recommended to use a virtual environment instead: https://pip.pypa.io/warnings/venv\u001b[0m\n",
      "Note: you may need to restart the kernel to use updated packages.\n"
     ]
    }
   ],
   "source": [
    "pip install lsdviztools --upgrade"
   ]
  },
  {
   "cell_type": "code",
   "execution_count": 2,
   "metadata": {},
   "outputs": [],
   "source": [
    "import lsdviztools.lsdbasemaptools as bmt\n",
    "from lsdviztools.lsdplottingtools import lsdmap_gdalio as gio\n",
    "import lsdviztools.lsdmapwrappers as lsdmw"
   ]
  },
  {
   "cell_type": "markdown",
   "metadata": {},
   "source": [
    "## Part 1: Grab some data"
   ]
  },
  {
   "cell_type": "markdown",
   "metadata": {},
   "source": [
    "We will grab some data from the Shillong Plateau in India. I use google maps to get the latitude and longitude of the southwest and northeast corners. Once you give the `ot_scraper` the corners and the type of data to download (in this case SRTM30 data), you can move on to downloading."
   ]
  },
  {
   "cell_type": "code",
   "execution_count": null,
   "metadata": {},
   "outputs": [],
   "source": [
    "SH_DEM = bmt.ot_scraper(source = \"SRTM30\",\n",
    "                        longitude_W = 91.271109, \n",
    "                        longitude_E = 92.214265, \n",
    "                        latitude_S = 25.107807, \n",
    "                        latitude_N = 25.627673,\n",
    "                        prefix = \"shillong\")\n",
    "SH_DEM.print_parameters()"
   ]
  },
  {
   "cell_type": "markdown",
   "metadata": {},
   "source": [
    "Now call the download. You need to wait until the `*` symbol dissappears from the right of the line (when it stops saying `In[*]`), that indicates the download has finished. "
   ]
  },
  {
   "cell_type": "code",
   "execution_count": null,
   "metadata": {},
   "outputs": [],
   "source": [
    "fullfname,path,fname = SH_DEM.download_pythonic()"
   ]
  },
  {
   "cell_type": "markdown",
   "metadata": {},
   "source": [
    "Okay, now we need to do two things. First, we need to convert to UTM. Then we need to convert to ENVI bil format. "
   ]
  },
  {
   "cell_type": "code",
   "execution_count": null,
   "metadata": {},
   "outputs": [],
   "source": [
    "SH_DEM.to_UTM_pythonic()\n",
    "RasterFile = \"shillong_SRTM30_UTM.tif\"\n",
    "DataDirectory = \"./\"\n",
    "gio.convert2bil(DataDirectory, RasterFile,minimum_elevation=0)"
   ]
  },
  {
   "cell_type": "markdown",
   "metadata": {},
   "source": [
    "Okay, we now have an ENVI bil DEM. We are ready to start doing topographic analysis!"
   ]
  },
  {
   "cell_type": "markdown",
   "metadata": {},
   "source": [
    "## Part 2, get some basin outlets"
   ]
  },
  {
   "cell_type": "markdown",
   "metadata": {},
   "source": [
    "I want to extract some specific basins. I will get the lat-long of their outlets to select them (use *What's here* on google maps. I then create a csv containing the latitude and longitude using pandas. "
   ]
  },
  {
   "cell_type": "code",
   "execution_count": null,
   "metadata": {},
   "outputs": [],
   "source": [
    "import pandas as pd"
   ]
  },
  {
   "cell_type": "code",
   "execution_count": null,
   "metadata": {},
   "outputs": [],
   "source": [
    "d = {'latitude': [25.187265,25.178305,25.176887,25.183027], \n",
    "     'longitude': [92.016604,91.756626,91.633770,91.378109]}\n",
    "df = pd.DataFrame(data=d)\n",
    "print(df)"
   ]
  },
  {
   "cell_type": "code",
   "execution_count": null,
   "metadata": {},
   "outputs": [],
   "source": [
    "df.to_csv(\"basin_outlets.csv\",index=False)"
   ]
  },
  {
   "cell_type": "markdown",
   "metadata": {},
   "source": [
    "## Part 3: Running the analysis"
   ]
  },
  {
   "cell_type": "code",
   "execution_count": null,
   "metadata": {},
   "outputs": [],
   "source": [
    "lsdtt_parameters = {\"write_hillshade\" : \"true\", \n",
    "                    \"get_basins_from_outlets\" : \"true\", \n",
    "                    \"basin_outlet_csv\" : \"basin_outlets.csv\", \n",
    "                    \"search_radius_nodes\" : \"15\",\n",
    "                    \"convert_csv_to_geojson\" : \"true\",\n",
    "                    \"print_basin_raster\" : \"true\",\n",
    "                    \"print_chi_data_maps\" : \"true\"}"
   ]
  },
  {
   "cell_type": "code",
   "execution_count": null,
   "metadata": {},
   "outputs": [],
   "source": [
    "lsdtt_drive = lsdmw.lsdtt_driver(read_prefix = \"shillong_SRTM30_UTM\",\n",
    "                                 write_prefix= \"shillong_SRTM30_UTM\",\n",
    "                                 parameter_dictionary=lsdtt_parameters)\n",
    "lsdtt_drive.print_parameters()"
   ]
  },
  {
   "cell_type": "code",
   "execution_count": null,
   "metadata": {},
   "outputs": [],
   "source": [
    "lsdtt_drive.run_lsdtt_command_line_tool()"
   ]
  },
  {
   "cell_type": "markdown",
   "metadata": {},
   "source": [
    "## Part 4: Plotting the data"
   ]
  },
  {
   "cell_type": "markdown",
   "metadata": {},
   "source": [
    "First, lets just see where we are."
   ]
  },
  {
   "cell_type": "code",
   "execution_count": null,
   "metadata": {},
   "outputs": [],
   "source": [
    "DataDirectory = \"./\"\n",
    "Base_file = \"shillong_SRTM30_UTM\"  \n",
    "fig = lsdmw.SimpleHillshade(DataDirectory,Base_file,cmap=\"gist_earth\", save_fig=False)"
   ]
  },
  {
   "cell_type": "code",
   "execution_count": null,
   "metadata": {},
   "outputs": [],
   "source": [
    "fig.show()"
   ]
  },
  {
   "cell_type": "markdown",
   "metadata": {},
   "source": [
    "<img src=\"shillong_SRTM30_UTM_hillshade.png\" width=600>"
   ]
  },
  {
   "cell_type": "markdown",
   "metadata": {},
   "source": [
    "Now plot the channels"
   ]
  },
  {
   "cell_type": "code",
   "execution_count": null,
   "metadata": {},
   "outputs": [],
   "source": [
    "ChannelFileName = \"shillong_SRTM30_UTM_chi_data_map.csv\"\n",
    "channel_img = lsdmw.PrintChannels(DataDirectory,Base_file,ChannelFileName, \n",
    "                               cmap = \"gist_earth\",\n",
    "                               size_format = \"geomorphology\", dpi = 300, \n",
    "                               plotting_column = \"basin_key\", save_fig = False)"
   ]
  },
  {
   "cell_type": "code",
   "execution_count": null,
   "metadata": {},
   "outputs": [],
   "source": [
    "channel_img.show()"
   ]
  },
  {
   "cell_type": "markdown",
   "metadata": {},
   "source": [
    "<img src=\"shillong_SRTM30_UTM_channels_coloured_by_basin.png\" width=600>"
   ]
  },
  {
   "cell_type": "markdown",
   "metadata": {},
   "source": [
    "Now show the basins and the channels"
   ]
  },
  {
   "cell_type": "code",
   "execution_count": null,
   "metadata": {},
   "outputs": [],
   "source": [
    "basin_img = lsdmw.PrintChannelsAndBasins(DataDirectory,Base_file,\n",
    "                                              add_basin_labels = True, \n",
    "                                              cmap = \"jet\",  \n",
    "                                              size_format = \"geomorphology\", dpi = 300, save_fig=False)"
   ]
  },
  {
   "cell_type": "code",
   "execution_count": null,
   "metadata": {},
   "outputs": [],
   "source": [
    "basin_img.show()"
   ]
  },
  {
   "cell_type": "markdown",
   "metadata": {},
   "source": [
    "<img src=\"shillong_SRTM30_UTM_channels_with_basins.png\" width=800>"
   ]
  },
  {
   "cell_type": "code",
   "execution_count": null,
   "metadata": {},
   "outputs": [],
   "source": [
    "basin2_img_name = lsdmw.PrintBasins_Complex(DataDirectory,Base_file,\n",
    "                                           use_keys_not_junctions = True, \n",
    "                                           show_colourbar = False,cmap = \"jet\", \n",
    "                                           colorbarlabel = \"colourbar\", size_format = \"geomorphology\",\n",
    "                                           fig_format = \"png\", dpi = 250, \n",
    "                                           include_channels = False, label_basins = True)"
   ]
  },
  {
   "cell_type": "markdown",
   "metadata": {},
   "source": [
    "<img src=\"shillong_SRTM30_UTM_selected_basins.png\" width=800>"
   ]
  },
  {
   "cell_type": "code",
   "execution_count": null,
   "metadata": {},
   "outputs": [],
   "source": [
    "basin2_img_name = lsdmw.SimpleProfile(DataDirectory,Base_file, ChannelFileName, cmap = \"jet\", size_format = \"ESURF\", fig_format = \"png\", dpi = 250, basin_key=[0], source_key=[0])"
   ]
  },
  {
   "cell_type": "code",
   "execution_count": null,
   "metadata": {},
   "outputs": [],
   "source": []
  }
 ],
 "metadata": {
  "kernelspec": {
   "display_name": "Python 3 (ipykernel)",
   "language": "python",
   "name": "python3"
  },
  "language_info": {
   "codemirror_mode": {
    "name": "ipython",
    "version": 3
   },
   "file_extension": ".py",
   "mimetype": "text/x-python",
   "name": "python",
   "nbconvert_exporter": "python",
   "pygments_lexer": "ipython3",
   "version": "3.8.10"
  }
 },
 "nbformat": 4,
 "nbformat_minor": 4
}
