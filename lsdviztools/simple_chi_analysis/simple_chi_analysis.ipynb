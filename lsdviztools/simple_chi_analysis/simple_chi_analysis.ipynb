{
 "cells": [
  {
   "cell_type": "markdown",
   "metadata": {},
   "source": [
    "# A simple chi analysis"
   ]
  },
  {
   "cell_type": "markdown",
   "metadata": {},
   "source": [
    "Written by Simon M. Mudd at the University of Edinburgh. Updated 02/09/2021"
   ]
  },
  {
   "cell_type": "markdown",
   "metadata": {},
   "source": [
    "In this example we will grab some data for a simple chi analysis. First, import the relevent modules. "
   ]
  },
  {
   "cell_type": "code",
   "execution_count": 1,
   "metadata": {},
   "outputs": [
    {
     "data": {
      "text/plain": [
       "'0.4.6'"
      ]
     },
     "execution_count": 1,
     "metadata": {},
     "output_type": "execute_result"
    }
   ],
   "source": [
    "import lsdviztools\n",
    "lsdviztools.__version__"
   ]
  },
  {
   "cell_type": "code",
   "execution_count": 2,
   "metadata": {},
   "outputs": [
    {
     "name": "stdout",
     "output_type": "stream",
     "text": [
      "Requirement already satisfied: lsdviztools in /usr/local/lib/python3.8/site-packages (0.4.6)\n",
      "Requirement already satisfied: gdal in /usr/local/lib/python3.8/site-packages (from lsdviztools) (3.2.1)\n",
      "Requirement already satisfied: rasterio in /usr/local/lib/python3.8/site-packages (from lsdviztools) (1.2.6)\n",
      "Requirement already satisfied: cartopy in /usr/local/lib/python3.8/site-packages (from lsdviztools) (0.19.0.post1)\n",
      "Requirement already satisfied: numpy in /usr/local/lib/python3.8/site-packages (from lsdviztools) (1.21.2)\n",
      "Requirement already satisfied: pyproj in /usr/local/lib/python3.8/site-packages (from lsdviztools) (3.1.0)\n",
      "Requirement already satisfied: utm in /usr/local/lib/python3.8/site-packages (from lsdviztools) (0.7.0)\n",
      "Requirement already satisfied: fiona in /usr/local/lib/python3.8/site-packages (from lsdviztools) (1.8.18)\n",
      "Requirement already satisfied: scipy in /usr/local/lib/python3.8/site-packages (from lsdviztools) (1.7.1)\n",
      "Requirement already satisfied: pandas in /usr/local/lib/python3.8/site-packages (from lsdviztools) (1.3.2)\n",
      "Requirement already satisfied: geopandas in /usr/local/lib/python3.8/site-packages (from lsdviztools) (0.9.0)\n",
      "Requirement already satisfied: matplotlib in /usr/local/lib/python3.8/site-packages (from lsdviztools) (3.4.3)\n",
      "Requirement already satisfied: shapely in /usr/local/lib/python3.8/site-packages (from lsdviztools) (1.7.1)\n",
      "Requirement already satisfied: pyshp>=2 in /usr/local/lib/python3.8/site-packages (from cartopy->lsdviztools) (2.1.3)\n",
      "Requirement already satisfied: attrs>=17 in /usr/local/lib/python3.8/site-packages (from fiona->lsdviztools) (21.2.0)\n",
      "Requirement already satisfied: certifi in /usr/local/lib/python3.8/site-packages (from fiona->lsdviztools) (2021.5.30)\n",
      "Requirement already satisfied: click<8,>=4.0 in /usr/local/lib/python3.8/site-packages (from fiona->lsdviztools) (7.1.2)\n",
      "Requirement already satisfied: cligj>=0.5 in /usr/local/lib/python3.8/site-packages (from fiona->lsdviztools) (0.7.2)\n",
      "Requirement already satisfied: click-plugins>=1.0 in /usr/local/lib/python3.8/site-packages (from fiona->lsdviztools) (1.1.1)\n",
      "Requirement already satisfied: six>=1.7 in /usr/local/lib/python3.8/site-packages (from fiona->lsdviztools) (1.16.0)\n",
      "Requirement already satisfied: munch in /usr/local/lib/python3.8/site-packages (from fiona->lsdviztools) (2.5.0)\n",
      "Requirement already satisfied: python-dateutil>=2.7.3 in /usr/local/lib/python3.8/site-packages (from pandas->lsdviztools) (2.8.2)\n",
      "Requirement already satisfied: pytz>=2017.3 in /usr/local/lib/python3.8/site-packages (from pandas->lsdviztools) (2021.1)\n",
      "Requirement already satisfied: cycler>=0.10 in /usr/local/lib/python3.8/site-packages (from matplotlib->lsdviztools) (0.10.0)\n",
      "Requirement already satisfied: pyparsing>=2.2.1 in /usr/local/lib/python3.8/site-packages (from matplotlib->lsdviztools) (2.4.7)\n",
      "Requirement already satisfied: kiwisolver>=1.0.1 in /usr/local/lib/python3.8/site-packages (from matplotlib->lsdviztools) (1.3.1)\n",
      "Requirement already satisfied: pillow>=6.2.0 in /usr/local/lib/python3.8/site-packages (from matplotlib->lsdviztools) (8.2.0)\n",
      "Requirement already satisfied: affine in /usr/local/lib/python3.8/site-packages (from rasterio->lsdviztools) (2.3.0)\n",
      "Requirement already satisfied: snuggs>=1.4.1 in /usr/local/lib/python3.8/site-packages (from rasterio->lsdviztools) (1.4.7)\n",
      "Requirement already satisfied: setuptools in /usr/local/lib/python3.8/site-packages (from rasterio->lsdviztools) (57.4.0)\n",
      "\u001b[33mWARNING: Running pip as the 'root' user can result in broken permissions and conflicting behaviour with the system package manager. It is recommended to use a virtual environment instead: https://pip.pypa.io/warnings/venv\u001b[0m\n",
      "Note: you may need to restart the kernel to use updated packages.\n"
     ]
    }
   ],
   "source": [
    "pip install lsdviztools --upgrade"
   ]
  },
  {
   "cell_type": "code",
   "execution_count": 3,
   "metadata": {},
   "outputs": [],
   "source": [
    "import lsdviztools.lsdbasemaptools as bmt\n",
    "from lsdviztools.lsdplottingtools import lsdmap_gdalio as gio\n",
    "import lsdviztools.lsdmapwrappers as lsdmw"
   ]
  },
  {
   "cell_type": "markdown",
   "metadata": {},
   "source": [
    "## Part 1: Grab some data"
   ]
  },
  {
   "cell_type": "markdown",
   "metadata": {},
   "source": [
    "We will grab some data from the Shillong Plateau in India. I use google maps to get the latitude and longitude of the southwest and northeast corners. Once you give the `ot_scraper` the corners and the type of data to download (in this case SRTM30 data), you can move on to downloading."
   ]
  },
  {
   "cell_type": "code",
   "execution_count": 4,
   "metadata": {},
   "outputs": [
    {
     "name": "stdout",
     "output_type": "stream",
     "text": [
      "The source is: SRTMGL1\n",
      "The west longitude is: 91.271109\n",
      "The east longitude is: 92.214265\n",
      "The south latitude is: 25.627673\n",
      "The north latitude is: 25.107807\n",
      "The path is: ./\n",
      "The prefix is: shillong\n",
      "The resolution is: 30\n"
     ]
    }
   ],
   "source": [
    "SH_DEM = bmt.ot_scraper(source = \"SRTM30\",\n",
    "                        longitude_W = 91.271109, \n",
    "                        longitude_E = 92.214265, \n",
    "                        latitude_S = 25.107807, \n",
    "                        latitude_N = 25.627673,\n",
    "                        prefix = \"shillong\")\n",
    "SH_DEM.print_parameters()"
   ]
  },
  {
   "cell_type": "markdown",
   "metadata": {},
   "source": [
    "Now call the download. You need to wait until the `*` symbol dissappears from the right of the line (when it stops saying `In[*]`), that indicates the download has finished. "
   ]
  },
  {
   "cell_type": "code",
   "execution_count": 5,
   "metadata": {},
   "outputs": [
    {
     "name": "stdout",
     "output_type": "stream",
     "text": [
      "I am going to download the following for you:\n",
      "https://portal.opentopography.org/API/globaldem?demtype=SRTMGL1&south=25.107807&north=25.627673&west=91.271109&east=92.214265&outputFormat=GTiff\n",
      "This might take a little while, depending on the size of the file. \n",
      "The filename will be:\n",
      "./shillong_SRTMGL1.tif\n",
      "The path and file without path are:\n",
      "./  shillong_SRTMGL1.tif\n",
      "Finished downloading\n"
     ]
    }
   ],
   "source": [
    "fullfname,path,fname = SH_DEM.download_pythonic()"
   ]
  },
  {
   "cell_type": "markdown",
   "metadata": {},
   "source": [
    "Okay, now we need to do two things. First, we need to convert to UTM. Then we need to convert to ENVI bil format. "
   ]
  },
  {
   "cell_type": "code",
   "execution_count": 6,
   "metadata": {},
   "outputs": [
    {
     "name": "stdout",
     "output_type": "stream",
     "text": [
      "The projections is:\n",
      "GEOGCS[\"WGS 84\",DATUM[\"WGS_1984\",SPHEROID[\"WGS 84\",6378137,298.257223563,AUTHORITY[\"EPSG\",\"7030\"]],AUTHORITY[\"EPSG\",\"6326\"]],PRIMEM[\"Greenwich\",0],UNIT[\"degree\",0.0174532925199433,AUTHORITY[\"EPSG\",\"9122\"]],AXIS[\"Latitude\",NORTH],AXIS[\"Longitude\",EAST],AUTHORITY[\"EPSG\",\"4326\"]]\n",
      "And some extra projection information strings:\n",
      "None\n",
      "WGS 84\n",
      "{'driver': 'GTiff', 'dtype': 'int16', 'nodata': -32768.0, 'width': 3395, 'height': 1872, 'count': 1, 'crs': CRS.from_epsg(4326), 'transform': Affine(0.0002777777777778146, 0.0, 91.27097222225814,\n",
      "       0.0, -0.0002777777777778146, 25.627916666662117)}\n",
      "res tuple is:\n",
      "(30.0, 30.0)\n",
      "The destination CRS is: EPSG:32646\n",
      "{'driver': 'GTiff', 'dtype': 'int16', 'nodata': -32768.0, 'width': 3182, 'height': 1950, 'count': 1, 'crs': CRS.from_epsg(32646), 'transform': Affine(30.0, 0.0, 325659.9621538402,\n",
      "       0.0, -30.0, 2835612.1644070437)}\n",
      "Removing pixels with an elevation less than 0\n"
     ]
    }
   ],
   "source": [
    "SH_DEM.to_UTM_pythonic()\n",
    "RasterFile = \"shillong_SRTM30_UTM.tif\"\n",
    "DataDirectory = \"./\"\n",
    "gio.convert2bil(DataDirectory, RasterFile,minimum_elevation=0)"
   ]
  },
  {
   "cell_type": "markdown",
   "metadata": {},
   "source": [
    "Okay, we now have an ENVI bil DEM. We are ready to start doing topographic analysis!"
   ]
  },
  {
   "cell_type": "markdown",
   "metadata": {},
   "source": [
    "## Part 2, get some basin outlets"
   ]
  },
  {
   "cell_type": "markdown",
   "metadata": {},
   "source": [
    "I want to extract some specific basins. I will get the lat-long of their outlets to select them (use *What's here* on google maps. I then create a csv containing the latitude and longitude using pandas. "
   ]
  },
  {
   "cell_type": "code",
   "execution_count": 7,
   "metadata": {},
   "outputs": [],
   "source": [
    "import pandas as pd"
   ]
  },
  {
   "cell_type": "code",
   "execution_count": 8,
   "metadata": {},
   "outputs": [
    {
     "name": "stdout",
     "output_type": "stream",
     "text": [
      "    latitude  longitude\n",
      "0  25.187265  92.016604\n",
      "1  25.178305  91.756626\n",
      "2  25.176887  91.633770\n",
      "3  25.183027  91.378109\n"
     ]
    }
   ],
   "source": [
    "d = {'latitude': [25.187265,25.178305,25.176887,25.183027], \n",
    "     'longitude': [92.016604,91.756626,91.633770,91.378109]}\n",
    "df = pd.DataFrame(data=d)\n",
    "print(df)"
   ]
  },
  {
   "cell_type": "code",
   "execution_count": 9,
   "metadata": {},
   "outputs": [],
   "source": [
    "df.to_csv(\"basin_outlets.csv\",index=False)"
   ]
  },
  {
   "cell_type": "markdown",
   "metadata": {},
   "source": [
    "## Part 3: Running the analysis"
   ]
  },
  {
   "cell_type": "code",
   "execution_count": 10,
   "metadata": {},
   "outputs": [],
   "source": [
    "lsdtt_parameters = {\"write_hillshade\" : \"true\", \n",
    "                    \"get_basins_from_outlets\" : \"true\", \n",
    "                    \"basin_outlet_csv\" : \"basin_outlets.csv\", \n",
    "                    \"search_radius_nodes\" : \"15\",\n",
    "                    \"convert_csv_to_geojson\" : \"true\",\n",
    "                    \"print_basin_raster\" : \"true\",\n",
    "                    \"print_chi_data_maps\" : \"true\"}"
   ]
  },
  {
   "cell_type": "code",
   "execution_count": 11,
   "metadata": {},
   "outputs": [
    {
     "name": "stdout",
     "output_type": "stream",
     "text": [
      "The lsdtopotools command line tools available are: \n",
      "['lsdtt-basic-metrics', 'lsdtt-channel-extraction', 'lsdtt-chi-mapping', 'lsdtt-cosmo-tool', 'lsdtt-hillslope-channel-coupling']\n",
      "Please note only lsdtt-basic-metrics has been fully tested\n",
      "The command line tool is: lsdtt-basic-metrics\n",
      "The driver name is: Test_01\n",
      "The read path is: ./\n",
      "The write path is: ./\n",
      "The read prefix is: shillong_SRTM30_UTM\n",
      "The write prefix is: shillong_SRTM30_UTM\n",
      "The parameter dictionary is:\n",
      "{'write_hillshade': 'true', 'get_basins_from_outlets': 'true', 'basin_outlet_csv': 'basin_outlets.csv', 'search_radius_nodes': '15', 'convert_csv_to_geojson': 'true', 'print_basin_raster': 'true', 'print_chi_data_maps': 'true'}\n"
     ]
    }
   ],
   "source": [
    "lsdtt_drive = lsdmw.lsdtt_driver(read_prefix = \"shillong_SRTM30_UTM\",\n",
    "                                 write_prefix= \"shillong_SRTM30_UTM\",\n",
    "                                 parameter_dictionary=lsdtt_parameters)\n",
    "lsdtt_drive.print_parameters()"
   ]
  },
  {
   "cell_type": "code",
   "execution_count": 12,
   "metadata": {},
   "outputs": [
    {
     "name": "stdout",
     "output_type": "stream",
     "text": [
      "Done writing the driver file\n",
      "I've finised writing the driver file. Let me run LSDTT for you.\n",
      "=========================================================\n",
      "|| Welcome to the LSDTopoTools basic metrics tool!     ||\n",
      "|| This program has a number of options for calculating||\n",
      "|| simple landscape metrics.                           ||\n",
      "|| This program was developed by Simon M. Mudd         ||\n",
      "||  at the University of Edinburgh                     ||\n",
      "=========================================================\n",
      "|| If you use these routines please cite:              ||\n",
      "|| https://www.doi.org/10.5281/zenodo.2560223          ||\n",
      "|| If you use the roughness routine please cite:       ||\n",
      "|| https://www.doi.org/10.5194/esurf-3-483-2015        ||\n",
      "=========================================================\n",
      "|| Documentation can be found at:                      ||\n",
      "|| https://lsdtopotools.github.io/LSDTT_documentation/ ||\n",
      "=========================================================\n",
      "=========================================================\n",
      "|| You have called an LSDTopoTools program.            ||\n",
      "|| Prepare to explore topographic data!                ||\n",
      "|| You can read the documentation at:                  ||\n",
      "=========================================================\n",
      "I have one argument. I don't know if this is a directory path\n",
      "or a driver filename. I am going to assume it is a directory path\n",
      "if it containes the character . or /\n",
      "Parsing the file\n",
      "Hello, I am going to parse your LSDTopoTools parameter file for you. \n",
      "The parameter filename is: ./Test_01.driver\n",
      "parameter is: NULL and value is: NULL\n",
      "parameter is: NULL and value is: \n",
      "parameter is: NULL and value is: NULL\n",
      "parameter is: read path and value is: ./\n",
      "parameter is: write path and value is: ./\n",
      "parameter is: read fname and value is: shillong_SRTM30_UTM\n",
      "parameter is: write fname and value is: shillong_SRTM30_UTM\n",
      "parameter is: NULL and value is: \n",
      "parameter is: NULL and value is: \n",
      "parameter is: NULL and value is: NULL\n",
      "parameter is: write_hillshade and value is: true\n",
      "parameter is: get_basins_from_outlets and value is: true\n",
      "parameter is: basin_outlet_csv and value is: basin_outlets.csv\n",
      "parameter is: search_radius_nodes and value is: 15\n",
      "parameter is: convert_csv_to_geojson and value is: true\n",
      "parameter is: print_basin_raster and value is: true\n",
      "parameter is: print_chi_data_maps and value is: true\n",
      "parameter is: NULL and value is: NULL\n",
      "\n",
      "\n",
      "\n",
      "----------------------\n",
      "Parsing the file I/O\n",
      "I didn't find CHeads_file in the parameter map\n",
      "Boundary conditions not assigned! Defaulting to no flux.\n",
      "Boundary[0]: n\n",
      "Boundary[1]: n\n",
      "Boundary[2]: n\n",
      "Boundary[3]: n\n",
      "LSDParameterParser Raster file extension not assigned! Defaulting to bil format.\n",
      "You entered: !\n",
      "The full read fname is:\n",
      " ./shillong_SRTM30_UTM\n",
      "The full write fname is:\n",
      " ./shillong_SRTM30_UTM\n",
      "The read and write extensions are: bil bil\n",
      "===============================\n",
      "WARNING!!! This program requires georeferencing so only bil format\n",
      "Topographic data will be allowed!!\n",
      "===============================\n",
      "Key is: A_0\n",
      "Key is: REI_critical_slope\n",
      "Key is: REI_window_radius\n",
      "Key is: SA_vertical_interval\n",
      "Key is: downslope_tagging_distance\n",
      "Key is: m_over_n\n",
      "Key is: maximum_elevation\n",
      "Key is: min_slope_for_fill\n",
      "Key is: minimum_bank_elevation_window_radius\n",
      "Key is: minimum_elevation\n",
      "Key is: punch_threshold\n",
      "Key is: relief_window\n",
      "Key is: river_depth\n",
      "Key is: roughness_radius\n",
      "Key is: single_channel_dig\n",
      "Key is: single_channel_drop\n",
      "Key is: surface_fitting_radius\n",
      "Key is: swath_bin_spacing\n",
      "Key is: swath_point_spacing\n",
      "Key is: swath_width\n",
      "Key is: test_bearing\n",
      "Key is: upslope_tagging_distance\n",
      "Key is: maximum_basin_size_pixels\n",
      "Key is: minimum_basin_size_pixels\n",
      "Key is: n_row_or_col_for_strips\n",
      "Key is: relief_window_kernel_type\n",
      "Key is: search_radius_nodes\n",
      "Key is: test_scale\n",
      "Key is: threshold_contributing_pixels\n",
      "Key is: threshold_stream_order_for_snapping\n",
      "Key is: trimming_buffer_pixels\n",
      "Key is: belowthresholdisnodata\n",
      "Key is: buffer_single_channel\n",
      "Key is: burn_raster_to_csv\n",
      "Key is: calculate_basin_statistics\n",
      "Key is: calculate_swath_along_channel\n",
      "Key is: calculate_swath_along_line\n",
      "Key is: calculate_swath_profile\n",
      "Key is: calculate_window_size\n",
      "Key is: carve_before_fill\n",
      "Key is: channel_and_valley_width_extraction\n",
      "Key is: convert_csv_to_geojson\n",
      "Key is: divide_finder\n",
      "Key is: extend_channel_to_node_before_receiver_junction\n",
      "Key is: extract_ridges\n",
      "Key is: extract_single_channel\n",
      "Key is: find_basins\n",
      "Key is: fixed_channel_dig_and_slope\n",
      "Key is: force_single_channel_slope\n",
      "Key is: get_basins_from_outlets\n",
      "Key is: horizontal_strips\n",
      "Key is: impose_single_channel\n",
      "Key is: isolate_pixels_draining_to_fixed_channel\n",
      "Key is: only_check_parameters\n",
      "Key is: only_take_largest_basin\n",
      "Key is: print_FreemanMD_drainage_area_raster\n",
      "Key is: print_MD_drainage_area_raster\n",
      "Key is: print_QuinnMD_drainage_area_raster\n",
      "Key is: print_REI_raster\n",
      "Key is: print_aspect\n",
      "Key is: print_basin_raster\n",
      "Key is: print_channels_to_csv\n",
      "Key is: print_chi_data_maps\n",
      "Key is: print_curvature\n",
      "Key is: print_d8_drainage_area_raster\n",
      "Key is: print_dinf_drainage_area_raster\n",
      "Key is: print_directional_gradients\n",
      "Key is: print_distance_from_outlet\n",
      "Key is: print_fill_raster\n",
      "Key is: print_junction_angles_to_csv\n",
      "Key is: print_junction_index_raster\n",
      "Key is: print_junctions_to_csv\n",
      "Key is: print_nearest_to_nodata_rasters\n",
      "Key is: print_planform_curvature\n",
      "Key is: print_point_classification\n",
      "Key is: print_profile_curvature\n",
      "Key is: print_raster_without_seas\n",
      "Key is: print_relief_raster\n",
      "Key is: print_roughness_rasters\n",
      "Key is: print_slope\n",
      "Key is: print_smoothed_elevation\n",
      "Key is: print_stream_order_raster\n",
      "Key is: print_swath_rasters\n",
      "Key is: print_tangential_curvature\n",
      "Key is: print_trimmed_raster\n",
      "Key is: print_wiener_filtered_raster\n",
      "Key is: punch_nodata\n",
      "Key is: raster_is_filled\n",
      "Key is: remove_nodes_influenced_by_edge\n",
      "Key is: remove_seas\n",
      "Key is: tag_downslope_nodes\n",
      "Key is: tag_nodes\n",
      "Key is: use_XY_for_buffer\n",
      "Key is: use_dinf_for_single_channel\n",
      "Key is: use_extended_channel_data\n",
      "Key is: use_xy_for_node_index\n",
      "Key is: write_hillshade\n",
      "Key is: BaselevelJunctions_file\n",
      "Key is: CHeads_file\n",
      "Key is: basin_outlet_csv\n",
      "Key is: burn_data_csv_column_header\n",
      "Key is: burn_raster_prefix\n",
      "Key is: channel_or_valley_raster_prefix\n",
      "Key is: channel_or_valley_skeleton_prefix\n",
      "Key is: channel_source_fname\n",
      "Key is: csv_to_burn_name\n",
      "Key is: fixed_channel_csv_name\n",
      "Key is: punch_raster_prefix\n",
      "Key is: single_channel_elev_string\n",
      "Key is: single_channel_fd_string\n",
      "Key is: swath_points_csv\n",
      "Key is: tagged_raster_input_name\n",
      "Key is: test_single_channel_name\n",
      "PRINT THE PARAMETERS...\n",
      "Read filename is: ./shillong_SRTM30_UTM\n",
      "Write filename is: ./shillong_SRTM30_UTM\n",
      "Data Type = 4\n",
      "I am removing high and low values to get rid of things that should be nodata.\n",
      "Got the dem: ./shillong_SRTM30_UTM\n",
      "Let me print the hillshade for you. \n",
      "Hillshading with altitude: 45, azimuth: 315 and z-factor: 1\n",
      "The filename is ./shillong_SRTM30_UTM_hs.bil\n",
      "I won't be doing any polyfitting so you have saved yourself some time!\n",
      "I will need to compute flow information, because you are getting drainage area or channel networks.\n",
      "Let me fill that raster for you, the min slope is: 0.0001\n",
      "\t Flow routing. Note this is memory intensive. If your DEM is very large you may get a segmentation fault here...\n",
      "Finished flow routing.\n",
      "I need to calculate the flow distance now.\n",
      "\t Calculating flow accumulation (in pixels)...\n",
      "\t Loading Sources, if you have them...\n",
      "\t Source file is... NULL\n",
      "\n",
      "\n",
      "\n",
      "==================================\n",
      "The channel head file is null. \n",
      "Getting sources from a threshold of 1000 pixels.\n",
      "The number of sources is: 1621\n",
      "I am now going to extract some basins for you.\n",
      "No baselevel junctions file found. I am going to use algorithms to extract basins.\n",
      "\n",
      "\n",
      "I need to check your baselevel junctions file, to see if it is in the correct path. \n",
      "The string to check is: NULL\n",
      "I am going to get basins lat-long coordinates\n",
      "The file is: ./basin_outlets.csv\n",
      "I am creating a csv object from a raster info object and a csv name.\n",
      "I have opened the csv file.\n",
      "This header is: latitude\n",
      "The latitude index is: 0\n",
      "This header is: longitude\n",
      "The longitude index is: 1\n",
      "The UTM zone is: 46 and it is north.\n",
      "The x and y data are: \n",
      "400913,2.78605e+06\n",
      "374706,2.78527e+06\n",
      "362324,2.78523e+06\n",
      "336565,2.7862e+06\n",
      "Snapping to nearest channel node index. x_loc: 400913 y_loc: 2.78605e+06\n",
      "Snapping: This point is in the raster!\n",
      "Snapping: Got channel!, channel node is: 5179903\n",
      "Snapping, got the node index and the junction\n",
      "Snapping to nearest channel node index. x_loc: 374706 y_loc: 2.78527e+06\n",
      "Snapping: This point is in the raster!\n",
      "Snapping: Got channel!, channel node is: 5264580\n",
      "Snapping, got the node index and the junction\n",
      "Snapping to nearest channel node index. x_loc: 362324 y_loc: 2.78523e+06\n",
      "Snapping: This point is in the raster!\n",
      "Snapping: Got channel!, channel node is: 5264165\n",
      "Snapping, got the node index and the junction\n",
      "Snapping to nearest channel node index. x_loc: 336565 y_loc: 2.7862e+06\n",
      "Snapping: This point is in the raster!\n",
      "Snapping: Got channel!, channel node is: 5136570\n",
      "Snapping, got the node index and the junction\n",
      "The number of basins I will analyse is: 4\n",
      "The baselevel junction numbers are: \n",
      "655, 1536, 786, 945, \n",
      "\n",
      "\n",
      "=====================================================\n",
      "I am now getting the channels by basin.\n",
      "  These channels extend below the junction to the channel that stops\n",
      "  just before the reciever junction. This option is used to remain\n",
      "  consitent with basin ordering, since a 2nd order basin will begin\n",
      "  at the channel one node upslope of the most upstream 3rd order junction.\n",
      "  If you simply want the channel starting from the selcted junction, \n",
      "  set the option:\n",
      "    extend_channel_to_node_before_receiver_junction\n",
      "  to false.\n",
      "=====================================================\n",
      "\n",
      "I've got the overlapping channels. The baselevel junctions are now: \n",
      "655\n",
      "1536\n",
      "786\n",
      "945\n",
      "And the baselevel nodes of each basin are: \n",
      "5040521\n",
      "5040521\n",
      "5040521\n",
      "5040521\n",
      "I am calculating the chi coordinate.\n"
     ]
    },
    {
     "name": "stdout",
     "output_type": "stream",
     "text": [
      "I am going to print the basins for you. \n",
      "The filename is ./shillong_SRTM30_UTM_AllBasins.bil\n",
      "Finished with exporting basins!\n",
      "I am going to print some simple chi data maps for visualisation.\n",
      "These data maps are also useful for visualising channel networks and making channel profiles.\n",
      "I have opened the csv file.\n",
      "This header is: latitude\n",
      "The latitude index is: 0\n",
      "This header is: longitude\n",
      "The longitude index is: 1\n",
      "This header is: chi\n",
      "This header is: elevation\n",
      "This header is: flow_distance\n",
      "This header is: drainage_area\n",
      "This header is: source_key\n",
      "This header is: basin_key\n",
      "Finished with basins\n",
      "Done with channel extraction\n",
      "I'm all finished! Have a nice day.\n"
     ]
    }
   ],
   "source": [
    "lsdtt_drive.run_lsdtt_command_line_tool()"
   ]
  },
  {
   "cell_type": "markdown",
   "metadata": {},
   "source": [
    "## Part 4: Plotting the data"
   ]
  },
  {
   "cell_type": "markdown",
   "metadata": {},
   "source": [
    "First, lets just see where we are."
   ]
  },
  {
   "cell_type": "code",
   "execution_count": 13,
   "metadata": {},
   "outputs": [
    {
     "name": "stdout",
     "output_type": "stream",
     "text": [
      "Your colourbar will be located: right\n",
      "xsize: 3182 and y size: 1950\n",
      "NoData is: -9999.0\n",
      "Yoyoyoyo the EPSG is :EPSG:32646\n",
      "EPSG:32646\n",
      "The EPSGString is: EPSG:32646\n",
      "minimum values are x: 325659.0 and y: 2777112.0\n",
      "I made the ticks.\n",
      "x labels are: \n",
      "['330', '340', '350', '360', '370', '380', '390', '400', '410']\n",
      "x locations are:\n",
      "[330000.0, 340000.0, 350000.0, 360000.0, 370000.0, 380000.0, 390000.0, 400000.0, 410000.0]\n",
      "y labels are: \n",
      "['2780', '2790', '2800', '2810', '2820', '2830']\n",
      "y locations are:\n",
      "[2780000.0, 2790000.0, 2800000.0, 2810000.0, 2820000.0, 2830000.0]\n",
      "This colourmap is: gray\n"
     ]
    },
    {
     "name": "stderr",
     "output_type": "stream",
     "text": [
      "/usr/local/lib/python3.8/site-packages/lsdviztools/lsdmapfigure/plottingraster.py:422: UserWarning: FixedFormatter should only be used together with FixedLocator\n",
      "  ax.set_xticklabels(self.tick_x_labels)\n",
      "/usr/local/lib/python3.8/site-packages/lsdviztools/lsdmapfigure/plottingraster.py:423: UserWarning: FixedFormatter should only be used together with FixedLocator\n",
      "  ax.set_yticklabels(self.tick_y_labels)\n"
     ]
    },
    {
     "name": "stdout",
     "output_type": "stream",
     "text": [
      "The number of axes are: 1\n",
      "Axes(0,0;1x1)\n",
      "Axes(0,0;1x1)\n",
      "N axes are: 1\n",
      "Axes(0,0;1x1)\n",
      "xsize: 3182 and y size: 1950\n",
      "NoData is: -9999.0\n",
      "Yoyoyoyo the EPSG is :EPSG:32646\n",
      "EPSG:32646\n",
      "The EPSGString is: EPSG:32646\n",
      "I am going to use the normalisation None\n",
      "I am using the full range of values in the raster.\n",
      "The number of axes are: 2\n",
      "The aspect ratio is: 1.6317948717948718\n",
      "I need to adjust the spacing of the colourbar.\n",
      "You have a colourbar on the left or right, I need to check the number of characters in the labels.\n",
      "['', '']\n",
      "The longest colourbar label has 0 characters.\n",
      "The cbar characters are: 0 and the cbar text width is: 0.4\n",
      "cbar_left: 4.1212599999999995 map left: 0.8500000000000001\n",
      "cbar_bottom: 0.65 map bottom: 0.65\n",
      "The figure size is: \n",
      "[4.92126, 2.7934182903834066]\n",
      "Map axes are:\n",
      "[0.1727199944729602, 0.23268982029568697, 0.6444000113791996, 0.6957133119210247]\n",
      "cbar_axes are:\n",
      "[0.8374400052019197, 0.23268982029568697, 0.04063999869952004, 0.6957133119210247]\n",
      "Number of axes are: 2\n",
      "I'm returning:\n",
      "Figure(492.126x279.342)\n"
     ]
    },
    {
     "name": "stderr",
     "output_type": "stream",
     "text": [
      "/usr/local/lib/python3.8/site-packages/lsdviztools/lsdmapfigure/plottingraster.py:1169: MatplotlibDeprecationWarning: The 'cmap' parameter to Colorbar has no effect because it is overridden by the mappable; it is deprecated since 3.3 and will be removed two minor releases later.\n",
      "  cbar = plt.colorbar(im,cmap=BaseRaster._colourmap,spacing='uniform', orientation=self.colourbar_orientation,cax=ax_list[-1],drawedges=False)\n"
     ]
    }
   ],
   "source": [
    "DataDirectory = \"./\"\n",
    "Base_file = \"shillong_SRTM30_UTM\"  \n",
    "fig = lsdmw.SimpleHillshade(DataDirectory,Base_file,cmap=\"gist_earth\", save_fig=False)"
   ]
  },
  {
   "cell_type": "code",
   "execution_count": 14,
   "metadata": {},
   "outputs": [],
   "source": [
    "fig.show()"
   ]
  },
  {
   "cell_type": "markdown",
   "metadata": {},
   "source": [
    "<img src=\"shillong_SRTM30_UTM_hillshade.png\" width=600>"
   ]
  },
  {
   "cell_type": "markdown",
   "metadata": {},
   "source": [
    "Now plot the channels"
   ]
  },
  {
   "cell_type": "code",
   "execution_count": 15,
   "metadata": {},
   "outputs": [
    {
     "name": "stdout",
     "output_type": "stream",
     "text": [
      "Let me get the point data\n",
      "The filename is: ./shillong_SRTM30_UTM_chi_data_map.csv\n",
      "The object file prefix is: shillong_SRTM30_UTM_chi_data_map\n",
      "Loading your file from csv\n",
      "done\n",
      "The parameter names are\n",
      "['latitude', 'longitude', 'chi', 'elevation', 'flow_distance', 'drainage_area', 'source_key', 'basin_key']\n",
      "Your colourbar will be located: None\n",
      "xsize: 3182 and y size: 1950\n",
      "NoData is: -9999.0\n",
      "Yoyoyoyo the EPSG is :EPSG:32646\n",
      "EPSG:32646\n",
      "The EPSGString is: EPSG:32646\n",
      "minimum values are x: 325659.0 and y: 2777112.0\n",
      "I made the ticks.\n",
      "x labels are: \n",
      "['330', '340', '350', '360', '370', '380', '390', '400', '410']\n",
      "x locations are:\n",
      "[330000.0, 340000.0, 350000.0, 360000.0, 370000.0, 380000.0, 390000.0, 400000.0, 410000.0]\n",
      "y labels are: \n",
      "['2780', '2790', '2800', '2810', '2820', '2830']\n",
      "y locations are:\n",
      "[2780000.0, 2790000.0, 2800000.0, 2810000.0, 2820000.0, 2830000.0]\n",
      "This colourmap is: gray\n",
      "The number of axes are: 1\n",
      "Axes(0,0;1x1)\n",
      "Axes(0,0;1x1)\n",
      "N axes are: 1\n",
      "Axes(0,0;1x1)\n",
      "xsize: 3182 and y size: 1950\n",
      "NoData is: -9999.0\n",
      "Yoyoyoyo the EPSG is :EPSG:32646\n",
      "EPSG:32646\n",
      "The EPSGString is: EPSG:32646\n",
      "I am going to use the normalisation None\n",
      "I am using the full range of values in the raster.\n",
      "The number of axes are: 2\n",
      "I am going to plot some points for you. The EPSG string is:EPSG:32646\n",
      "pointtools GetUTMEastingNorthing, getting the epsg string: EPSG:32646\n",
      "WARNING you must have a recent (>=6) version of proj and pyproj (>=2.4) for this to work \n",
      "EPSG:32646\n",
      "I got the easting and northing\n",
      "I got the data column you wanted\n",
      "I also got the data for scaling, which is in column drainage_area\n",
      "The size of the array is: \n",
      "(46056,)\n",
      "I am going to convert data to log for point scaling.\n",
      "I logged (is it a verb?) your scaled data, the minimum is 5.954242509439325 and the maximum is 8.918873978335956 but all the values inferior to -10 will be -10\n",
      "I am scaling your points for you\n",
      "max is: 8.918873978335956 and min is: 5.954242509439325\n",
      "I have got a scaled point array,\n",
      "I will plot the points now.\n",
      "The colourmap is: gist_earth\n",
      "I will colour by the points\n",
      "The aspect ratio is: 1.6317948717948718\n",
      "I need to adjust the spacing of the colourbar.\n",
      "The cbar characters are: 0 and the cbar text width is: 0.4\n",
      "No colourbar\n",
      "The figure size is: \n",
      "[6.25, 4.036675047140163]\n",
      "Map axes are:\n",
      "[0.136, 0.16102361285199346, 0.8319999999999999, 0.789430660116624]\n",
      "cbar_axes are:\n",
      "None\n",
      "Number of axes are: 1\n",
      "I'm returning:\n",
      "Figure(625x403.668)\n"
     ]
    }
   ],
   "source": [
    "ChannelFileName = \"shillong_SRTM30_UTM_chi_data_map.csv\"\n",
    "channel_img = lsdmw.PrintChannels(DataDirectory,Base_file,ChannelFileName, \n",
    "                               cmap = \"gist_earth\",\n",
    "                               size_format = \"geomorphology\", dpi = 300, \n",
    "                               plotting_column = \"basin_key\", save_fig = False)"
   ]
  },
  {
   "cell_type": "code",
   "execution_count": 16,
   "metadata": {},
   "outputs": [],
   "source": [
    "channel_img.show()"
   ]
  },
  {
   "cell_type": "markdown",
   "metadata": {},
   "source": [
    "<img src=\"shillong_SRTM30_UTM_channels_coloured_by_basin.png\" width=600>"
   ]
  },
  {
   "cell_type": "markdown",
   "metadata": {},
   "source": [
    "Now show the basins and the channels"
   ]
  },
  {
   "cell_type": "code",
   "execution_count": 17,
   "metadata": {},
   "outputs": [
    {
     "name": "stdout",
     "output_type": "stream",
     "text": [
      "Basin keys are: \n",
      "[0, 1, 2, 3]\n",
      "I'm going to make the basin plots. Your topographic data must be in ENVI bil format or I'll break!!\n",
      "shillong_SRTM30_UTM_AllBasins.bil\n",
      "shillong_SRTM30_UTM_AllBasins.bil\n",
      "Let me grab the coordinate reference system.\n",
      "EPSG:32646\n",
      "I need to convert the crs to wkt format so it is resistant to stupid proj errors.\n",
      "ID is: 945.0\n",
      "ID is: 655.0\n",
      "ID is: 786.0\n",
      "ID is: 1536.0\n",
      "The object file prefix is: shillong_SRTM30_UTM_chi_data_map\n",
      "Loading your file from csv\n",
      "done\n",
      "I am showing the basins without text labels.\n",
      "Your colourbar will be located: None\n",
      "xsize: 3182 and y size: 1950\n",
      "NoData is: -9999.0\n",
      "Yoyoyoyo the EPSG is :EPSG:32646\n",
      "EPSG:32646\n",
      "The EPSGString is: EPSG:32646\n",
      "minimum values are x: 325659.0 and y: 2777112.0\n",
      "I made the ticks.\n",
      "x labels are: \n",
      "['330', '340', '350', '360', '370', '380', '390', '400', '410']\n",
      "x locations are:\n",
      "[330000.0, 340000.0, 350000.0, 360000.0, 370000.0, 380000.0, 390000.0, 400000.0, 410000.0]\n",
      "y labels are: \n",
      "['2780', '2790', '2800', '2810', '2820', '2830']\n",
      "y locations are:\n",
      "[2780000.0, 2790000.0, 2800000.0, 2810000.0, 2820000.0, 2830000.0]\n",
      "This colourmap is: gray\n",
      "The number of axes are: 1\n",
      "Axes(0,0;1x1)\n",
      "Axes(0,0;1x1)\n",
      "Plotting the polygon outlines...\n",
      "N axes are: 1\n",
      "Axes(0,0;1x1)\n",
      "xsize: 3182 and y size: 1950\n",
      "NoData is: -9999.0\n",
      "Yoyoyoyo the EPSG is :EPSG:32646\n",
      "EPSG:32646\n",
      "The EPSGString is: EPSG:32646\n",
      "I am going to use the normalisation None\n",
      "I am using the full range of values in the raster.\n",
      "The number of axes are: 2\n",
      "I am going to plot some points for you. The EPSG string is:EPSG:32646\n",
      "pointtools GetUTMEastingNorthing, getting the epsg string: EPSG:32646\n",
      "WARNING you must have a recent (>=6) version of proj and pyproj (>=2.4) for this to work \n",
      "EPSG:32646\n",
      "I got the easting and northing\n",
      "I got the data column you wanted\n",
      "I also got the data for scaling, which is in column drainage_area\n",
      "The size of the array is: \n",
      "(46056,)\n",
      "I am going to convert data to log for point scaling.\n",
      "I logged (is it a verb?) your scaled data, the minimum is 5.954242509439325 and the maximum is 8.918873978335956 but all the values inferior to -10 will be -10\n",
      "I am scaling your points for you\n",
      "max is: 8.918873978335956 and min is: 5.954242509439325\n",
      "I have got a scaled point array,\n",
      "I will plot the points now.\n",
      "The colourmap is: jet\n",
      "I will colour by the points\n",
      "The aspect ratio is: 1.6317948717948718\n",
      "I need to adjust the spacing of the colourbar.\n",
      "The cbar characters are: 0 and the cbar text width is: 0.4\n",
      "No colourbar\n",
      "The figure size is: \n",
      "[6.25, 4.036675047140163]\n",
      "Map axes are:\n",
      "[0.136, 0.16102361285199346, 0.8319999999999999, 0.789430660116624]\n",
      "cbar_axes are:\n",
      "None\n",
      "Number of axes are: 1\n",
      "I'm returning:\n",
      "Figure(625x403.668)\n"
     ]
    }
   ],
   "source": [
    "basin_img = lsdmw.PrintChannelsAndBasins(DataDirectory,Base_file,\n",
    "                                              add_basin_labels = True, \n",
    "                                              cmap = \"jet\",  \n",
    "                                              size_format = \"geomorphology\", dpi = 300, save_fig=False)"
   ]
  },
  {
   "cell_type": "code",
   "execution_count": 18,
   "metadata": {},
   "outputs": [],
   "source": [
    "basin_img.show()"
   ]
  },
  {
   "cell_type": "markdown",
   "metadata": {},
   "source": [
    "<img src=\"shillong_SRTM30_UTM_channels_with_basins.png\" width=800>"
   ]
  },
  {
   "cell_type": "code",
   "execution_count": 19,
   "metadata": {},
   "outputs": [
    {
     "name": "stdout",
     "output_type": "stream",
     "text": [
      "Basin keys are: \n",
      "[0, 1, 2, 3]\n",
      "I'm going to make the basin plots. Your topographic data must be in ENVI bil format or I'll break!!\n",
      "Your colourbar will be located: None\n",
      "xsize: 3182 and y size: 1950\n",
      "NoData is: -9999.0\n",
      "Yoyoyoyo the EPSG is :EPSG:32646\n",
      "EPSG:32646\n",
      "The EPSGString is: EPSG:32646\n",
      "minimum values are x: 325659.0 and y: 2777112.0\n",
      "I made the ticks.\n",
      "x labels are: \n",
      "['330', '340', '350', '360', '370', '380', '390', '400', '410']\n",
      "x locations are:\n",
      "[330000.0, 340000.0, 350000.0, 360000.0, 370000.0, 380000.0, 390000.0, 400000.0, 410000.0]\n",
      "y labels are: \n",
      "['2780', '2790', '2800', '2810', '2820', '2830']\n",
      "y locations are:\n",
      "[2780000.0, 2790000.0, 2800000.0, 2810000.0, 2820000.0, 2830000.0]\n",
      "This colourmap is: gray\n",
      "The number of axes are: 1\n",
      "Axes(0,0;1x1)\n",
      "Axes(0,0;1x1)\n",
      "shillong_SRTM30_UTM_AllBasins.bil\n",
      "Let me grab the coordinate reference system.\n",
      "EPSG:32646\n",
      "I need to convert the crs to wkt format so it is resistant to stupid proj errors.\n",
      "ID is: 945.0\n",
      "ID is: 655.0\n",
      "ID is: 786.0\n",
      "ID is: 1536.0\n",
      "The number of basins are: 4\n",
      "The number of points are: 4\n",
      "Plotting the polygons, colouring by basin...\n",
      "945.0 945\n",
      "655.0 655\n",
      "786.0 786\n",
      "1536.0 1536\n",
      "The aspect ratio is: 1.6317948717948718\n",
      "I need to adjust the spacing of the colourbar.\n",
      "The cbar characters are: 0 and the cbar text width is: 0.4\n",
      "No colourbar\n",
      "The figure size is: \n",
      "[6.25, 4.036675047140163]\n",
      "Map axes are:\n",
      "[0.136, 0.16102361285199346, 0.8319999999999999, 0.789430660116624]\n",
      "cbar_axes are:\n",
      "None\n",
      "Number of axes are: 1\n",
      "I'm returning:\n",
      "./shillong_SRTM30_UTM_selected_basins.png\n"
     ]
    }
   ],
   "source": [
    "basin2_img_name = lsdmw.PrintBasins_Complex(DataDirectory,Base_file,\n",
    "                                           use_keys_not_junctions = True, \n",
    "                                           show_colourbar = False,cmap = \"jet\", \n",
    "                                           colorbarlabel = \"colourbar\", size_format = \"geomorphology\",\n",
    "                                           fig_format = \"png\", dpi = 250, \n",
    "                                           include_channels = False, label_basins = True)"
   ]
  },
  {
   "cell_type": "markdown",
   "metadata": {},
   "source": [
    "<img src=\"shillong_SRTM30_UTM_selected_basins.png\" width=800>"
   ]
  },
  {
   "cell_type": "code",
   "execution_count": 33,
   "metadata": {},
   "outputs": [],
   "source": [
    "basin2_profile_name = lsdmw.SimpleProfile(DataDirectory,Base_file, size_format = \"ESURF\", fig_format = \"png\", dpi = 250, basin_key=[0], source_key=[0])"
   ]
  },
  {
   "cell_type": "code",
   "execution_count": 34,
   "metadata": {},
   "outputs": [
    {
     "name": "stdout",
     "output_type": "stream",
     "text": [
      "./shillong_SRTM30_UTM_profiles.png\n"
     ]
    }
   ],
   "source": [
    "print(basin2_profile_name)"
   ]
  },
  {
   "cell_type": "code",
   "execution_count": 35,
   "metadata": {},
   "outputs": [
    {
     "data": {
      "image/png": "[encoded data removed]",
      "text/plain": [
       "<IPython.core.display.Image object>"
      ]
     },
     "execution_count": 35,
     "metadata": {
      "image/png": {
       "width": 800
      }
     },
     "output_type": "execute_result"
    }
   ],
   "source": [
    "from IPython.display import Image\n",
    "Image(filename=basin2_profile_name,width=800) "
   ]
  },
  {
   "cell_type": "code",
   "execution_count": null,
   "metadata": {},
   "outputs": [],
   "source": []
  }
 ],
 "metadata": {
  "kernelspec": {
   "display_name": "Python 3 (ipykernel)",
   "language": "python",
   "name": "python3"
  },
  "language_info": {
   "codemirror_mode": {
    "name": "ipython",
    "version": 3
   },
   "file_extension": ".py",
   "mimetype": "text/x-python",
   "name": "python",
   "nbconvert_exporter": "python",
   "pygments_lexer": "ipython3",
   "version": "3.8.10"
  }
 },
 "nbformat": 4,
 "nbformat_minor": 4
}
